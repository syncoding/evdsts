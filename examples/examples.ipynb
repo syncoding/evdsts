{
 "cells": [
  {
   "cell_type": "markdown",
   "metadata": {},
   "source": [
    "##### Copyright (C) 2022 Burak ÇELİK"
   ]
  },
  {
   "cell_type": "code",
   "execution_count": null,
   "metadata": {},
   "outputs": [],
   "source": [
    "# Permission is hereby granted, free of charge, to any person obtaining a copy\n",
    "# of this software and associated documentation files (the \"Software\"), to deal\n",
    "# in the Software without restriction, including without limitation the rights\n",
    "# to use, copy, modify, merge, publish, distribute, sublicense, and/or sell\n",
    "# copies of the Software, and to permit persons to whom the Software is\n",
    "# furnished to do so, subject to the following conditions:\n",
    "\n",
    "# The above copyright notice and this permission notice shall be included in\n",
    "# all copies or substantial portions of the Software.\n",
    "\n",
    "# THE SOFTWARE IS PROVIDED \"AS IS\", WITHOUT WARRANTY OF ANY KIND, EXPRESS OR\n",
    "# IMPLIED, INCLUDING BUT NOT LIMITED TO THE WARRANTIES OF MERCHANTABILITY,\n",
    "# FITNESS FOR A PARTICULAR PURPOSE AND NONINFRINGEMENT. IN NO EVENT SHALL THE\n",
    "# AUTHORS OR COPYRIGHT HOLDERS BE LIABLE FOR ANY CLAIM, DAMAGES OR OTHER\n",
    "# LIABILITY, WHETHER IN AN ACTION OF CONTRACT, TORT OR OTHERWISE, ARISING FROM,\n",
    "# OUT OF OR IN CONNECTION WITH THE SOFTWARE OR THE USE OR OTHER DEALINGS IN\n",
    "# THE SOFTWARE."
   ]
  },
  {
   "cell_type": "markdown",
   "metadata": {},
   "source": [
    "## __Prerequisites__"
   ]
  },
  {
   "cell_type": "markdown",
   "metadata": {},
   "source": [
    "> __You need to install `evdsts` by running the cell below to use this application on Google Colab.__  \n",
    "\n",
    "> __You don't need to install the package if you have already installed `evdsts` on your current environment and you're currently on your local Jupyter Notebook.__"
   ]
  },
  {
   "cell_type": "code",
   "execution_count": null,
   "metadata": {},
   "outputs": [],
   "source": [
    "# test if the evdsts has already been installed if you're not sure.\n",
    "try:\n",
    "    import evdsts\n",
    "    print('evdsts has already been installed')\n",
    "except ModuleNotFoundError:\n",
    "    print('You need to intall evdsts by runing the cell above')\n",
    "except Exception as ex:\n",
    "    print('An unknown exception has been occured. Examine the output!')\n",
    "    raise ex"
   ]
  },
  {
   "cell_type": "code",
   "execution_count": null,
   "metadata": {},
   "outputs": [],
   "source": [
    "# installs evdsts in current environment if it's not already installed\n",
    "%pip install evdsts"
   ]
  },
  {
   "cell_type": "markdown",
   "metadata": {},
   "source": [
    "> __You need a unique API Key to use this example application. Please follow the instructions below if you\n",
    "> haven't got your API Key from EDDS,  yet.__"
   ]
  },
  {
   "cell_type": "markdown",
   "metadata": {},
   "source": [
    "1. Open EDDS website. [__EDDS__](https://evds2.tcmb.gov.tr/index.php?/evds/login)\n",
    "2. You can change the website language by clicking __`EN`__ on the upper right bar.\n",
    "3. Click __`SIGN UP`__ button on current page.\n",
    "4. Fill up the form with requested information and register.\n",
    "5. Check for incoming mails from the inbox that belongs to e-mail address you used for  \n",
    "   EDDS membership, and verify your e-mail address via the received e-mail.\n",
    "6. Open the same page and log into your account.\n",
    "7. Click on your username and then click __`Profile`__ on opened sliding menu.\n",
    "8. You can get your API key by clicking __`API Key`__ on newly opened page."
   ]
  },
  {
   "cell_type": "markdown",
   "metadata": {},
   "source": [
    "## __EVDSTS Example Cases__"
   ]
  },
  {
   "cell_type": "markdown",
   "metadata": {},
   "source": [
    "### 1. [__The Connector Basics__](https://github.com/syncoding/evdsts/blob/master/docs/manuals/manual_en.md#the-basics-1)"
   ]
  },
  {
   "cell_type": "markdown",
   "metadata": {},
   "source": [
    "Here, we'll have a look at some important features of the `Connector` class of the `evdsts`.\n",
    "`Connector` is responsible for all data retrieving operations from the EDDS."
   ]
  },
  {
   "cell_type": "markdown",
   "metadata": {},
   "source": [
    "#### 1.1. [__Importing the Connector and Creating an Instance__](https://github.com/syncoding/evdsts/blob/master/docs/manuals/manual_en.md#connector-instance)"
   ]
  },
  {
   "cell_type": "markdown",
   "metadata": {},
   "source": [
    "Firstly, you'll need to import `Connector` class into your project in order to retrieve data from\n",
    "EDDS using `evdsts`. \n"
   ]
  },
  {
   "cell_type": "code",
   "execution_count": 1,
   "metadata": {},
   "outputs": [],
   "source": [
    "from evdsts import Connector"
   ]
  },
  {
   "cell_type": "markdown",
   "metadata": {},
   "source": [
    "and then you'll need an instance of the `Connector` in order carry out retrieving processes."
   ]
  },
  {
   "cell_type": "code",
   "execution_count": 2,
   "metadata": {},
   "outputs": [],
   "source": [
    "connector = Connector('YOUR_API_KEY', language=\"EN\")"
   ]
  },
  {
   "cell_type": "markdown",
   "metadata": {},
   "source": [
    "You can `print` the `connector` object to see some information about it."
   ]
  },
  {
   "cell_type": "code",
   "execution_count": null,
   "metadata": {},
   "outputs": [],
   "source": [
    "connector  # This prints the API Key as well, therefore, haven't run deliberately."
   ]
  },
  {
   "cell_type": "markdown",
   "metadata": {},
   "source": [
    "Parameters you can specify while instantiation of the `Connector`:"
   ]
  },
  {
   "cell_type": "code",
   "execution_count": null,
   "metadata": {},
   "outputs": [],
   "source": [
    "# simple initialization\n",
    "connector = Connector('YOUR_API_KEY', language='EN')\n",
    "\n",
    "# Shows the url the connector tries to connect\n",
    "connector = Connector('YOUR_API_KEY', language='EN', show_links=True)\n",
    "\n",
    "# connection behind a proxy\n",
    "proxies = {\"http\": \"127.0.0.1\", \"https\": \"127.0.0.1\"}\n",
    "connector = Connector('YOUR_API_KEY', language='EN', proxy_server=proxies)\n",
    "\n",
    "# Disables SSL certificate verification for connected server\n",
    "connector = Connector('YOUR_API_KEY', language='EN', verify_certificates=False)\n",
    "\n",
    "# Jupyter Notebook mode for better screen representations on Jupyter. This only affects screen\n",
    "# representations, that is, has nothing to do with internal calculations.\n",
    "connector = Connector('YOUR_API_KEY', language='EN', jupyter_mode=True)\n",
    "\n",
    "# sets precision to 2 for all retrieved series. This affects both screen representation and also\n",
    "# internal calculations.\n",
    "connector = Connector('YOUR_API_KEY', language='EN', precision=2)"
   ]
  },
  {
   "cell_type": "markdown",
   "metadata": {},
   "source": [
    "#### 1.2. [__Saving Your API Key for Future Use__](https://github.com/syncoding/evdsts/blob/master/docs/manuals/manual_en.md#save-the-key)"
   ]
  },
  {
   "cell_type": "markdown",
   "metadata": {},
   "source": [
    "You don't need to use your API Key for everytime you start your application. You can save your api\n",
    "key on disk in order not to use the api key for further initializations of the `Connector`. You can\n",
    "use `save_key()` method to save your current key on disk."
   ]
  },
  {
   "cell_type": "code",
   "execution_count": null,
   "metadata": {},
   "outputs": [],
   "source": [
    "connector = Connector('YOUR_API_KEY', language='EN')\n",
    "connector.save_key()  # now you don't need to use your api key for your current project anymore."
   ]
  },
  {
   "cell_type": "markdown",
   "metadata": {},
   "source": [
    "you can instantiate a `Connector` class without using your api key once you save your key to disk."
   ]
  },
  {
   "cell_type": "code",
   "execution_count": 7,
   "metadata": {},
   "outputs": [],
   "source": [
    "connector = Connector(language='EN')  # your key is read from the disk here."
   ]
  },
  {
   "cell_type": "markdown",
   "metadata": {},
   "source": [
    "#### 1.3. [__Searching Into Database for Series Name Definition of EDDS__](https://github.com/syncoding/evdsts/blob/master/docs/manuals/manual_en.md#searching-into-database)"
   ]
  },
  {
   "cell_type": "markdown",
   "metadata": {},
   "source": [
    "You don't need to visit the EDDS website to find out what is the name identification of the EDDS\n",
    "for the series you would like to retrieve. You can search series names by keywords without leaving\n",
    "the `evdsts` thanks to `where()` method."
   ]
  },
  {
   "cell_type": "code",
   "execution_count": 100,
   "metadata": {},
   "outputs": [
    {
     "name": "stdout",
     "output_type": "stream",
     "text": [
      "5 most relevant results for 'consumer price index' are shown below.\n",
      "\n",
      "                                                 Search Results                                                 \n",
      "----------------------------------------------------------------------------------------------------------------\n",
      "Series Code          Series Name                                                     Frequency        Start Date \n",
      "----------------------------------------------------------------------------------------------------------------\n",
      "TP.FE.OKTG01         Consumer Price Index                                            MONTHLY          01-01-2003 \n",
      "TP.MK.F.BILESIK.TUM  (PRICE INDICES) BIST All Shares-100 Index (XTUMY), According to BUSINESS DAILY   02-01-2009 \n",
      "TP.MK.G.BILESIK.TUM  (RETURN INDICES) BIST All Shares-100 Index (XTUMY_CFNNTLTL), Ac BUSINESS DAILY   02-01-2009 \n",
      "TP.FG.T63            Istanbul Wholesale Price Index (1963=100)(ICC)                  MONTHLY          01-01-1963 \n",
      "TP.FG.T68            Istanbul Wholesale Price Index (1968=100)(ICC)                  MONTHLY          01-01-1968 \n",
      "----------------------------------------------------------------------------------------------------------------\n"
     ]
    }
   ],
   "source": [
    "connector = Connector(language=\"EN\")    # Assuming you have already saved your API Key on disk.\n",
    "connector.where(\"consumer price index\"); # search takes around 0.5 seconds."
   ]
  },
  {
   "cell_type": "markdown",
   "metadata": {},
   "source": [
    "`Series Code` column above gives you the series identification you need for retrieving the consumer price index series.\n",
    "This output is returned as a `Dict` without any truncation on results which can be assigned into a veriable."
   ]
  },
  {
   "cell_type": "code",
   "execution_count": 101,
   "metadata": {},
   "outputs": [],
   "source": [
    "# all search results are assigned to 'all_results' variable without any truncation. This is a\n",
    "# dictionary mades up of Dict[Series Code, List[Series Name, Series Frequency, Series Start Date]]\n",
    "\n",
    "all_results = connector.where(\"consumer price index\", verbose=False)"
   ]
  },
  {
   "cell_type": "code",
   "execution_count": 102,
   "metadata": {},
   "outputs": [
    {
     "name": "stdout",
     "output_type": "stream",
     "text": [
      "{'TP.FE.OKTG01': ['Consumer Price Index', 'MONTHLY', '01-01-2003'],\n",
      " 'TP.FG.T63': ['Istanbul Wholesale Price Index (1963=100)(ICC)',\n",
      "               'MONTHLY',\n",
      "               '01-01-1963'],\n",
      " 'TP.FG.T68': ['Istanbul Wholesale Price Index (1968=100)(ICC)',\n",
      "               'MONTHLY',\n",
      "               '01-01-1968'],\n",
      " 'TP.MK.F.BILESIK.TUM': ['(PRICE INDICES) BIST All Shares-100 Index (XTUMY), '\n",
      "                         'According to Closing Price',\n",
      "                         'BUSINESS DAILY',\n",
      "                         '02-01-2009'],\n",
      " 'TP.MK.G.BILESIK.TUM': ['(RETURN INDICES) BIST All Shares-100 Index '\n",
      "                         '(XTUMY_CFNNTLTL), According to Closing Price',\n",
      "                         'BUSINESS DAILY',\n",
      "                         '02-01-2009']}\n"
     ]
    }
   ],
   "source": [
    "from pprint import pprint # for a better representing of a Dict object\n",
    "pprint(all_results)"
   ]
  },
  {
   "cell_type": "markdown",
   "metadata": {},
   "source": [
    "for another example;"
   ]
  },
  {
   "cell_type": "code",
   "execution_count": 106,
   "metadata": {},
   "outputs": [
    {
     "name": "stdout",
     "output_type": "stream",
     "text": [
      "5 most relevant results for 'bank fx deposits' are shown below.\n",
      "\n",
      "                                                 Search Results                                                 \n",
      "----------------------------------------------------------------------------------------------------------------\n",
      "Series Code          Series Name                                                     Frequency        Start Date \n",
      "----------------------------------------------------------------------------------------------------------------\n",
      "TP.AB.N22            3C-FX Deposits of Non-bank Sector(Thousand TRY)                 WEEKLY (FRIDAY)  04-01-2002 \n",
      "TP.AB.A14            P.1bb-FX Deposits of Banking Sector(Thousand TRY)               BUSINESS DAILY   26-12-1980 \n",
      "TP.AB.N09            2A2a-FX Deposits of Banking Sector(Thousand TRY)                WEEKLY (FRIDAY)  04-01-2002 \n",
      "TP.BL092             P331.FX Deposits by Citizens Abroad FX(Thousand TRY)            WEEKLY (FRIDAY)  11-11-2011 \n",
      "TP.BL092.A           P331.FX Deposits by Citizens Abroad FX(Thousand TRY)            MONTHLY          01-01-2013 \n",
      "----------------------------------------------------------------------------------------------------------------\n"
     ]
    }
   ],
   "source": [
    "connector.where('bank fx deposits');"
   ]
  },
  {
   "cell_type": "markdown",
   "metadata": {},
   "source": [
    "#### 1.4. [__Listing Main Data Categories on EDDS__](https://github.com/syncoding/evdsts/blob/master/docs/manuals/manual_en.md#listing-main-cat)"
   ]
  },
  {
   "cell_type": "markdown",
   "metadata": {},
   "source": [
    "You can use `get_main_categories()` method to retrieve main data categories of all data which are\n",
    "stored in EDDS database. The returned type defaults to pandas `DataFrame`, however, you can get the\n",
    "main categories in a `Dict` or as `json` format if you prefer to."
   ]
  },
  {
   "cell_type": "code",
   "execution_count": 28,
   "metadata": {},
   "outputs": [],
   "source": [
    "main_categories = connector.get_main_categories()"
   ]
  },
  {
   "cell_type": "code",
   "execution_count": 29,
   "metadata": {},
   "outputs": [
    {
     "data": {
      "text/html": [
       "<div>\n",
       "<style scoped>\n",
       "    .dataframe tbody tr th:only-of-type {\n",
       "        vertical-align: middle;\n",
       "    }\n",
       "\n",
       "    .dataframe tbody tr th {\n",
       "        vertical-align: top;\n",
       "    }\n",
       "\n",
       "    .dataframe thead th {\n",
       "        text-align: right;\n",
       "    }\n",
       "</style>\n",
       "<table border=\"1\" class=\"dataframe\">\n",
       "  <thead>\n",
       "    <tr style=\"text-align: right;\">\n",
       "      <th></th>\n",
       "      <th>CATEGORY_ID</th>\n",
       "      <th>TOPIC_TITLE_ENG</th>\n",
       "    </tr>\n",
       "    <tr>\n",
       "      <th>Index</th>\n",
       "      <th></th>\n",
       "      <th></th>\n",
       "    </tr>\n",
       "  </thead>\n",
       "  <tbody>\n",
       "    <tr>\n",
       "      <th>0</th>\n",
       "      <td>1</td>\n",
       "      <td>MARKET STATISTICS</td>\n",
       "    </tr>\n",
       "    <tr>\n",
       "      <th>1</th>\n",
       "      <td>2</td>\n",
       "      <td>EXCHANGE RATES</td>\n",
       "    </tr>\n",
       "    <tr>\n",
       "      <th>2</th>\n",
       "      <td>3</td>\n",
       "      <td>INTEREST RATES</td>\n",
       "    </tr>\n",
       "    <tr>\n",
       "      <th>3</th>\n",
       "      <td>4</td>\n",
       "      <td>MONEY AND BANKING STATISTICS</td>\n",
       "    </tr>\n",
       "    <tr>\n",
       "      <th>4</th>\n",
       "      <td>5</td>\n",
       "      <td>WEEKLY SECURITIES STATISTICS</td>\n",
       "    </tr>\n",
       "    <tr>\n",
       "      <th>5</th>\n",
       "      <td>12</td>\n",
       "      <td>FINANCIAL STATISTICS</td>\n",
       "    </tr>\n",
       "    <tr>\n",
       "      <th>6</th>\n",
       "      <td>13</td>\n",
       "      <td>CBRT BALANCE SHEET DATA</td>\n",
       "    </tr>\n",
       "    <tr>\n",
       "      <th>7</th>\n",
       "      <td>14</td>\n",
       "      <td>PRICE INDICES</td>\n",
       "    </tr>\n",
       "    <tr>\n",
       "      <th>8</th>\n",
       "      <td>15</td>\n",
       "      <td>SURVEYS</td>\n",
       "    </tr>\n",
       "    <tr>\n",
       "      <th>9</th>\n",
       "      <td>18</td>\n",
       "      <td>BALANCE OF PAYMENTS INTERNATIONAL INVESTMENT P...</td>\n",
       "    </tr>\n",
       "    <tr>\n",
       "      <th>10</th>\n",
       "      <td>19</td>\n",
       "      <td>FOREIGN TRADE STATISTICS</td>\n",
       "    </tr>\n",
       "    <tr>\n",
       "      <th>11</th>\n",
       "      <td>20</td>\n",
       "      <td>PUBLIC FINANCE</td>\n",
       "    </tr>\n",
       "    <tr>\n",
       "      <th>12</th>\n",
       "      <td>21</td>\n",
       "      <td>PRODUCTION STATISTICS</td>\n",
       "    </tr>\n",
       "    <tr>\n",
       "      <th>13</th>\n",
       "      <td>22</td>\n",
       "      <td>PAYMENT SYSTEMS AND EMISSION</td>\n",
       "    </tr>\n",
       "    <tr>\n",
       "      <th>14</th>\n",
       "      <td>23</td>\n",
       "      <td>EMPLOYMENT STATISTICS</td>\n",
       "    </tr>\n",
       "    <tr>\n",
       "      <th>15</th>\n",
       "      <td>6</td>\n",
       "      <td>EXTERNAL DEBT</td>\n",
       "    </tr>\n",
       "    <tr>\n",
       "      <th>16</th>\n",
       "      <td>7</td>\n",
       "      <td>DEPOSITS AND PARTICIPATION FUNDS SUBJECT TO RE...</td>\n",
       "    </tr>\n",
       "    <tr>\n",
       "      <th>17</th>\n",
       "      <td>24</td>\n",
       "      <td>BIS COMPARATIVE COUNTRY STATISTICS</td>\n",
       "    </tr>\n",
       "    <tr>\n",
       "      <th>18</th>\n",
       "      <td>25</td>\n",
       "      <td>GOLD STATISTICS</td>\n",
       "    </tr>\n",
       "    <tr>\n",
       "      <th>19</th>\n",
       "      <td>26</td>\n",
       "      <td>HOUSING AND CONSTRUCTION STATISTICS</td>\n",
       "    </tr>\n",
       "    <tr>\n",
       "      <th>20</th>\n",
       "      <td>27</td>\n",
       "      <td>FINANCIAL ACCOUNTS</td>\n",
       "    </tr>\n",
       "    <tr>\n",
       "      <th>21</th>\n",
       "      <td>28</td>\n",
       "      <td>TOURISM STATISTICS</td>\n",
       "    </tr>\n",
       "    <tr>\n",
       "      <th>22</th>\n",
       "      <td>95</td>\n",
       "      <td>EVDS USAGE STATISTICS</td>\n",
       "    </tr>\n",
       "  </tbody>\n",
       "</table>\n",
       "</div>"
      ],
      "text/plain": [
       "       CATEGORY_ID                                    TOPIC_TITLE_ENG\n",
       "Index                                                                \n",
       "0                1                                  MARKET STATISTICS\n",
       "1                2                                     EXCHANGE RATES\n",
       "2                3                                     INTEREST RATES\n",
       "3                4                       MONEY AND BANKING STATISTICS\n",
       "4                5                       WEEKLY SECURITIES STATISTICS\n",
       "5               12                               FINANCIAL STATISTICS\n",
       "6               13                            CBRT BALANCE SHEET DATA\n",
       "7               14                                      PRICE INDICES\n",
       "8               15                                            SURVEYS\n",
       "9               18  BALANCE OF PAYMENTS INTERNATIONAL INVESTMENT P...\n",
       "10              19                           FOREIGN TRADE STATISTICS\n",
       "11              20                                     PUBLIC FINANCE\n",
       "12              21                              PRODUCTION STATISTICS\n",
       "13              22                       PAYMENT SYSTEMS AND EMISSION\n",
       "14              23                              EMPLOYMENT STATISTICS\n",
       "15               6                                      EXTERNAL DEBT\n",
       "16               7  DEPOSITS AND PARTICIPATION FUNDS SUBJECT TO RE...\n",
       "17              24                 BIS COMPARATIVE COUNTRY STATISTICS\n",
       "18              25                                    GOLD STATISTICS\n",
       "19              26                HOUSING AND CONSTRUCTION STATISTICS\n",
       "20              27                                 FINANCIAL ACCOUNTS\n",
       "21              28                                 TOURISM STATISTICS\n",
       "22              95                              EVDS USAGE STATISTICS"
      ]
     },
     "execution_count": 29,
     "metadata": {},
     "output_type": "execute_result"
    }
   ],
   "source": [
    "main_categories"
   ]
  },
  {
   "cell_type": "markdown",
   "metadata": {},
   "source": [
    "Main categories can be also requested as processed Python dictionaries or JSON strings. You can set\n",
    "`as_dict` flag `True`to get the retrieved data in `Dict` type, or similarly, you can use `raw` flag\n",
    "to get the main categories as a JSON string."
   ]
  },
  {
   "cell_type": "code",
   "execution_count": 22,
   "metadata": {},
   "outputs": [],
   "source": [
    "# dictionary\n",
    "main_dict = connector.get_main_categories(as_dict=True)\n",
    "\n",
    "# JSON string\n",
    "main_raw = connector.get_main_categories(raw=True)"
   ]
  },
  {
   "cell_type": "code",
   "execution_count": 23,
   "metadata": {},
   "outputs": [
    {
     "data": {
      "text/plain": [
       "{1: 'MARKET STATISTICS',\n",
       " 2: 'EXCHANGE RATES',\n",
       " 3: 'INTEREST RATES',\n",
       " 4: 'MONEY AND BANKING STATISTICS',\n",
       " 5: 'WEEKLY SECURITIES STATISTICS',\n",
       " 12: 'FINANCIAL STATISTICS',\n",
       " 13: 'CBRT BALANCE SHEET DATA',\n",
       " 14: 'PRICE INDICES',\n",
       " 15: 'SURVEYS',\n",
       " 18: 'BALANCE OF PAYMENTS INTERNATIONAL INVESTMENT POSITION',\n",
       " 19: 'FOREIGN TRADE STATISTICS',\n",
       " 20: 'PUBLIC FINANCE',\n",
       " 21: 'PRODUCTION STATISTICS',\n",
       " 22: 'PAYMENT SYSTEMS AND EMISSION',\n",
       " 23: 'EMPLOYMENT STATISTICS',\n",
       " 6: 'EXTERNAL DEBT',\n",
       " 7: 'DEPOSITS AND PARTICIPATION FUNDS SUBJECT TO REQUIRED RESERVES',\n",
       " 24: 'BIS COMPARATIVE COUNTRY STATISTICS',\n",
       " 25: 'GOLD STATISTICS',\n",
       " 26: 'HOUSING AND CONSTRUCTION STATISTICS',\n",
       " 27: 'FINANCIAL ACCOUNTS',\n",
       " 28: 'TOURISM STATISTICS',\n",
       " 95: 'EVDS USAGE STATISTICS'}"
      ]
     },
     "execution_count": 23,
     "metadata": {},
     "output_type": "execute_result"
    }
   ],
   "source": [
    "main_dict"
   ]
  },
  {
   "cell_type": "code",
   "execution_count": 26,
   "metadata": {},
   "outputs": [
    {
     "data": {
      "text/plain": [
       "'{\"1\": \"MARKET STATISTICS\", \"2\": \"EXCHANGE RATES\", \"3\": \"INTEREST RATES\", \"4\": \"MONEY AND BANKING STATISTICS\", \"5\": \"WEEKLY SECURITIES STATISTICS\", \"12\": \"FINANCIAL STATISTICS\", \"13\": \"CBRT BALANCE SHEET DATA\", \"14\": \"PRICE INDICES\", \"15\": \"SURVEYS\", \"18\": \"BALANCE OF PAYMENTS INTERNATIONAL INVESTMENT POSITION\", \"19\": \"FOREIGN TRADE STATISTICS\", \"20\": \"PUBLIC FINANCE\", \"21\": \"PRODUCTION STATISTICS\", \"22\": \"PAYMENT SYSTEMS AND EMISSION\", \"23\": \"EMPLOYMENT STATISTICS\", \"6\": \"EXTERNAL DEBT\", \"7\": \"DEPOSITS AND PARTICIPATION FUNDS SUBJECT TO REQUIRED RESERVES\", \"24\": \"BIS COMPARATIVE COUNTRY STATISTICS\", \"25\": \"GOLD STATISTICS\", \"26\": \"HOUSING AND CONSTRUCTION STATISTICS\", \"27\": \"FINANCIAL ACCOUNTS\", \"28\": \"TOURISM STATISTICS\", \"95\": \"EVDS USAGE STATISTICS\"}'"
      ]
     },
     "execution_count": 26,
     "metadata": {},
     "output_type": "execute_result"
    }
   ],
   "source": [
    "main_raw"
   ]
  },
  {
   "cell_type": "markdown",
   "metadata": {},
   "source": [
    "#### 1.5. [__Listing Sub-Categories in Main Categories__](https://github.com/syncoding/evdsts/blob/master/docs/manuals/manual_en.md#listing-sub-cat)"
   ]
  },
  {
   "cell_type": "markdown",
   "metadata": {},
   "source": [
    "sub-categories can be listed by supplying main category IDs or main category names to the\n",
    "`get_sub_categories()` method. sub-categories are returned as pandas `DataFrames` in its default\n",
    "setting, however, you can get the sub-categories in a `dict` or as `json` format if you prefer to."
   ]
  },
  {
   "cell_type": "markdown",
   "metadata": {},
   "source": [
    "Here is how to call sub-categories belong to main category `EXCHANGE RATES` using the main category ID."
   ]
  },
  {
   "cell_type": "code",
   "execution_count": 27,
   "metadata": {},
   "outputs": [],
   "source": [
    "# (2 = EXCHANGE RATES) according to Category ID section of main categories table.\n",
    "exchange_rates_sub = connector.get_sub_categories(2)"
   ]
  },
  {
   "cell_type": "code",
   "execution_count": 30,
   "metadata": {},
   "outputs": [
    {
     "data": {
      "text/html": [
       "<div>\n",
       "<style scoped>\n",
       "    .dataframe tbody tr th:only-of-type {\n",
       "        vertical-align: middle;\n",
       "    }\n",
       "\n",
       "    .dataframe tbody tr th {\n",
       "        vertical-align: top;\n",
       "    }\n",
       "\n",
       "    .dataframe thead th {\n",
       "        text-align: right;\n",
       "    }\n",
       "</style>\n",
       "<table border=\"1\" class=\"dataframe\">\n",
       "  <thead>\n",
       "    <tr style=\"text-align: right;\">\n",
       "      <th></th>\n",
       "      <th>DATAGROUP_CODE</th>\n",
       "      <th>CATEGORY_ID</th>\n",
       "      <th>DATAGROUP_NAME_ENG</th>\n",
       "      <th>FREQUENCY_STR</th>\n",
       "      <th>START_DATE</th>\n",
       "      <th>END_DATE</th>\n",
       "    </tr>\n",
       "  </thead>\n",
       "  <tbody>\n",
       "    <tr>\n",
       "      <th>0</th>\n",
       "      <td>bie_dkdovytl</td>\n",
       "      <td>2</td>\n",
       "      <td>Exchange Rates</td>\n",
       "      <td>DAILY</td>\n",
       "      <td>1950-01-02</td>\n",
       "      <td>2022-08-22</td>\n",
       "    </tr>\n",
       "    <tr>\n",
       "      <th>1</th>\n",
       "      <td>bie_dkefkytl</td>\n",
       "      <td>2</td>\n",
       "      <td>Exchange Rates-Banknotes</td>\n",
       "      <td>DAILY</td>\n",
       "      <td>1990-01-02</td>\n",
       "      <td>2022-08-22</td>\n",
       "    </tr>\n",
       "    <tr>\n",
       "      <th>2</th>\n",
       "      <td>bie_dkkurbil</td>\n",
       "      <td>2</td>\n",
       "      <td>Informative Exchange Rates of Selected Currenc...</td>\n",
       "      <td>DAILY</td>\n",
       "      <td>2009-04-02</td>\n",
       "      <td>2021-12-21</td>\n",
       "    </tr>\n",
       "    <tr>\n",
       "      <th>3</th>\n",
       "      <td>bie_rktufey</td>\n",
       "      <td>2</td>\n",
       "      <td>Exchange Rates-CPI Based Real Effective Exchan...</td>\n",
       "      <td>MONTHLY</td>\n",
       "      <td>1994-01-01</td>\n",
       "      <td>2022-07-01</td>\n",
       "    </tr>\n",
       "    <tr>\n",
       "      <th>4</th>\n",
       "      <td>bie_rkufey</td>\n",
       "      <td>2</td>\n",
       "      <td>Exchange Rates-Domestic-PPI Based Real Effecti...</td>\n",
       "      <td>MONTHLY</td>\n",
       "      <td>1994-01-01</td>\n",
       "      <td>2022-07-01</td>\n",
       "    </tr>\n",
       "    <tr>\n",
       "      <th>5</th>\n",
       "      <td>bie_redkurigm</td>\n",
       "      <td>2</td>\n",
       "      <td>Exchange Rates-Unit Labor Cost Based Real Effe...</td>\n",
       "      <td>YEARLY</td>\n",
       "      <td>2003-01-01</td>\n",
       "      <td>2021-01-01</td>\n",
       "    </tr>\n",
       "  </tbody>\n",
       "</table>\n",
       "</div>"
      ],
      "text/plain": [
       "  DATAGROUP_CODE  CATEGORY_ID  \\\n",
       "0   bie_dkdovytl            2   \n",
       "1   bie_dkefkytl            2   \n",
       "2   bie_dkkurbil            2   \n",
       "3    bie_rktufey            2   \n",
       "4     bie_rkufey            2   \n",
       "5  bie_redkurigm            2   \n",
       "\n",
       "                                  DATAGROUP_NAME_ENG FREQUENCY_STR START_DATE  \\\n",
       "0                                     Exchange Rates         DAILY 1950-01-02   \n",
       "1                           Exchange Rates-Banknotes         DAILY 1990-01-02   \n",
       "2  Informative Exchange Rates of Selected Currenc...         DAILY 2009-04-02   \n",
       "3  Exchange Rates-CPI Based Real Effective Exchan...       MONTHLY 1994-01-01   \n",
       "4  Exchange Rates-Domestic-PPI Based Real Effecti...       MONTHLY 1994-01-01   \n",
       "5  Exchange Rates-Unit Labor Cost Based Real Effe...        YEARLY 2003-01-01   \n",
       "\n",
       "    END_DATE  \n",
       "0 2022-08-22  \n",
       "1 2022-08-22  \n",
       "2 2021-12-21  \n",
       "3 2022-07-01  \n",
       "4 2022-07-01  \n",
       "5 2021-01-01  "
      ]
     },
     "execution_count": 30,
     "metadata": {},
     "output_type": "execute_result"
    }
   ],
   "source": [
    "exchange_rates_sub"
   ]
  },
  {
   "cell_type": "markdown",
   "metadata": {},
   "source": [
    "Or you can use category names directly to call sub-categories. __Please note that the process is case-sensitive, therefore, the category names must be used exactly as appeared in main categories.__"
   ]
  },
  {
   "cell_type": "code",
   "execution_count": 31,
   "metadata": {},
   "outputs": [],
   "source": [
    "exchange_rates_sub = connector.get_sub_categories(\"EXCHANGE RATES\")"
   ]
  },
  {
   "cell_type": "code",
   "execution_count": 32,
   "metadata": {},
   "outputs": [
    {
     "data": {
      "text/html": [
       "<div>\n",
       "<style scoped>\n",
       "    .dataframe tbody tr th:only-of-type {\n",
       "        vertical-align: middle;\n",
       "    }\n",
       "\n",
       "    .dataframe tbody tr th {\n",
       "        vertical-align: top;\n",
       "    }\n",
       "\n",
       "    .dataframe thead th {\n",
       "        text-align: right;\n",
       "    }\n",
       "</style>\n",
       "<table border=\"1\" class=\"dataframe\">\n",
       "  <thead>\n",
       "    <tr style=\"text-align: right;\">\n",
       "      <th></th>\n",
       "      <th>DATAGROUP_CODE</th>\n",
       "      <th>CATEGORY_ID</th>\n",
       "      <th>DATAGROUP_NAME_ENG</th>\n",
       "      <th>FREQUENCY_STR</th>\n",
       "      <th>START_DATE</th>\n",
       "      <th>END_DATE</th>\n",
       "    </tr>\n",
       "  </thead>\n",
       "  <tbody>\n",
       "    <tr>\n",
       "      <th>0</th>\n",
       "      <td>bie_dkdovytl</td>\n",
       "      <td>2</td>\n",
       "      <td>Exchange Rates</td>\n",
       "      <td>DAILY</td>\n",
       "      <td>1950-01-02</td>\n",
       "      <td>2022-08-22</td>\n",
       "    </tr>\n",
       "    <tr>\n",
       "      <th>1</th>\n",
       "      <td>bie_dkefkytl</td>\n",
       "      <td>2</td>\n",
       "      <td>Exchange Rates-Banknotes</td>\n",
       "      <td>DAILY</td>\n",
       "      <td>1990-01-02</td>\n",
       "      <td>2022-08-22</td>\n",
       "    </tr>\n",
       "    <tr>\n",
       "      <th>2</th>\n",
       "      <td>bie_dkkurbil</td>\n",
       "      <td>2</td>\n",
       "      <td>Informative Exchange Rates of Selected Currenc...</td>\n",
       "      <td>DAILY</td>\n",
       "      <td>2009-04-02</td>\n",
       "      <td>2021-12-21</td>\n",
       "    </tr>\n",
       "    <tr>\n",
       "      <th>3</th>\n",
       "      <td>bie_rktufey</td>\n",
       "      <td>2</td>\n",
       "      <td>Exchange Rates-CPI Based Real Effective Exchan...</td>\n",
       "      <td>MONTHLY</td>\n",
       "      <td>1994-01-01</td>\n",
       "      <td>2022-07-01</td>\n",
       "    </tr>\n",
       "    <tr>\n",
       "      <th>4</th>\n",
       "      <td>bie_rkufey</td>\n",
       "      <td>2</td>\n",
       "      <td>Exchange Rates-Domestic-PPI Based Real Effecti...</td>\n",
       "      <td>MONTHLY</td>\n",
       "      <td>1994-01-01</td>\n",
       "      <td>2022-07-01</td>\n",
       "    </tr>\n",
       "    <tr>\n",
       "      <th>5</th>\n",
       "      <td>bie_redkurigm</td>\n",
       "      <td>2</td>\n",
       "      <td>Exchange Rates-Unit Labor Cost Based Real Effe...</td>\n",
       "      <td>YEARLY</td>\n",
       "      <td>2003-01-01</td>\n",
       "      <td>2021-01-01</td>\n",
       "    </tr>\n",
       "  </tbody>\n",
       "</table>\n",
       "</div>"
      ],
      "text/plain": [
       "  DATAGROUP_CODE  CATEGORY_ID  \\\n",
       "0   bie_dkdovytl            2   \n",
       "1   bie_dkefkytl            2   \n",
       "2   bie_dkkurbil            2   \n",
       "3    bie_rktufey            2   \n",
       "4     bie_rkufey            2   \n",
       "5  bie_redkurigm            2   \n",
       "\n",
       "                                  DATAGROUP_NAME_ENG FREQUENCY_STR START_DATE  \\\n",
       "0                                     Exchange Rates         DAILY 1950-01-02   \n",
       "1                           Exchange Rates-Banknotes         DAILY 1990-01-02   \n",
       "2  Informative Exchange Rates of Selected Currenc...         DAILY 2009-04-02   \n",
       "3  Exchange Rates-CPI Based Real Effective Exchan...       MONTHLY 1994-01-01   \n",
       "4  Exchange Rates-Domestic-PPI Based Real Effecti...       MONTHLY 1994-01-01   \n",
       "5  Exchange Rates-Unit Labor Cost Based Real Effe...        YEARLY 2003-01-01   \n",
       "\n",
       "    END_DATE  \n",
       "0 2022-08-22  \n",
       "1 2022-08-22  \n",
       "2 2021-12-21  \n",
       "3 2022-07-01  \n",
       "4 2022-07-01  \n",
       "5 2021-01-01  "
      ]
     },
     "execution_count": 32,
     "metadata": {},
     "output_type": "execute_result"
    }
   ],
   "source": [
    "exchange_rates_sub"
   ]
  },
  {
   "cell_type": "markdown",
   "metadata": {},
   "source": [
    "other options are;"
   ]
  },
  {
   "cell_type": "code",
   "execution_count": 33,
   "metadata": {},
   "outputs": [],
   "source": [
    "# as dictionary\n",
    "sub_dict = connector.get_sub_categories(\"PRODUCTION STATISTICS\", as_dict=True)\n",
    "\n",
    "# as raw JSON\n",
    "sub_raw = connector.get_sub_categories(\"PRODUCTION STATISTICS\", raw=True)\n",
    "\n",
    "# as a more detailed version of DataFrame that includes all information on EDDS\n",
    "sub_detailed = connector.get_sub_categories(\"PRODUCTION STATISTICS\", verbose=True)\n",
    "\n",
    "# and a combined version of above\n",
    "rates_all = connector.get_sub_categories(\"EXCHANGE RATES\", as_dict=True, verbose=True)"
   ]
  },
  {
   "cell_type": "markdown",
   "metadata": {},
   "source": [
    "Let's import `pprint` to represents `Dict` objects in a better way."
   ]
  },
  {
   "cell_type": "code",
   "execution_count": 35,
   "metadata": {},
   "outputs": [],
   "source": [
    "from pprint import pprint"
   ]
  },
  {
   "cell_type": "code",
   "execution_count": 36,
   "metadata": {},
   "outputs": [
    {
     "name": "stdout",
     "output_type": "stream",
     "text": [
      "{'bie_ackap2': [21,\n",
      "                'Firms Statistics-Newly Established and Liquidated (TOBB)',\n",
      "                'MONTHLY',\n",
      "                datetime.date(2010, 1, 1),\n",
      "                datetime.date(2022, 7, 1)],\n",
      " 'bie_cli2': [21,\n",
      "              'Composite Leading Indicator (MBONCU-SUE)',\n",
      "              'MONTHLY',\n",
      "              datetime.date(1987, 12, 1),\n",
      "              datetime.date(2022, 7, 1)],\n",
      " 'bie_elektuketim': [21,\n",
      "                     'Turkey, Electricity (Production, Consumption, Exports, '\n",
      "                     'Imports) (MWh)',\n",
      "                     'DAILY',\n",
      "                     datetime.date(2016, 1, 1),\n",
      "                     datetime.date(2022, 8, 14)],\n",
      " 'bie_gsyhgycf': [21,\n",
      "                  'GDP by Income Approach-Current Prices (TURKSTAT)(TRY '\n",
      "                  'Thousand)',\n",
      "                  'QUARTERLY',\n",
      "                  datetime.date(1998, 1, 1),\n",
      "                  datetime.date(2022, 1, 1)],\n",
      " 'bie_gsyhhycf': [21,\n",
      "                  'GDP by Expenditure Approach-Current Prices (TURKSTAT)(TRY '\n",
      "                  'Thousand)',\n",
      "                  'QUARTERLY',\n",
      "                  datetime.date(1998, 1, 1),\n",
      "                  datetime.date(2022, 1, 1)],\n",
      " 'bie_gsyhhyhe': [21,\n",
      "                  'GDP in Chain Linked Volume by Expenditure Approach '\n",
      "                  '(TURKSTAT)(TRY Thousand)',\n",
      "                  'QUARTERLY',\n",
      "                  datetime.date(1998, 1, 1),\n",
      "                  datetime.date(2022, 1, 1)],\n",
      " 'bie_gsyhifkcf': [21,\n",
      "                   'GDP by Kind of Economic Activity (A10)-Current Prices '\n",
      "                   '(TURKSTAT)(TRY Thousand)',\n",
      "                   'QUARTERLY',\n",
      "                   datetime.date(1998, 1, 1),\n",
      "                   datetime.date(2022, 1, 1)],\n",
      " 'bie_gsyhifkhe': [21,\n",
      "                   'GDP in Chain Linked Volume by Kind of Economic Activity '\n",
      "                   '(A10)(TURKSTAT)(TRY Thousand)',\n",
      "                   'QUARTERLY',\n",
      "                   datetime.date(1998, 1, 1),\n",
      "                   datetime.date(2022, 1, 1)],\n",
      " 'bie_kko2': [21,\n",
      "              'Capacity Utilization Rate of Manufacturing Industry (%) (NACE '\n",
      "              'REV.2)',\n",
      "              'MONTHLY',\n",
      "              datetime.date(2007, 1, 1),\n",
      "              datetime.date(2022, 7, 1)],\n",
      " 'bie_kkoisma': [21,\n",
      "                 'Capacity Utilization Rate of Manufacturing '\n",
      "                 'Industry-Seasonally Adjusted (%) (NACE REV.2)',\n",
      "                 'MONTHLY',\n",
      "                 datetime.date(2007, 1, 1),\n",
      "                 datetime.date(2022, 7, 1)],\n",
      " 'bie_oecdoncu': [21,\n",
      "                  'OECD Composite Leading Indicator (CLI)(Index)',\n",
      "                  'MONTHLY',\n",
      "                  datetime.date(1966, 2, 1),\n",
      "                  datetime.date(2022, 6, 1)],\n",
      " 'bie_sanayrev4': [21,\n",
      "                   'Industrial Production Index (2015=100)(TURKSTAT)',\n",
      "                   'MONTHLY',\n",
      "                   datetime.date(2005, 1, 1),\n",
      "                   datetime.date(2022, 6, 1)],\n",
      " 'bie_urkisi15': [21,\n",
      "                  'Index of Production per Person Employed (2015=100)(Ministry '\n",
      "                  'of Industry and Technology)',\n",
      "                  'QUARTERLY',\n",
      "                  datetime.date(2009, 1, 1),\n",
      "                  datetime.date(2022, 1, 1)],\n",
      " 'bie_uroto': [21,\n",
      "               'Total Cars Production (AMA=Automotive Manufacturers '\n",
      "               'Association)',\n",
      "               'MONTHLY',\n",
      "               datetime.date(1974, 1, 1),\n",
      "               datetime.date(2022, 6, 1)],\n",
      " 'bie_ursaat15': [21,\n",
      "                  'Index of Production per Hour Worked (2015=100)(Ministry of '\n",
      "                  'Industry and Technology)',\n",
      "                  'QUARTERLY',\n",
      "                  datetime.date(2009, 1, 1),\n",
      "                  datetime.date(2022, 1, 1)]}\n"
     ]
    }
   ],
   "source": [
    "pprint(sub_dict)"
   ]
  },
  {
   "cell_type": "code",
   "execution_count": 38,
   "metadata": {},
   "outputs": [
    {
     "name": "stdout",
     "output_type": "stream",
     "text": [
      "[{'APP_CHA_LINK': '',\n",
      "  'APP_CHA_LINK_ENG': '',\n",
      "  'CATEGORY_ID': 21,\n",
      "  'DATAGROUP_CODE': 'bie_cli2',\n",
      "  'DATAGROUP_NAME': 'Bileşik Öncü Göstergeler Endeksi(MBÖNCÜ-SÜE)',\n",
      "  'DATAGROUP_NAME_ENG': 'Composite Leading Indicator (MBONCU-SUE)',\n",
      "  'DATASOURCE': 'TCMB',\n",
      "  'DATASOURCE_ENG': 'CBRT',\n",
      "  'END_DATE': '01-07-2022',\n",
      "  'FREQUENCY': 9,\n",
      "  'FREQUENCY_STR': 'AYLIK',\n",
      "  'METADATA_LINK': 'https://data.oecd.org/leadind/composite-leading-indicator-cli.htm',\n",
      "  'METADATA_LINK_ENG': 'https://data.oecd.org/leadind/composite-leading-indicator-cli.htm',\n",
      "  'REV_POL_LINK': '',\n",
      "  'REV_POL_LINK_ENG': '',\n",
      "  'START_DATE': '01-12-1987'},\n",
      " {'APP_CHA_LINK': 'http://www.tuik.gov.tr/PreTablo.do?alt_id=1105',\n",
      "  'APP_CHA_LINK_ENG': 'http://www.turkstat.gov.tr/PreTablo.do?alt_id=1105',\n",
      "  'CATEGORY_ID': 21,\n",
      "  'DATAGROUP_CODE': 'bie_gsyhgycf',\n",
      "  'DATAGROUP_NAME': 'GSYİH-Gelir Yöntemiyle-Cari Fiyatlarla (TÜIK)(Bin TL)',\n",
      "  'DATAGROUP_NAME_ENG': 'GDP by Income Approach-Current Prices (TURKSTAT)(TRY '\n",
      "                        'Thousand)',\n",
      "  'DATASOURCE': 'TÜİK',\n",
      "  'DATASOURCE_ENG': 'TURKSTAT',\n",
      "  'END_DATE': '01-01-2022',\n",
      "  'FREQUENCY': 13,\n",
      "  'FREQUENCY_STR': 'ÜÇ AYLIK',\n",
      "  'METADATA_LINK': 'http://www.tuik.gov.tr/PreTablo.do?alt_id=1105',\n",
      "  'METADATA_LINK_ENG': 'http://www.turkstat.gov.tr/PreTablo.do?alt_id=1105',\n",
      "  'REV_POL_LINK': 'http://www.tuik.gov.tr/PreTablo.do?alt_id=1105',\n",
      "  'REV_POL_LINK_ENG': 'http://www.turkstat.gov.tr/PreTablo.do?alt_id=1105',\n",
      "  'START_DATE': '01-01-1998'},\n",
      " {'APP_CHA_LINK': 'http://www.tuik.gov.tr/PreTablo.do?alt_id=1105',\n",
      "  'APP_CHA_LINK_ENG': 'http://www.turkstat.gov.tr/PreTablo.do?alt_id=1105',\n",
      "  'CATEGORY_ID': 21,\n",
      "  'DATAGROUP_CODE': 'bie_gsyhhycf',\n",
      "  'DATAGROUP_NAME': 'GSYİH-Harcama Yöntemiyle-Cari Fiyatlarla (TÜIK)(Bin TL)',\n",
      "  'DATAGROUP_NAME_ENG': 'GDP by Expenditure Approach-Current Prices '\n",
      "                        '(TURKSTAT)(TRY Thousand)',\n",
      "  'DATASOURCE': 'TÜİK',\n",
      "  'DATASOURCE_ENG': 'TURKSTAT',\n",
      "  'END_DATE': '01-01-2022',\n",
      "  'FREQUENCY': 13,\n",
      "  'FREQUENCY_STR': 'ÜÇ AYLIK',\n",
      "  'METADATA_LINK': 'http://www.tuik.gov.tr/PreTablo.do?alt_id=1105',\n",
      "  'METADATA_LINK_ENG': 'http://www.turkstat.gov.tr/PreTablo.do?alt_id=1105',\n",
      "  'REV_POL_LINK': 'http://www.tuik.gov.tr/PreTablo.do?alt_id=1105',\n",
      "  'REV_POL_LINK_ENG': 'http://www.turkstat.gov.tr/PreTablo.do?alt_id=1105',\n",
      "  'START_DATE': '01-01-1998'},\n",
      " {'APP_CHA_LINK': 'http://www.tuik.gov.tr/PreTablo.do?alt_id=1105',\n",
      "  'APP_CHA_LINK_ENG': 'http://www.turkstat.gov.tr/PreTablo.do?alt_id=1105',\n",
      "  'CATEGORY_ID': 21,\n",
      "  'DATAGROUP_CODE': 'bie_gsyhhyhe',\n",
      "  'DATAGROUP_NAME': 'GSYİH-Harcama Yöntemiyle-Zincirlenmiş Hacim (TÜIK)(Bin '\n",
      "                    'TL)',\n",
      "  'DATAGROUP_NAME_ENG': 'GDP in Chain Linked Volume by Expenditure Approach '\n",
      "                        '(TURKSTAT)(TRY Thousand)',\n",
      "  'DATASOURCE': 'TÜİK',\n",
      "  'DATASOURCE_ENG': 'TURKSTAT',\n",
      "  'END_DATE': '01-01-2022',\n",
      "  'FREQUENCY': 13,\n",
      "  'FREQUENCY_STR': 'ÜÇ AYLIK',\n",
      "  'METADATA_LINK': 'http://www.tuik.gov.tr/PreTablo.do?alt_id=1105',\n",
      "  'METADATA_LINK_ENG': 'http://www.turkstat.gov.tr/PreTablo.do?alt_id=1105',\n",
      "  'REV_POL_LINK': 'http://www.tuik.gov.tr/PreTablo.do?alt_id=1105',\n",
      "  'REV_POL_LINK_ENG': 'http://www.turkstat.gov.tr/PreTablo.do?alt_id=1105',\n",
      "  'START_DATE': '01-01-1998'},\n",
      " {'APP_CHA_LINK': 'http://www.tuik.gov.tr/PreTablo.do?alt_id=1105',\n",
      "  'APP_CHA_LINK_ENG': 'http://www.turkstat.gov.tr/PreTablo.do?alt_id=1105',\n",
      "  'CATEGORY_ID': 21,\n",
      "  'DATAGROUP_CODE': 'bie_gsyhifkcf',\n",
      "  'DATAGROUP_NAME': 'GSYİH-İktisadi Faaliyet Kollarına (A10) Göre-Cari '\n",
      "                    'Fiyatlarla (TÜIK)(Bin TL)',\n",
      "  'DATAGROUP_NAME_ENG': 'GDP by Kind of Economic Activity (A10)-Current Prices '\n",
      "                        '(TURKSTAT)(TRY Thousand)',\n",
      "  'DATASOURCE': 'TÜİK',\n",
      "  'DATASOURCE_ENG': 'TURKSTAT',\n",
      "  'END_DATE': '01-01-2022',\n",
      "  'FREQUENCY': 13,\n",
      "  'FREQUENCY_STR': 'ÜÇ AYLIK',\n",
      "  'METADATA_LINK': 'http://www.tuik.gov.tr/PreTablo.do?alt_id=1105',\n",
      "  'METADATA_LINK_ENG': 'http://www.turkstat.gov.tr/PreTablo.do?alt_id=1105',\n",
      "  'REV_POL_LINK': 'http://www.tuik.gov.tr/PreTablo.do?alt_id=1105',\n",
      "  'REV_POL_LINK_ENG': 'http://www.turkstat.gov.tr/PreTablo.do?alt_id=1105',\n",
      "  'START_DATE': '01-01-1998'},\n",
      " {'APP_CHA_LINK': 'http://www.tuik.gov.tr/PreTablo.do?alt_id=1105',\n",
      "  'APP_CHA_LINK_ENG': 'http://www.turkstat.gov.tr/PreTablo.do?alt_id=1105',\n",
      "  'CATEGORY_ID': 21,\n",
      "  'DATAGROUP_CODE': 'bie_gsyhifkhe',\n",
      "  'DATAGROUP_NAME': 'GSYİH-İktisadi Faaliyet Kollarına (A10) Göre-Zincirlenmiş '\n",
      "                    'Hacim (TÜIK)(Bin TL)',\n",
      "  'DATAGROUP_NAME_ENG': 'GDP in Chain Linked Volume by Kind of Economic '\n",
      "                        'Activity (A10)(TURKSTAT)(TRY Thousand)',\n",
      "  'DATASOURCE': 'TÜİK',\n",
      "  'DATASOURCE_ENG': 'TURKSTAT',\n",
      "  'END_DATE': '01-01-2022',\n",
      "  'FREQUENCY': 13,\n",
      "  'FREQUENCY_STR': 'ÜÇ AYLIK',\n",
      "  'METADATA_LINK': 'http://www.tuik.gov.tr/PreTablo.do?alt_id=1105',\n",
      "  'METADATA_LINK_ENG': 'http://www.turkstat.gov.tr/PreTablo.do?alt_id=1105',\n",
      "  'REV_POL_LINK': 'http://www.tuik.gov.tr/PreTablo.do?alt_id=1105',\n",
      "  'REV_POL_LINK_ENG': 'http://www.turkstat.gov.tr/PreTablo.do?alt_id=1105',\n",
      "  'START_DATE': '01-01-1998'},\n",
      " {'APP_CHA_LINK': 'http://www.tcmb.gov.tr/wps/wcm/connect/TR/TCMB+TR/Main+Menu/Istatistikler/Reel+Sektor+Istatistikleri/Imalat+Sanayi+Kapasite+Kullanim+Orani/Uygulama+Degisiklikleri',\n",
      "  'APP_CHA_LINK_ENG': 'http://www.tcmb.gov.tr/wps/wcm/connect/TCMB+EN/TCMB+EN/Main+Menu/STATISTICS/Real+Sector+Statistics/Capacity+Utilization+Rate+of+the+Manufacturing+Industry/Methodological+Changes',\n",
      "  'CATEGORY_ID': 21,\n",
      "  'DATAGROUP_CODE': 'bie_kko2',\n",
      "  'DATAGROUP_NAME': 'İmalat Sanayi Kapasite Kullanım Oranı (%) (NACE REV.2)',\n",
      "  'DATAGROUP_NAME_ENG': 'Capacity Utilization Rate of Manufacturing Industry '\n",
      "                        '(%) (NACE REV.2)',\n",
      "  'DATASOURCE': 'TCMB',\n",
      "  'DATASOURCE_ENG': 'CBRT',\n",
      "  'END_DATE': '01-07-2022',\n",
      "  'FREQUENCY': 9,\n",
      "  'FREQUENCY_STR': 'AYLIK',\n",
      "  'METADATA_LINK': 'http://www.tcmb.gov.tr/wps/wcm/connect/TR/TCMB+TR/Main+Menu/Istatistikler/Reel+Sektor+Istatistikleri/Imalat+Sanayi+Kapasite+Kullanim+Orani/Yontem',\n",
      "  'METADATA_LINK_ENG': 'http://www.tcmb.gov.tr/wps/wcm/connect/TCMB+EN/TCMB+EN/Main+Menu/STATISTICS/Real+Sector+Statistics/Capacity+Utilization+Rate+of+the+Manufacturing+Industry/Methodological+Information',\n",
      "  'REV_POL_LINK': 'http://www.tuik.gov.tr/PreTablo.do?alt_id=1007',\n",
      "  'REV_POL_LINK_ENG': 'http://www.turkstat.gov.tr/PreTablo.do?alt_id=1007',\n",
      "  'START_DATE': '01-01-2007'},\n",
      " {'APP_CHA_LINK': 'http://www.tcmb.gov.tr/wps/wcm/connect/TR/TCMB+TR/Main+Menu/Istatistikler/Reel+Sektor+Istatistikleri/Imalat+Sanayi+Kapasite+Kullanim+Orani/Uygulama+Degisiklikleri',\n",
      "  'APP_CHA_LINK_ENG': 'http://www.tcmb.gov.tr/wps/wcm/connect/TCMB+EN/TCMB+EN/Main+Menu/STATISTICS/Real+Sector+Statistics/Capacity+Utilization+Rate+of+the+Manufacturing+Industry/Methodological+Changes',\n",
      "  'CATEGORY_ID': 21,\n",
      "  'DATAGROUP_CODE': 'bie_kkoisma',\n",
      "  'DATAGROUP_NAME': 'İmalat Sanayi Kapasite Kullanım Oranı-Mevsimsellikten '\n",
      "                    'Arındırılmış (%) (NACE REV.2)',\n",
      "  'DATAGROUP_NAME_ENG': 'Capacity Utilization Rate of Manufacturing '\n",
      "                        'Industry-Seasonally Adjusted (%) (NACE REV.2)',\n",
      "  'DATASOURCE': 'TCMB',\n",
      "  'DATASOURCE_ENG': 'CBRT',\n",
      "  'END_DATE': '01-07-2022',\n",
      "  'FREQUENCY': 9,\n",
      "  'FREQUENCY_STR': 'AYLIK',\n",
      "  'METADATA_LINK': 'http://www.tcmb.gov.tr/wps/wcm/connect/TR/TCMB+TR/Main+Menu/Istatistikler/Reel+Sektor+Istatistikleri/Imalat+Sanayi+Kapasite+Kullanim+Orani/Yontem',\n",
      "  'METADATA_LINK_ENG': 'http://www.tcmb.gov.tr/wps/wcm/connect/TCMB+EN/TCMB+EN/Main+Menu/STATISTICS/Real+Sector+Statistics/Capacity+Utilization+Rate+of+the+Manufacturing+Industry/Methodological+Information',\n",
      "  'REV_POL_LINK': 'http://www.tuik.gov.tr/PreTablo.do?alt_id=1007',\n",
      "  'REV_POL_LINK_ENG': 'http://www.turkstat.gov.tr/PreTablo.do?alt_id=1007',\n",
      "  'START_DATE': '01-01-2007'},\n",
      " {'APP_CHA_LINK': 'http://www.tuik.gov.tr/PreTablo.do?alt_id=1024',\n",
      "  'APP_CHA_LINK_ENG': 'http://www.turkstat.gov.tr/PreTablo.do?alt_id=1024',\n",
      "  'CATEGORY_ID': 21,\n",
      "  'DATAGROUP_CODE': 'bie_uroto',\n",
      "  'DATAGROUP_NAME': 'Toplam Otomobil Üretimi (OSD)',\n",
      "  'DATAGROUP_NAME_ENG': 'Total Cars Production (AMA=Automotive Manufacturers '\n",
      "                        'Association)',\n",
      "  'DATASOURCE': 'OTOMOTİV SANAYİ DERNEĞİ',\n",
      "  'DATASOURCE_ENG': 'AUTOMOTIVE INDUSTRY ASSOCIATION',\n",
      "  'END_DATE': '01-06-2022',\n",
      "  'FREQUENCY': 9,\n",
      "  'FREQUENCY_STR': 'AYLIK',\n",
      "  'METADATA_LINK': 'http://vi.sanayi.gov.tr/Files/Metaveri_UcAylikVerimlilikIstatistikleri(2010=100).pdf',\n",
      "  'METADATA_LINK_ENG': 'http://vi.sanayi.gov.tr/productivitystatistics/Files/MetadataQuarterlyProductivityStatistics(2010-100).pdf',\n",
      "  'REV_POL_LINK': 'http://www.tuik.gov.tr/PreTablo.do?alt_id=1024',\n",
      "  'REV_POL_LINK_ENG': 'http://www.turkstat.gov.tr/PreTablo.do?alt_id=1024',\n",
      "  'START_DATE': '01-01-1974'},\n",
      " {'APP_CHA_LINK': 'http://www.tuik.gov.tr/PreTablo.do?alt_id=1105',\n",
      "  'APP_CHA_LINK_ENG': 'http://www.turkstat.gov.tr/PreTablo.do?alt_id=1105',\n",
      "  'CATEGORY_ID': 21,\n",
      "  'DATAGROUP_CODE': 'bie_ackap2',\n",
      "  'DATAGROUP_NAME': 'Şirket İstatistikleri-Açılan-Kapanan (TOBB)',\n",
      "  'DATAGROUP_NAME_ENG': 'Firms Statistics-Newly Established and Liquidated '\n",
      "                        '(TOBB)',\n",
      "  'DATASOURCE': 'TOBB',\n",
      "  'DATASOURCE_ENG': 'CHAMBERS AND COMMODITY EXCHANGES',\n",
      "  'END_DATE': '01-07-2022',\n",
      "  'FREQUENCY': 9,\n",
      "  'FREQUENCY_STR': 'AYLIK',\n",
      "  'METADATA_LINK': 'https://www.tobb.org.tr/BilgiErisimMudurlugu/Sayfalar/metodoloji.php',\n",
      "  'METADATA_LINK_ENG': '',\n",
      "  'REV_POL_LINK': 'http://www.tuik.gov.tr/PreTablo.do?alt_id=1105',\n",
      "  'REV_POL_LINK_ENG': 'http://www.turkstat.gov.tr/PreTablo.do?alt_id=1105',\n",
      "  'START_DATE': '01-01-2010'},\n",
      " {'APP_CHA_LINK': 'http://www.tuik.gov.tr/PreTablo.do?alt_id=1024',\n",
      "  'APP_CHA_LINK_ENG': 'http://www.turkstat.gov.tr/PreTablo.do?alt_id=1024',\n",
      "  'CATEGORY_ID': 21,\n",
      "  'DATAGROUP_CODE': 'bie_sanayrev4',\n",
      "  'DATAGROUP_NAME': 'Sanayi Üretim Endeksi (2015=100)(TÜİK)',\n",
      "  'DATAGROUP_NAME_ENG': 'Industrial Production Index (2015=100)(TURKSTAT)',\n",
      "  'DATASOURCE': 'TÜİK',\n",
      "  'DATASOURCE_ENG': 'TURKSTAT',\n",
      "  'END_DATE': '01-06-2022',\n",
      "  'FREQUENCY': 9,\n",
      "  'FREQUENCY_STR': 'AYLIK',\n",
      "  'METADATA_LINK': 'http://www.tuik.gov.tr/PreTablo.do?alt_id=1024',\n",
      "  'METADATA_LINK_ENG': 'http://www.turkstat.gov.tr/PreTablo.do?alt_id=1024',\n",
      "  'REV_POL_LINK': 'http://www.tuik.gov.tr/PreTablo.do?alt_id=1024',\n",
      "  'REV_POL_LINK_ENG': 'http://www.turkstat.gov.tr/PreTablo.do?alt_id=1024',\n",
      "  'START_DATE': '01-01-2005'},\n",
      " {'APP_CHA_LINK': '',\n",
      "  'APP_CHA_LINK_ENG': '',\n",
      "  'CATEGORY_ID': 21,\n",
      "  'DATAGROUP_CODE': 'bie_elektuketim',\n",
      "  'DATAGROUP_NAME': 'Türkiye Elektrik Enerjisi (Üretim, Tüketim, İhracat, '\n",
      "                    'İthalat)(MWh)',\n",
      "  'DATAGROUP_NAME_ENG': 'Turkey, Electricity (Production, Consumption, '\n",
      "                        'Exports, Imports) (MWh)',\n",
      "  'DATASOURCE': 'Türkiye Elektirik İdaresi Aş(TEİAŞ)',\n",
      "  'DATASOURCE_ENG': 'Turkish Electricity Transmission Corporation',\n",
      "  'END_DATE': '14-08-2022',\n",
      "  'FREQUENCY': 1,\n",
      "  'FREQUENCY_STR': 'GÜNLÜK',\n",
      "  'METADATA_LINK': '',\n",
      "  'METADATA_LINK_ENG': '',\n",
      "  'REV_POL_LINK': '',\n",
      "  'REV_POL_LINK_ENG': '',\n",
      "  'START_DATE': '01-01-2016'},\n",
      " {'APP_CHA_LINK': 'http://vi.sanayi.gov.tr/Files/metaveriler/Metaveri_UcAylikVerimlilikIstatistikleri(2015=100).pdf',\n",
      "  'APP_CHA_LINK_ENG': 'http://vi.sanayi.gov.tr/productivitystatistics/Files/metadata/MetadataQuarterlyProductivityStatistics(2015=100).pdf',\n",
      "  'CATEGORY_ID': 21,\n",
      "  'DATAGROUP_CODE': 'bie_urkisi15',\n",
      "  'DATAGROUP_NAME': 'Üretim Endeksi - Çalışan Kişi Başına (2015=100)(Sanayi ve '\n",
      "                    'Teknoloji Bakanlığı)',\n",
      "  'DATAGROUP_NAME_ENG': 'Index of Production per Person Employed '\n",
      "                        '(2015=100)(Ministry of Industry and Technology)',\n",
      "  'DATASOURCE': 'SANAYİ VE TEKNOLOJİ BAKANLIĞI',\n",
      "  'DATASOURCE_ENG': 'MINISTRY OF INDUSTRY AND TECHNOLOGY',\n",
      "  'END_DATE': '01-01-2022',\n",
      "  'FREQUENCY': 13,\n",
      "  'FREQUENCY_STR': 'ÜÇ AYLIK',\n",
      "  'METADATA_LINK': 'http://vi.sanayi.gov.tr/Files/metaveriler/Metaveri_UcAylikVerimlilikIstatistikleri(2015=100).pdf',\n",
      "  'METADATA_LINK_ENG': 'http://vi.sanayi.gov.tr/productivitystatistics/Files/metadata/MetadataQuarterlyProductivityStatistics(2015=100).pdf',\n",
      "  'REV_POL_LINK': 'http://vi.sanayi.gov.tr/Files/metaveriler/Metaveri_UcAylikVerimlilikIstatistikleri(2015=100).pdf',\n",
      "  'REV_POL_LINK_ENG': 'http://vi.sanayi.gov.tr/productivitystatistics/Files/metadata/MetadataQuarterlyProductivityStatistics(2015=100).pdf',\n",
      "  'START_DATE': '01-01-2009'},\n",
      " {'APP_CHA_LINK': 'http://vi.sanayi.gov.tr/Files/metaveriler/Metaveri_UcAylikVerimlilikIstatistikleri(2015=100).pdf',\n",
      "  'APP_CHA_LINK_ENG': 'http://vi.sanayi.gov.tr/productivitystatistics/Files/metadata/MetadataQuarterlyProductivityStatistics(2015=100).pdf',\n",
      "  'CATEGORY_ID': 21,\n",
      "  'DATAGROUP_CODE': 'bie_ursaat15',\n",
      "  'DATAGROUP_NAME': 'Üretim Endeksi - Çalışılan Saat Başına (2015=100)(Sanayi '\n",
      "                    've Teknoloji Bakanlığı)',\n",
      "  'DATAGROUP_NAME_ENG': 'Index of Production per Hour Worked '\n",
      "                        '(2015=100)(Ministry of Industry and Technology)',\n",
      "  'DATASOURCE': 'SANAYİ VE TEKNOLOJİ BAKANLIĞI',\n",
      "  'DATASOURCE_ENG': 'MINISTRY OF INDUSTRY AND TECHNOLOGY',\n",
      "  'END_DATE': '01-01-2022',\n",
      "  'FREQUENCY': 13,\n",
      "  'FREQUENCY_STR': 'ÜÇ AYLIK',\n",
      "  'METADATA_LINK': 'http://vi.sanayi.gov.tr/Files/metaveriler/Metaveri_UcAylikVerimlilikIstatistikleri(2015=100).pdf',\n",
      "  'METADATA_LINK_ENG': 'http://vi.sanayi.gov.tr/productivitystatistics/Files/metadata/MetadataQuarterlyProductivityStatistics(2015=100).pdf',\n",
      "  'REV_POL_LINK': 'http://vi.sanayi.gov.tr/Files/metaveriler/Metaveri_UcAylikVerimlilikIstatistikleri(2015=100).pdf',\n",
      "  'REV_POL_LINK_ENG': 'http://vi.sanayi.gov.tr/productivitystatistics/Files/metadata/MetadataQuarterlyProductivityStatistics(2015=100).pdf',\n",
      "  'START_DATE': '01-01-2009'},\n",
      " {'APP_CHA_LINK': '',\n",
      "  'APP_CHA_LINK_ENG': '',\n",
      "  'CATEGORY_ID': 21,\n",
      "  'DATAGROUP_CODE': 'bie_oecdoncu',\n",
      "  'DATAGROUP_NAME': 'OECD Kompozit Öncü Göstergeler Indeksi(CLI)',\n",
      "  'DATAGROUP_NAME_ENG': 'OECD Composite Leading Indicator (CLI)(Index)',\n",
      "  'DATASOURCE': 'OECD',\n",
      "  'DATASOURCE_ENG': 'OECD',\n",
      "  'END_DATE': '01-06-2022',\n",
      "  'FREQUENCY': 9,\n",
      "  'FREQUENCY_STR': 'AYLIK',\n",
      "  'METADATA_LINK': '',\n",
      "  'METADATA_LINK_ENG': '',\n",
      "  'REV_POL_LINK': '',\n",
      "  'REV_POL_LINK_ENG': '',\n",
      "  'START_DATE': '01-02-1966'}]\n"
     ]
    }
   ],
   "source": [
    "pprint(sub_raw)"
   ]
  },
  {
   "cell_type": "code",
   "execution_count": 39,
   "metadata": {},
   "outputs": [
    {
     "name": "stdout",
     "output_type": "stream",
     "text": [
      "{'bie_dkdovytl': [2,\n",
      "                  'Kurlar-Döviz Kurları',\n",
      "                  'Exchange Rates',\n",
      "                  'DAILY',\n",
      "                  1,\n",
      "                  'TCMB',\n",
      "                  'CBRT',\n",
      "                  '',\n",
      "                  '',\n",
      "                  '',\n",
      "                  '',\n",
      "                  '',\n",
      "                  '',\n",
      "                  datetime.date(1950, 1, 2),\n",
      "                  datetime.date(2022, 8, 22)],\n",
      " 'bie_dkefkytl': [2,\n",
      "                  'Kurlar-Efektif Kurlar',\n",
      "                  'Exchange Rates-Banknotes',\n",
      "                  'DAILY',\n",
      "                  1,\n",
      "                  'TCMB',\n",
      "                  'CBRT',\n",
      "                  '',\n",
      "                  '',\n",
      "                  '',\n",
      "                  '',\n",
      "                  '',\n",
      "                  '',\n",
      "                  datetime.date(1990, 1, 2),\n",
      "                  datetime.date(2022, 8, 22)],\n",
      " 'bie_dkkurbil': [2,\n",
      "                  'Kurlar-TCMB Tarafından Alım Satıma Konu Olmayan Dövizlere '\n",
      "                  'İlişkin Bilgi Amaçlı Kur Tablosu',\n",
      "                  'Informative Exchange Rates of Selected Currencies that are '\n",
      "                  'not subject to transaction by the CBRT',\n",
      "                  'DAILY',\n",
      "                  1,\n",
      "                  'TCMB',\n",
      "                  'CBRT',\n",
      "                  '',\n",
      "                  '',\n",
      "                  '',\n",
      "                  '',\n",
      "                  '',\n",
      "                  '',\n",
      "                  datetime.date(2021, 12, 21),\n",
      "                  datetime.date(2009, 4, 2)],\n",
      " 'bie_redkurigm': [2,\n",
      "                   'Kurlar-Reel Efektif Döviz Kuru-Birim İş Gücü Maliyeti '\n",
      "                   'Bazlı (2003=100)',\n",
      "                   'Exchange Rates-Unit Labor Cost Based Real Effective '\n",
      "                   'Exchange Rate (2003=100)',\n",
      "                   'YEARLY',\n",
      "                   21,\n",
      "                   'TCMB',\n",
      "                   'CBRT',\n",
      "                   'http://www.tcmb.gov.tr/wps/wcm/connect/02713545-8428-49ab-a9d9-0f770895d513/REERMetaveri.pdf?MOD=AJPERES&CACHEID=ROOTWORKSPACE-02713545-8428-49ab-a9d9-0f770895d513-m5GUjN5',\n",
      "                   'http://www.tcmb.gov.tr/wps/wcm/connect/65b5812f-f1cd-4cb9-8ca6-a978c77f74f4/REERMetadata.pdf?MOD=AJPERES&CACHEID=ROOTWORKSPACE-65b5812f-f1cd-4cb9-8ca6-a978c77f74f4-m5GUjP9',\n",
      "                   'http://www.tcmb.gov.tr/wps/wcm/connect/b4c2666b-5450-4667-82a5-de58ac57761e/RevizyonPolitikas%C4%B1_REDK.pdf?MOD=AJPERES&CACHEID=ROOTWORKSPACE-b4c2666b-5450-4667-82a5-de58ac57761e-m5hOUXH',\n",
      "                   'http://www.tcmb.gov.tr/wps/wcm/connect/1490edc9-cece-4931-b469-83e079e22e1f/RevisionPolicyREER.pdf?MOD=AJPERES&CACHEID=ROOTWORKSPACE-1490edc9-cece-4931-b469-83e079e22e1f-m5hVwyx',\n",
      "                   'http://www.tcmb.gov.tr/wps/wcm/connect/e8fe6a5f-8084-4d06-acc0-37ce9a98609c/GuncellemeDuyurulari_REDK.pdf?MOD=AJPERES&CACHEID=ROOTWORKSPACE-e8fe6a5f-8084-4d06-acc0-37ce9a98609c-m5hPbdB',\n",
      "                   'http://www.tcmb.gov.tr/wps/wcm/connect/1b2d355e-ac1e-43ac-ac22-57e94e5b5398/MethodologicalChangesREER.pdf?MOD=AJPERES&CACHEID=ROOTWORKSPACE-1b2d355e-ac1e-43ac-ac22-57e94e5b5398-m5hVpNj',\n",
      "                   datetime.date(2003, 1, 1),\n",
      "                   datetime.date(2021, 1, 1)],\n",
      " 'bie_rktufey': [2,\n",
      "                 'Kurlar-Reel Efektif Döviz Kuru-TÜFE Bazlı (2003=100)',\n",
      "                 'Exchange Rates-CPI Based Real Effective Exchange Rate '\n",
      "                 '(2003=100)',\n",
      "                 'MONTHLY',\n",
      "                 9,\n",
      "                 'TCMB',\n",
      "                 'CBRT',\n",
      "                 'http://www.tcmb.gov.tr/wps/wcm/connect/TR/TCMB+TR/Main+Menu/Istatistikler/Doviz+Kurlari/Reel+Efektif+Doviz+Kuruu/Metaveri',\n",
      "                 'http://www.tcmb.gov.tr/wps/wcm/connect/EN/TCMB+EN/Main+Menu/Statistics/Exchange+Rates/Real+Effective+Exchange+Rates+Deneme/Metadata',\n",
      "                 'http://www.tcmb.gov.tr/wps/wcm/connect/TR/TCMB+TR/Main+Menu/Istatistikler/Doviz+Kurlari/Reel+Efektif+Doviz+Kuruu/Revizyon+Politikasi',\n",
      "                 'http://www.tcmb.gov.tr/wps/wcm/connect/EN/TCMB+EN/Main+Menu/Statistics/Exchange+Rates/Real+Effective+Exchange+Rates+Deneme/Revision+Policy',\n",
      "                 'http://www.tcmb.gov.tr/wps/wcm/connect/TR/TCMB+TR/Main+Menu/Istatistikler/Doviz+Kurlari/Reel+Efektif+Doviz+Kuruu/Uygulama+Degisiklikleri',\n",
      "                 'https://wcm.tcmb.gov.tr/wps/wcm/connect/EN/TCMB+EN/Main+Menu/Statistics/Exchange+Rates/Real+Effective+Exchange+Rates+Deneme/Methodological+Changes',\n",
      "                 datetime.date(1994, 1, 1),\n",
      "                 datetime.date(2022, 7, 1)],\n",
      " 'bie_rkufey': [2,\n",
      "                'Kurlar-Reel Efektif Döviz Kuru-Yİ-ÜFE Bazlı (2003=100)',\n",
      "                'Exchange Rates-Domestic-PPI Based Real Effective Exchange '\n",
      "                'Rate (2003=100)',\n",
      "                'MONTHLY',\n",
      "                9,\n",
      "                'TCMB',\n",
      "                'CBRT',\n",
      "                'http://www.tcmb.gov.tr/wps/wcm/connect/TR/TCMB+TR/Main+Menu/Istatistikler/Doviz+Kurlari/Reel+Efektif+Doviz+Kuruu/Metaveri',\n",
      "                'http://www.tcmb.gov.tr/wps/wcm/connect/EN/TCMB+EN/Main+Menu/Statistics/Exchange+Rates/Real+Effective+Exchange+Rates+Deneme/Metadata',\n",
      "                'http://www.tcmb.gov.tr/wps/wcm/connect/TR/TCMB+TR/Main+Menu/Istatistikler/Doviz+Kurlari/Reel+Efektif+Doviz+Kuruu/Revizyon+Politikasi',\n",
      "                'http://www.tcmb.gov.tr/wps/wcm/connect/EN/TCMB+EN/Main+Menu/Statistics/Exchange+Rates/Real+Effective+Exchange+Rates+Deneme/Revision+Policy',\n",
      "                'http://www.tcmb.gov.tr/wps/wcm/connect/TR/TCMB+TR/Main+Menu/Istatistikler/Doviz+Kurlari/Reel+Efektif+Doviz+Kuruu/Uygulama+Degisiklikleri',\n",
      "                'https://wcm.tcmb.gov.tr/wps/wcm/connect/EN/TCMB+EN/Main+Menu/Statistics/Exchange+Rates/Real+Effective+Exchange+Rates+Deneme/Methodological+Changes',\n",
      "                datetime.date(1994, 1, 1),\n",
      "                datetime.date(2022, 7, 1)]}\n"
     ]
    }
   ],
   "source": [
    "pprint(rates_all)"
   ]
  },
  {
   "cell_type": "markdown",
   "metadata": {},
   "source": [
    "#### 1.6. [__Listing Groups Belong to Sub-Categories__](https://github.com/syncoding/evdsts/blob/master/docs/manuals/manual_en.md#listing-groups)"
   ]
  },
  {
   "cell_type": "markdown",
   "metadata": {},
   "source": [
    "Groups belong to sub-categories can be called by giving related sub-category name as parameter to the\n",
    "`get_groups()` method. Groups are returned as pandas `DataFrames` in its default setting,\n",
    "however, you can get the sub-categories in a `dict` or as `json` format if you prefer to."
   ]
  },
  {
   "cell_type": "code",
   "execution_count": 40,
   "metadata": {},
   "outputs": [],
   "source": [
    "group_effectives = connector.get_groups(\"bie_dkdovytl\")"
   ]
  },
  {
   "cell_type": "code",
   "execution_count": 41,
   "metadata": {},
   "outputs": [
    {
     "data": {
      "text/html": [
       "<div>\n",
       "<style scoped>\n",
       "    .dataframe tbody tr th:only-of-type {\n",
       "        vertical-align: middle;\n",
       "    }\n",
       "\n",
       "    .dataframe tbody tr th {\n",
       "        vertical-align: top;\n",
       "    }\n",
       "\n",
       "    .dataframe thead th {\n",
       "        text-align: right;\n",
       "    }\n",
       "</style>\n",
       "<table border=\"1\" class=\"dataframe\">\n",
       "  <thead>\n",
       "    <tr style=\"text-align: right;\">\n",
       "      <th></th>\n",
       "      <th>SERIE_NAME_ENG</th>\n",
       "      <th>SERIE_CODE</th>\n",
       "      <th>FREQUENCY_STR</th>\n",
       "      <th>START_DATE</th>\n",
       "      <th>END_DATE</th>\n",
       "    </tr>\n",
       "  </thead>\n",
       "  <tbody>\n",
       "    <tr>\n",
       "      <th>0</th>\n",
       "      <td>(USD) US Dollar (Buying)</td>\n",
       "      <td>TP.DK.USD.A.YTL</td>\n",
       "      <td>DAILY</td>\n",
       "      <td>1950-01-02</td>\n",
       "      <td>2022-08-22</td>\n",
       "    </tr>\n",
       "    <tr>\n",
       "      <th>1</th>\n",
       "      <td>(USD) US Dollar (Selling)</td>\n",
       "      <td>TP.DK.USD.S.YTL</td>\n",
       "      <td>DAILY</td>\n",
       "      <td>1950-01-02</td>\n",
       "      <td>2022-08-22</td>\n",
       "    </tr>\n",
       "    <tr>\n",
       "      <th>2</th>\n",
       "      <td>(EUR) Euro (Buying)</td>\n",
       "      <td>TP.DK.EUR.A.YTL</td>\n",
       "      <td>DAILY</td>\n",
       "      <td>1999-01-04</td>\n",
       "      <td>2022-08-22</td>\n",
       "    </tr>\n",
       "    <tr>\n",
       "      <th>3</th>\n",
       "      <td>(EUR) Euro (Selling)</td>\n",
       "      <td>TP.DK.EUR.S.YTL</td>\n",
       "      <td>DAILY</td>\n",
       "      <td>1999-01-04</td>\n",
       "      <td>2022-08-22</td>\n",
       "    </tr>\n",
       "    <tr>\n",
       "      <th>4</th>\n",
       "      <td>(ATS) Austrian Schilling (Buying)</td>\n",
       "      <td>TP.DK.ATS.A.YTL</td>\n",
       "      <td>DAILY</td>\n",
       "      <td>1961-07-03</td>\n",
       "      <td>2002-01-02</td>\n",
       "    </tr>\n",
       "    <tr>\n",
       "      <th>...</th>\n",
       "      <td>...</td>\n",
       "      <td>...</td>\n",
       "      <td>...</td>\n",
       "      <td>...</td>\n",
       "      <td>...</td>\n",
       "    </tr>\n",
       "    <tr>\n",
       "      <th>90</th>\n",
       "      <td>(AED) UAE Dirham (Selling)</td>\n",
       "      <td>TP.DK.AED.S.YTL</td>\n",
       "      <td>DAILY</td>\n",
       "      <td>2021-12-21</td>\n",
       "      <td>2022-08-22</td>\n",
       "    </tr>\n",
       "    <tr>\n",
       "      <th>91</th>\n",
       "      <td>(AED) UAE Dirham (Cross Rate)</td>\n",
       "      <td>TP.DK.AED.C.YTL</td>\n",
       "      <td>DAILY</td>\n",
       "      <td>2021-12-21</td>\n",
       "      <td>2022-08-22</td>\n",
       "    </tr>\n",
       "    <tr>\n",
       "      <th>92</th>\n",
       "      <td>(AZN) Azerbaijan New Manat (Buying)</td>\n",
       "      <td>TP.DK.AZN.A.YTL</td>\n",
       "      <td>DAILY</td>\n",
       "      <td>2021-12-22</td>\n",
       "      <td>2022-08-22</td>\n",
       "    </tr>\n",
       "    <tr>\n",
       "      <th>93</th>\n",
       "      <td>(AZN) Azerbaijan New Manat (Selling)</td>\n",
       "      <td>TP.DK.AZN.S.YTL</td>\n",
       "      <td>DAILY</td>\n",
       "      <td>2021-12-22</td>\n",
       "      <td>2022-08-22</td>\n",
       "    </tr>\n",
       "    <tr>\n",
       "      <th>94</th>\n",
       "      <td>(AZN) Azerbaijan New Manat (Cross Rate)</td>\n",
       "      <td>TP.DK.AZN.C.YTL</td>\n",
       "      <td>DAILY</td>\n",
       "      <td>2021-12-22</td>\n",
       "      <td>2022-08-22</td>\n",
       "    </tr>\n",
       "  </tbody>\n",
       "</table>\n",
       "<p>95 rows × 5 columns</p>\n",
       "</div>"
      ],
      "text/plain": [
       "                             SERIE_NAME_ENG       SERIE_CODE FREQUENCY_STR  \\\n",
       "0                  (USD) US Dollar (Buying)  TP.DK.USD.A.YTL         DAILY   \n",
       "1                 (USD) US Dollar (Selling)  TP.DK.USD.S.YTL         DAILY   \n",
       "2                       (EUR) Euro (Buying)  TP.DK.EUR.A.YTL         DAILY   \n",
       "3                      (EUR) Euro (Selling)  TP.DK.EUR.S.YTL         DAILY   \n",
       "4         (ATS) Austrian Schilling (Buying)  TP.DK.ATS.A.YTL         DAILY   \n",
       "..                                      ...              ...           ...   \n",
       "90               (AED) UAE Dirham (Selling)  TP.DK.AED.S.YTL         DAILY   \n",
       "91            (AED) UAE Dirham (Cross Rate)  TP.DK.AED.C.YTL         DAILY   \n",
       "92      (AZN) Azerbaijan New Manat (Buying)  TP.DK.AZN.A.YTL         DAILY   \n",
       "93     (AZN) Azerbaijan New Manat (Selling)  TP.DK.AZN.S.YTL         DAILY   \n",
       "94  (AZN) Azerbaijan New Manat (Cross Rate)  TP.DK.AZN.C.YTL         DAILY   \n",
       "\n",
       "   START_DATE   END_DATE  \n",
       "0  1950-01-02 2022-08-22  \n",
       "1  1950-01-02 2022-08-22  \n",
       "2  1999-01-04 2022-08-22  \n",
       "3  1999-01-04 2022-08-22  \n",
       "4  1961-07-03 2002-01-02  \n",
       "..        ...        ...  \n",
       "90 2021-12-21 2022-08-22  \n",
       "91 2021-12-21 2022-08-22  \n",
       "92 2021-12-22 2022-08-22  \n",
       "93 2021-12-22 2022-08-22  \n",
       "94 2021-12-22 2022-08-22  \n",
       "\n",
       "[95 rows x 5 columns]"
      ]
     },
     "execution_count": 41,
     "metadata": {},
     "output_type": "execute_result"
    }
   ],
   "source": [
    "group_effectives"
   ]
  },
  {
   "cell_type": "markdown",
   "metadata": {},
   "source": [
    "Groups can also be requested as `dict` type objects or `JSON` type raw data. In addition, a more detailed\n",
    "data belong to groups can be retrieved with the flag `verbose`."
   ]
  },
  {
   "cell_type": "code",
   "execution_count": 42,
   "metadata": {},
   "outputs": [],
   "source": [
    "# as dictionary\n",
    "groups_dict = connector.get_groups(\"bie_gsyhgycf\", as_dict=True)\n",
    "\n",
    "# as JSON\n",
    "groups_raw = connector.get_groups(\"bie_gsyhgycf\", raw=True)\n",
    "\n",
    "# a more detailed version of groups data can be requested with 'verbose' flag.\n",
    "detailed_groups = connector.get_groups(\"bie_gsyhgycf\", verbose=True)\n",
    "\n",
    "# an example usage of above ones\n",
    "detailed_dict = connector.get_groups(\"bie_gsyhgycf\", as_dict=True, verbose=True)"
   ]
  },
  {
   "cell_type": "code",
   "execution_count": 43,
   "metadata": {},
   "outputs": [
    {
     "name": "stdout",
     "output_type": "stream",
     "text": [
      "{'TP.GSYIH01.GY.CF': ['Agriculture, forestry and fishing(Thousand TL)',\n",
      "                      'QUARTERLY',\n",
      "                      '01-01-1998',\n",
      "                      '01-01-2022'],\n",
      " 'TP.GSYIH02.GY.CF': ['Industry(Thousand TL)',\n",
      "                      'QUARTERLY',\n",
      "                      '01-01-1998',\n",
      "                      '01-01-2022'],\n",
      " 'TP.GSYIH03.GY.CF': ['Manufacturing(Thousand TL)',\n",
      "                      'QUARTERLY',\n",
      "                      '01-01-1998',\n",
      "                      '01-01-2022'],\n",
      " 'TP.GSYIH04.GY.CF': ['Construction(Thousand TL)',\n",
      "                      'QUARTERLY',\n",
      "                      '01-01-1998',\n",
      "                      '01-01-2022'],\n",
      " 'TP.GSYIH05.GY.CF': ['Services(Thousand TL)',\n",
      "                      'QUARTERLY',\n",
      "                      '01-01-1998',\n",
      "                      '01-01-2022'],\n",
      " 'TP.GSYIH06.GY.CF': ['Information and communication(Thousand TL)',\n",
      "                      'QUARTERLY',\n",
      "                      '01-01-1998',\n",
      "                      '01-01-2022'],\n",
      " 'TP.GSYIH07.GY.CF': ['Financial and insurance activities(Thousand TL)',\n",
      "                      'QUARTERLY',\n",
      "                      '01-01-1998',\n",
      "                      '01-01-2022'],\n",
      " 'TP.GSYIH08.GY.CF': ['Real estate activities(Thousand TL)',\n",
      "                      'QUARTERLY',\n",
      "                      '01-01-1998',\n",
      "                      '01-01-2022'],\n",
      " 'TP.GSYIH09.GY.CF': ['Professional, administrative and support service '\n",
      "                      'activities(Thousand TL)',\n",
      "                      'QUARTERLY',\n",
      "                      '01-01-1998',\n",
      "                      '01-01-2022'],\n",
      " 'TP.GSYIH10.GY.CF': ['Public administration, education, human health and '\n",
      "                      'social work activities(Thousand TL)',\n",
      "                      'QUARTERLY',\n",
      "                      '01-01-1998',\n",
      "                      '01-01-2022'],\n",
      " 'TP.GSYIH11.GY.CF': ['Other service activities(Thousand TL)',\n",
      "                      'QUARTERLY',\n",
      "                      '01-01-1998',\n",
      "                      '01-01-2022'],\n",
      " 'TP.GSYIH14.GY.CF': ['Total compensation of employees(Thousand TL)',\n",
      "                      'QUARTERLY',\n",
      "                      '01-01-1998',\n",
      "                      '01-01-2022'],\n",
      " 'TP.GSYIH15.GY.CF': ['Net taxes on production(Thousand TL)',\n",
      "                      'QUARTERLY',\n",
      "                      '01-01-1998',\n",
      "                      '01-01-2022'],\n",
      " 'TP.GSYIH16.GY.CF': ['Gross Operating surplus(Thousand TL)',\n",
      "                      'QUARTERLY',\n",
      "                      '01-01-1998',\n",
      "                      '01-01-2022'],\n",
      " 'TP.GSYIH17.GY.CF': ['Consumption on fixed capital(Thousand TL)',\n",
      "                      'QUARTERLY',\n",
      "                      '01-01-1998',\n",
      "                      '01-01-2022'],\n",
      " 'TP.GSYIH18.GY.CF': ['Net operating surplus(Thousand TL)',\n",
      "                      'QUARTERLY',\n",
      "                      '01-01-1998',\n",
      "                      '01-01-2022'],\n",
      " 'TP.GSYIH19.GY.CF': ['Taxes less subsidies on products(Thousand TL)',\n",
      "                      'QUARTERLY',\n",
      "                      '01-01-1998',\n",
      "                      '01-01-2022'],\n",
      " 'TP.GSYIH26.GY.CF': [\"Gross Domestic Product (Purchaser's Price)(Thousand TL)\",\n",
      "                      'QUARTERLY',\n",
      "                      '01-01-1998',\n",
      "                      '01-01-2022']}\n"
     ]
    }
   ],
   "source": [
    "pprint(groups_dict)"
   ]
  },
  {
   "cell_type": "code",
   "execution_count": 44,
   "metadata": {},
   "outputs": [
    {
     "name": "stdout",
     "output_type": "stream",
     "text": [
      "[{'APP_CHA_LINK': 'http://www.tuik.gov.tr/PreTablo.do?alt_id=115',\n",
      "  'APP_CHA_LINK_ENG': 'http://www.turkstat.gov.tr/PreTablo.do?alt_id=115',\n",
      "  'DATAGROUP_CODE': 'bie_gsyhgycf',\n",
      "  'DATASOURCE': 'TÜİK',\n",
      "  'DATASOURCE_ENG': 'TURKSTAT',\n",
      "  'DEFAULT_AGG_METHOD': 'sum',\n",
      "  'DEFAULT_AGG_METHOD_STR': 'KÜMÜLATİF',\n",
      "  'END_DATE': '01-01-2022',\n",
      "  'FREQUENCY_STR': 'ÜÇ AYLIK',\n",
      "  'METADATA_LINK': 'http://www.tuik.gov.tr/PreTablo.do?alt_id=115',\n",
      "  'METADATA_LINK_ENG': 'http://www.turkstat.gov.tr/PreTablo.do?alt_id=115',\n",
      "  'REV_POL_LINK': 'http://www.tuik.gov.tr/PreTablo.do?alt_id=115',\n",
      "  'REV_POL_LINK_ENG': 'http://www.turkstat.gov.tr/PreTablo.do?alt_id=115',\n",
      "  'SERIE_CODE': 'TP.GSYIH01.GY.CF',\n",
      "  'SERIE_NAME': 'Tarım, ormancılık ve balıkçılık(Bin TL)',\n",
      "  'SERIE_NAME_ENG': 'Agriculture, forestry and fishing(Thousand TL)',\n",
      "  'START_DATE': '01-01-1998',\n",
      "  'TAG': 'GSYİH, Gayri, Safi, Yurtiçi, Hasıla',\n",
      "  'TAG_ENG': 'GDP, Gross, Domestic, Product'},\n",
      " {'APP_CHA_LINK': 'http://www.tuik.gov.tr/PreTablo.do?alt_id=115',\n",
      "  'APP_CHA_LINK_ENG': 'http://www.turkstat.gov.tr/PreTablo.do?alt_id=115',\n",
      "  'DATAGROUP_CODE': 'bie_gsyhgycf',\n",
      "  'DATASOURCE': 'TÜİK',\n",
      "  'DATASOURCE_ENG': 'TURKSTAT',\n",
      "  'DEFAULT_AGG_METHOD': 'sum',\n",
      "  'DEFAULT_AGG_METHOD_STR': 'KÜMÜLATİF',\n",
      "  'END_DATE': '01-01-2022',\n",
      "  'FREQUENCY_STR': 'ÜÇ AYLIK',\n",
      "  'METADATA_LINK': 'http://www.tuik.gov.tr/PreTablo.do?alt_id=115',\n",
      "  'METADATA_LINK_ENG': 'http://www.turkstat.gov.tr/PreTablo.do?alt_id=115',\n",
      "  'REV_POL_LINK': 'http://www.tuik.gov.tr/PreTablo.do?alt_id=115',\n",
      "  'REV_POL_LINK_ENG': 'http://www.turkstat.gov.tr/PreTablo.do?alt_id=115',\n",
      "  'SERIE_CODE': 'TP.GSYIH02.GY.CF',\n",
      "  'SERIE_NAME': 'Sanayi(Bin TL)',\n",
      "  'SERIE_NAME_ENG': 'Industry(Thousand TL)',\n",
      "  'START_DATE': '01-01-1998',\n",
      "  'TAG': 'GSYİH, Gayri, Safi, Yurtiçi, Hasıla',\n",
      "  'TAG_ENG': 'GDP, Gross, Domestic, Product'},\n",
      " {'APP_CHA_LINK': 'http://www.tuik.gov.tr/PreTablo.do?alt_id=115',\n",
      "  'APP_CHA_LINK_ENG': 'http://www.turkstat.gov.tr/PreTablo.do?alt_id=115',\n",
      "  'DATAGROUP_CODE': 'bie_gsyhgycf',\n",
      "  'DATASOURCE': 'TÜİK',\n",
      "  'DATASOURCE_ENG': 'TURKSTAT',\n",
      "  'DEFAULT_AGG_METHOD': 'sum',\n",
      "  'DEFAULT_AGG_METHOD_STR': 'KÜMÜLATİF',\n",
      "  'END_DATE': '01-01-2022',\n",
      "  'FREQUENCY_STR': 'ÜÇ AYLIK',\n",
      "  'METADATA_LINK': 'http://www.tuik.gov.tr/PreTablo.do?alt_id=115',\n",
      "  'METADATA_LINK_ENG': 'http://www.turkstat.gov.tr/PreTablo.do?alt_id=115',\n",
      "  'REV_POL_LINK': 'http://www.tuik.gov.tr/PreTablo.do?alt_id=115',\n",
      "  'REV_POL_LINK_ENG': 'http://www.turkstat.gov.tr/PreTablo.do?alt_id=115',\n",
      "  'SERIE_CODE': 'TP.GSYIH03.GY.CF',\n",
      "  'SERIE_NAME': 'İmalat sanayi(Bin TL)',\n",
      "  'SERIE_NAME_ENG': 'Manufacturing(Thousand TL)',\n",
      "  'START_DATE': '01-01-1998',\n",
      "  'TAG': 'GSYİH, Gayri, Safi, Yurtiçi, Hasıla',\n",
      "  'TAG_ENG': 'GDP, Gross, Domestic, Product'},\n",
      " {'APP_CHA_LINK': 'http://www.tuik.gov.tr/PreTablo.do?alt_id=115',\n",
      "  'APP_CHA_LINK_ENG': 'http://www.turkstat.gov.tr/PreTablo.do?alt_id=115',\n",
      "  'DATAGROUP_CODE': 'bie_gsyhgycf',\n",
      "  'DATASOURCE': 'TÜİK',\n",
      "  'DATASOURCE_ENG': 'TURKSTAT',\n",
      "  'DEFAULT_AGG_METHOD': 'sum',\n",
      "  'DEFAULT_AGG_METHOD_STR': 'KÜMÜLATİF',\n",
      "  'END_DATE': '01-01-2022',\n",
      "  'FREQUENCY_STR': 'ÜÇ AYLIK',\n",
      "  'METADATA_LINK': 'http://www.tuik.gov.tr/PreTablo.do?alt_id=115',\n",
      "  'METADATA_LINK_ENG': 'http://www.turkstat.gov.tr/PreTablo.do?alt_id=115',\n",
      "  'REV_POL_LINK': 'http://www.tuik.gov.tr/PreTablo.do?alt_id=115',\n",
      "  'REV_POL_LINK_ENG': 'http://www.turkstat.gov.tr/PreTablo.do?alt_id=115',\n",
      "  'SERIE_CODE': 'TP.GSYIH04.GY.CF',\n",
      "  'SERIE_NAME': 'İnşaat(Bin TL)',\n",
      "  'SERIE_NAME_ENG': 'Construction(Thousand TL)',\n",
      "  'START_DATE': '01-01-1998',\n",
      "  'TAG': 'GSYİH, Gayri, Safi, Yurtiçi, Hasıla',\n",
      "  'TAG_ENG': 'GDP, Gross, Domestic, Product'},\n",
      " {'APP_CHA_LINK': 'http://www.tuik.gov.tr/PreTablo.do?alt_id=115',\n",
      "  'APP_CHA_LINK_ENG': 'http://www.turkstat.gov.tr/PreTablo.do?alt_id=115',\n",
      "  'DATAGROUP_CODE': 'bie_gsyhgycf',\n",
      "  'DATASOURCE': 'TÜİK',\n",
      "  'DATASOURCE_ENG': 'TURKSTAT',\n",
      "  'DEFAULT_AGG_METHOD': 'sum',\n",
      "  'DEFAULT_AGG_METHOD_STR': 'KÜMÜLATİF',\n",
      "  'END_DATE': '01-01-2022',\n",
      "  'FREQUENCY_STR': 'ÜÇ AYLIK',\n",
      "  'METADATA_LINK': 'http://www.tuik.gov.tr/PreTablo.do?alt_id=115',\n",
      "  'METADATA_LINK_ENG': 'http://www.turkstat.gov.tr/PreTablo.do?alt_id=115',\n",
      "  'REV_POL_LINK': 'http://www.tuik.gov.tr/PreTablo.do?alt_id=115',\n",
      "  'REV_POL_LINK_ENG': 'http://www.turkstat.gov.tr/PreTablo.do?alt_id=115',\n",
      "  'SERIE_CODE': 'TP.GSYIH05.GY.CF',\n",
      "  'SERIE_NAME': 'Hizmetler(Bin TL)',\n",
      "  'SERIE_NAME_ENG': 'Services(Thousand TL)',\n",
      "  'START_DATE': '01-01-1998',\n",
      "  'TAG': 'GSYİH, Gayri, Safi, Yurtiçi, Hasıla',\n",
      "  'TAG_ENG': 'GDP, Gross, Domestic, Product'},\n",
      " {'APP_CHA_LINK': 'http://www.tuik.gov.tr/PreTablo.do?alt_id=115',\n",
      "  'APP_CHA_LINK_ENG': 'http://www.turkstat.gov.tr/PreTablo.do?alt_id=115',\n",
      "  'DATAGROUP_CODE': 'bie_gsyhgycf',\n",
      "  'DATASOURCE': 'TÜİK',\n",
      "  'DATASOURCE_ENG': 'TURKSTAT',\n",
      "  'DEFAULT_AGG_METHOD': 'sum',\n",
      "  'DEFAULT_AGG_METHOD_STR': 'KÜMÜLATİF',\n",
      "  'END_DATE': '01-01-2022',\n",
      "  'FREQUENCY_STR': 'ÜÇ AYLIK',\n",
      "  'METADATA_LINK': 'http://www.tuik.gov.tr/PreTablo.do?alt_id=115',\n",
      "  'METADATA_LINK_ENG': 'http://www.turkstat.gov.tr/PreTablo.do?alt_id=115',\n",
      "  'REV_POL_LINK': 'http://www.tuik.gov.tr/PreTablo.do?alt_id=115',\n",
      "  'REV_POL_LINK_ENG': 'http://www.turkstat.gov.tr/PreTablo.do?alt_id=115',\n",
      "  'SERIE_CODE': 'TP.GSYIH06.GY.CF',\n",
      "  'SERIE_NAME': 'Bilgi ve iletişim(Bin TL)',\n",
      "  'SERIE_NAME_ENG': 'Information and communication(Thousand TL)',\n",
      "  'START_DATE': '01-01-1998',\n",
      "  'TAG': 'GSYİH, Gayri, Safi, Yurtiçi, Hasıla',\n",
      "  'TAG_ENG': 'GDP, Gross, Domestic, Product'},\n",
      " {'APP_CHA_LINK': 'http://www.tuik.gov.tr/PreTablo.do?alt_id=115',\n",
      "  'APP_CHA_LINK_ENG': 'http://www.turkstat.gov.tr/PreTablo.do?alt_id=115',\n",
      "  'DATAGROUP_CODE': 'bie_gsyhgycf',\n",
      "  'DATASOURCE': 'TÜİK',\n",
      "  'DATASOURCE_ENG': 'TURKSTAT',\n",
      "  'DEFAULT_AGG_METHOD': 'sum',\n",
      "  'DEFAULT_AGG_METHOD_STR': 'KÜMÜLATİF',\n",
      "  'END_DATE': '01-01-2022',\n",
      "  'FREQUENCY_STR': 'ÜÇ AYLIK',\n",
      "  'METADATA_LINK': 'http://www.tuik.gov.tr/PreTablo.do?alt_id=115',\n",
      "  'METADATA_LINK_ENG': 'http://www.turkstat.gov.tr/PreTablo.do?alt_id=115',\n",
      "  'REV_POL_LINK': 'http://www.tuik.gov.tr/PreTablo.do?alt_id=115',\n",
      "  'REV_POL_LINK_ENG': 'http://www.turkstat.gov.tr/PreTablo.do?alt_id=115',\n",
      "  'SERIE_CODE': 'TP.GSYIH07.GY.CF',\n",
      "  'SERIE_NAME': 'Finans ve sigorta faaliyetleri(Bin TL)',\n",
      "  'SERIE_NAME_ENG': 'Financial and insurance activities(Thousand TL)',\n",
      "  'START_DATE': '01-01-1998',\n",
      "  'TAG': 'GSYİH, Gayri, Safi, Yurtiçi, Hasıla',\n",
      "  'TAG_ENG': 'GDP, Gross, Domestic, Product'},\n",
      " {'APP_CHA_LINK': 'http://www.tuik.gov.tr/PreTablo.do?alt_id=115',\n",
      "  'APP_CHA_LINK_ENG': 'http://www.turkstat.gov.tr/PreTablo.do?alt_id=115',\n",
      "  'DATAGROUP_CODE': 'bie_gsyhgycf',\n",
      "  'DATASOURCE': 'TÜİK',\n",
      "  'DATASOURCE_ENG': 'TURKSTAT',\n",
      "  'DEFAULT_AGG_METHOD': 'sum',\n",
      "  'DEFAULT_AGG_METHOD_STR': 'KÜMÜLATİF',\n",
      "  'END_DATE': '01-01-2022',\n",
      "  'FREQUENCY_STR': 'ÜÇ AYLIK',\n",
      "  'METADATA_LINK': 'http://www.tuik.gov.tr/PreTablo.do?alt_id=115',\n",
      "  'METADATA_LINK_ENG': 'http://www.turkstat.gov.tr/PreTablo.do?alt_id=115',\n",
      "  'REV_POL_LINK': 'http://www.tuik.gov.tr/PreTablo.do?alt_id=115',\n",
      "  'REV_POL_LINK_ENG': 'http://www.turkstat.gov.tr/PreTablo.do?alt_id=115',\n",
      "  'SERIE_CODE': 'TP.GSYIH08.GY.CF',\n",
      "  'SERIE_NAME': 'Gayrimenkul faaliyetleri(Bin TL)',\n",
      "  'SERIE_NAME_ENG': 'Real estate activities(Thousand TL)',\n",
      "  'START_DATE': '01-01-1998',\n",
      "  'TAG': 'GSYİH, Gayri, Safi, Yurtiçi, Hasıla',\n",
      "  'TAG_ENG': 'GDP, Gross, Domestic, Product'},\n",
      " {'APP_CHA_LINK': 'http://www.tuik.gov.tr/PreTablo.do?alt_id=115',\n",
      "  'APP_CHA_LINK_ENG': 'http://www.turkstat.gov.tr/PreTablo.do?alt_id=115',\n",
      "  'DATAGROUP_CODE': 'bie_gsyhgycf',\n",
      "  'DATASOURCE': 'TÜİK',\n",
      "  'DATASOURCE_ENG': 'TURKSTAT',\n",
      "  'DEFAULT_AGG_METHOD': 'sum',\n",
      "  'DEFAULT_AGG_METHOD_STR': 'KÜMÜLATİF',\n",
      "  'END_DATE': '01-01-2022',\n",
      "  'FREQUENCY_STR': 'ÜÇ AYLIK',\n",
      "  'METADATA_LINK': 'http://www.tuik.gov.tr/PreTablo.do?alt_id=115',\n",
      "  'METADATA_LINK_ENG': 'http://www.turkstat.gov.tr/PreTablo.do?alt_id=115',\n",
      "  'REV_POL_LINK': 'http://www.tuik.gov.tr/PreTablo.do?alt_id=115',\n",
      "  'REV_POL_LINK_ENG': 'http://www.turkstat.gov.tr/PreTablo.do?alt_id=115',\n",
      "  'SERIE_CODE': 'TP.GSYIH09.GY.CF',\n",
      "  'SERIE_NAME': 'Mesleki, idari ve destek hizmet faaliyetleri(Bin TL)',\n",
      "  'SERIE_NAME_ENG': 'Professional, administrative and support service '\n",
      "                    'activities(Thousand TL)',\n",
      "  'START_DATE': '01-01-1998',\n",
      "  'TAG': 'GSYİH, Gayri, Safi, Yurtiçi, Hasıla',\n",
      "  'TAG_ENG': 'GDP, Gross, Domestic, Product'},\n",
      " {'APP_CHA_LINK': 'http://www.tuik.gov.tr/PreTablo.do?alt_id=115',\n",
      "  'APP_CHA_LINK_ENG': 'http://www.turkstat.gov.tr/PreTablo.do?alt_id=115',\n",
      "  'DATAGROUP_CODE': 'bie_gsyhgycf',\n",
      "  'DATASOURCE': 'TÜİK',\n",
      "  'DATASOURCE_ENG': 'TURKSTAT',\n",
      "  'DEFAULT_AGG_METHOD': 'sum',\n",
      "  'DEFAULT_AGG_METHOD_STR': 'KÜMÜLATİF',\n",
      "  'END_DATE': '01-01-2022',\n",
      "  'FREQUENCY_STR': 'ÜÇ AYLIK',\n",
      "  'METADATA_LINK': 'http://www.tuik.gov.tr/PreTablo.do?alt_id=115',\n",
      "  'METADATA_LINK_ENG': 'http://www.turkstat.gov.tr/PreTablo.do?alt_id=115',\n",
      "  'REV_POL_LINK': 'http://www.tuik.gov.tr/PreTablo.do?alt_id=115',\n",
      "  'REV_POL_LINK_ENG': 'http://www.turkstat.gov.tr/PreTablo.do?alt_id=115',\n",
      "  'SERIE_CODE': 'TP.GSYIH10.GY.CF',\n",
      "  'SERIE_NAME': 'Kamu yönetimi, eğitim, insan sağlığı ve sosyal hizmet '\n",
      "                'faaliyetleri(Bin TL)',\n",
      "  'SERIE_NAME_ENG': 'Public administration, education, human health and social '\n",
      "                    'work activities(Thousand TL)',\n",
      "  'START_DATE': '01-01-1998',\n",
      "  'TAG': 'GSYİH, Gayri, Safi, Yurtiçi, Hasıla',\n",
      "  'TAG_ENG': 'GDP, Gross, Domestic, Product'},\n",
      " {'APP_CHA_LINK': 'http://www.tuik.gov.tr/PreTablo.do?alt_id=115',\n",
      "  'APP_CHA_LINK_ENG': 'http://www.turkstat.gov.tr/PreTablo.do?alt_id=115',\n",
      "  'DATAGROUP_CODE': 'bie_gsyhgycf',\n",
      "  'DATASOURCE': 'TÜİK',\n",
      "  'DATASOURCE_ENG': 'TURKSTAT',\n",
      "  'DEFAULT_AGG_METHOD': 'sum',\n",
      "  'DEFAULT_AGG_METHOD_STR': 'KÜMÜLATİF',\n",
      "  'END_DATE': '01-01-2022',\n",
      "  'FREQUENCY_STR': 'ÜÇ AYLIK',\n",
      "  'METADATA_LINK': 'http://www.tuik.gov.tr/PreTablo.do?alt_id=115',\n",
      "  'METADATA_LINK_ENG': 'http://www.turkstat.gov.tr/PreTablo.do?alt_id=115',\n",
      "  'REV_POL_LINK': 'http://www.tuik.gov.tr/PreTablo.do?alt_id=115',\n",
      "  'REV_POL_LINK_ENG': 'http://www.turkstat.gov.tr/PreTablo.do?alt_id=115',\n",
      "  'SERIE_CODE': 'TP.GSYIH11.GY.CF',\n",
      "  'SERIE_NAME': 'Diğer hizmet faaliyetleri(Bin TL)',\n",
      "  'SERIE_NAME_ENG': 'Other service activities(Thousand TL)',\n",
      "  'START_DATE': '01-01-1998',\n",
      "  'TAG': 'GSYİH, Gayri, Safi, Yurtiçi, Hasıla',\n",
      "  'TAG_ENG': 'GDP, Gross, Domestic, Product'},\n",
      " {'APP_CHA_LINK': 'http://www.tuik.gov.tr/PreTablo.do?alt_id=115',\n",
      "  'APP_CHA_LINK_ENG': 'http://www.turkstat.gov.tr/PreTablo.do?alt_id=115',\n",
      "  'DATAGROUP_CODE': 'bie_gsyhgycf',\n",
      "  'DATASOURCE': 'TÜİK',\n",
      "  'DATASOURCE_ENG': 'TURKSTAT',\n",
      "  'DEFAULT_AGG_METHOD': 'sum',\n",
      "  'DEFAULT_AGG_METHOD_STR': 'KÜMÜLATİF',\n",
      "  'END_DATE': '01-01-2022',\n",
      "  'FREQUENCY_STR': 'ÜÇ AYLIK',\n",
      "  'METADATA_LINK': 'http://www.tuik.gov.tr/PreTablo.do?alt_id=115',\n",
      "  'METADATA_LINK_ENG': 'http://www.turkstat.gov.tr/PreTablo.do?alt_id=115',\n",
      "  'REV_POL_LINK': 'http://www.tuik.gov.tr/PreTablo.do?alt_id=115',\n",
      "  'REV_POL_LINK_ENG': 'http://www.turkstat.gov.tr/PreTablo.do?alt_id=115',\n",
      "  'SERIE_CODE': 'TP.GSYIH14.GY.CF',\n",
      "  'SERIE_NAME': 'Toplam işgücü ödemeleri(Bin TL)',\n",
      "  'SERIE_NAME_ENG': 'Total compensation of employees(Thousand TL)',\n",
      "  'START_DATE': '01-01-1998',\n",
      "  'TAG': 'GSYİH, Gayri, Safi, Yurtiçi, Hasıla',\n",
      "  'TAG_ENG': 'GDP, Gross, Domestic, Product'},\n",
      " {'APP_CHA_LINK': 'http://www.tuik.gov.tr/PreTablo.do?alt_id=115',\n",
      "  'APP_CHA_LINK_ENG': 'http://www.turkstat.gov.tr/PreTablo.do?alt_id=115',\n",
      "  'DATAGROUP_CODE': 'bie_gsyhgycf',\n",
      "  'DATASOURCE': 'TÜİK',\n",
      "  'DATASOURCE_ENG': 'TURKSTAT',\n",
      "  'DEFAULT_AGG_METHOD': 'sum',\n",
      "  'DEFAULT_AGG_METHOD_STR': 'KÜMÜLATİF',\n",
      "  'END_DATE': '01-01-2022',\n",
      "  'FREQUENCY_STR': 'ÜÇ AYLIK',\n",
      "  'METADATA_LINK': 'http://www.tuik.gov.tr/PreTablo.do?alt_id=115',\n",
      "  'METADATA_LINK_ENG': 'http://www.turkstat.gov.tr/PreTablo.do?alt_id=115',\n",
      "  'REV_POL_LINK': 'http://www.tuik.gov.tr/PreTablo.do?alt_id=115',\n",
      "  'REV_POL_LINK_ENG': 'http://www.turkstat.gov.tr/PreTablo.do?alt_id=115',\n",
      "  'SERIE_CODE': 'TP.GSYIH15.GY.CF',\n",
      "  'SERIE_NAME': 'Üretim üzerindeki net vergiler(Bin TL)',\n",
      "  'SERIE_NAME_ENG': 'Net taxes on production(Thousand TL)',\n",
      "  'START_DATE': '01-01-1998',\n",
      "  'TAG': 'GSYİH, Gayri, Safi, Yurtiçi, Hasıla',\n",
      "  'TAG_ENG': 'GDP, Gross, Domestic, Product'},\n",
      " {'APP_CHA_LINK': 'http://www.tuik.gov.tr/PreTablo.do?alt_id=115',\n",
      "  'APP_CHA_LINK_ENG': 'http://www.turkstat.gov.tr/PreTablo.do?alt_id=115',\n",
      "  'DATAGROUP_CODE': 'bie_gsyhgycf',\n",
      "  'DATASOURCE': 'TÜİK',\n",
      "  'DATASOURCE_ENG': 'TURKSTAT',\n",
      "  'DEFAULT_AGG_METHOD': 'sum',\n",
      "  'DEFAULT_AGG_METHOD_STR': 'KÜMÜLATİF',\n",
      "  'END_DATE': '01-01-2022',\n",
      "  'FREQUENCY_STR': 'ÜÇ AYLIK',\n",
      "  'METADATA_LINK': 'http://www.tuik.gov.tr/PreTablo.do?alt_id=115',\n",
      "  'METADATA_LINK_ENG': 'http://www.turkstat.gov.tr/PreTablo.do?alt_id=115',\n",
      "  'REV_POL_LINK': 'http://www.tuik.gov.tr/PreTablo.do?alt_id=115',\n",
      "  'REV_POL_LINK_ENG': 'http://www.turkstat.gov.tr/PreTablo.do?alt_id=115',\n",
      "  'SERIE_CODE': 'TP.GSYIH16.GY.CF',\n",
      "  'SERIE_NAME': 'Brüt işletme artığı/karma gelir(Bin TL)',\n",
      "  'SERIE_NAME_ENG': 'Gross Operating surplus(Thousand TL)',\n",
      "  'START_DATE': '01-01-1998',\n",
      "  'TAG': 'GSYİH, Gayri, Safi, Yurtiçi, Hasıla',\n",
      "  'TAG_ENG': 'GDP, Gross, Domestic, Product'},\n",
      " {'APP_CHA_LINK': 'http://www.tuik.gov.tr/PreTablo.do?alt_id=115',\n",
      "  'APP_CHA_LINK_ENG': 'http://www.turkstat.gov.tr/PreTablo.do?alt_id=115',\n",
      "  'DATAGROUP_CODE': 'bie_gsyhgycf',\n",
      "  'DATASOURCE': 'TÜİK',\n",
      "  'DATASOURCE_ENG': 'TURKSTAT',\n",
      "  'DEFAULT_AGG_METHOD': 'sum',\n",
      "  'DEFAULT_AGG_METHOD_STR': 'KÜMÜLATİF',\n",
      "  'END_DATE': '01-01-2022',\n",
      "  'FREQUENCY_STR': 'ÜÇ AYLIK',\n",
      "  'METADATA_LINK': 'http://www.tuik.gov.tr/PreTablo.do?alt_id=115',\n",
      "  'METADATA_LINK_ENG': 'http://www.turkstat.gov.tr/PreTablo.do?alt_id=115',\n",
      "  'REV_POL_LINK': 'http://www.tuik.gov.tr/PreTablo.do?alt_id=115',\n",
      "  'REV_POL_LINK_ENG': 'http://www.turkstat.gov.tr/PreTablo.do?alt_id=115',\n",
      "  'SERIE_CODE': 'TP.GSYIH17.GY.CF',\n",
      "  'SERIE_NAME': 'Sabit sermaye tüketimi(Bin TL)',\n",
      "  'SERIE_NAME_ENG': 'Consumption on fixed capital(Thousand TL)',\n",
      "  'START_DATE': '01-01-1998',\n",
      "  'TAG': 'GSYİH, Gayri, Safi, Yurtiçi, Hasıla',\n",
      "  'TAG_ENG': 'GDP, Gross, Domestic, Product'},\n",
      " {'APP_CHA_LINK': 'http://www.tuik.gov.tr/PreTablo.do?alt_id=115',\n",
      "  'APP_CHA_LINK_ENG': 'http://www.turkstat.gov.tr/PreTablo.do?alt_id=115',\n",
      "  'DATAGROUP_CODE': 'bie_gsyhgycf',\n",
      "  'DATASOURCE': 'TÜİK',\n",
      "  'DATASOURCE_ENG': 'TURKSTAT',\n",
      "  'DEFAULT_AGG_METHOD': 'sum',\n",
      "  'DEFAULT_AGG_METHOD_STR': 'KÜMÜLATİF',\n",
      "  'END_DATE': '01-01-2022',\n",
      "  'FREQUENCY_STR': 'ÜÇ AYLIK',\n",
      "  'METADATA_LINK': 'http://www.tuik.gov.tr/PreTablo.do?alt_id=115',\n",
      "  'METADATA_LINK_ENG': 'http://www.turkstat.gov.tr/PreTablo.do?alt_id=115',\n",
      "  'REV_POL_LINK': 'http://www.tuik.gov.tr/PreTablo.do?alt_id=115',\n",
      "  'REV_POL_LINK_ENG': 'http://www.turkstat.gov.tr/PreTablo.do?alt_id=115',\n",
      "  'SERIE_CODE': 'TP.GSYIH18.GY.CF',\n",
      "  'SERIE_NAME': 'Net işletme artığı/karma gelir(Bin TL)',\n",
      "  'SERIE_NAME_ENG': 'Net operating surplus(Thousand TL)',\n",
      "  'START_DATE': '01-01-1998',\n",
      "  'TAG': 'GSYİH, Gayri, Safi, Yurtiçi, Hasıla',\n",
      "  'TAG_ENG': 'GDP, Gross, Domestic, Product'},\n",
      " {'APP_CHA_LINK': 'http://www.tuik.gov.tr/PreTablo.do?alt_id=115',\n",
      "  'APP_CHA_LINK_ENG': 'http://www.turkstat.gov.tr/PreTablo.do?alt_id=115',\n",
      "  'DATAGROUP_CODE': 'bie_gsyhgycf',\n",
      "  'DATASOURCE': 'TÜİK',\n",
      "  'DATASOURCE_ENG': 'TURKSTAT',\n",
      "  'DEFAULT_AGG_METHOD': 'sum',\n",
      "  'DEFAULT_AGG_METHOD_STR': 'KÜMÜLATİF',\n",
      "  'END_DATE': '01-01-2022',\n",
      "  'FREQUENCY_STR': 'ÜÇ AYLIK',\n",
      "  'METADATA_LINK': 'http://www.tuik.gov.tr/PreTablo.do?alt_id=115',\n",
      "  'METADATA_LINK_ENG': 'http://www.turkstat.gov.tr/PreTablo.do?alt_id=115',\n",
      "  'REV_POL_LINK': 'http://www.tuik.gov.tr/PreTablo.do?alt_id=115',\n",
      "  'REV_POL_LINK_ENG': 'http://www.turkstat.gov.tr/PreTablo.do?alt_id=115',\n",
      "  'SERIE_CODE': 'TP.GSYIH19.GY.CF',\n",
      "  'SERIE_NAME': 'Ürün üzerindeki vergiler eksi sübvansiyonlar(Bin TL)',\n",
      "  'SERIE_NAME_ENG': 'Taxes less subsidies on products(Thousand TL)',\n",
      "  'START_DATE': '01-01-1998',\n",
      "  'TAG': 'GSYİH, Gayri, Safi, Yurtiçi, Hasıla',\n",
      "  'TAG_ENG': 'GDP, Gross, Domestic, Product'},\n",
      " {'APP_CHA_LINK': 'http://www.tuik.gov.tr/PreTablo.do?alt_id=115',\n",
      "  'APP_CHA_LINK_ENG': 'http://www.turkstat.gov.tr/PreTablo.do?alt_id=115',\n",
      "  'DATAGROUP_CODE': 'bie_gsyhgycf',\n",
      "  'DATASOURCE': 'TÜİK',\n",
      "  'DATASOURCE_ENG': 'TURKSTAT',\n",
      "  'DEFAULT_AGG_METHOD': 'sum',\n",
      "  'DEFAULT_AGG_METHOD_STR': 'KÜMÜLATİF',\n",
      "  'END_DATE': '01-01-2022',\n",
      "  'FREQUENCY_STR': 'ÜÇ AYLIK',\n",
      "  'METADATA_LINK': 'http://www.tuik.gov.tr/PreTablo.do?alt_id=115',\n",
      "  'METADATA_LINK_ENG': 'http://www.turkstat.gov.tr/PreTablo.do?alt_id=115',\n",
      "  'REV_POL_LINK': 'http://www.tuik.gov.tr/PreTablo.do?alt_id=115',\n",
      "  'REV_POL_LINK_ENG': 'http://www.turkstat.gov.tr/PreTablo.do?alt_id=115',\n",
      "  'SERIE_CODE': 'TP.GSYIH26.GY.CF',\n",
      "  'SERIE_NAME': 'Gayrisafi Yurtiçi Hasıla (Alıcı fiyatlarıyla)(Bin TL)',\n",
      "  'SERIE_NAME_ENG': \"Gross Domestic Product (Purchaser's Price)(Thousand TL)\",\n",
      "  'START_DATE': '01-01-1998',\n",
      "  'TAG': 'GSYİH, Gayri, Safi, Yurtiçi, Hasıla',\n",
      "  'TAG_ENG': 'GDP, Gross, Domestic, Product'}]\n"
     ]
    }
   ],
   "source": [
    "pprint(groups_raw)"
   ]
  },
  {
   "cell_type": "code",
   "execution_count": 45,
   "metadata": {},
   "outputs": [
    {
     "name": "stdout",
     "output_type": "stream",
     "text": [
      "{'TP.GSYIH01.GY.CF': ['bie_gsyhgycf',\n",
      "                      'Tarım, ormancılık ve balıkçılık(Bin TL)',\n",
      "                      'Agriculture, forestry and fishing(Thousand TL)',\n",
      "                      'QUARTERLY',\n",
      "                      'KÜMÜLATİF',\n",
      "                      'sum',\n",
      "                      'GSYİH, Gayri, Safi, Yurtiçi, Hasıla',\n",
      "                      'GDP, Gross, Domestic, Product',\n",
      "                      'TÜİK',\n",
      "                      'TURKSTAT',\n",
      "                      'http://www.tuik.gov.tr/PreTablo.do?alt_id=115',\n",
      "                      'http://www.turkstat.gov.tr/PreTablo.do?alt_id=115',\n",
      "                      'http://www.tuik.gov.tr/PreTablo.do?alt_id=115',\n",
      "                      'http://www.turkstat.gov.tr/PreTablo.do?alt_id=115',\n",
      "                      'http://www.tuik.gov.tr/PreTablo.do?alt_id=115',\n",
      "                      'http://www.turkstat.gov.tr/PreTablo.do?alt_id=115',\n",
      "                      '01-01-1998',\n",
      "                      '01-01-2022'],\n",
      " 'TP.GSYIH02.GY.CF': ['bie_gsyhgycf',\n",
      "                      'Sanayi(Bin TL)',\n",
      "                      'Industry(Thousand TL)',\n",
      "                      'QUARTERLY',\n",
      "                      'KÜMÜLATİF',\n",
      "                      'sum',\n",
      "                      'GSYİH, Gayri, Safi, Yurtiçi, Hasıla',\n",
      "                      'GDP, Gross, Domestic, Product',\n",
      "                      'TÜİK',\n",
      "                      'TURKSTAT',\n",
      "                      'http://www.tuik.gov.tr/PreTablo.do?alt_id=115',\n",
      "                      'http://www.turkstat.gov.tr/PreTablo.do?alt_id=115',\n",
      "                      'http://www.tuik.gov.tr/PreTablo.do?alt_id=115',\n",
      "                      'http://www.turkstat.gov.tr/PreTablo.do?alt_id=115',\n",
      "                      'http://www.tuik.gov.tr/PreTablo.do?alt_id=115',\n",
      "                      'http://www.turkstat.gov.tr/PreTablo.do?alt_id=115',\n",
      "                      '01-01-1998',\n",
      "                      '01-01-2022'],\n",
      " 'TP.GSYIH03.GY.CF': ['bie_gsyhgycf',\n",
      "                      'İmalat sanayi(Bin TL)',\n",
      "                      'Manufacturing(Thousand TL)',\n",
      "                      'QUARTERLY',\n",
      "                      'KÜMÜLATİF',\n",
      "                      'sum',\n",
      "                      'GSYİH, Gayri, Safi, Yurtiçi, Hasıla',\n",
      "                      'GDP, Gross, Domestic, Product',\n",
      "                      'TÜİK',\n",
      "                      'TURKSTAT',\n",
      "                      'http://www.tuik.gov.tr/PreTablo.do?alt_id=115',\n",
      "                      'http://www.turkstat.gov.tr/PreTablo.do?alt_id=115',\n",
      "                      'http://www.tuik.gov.tr/PreTablo.do?alt_id=115',\n",
      "                      'http://www.turkstat.gov.tr/PreTablo.do?alt_id=115',\n",
      "                      'http://www.tuik.gov.tr/PreTablo.do?alt_id=115',\n",
      "                      'http://www.turkstat.gov.tr/PreTablo.do?alt_id=115',\n",
      "                      '01-01-1998',\n",
      "                      '01-01-2022'],\n",
      " 'TP.GSYIH04.GY.CF': ['bie_gsyhgycf',\n",
      "                      'İnşaat(Bin TL)',\n",
      "                      'Construction(Thousand TL)',\n",
      "                      'QUARTERLY',\n",
      "                      'KÜMÜLATİF',\n",
      "                      'sum',\n",
      "                      'GSYİH, Gayri, Safi, Yurtiçi, Hasıla',\n",
      "                      'GDP, Gross, Domestic, Product',\n",
      "                      'TÜİK',\n",
      "                      'TURKSTAT',\n",
      "                      'http://www.tuik.gov.tr/PreTablo.do?alt_id=115',\n",
      "                      'http://www.turkstat.gov.tr/PreTablo.do?alt_id=115',\n",
      "                      'http://www.tuik.gov.tr/PreTablo.do?alt_id=115',\n",
      "                      'http://www.turkstat.gov.tr/PreTablo.do?alt_id=115',\n",
      "                      'http://www.tuik.gov.tr/PreTablo.do?alt_id=115',\n",
      "                      'http://www.turkstat.gov.tr/PreTablo.do?alt_id=115',\n",
      "                      '01-01-1998',\n",
      "                      '01-01-2022'],\n",
      " 'TP.GSYIH05.GY.CF': ['bie_gsyhgycf',\n",
      "                      'Hizmetler(Bin TL)',\n",
      "                      'Services(Thousand TL)',\n",
      "                      'QUARTERLY',\n",
      "                      'KÜMÜLATİF',\n",
      "                      'sum',\n",
      "                      'GSYİH, Gayri, Safi, Yurtiçi, Hasıla',\n",
      "                      'GDP, Gross, Domestic, Product',\n",
      "                      'TÜİK',\n",
      "                      'TURKSTAT',\n",
      "                      'http://www.tuik.gov.tr/PreTablo.do?alt_id=115',\n",
      "                      'http://www.turkstat.gov.tr/PreTablo.do?alt_id=115',\n",
      "                      'http://www.tuik.gov.tr/PreTablo.do?alt_id=115',\n",
      "                      'http://www.turkstat.gov.tr/PreTablo.do?alt_id=115',\n",
      "                      'http://www.tuik.gov.tr/PreTablo.do?alt_id=115',\n",
      "                      'http://www.turkstat.gov.tr/PreTablo.do?alt_id=115',\n",
      "                      '01-01-1998',\n",
      "                      '01-01-2022'],\n",
      " 'TP.GSYIH06.GY.CF': ['bie_gsyhgycf',\n",
      "                      'Bilgi ve iletişim(Bin TL)',\n",
      "                      'Information and communication(Thousand TL)',\n",
      "                      'QUARTERLY',\n",
      "                      'KÜMÜLATİF',\n",
      "                      'sum',\n",
      "                      'GSYİH, Gayri, Safi, Yurtiçi, Hasıla',\n",
      "                      'GDP, Gross, Domestic, Product',\n",
      "                      'TÜİK',\n",
      "                      'TURKSTAT',\n",
      "                      'http://www.tuik.gov.tr/PreTablo.do?alt_id=115',\n",
      "                      'http://www.turkstat.gov.tr/PreTablo.do?alt_id=115',\n",
      "                      'http://www.tuik.gov.tr/PreTablo.do?alt_id=115',\n",
      "                      'http://www.turkstat.gov.tr/PreTablo.do?alt_id=115',\n",
      "                      'http://www.tuik.gov.tr/PreTablo.do?alt_id=115',\n",
      "                      'http://www.turkstat.gov.tr/PreTablo.do?alt_id=115',\n",
      "                      '01-01-1998',\n",
      "                      '01-01-2022'],\n",
      " 'TP.GSYIH07.GY.CF': ['bie_gsyhgycf',\n",
      "                      'Finans ve sigorta faaliyetleri(Bin TL)',\n",
      "                      'Financial and insurance activities(Thousand TL)',\n",
      "                      'QUARTERLY',\n",
      "                      'KÜMÜLATİF',\n",
      "                      'sum',\n",
      "                      'GSYİH, Gayri, Safi, Yurtiçi, Hasıla',\n",
      "                      'GDP, Gross, Domestic, Product',\n",
      "                      'TÜİK',\n",
      "                      'TURKSTAT',\n",
      "                      'http://www.tuik.gov.tr/PreTablo.do?alt_id=115',\n",
      "                      'http://www.turkstat.gov.tr/PreTablo.do?alt_id=115',\n",
      "                      'http://www.tuik.gov.tr/PreTablo.do?alt_id=115',\n",
      "                      'http://www.turkstat.gov.tr/PreTablo.do?alt_id=115',\n",
      "                      'http://www.tuik.gov.tr/PreTablo.do?alt_id=115',\n",
      "                      'http://www.turkstat.gov.tr/PreTablo.do?alt_id=115',\n",
      "                      '01-01-1998',\n",
      "                      '01-01-2022'],\n",
      " 'TP.GSYIH08.GY.CF': ['bie_gsyhgycf',\n",
      "                      'Gayrimenkul faaliyetleri(Bin TL)',\n",
      "                      'Real estate activities(Thousand TL)',\n",
      "                      'QUARTERLY',\n",
      "                      'KÜMÜLATİF',\n",
      "                      'sum',\n",
      "                      'GSYİH, Gayri, Safi, Yurtiçi, Hasıla',\n",
      "                      'GDP, Gross, Domestic, Product',\n",
      "                      'TÜİK',\n",
      "                      'TURKSTAT',\n",
      "                      'http://www.tuik.gov.tr/PreTablo.do?alt_id=115',\n",
      "                      'http://www.turkstat.gov.tr/PreTablo.do?alt_id=115',\n",
      "                      'http://www.tuik.gov.tr/PreTablo.do?alt_id=115',\n",
      "                      'http://www.turkstat.gov.tr/PreTablo.do?alt_id=115',\n",
      "                      'http://www.tuik.gov.tr/PreTablo.do?alt_id=115',\n",
      "                      'http://www.turkstat.gov.tr/PreTablo.do?alt_id=115',\n",
      "                      '01-01-1998',\n",
      "                      '01-01-2022'],\n",
      " 'TP.GSYIH09.GY.CF': ['bie_gsyhgycf',\n",
      "                      'Mesleki, idari ve destek hizmet faaliyetleri(Bin TL)',\n",
      "                      'Professional, administrative and support service '\n",
      "                      'activities(Thousand TL)',\n",
      "                      'QUARTERLY',\n",
      "                      'KÜMÜLATİF',\n",
      "                      'sum',\n",
      "                      'GSYİH, Gayri, Safi, Yurtiçi, Hasıla',\n",
      "                      'GDP, Gross, Domestic, Product',\n",
      "                      'TÜİK',\n",
      "                      'TURKSTAT',\n",
      "                      'http://www.tuik.gov.tr/PreTablo.do?alt_id=115',\n",
      "                      'http://www.turkstat.gov.tr/PreTablo.do?alt_id=115',\n",
      "                      'http://www.tuik.gov.tr/PreTablo.do?alt_id=115',\n",
      "                      'http://www.turkstat.gov.tr/PreTablo.do?alt_id=115',\n",
      "                      'http://www.tuik.gov.tr/PreTablo.do?alt_id=115',\n",
      "                      'http://www.turkstat.gov.tr/PreTablo.do?alt_id=115',\n",
      "                      '01-01-1998',\n",
      "                      '01-01-2022'],\n",
      " 'TP.GSYIH10.GY.CF': ['bie_gsyhgycf',\n",
      "                      'Kamu yönetimi, eğitim, insan sağlığı ve sosyal hizmet '\n",
      "                      'faaliyetleri(Bin TL)',\n",
      "                      'Public administration, education, human health and '\n",
      "                      'social work activities(Thousand TL)',\n",
      "                      'QUARTERLY',\n",
      "                      'KÜMÜLATİF',\n",
      "                      'sum',\n",
      "                      'GSYİH, Gayri, Safi, Yurtiçi, Hasıla',\n",
      "                      'GDP, Gross, Domestic, Product',\n",
      "                      'TÜİK',\n",
      "                      'TURKSTAT',\n",
      "                      'http://www.tuik.gov.tr/PreTablo.do?alt_id=115',\n",
      "                      'http://www.turkstat.gov.tr/PreTablo.do?alt_id=115',\n",
      "                      'http://www.tuik.gov.tr/PreTablo.do?alt_id=115',\n",
      "                      'http://www.turkstat.gov.tr/PreTablo.do?alt_id=115',\n",
      "                      'http://www.tuik.gov.tr/PreTablo.do?alt_id=115',\n",
      "                      'http://www.turkstat.gov.tr/PreTablo.do?alt_id=115',\n",
      "                      '01-01-1998',\n",
      "                      '01-01-2022'],\n",
      " 'TP.GSYIH11.GY.CF': ['bie_gsyhgycf',\n",
      "                      'Diğer hizmet faaliyetleri(Bin TL)',\n",
      "                      'Other service activities(Thousand TL)',\n",
      "                      'QUARTERLY',\n",
      "                      'KÜMÜLATİF',\n",
      "                      'sum',\n",
      "                      'GSYİH, Gayri, Safi, Yurtiçi, Hasıla',\n",
      "                      'GDP, Gross, Domestic, Product',\n",
      "                      'TÜİK',\n",
      "                      'TURKSTAT',\n",
      "                      'http://www.tuik.gov.tr/PreTablo.do?alt_id=115',\n",
      "                      'http://www.turkstat.gov.tr/PreTablo.do?alt_id=115',\n",
      "                      'http://www.tuik.gov.tr/PreTablo.do?alt_id=115',\n",
      "                      'http://www.turkstat.gov.tr/PreTablo.do?alt_id=115',\n",
      "                      'http://www.tuik.gov.tr/PreTablo.do?alt_id=115',\n",
      "                      'http://www.turkstat.gov.tr/PreTablo.do?alt_id=115',\n",
      "                      '01-01-1998',\n",
      "                      '01-01-2022'],\n",
      " 'TP.GSYIH14.GY.CF': ['bie_gsyhgycf',\n",
      "                      'Toplam işgücü ödemeleri(Bin TL)',\n",
      "                      'Total compensation of employees(Thousand TL)',\n",
      "                      'QUARTERLY',\n",
      "                      'KÜMÜLATİF',\n",
      "                      'sum',\n",
      "                      'GSYİH, Gayri, Safi, Yurtiçi, Hasıla',\n",
      "                      'GDP, Gross, Domestic, Product',\n",
      "                      'TÜİK',\n",
      "                      'TURKSTAT',\n",
      "                      'http://www.tuik.gov.tr/PreTablo.do?alt_id=115',\n",
      "                      'http://www.turkstat.gov.tr/PreTablo.do?alt_id=115',\n",
      "                      'http://www.tuik.gov.tr/PreTablo.do?alt_id=115',\n",
      "                      'http://www.turkstat.gov.tr/PreTablo.do?alt_id=115',\n",
      "                      'http://www.tuik.gov.tr/PreTablo.do?alt_id=115',\n",
      "                      'http://www.turkstat.gov.tr/PreTablo.do?alt_id=115',\n",
      "                      '01-01-1998',\n",
      "                      '01-01-2022'],\n",
      " 'TP.GSYIH15.GY.CF': ['bie_gsyhgycf',\n",
      "                      'Üretim üzerindeki net vergiler(Bin TL)',\n",
      "                      'Net taxes on production(Thousand TL)',\n",
      "                      'QUARTERLY',\n",
      "                      'KÜMÜLATİF',\n",
      "                      'sum',\n",
      "                      'GSYİH, Gayri, Safi, Yurtiçi, Hasıla',\n",
      "                      'GDP, Gross, Domestic, Product',\n",
      "                      'TÜİK',\n",
      "                      'TURKSTAT',\n",
      "                      'http://www.tuik.gov.tr/PreTablo.do?alt_id=115',\n",
      "                      'http://www.turkstat.gov.tr/PreTablo.do?alt_id=115',\n",
      "                      'http://www.tuik.gov.tr/PreTablo.do?alt_id=115',\n",
      "                      'http://www.turkstat.gov.tr/PreTablo.do?alt_id=115',\n",
      "                      'http://www.tuik.gov.tr/PreTablo.do?alt_id=115',\n",
      "                      'http://www.turkstat.gov.tr/PreTablo.do?alt_id=115',\n",
      "                      '01-01-1998',\n",
      "                      '01-01-2022'],\n",
      " 'TP.GSYIH16.GY.CF': ['bie_gsyhgycf',\n",
      "                      'Brüt işletme artığı/karma gelir(Bin TL)',\n",
      "                      'Gross Operating surplus(Thousand TL)',\n",
      "                      'QUARTERLY',\n",
      "                      'KÜMÜLATİF',\n",
      "                      'sum',\n",
      "                      'GSYİH, Gayri, Safi, Yurtiçi, Hasıla',\n",
      "                      'GDP, Gross, Domestic, Product',\n",
      "                      'TÜİK',\n",
      "                      'TURKSTAT',\n",
      "                      'http://www.tuik.gov.tr/PreTablo.do?alt_id=115',\n",
      "                      'http://www.turkstat.gov.tr/PreTablo.do?alt_id=115',\n",
      "                      'http://www.tuik.gov.tr/PreTablo.do?alt_id=115',\n",
      "                      'http://www.turkstat.gov.tr/PreTablo.do?alt_id=115',\n",
      "                      'http://www.tuik.gov.tr/PreTablo.do?alt_id=115',\n",
      "                      'http://www.turkstat.gov.tr/PreTablo.do?alt_id=115',\n",
      "                      '01-01-1998',\n",
      "                      '01-01-2022'],\n",
      " 'TP.GSYIH17.GY.CF': ['bie_gsyhgycf',\n",
      "                      'Sabit sermaye tüketimi(Bin TL)',\n",
      "                      'Consumption on fixed capital(Thousand TL)',\n",
      "                      'QUARTERLY',\n",
      "                      'KÜMÜLATİF',\n",
      "                      'sum',\n",
      "                      'GSYİH, Gayri, Safi, Yurtiçi, Hasıla',\n",
      "                      'GDP, Gross, Domestic, Product',\n",
      "                      'TÜİK',\n",
      "                      'TURKSTAT',\n",
      "                      'http://www.tuik.gov.tr/PreTablo.do?alt_id=115',\n",
      "                      'http://www.turkstat.gov.tr/PreTablo.do?alt_id=115',\n",
      "                      'http://www.tuik.gov.tr/PreTablo.do?alt_id=115',\n",
      "                      'http://www.turkstat.gov.tr/PreTablo.do?alt_id=115',\n",
      "                      'http://www.tuik.gov.tr/PreTablo.do?alt_id=115',\n",
      "                      'http://www.turkstat.gov.tr/PreTablo.do?alt_id=115',\n",
      "                      '01-01-1998',\n",
      "                      '01-01-2022'],\n",
      " 'TP.GSYIH18.GY.CF': ['bie_gsyhgycf',\n",
      "                      'Net işletme artığı/karma gelir(Bin TL)',\n",
      "                      'Net operating surplus(Thousand TL)',\n",
      "                      'QUARTERLY',\n",
      "                      'KÜMÜLATİF',\n",
      "                      'sum',\n",
      "                      'GSYİH, Gayri, Safi, Yurtiçi, Hasıla',\n",
      "                      'GDP, Gross, Domestic, Product',\n",
      "                      'TÜİK',\n",
      "                      'TURKSTAT',\n",
      "                      'http://www.tuik.gov.tr/PreTablo.do?alt_id=115',\n",
      "                      'http://www.turkstat.gov.tr/PreTablo.do?alt_id=115',\n",
      "                      'http://www.tuik.gov.tr/PreTablo.do?alt_id=115',\n",
      "                      'http://www.turkstat.gov.tr/PreTablo.do?alt_id=115',\n",
      "                      'http://www.tuik.gov.tr/PreTablo.do?alt_id=115',\n",
      "                      'http://www.turkstat.gov.tr/PreTablo.do?alt_id=115',\n",
      "                      '01-01-1998',\n",
      "                      '01-01-2022'],\n",
      " 'TP.GSYIH19.GY.CF': ['bie_gsyhgycf',\n",
      "                      'Ürün üzerindeki vergiler eksi sübvansiyonlar(Bin TL)',\n",
      "                      'Taxes less subsidies on products(Thousand TL)',\n",
      "                      'QUARTERLY',\n",
      "                      'KÜMÜLATİF',\n",
      "                      'sum',\n",
      "                      'GSYİH, Gayri, Safi, Yurtiçi, Hasıla',\n",
      "                      'GDP, Gross, Domestic, Product',\n",
      "                      'TÜİK',\n",
      "                      'TURKSTAT',\n",
      "                      'http://www.tuik.gov.tr/PreTablo.do?alt_id=115',\n",
      "                      'http://www.turkstat.gov.tr/PreTablo.do?alt_id=115',\n",
      "                      'http://www.tuik.gov.tr/PreTablo.do?alt_id=115',\n",
      "                      'http://www.turkstat.gov.tr/PreTablo.do?alt_id=115',\n",
      "                      'http://www.tuik.gov.tr/PreTablo.do?alt_id=115',\n",
      "                      'http://www.turkstat.gov.tr/PreTablo.do?alt_id=115',\n",
      "                      '01-01-1998',\n",
      "                      '01-01-2022'],\n",
      " 'TP.GSYIH26.GY.CF': ['bie_gsyhgycf',\n",
      "                      'Gayrisafi Yurtiçi Hasıla (Alıcı fiyatlarıyla)(Bin TL)',\n",
      "                      \"Gross Domestic Product (Purchaser's Price)(Thousand TL)\",\n",
      "                      'QUARTERLY',\n",
      "                      'KÜMÜLATİF',\n",
      "                      'sum',\n",
      "                      'GSYİH, Gayri, Safi, Yurtiçi, Hasıla',\n",
      "                      'GDP, Gross, Domestic, Product',\n",
      "                      'TÜİK',\n",
      "                      'TURKSTAT',\n",
      "                      'http://www.tuik.gov.tr/PreTablo.do?alt_id=115',\n",
      "                      'http://www.turkstat.gov.tr/PreTablo.do?alt_id=115',\n",
      "                      'http://www.tuik.gov.tr/PreTablo.do?alt_id=115',\n",
      "                      'http://www.turkstat.gov.tr/PreTablo.do?alt_id=115',\n",
      "                      'http://www.tuik.gov.tr/PreTablo.do?alt_id=115',\n",
      "                      'http://www.turkstat.gov.tr/PreTablo.do?alt_id=115',\n",
      "                      '01-01-1998',\n",
      "                      '01-01-2022']}\n"
     ]
    }
   ],
   "source": [
    "pprint(detailed_dict)"
   ]
  },
  {
   "cell_type": "markdown",
   "metadata": {},
   "source": [
    "#### 1.7. [__Retrieving Singular Time Series__](https://github.com/syncoding/evdsts/blob/master/docs/manuals/manual_en.md#getting-singular)"
   ]
  },
  {
   "cell_type": "markdown",
   "metadata": {},
   "source": [
    "Retrieving singular time series data is done with `get_series()` method."
   ]
  },
  {
   "cell_type": "code",
   "execution_count": 3,
   "metadata": {},
   "outputs": [],
   "source": [
    "usdtry = connector.get_series(\"TP.DK.USD.A.YTL\")"
   ]
  },
  {
   "cell_type": "code",
   "execution_count": 4,
   "metadata": {},
   "outputs": [
    {
     "data": {
      "text/html": [
       "<div>\n",
       "<style scoped>\n",
       "    .dataframe tbody tr th:only-of-type {\n",
       "        vertical-align: middle;\n",
       "    }\n",
       "\n",
       "    .dataframe tbody tr th {\n",
       "        vertical-align: top;\n",
       "    }\n",
       "\n",
       "    .dataframe thead th {\n",
       "        text-align: right;\n",
       "    }\n",
       "</style>\n",
       "<table border=\"1\" class=\"dataframe\">\n",
       "  <thead>\n",
       "    <tr style=\"text-align: right;\">\n",
       "      <th></th>\n",
       "      <th>USDTRY</th>\n",
       "    </tr>\n",
       "    <tr>\n",
       "      <th>Date</th>\n",
       "      <th></th>\n",
       "    </tr>\n",
       "  </thead>\n",
       "  <tbody>\n",
       "    <tr>\n",
       "      <th>2022-08-19</th>\n",
       "      <td>17.9688</td>\n",
       "    </tr>\n",
       "  </tbody>\n",
       "</table>\n",
       "</div>"
      ],
      "text/plain": [
       "             USDTRY\n",
       "Date               \n",
       "2022-08-19  17.9688"
      ]
     },
     "execution_count": 4,
     "metadata": {},
     "output_type": "execute_result"
    }
   ],
   "source": [
    "usdtry"
   ]
  },
  {
   "cell_type": "markdown",
   "metadata": {},
   "source": [
    "The result is the most up-to-date value of data when a series name is supplied to the `get_series()`\n",
    "without providing any parameter. The return type defaults to a pandas `DataFrame` object unless\n",
    "otherwise is requested."
   ]
  },
  {
   "cell_type": "markdown",
   "metadata": {},
   "source": [
    "Starting and ending dates for requested series are given through `start_date` and `end_date` parameters\n",
    "of `get_series()` method. The date is made equal to current date if any of them is not provided. The\n",
    "requested time series data are retrieved from the given start date to the current date if just a start\n",
    "date is provided to the connector."
   ]
  },
  {
   "cell_type": "markdown",
   "metadata": {},
   "source": [
    "`start_date` (and `end_date` that is mentioned further) can be provided as below formats.\n",
    "\n",
    "1. `d.m.y` -> 01.07.2022 or 1.7.2022\n",
    "2. `d-m-y` -> 01-07-2022 or 1-7-2022\n",
    "3. `d/m/y` -> 01/07/2022 or 1/7/2022\n",
    "4. Python's `datetime` type -> datetime(2022, 7, 1)\n",
    "5. pandas' `Timestamp` type -> pd.Timestamp(2002, 7, 1)"
   ]
  },
  {
   "cell_type": "code",
   "execution_count": 5,
   "metadata": {},
   "outputs": [],
   "source": [
    "# 'end_date' is made equal to current date for all below examples since it's not proveded.\n",
    "\n",
    "# string dates\n",
    "usdtry = connector.get_series(\"TP.DK.USD.A.YTL\", start_date=\"1.7.2022\")  # OK\n",
    "usdtry = connector.get_series(\"TP.DK.USD.A.YTL\", start_date=\"1-7-2022\")  # OK\n",
    "usdtry = connector.get_series(\"TP.DK.USD.A.YTL\", start_date=\"1/7/2022\")  # OK\n",
    "\n",
    "# datetime classes\n",
    "from datetime import datetime\n",
    "from pandas import Timestamp\n",
    "\n",
    "# datetime instances\n",
    "d_date = datetime(2022, 7, 1)\n",
    "p_date = Timestamp(2022, 7, 1)\n",
    "\n",
    "usdtry = connector.get_series(\"TP.DK.USD.A.YTL\", start_date=d_date)  # OK\n",
    "usdtry = connector.get_series(\"TP.DK.USD.A.YTL\", start_date=p_date)  # OK"
   ]
  },
  {
   "cell_type": "code",
   "execution_count": 7,
   "metadata": {},
   "outputs": [
    {
     "data": {
      "text/html": [
       "<div>\n",
       "<style scoped>\n",
       "    .dataframe tbody tr th:only-of-type {\n",
       "        vertical-align: middle;\n",
       "    }\n",
       "\n",
       "    .dataframe tbody tr th {\n",
       "        vertical-align: top;\n",
       "    }\n",
       "\n",
       "    .dataframe thead th {\n",
       "        text-align: right;\n",
       "    }\n",
       "</style>\n",
       "<table border=\"1\" class=\"dataframe\">\n",
       "  <thead>\n",
       "    <tr style=\"text-align: right;\">\n",
       "      <th></th>\n",
       "      <th>USDTRY</th>\n",
       "    </tr>\n",
       "    <tr>\n",
       "      <th>Date</th>\n",
       "      <th></th>\n",
       "    </tr>\n",
       "  </thead>\n",
       "  <tbody>\n",
       "    <tr>\n",
       "      <th>2022-08-15</th>\n",
       "      <td>17.936600</td>\n",
       "    </tr>\n",
       "    <tr>\n",
       "      <th>2022-08-16</th>\n",
       "      <td>17.941099</td>\n",
       "    </tr>\n",
       "    <tr>\n",
       "      <th>2022-08-17</th>\n",
       "      <td>17.941999</td>\n",
       "    </tr>\n",
       "    <tr>\n",
       "      <th>2022-08-18</th>\n",
       "      <td>17.941099</td>\n",
       "    </tr>\n",
       "    <tr>\n",
       "      <th>2022-08-19</th>\n",
       "      <td>17.968800</td>\n",
       "    </tr>\n",
       "  </tbody>\n",
       "</table>\n",
       "</div>"
      ],
      "text/plain": [
       "               USDTRY\n",
       "Date                 \n",
       "2022-08-15  17.936600\n",
       "2022-08-16  17.941099\n",
       "2022-08-17  17.941999\n",
       "2022-08-18  17.941099\n",
       "2022-08-19  17.968800"
      ]
     },
     "execution_count": 7,
     "metadata": {},
     "output_type": "execute_result"
    }
   ],
   "source": [
    "usdtry.tail(5)"
   ]
  },
  {
   "cell_type": "markdown",
   "metadata": {},
   "source": [
    "`end_date` accepts the same type of date entries for determining in which date last data ends for\n",
    "the time series requested. `end_date` is made equal to current date when nothing is supplied."
   ]
  },
  {
   "cell_type": "code",
   "execution_count": 8,
   "metadata": {},
   "outputs": [],
   "source": [
    "# end_date parameter is not provided and therefore is automatically assigned to the current date.\n",
    "usdtry = connector.get_series(\"TP.DK.USD.A.YTL\", start_date=\"1.7.2022\")\n",
    "\n",
    "# daily USDTRY series belongs to June of 2022 period.\n",
    "usdtry = connector.get_series(\"TP.DK.USD.A.YTL\", start_date=\"01.06.2022\", end_date=\"30.06.2022\")"
   ]
  },
  {
   "cell_type": "code",
   "execution_count": 11,
   "metadata": {},
   "outputs": [
    {
     "data": {
      "text/plain": [
       "(             USDTRY\n",
       " Date               \n",
       " 2022-06-01  16.3876,\n",
       "                USDTRY\n",
       " Date                 \n",
       " 2022-06-30  16.669001)"
      ]
     },
     "execution_count": 11,
     "metadata": {},
     "output_type": "execute_result"
    }
   ],
   "source": [
    "usdtry.head(1), usdtry.tail(1)"
   ]
  },
  {
   "cell_type": "markdown",
   "metadata": {},
   "source": [
    "Alternatively, you can use `period` parameter of the `get_series()` method to indicate a time period\n",
    "from the current date. `period` takes a period string to identify the period you would like to\n",
    "retrieve the series."
   ]
  },
  {
   "cell_type": "markdown",
   "metadata": {},
   "source": [
    "|period identifier  | example parameter | means                                 |\n",
    "|-------------------|-------------------|---------------------------------------|\n",
    "| `d` or `g`        |    `27d` or `27g` | 27 days ago from today -  today       |\n",
    "| `w` or `h`        |   `19w` or `19h`  | 19 weeks ago from today - today       |\n",
    "| `m` or `a`        |   `2m` or `2a`    | 2 months ago from today - today       |\n",
    "| `y`               |   `27y`           | 27 years ago from today - today       |"
   ]
  },
  {
   "cell_type": "code",
   "execution_count": 3,
   "metadata": {},
   "outputs": [],
   "source": [
    "# daily USDTRY series for last ten days\n",
    "usdtry = connector.get_series(\"TP.DK.USD.A.YTL\", period=\"10d\")"
   ]
  },
  {
   "cell_type": "code",
   "execution_count": 4,
   "metadata": {},
   "outputs": [
    {
     "data": {
      "text/plain": [
       "(               USDTRY\n",
       " Date                 \n",
       " 2022-08-17  17.941999,\n",
       "                USDTRY\n",
       " Date                 \n",
       " 2022-08-26  18.146601)"
      ]
     },
     "execution_count": 4,
     "metadata": {},
     "output_type": "execute_result"
    }
   ],
   "source": [
    "usdtry.head(1), usdtry.tail(1)"
   ]
  },
  {
   "cell_type": "code",
   "execution_count": 5,
   "metadata": {},
   "outputs": [],
   "source": [
    "# daily USDTRY series for last two weeks\n",
    "usdtry = connector.get_series(\"TP.DK.USD.A.YTL\", period=\"2w\")"
   ]
  },
  {
   "cell_type": "code",
   "execution_count": 6,
   "metadata": {},
   "outputs": [
    {
     "data": {
      "text/plain": [
       "(             USDTRY\n",
       " Date               \n",
       " 2022-08-12  17.9356,\n",
       "                USDTRY\n",
       " Date                 \n",
       " 2022-08-26  18.146601)"
      ]
     },
     "execution_count": 6,
     "metadata": {},
     "output_type": "execute_result"
    }
   ],
   "source": [
    "usdtry.head(1), usdtry.tail(1)"
   ]
  },
  {
   "cell_type": "code",
   "execution_count": 7,
   "metadata": {},
   "outputs": [],
   "source": [
    "# daily USDTRY series for last month\n",
    "usdtry = connector.get_series(\"TP.DK.USD.A.YTL\", period=\"1m\")"
   ]
  },
  {
   "cell_type": "code",
   "execution_count": 8,
   "metadata": {},
   "outputs": [
    {
     "data": {
      "text/plain": [
       "(             USDTRY\n",
       " Date               \n",
       " 2022-07-27  17.8335,\n",
       "                USDTRY\n",
       " Date                 \n",
       " 2022-08-26  18.146601)"
      ]
     },
     "execution_count": 8,
     "metadata": {},
     "output_type": "execute_result"
    }
   ],
   "source": [
    "usdtry.head(1), usdtry.tail(1)"
   ]
  },
  {
   "cell_type": "code",
   "execution_count": 9,
   "metadata": {},
   "outputs": [],
   "source": [
    "# daily USDTRY series for last 2 years\n",
    "usdtry = connector.get_series(\"TP.DK.USD.A.YTL\", period=\"2y\")"
   ]
  },
  {
   "cell_type": "code",
   "execution_count": 10,
   "metadata": {},
   "outputs": [
    {
     "data": {
      "text/plain": [
       "(            USDTRY\n",
       " Date              \n",
       " 2020-08-25  7.3372,\n",
       "                USDTRY\n",
       " Date                 \n",
       " 2022-08-26  18.146601)"
      ]
     },
     "execution_count": 10,
     "metadata": {},
     "output_type": "execute_result"
    }
   ],
   "source": [
    "usdtry.head(1), usdtry.tail(1)"
   ]
  },
  {
   "cell_type": "markdown",
   "metadata": {},
   "source": [
    "> Notice that `start_date` or `end_date` cannot be used together with `period` because it creates an ambiguous\n",
    "> request. An exception is raised if you try to use these parameters together."
   ]
  },
  {
   "cell_type": "code",
   "execution_count": 11,
   "metadata": {},
   "outputs": [
    {
     "ename": "AmbiguousFunctionParameterException",
     "evalue": "start_date and/or end_date and period parameters can not be provided at the same time. Please use either start_date and end_date parameters or just period parameter",
     "output_type": "error",
     "traceback": [
      "\u001b[1;31m---------------------------------------------------------------------------\u001b[0m",
      "\u001b[1;31mAmbiguousFunctionParameterException\u001b[0m       Traceback (most recent call last)",
      "\u001b[1;32mg:\\My Drive\\Dev\\Active\\evdsts\\examples.ipynb Cell 82\u001b[0m in \u001b[0;36m<cell line: 3>\u001b[1;34m()\u001b[0m\n\u001b[0;32m      <a href='vscode-notebook-cell:/g%3A/My%20Drive/Dev/Active/evdsts/examples.ipynb#Z1052sZmlsZQ%3D%3D?line=0'>1</a>\u001b[0m \u001b[39m# this raises the exception\u001b[39;00m\n\u001b[1;32m----> <a href='vscode-notebook-cell:/g%3A/My%20Drive/Dev/Active/evdsts/examples.ipynb#Z1052sZmlsZQ%3D%3D?line=2'>3</a>\u001b[0m usdtry \u001b[39m=\u001b[39m connector\u001b[39m.\u001b[39;49mget_series(\u001b[39m\"\u001b[39;49m\u001b[39mTP.DK.USD.A.YTL\u001b[39;49m\u001b[39m\"\u001b[39;49m, period\u001b[39m=\u001b[39;49m\u001b[39m\"\u001b[39;49m\u001b[39m2y\u001b[39;49m\u001b[39m\"\u001b[39;49m, start_date\u001b[39m=\u001b[39;49m\u001b[39m\"\u001b[39;49m\u001b[39m01.01.2020\u001b[39;49m\u001b[39m\"\u001b[39;49m)\n",
      "File \u001b[1;32mg:\\My Drive\\Dev\\Active\\evdsts\\evdsts\\base\\connecting.py:1634\u001b[0m, in \u001b[0;36mConnector.get_series\u001b[1;34m(self, series, start_date, end_date, period, aggregations, transformations, keep_originals, frequency, new_names, keep_references, time_series, ascending, raw, as_dict, convert_to_bd)\u001b[0m\n\u001b[0;32m   1631\u001b[0m     new_names, _ \u001b[39m=\u001b[39m \u001b[39mself\u001b[39m\u001b[39m.\u001b[39m_parse_series_names(new_names, check_references\u001b[39m=\u001b[39m\u001b[39mFalse\u001b[39;00m)\n\u001b[0;32m   1632\u001b[0m     new_names_1 \u001b[39m=\u001b[39m [name \u001b[39mfor\u001b[39;00m idx, name \u001b[39min\u001b[39;00m \u001b[39menumerate\u001b[39m(new_names) \u001b[39mif\u001b[39;00m idx \u001b[39m>\u001b[39m\u001b[39m=\u001b[39m \u001b[39mlen\u001b[39m(new_names) \u001b[39m/\u001b[39m \u001b[39m2\u001b[39m]\n\u001b[1;32m-> 1634\u001b[0m result: pd\u001b[39m.\u001b[39mDataFrame \u001b[39m=\u001b[39m \u001b[39mself\u001b[39;49m\u001b[39m.\u001b[39;49m_get_series(\n\u001b[0;32m   1635\u001b[0m     series\u001b[39m=\u001b[39;49mseries,\n\u001b[0;32m   1636\u001b[0m     start_date\u001b[39m=\u001b[39;49mstart_date,\n\u001b[0;32m   1637\u001b[0m     end_date\u001b[39m=\u001b[39;49mend_date,\n\u001b[0;32m   1638\u001b[0m     period\u001b[39m=\u001b[39;49mperiod,\n\u001b[0;32m   1639\u001b[0m     aggregations\u001b[39m=\u001b[39;49maggregations,\n\u001b[0;32m   1640\u001b[0m     transformations\u001b[39m=\u001b[39;49mtransformations,\n\u001b[0;32m   1641\u001b[0m     keep_originals\u001b[39m=\u001b[39;49mkeep_originals,\n\u001b[0;32m   1642\u001b[0m     frequency\u001b[39m=\u001b[39;49mfrequency,\n\u001b[0;32m   1643\u001b[0m     new_names\u001b[39m=\u001b[39;49mnew_names_1 \u001b[39mif\u001b[39;49;00m new_names_1 \u001b[39melse\u001b[39;49;00m new_names,\n\u001b[0;32m   1644\u001b[0m     keep_references\u001b[39m=\u001b[39;49mkeep_references,\n\u001b[0;32m   1645\u001b[0m     time_series\u001b[39m=\u001b[39;49mtime_series,\n\u001b[0;32m   1646\u001b[0m     ascending\u001b[39m=\u001b[39;49mascending,\n\u001b[0;32m   1647\u001b[0m     convert_to_bd\u001b[39m=\u001b[39;49mconvert_to_bd\n\u001b[0;32m   1648\u001b[0m )\n\u001b[0;32m   1650\u001b[0m \u001b[39m# any other operations needed.\u001b[39;00m\n\u001b[0;32m   1651\u001b[0m \u001b[39mif\u001b[39;00m aggregations \u001b[39mand\u001b[39;00m keep_originals \u001b[39mand\u001b[39;00m time_series \u001b[39mand\u001b[39;00m new_names:\n",
      "File \u001b[1;32mg:\\My Drive\\Dev\\Active\\evdsts\\evdsts\\base\\connecting.py:1068\u001b[0m, in \u001b[0;36mConnector._get_series\u001b[1;34m(self, series, start_date, end_date, period, aggregations, transformations, keep_originals, frequency, new_names, keep_references, time_series, ascending, convert_to_bd)\u001b[0m\n\u001b[0;32m   1065\u001b[0m str_series: \u001b[39mstr\u001b[39m \u001b[39m=\u001b[39m join_sequentials(series)\n\u001b[0;32m   1067\u001b[0m \u001b[39mif\u001b[39;00m period \u001b[39mand\u001b[39;00m (start_date \u001b[39mor\u001b[39;00m end_date):\n\u001b[1;32m-> 1068\u001b[0m     \u001b[39mraise\u001b[39;00m AmbiguousFunctionParameterException(\n\u001b[0;32m   1069\u001b[0m         \u001b[39m\"\u001b[39m\u001b[39mstart_date and/or end_date and period parameters can not be provided at the same \u001b[39m\u001b[39m\"\u001b[39m\n\u001b[0;32m   1070\u001b[0m         \u001b[39m\"\u001b[39m\u001b[39mtime. Please use either start_date and end_date parameters or just period parameter\u001b[39m\u001b[39m\"\u001b[39m\n\u001b[0;32m   1071\u001b[0m     )\n\u001b[0;32m   1073\u001b[0m \u001b[39mif\u001b[39;00m period:\n\u001b[0;32m   1074\u001b[0m     start_date, end_date \u001b[39m=\u001b[39m get_period(period)\n",
      "\u001b[1;31mAmbiguousFunctionParameterException\u001b[0m: start_date and/or end_date and period parameters can not be provided at the same time. Please use either start_date and end_date parameters or just period parameter"
     ]
    }
   ],
   "source": [
    "# this raises the AmbiguousFunctionParameterException since these parameters can not be used together\n",
    "\n",
    "usdtry = connector.get_series(\"TP.DK.USD.A.YTL\", period=\"2y\", start_date=\"01.01.2020\")"
   ]
  },
  {
   "cell_type": "markdown",
   "metadata": {},
   "source": [
    "#### 1.8. [__Retrieving Multi-Dimentional Time Series__](https://github.com/syncoding/evdsts/blob/master/docs/manuals/manual_en.md#getting-multi)"
   ]
  },
  {
   "cell_type": "markdown",
   "metadata": {},
   "source": [
    "Retrieving multi-dimentional data can be done using one of the belows:\n",
    "\n",
    "1. series can be provided to `get_series()` method as strings in a sequence type container like a `List` or `Tuple`.\n",
    "2. series can be provided to `get_series()` method as comma separated `string`s.\n",
    "3. series can be provided to `get_series()` method as space separated `string`s."
   ]
  },
  {
   "cell_type": "code",
   "execution_count": 12,
   "metadata": {},
   "outputs": [],
   "source": [
    "# list or tuple\n",
    "series = [\"TP.DK.USD.A.YTL\", \"TP.DK.EUR.A.YTL\"]\n",
    "exchange_rates = connector.get_series(series,                              # OK\n",
    "                                      start_date=\"01.06.2022\",\n",
    "                                      end_date=\"07.06.2022\")\n",
    "\n",
    "# comma separated strings\n",
    "exchange_rates = connector.get_series(\"TP.DK.USD.A.YTL, TP.DK.EUR.A.YTL\",  # OK\n",
    "                                      start_date=\"01.06.2022\",\n",
    "                                      end_date=\"07.06.2022\")\n",
    "\n",
    "# space separated strings\n",
    "exchange_rates = connector.get_series(\"TP.DK.USD.A.YTL TP.DK.EUR.A.YTL\",   # OK\n",
    "                                      start_date=\"01.06.2022\",\n",
    "                                      end_date=\"07.06.2022\")"
   ]
  },
  {
   "cell_type": "code",
   "execution_count": 13,
   "metadata": {},
   "outputs": [
    {
     "data": {
      "text/html": [
       "<div>\n",
       "<style scoped>\n",
       "    .dataframe tbody tr th:only-of-type {\n",
       "        vertical-align: middle;\n",
       "    }\n",
       "\n",
       "    .dataframe tbody tr th {\n",
       "        vertical-align: top;\n",
       "    }\n",
       "\n",
       "    .dataframe thead th {\n",
       "        text-align: right;\n",
       "    }\n",
       "</style>\n",
       "<table border=\"1\" class=\"dataframe\">\n",
       "  <thead>\n",
       "    <tr style=\"text-align: right;\">\n",
       "      <th></th>\n",
       "      <th>USDTRY</th>\n",
       "      <th>EURTRY</th>\n",
       "    </tr>\n",
       "    <tr>\n",
       "      <th>Date</th>\n",
       "      <th></th>\n",
       "      <th></th>\n",
       "    </tr>\n",
       "  </thead>\n",
       "  <tbody>\n",
       "    <tr>\n",
       "      <th>2022-06-03</th>\n",
       "      <td>16.438999</td>\n",
       "      <td>17.5700</td>\n",
       "    </tr>\n",
       "    <tr>\n",
       "      <th>2022-06-04</th>\n",
       "      <td>NaN</td>\n",
       "      <td>NaN</td>\n",
       "    </tr>\n",
       "    <tr>\n",
       "      <th>2022-06-05</th>\n",
       "      <td>NaN</td>\n",
       "      <td>NaN</td>\n",
       "    </tr>\n",
       "    <tr>\n",
       "      <th>2022-06-06</th>\n",
       "      <td>16.476500</td>\n",
       "      <td>17.7066</td>\n",
       "    </tr>\n",
       "    <tr>\n",
       "      <th>2022-06-07</th>\n",
       "      <td>16.558800</td>\n",
       "      <td>17.7785</td>\n",
       "    </tr>\n",
       "  </tbody>\n",
       "</table>\n",
       "</div>"
      ],
      "text/plain": [
       "               USDTRY   EURTRY\n",
       "Date                          \n",
       "2022-06-03  16.438999  17.5700\n",
       "2022-06-04        NaN      NaN\n",
       "2022-06-05        NaN      NaN\n",
       "2022-06-06  16.476500  17.7066\n",
       "2022-06-07  16.558800  17.7785"
      ]
     },
     "execution_count": 13,
     "metadata": {},
     "output_type": "execute_result"
    }
   ],
   "source": [
    "exchange_rates.tail(5)"
   ]
  },
  {
   "cell_type": "markdown",
   "metadata": {},
   "source": [
    "### 2. [__Advanced Features__](https://github.com/syncoding/evdsts/blob/master/docs/manuals/manual_en.md#the-advanced-1)"
   ]
  },
  {
   "cell_type": "markdown",
   "metadata": {},
   "source": [
    "Here we'll look through some of the advanced features of `evdsts`"
   ]
  },
  {
   "cell_type": "markdown",
   "metadata": {},
   "source": [
    "#### 2.1. [__Time Series Indexing__](https://github.com/syncoding/evdsts/blob/master/docs/manuals/manual_en.md#ts-indexing)"
   ]
  },
  {
   "cell_type": "markdown",
   "metadata": {},
   "source": [
    "`evdsts`, transforms all series that are retrieved from EDDS service to real time series.\n",
    "This behavior is controlled by `time_series` flag of the `get_series()` method and can be set as\n",
    "`True` or `False`. It defaults to `True`."
   ]
  },
  {
   "cell_type": "code",
   "execution_count": 14,
   "metadata": {},
   "outputs": [],
   "source": [
    "# this call returns a `DataFrame` without time series indexing.\n",
    "usdtry = connector.get_series(\"TP.DK.USD.A.YTL\",\n",
    "                              start_date=\"01.06.2022\",\n",
    "                              end_date=\"30.06.2022\",\n",
    "                              time_series=False)"
   ]
  },
  {
   "cell_type": "code",
   "execution_count": 15,
   "metadata": {},
   "outputs": [
    {
     "data": {
      "text/html": [
       "<div>\n",
       "<style scoped>\n",
       "    .dataframe tbody tr th:only-of-type {\n",
       "        vertical-align: middle;\n",
       "    }\n",
       "\n",
       "    .dataframe tbody tr th {\n",
       "        vertical-align: top;\n",
       "    }\n",
       "\n",
       "    .dataframe thead th {\n",
       "        text-align: right;\n",
       "    }\n",
       "</style>\n",
       "<table border=\"1\" class=\"dataframe\">\n",
       "  <thead>\n",
       "    <tr style=\"text-align: right;\">\n",
       "      <th></th>\n",
       "      <th>Date</th>\n",
       "      <th>TP_DK_USD_A_YTL</th>\n",
       "    </tr>\n",
       "  </thead>\n",
       "  <tbody>\n",
       "    <tr>\n",
       "      <th>0</th>\n",
       "      <td>01-06-2022</td>\n",
       "      <td>16.387600</td>\n",
       "    </tr>\n",
       "    <tr>\n",
       "      <th>1</th>\n",
       "      <td>02-06-2022</td>\n",
       "      <td>16.412701</td>\n",
       "    </tr>\n",
       "    <tr>\n",
       "      <th>2</th>\n",
       "      <td>03-06-2022</td>\n",
       "      <td>16.438999</td>\n",
       "    </tr>\n",
       "    <tr>\n",
       "      <th>3</th>\n",
       "      <td>04-06-2022</td>\n",
       "      <td>NaN</td>\n",
       "    </tr>\n",
       "    <tr>\n",
       "      <th>4</th>\n",
       "      <td>05-06-2022</td>\n",
       "      <td>NaN</td>\n",
       "    </tr>\n",
       "  </tbody>\n",
       "</table>\n",
       "</div>"
      ],
      "text/plain": [
       "         Date  TP_DK_USD_A_YTL\n",
       "0  01-06-2022        16.387600\n",
       "1  02-06-2022        16.412701\n",
       "2  03-06-2022        16.438999\n",
       "3  04-06-2022              NaN\n",
       "4  05-06-2022              NaN"
      ]
     },
     "execution_count": 15,
     "metadata": {},
     "output_type": "execute_result"
    }
   ],
   "source": [
    "usdtry.head(5)"
   ]
  },
  {
   "cell_type": "markdown",
   "metadata": {},
   "source": [
    "Notice the index above. It starts from `0` as if it wasn't related to time it represents."
   ]
  },
  {
   "cell_type": "markdown",
   "metadata": {},
   "source": [
    "> __Disabling time series indexing cause many useful features to be lost. Therefore, it would better\n",
    "> kept enabled unless a certain need emerges.__"
   ]
  },
  {
   "cell_type": "markdown",
   "metadata": {},
   "source": [
    "Time series indexing enables us to get slices like below.  \n",
    "\n",
    "Let's take a sllice from `usdtry` that comprise the range from 1st of June, 2022 - 7th of June, 2022"
   ]
  },
  {
   "cell_type": "code",
   "execution_count": 16,
   "metadata": {},
   "outputs": [],
   "source": [
    "usdtry = connector.get_series(\"TP.DK.USD.A.YTL\",\n",
    "                              start_date=\"01.06.2022\",\n",
    "                              end_date=\"30.06.2022\")"
   ]
  },
  {
   "cell_type": "code",
   "execution_count": 17,
   "metadata": {},
   "outputs": [],
   "source": [
    "usdtry_slice = usdtry.loc[\"2022-06-01\": \"2022-06-07\"]"
   ]
  },
  {
   "cell_type": "code",
   "execution_count": 18,
   "metadata": {},
   "outputs": [
    {
     "data": {
      "text/html": [
       "<div>\n",
       "<style scoped>\n",
       "    .dataframe tbody tr th:only-of-type {\n",
       "        vertical-align: middle;\n",
       "    }\n",
       "\n",
       "    .dataframe tbody tr th {\n",
       "        vertical-align: top;\n",
       "    }\n",
       "\n",
       "    .dataframe thead th {\n",
       "        text-align: right;\n",
       "    }\n",
       "</style>\n",
       "<table border=\"1\" class=\"dataframe\">\n",
       "  <thead>\n",
       "    <tr style=\"text-align: right;\">\n",
       "      <th></th>\n",
       "      <th>USDTRY</th>\n",
       "    </tr>\n",
       "    <tr>\n",
       "      <th>Date</th>\n",
       "      <th></th>\n",
       "    </tr>\n",
       "  </thead>\n",
       "  <tbody>\n",
       "    <tr>\n",
       "      <th>2022-06-01</th>\n",
       "      <td>16.387600</td>\n",
       "    </tr>\n",
       "    <tr>\n",
       "      <th>2022-06-02</th>\n",
       "      <td>16.412701</td>\n",
       "    </tr>\n",
       "    <tr>\n",
       "      <th>2022-06-03</th>\n",
       "      <td>16.438999</td>\n",
       "    </tr>\n",
       "    <tr>\n",
       "      <th>2022-06-04</th>\n",
       "      <td>NaN</td>\n",
       "    </tr>\n",
       "    <tr>\n",
       "      <th>2022-06-05</th>\n",
       "      <td>NaN</td>\n",
       "    </tr>\n",
       "    <tr>\n",
       "      <th>2022-06-06</th>\n",
       "      <td>16.476500</td>\n",
       "    </tr>\n",
       "    <tr>\n",
       "      <th>2022-06-07</th>\n",
       "      <td>16.558800</td>\n",
       "    </tr>\n",
       "  </tbody>\n",
       "</table>\n",
       "</div>"
      ],
      "text/plain": [
       "               USDTRY\n",
       "Date                 \n",
       "2022-06-01  16.387600\n",
       "2022-06-02  16.412701\n",
       "2022-06-03  16.438999\n",
       "2022-06-04        NaN\n",
       "2022-06-05        NaN\n",
       "2022-06-06  16.476500\n",
       "2022-06-07  16.558800"
      ]
     },
     "execution_count": 18,
     "metadata": {},
     "output_type": "execute_result"
    }
   ],
   "source": [
    "usdtry_slice"
   ]
  },
  {
   "cell_type": "markdown",
   "metadata": {},
   "source": [
    "We see one of the advantages of time series indexing that we could get a range comprising 01-07\n",
    "June despite we didn't know which original index number (EDDS originally returns the series indexed\n",
    "by 0 to n) it corresponds to.  \n",
    "\n",
    "Likewise, assume we suspect a date (15.06.2022) which possibly can be a beginning of a structural\n",
    "break for our `usdtry` series."
   ]
  },
  {
   "cell_type": "code",
   "execution_count": 19,
   "metadata": {},
   "outputs": [],
   "source": [
    "structural_break = datetime(2022, 6, 15)\n",
    "usdtry_after_break = usdtry.loc[usdtry.index > structural_break]\n",
    "usdtry_before_break = usdtry.loc[usdtry.index <= structural_break]"
   ]
  },
  {
   "cell_type": "code",
   "execution_count": 22,
   "metadata": {},
   "outputs": [
    {
     "data": {
      "text/html": [
       "<div>\n",
       "<style scoped>\n",
       "    .dataframe tbody tr th:only-of-type {\n",
       "        vertical-align: middle;\n",
       "    }\n",
       "\n",
       "    .dataframe tbody tr th {\n",
       "        vertical-align: top;\n",
       "    }\n",
       "\n",
       "    .dataframe thead th {\n",
       "        text-align: right;\n",
       "    }\n",
       "</style>\n",
       "<table border=\"1\" class=\"dataframe\">\n",
       "  <thead>\n",
       "    <tr style=\"text-align: right;\">\n",
       "      <th></th>\n",
       "      <th>USDTRY</th>\n",
       "    </tr>\n",
       "    <tr>\n",
       "      <th>Date</th>\n",
       "      <th></th>\n",
       "    </tr>\n",
       "  </thead>\n",
       "  <tbody>\n",
       "    <tr>\n",
       "      <th>2022-06-01</th>\n",
       "      <td>16.387600</td>\n",
       "    </tr>\n",
       "    <tr>\n",
       "      <th>2022-06-02</th>\n",
       "      <td>16.412701</td>\n",
       "    </tr>\n",
       "    <tr>\n",
       "      <th>2022-06-03</th>\n",
       "      <td>16.438999</td>\n",
       "    </tr>\n",
       "    <tr>\n",
       "      <th>2022-06-04</th>\n",
       "      <td>NaN</td>\n",
       "    </tr>\n",
       "    <tr>\n",
       "      <th>2022-06-05</th>\n",
       "      <td>NaN</td>\n",
       "    </tr>\n",
       "    <tr>\n",
       "      <th>2022-06-06</th>\n",
       "      <td>16.476500</td>\n",
       "    </tr>\n",
       "    <tr>\n",
       "      <th>2022-06-07</th>\n",
       "      <td>16.558800</td>\n",
       "    </tr>\n",
       "    <tr>\n",
       "      <th>2022-06-08</th>\n",
       "      <td>16.708401</td>\n",
       "    </tr>\n",
       "    <tr>\n",
       "      <th>2022-06-09</th>\n",
       "      <td>17.092501</td>\n",
       "    </tr>\n",
       "    <tr>\n",
       "      <th>2022-06-10</th>\n",
       "      <td>17.198500</td>\n",
       "    </tr>\n",
       "    <tr>\n",
       "      <th>2022-06-11</th>\n",
       "      <td>NaN</td>\n",
       "    </tr>\n",
       "    <tr>\n",
       "      <th>2022-06-12</th>\n",
       "      <td>NaN</td>\n",
       "    </tr>\n",
       "    <tr>\n",
       "      <th>2022-06-13</th>\n",
       "      <td>17.058901</td>\n",
       "    </tr>\n",
       "    <tr>\n",
       "      <th>2022-06-14</th>\n",
       "      <td>17.234400</td>\n",
       "    </tr>\n",
       "    <tr>\n",
       "      <th>2022-06-15</th>\n",
       "      <td>17.234301</td>\n",
       "    </tr>\n",
       "  </tbody>\n",
       "</table>\n",
       "</div>"
      ],
      "text/plain": [
       "               USDTRY\n",
       "Date                 \n",
       "2022-06-01  16.387600\n",
       "2022-06-02  16.412701\n",
       "2022-06-03  16.438999\n",
       "2022-06-04        NaN\n",
       "2022-06-05        NaN\n",
       "2022-06-06  16.476500\n",
       "2022-06-07  16.558800\n",
       "2022-06-08  16.708401\n",
       "2022-06-09  17.092501\n",
       "2022-06-10  17.198500\n",
       "2022-06-11        NaN\n",
       "2022-06-12        NaN\n",
       "2022-06-13  17.058901\n",
       "2022-06-14  17.234400\n",
       "2022-06-15  17.234301"
      ]
     },
     "execution_count": 22,
     "metadata": {},
     "output_type": "execute_result"
    }
   ],
   "source": [
    "usdtry_before_break"
   ]
  },
  {
   "cell_type": "code",
   "execution_count": 21,
   "metadata": {},
   "outputs": [
    {
     "data": {
      "text/html": [
       "<div>\n",
       "<style scoped>\n",
       "    .dataframe tbody tr th:only-of-type {\n",
       "        vertical-align: middle;\n",
       "    }\n",
       "\n",
       "    .dataframe tbody tr th {\n",
       "        vertical-align: top;\n",
       "    }\n",
       "\n",
       "    .dataframe thead th {\n",
       "        text-align: right;\n",
       "    }\n",
       "</style>\n",
       "<table border=\"1\" class=\"dataframe\">\n",
       "  <thead>\n",
       "    <tr style=\"text-align: right;\">\n",
       "      <th></th>\n",
       "      <th>USDTRY</th>\n",
       "    </tr>\n",
       "    <tr>\n",
       "      <th>Date</th>\n",
       "      <th></th>\n",
       "    </tr>\n",
       "  </thead>\n",
       "  <tbody>\n",
       "    <tr>\n",
       "      <th>2022-06-16</th>\n",
       "      <td>17.256800</td>\n",
       "    </tr>\n",
       "    <tr>\n",
       "      <th>2022-06-17</th>\n",
       "      <td>17.288000</td>\n",
       "    </tr>\n",
       "    <tr>\n",
       "      <th>2022-06-18</th>\n",
       "      <td>NaN</td>\n",
       "    </tr>\n",
       "    <tr>\n",
       "      <th>2022-06-19</th>\n",
       "      <td>NaN</td>\n",
       "    </tr>\n",
       "    <tr>\n",
       "      <th>2022-06-20</th>\n",
       "      <td>17.290501</td>\n",
       "    </tr>\n",
       "    <tr>\n",
       "      <th>2022-06-21</th>\n",
       "      <td>17.311300</td>\n",
       "    </tr>\n",
       "    <tr>\n",
       "      <th>2022-06-22</th>\n",
       "      <td>17.316799</td>\n",
       "    </tr>\n",
       "    <tr>\n",
       "      <th>2022-06-23</th>\n",
       "      <td>17.330099</td>\n",
       "    </tr>\n",
       "    <tr>\n",
       "      <th>2022-06-24</th>\n",
       "      <td>17.347000</td>\n",
       "    </tr>\n",
       "    <tr>\n",
       "      <th>2022-06-25</th>\n",
       "      <td>NaN</td>\n",
       "    </tr>\n",
       "    <tr>\n",
       "      <th>2022-06-26</th>\n",
       "      <td>NaN</td>\n",
       "    </tr>\n",
       "    <tr>\n",
       "      <th>2022-06-27</th>\n",
       "      <td>17.347799</td>\n",
       "    </tr>\n",
       "    <tr>\n",
       "      <th>2022-06-28</th>\n",
       "      <td>16.646000</td>\n",
       "    </tr>\n",
       "    <tr>\n",
       "      <th>2022-06-29</th>\n",
       "      <td>16.618900</td>\n",
       "    </tr>\n",
       "    <tr>\n",
       "      <th>2022-06-30</th>\n",
       "      <td>16.669001</td>\n",
       "    </tr>\n",
       "  </tbody>\n",
       "</table>\n",
       "</div>"
      ],
      "text/plain": [
       "               USDTRY\n",
       "Date                 \n",
       "2022-06-16  17.256800\n",
       "2022-06-17  17.288000\n",
       "2022-06-18        NaN\n",
       "2022-06-19        NaN\n",
       "2022-06-20  17.290501\n",
       "2022-06-21  17.311300\n",
       "2022-06-22  17.316799\n",
       "2022-06-23  17.330099\n",
       "2022-06-24  17.347000\n",
       "2022-06-25        NaN\n",
       "2022-06-26        NaN\n",
       "2022-06-27  17.347799\n",
       "2022-06-28  16.646000\n",
       "2022-06-29  16.618900\n",
       "2022-06-30  16.669001"
      ]
     },
     "execution_count": 21,
     "metadata": {},
     "output_type": "execute_result"
    }
   ],
   "source": [
    "usdtry_after_break"
   ]
  },
  {
   "cell_type": "markdown",
   "metadata": {},
   "source": [
    "We can easily split the series as before and after the break thanks to time series indexing.\n",
    "\n",
    "Or assume that we need a dummy variable that represents `Mondays` for our model. We had to know\n",
    "which days were corresping to Mondays in the current range if we wouldn't use time series indexing,\n",
    "however, we can easily create a new series like below thanks to time series indexing."
   ]
  },
  {
   "cell_type": "code",
   "execution_count": 23,
   "metadata": {},
   "outputs": [],
   "source": [
    "# day of week -> Monday: 0 - Sunday: 6\n",
    "usdtry_mondays = usdtry.loc[usdtry.index.day_of_week == 0]"
   ]
  },
  {
   "cell_type": "code",
   "execution_count": 24,
   "metadata": {},
   "outputs": [
    {
     "data": {
      "text/html": [
       "<div>\n",
       "<style scoped>\n",
       "    .dataframe tbody tr th:only-of-type {\n",
       "        vertical-align: middle;\n",
       "    }\n",
       "\n",
       "    .dataframe tbody tr th {\n",
       "        vertical-align: top;\n",
       "    }\n",
       "\n",
       "    .dataframe thead th {\n",
       "        text-align: right;\n",
       "    }\n",
       "</style>\n",
       "<table border=\"1\" class=\"dataframe\">\n",
       "  <thead>\n",
       "    <tr style=\"text-align: right;\">\n",
       "      <th></th>\n",
       "      <th>USDTRY</th>\n",
       "    </tr>\n",
       "    <tr>\n",
       "      <th>Date</th>\n",
       "      <th></th>\n",
       "    </tr>\n",
       "  </thead>\n",
       "  <tbody>\n",
       "    <tr>\n",
       "      <th>2022-06-06</th>\n",
       "      <td>16.476500</td>\n",
       "    </tr>\n",
       "    <tr>\n",
       "      <th>2022-06-13</th>\n",
       "      <td>17.058901</td>\n",
       "    </tr>\n",
       "    <tr>\n",
       "      <th>2022-06-20</th>\n",
       "      <td>17.290501</td>\n",
       "    </tr>\n",
       "    <tr>\n",
       "      <th>2022-06-27</th>\n",
       "      <td>17.347799</td>\n",
       "    </tr>\n",
       "  </tbody>\n",
       "</table>\n",
       "</div>"
      ],
      "text/plain": [
       "               USDTRY\n",
       "Date                 \n",
       "2022-06-06  16.476500\n",
       "2022-06-13  17.058901\n",
       "2022-06-20  17.290501\n",
       "2022-06-27  17.347799"
      ]
     },
     "execution_count": 24,
     "metadata": {},
     "output_type": "execute_result"
    }
   ],
   "source": [
    "usdtry_mondays"
   ]
  },
  {
   "cell_type": "markdown",
   "metadata": {},
   "source": [
    "Let's create our dummy variable for `Mondays`:"
   ]
  },
  {
   "cell_type": "code",
   "execution_count": 25,
   "metadata": {},
   "outputs": [],
   "source": [
    "import pandas as pd\n",
    "\n",
    "# Our series\n",
    "usdtry = connector.get_series(\"TP.DK.USD.A.YTL\",\n",
    "                              start_date=\"01.06.2022\",\n",
    "                              end_date=\"30.06.2022\")\n",
    "\n",
    "# just Mondays\n",
    "usdtry_mondays = usdtry.loc[usdtry.index.day_of_week == 0]\n",
    "\n",
    "dummy_monday = pd.DataFrame(index=usdtry.index)\n",
    "dummy_monday = dummy_monday.combine_first(usdtry_mondays)\n",
    "dummy_monday = dummy_monday.fillna(0)\n",
    "dummy_monday[dummy_monday > 0] = 1"
   ]
  },
  {
   "cell_type": "code",
   "execution_count": 26,
   "metadata": {},
   "outputs": [
    {
     "data": {
      "text/html": [
       "<div>\n",
       "<style scoped>\n",
       "    .dataframe tbody tr th:only-of-type {\n",
       "        vertical-align: middle;\n",
       "    }\n",
       "\n",
       "    .dataframe tbody tr th {\n",
       "        vertical-align: top;\n",
       "    }\n",
       "\n",
       "    .dataframe thead th {\n",
       "        text-align: right;\n",
       "    }\n",
       "</style>\n",
       "<table border=\"1\" class=\"dataframe\">\n",
       "  <thead>\n",
       "    <tr style=\"text-align: right;\">\n",
       "      <th></th>\n",
       "      <th>USDTRY</th>\n",
       "    </tr>\n",
       "    <tr>\n",
       "      <th>Date</th>\n",
       "      <th></th>\n",
       "    </tr>\n",
       "  </thead>\n",
       "  <tbody>\n",
       "    <tr>\n",
       "      <th>2022-06-01</th>\n",
       "      <td>0.0</td>\n",
       "    </tr>\n",
       "    <tr>\n",
       "      <th>2022-06-02</th>\n",
       "      <td>0.0</td>\n",
       "    </tr>\n",
       "    <tr>\n",
       "      <th>2022-06-03</th>\n",
       "      <td>0.0</td>\n",
       "    </tr>\n",
       "    <tr>\n",
       "      <th>2022-06-04</th>\n",
       "      <td>0.0</td>\n",
       "    </tr>\n",
       "    <tr>\n",
       "      <th>2022-06-05</th>\n",
       "      <td>0.0</td>\n",
       "    </tr>\n",
       "    <tr>\n",
       "      <th>2022-06-06</th>\n",
       "      <td>1.0</td>\n",
       "    </tr>\n",
       "    <tr>\n",
       "      <th>2022-06-07</th>\n",
       "      <td>0.0</td>\n",
       "    </tr>\n",
       "    <tr>\n",
       "      <th>2022-06-08</th>\n",
       "      <td>0.0</td>\n",
       "    </tr>\n",
       "    <tr>\n",
       "      <th>2022-06-09</th>\n",
       "      <td>0.0</td>\n",
       "    </tr>\n",
       "    <tr>\n",
       "      <th>2022-06-10</th>\n",
       "      <td>0.0</td>\n",
       "    </tr>\n",
       "    <tr>\n",
       "      <th>2022-06-11</th>\n",
       "      <td>0.0</td>\n",
       "    </tr>\n",
       "    <tr>\n",
       "      <th>2022-06-12</th>\n",
       "      <td>0.0</td>\n",
       "    </tr>\n",
       "    <tr>\n",
       "      <th>2022-06-13</th>\n",
       "      <td>1.0</td>\n",
       "    </tr>\n",
       "    <tr>\n",
       "      <th>2022-06-14</th>\n",
       "      <td>0.0</td>\n",
       "    </tr>\n",
       "    <tr>\n",
       "      <th>2022-06-15</th>\n",
       "      <td>0.0</td>\n",
       "    </tr>\n",
       "    <tr>\n",
       "      <th>2022-06-16</th>\n",
       "      <td>0.0</td>\n",
       "    </tr>\n",
       "    <tr>\n",
       "      <th>2022-06-17</th>\n",
       "      <td>0.0</td>\n",
       "    </tr>\n",
       "    <tr>\n",
       "      <th>2022-06-18</th>\n",
       "      <td>0.0</td>\n",
       "    </tr>\n",
       "    <tr>\n",
       "      <th>2022-06-19</th>\n",
       "      <td>0.0</td>\n",
       "    </tr>\n",
       "    <tr>\n",
       "      <th>2022-06-20</th>\n",
       "      <td>1.0</td>\n",
       "    </tr>\n",
       "    <tr>\n",
       "      <th>2022-06-21</th>\n",
       "      <td>0.0</td>\n",
       "    </tr>\n",
       "    <tr>\n",
       "      <th>2022-06-22</th>\n",
       "      <td>0.0</td>\n",
       "    </tr>\n",
       "    <tr>\n",
       "      <th>2022-06-23</th>\n",
       "      <td>0.0</td>\n",
       "    </tr>\n",
       "    <tr>\n",
       "      <th>2022-06-24</th>\n",
       "      <td>0.0</td>\n",
       "    </tr>\n",
       "    <tr>\n",
       "      <th>2022-06-25</th>\n",
       "      <td>0.0</td>\n",
       "    </tr>\n",
       "    <tr>\n",
       "      <th>2022-06-26</th>\n",
       "      <td>0.0</td>\n",
       "    </tr>\n",
       "    <tr>\n",
       "      <th>2022-06-27</th>\n",
       "      <td>1.0</td>\n",
       "    </tr>\n",
       "    <tr>\n",
       "      <th>2022-06-28</th>\n",
       "      <td>0.0</td>\n",
       "    </tr>\n",
       "    <tr>\n",
       "      <th>2022-06-29</th>\n",
       "      <td>0.0</td>\n",
       "    </tr>\n",
       "    <tr>\n",
       "      <th>2022-06-30</th>\n",
       "      <td>0.0</td>\n",
       "    </tr>\n",
       "  </tbody>\n",
       "</table>\n",
       "</div>"
      ],
      "text/plain": [
       "            USDTRY\n",
       "Date              \n",
       "2022-06-01     0.0\n",
       "2022-06-02     0.0\n",
       "2022-06-03     0.0\n",
       "2022-06-04     0.0\n",
       "2022-06-05     0.0\n",
       "2022-06-06     1.0\n",
       "2022-06-07     0.0\n",
       "2022-06-08     0.0\n",
       "2022-06-09     0.0\n",
       "2022-06-10     0.0\n",
       "2022-06-11     0.0\n",
       "2022-06-12     0.0\n",
       "2022-06-13     1.0\n",
       "2022-06-14     0.0\n",
       "2022-06-15     0.0\n",
       "2022-06-16     0.0\n",
       "2022-06-17     0.0\n",
       "2022-06-18     0.0\n",
       "2022-06-19     0.0\n",
       "2022-06-20     1.0\n",
       "2022-06-21     0.0\n",
       "2022-06-22     0.0\n",
       "2022-06-23     0.0\n",
       "2022-06-24     0.0\n",
       "2022-06-25     0.0\n",
       "2022-06-26     0.0\n",
       "2022-06-27     1.0\n",
       "2022-06-28     0.0\n",
       "2022-06-29     0.0\n",
       "2022-06-30     0.0"
      ]
     },
     "execution_count": 26,
     "metadata": {},
     "output_type": "execute_result"
    }
   ],
   "source": [
    "dummy_monday"
   ]
  },
  {
   "cell_type": "markdown",
   "metadata": {},
   "source": [
    "Let's get yearly slices from the series we retrieved as an other example:"
   ]
  },
  {
   "cell_type": "code",
   "execution_count": 29,
   "metadata": {},
   "outputs": [],
   "source": [
    "usdtry = connector.get_series(\"TP.DK.USD.A.YTL\",\n",
    "                              start_date=\"01.01.2020\",\n",
    "                              end_date=\"31.12.2021\")\n",
    "\n",
    "# maybe we need data just belongs to 2020.\n",
    "usd_20 = usdtry.loc[\"2020\"]\n",
    "\n",
    "# or maybe between 2020 and 2021.\n",
    "usd_21_22 = usdtry.loc[\"2020\": \"2021\"]"
   ]
  },
  {
   "cell_type": "code",
   "execution_count": 32,
   "metadata": {},
   "outputs": [
    {
     "data": {
      "text/plain": [
       "(            USDTRY\n",
       " Date              \n",
       " 2020-01-01     NaN,\n",
       "             USDTRY\n",
       " Date              \n",
       " 2020-12-31  7.3405)"
      ]
     },
     "execution_count": 32,
     "metadata": {},
     "output_type": "execute_result"
    }
   ],
   "source": [
    "usd_20.head(1), usd_20.tail(1)"
   ]
  },
  {
   "cell_type": "code",
   "execution_count": 33,
   "metadata": {},
   "outputs": [
    {
     "data": {
      "text/plain": [
       "(            USDTRY\n",
       " Date              \n",
       " 2020-01-01     NaN,\n",
       "              USDTRY\n",
       " Date               \n",
       " 2021-12-31  12.9775)"
      ]
     },
     "execution_count": 33,
     "metadata": {},
     "output_type": "execute_result"
    }
   ],
   "source": [
    "usd_21_22.head(1), usd_21_22.tail(1)"
   ]
  },
  {
   "cell_type": "markdown",
   "metadata": {},
   "source": [
    "we'have just seen some of the advantages of `evdsts`' time series conversions above, however, these were\n",
    "just a little portion of what you can achieve while you are working on real time series. You can visit\n",
    "[Pandas Time Series](https://pandas.pydata.org/pandas-docs/stable/user_guide/timeseries.html) page\n",
    "for getting more information about working with time series."
   ]
  },
  {
   "cell_type": "markdown",
   "metadata": {},
   "source": [
    "#### 2.2. [__Selecting Different Frequency for Time Series Requested__](https://github.com/syncoding/evdsts/blob/master/docs/manuals/manual_en.md#selecting-different-frequency)"
   ]
  },
  {
   "cell_type": "markdown",
   "metadata": {},
   "source": [
    "The `frequency` parameter of the `get_series()` method is used for selecting the frequency of time series you request from the API service. You can use `show_frequency_references()` method of the `Connector` instance in order\n",
    "to see defined frequencies."
   ]
  },
  {
   "cell_type": "code",
   "execution_count": 34,
   "metadata": {},
   "outputs": [
    {
     "name": "stdout",
     "output_type": "stream",
     "text": [
      "                 References Table                 \n",
      "--------------------------------------------------\n",
      "Reference Name Represents -> Original Frequency Names on EVDS\n",
      "--------------------------------------------------\n",
      "default or level or 0   ---> \n",
      "daily or D or 1         ---> 1\n",
      "bdaily or B or 2        ---> 2\n",
      "weekly or W or 3        ---> 3\n",
      "semimonthly or SM or 4  ---> 4\n",
      "monthly or M or 5       ---> 5\n",
      "quarterly or Q or 6     ---> 6\n",
      "semiyearly or 6M or 7   ---> 7\n",
      "yearly or Y or 8        ---> 8\n",
      "--------------------------------------------------\n",
      "\n",
      "\n"
     ]
    }
   ],
   "source": [
    "connector.show_frequency_references()"
   ]
  },
  {
   "cell_type": "markdown",
   "metadata": {},
   "source": [
    "Let's retrieve `usdtry` series in business daily frequency which are originally observed in daily frequency.\n",
    "According to table above, you can provide `bdaily`, `B`, or `2` to the `frequency`` parameter to do\n",
    "that."
   ]
  },
  {
   "cell_type": "code",
   "execution_count": 35,
   "metadata": {},
   "outputs": [],
   "source": [
    "usdtry = connector.get_series(\"TP.DK.USD.A.YTL\",\n",
    "                              start_date=\"01.01.2020\",\n",
    "                              end_date=\"31.12.2021\",\n",
    "                              frequency=\"bdaily\")"
   ]
  },
  {
   "cell_type": "code",
   "execution_count": 37,
   "metadata": {},
   "outputs": [
    {
     "data": {
      "text/html": [
       "<div>\n",
       "<style scoped>\n",
       "    .dataframe tbody tr th:only-of-type {\n",
       "        vertical-align: middle;\n",
       "    }\n",
       "\n",
       "    .dataframe tbody tr th {\n",
       "        vertical-align: top;\n",
       "    }\n",
       "\n",
       "    .dataframe thead th {\n",
       "        text-align: right;\n",
       "    }\n",
       "</style>\n",
       "<table border=\"1\" class=\"dataframe\">\n",
       "  <thead>\n",
       "    <tr style=\"text-align: right;\">\n",
       "      <th></th>\n",
       "      <th>USDTRY</th>\n",
       "    </tr>\n",
       "    <tr>\n",
       "      <th>Date</th>\n",
       "      <th></th>\n",
       "    </tr>\n",
       "  </thead>\n",
       "  <tbody>\n",
       "    <tr>\n",
       "      <th>2021-12-23</th>\n",
       "      <td>12.4535</td>\n",
       "    </tr>\n",
       "    <tr>\n",
       "      <th>2021-12-24</th>\n",
       "      <td>11.4508</td>\n",
       "    </tr>\n",
       "    <tr>\n",
       "      <th>2021-12-27</th>\n",
       "      <td>11.7278</td>\n",
       "    </tr>\n",
       "    <tr>\n",
       "      <th>2021-12-28</th>\n",
       "      <td>11.3900</td>\n",
       "    </tr>\n",
       "    <tr>\n",
       "      <th>2021-12-29</th>\n",
       "      <td>11.8302</td>\n",
       "    </tr>\n",
       "    <tr>\n",
       "      <th>2021-12-30</th>\n",
       "      <td>12.2219</td>\n",
       "    </tr>\n",
       "    <tr>\n",
       "      <th>2021-12-31</th>\n",
       "      <td>12.9775</td>\n",
       "    </tr>\n",
       "  </tbody>\n",
       "</table>\n",
       "</div>"
      ],
      "text/plain": [
       "             USDTRY\n",
       "Date               \n",
       "2021-12-23  12.4535\n",
       "2021-12-24  11.4508\n",
       "2021-12-27  11.7278\n",
       "2021-12-28  11.3900\n",
       "2021-12-29  11.8302\n",
       "2021-12-30  12.2219\n",
       "2021-12-31  12.9775"
      ]
     },
     "execution_count": 37,
     "metadata": {},
     "output_type": "execute_result"
    }
   ],
   "source": [
    "usdtry.tail(7)"
   ]
  },
  {
   "cell_type": "markdown",
   "metadata": {},
   "source": [
    "You can see on the output cell that weekend dates are excluded from the series."
   ]
  },
  {
   "cell_type": "markdown",
   "metadata": {},
   "source": [
    "> Note that; the public holidays don't correspond to weekends are represented as `NaN`s in this\n",
    "> frequency."
   ]
  },
  {
   "cell_type": "markdown",
   "metadata": {},
   "source": [
    "Let's get the same series in same period but in `weekly` frequancy this time."
   ]
  },
  {
   "cell_type": "code",
   "execution_count": 38,
   "metadata": {},
   "outputs": [],
   "source": [
    "usdtry = connector.get_series(\"TP.DK.USD.A.YTL\",\n",
    "                              start_date=\"01.01.2020\",\n",
    "                              end_date=\"31.12.2021\",\n",
    "                              frequency=\"W\")"
   ]
  },
  {
   "cell_type": "code",
   "execution_count": 39,
   "metadata": {},
   "outputs": [
    {
     "data": {
      "text/html": [
       "<div>\n",
       "<style scoped>\n",
       "    .dataframe tbody tr th:only-of-type {\n",
       "        vertical-align: middle;\n",
       "    }\n",
       "\n",
       "    .dataframe tbody tr th {\n",
       "        vertical-align: top;\n",
       "    }\n",
       "\n",
       "    .dataframe thead th {\n",
       "        text-align: right;\n",
       "    }\n",
       "</style>\n",
       "<table border=\"1\" class=\"dataframe\">\n",
       "  <thead>\n",
       "    <tr style=\"text-align: right;\">\n",
       "      <th></th>\n",
       "      <th>USDTRY</th>\n",
       "    </tr>\n",
       "    <tr>\n",
       "      <th>Date</th>\n",
       "      <th></th>\n",
       "    </tr>\n",
       "  </thead>\n",
       "  <tbody>\n",
       "    <tr>\n",
       "      <th>2021-12-03</th>\n",
       "      <td>12.88396</td>\n",
       "    </tr>\n",
       "    <tr>\n",
       "      <th>2021-12-10</th>\n",
       "      <td>13.69762</td>\n",
       "    </tr>\n",
       "    <tr>\n",
       "      <th>2021-12-17</th>\n",
       "      <td>14.42048</td>\n",
       "    </tr>\n",
       "    <tr>\n",
       "      <th>2021-12-24</th>\n",
       "      <td>14.14716</td>\n",
       "    </tr>\n",
       "    <tr>\n",
       "      <th>2021-12-31</th>\n",
       "      <td>12.02948</td>\n",
       "    </tr>\n",
       "  </tbody>\n",
       "</table>\n",
       "</div>"
      ],
      "text/plain": [
       "              USDTRY\n",
       "Date                \n",
       "2021-12-03  12.88396\n",
       "2021-12-10  13.69762\n",
       "2021-12-17  14.42048\n",
       "2021-12-24  14.14716\n",
       "2021-12-31  12.02948"
      ]
     },
     "execution_count": 39,
     "metadata": {},
     "output_type": "execute_result"
    }
   ],
   "source": [
    "usdtry.tail(5)"
   ]
  },
  {
   "cell_type": "markdown",
   "metadata": {},
   "source": [
    "#### 2.3. [__Selecting Transformation Function(s) for Time Series Requested__](https://github.com/syncoding/evdsts/blob/master/docs/manuals/manual_en.md#selecting-transformation)"
   ]
  },
  {
   "cell_type": "markdown",
   "metadata": {},
   "source": [
    "A set of defined transformation functions can be applied to series before retrieving them from the\n",
    "service. These defined functions are determined by `transformations` parameter of the `get_series()` method.\n",
    "You can use `show_transformation_references()` method of the `Connector` instance in order to see all EDDS service pre-defined functions."
   ]
  },
  {
   "cell_type": "code",
   "execution_count": 40,
   "metadata": {},
   "outputs": [
    {
     "name": "stdout",
     "output_type": "stream",
     "text": [
      "                 References Table                 \n",
      "--------------------------------------------------\n",
      "Reference Name Represents -> Original Transformation Function Names on EVDS\n",
      "--------------------------------------------------\n",
      "level or 0              ---> 0\n",
      "percent or 1            ---> 1\n",
      "diff or 2               ---> 2\n",
      "ypercent or 3           ---> 3\n",
      "ydiff or 4              ---> 4\n",
      "ytdpercent or 5         ---> 5\n",
      "ytddiff or 6            ---> 6\n",
      "mov or 7                ---> 7\n",
      "movsum or 8             ---> 8\n",
      "--------------------------------------------------\n",
      "\n",
      "\n"
     ]
    }
   ],
   "source": [
    "connector.show_transformation_references()"
   ]
  },
  {
   "cell_type": "markdown",
   "metadata": {},
   "source": [
    "Identifications of transformation functions given on above table are:  \n",
    "\n",
    "|   parameter       |   explanation                                             |\n",
    "|:-----------------:|-----------------------------------------------------------|\n",
    "| `level`           |    _Level Series_                                         |\n",
    "| `percent`         |    _Percentage (return) Series_                           |\n",
    "| `diff`            |    _Difference Series_                                    |\n",
    "| `ypercent`        |    _Yearly Percentage (return) Series_                    |\n",
    "| `ydiff`           |    _Yearly Difference Series_                             |\n",
    "| `ytdpercent`      |    _Year to Date (end_date) Percentage (return) Series_   |\n",
    "| `ytddiff`         |    _Year to Date (end_date) Difference Series_            |\n",
    "| `mov`             |    _Moving Average Series_                                |\n",
    "| `movsum`          |    _Moving Sum Series_                                    |"
   ]
  },
  {
   "cell_type": "markdown",
   "metadata": {},
   "source": [
    "Let's transform our originally daily observed time series to weekly series and then\n",
    "add the percentage (return) series to this series as an instance."
   ]
  },
  {
   "cell_type": "code",
   "execution_count": 41,
   "metadata": {},
   "outputs": [],
   "source": [
    "usdtry = connector.get_series(\"TP.DK.USD.A.YTL\",\n",
    "                              start_date=\"01.01.2021\",\n",
    "                              end_date=\"31.12.2021\",\n",
    "                              frequency=\"W\",\n",
    "                              transformations=\"percent\")\n",
    "\n",
    "# the return will be: USDTRY and USDTRY% in weekly frequency.\n",
    "# USDTRY% = (USDTRY-USDTRY(t-1)) / USDTRY(t-1)"
   ]
  },
  {
   "cell_type": "code",
   "execution_count": 43,
   "metadata": {},
   "outputs": [
    {
     "data": {
      "text/html": [
       "<div>\n",
       "<style scoped>\n",
       "    .dataframe tbody tr th:only-of-type {\n",
       "        vertical-align: middle;\n",
       "    }\n",
       "\n",
       "    .dataframe tbody tr th {\n",
       "        vertical-align: top;\n",
       "    }\n",
       "\n",
       "    .dataframe thead th {\n",
       "        text-align: right;\n",
       "    }\n",
       "</style>\n",
       "<table border=\"1\" class=\"dataframe\">\n",
       "  <thead>\n",
       "    <tr style=\"text-align: right;\">\n",
       "      <th></th>\n",
       "      <th>USDTRY</th>\n",
       "      <th>USDTRY_PERCENT</th>\n",
       "    </tr>\n",
       "    <tr>\n",
       "      <th>Date</th>\n",
       "      <th></th>\n",
       "      <th></th>\n",
       "    </tr>\n",
       "  </thead>\n",
       "  <tbody>\n",
       "    <tr>\n",
       "      <th>2021-12-03</th>\n",
       "      <td>12.88396</td>\n",
       "      <td>9.257026</td>\n",
       "    </tr>\n",
       "    <tr>\n",
       "      <th>2021-12-10</th>\n",
       "      <td>13.69762</td>\n",
       "      <td>6.315294</td>\n",
       "    </tr>\n",
       "    <tr>\n",
       "      <th>2021-12-17</th>\n",
       "      <td>14.42048</td>\n",
       "      <td>5.277267</td>\n",
       "    </tr>\n",
       "    <tr>\n",
       "      <th>2021-12-24</th>\n",
       "      <td>14.14716</td>\n",
       "      <td>-1.895360</td>\n",
       "    </tr>\n",
       "    <tr>\n",
       "      <th>2021-12-31</th>\n",
       "      <td>12.02948</td>\n",
       "      <td>-14.968941</td>\n",
       "    </tr>\n",
       "  </tbody>\n",
       "</table>\n",
       "</div>"
      ],
      "text/plain": [
       "              USDTRY  USDTRY_PERCENT\n",
       "Date                                \n",
       "2021-12-03  12.88396        9.257026\n",
       "2021-12-10  13.69762        6.315294\n",
       "2021-12-17  14.42048        5.277267\n",
       "2021-12-24  14.14716       -1.895360\n",
       "2021-12-31  12.02948      -14.968941"
      ]
     },
     "execution_count": 43,
     "metadata": {},
     "output_type": "execute_result"
    }
   ],
   "source": [
    "usdtry.tail(5)"
   ]
  },
  {
   "cell_type": "markdown",
   "metadata": {},
   "source": [
    "Transformations can be applied by two different ways when multi-dimensional series are requested.\n",
    "\n",
    "1. Given transformation function is applied to all series requested if only one function is provided.\n",
    "For instance, if only `t` function is given for series `s1` and `s2`, then the transformed series are\n",
    "`t(s1)` and `t(s2)`\n",
    "2. Given transformation functions are applied to series respectively if individual transformation\n",
    "functions are provided for each time series in request. For instance, if `t1` and `t2` functions are\n",
    "given for series `s1` and `s2`, then the transformed series are `t1(s1)` and `t2(s2)`"
   ]
  },
  {
   "cell_type": "code",
   "execution_count": 46,
   "metadata": {},
   "outputs": [],
   "source": [
    "exchange_rates = connector.get_series(\"TP.DK.USD.A.YTL, TP.DK.EUR.A.YTL\",\n",
    "                                      start_date=\"01.01.2021\",\n",
    "                                      end_date=\"31.12.2021\",\n",
    "                                      frequency=\"W\",\n",
    "                                      transformations=\"percent\")\n",
    "\n",
    "# the return will be; USDTRY, EURTRY, USDTRY%, and EURTRY% since only one transformation\n",
    "# function (percent) is provided for both series."
   ]
  },
  {
   "cell_type": "code",
   "execution_count": 47,
   "metadata": {},
   "outputs": [
    {
     "data": {
      "text/html": [
       "<div>\n",
       "<style scoped>\n",
       "    .dataframe tbody tr th:only-of-type {\n",
       "        vertical-align: middle;\n",
       "    }\n",
       "\n",
       "    .dataframe tbody tr th {\n",
       "        vertical-align: top;\n",
       "    }\n",
       "\n",
       "    .dataframe thead th {\n",
       "        text-align: right;\n",
       "    }\n",
       "</style>\n",
       "<table border=\"1\" class=\"dataframe\">\n",
       "  <thead>\n",
       "    <tr style=\"text-align: right;\">\n",
       "      <th></th>\n",
       "      <th>USDTRY</th>\n",
       "      <th>EURTRY</th>\n",
       "      <th>USDTRY_PERCENT</th>\n",
       "      <th>EURTRY_PERCENT</th>\n",
       "    </tr>\n",
       "    <tr>\n",
       "      <th>Date</th>\n",
       "      <th></th>\n",
       "      <th></th>\n",
       "      <th></th>\n",
       "      <th></th>\n",
       "    </tr>\n",
       "  </thead>\n",
       "  <tbody>\n",
       "    <tr>\n",
       "      <th>2021-12-03</th>\n",
       "      <td>12.88396</td>\n",
       "      <td>14.56898</td>\n",
       "      <td>9.257026</td>\n",
       "      <td>9.754771</td>\n",
       "    </tr>\n",
       "    <tr>\n",
       "      <th>2021-12-10</th>\n",
       "      <td>13.69762</td>\n",
       "      <td>15.46966</td>\n",
       "      <td>6.315294</td>\n",
       "      <td>6.182176</td>\n",
       "    </tr>\n",
       "    <tr>\n",
       "      <th>2021-12-17</th>\n",
       "      <td>14.42048</td>\n",
       "      <td>16.27500</td>\n",
       "      <td>5.277267</td>\n",
       "      <td>5.205932</td>\n",
       "    </tr>\n",
       "    <tr>\n",
       "      <th>2021-12-24</th>\n",
       "      <td>14.14716</td>\n",
       "      <td>15.98044</td>\n",
       "      <td>-1.895360</td>\n",
       "      <td>-1.809892</td>\n",
       "    </tr>\n",
       "    <tr>\n",
       "      <th>2021-12-31</th>\n",
       "      <td>12.02948</td>\n",
       "      <td>13.61326</td>\n",
       "      <td>-14.968941</td>\n",
       "      <td>-14.812984</td>\n",
       "    </tr>\n",
       "  </tbody>\n",
       "</table>\n",
       "</div>"
      ],
      "text/plain": [
       "              USDTRY    EURTRY  USDTRY_PERCENT  EURTRY_PERCENT\n",
       "Date                                                          \n",
       "2021-12-03  12.88396  14.56898        9.257026        9.754771\n",
       "2021-12-10  13.69762  15.46966        6.315294        6.182176\n",
       "2021-12-17  14.42048  16.27500        5.277267        5.205932\n",
       "2021-12-24  14.14716  15.98044       -1.895360       -1.809892\n",
       "2021-12-31  12.02948  13.61326      -14.968941      -14.812984"
      ]
     },
     "execution_count": 47,
     "metadata": {},
     "output_type": "execute_result"
    }
   ],
   "source": [
    "exchange_rates.tail(5)"
   ]
  },
  {
   "cell_type": "markdown",
   "metadata": {},
   "source": [
    "> If otherwise is explicitly requested, the original series are preserved and returned in frame when\n",
    "> transformation or aggregation functions are applied to them. This behavior is controlled by\n",
    "> `keep_originals` flag of the `get_series()` method and defaults to `True`. You can set it `False`\n",
    "> when calling if you would not like the original series to be returned together with transformed ones."
   ]
  },
  {
   "cell_type": "code",
   "execution_count": 49,
   "metadata": {},
   "outputs": [],
   "source": [
    "exchange_rates = connector.get_series(\"TP.DK.USD.A.YTL, TP.DK.EUR.A.YTL\",\n",
    "                                      start_date=\"01.01.2021\",\n",
    "                                      end_date=\"31.12.2021\",\n",
    "                                      frequency=\"W\",\n",
    "                                      transformations=\"percent\",\n",
    "                                      keep_originals=False)\n",
    "\n",
    "# the return will be USDTRY% and EURTRY% since the 'keep_originals' flag is set 'False'."
   ]
  },
  {
   "cell_type": "code",
   "execution_count": 50,
   "metadata": {},
   "outputs": [
    {
     "data": {
      "text/html": [
       "<div>\n",
       "<style scoped>\n",
       "    .dataframe tbody tr th:only-of-type {\n",
       "        vertical-align: middle;\n",
       "    }\n",
       "\n",
       "    .dataframe tbody tr th {\n",
       "        vertical-align: top;\n",
       "    }\n",
       "\n",
       "    .dataframe thead th {\n",
       "        text-align: right;\n",
       "    }\n",
       "</style>\n",
       "<table border=\"1\" class=\"dataframe\">\n",
       "  <thead>\n",
       "    <tr style=\"text-align: right;\">\n",
       "      <th></th>\n",
       "      <th>USDTRY_PERCENT</th>\n",
       "      <th>EURTRY_PERCENT</th>\n",
       "    </tr>\n",
       "    <tr>\n",
       "      <th>Date</th>\n",
       "      <th></th>\n",
       "      <th></th>\n",
       "    </tr>\n",
       "  </thead>\n",
       "  <tbody>\n",
       "    <tr>\n",
       "      <th>2021-12-03</th>\n",
       "      <td>9.257026</td>\n",
       "      <td>9.754771</td>\n",
       "    </tr>\n",
       "    <tr>\n",
       "      <th>2021-12-10</th>\n",
       "      <td>6.315294</td>\n",
       "      <td>6.182176</td>\n",
       "    </tr>\n",
       "    <tr>\n",
       "      <th>2021-12-17</th>\n",
       "      <td>5.277267</td>\n",
       "      <td>5.205932</td>\n",
       "    </tr>\n",
       "    <tr>\n",
       "      <th>2021-12-24</th>\n",
       "      <td>-1.895360</td>\n",
       "      <td>-1.809892</td>\n",
       "    </tr>\n",
       "    <tr>\n",
       "      <th>2021-12-31</th>\n",
       "      <td>-14.968941</td>\n",
       "      <td>-14.812984</td>\n",
       "    </tr>\n",
       "  </tbody>\n",
       "</table>\n",
       "</div>"
      ],
      "text/plain": [
       "            USDTRY_PERCENT  EURTRY_PERCENT\n",
       "Date                                      \n",
       "2021-12-03        9.257026        9.754771\n",
       "2021-12-10        6.315294        6.182176\n",
       "2021-12-17        5.277267        5.205932\n",
       "2021-12-24       -1.895360       -1.809892\n",
       "2021-12-31      -14.968941      -14.812984"
      ]
     },
     "execution_count": 50,
     "metadata": {},
     "output_type": "execute_result"
    }
   ],
   "source": [
    "exchange_rates.tail(5)"
   ]
  },
  {
   "cell_type": "markdown",
   "metadata": {},
   "source": [
    "As for below sample, `percent` is applied to TP.DK.USD.A.YTL (USDTRY) and `diff` is applied to\n",
    "TP.DK.EUR.A.YTL (EURTRY) respectively since two individual transformation functions are provided\n",
    "for two requested time series."
   ]
  },
  {
   "cell_type": "code",
   "execution_count": 51,
   "metadata": {},
   "outputs": [],
   "source": [
    "exchange_rates = connector.get_series(\"TP.DK.USD.A.YTL, TP.DK.EUR.A.YTL\",\n",
    "                                      start_date=\"01.01.2021\",\n",
    "                                      end_date=\"31.12.2021\",\n",
    "                                      frequency=\"W\",\n",
    "                                      transformations=\"percent, diff\")\n",
    "\n",
    "# the return will be; USDTRY, EURTRY, USDTRY% and D(EURTRY) time series.\n",
    "# USDTRY% = (USDTRY-USDTRY(t-1)) / USDTRY(t-1)\n",
    "# D(EURTRY) = (EURTRY(t) - EURTRY(t-1))"
   ]
  },
  {
   "cell_type": "code",
   "execution_count": 52,
   "metadata": {},
   "outputs": [
    {
     "data": {
      "text/html": [
       "<div>\n",
       "<style scoped>\n",
       "    .dataframe tbody tr th:only-of-type {\n",
       "        vertical-align: middle;\n",
       "    }\n",
       "\n",
       "    .dataframe tbody tr th {\n",
       "        vertical-align: top;\n",
       "    }\n",
       "\n",
       "    .dataframe thead th {\n",
       "        text-align: right;\n",
       "    }\n",
       "</style>\n",
       "<table border=\"1\" class=\"dataframe\">\n",
       "  <thead>\n",
       "    <tr style=\"text-align: right;\">\n",
       "      <th></th>\n",
       "      <th>USDTRY</th>\n",
       "      <th>EURTRY</th>\n",
       "      <th>USDTRY_PERCENT</th>\n",
       "      <th>EURTRY_DIFF</th>\n",
       "    </tr>\n",
       "    <tr>\n",
       "      <th>Date</th>\n",
       "      <th></th>\n",
       "      <th></th>\n",
       "      <th></th>\n",
       "      <th></th>\n",
       "    </tr>\n",
       "  </thead>\n",
       "  <tbody>\n",
       "    <tr>\n",
       "      <th>2021-12-03</th>\n",
       "      <td>12.88396</td>\n",
       "      <td>14.56898</td>\n",
       "      <td>9.257026</td>\n",
       "      <td>1.29486</td>\n",
       "    </tr>\n",
       "    <tr>\n",
       "      <th>2021-12-10</th>\n",
       "      <td>13.69762</td>\n",
       "      <td>15.46966</td>\n",
       "      <td>6.315294</td>\n",
       "      <td>0.90068</td>\n",
       "    </tr>\n",
       "    <tr>\n",
       "      <th>2021-12-17</th>\n",
       "      <td>14.42048</td>\n",
       "      <td>16.27500</td>\n",
       "      <td>5.277267</td>\n",
       "      <td>0.80534</td>\n",
       "    </tr>\n",
       "    <tr>\n",
       "      <th>2021-12-24</th>\n",
       "      <td>14.14716</td>\n",
       "      <td>15.98044</td>\n",
       "      <td>-1.895360</td>\n",
       "      <td>-0.29456</td>\n",
       "    </tr>\n",
       "    <tr>\n",
       "      <th>2021-12-31</th>\n",
       "      <td>12.02948</td>\n",
       "      <td>13.61326</td>\n",
       "      <td>-14.968941</td>\n",
       "      <td>-2.36718</td>\n",
       "    </tr>\n",
       "  </tbody>\n",
       "</table>\n",
       "</div>"
      ],
      "text/plain": [
       "              USDTRY    EURTRY  USDTRY_PERCENT  EURTRY_DIFF\n",
       "Date                                                       \n",
       "2021-12-03  12.88396  14.56898        9.257026      1.29486\n",
       "2021-12-10  13.69762  15.46966        6.315294      0.90068\n",
       "2021-12-17  14.42048  16.27500        5.277267      0.80534\n",
       "2021-12-24  14.14716  15.98044       -1.895360     -0.29456\n",
       "2021-12-31  12.02948  13.61326      -14.968941     -2.36718"
      ]
     },
     "execution_count": 52,
     "metadata": {},
     "output_type": "execute_result"
    }
   ],
   "source": [
    "exchange_rates.tail(5)"
   ]
  },
  {
   "cell_type": "markdown",
   "metadata": {},
   "source": [
    "Individual transformation functions can be provided by different ways shown below:\n",
    "\n",
    "1. with a comma separated `string`\n",
    "2. with a space separated `string`\n",
    "3. with individual strings in a sequence type container like a `List` or `Tuple`"
   ]
  },
  {
   "cell_type": "code",
   "execution_count": 53,
   "metadata": {},
   "outputs": [],
   "source": [
    "transformations = [\"percent\", \"diff\"]\n",
    "\n",
    "exchange_rates = connector.get_series(\"TP.DK.USD.A.YTL, TP.DK.EUR.A.YTL\",\n",
    "                                      start_date=\"01.01.2022\",\n",
    "                                      transformations=transformations)    # OK\n",
    "\n",
    "exchange_rates = connector.get_series(\"TP.DK.USD.A.YTL, TP.DK.EUR.A.YTL\",\n",
    "                                      start_date=\"01.01.2022\",\n",
    "                                      transformations=\"percent, diff\")    # OK\n",
    "\n",
    "exchange_rates = connector.get_series(\"TP.DK.USD.A.YTL, TP.DK.EUR.A.YTL\",\n",
    "                                      start_date=\"01.01.2022\",\n",
    "                                      transformations=\"percent diff\")     # OK"
   ]
  },
  {
   "cell_type": "code",
   "execution_count": 54,
   "metadata": {},
   "outputs": [
    {
     "data": {
      "text/html": [
       "<div>\n",
       "<style scoped>\n",
       "    .dataframe tbody tr th:only-of-type {\n",
       "        vertical-align: middle;\n",
       "    }\n",
       "\n",
       "    .dataframe tbody tr th {\n",
       "        vertical-align: top;\n",
       "    }\n",
       "\n",
       "    .dataframe thead th {\n",
       "        text-align: right;\n",
       "    }\n",
       "</style>\n",
       "<table border=\"1\" class=\"dataframe\">\n",
       "  <thead>\n",
       "    <tr style=\"text-align: right;\">\n",
       "      <th></th>\n",
       "      <th>USDTRY</th>\n",
       "      <th>EURTRY</th>\n",
       "      <th>USDTRY_PERCENT</th>\n",
       "      <th>EURTRY_DIFF</th>\n",
       "    </tr>\n",
       "    <tr>\n",
       "      <th>Date</th>\n",
       "      <th></th>\n",
       "      <th></th>\n",
       "      <th></th>\n",
       "      <th></th>\n",
       "    </tr>\n",
       "  </thead>\n",
       "  <tbody>\n",
       "    <tr>\n",
       "      <th>2022-08-19</th>\n",
       "      <td>17.9688</td>\n",
       "      <td>18.2694</td>\n",
       "      <td>0.154394</td>\n",
       "      <td>0.0207</td>\n",
       "    </tr>\n",
       "  </tbody>\n",
       "</table>\n",
       "</div>"
      ],
      "text/plain": [
       "             USDTRY   EURTRY  USDTRY_PERCENT  EURTRY_DIFF\n",
       "Date                                                     \n",
       "2022-08-19  17.9688  18.2694        0.154394       0.0207"
      ]
     },
     "execution_count": 54,
     "metadata": {},
     "output_type": "execute_result"
    }
   ],
   "source": [
    "exchange_rates.tail(1)"
   ]
  },
  {
   "cell_type": "markdown",
   "metadata": {},
   "source": [
    "#### 2.4. [__Selecting Aggregation Function(s) for Time Series Requested__](https://github.com/syncoding/evdsts/blob/master/docs/manuals/manual_en.md#selecting-aggregation)"
   ]
  },
  {
   "cell_type": "markdown",
   "metadata": {},
   "source": [
    "A set of defined aggregation functions can be applied to series before retrieving them from the\n",
    "service. These defined functions are determined by `aggregations` parameter of the `get_series()` method.\n",
    "You can use `show_aggregation_references()` method of the `Connector` instance in order to see all\n",
    "EDDS service pre-defined functions."
   ]
  },
  {
   "cell_type": "code",
   "execution_count": 55,
   "metadata": {},
   "outputs": [
    {
     "name": "stdout",
     "output_type": "stream",
     "text": [
      "                 References Table                 \n",
      "--------------------------------------------------\n",
      "Reference Name Represents -> Original Aggregation Function Names on EVDS\n",
      "--------------------------------------------------\n",
      "avg or 1                ---> avg\n",
      "min or 2                ---> min\n",
      "max or 3                ---> max\n",
      "first or 4              ---> first\n",
      "last or 5               ---> last\n",
      "sum or 6                ---> sum\n",
      "--------------------------------------------------\n",
      "\n",
      "\n"
     ]
    }
   ],
   "source": [
    "connector.show_aggregation_references()"
   ]
  },
  {
   "cell_type": "markdown",
   "metadata": {},
   "source": [
    "Identifications of aggregation functions given on above table are:  \n",
    "\n",
    "|   parameter   |   explanation                             |\n",
    "|:--------------|-------------------------------------------|\n",
    "| `avg`         |average (mean) value in selected frequency |\n",
    "| `min`         |minimum value in selected frequency        |\n",
    "| `max`         |maximum value in selected frequency        |\n",
    "| `first`       |first value in selected frequency          |\n",
    "| `last`        |last value in selected frequency           |\n",
    "| `sum`         |sum of values in selected frequency        |"
   ]
  },
  {
   "cell_type": "code",
   "execution_count": 56,
   "metadata": {},
   "outputs": [],
   "source": [
    "usdtry = connector.get_series(\"TP.DK.USD.A.YTL\",\n",
    "                              start_date=\"01.01.2021\",\n",
    "                              end_date=\"31.12.2021\",\n",
    "                              frequency=\"W\",\n",
    "                              aggregations=\"max\")\n",
    "\n",
    "# the output will be USDTRY and the maximum observed values for USDTRY in a given week\n",
    "# in range (01.01.2021 - 31.12.2021)\n",
    "# in other words, it's equals to USDTRY and max(USDTRY, W)."
   ]
  },
  {
   "cell_type": "code",
   "execution_count": 57,
   "metadata": {},
   "outputs": [
    {
     "data": {
      "text/html": [
       "<div>\n",
       "<style scoped>\n",
       "    .dataframe tbody tr th:only-of-type {\n",
       "        vertical-align: middle;\n",
       "    }\n",
       "\n",
       "    .dataframe tbody tr th {\n",
       "        vertical-align: top;\n",
       "    }\n",
       "\n",
       "    .dataframe thead th {\n",
       "        text-align: right;\n",
       "    }\n",
       "</style>\n",
       "<table border=\"1\" class=\"dataframe\">\n",
       "  <thead>\n",
       "    <tr style=\"text-align: right;\">\n",
       "      <th></th>\n",
       "      <th>USDTRY</th>\n",
       "      <th>USDTRY_MAX</th>\n",
       "    </tr>\n",
       "    <tr>\n",
       "      <th>Date</th>\n",
       "      <th></th>\n",
       "      <th></th>\n",
       "    </tr>\n",
       "  </thead>\n",
       "  <tbody>\n",
       "    <tr>\n",
       "      <th>2021-12-03</th>\n",
       "      <td>12.88396</td>\n",
       "      <td>13.406700</td>\n",
       "    </tr>\n",
       "    <tr>\n",
       "      <th>2021-12-10</th>\n",
       "      <td>13.69762</td>\n",
       "      <td>13.774000</td>\n",
       "    </tr>\n",
       "    <tr>\n",
       "      <th>2021-12-17</th>\n",
       "      <td>14.42048</td>\n",
       "      <td>15.211800</td>\n",
       "    </tr>\n",
       "    <tr>\n",
       "      <th>2021-12-24</th>\n",
       "      <td>14.14716</td>\n",
       "      <td>17.473101</td>\n",
       "    </tr>\n",
       "    <tr>\n",
       "      <th>2021-12-31</th>\n",
       "      <td>12.02948</td>\n",
       "      <td>12.977500</td>\n",
       "    </tr>\n",
       "  </tbody>\n",
       "</table>\n",
       "</div>"
      ],
      "text/plain": [
       "              USDTRY  USDTRY_MAX\n",
       "Date                            \n",
       "2021-12-03  12.88396   13.406700\n",
       "2021-12-10  13.69762   13.774000\n",
       "2021-12-17  14.42048   15.211800\n",
       "2021-12-24  14.14716   17.473101\n",
       "2021-12-31  12.02948   12.977500"
      ]
     },
     "execution_count": 57,
     "metadata": {},
     "output_type": "execute_result"
    }
   ],
   "source": [
    "usdtry.tail(5)"
   ]
  },
  {
   "cell_type": "markdown",
   "metadata": {},
   "source": [
    "Aggregations can be applied by two different ways when multi-dimensional series are requested.\n",
    "\n",
    "1. Given aggregation function is applied to all series requested if only one function is provided.\n",
    "For instance, if only `a` function is given for series `s1` and `s2`, then the transformed series are\n",
    "`a(s1)` and `a(s2)`\n",
    "2. Given aggregation functions are applied to series respectively if individual aggregation\n",
    "functions are provided for each time series in frame. For instance, if `a1` and `a2` functions are\n",
    "given for series `s1` and `s2`, then the transformed series are `a1(s1)` and `a2(s2)`"
   ]
  },
  {
   "cell_type": "code",
   "execution_count": 58,
   "metadata": {},
   "outputs": [],
   "source": [
    "exchange_rates = connector.get_series(\"TP.DK.USD.A.YTL, TP.DK.EUR.A.YTL\",\n",
    "                                      start_date=\"01.01.2021\",\n",
    "                                      end_date=\"31.12.2021\",\n",
    "                                      frequency=\"W\",\n",
    "                                      aggregations=\"max\")\n",
    "\n",
    "# the return will be; USDTRY, EURTRY, max(USDTRY, W) and max(EURTRY, W) since only one aggregation\n",
    "# function is provided for all series."
   ]
  },
  {
   "cell_type": "code",
   "execution_count": 59,
   "metadata": {},
   "outputs": [
    {
     "data": {
      "text/html": [
       "<div>\n",
       "<style scoped>\n",
       "    .dataframe tbody tr th:only-of-type {\n",
       "        vertical-align: middle;\n",
       "    }\n",
       "\n",
       "    .dataframe tbody tr th {\n",
       "        vertical-align: top;\n",
       "    }\n",
       "\n",
       "    .dataframe thead th {\n",
       "        text-align: right;\n",
       "    }\n",
       "</style>\n",
       "<table border=\"1\" class=\"dataframe\">\n",
       "  <thead>\n",
       "    <tr style=\"text-align: right;\">\n",
       "      <th></th>\n",
       "      <th>USDTRY</th>\n",
       "      <th>EURTRY</th>\n",
       "      <th>USDTRY_MAX</th>\n",
       "      <th>EURTRY_MAX</th>\n",
       "    </tr>\n",
       "    <tr>\n",
       "      <th>Date</th>\n",
       "      <th></th>\n",
       "      <th></th>\n",
       "      <th></th>\n",
       "      <th></th>\n",
       "    </tr>\n",
       "  </thead>\n",
       "  <tbody>\n",
       "    <tr>\n",
       "      <th>2021-12-03</th>\n",
       "      <td>12.88396</td>\n",
       "      <td>14.56898</td>\n",
       "      <td>13.406700</td>\n",
       "      <td>15.183800</td>\n",
       "    </tr>\n",
       "    <tr>\n",
       "      <th>2021-12-10</th>\n",
       "      <td>13.69762</td>\n",
       "      <td>15.46966</td>\n",
       "      <td>13.774000</td>\n",
       "      <td>15.557700</td>\n",
       "    </tr>\n",
       "    <tr>\n",
       "      <th>2021-12-17</th>\n",
       "      <td>14.42048</td>\n",
       "      <td>16.27500</td>\n",
       "      <td>15.211800</td>\n",
       "      <td>17.195700</td>\n",
       "    </tr>\n",
       "    <tr>\n",
       "      <th>2021-12-24</th>\n",
       "      <td>14.14716</td>\n",
       "      <td>15.98044</td>\n",
       "      <td>17.473101</td>\n",
       "      <td>19.678801</td>\n",
       "    </tr>\n",
       "    <tr>\n",
       "      <th>2021-12-31</th>\n",
       "      <td>12.02948</td>\n",
       "      <td>13.61326</td>\n",
       "      <td>12.977500</td>\n",
       "      <td>14.682300</td>\n",
       "    </tr>\n",
       "  </tbody>\n",
       "</table>\n",
       "</div>"
      ],
      "text/plain": [
       "              USDTRY    EURTRY  USDTRY_MAX  EURTRY_MAX\n",
       "Date                                                  \n",
       "2021-12-03  12.88396  14.56898   13.406700   15.183800\n",
       "2021-12-10  13.69762  15.46966   13.774000   15.557700\n",
       "2021-12-17  14.42048  16.27500   15.211800   17.195700\n",
       "2021-12-24  14.14716  15.98044   17.473101   19.678801\n",
       "2021-12-31  12.02948  13.61326   12.977500   14.682300"
      ]
     },
     "execution_count": 59,
     "metadata": {},
     "output_type": "execute_result"
    }
   ],
   "source": [
    "exchange_rates.tail(5)"
   ]
  },
  {
   "cell_type": "markdown",
   "metadata": {},
   "source": [
    "> Note that the original time series are preserved and returned with the aggregated series since\n",
    "> `keep_originals` flag defaults to `True`."
   ]
  },
  {
   "cell_type": "markdown",
   "metadata": {},
   "source": [
    "As for below sample, `max` is applied to TP.DK.USD.A.YTL (USDTRY) and `min` is applied to\n",
    "TP.DK.EUR.A.YTL (EURTRY) respectively since two individual transformation functions are provided\n",
    "for two time series. Corollary, the aggregated series are equals to max(USDTRY) and min(EURTRY)\n",
    "in requested frequencies."
   ]
  },
  {
   "cell_type": "code",
   "execution_count": 60,
   "metadata": {},
   "outputs": [],
   "source": [
    "exchange_rates = connector.get_series(\"TP.DK.USD.A.YTL, TP.DK.EUR.A.YTL\",\n",
    "                                      start_date=\"01.01.2021\",\n",
    "                                      end_date=\"31.12.2021\",\n",
    "                                      frequency=\"W\",\n",
    "                                      aggregations=\"max, min\")\n",
    "\n",
    "# the output will be USDTRY, EURTRY, the maximum observed values for USDTRY, and the minimum observed\n",
    "# values for EURTRY in a given week in range (01.01.2021 - 31.12.2021)\n",
    "# in other words, it's equals to USDTRY, EURTRY, max(USDTRY, W), min(EURTRY, W)."
   ]
  },
  {
   "cell_type": "code",
   "execution_count": 61,
   "metadata": {},
   "outputs": [
    {
     "data": {
      "text/html": [
       "<div>\n",
       "<style scoped>\n",
       "    .dataframe tbody tr th:only-of-type {\n",
       "        vertical-align: middle;\n",
       "    }\n",
       "\n",
       "    .dataframe tbody tr th {\n",
       "        vertical-align: top;\n",
       "    }\n",
       "\n",
       "    .dataframe thead th {\n",
       "        text-align: right;\n",
       "    }\n",
       "</style>\n",
       "<table border=\"1\" class=\"dataframe\">\n",
       "  <thead>\n",
       "    <tr style=\"text-align: right;\">\n",
       "      <th></th>\n",
       "      <th>USDTRY</th>\n",
       "      <th>EURTRY</th>\n",
       "      <th>USDTRY_MAX</th>\n",
       "      <th>EURTRY_MIN</th>\n",
       "    </tr>\n",
       "    <tr>\n",
       "      <th>Date</th>\n",
       "      <th></th>\n",
       "      <th></th>\n",
       "      <th></th>\n",
       "      <th></th>\n",
       "    </tr>\n",
       "  </thead>\n",
       "  <tbody>\n",
       "    <tr>\n",
       "      <th>2021-12-03</th>\n",
       "      <td>12.88396</td>\n",
       "      <td>14.56898</td>\n",
       "      <td>13.406700</td>\n",
       "      <td>13.5971</td>\n",
       "    </tr>\n",
       "    <tr>\n",
       "      <th>2021-12-10</th>\n",
       "      <td>13.69762</td>\n",
       "      <td>15.46966</td>\n",
       "      <td>13.774000</td>\n",
       "      <td>15.3754</td>\n",
       "    </tr>\n",
       "    <tr>\n",
       "      <th>2021-12-17</th>\n",
       "      <td>14.42048</td>\n",
       "      <td>16.27500</td>\n",
       "      <td>15.211800</td>\n",
       "      <td>15.6094</td>\n",
       "    </tr>\n",
       "    <tr>\n",
       "      <th>2021-12-24</th>\n",
       "      <td>14.14716</td>\n",
       "      <td>15.98044</td>\n",
       "      <td>17.473101</td>\n",
       "      <td>12.9683</td>\n",
       "    </tr>\n",
       "    <tr>\n",
       "      <th>2021-12-31</th>\n",
       "      <td>12.02948</td>\n",
       "      <td>13.61326</td>\n",
       "      <td>12.977500</td>\n",
       "      <td>12.8903</td>\n",
       "    </tr>\n",
       "  </tbody>\n",
       "</table>\n",
       "</div>"
      ],
      "text/plain": [
       "              USDTRY    EURTRY  USDTRY_MAX  EURTRY_MIN\n",
       "Date                                                  \n",
       "2021-12-03  12.88396  14.56898   13.406700     13.5971\n",
       "2021-12-10  13.69762  15.46966   13.774000     15.3754\n",
       "2021-12-17  14.42048  16.27500   15.211800     15.6094\n",
       "2021-12-24  14.14716  15.98044   17.473101     12.9683\n",
       "2021-12-31  12.02948  13.61326   12.977500     12.8903"
      ]
     },
     "execution_count": 61,
     "metadata": {},
     "output_type": "execute_result"
    }
   ],
   "source": [
    "exchange_rates.tail(5)"
   ]
  },
  {
   "cell_type": "markdown",
   "metadata": {},
   "source": [
    "Individual aggregation functions can be provided by different ways shown below:\n",
    "\n",
    "1. with a comma separated `string`\n",
    "2. with a space separated `string`\n",
    "3. with individual strings in a sequence type container like a `List` or `Tuple`"
   ]
  },
  {
   "cell_type": "code",
   "execution_count": 62,
   "metadata": {},
   "outputs": [],
   "source": [
    "aggregations = [\"max\", \"min\"]\n",
    "\n",
    "exchange_rates = connector.get_series(\"TP.DK.USD.A.YTL, TP.DK.EUR.A.YTL\",\n",
    "                                      start_date=\"01.01.2022\",\n",
    "                                      aggregations=aggregations)          # OK\n",
    "\n",
    "exchange_rates = connector.get_series(\"TP.DK.USD.A.YTL, TP.DK.EUR.A.YTL\",\n",
    "                                      start_date=\"01.01.2022\",\n",
    "                                      aggregations=\"min, max\")            # OK\n",
    "\n",
    "exchange_rates = connector.get_series(\"TP.DK.USD.A.YTL, TP.DK.EUR.A.YTL\",\n",
    "                                      start_date=\"01.01.2022\",\n",
    "                                      aggregations=\"min max\")             # OK"
   ]
  },
  {
   "cell_type": "code",
   "execution_count": 63,
   "metadata": {},
   "outputs": [
    {
     "data": {
      "text/html": [
       "<div>\n",
       "<style scoped>\n",
       "    .dataframe tbody tr th:only-of-type {\n",
       "        vertical-align: middle;\n",
       "    }\n",
       "\n",
       "    .dataframe tbody tr th {\n",
       "        vertical-align: top;\n",
       "    }\n",
       "\n",
       "    .dataframe thead th {\n",
       "        text-align: right;\n",
       "    }\n",
       "</style>\n",
       "<table border=\"1\" class=\"dataframe\">\n",
       "  <thead>\n",
       "    <tr style=\"text-align: right;\">\n",
       "      <th></th>\n",
       "      <th>USDTRY</th>\n",
       "      <th>EURTRY</th>\n",
       "      <th>USDTRY_MIN</th>\n",
       "      <th>EURTRY_MAX</th>\n",
       "    </tr>\n",
       "    <tr>\n",
       "      <th>Date</th>\n",
       "      <th></th>\n",
       "      <th></th>\n",
       "      <th></th>\n",
       "      <th></th>\n",
       "    </tr>\n",
       "  </thead>\n",
       "  <tbody>\n",
       "    <tr>\n",
       "      <th>2022-08-19</th>\n",
       "      <td>17.9688</td>\n",
       "      <td>18.2694</td>\n",
       "      <td>17.9688</td>\n",
       "      <td>18.2694</td>\n",
       "    </tr>\n",
       "  </tbody>\n",
       "</table>\n",
       "</div>"
      ],
      "text/plain": [
       "             USDTRY   EURTRY  USDTRY_MIN  EURTRY_MAX\n",
       "Date                                                \n",
       "2022-08-19  17.9688  18.2694     17.9688     18.2694"
      ]
     },
     "execution_count": 63,
     "metadata": {},
     "output_type": "execute_result"
    }
   ],
   "source": [
    "exchange_rates.tail(1)"
   ]
  },
  {
   "cell_type": "markdown",
   "metadata": {},
   "source": [
    "> __Please not that; for preventing ambiguity, `evdsts` doesn't allow the transformations and__\n",
    "> __aggregations are applied to series at once.__"
   ]
  },
  {
   "cell_type": "markdown",
   "metadata": {},
   "source": [
    "#### 2.5. [__Retrieving Data in Other Formats__](https://github.com/syncoding/evdsts/blob/master/docs/manuals/manual_en.md#retrieving-raw-data)"
   ]
  },
  {
   "cell_type": "markdown",
   "metadata": {},
   "source": [
    "You can use `raw` flag of the `get_series()` method to retrieve untouched JSON data which is\n",
    "returned from the API service."
   ]
  },
  {
   "cell_type": "code",
   "execution_count": 64,
   "metadata": {},
   "outputs": [],
   "source": [
    "exchange_rates = connector.get_series(\"TP.DK.USD.A.YTL, TP.DK.EUR.A.YTL\",\n",
    "                                      start_date=\"01.01.2020\",\n",
    "                                      end_date=\"31.12.2021\",\n",
    "                                      frequency=\"Y\",\n",
    "                                      transformations=\"percent\",\n",
    "                                      raw=True)"
   ]
  },
  {
   "cell_type": "code",
   "execution_count": 68,
   "metadata": {},
   "outputs": [
    {
     "data": {
      "text/plain": [
       "'{\"USDTRY\":{\"2020-12-31T00:00:00.000Z\":7.0090303421,\"2021-12-31T00:00:00.000Z\":8.8853683472},\"EURTRY\":{\"2020-12-31T00:00:00.000Z\":8.0277643204,\"2021-12-31T00:00:00.000Z\":10.4686517715},\"USDTRY_PERCENT\":{\"2020-12-31T00:00:00.000Z\":23.5979652405,\"2021-12-31T00:00:00.000Z\":26.7702960968},\"EURTRY_PERCENT\":{\"2020-12-31T00:00:00.000Z\":26.4670124054,\"2021-12-31T00:00:00.000Z\":30.4055747986}}'"
      ]
     },
     "execution_count": 68,
     "metadata": {},
     "output_type": "execute_result"
    }
   ],
   "source": [
    "exchange_rates"
   ]
  },
  {
   "cell_type": "markdown",
   "metadata": {},
   "source": [
    "likewise, you can use `as_dict` parameter to retrive the data as a `Dict` object."
   ]
  },
  {
   "cell_type": "code",
   "execution_count": 108,
   "metadata": {},
   "outputs": [],
   "source": [
    "exchange_rates = connector.get_series(\"TP.DK.USD.A.YTL, TP.DK.EUR.A.YTL\",\n",
    "                                      start_date=\"01.01.2020\",\n",
    "                                      end_date=\"31.12.2021\",\n",
    "                                      frequency=\"Y\",\n",
    "                                      transformations=\"percent\",\n",
    "                                      as_dict=True)"
   ]
  },
  {
   "cell_type": "code",
   "execution_count": 109,
   "metadata": {},
   "outputs": [
    {
     "name": "stdout",
     "output_type": "stream",
     "text": [
      "{'EURTRY': {Timestamp('2020-12-31 00:00:00', freq='A-DEC'): 8.027764320373535,\n",
      "            Timestamp('2021-12-31 00:00:00', freq='A-DEC'): 10.46865177154541},\n",
      " 'EURTRY_PERCENT': {Timestamp('2020-12-31 00:00:00', freq='A-DEC'): 26.467012405395508,\n",
      "                    Timestamp('2021-12-31 00:00:00', freq='A-DEC'): 30.405574798583984},\n",
      " 'USDTRY': {Timestamp('2020-12-31 00:00:00', freq='A-DEC'): 7.009030342102051,\n",
      "            Timestamp('2021-12-31 00:00:00', freq='A-DEC'): 8.885368347167969},\n",
      " 'USDTRY_PERCENT': {Timestamp('2020-12-31 00:00:00', freq='A-DEC'): 23.597965240478516,\n",
      "                    Timestamp('2021-12-31 00:00:00', freq='A-DEC'): 26.770296096801758}}\n"
     ]
    }
   ],
   "source": [
    "from pprint import pprint\n",
    "pprint(exchange_rates)"
   ]
  },
  {
   "cell_type": "markdown",
   "metadata": {},
   "source": [
    "#### 2.6. [__Assigning Names for Retrieved Time Series__](https://github.com/syncoding/evdsts/blob/master/docs/manuals/manual_en.md#assigning-new-names-bare)"
   ]
  },
  {
   "cell_type": "markdown",
   "metadata": {},
   "source": [
    "You can assing new column names for the series retrieved by `new_names` parameter of the\n",
    "`get_sereies()` method. New names for `DataFrame` columns are set respectively for the\n",
    "series requested."
   ]
  },
  {
   "cell_type": "markdown",
   "metadata": {},
   "source": [
    "##### 2.6.1. [__Assigning Names for Bare Series Requests__](https://github.com/syncoding/evdsts/blob/master/docs/manuals/manual_en.md#assigning-new-names)"
   ]
  },
  {
   "cell_type": "markdown",
   "metadata": {},
   "source": [
    "The below example shows how to give new names for retrieved series. Names are provided respectively\n",
    "that maps `TP.DK.USD.A.YTL = UTR`, and `TP.DK.EUR.A.YTL = ETR` in below, therefore, the column\n",
    "names of returned `DataFrame` are `UTR` and `ETR` instead of `TP.DK.USD.A.YTL` and `TP.DK.EUR.A.YTL`"
   ]
  },
  {
   "cell_type": "code",
   "execution_count": 69,
   "metadata": {},
   "outputs": [],
   "source": [
    "exchange_rates = connector.get_series(\"TP.DK.USD.A.YTL, TP.DK.EUR.A.YTL\",\n",
    "                                      start_date=\"01.01.2021\",\n",
    "                                      end_date=\"31.12.2021\",\n",
    "                                      frequency=\"W\",\n",
    "                                      new_names=\"UTR, ETR\")"
   ]
  },
  {
   "cell_type": "code",
   "execution_count": 70,
   "metadata": {},
   "outputs": [
    {
     "data": {
      "text/html": [
       "<div>\n",
       "<style scoped>\n",
       "    .dataframe tbody tr th:only-of-type {\n",
       "        vertical-align: middle;\n",
       "    }\n",
       "\n",
       "    .dataframe tbody tr th {\n",
       "        vertical-align: top;\n",
       "    }\n",
       "\n",
       "    .dataframe thead th {\n",
       "        text-align: right;\n",
       "    }\n",
       "</style>\n",
       "<table border=\"1\" class=\"dataframe\">\n",
       "  <thead>\n",
       "    <tr style=\"text-align: right;\">\n",
       "      <th></th>\n",
       "      <th>UTR</th>\n",
       "      <th>ETR</th>\n",
       "    </tr>\n",
       "    <tr>\n",
       "      <th>Date</th>\n",
       "      <th></th>\n",
       "      <th></th>\n",
       "    </tr>\n",
       "  </thead>\n",
       "  <tbody>\n",
       "    <tr>\n",
       "      <th>2021-12-31</th>\n",
       "      <td>12.02948</td>\n",
       "      <td>13.61326</td>\n",
       "    </tr>\n",
       "  </tbody>\n",
       "</table>\n",
       "</div>"
      ],
      "text/plain": [
       "                 UTR       ETR\n",
       "Date                          \n",
       "2021-12-31  12.02948  13.61326"
      ]
     },
     "execution_count": 70,
     "metadata": {},
     "output_type": "execute_result"
    }
   ],
   "source": [
    "exchange_rates.tail(1)"
   ]
  },
  {
   "cell_type": "markdown",
   "metadata": {},
   "source": [
    "New series names can be provided by different ways shown below:\n",
    "\n",
    "1. with a comma separated `string`\n",
    "2. with a space separated `string`\n",
    "3. with individual strings in a sequence type container like a `List` or `Tuple`"
   ]
  },
  {
   "cell_type": "code",
   "execution_count": 72,
   "metadata": {},
   "outputs": [],
   "source": [
    "new_names = [\"UTR\", \"ETR\"]\n",
    "\n",
    "exchange_rates = connector.get_series(\"TP.DK.USD.A.YTL, TP.DK.EUR.A.YTL\",\n",
    "                                      start_date=\"01.01.2021\",\n",
    "                                      end_date=\"31.12.2021\",\n",
    "                                      frequency=\"W\",\n",
    "                                      new_names=new_names)                  # OK\n",
    "\n",
    "exchange_rates = connector.get_series(\"TP.DK.USD.A.YTL, TP.DK.EUR.A.YTL\",\n",
    "                                      start_date=\"01.01.2021\",\n",
    "                                      end_date=\"31.12.2021\",\n",
    "                                      frequency=\"W\",\n",
    "                                      new_names=\"UTR, ETR\")                 # OK\n",
    "\n",
    "exchange_rates = connector.get_series(\"TP.DK.USD.A.YTL, TP.DK.EUR.A.YTL\",\n",
    "                                      start_date=\"01.01.2021\",\n",
    "                                      end_date=\"31.12.2021\",\n",
    "                                      frequency=\"W\",\n",
    "                                      new_names=\"UTR ETR\")                  # OK"
   ]
  },
  {
   "cell_type": "code",
   "execution_count": 73,
   "metadata": {},
   "outputs": [
    {
     "data": {
      "text/html": [
       "<div>\n",
       "<style scoped>\n",
       "    .dataframe tbody tr th:only-of-type {\n",
       "        vertical-align: middle;\n",
       "    }\n",
       "\n",
       "    .dataframe tbody tr th {\n",
       "        vertical-align: top;\n",
       "    }\n",
       "\n",
       "    .dataframe thead th {\n",
       "        text-align: right;\n",
       "    }\n",
       "</style>\n",
       "<table border=\"1\" class=\"dataframe\">\n",
       "  <thead>\n",
       "    <tr style=\"text-align: right;\">\n",
       "      <th></th>\n",
       "      <th>UTR</th>\n",
       "      <th>ETR</th>\n",
       "    </tr>\n",
       "    <tr>\n",
       "      <th>Date</th>\n",
       "      <th></th>\n",
       "      <th></th>\n",
       "    </tr>\n",
       "  </thead>\n",
       "  <tbody>\n",
       "    <tr>\n",
       "      <th>2021-12-31</th>\n",
       "      <td>12.02948</td>\n",
       "      <td>13.61326</td>\n",
       "    </tr>\n",
       "  </tbody>\n",
       "</table>\n",
       "</div>"
      ],
      "text/plain": [
       "                 UTR       ETR\n",
       "Date                          \n",
       "2021-12-31  12.02948  13.61326"
      ]
     },
     "execution_count": 73,
     "metadata": {},
     "output_type": "execute_result"
    }
   ],
   "source": [
    "exchange_rates.tail(1)"
   ]
  },
  {
   "cell_type": "markdown",
   "metadata": {},
   "source": [
    "##### 2.6.2. [__Assigning Names for Transformed or Aggregated Series Requests__](https://github.com/syncoding/evdsts/blob/master/docs/manuals/manual_en.md#assigning-new-names-transagg)"
   ]
  },
  {
   "cell_type": "markdown",
   "metadata": {},
   "source": [
    "If the original time series are requested with transformed or aggregated series as well, that is,\n",
    "`keep_originals = True`  \n",
    "then new names must be given in below order:\n",
    "\n",
    "__`names for original series then names for transformed/aggregated series`__\n",
    "\n",
    "Hence, if for instance; USDTRY is requested with a `percent` transformation, then the new names must be\n",
    "given as below because the returned `DataFrame` includes both `USDTRY` and `USDTRY%` series since\n",
    "`keep_originals` is set `True` and the original series are returned together with percentages as well."
   ]
  },
  {
   "cell_type": "code",
   "execution_count": 74,
   "metadata": {},
   "outputs": [],
   "source": [
    "usdtry = connector.get_series(\"TP.DK.USD.A.YTL\",\n",
    "                              start_date=\"01.01.2021\",\n",
    "                              end_date=\"31.12.2021\",\n",
    "                              frequency=\"W\",\n",
    "                              transformations=\"percent\",\n",
    "                              new_names=\"USDTRY, P_USDTRY\")\n",
    "\n",
    "# since the returned dataframe made up of USDTRY, USDTRY% (because 'keep_originals' = True as default)\n",
    "# new names is provided as USDTRY, P_USDTRY."
   ]
  },
  {
   "cell_type": "code",
   "execution_count": 75,
   "metadata": {},
   "outputs": [
    {
     "data": {
      "text/html": [
       "<div>\n",
       "<style scoped>\n",
       "    .dataframe tbody tr th:only-of-type {\n",
       "        vertical-align: middle;\n",
       "    }\n",
       "\n",
       "    .dataframe tbody tr th {\n",
       "        vertical-align: top;\n",
       "    }\n",
       "\n",
       "    .dataframe thead th {\n",
       "        text-align: right;\n",
       "    }\n",
       "</style>\n",
       "<table border=\"1\" class=\"dataframe\">\n",
       "  <thead>\n",
       "    <tr style=\"text-align: right;\">\n",
       "      <th></th>\n",
       "      <th>USDTRY</th>\n",
       "      <th>P_USDTRY</th>\n",
       "    </tr>\n",
       "    <tr>\n",
       "      <th>Date</th>\n",
       "      <th></th>\n",
       "      <th></th>\n",
       "    </tr>\n",
       "  </thead>\n",
       "  <tbody>\n",
       "    <tr>\n",
       "      <th>2021-12-31</th>\n",
       "      <td>12.02948</td>\n",
       "      <td>-14.968941</td>\n",
       "    </tr>\n",
       "  </tbody>\n",
       "</table>\n",
       "</div>"
      ],
      "text/plain": [
       "              USDTRY   P_USDTRY\n",
       "Date                           \n",
       "2021-12-31  12.02948 -14.968941"
      ]
     },
     "execution_count": 75,
     "metadata": {},
     "output_type": "execute_result"
    }
   ],
   "source": [
    "usdtry.tail(1)"
   ]
  },
  {
   "cell_type": "markdown",
   "metadata": {},
   "source": [
    "> Tip: an `UnmatchingFieldSizeException` raises when you give a mismatched number of new names and\n",
    "> you can figure out how many new names you should have been provided from the error message."
   ]
  },
  {
   "cell_type": "markdown",
   "metadata": {},
   "source": [
    "if the original series are not requested in returned data (`keep_originals = False`) then the new\n",
    "names are given for just transformed or aggregated series."
   ]
  },
  {
   "cell_type": "code",
   "execution_count": 76,
   "metadata": {},
   "outputs": [],
   "source": [
    "usdtry = connector.get_series(\"TP.DK.USD.A.YTL\",\n",
    "                              start_date=\"01.01.2021\",\n",
    "                              end_date=\"31.12.2021\",\n",
    "                              frequency=\"W\",\n",
    "                              transformations=\"percent\",\n",
    "                              keep_originals=False,\n",
    "                              new_names=\"USDTRY_P\")\n",
    "\n",
    "# just USDTRY is given as new name since the returned data includes just USDTRY% because\n",
    "# keep_originals flag is False"
   ]
  },
  {
   "cell_type": "code",
   "execution_count": 77,
   "metadata": {},
   "outputs": [
    {
     "data": {
      "text/html": [
       "<div>\n",
       "<style scoped>\n",
       "    .dataframe tbody tr th:only-of-type {\n",
       "        vertical-align: middle;\n",
       "    }\n",
       "\n",
       "    .dataframe tbody tr th {\n",
       "        vertical-align: top;\n",
       "    }\n",
       "\n",
       "    .dataframe thead th {\n",
       "        text-align: right;\n",
       "    }\n",
       "</style>\n",
       "<table border=\"1\" class=\"dataframe\">\n",
       "  <thead>\n",
       "    <tr style=\"text-align: right;\">\n",
       "      <th></th>\n",
       "      <th>USDTRY_P</th>\n",
       "    </tr>\n",
       "    <tr>\n",
       "      <th>Date</th>\n",
       "      <th></th>\n",
       "    </tr>\n",
       "  </thead>\n",
       "  <tbody>\n",
       "    <tr>\n",
       "      <th>2021-01-01</th>\n",
       "      <td>-2.716601</td>\n",
       "    </tr>\n",
       "  </tbody>\n",
       "</table>\n",
       "</div>"
      ],
      "text/plain": [
       "            USDTRY_P\n",
       "Date                \n",
       "2021-01-01 -2.716601"
      ]
     },
     "execution_count": 77,
     "metadata": {},
     "output_type": "execute_result"
    }
   ],
   "source": [
    "usdtry.head(1)"
   ]
  },
  {
   "cell_type": "markdown",
   "metadata": {},
   "source": [
    "Similarly;"
   ]
  },
  {
   "cell_type": "code",
   "execution_count": 81,
   "metadata": {},
   "outputs": [],
   "source": [
    "exchange_rates = connector.get_series(\"TP.DK.USD.A.YTL, TP.DK.EUR.A.YTL\",\n",
    "                                      start_date=\"01.01.2021\",\n",
    "                                      end_date=\"31.12.2021\",\n",
    "                                      frequency=\"6M\",\n",
    "                                      aggregations=\"max, min\",\n",
    "                                      new_names=\"USDTRY, EURTRY, USDTRY_MAX, EURTRY_MIN\")\n",
    "\n",
    "# the returned data includes USDTRY, EURTRY, max(USDTRY), min(EURTRY), and therefore\n",
    "# the new names are provided accordingly."
   ]
  },
  {
   "cell_type": "code",
   "execution_count": 82,
   "metadata": {},
   "outputs": [
    {
     "data": {
      "text/html": [
       "<div>\n",
       "<style scoped>\n",
       "    .dataframe tbody tr th:only-of-type {\n",
       "        vertical-align: middle;\n",
       "    }\n",
       "\n",
       "    .dataframe tbody tr th {\n",
       "        vertical-align: top;\n",
       "    }\n",
       "\n",
       "    .dataframe thead th {\n",
       "        text-align: right;\n",
       "    }\n",
       "</style>\n",
       "<table border=\"1\" class=\"dataframe\">\n",
       "  <thead>\n",
       "    <tr style=\"text-align: right;\">\n",
       "      <th></th>\n",
       "      <th>USDTRY</th>\n",
       "      <th>EURTRY</th>\n",
       "      <th>USDTRY_MAX</th>\n",
       "      <th>EURTRY_MIN</th>\n",
       "    </tr>\n",
       "    <tr>\n",
       "      <th>Date</th>\n",
       "      <th></th>\n",
       "      <th></th>\n",
       "      <th></th>\n",
       "      <th></th>\n",
       "    </tr>\n",
       "  </thead>\n",
       "  <tbody>\n",
       "    <tr>\n",
       "      <th>2021-07-31</th>\n",
       "      <td>9.8971</td>\n",
       "      <td>11.451022</td>\n",
       "      <td>17.473101</td>\n",
       "      <td>9.791</td>\n",
       "    </tr>\n",
       "  </tbody>\n",
       "</table>\n",
       "</div>"
      ],
      "text/plain": [
       "            USDTRY     EURTRY  USDTRY_MAX  EURTRY_MIN\n",
       "Date                                                 \n",
       "2021-07-31  9.8971  11.451022   17.473101       9.791"
      ]
     },
     "execution_count": 82,
     "metadata": {},
     "output_type": "execute_result"
    }
   ],
   "source": [
    "exchange_rates.tail(1)"
   ]
  },
  {
   "cell_type": "markdown",
   "metadata": {},
   "source": [
    "And;"
   ]
  },
  {
   "cell_type": "code",
   "execution_count": 83,
   "metadata": {},
   "outputs": [],
   "source": [
    "exchange_rates = connector.get_series(\"TP.DK.USD.A.YTL, TP.DK.EUR.A.YTL\",\n",
    "                                      start_date=\"01.01.2021\",\n",
    "                                      end_date=\"31.12.2021\",\n",
    "                                      frequency=\"6M\",\n",
    "                                      aggregations=\"max, min\",\n",
    "                                      new_names=\"USDTRY_MAX, EURTRY_MIN\",\n",
    "                                      keep_originals=False)\n",
    "\n",
    "# the returned data includes just max(USDTRY) and min(EURTRY), therefofe\n",
    "# the new names are provided accordingly."
   ]
  },
  {
   "cell_type": "code",
   "execution_count": 84,
   "metadata": {},
   "outputs": [
    {
     "data": {
      "text/html": [
       "<div>\n",
       "<style scoped>\n",
       "    .dataframe tbody tr th:only-of-type {\n",
       "        vertical-align: middle;\n",
       "    }\n",
       "\n",
       "    .dataframe tbody tr th {\n",
       "        vertical-align: top;\n",
       "    }\n",
       "\n",
       "    .dataframe thead th {\n",
       "        text-align: right;\n",
       "    }\n",
       "</style>\n",
       "<table border=\"1\" class=\"dataframe\">\n",
       "  <thead>\n",
       "    <tr style=\"text-align: right;\">\n",
       "      <th></th>\n",
       "      <th>USDTRY_MAX</th>\n",
       "      <th>EURTRY_MIN</th>\n",
       "    </tr>\n",
       "    <tr>\n",
       "      <th>Date</th>\n",
       "      <th></th>\n",
       "      <th></th>\n",
       "    </tr>\n",
       "  </thead>\n",
       "  <tbody>\n",
       "    <tr>\n",
       "      <th>2021-07-31</th>\n",
       "      <td>17.473101</td>\n",
       "      <td>9.791</td>\n",
       "    </tr>\n",
       "  </tbody>\n",
       "</table>\n",
       "</div>"
      ],
      "text/plain": [
       "            USDTRY_MAX  EURTRY_MIN\n",
       "Date                              \n",
       "2021-07-31   17.473101       9.791"
      ]
     },
     "execution_count": 84,
     "metadata": {},
     "output_type": "execute_result"
    }
   ],
   "source": [
    "exchange_rates.tail(1)"
   ]
  },
  {
   "cell_type": "markdown",
   "metadata": {},
   "source": [
    "#### 2.7. [__Writing Series on Disk__](https://github.com/syncoding/evdsts/blob/master/docs/manuals/manual_en.md#writing-series)"
   ]
  },
  {
   "cell_type": "markdown",
   "metadata": {},
   "source": [
    "All data returned from `evdsts` can be written on disk by `to_file()` method of the `Connector` instance.\n",
    "You can write data in; `JSON`, `CSV` or `XLS` (requires `openpyxl` package) formats in order to store them\n",
    "for further use.\n",
    "\n",
    "`to_file()` method takes two important parameters:  \n",
    "\n",
    "a. `data`: the data itself to be written on disk  \n",
    "b. `data_format`: determines the output format like `csv`, `json`, `xls`"
   ]
  },
  {
   "cell_type": "markdown",
   "metadata": {},
   "source": [
    "Let's write main categories on disk:"
   ]
  },
  {
   "cell_type": "code",
   "execution_count": 6,
   "metadata": {},
   "outputs": [
    {
     "name": "stdout",
     "output_type": "stream",
     "text": [
      "Given data have been written on g:\\My Drive\\Dev\\Active\\evdsts\\data_2022_08_22_020813.csv\n"
     ]
    }
   ],
   "source": [
    "main_dict = connector.get_main_categories()\n",
    "connector.to_file(data=main_dict, data_format='csv')"
   ]
  },
  {
   "cell_type": "markdown",
   "metadata": {},
   "source": [
    "Likewise;"
   ]
  },
  {
   "cell_type": "code",
   "execution_count": 7,
   "metadata": {},
   "outputs": [
    {
     "name": "stdout",
     "output_type": "stream",
     "text": [
      "Given data have been written on g:\\My Drive\\Dev\\Active\\evdsts\\data_2022_08_22_020942.json\n"
     ]
    }
   ],
   "source": [
    "sub_categories_df = connector.get_sub_categories(\"EXCHANGE RATES\")\n",
    "connector.to_file(data=sub_categories_df, data_format='json')"
   ]
  },
  {
   "cell_type": "markdown",
   "metadata": {},
   "source": [
    "> `evdsts` can write all `dict`, `JSON`, and `DataFrame` types of data to disk in provided formats."
   ]
  },
  {
   "cell_type": "markdown",
   "metadata": {},
   "source": [
    "#### 2.8. [__Updating Local Search Index__](https://github.com/syncoding/evdsts/blob/master/docs/manuals/manual_en.md#updating-index)"
   ]
  },
  {
   "cell_type": "markdown",
   "metadata": {},
   "source": [
    "`evdsts` uses a local index to search series names in EDDS. The local index possibly be outdated\n",
    "after several months from creation date because of the series updates done in EDDS itself. You can\n",
    "update the local index every several months in order its to be in sync with EDDS."
   ]
  },
  {
   "cell_type": "code",
   "execution_count": null,
   "metadata": {},
   "outputs": [],
   "source": [
    "# You need the IndexBuilder class of evdsts for updating the local search index.\n",
    "from evdsts import IndexBuilder\n",
    "\n",
    "# create a builder instance like below.\n",
    "builder = IndexBuilder('YOUR_API_KEY', language=\"EN\")\n",
    "\n",
    "# you can check how old the local index is in days.\n",
    "print(builder.index_age_in_days)\n",
    "\n",
    "# rebuild the index if it's been a long time (like months) since it's created.\n",
    "builder.build_index()"
   ]
  },
  {
   "cell_type": "markdown",
   "metadata": {},
   "source": [
    "> __Please note that rebuilding the local search index takes around 30 minutes because the builder waits__\n",
    "> __a reasonable amount of time (min. 5 secs.) between every new connection it establishes in order__\n",
    "> __not to overload the API service with frequent requests.__"
   ]
  },
  {
   "cell_type": "markdown",
   "metadata": {},
   "source": [
    "### 3. [__Using Reference Names to Retrieve Time Series__](https://github.com/syncoding/evdsts/blob/master/docs/manuals/manual_en.md#using-reference-names)"
   ]
  },
  {
   "cell_type": "markdown",
   "metadata": {},
   "source": [
    "The most important reason that negatively affects the productivity when you work on series identified\n",
    "in EDDS database is the complex series name identifications of EDDS. This cause you to find the\n",
    "original series names on EDDS whenever you would like to get data from the service. `evdsts` solves\n",
    "the issue introducing reference names which can be used as a proxy names for real series names in\n",
    "EDDS database while retrieving data from the service.\n",
    "\n",
    "Reference names can be given in two different ways which are shown below;\n",
    "\n",
    "1. You can give new names to the series and save them as reference names using `keep_references` flag\n",
    "if you request just original series, that is, when neither a transformation nor an aggregations function\n",
    "is requested with original series.\n",
    "2. You can use `save_name_references()` function of the `Connector` instance to save reference names directly."
   ]
  },
  {
   "cell_type": "markdown",
   "metadata": {},
   "source": [
    "#### 3.1. [__Saving Reference Names While Retrieving Time Series__](https://github.com/syncoding/evdsts/blob/master/docs/manuals/manual_en.md#saving-reference-name)"
   ]
  },
  {
   "cell_type": "markdown",
   "metadata": {},
   "source": [
    "The first way to save reference names is shown below cell. You can use `keep_references` flag since\n",
    "neither a transformation nor an aggregation function is applied to the requested series. The reference\n",
    "name `usdtry` is saved as indicating `usdtry -> TP.DK.USD.A.YTL` permanently."
   ]
  },
  {
   "cell_type": "code",
   "execution_count": 85,
   "metadata": {},
   "outputs": [
    {
     "name": "stdout",
     "output_type": "stream",
     "text": [
      "\n",
      "Below references map have been created for further use. You can use reference series names instead of original ones when retrieving data from the EVDS API service. Reference names are permanent unless this reference mapping is deleted or changed.\n",
      "\n",
      "                 References Table                 \n",
      "--------------------------------------------------\n",
      "Reference Name Represents -> Original Series Names on EVDS\n",
      "--------------------------------------------------\n",
      "usdtry          ---> TP.DK.USD.A.YTL\n",
      "--------------------------------------------------\n",
      "\n",
      "\n"
     ]
    }
   ],
   "source": [
    "usdtry = connector.get_series(\"TP.DK.USD.A.YTL\",\n",
    "                              start_date=\"01.01.2021\",\n",
    "                              end_date=\"31.12.2021\",\n",
    "                              frequency=\"Q\",\n",
    "                              new_names=\"usdtry\",\n",
    "                              keep_references=True)"
   ]
  },
  {
   "cell_type": "markdown",
   "metadata": {},
   "source": [
    "A notification are shown on screen whenever you save a reference name for a series. That means you\n",
    "can use this reference name for retrieving data later on."
   ]
  },
  {
   "cell_type": "markdown",
   "metadata": {},
   "source": [
    "Let's make the same request now;"
   ]
  },
  {
   "cell_type": "code",
   "execution_count": 86,
   "metadata": {},
   "outputs": [],
   "source": [
    "usdtry = connector.get_series(\"usdtry\",\n",
    "                              start_date=\"01.01.2021\",\n",
    "                              end_date=\"31.12.2021\",\n",
    "                              frequency=\"Q\")\n",
    "# you don't need to know or provide the original series name from now on!"
   ]
  },
  {
   "cell_type": "code",
   "execution_count": 87,
   "metadata": {},
   "outputs": [
    {
     "data": {
      "text/html": [
       "<div>\n",
       "<style scoped>\n",
       "    .dataframe tbody tr th:only-of-type {\n",
       "        vertical-align: middle;\n",
       "    }\n",
       "\n",
       "    .dataframe tbody tr th {\n",
       "        vertical-align: top;\n",
       "    }\n",
       "\n",
       "    .dataframe thead th {\n",
       "        text-align: right;\n",
       "    }\n",
       "</style>\n",
       "<table border=\"1\" class=\"dataframe\">\n",
       "  <thead>\n",
       "    <tr style=\"text-align: right;\">\n",
       "      <th></th>\n",
       "      <th>USDTRY</th>\n",
       "    </tr>\n",
       "    <tr>\n",
       "      <th>Date</th>\n",
       "      <th></th>\n",
       "    </tr>\n",
       "  </thead>\n",
       "  <tbody>\n",
       "    <tr>\n",
       "      <th>2021-06-30</th>\n",
       "      <td>8.369557</td>\n",
       "    </tr>\n",
       "    <tr>\n",
       "      <th>2021-09-30</th>\n",
       "      <td>8.527857</td>\n",
       "    </tr>\n",
       "    <tr>\n",
       "      <th>2021-12-31</th>\n",
       "      <td>11.161016</td>\n",
       "    </tr>\n",
       "  </tbody>\n",
       "</table>\n",
       "</div>"
      ],
      "text/plain": [
       "               USDTRY\n",
       "Date                 \n",
       "2021-06-30   8.369557\n",
       "2021-09-30   8.527857\n",
       "2021-12-31  11.161016"
      ]
     },
     "execution_count": 87,
     "metadata": {},
     "output_type": "execute_result"
    }
   ],
   "source": [
    "usdtry.tail(3)"
   ]
  },
  {
   "cell_type": "markdown",
   "metadata": {},
   "source": [
    "Let's save more than one reference names in a call."
   ]
  },
  {
   "cell_type": "code",
   "execution_count": 88,
   "metadata": {},
   "outputs": [
    {
     "name": "stdout",
     "output_type": "stream",
     "text": [
      "\n",
      "Below references map have been created for further use. You can use reference series names instead of original ones when retrieving data from the EVDS API service. Reference names are permanent unless this reference mapping is deleted or changed.\n",
      "\n",
      "                 References Table                 \n",
      "--------------------------------------------------\n",
      "Reference Name Represents -> Original Series Names on EVDS\n",
      "--------------------------------------------------\n",
      "eurtry          ---> TP.DK.EUR.A.YTL\n",
      "usdtry          ---> TP.DK.USD.A.YTL\n",
      "--------------------------------------------------\n",
      "\n",
      "\n"
     ]
    }
   ],
   "source": [
    "exchange_rates = connector.get_series(\"TP.DK.USD.A.YTL, TP.DK.EUR.A.YTL\",\n",
    "                                      start_date=\"01.01.2021\",\n",
    "                                      end_date=\"31.12.2021\",\n",
    "                                      frequency=\"Q\",\n",
    "                                      new_names=\"usdtry, eurtry\",\n",
    "                                      keep_references=True)"
   ]
  },
  {
   "cell_type": "code",
   "execution_count": 89,
   "metadata": {},
   "outputs": [
    {
     "data": {
      "text/html": [
       "<div>\n",
       "<style scoped>\n",
       "    .dataframe tbody tr th:only-of-type {\n",
       "        vertical-align: middle;\n",
       "    }\n",
       "\n",
       "    .dataframe tbody tr th {\n",
       "        vertical-align: top;\n",
       "    }\n",
       "\n",
       "    .dataframe thead th {\n",
       "        text-align: right;\n",
       "    }\n",
       "</style>\n",
       "<table border=\"1\" class=\"dataframe\">\n",
       "  <thead>\n",
       "    <tr style=\"text-align: right;\">\n",
       "      <th></th>\n",
       "      <th>USDTRY</th>\n",
       "      <th>EURTRY</th>\n",
       "    </tr>\n",
       "    <tr>\n",
       "      <th>Date</th>\n",
       "      <th></th>\n",
       "      <th></th>\n",
       "    </tr>\n",
       "  </thead>\n",
       "  <tbody>\n",
       "    <tr>\n",
       "      <th>2021-06-30</th>\n",
       "      <td>8.369557</td>\n",
       "      <td>10.080826</td>\n",
       "    </tr>\n",
       "    <tr>\n",
       "      <th>2021-09-30</th>\n",
       "      <td>8.527857</td>\n",
       "      <td>10.057339</td>\n",
       "    </tr>\n",
       "    <tr>\n",
       "      <th>2021-12-31</th>\n",
       "      <td>11.161016</td>\n",
       "      <td>12.737500</td>\n",
       "    </tr>\n",
       "  </tbody>\n",
       "</table>\n",
       "</div>"
      ],
      "text/plain": [
       "               USDTRY     EURTRY\n",
       "Date                            \n",
       "2021-06-30   8.369557  10.080826\n",
       "2021-09-30   8.527857  10.057339\n",
       "2021-12-31  11.161016  12.737500"
      ]
     },
     "execution_count": 89,
     "metadata": {},
     "output_type": "execute_result"
    }
   ],
   "source": [
    "exchange_rates.tail(3)"
   ]
  },
  {
   "cell_type": "markdown",
   "metadata": {},
   "source": [
    "You can see all the reference names you've given for your current project using `show_name_references()`\n",
    "method."
   ]
  },
  {
   "cell_type": "code",
   "execution_count": 3,
   "metadata": {},
   "outputs": [
    {
     "name": "stdout",
     "output_type": "stream",
     "text": [
      "\n",
      "Below references map have been created for further use. You can use reference series names instead of original ones when retrieving data from the EVDS API service. Reference names are permanent unless this reference mapping is deleted or changed.\n",
      "\n",
      "                 References Table                 \n",
      "--------------------------------------------------\n",
      "Reference Name Represents -> Original Series Names on EVDS\n",
      "--------------------------------------------------\n",
      "eurtry          ---> TP.DK.EUR.A.YTL\n",
      "usdtry          ---> TP.DK.USD.A.YTL\n",
      "--------------------------------------------------\n",
      "\n",
      "\n"
     ]
    }
   ],
   "source": [
    "connector.show_name_references()"
   ]
  },
  {
   "cell_type": "markdown",
   "metadata": {},
   "source": [
    "Let's retrieve multi-dimentional time series using above reference names."
   ]
  },
  {
   "cell_type": "code",
   "execution_count": 4,
   "metadata": {},
   "outputs": [],
   "source": [
    "exchange_rates = connector.get_series(\"usdtry, eurtry\",\n",
    "                                      start_date=\"01.01.2021\",\n",
    "                                      end_date=\"31.12.2021\",\n",
    "                                      frequency=\"Q\")"
   ]
  },
  {
   "cell_type": "code",
   "execution_count": 5,
   "metadata": {},
   "outputs": [
    {
     "data": {
      "text/html": [
       "<div>\n",
       "<style scoped>\n",
       "    .dataframe tbody tr th:only-of-type {\n",
       "        vertical-align: middle;\n",
       "    }\n",
       "\n",
       "    .dataframe tbody tr th {\n",
       "        vertical-align: top;\n",
       "    }\n",
       "\n",
       "    .dataframe thead th {\n",
       "        text-align: right;\n",
       "    }\n",
       "</style>\n",
       "<table border=\"1\" class=\"dataframe\">\n",
       "  <thead>\n",
       "    <tr style=\"text-align: right;\">\n",
       "      <th></th>\n",
       "      <th>USDTRY</th>\n",
       "      <th>EURTRY</th>\n",
       "    </tr>\n",
       "    <tr>\n",
       "      <th>Date</th>\n",
       "      <th></th>\n",
       "      <th></th>\n",
       "    </tr>\n",
       "  </thead>\n",
       "  <tbody>\n",
       "    <tr>\n",
       "      <th>2021-03-31</th>\n",
       "      <td>7.377400</td>\n",
       "      <td>8.895019</td>\n",
       "    </tr>\n",
       "    <tr>\n",
       "      <th>2021-06-30</th>\n",
       "      <td>8.369557</td>\n",
       "      <td>10.080826</td>\n",
       "    </tr>\n",
       "    <tr>\n",
       "      <th>2021-09-30</th>\n",
       "      <td>8.527857</td>\n",
       "      <td>10.057339</td>\n",
       "    </tr>\n",
       "  </tbody>\n",
       "</table>\n",
       "</div>"
      ],
      "text/plain": [
       "              USDTRY     EURTRY\n",
       "Date                           \n",
       "2021-03-31  7.377400   8.895019\n",
       "2021-06-30  8.369557  10.080826\n",
       "2021-09-30  8.527857  10.057339"
      ]
     },
     "execution_count": 5,
     "metadata": {},
     "output_type": "execute_result"
    }
   ],
   "source": [
    "exchange_rates.head(3)"
   ]
  },
  {
   "cell_type": "markdown",
   "metadata": {},
   "source": [
    "> Returned `DataFrame` columns are named automatically with reference names if a reference name\n",
    "> has been given for any series in requested ones. Therefore, you don't need to use `new_names`\n",
    "> parameter to rename columns for the series which reference names are already assigned."
   ]
  },
  {
   "cell_type": "markdown",
   "metadata": {},
   "source": [
    "#### 3.2. [__Saving Reference Names Directly__](https://github.com/syncoding/evdsts/blob/master/docs/manuals/manual_en.md#saving-names-directly)"
   ]
  },
  {
   "cell_type": "markdown",
   "metadata": {},
   "source": [
    "As a second way, you can save reference names directly using `save_names_references()` method\n",
    "of the `Connector` instance like below."
   ]
  },
  {
   "cell_type": "code",
   "execution_count": 6,
   "metadata": {},
   "outputs": [
    {
     "name": "stdout",
     "output_type": "stream",
     "text": [
      "\n",
      "Below references map have been created for further use. You can use reference series names instead of original ones when retrieving data from the EVDS API service. Reference names are permanent unless this reference mapping is deleted or changed.\n",
      "\n",
      "                 References Table                 \n",
      "--------------------------------------------------\n",
      "Reference Name Represents -> Original Series Names on EVDS\n",
      "--------------------------------------------------\n",
      "cpi             ---> TP.FE.OKTG01\n",
      "--------------------------------------------------\n",
      "\n",
      "\n"
     ]
    }
   ],
   "source": [
    "connector.save_name_references('TP.FE.OKTG01', 'cpi')"
   ]
  },
  {
   "cell_type": "code",
   "execution_count": 7,
   "metadata": {},
   "outputs": [],
   "source": [
    "cpi = connector.get_series(\"cpi\", start_date=\"01.05.2022\")"
   ]
  },
  {
   "cell_type": "code",
   "execution_count": 8,
   "metadata": {},
   "outputs": [
    {
     "data": {
      "text/html": [
       "<div>\n",
       "<style scoped>\n",
       "    .dataframe tbody tr th:only-of-type {\n",
       "        vertical-align: middle;\n",
       "    }\n",
       "\n",
       "    .dataframe tbody tr th {\n",
       "        vertical-align: top;\n",
       "    }\n",
       "\n",
       "    .dataframe thead th {\n",
       "        text-align: right;\n",
       "    }\n",
       "</style>\n",
       "<table border=\"1\" class=\"dataframe\">\n",
       "  <thead>\n",
       "    <tr style=\"text-align: right;\">\n",
       "      <th></th>\n",
       "      <th>CPI</th>\n",
       "    </tr>\n",
       "    <tr>\n",
       "      <th>Date</th>\n",
       "      <th></th>\n",
       "    </tr>\n",
       "  </thead>\n",
       "  <tbody>\n",
       "    <tr>\n",
       "      <th>2022-04-30</th>\n",
       "      <td>904.789978</td>\n",
       "    </tr>\n",
       "    <tr>\n",
       "      <th>2022-05-31</th>\n",
       "      <td>931.760010</td>\n",
       "    </tr>\n",
       "    <tr>\n",
       "      <th>2022-06-30</th>\n",
       "      <td>977.900024</td>\n",
       "    </tr>\n",
       "    <tr>\n",
       "      <th>2022-07-31</th>\n",
       "      <td>1001.030029</td>\n",
       "    </tr>\n",
       "  </tbody>\n",
       "</table>\n",
       "</div>"
      ],
      "text/plain": [
       "                    CPI\n",
       "Date                   \n",
       "2022-04-30   904.789978\n",
       "2022-05-31   931.760010\n",
       "2022-06-30   977.900024\n",
       "2022-07-31  1001.030029"
      ]
     },
     "execution_count": 8,
     "metadata": {},
     "output_type": "execute_result"
    }
   ],
   "source": [
    "cpi"
   ]
  },
  {
   "cell_type": "markdown",
   "metadata": {},
   "source": [
    "or you can save more than one reference names at once like below;"
   ]
  },
  {
   "cell_type": "code",
   "execution_count": 9,
   "metadata": {},
   "outputs": [
    {
     "name": "stdout",
     "output_type": "stream",
     "text": [
      "\n",
      "Below references map have been created for further use. You can use reference series names instead of original ones when retrieving data from the EVDS API service. Reference names are permanent unless this reference mapping is deleted or changed.\n",
      "\n",
      "                 References Table                 \n",
      "--------------------------------------------------\n",
      "Reference Name Represents -> Original Series Names on EVDS\n",
      "--------------------------------------------------\n",
      "cpi             ---> TP.FE.OKTG01\n",
      "usdtry          ---> TP.DK.USD.A.YTL\n",
      "--------------------------------------------------\n",
      "\n",
      "\n"
     ]
    }
   ],
   "source": [
    "connector.save_name_references('TP.FE.OKTG01, TP.DK.USD.A.YTL', 'cpi, usdtry')"
   ]
  },
  {
   "cell_type": "code",
   "execution_count": 10,
   "metadata": {},
   "outputs": [],
   "source": [
    "series = connector.get_series(\"usdtry, cpi\", start_date=\"01.05.2022\", frequency=\"monthly\")"
   ]
  },
  {
   "cell_type": "code",
   "execution_count": 11,
   "metadata": {},
   "outputs": [
    {
     "data": {
      "text/html": [
       "<div>\n",
       "<style scoped>\n",
       "    .dataframe tbody tr th:only-of-type {\n",
       "        vertical-align: middle;\n",
       "    }\n",
       "\n",
       "    .dataframe tbody tr th {\n",
       "        vertical-align: top;\n",
       "    }\n",
       "\n",
       "    .dataframe thead th {\n",
       "        text-align: right;\n",
       "    }\n",
       "</style>\n",
       "<table border=\"1\" class=\"dataframe\">\n",
       "  <thead>\n",
       "    <tr style=\"text-align: right;\">\n",
       "      <th></th>\n",
       "      <th>USDTRY</th>\n",
       "      <th>CPI</th>\n",
       "    </tr>\n",
       "    <tr>\n",
       "      <th>Date</th>\n",
       "      <th></th>\n",
       "      <th></th>\n",
       "    </tr>\n",
       "  </thead>\n",
       "  <tbody>\n",
       "    <tr>\n",
       "      <th>2022-04-30</th>\n",
       "      <td>14.683567</td>\n",
       "      <td>904.789978</td>\n",
       "    </tr>\n",
       "    <tr>\n",
       "      <th>2022-05-31</th>\n",
       "      <td>15.623922</td>\n",
       "      <td>931.760010</td>\n",
       "    </tr>\n",
       "    <tr>\n",
       "      <th>2022-06-30</th>\n",
       "      <td>16.964718</td>\n",
       "      <td>977.900024</td>\n",
       "    </tr>\n",
       "    <tr>\n",
       "      <th>2022-07-31</th>\n",
       "      <td>17.387417</td>\n",
       "      <td>1001.030029</td>\n",
       "    </tr>\n",
       "    <tr>\n",
       "      <th>2022-08-31</th>\n",
       "      <td>17.943932</td>\n",
       "      <td>NaN</td>\n",
       "    </tr>\n",
       "  </tbody>\n",
       "</table>\n",
       "</div>"
      ],
      "text/plain": [
       "               USDTRY          CPI\n",
       "Date                              \n",
       "2022-04-30  14.683567   904.789978\n",
       "2022-05-31  15.623922   931.760010\n",
       "2022-06-30  16.964718   977.900024\n",
       "2022-07-31  17.387417  1001.030029\n",
       "2022-08-31  17.943932          NaN"
      ]
     },
     "execution_count": 11,
     "metadata": {},
     "output_type": "execute_result"
    }
   ],
   "source": [
    "series"
   ]
  },
  {
   "cell_type": "code",
   "execution_count": 12,
   "metadata": {},
   "outputs": [],
   "source": [
    "series = connector.get_series(\"usdtry, cpi\", start_date=\"01.05.2022\", frequency=\"monthly\", transformations=\"percent\")"
   ]
  },
  {
   "cell_type": "code",
   "execution_count": 13,
   "metadata": {},
   "outputs": [
    {
     "data": {
      "text/html": [
       "<div>\n",
       "<style scoped>\n",
       "    .dataframe tbody tr th:only-of-type {\n",
       "        vertical-align: middle;\n",
       "    }\n",
       "\n",
       "    .dataframe tbody tr th {\n",
       "        vertical-align: top;\n",
       "    }\n",
       "\n",
       "    .dataframe thead th {\n",
       "        text-align: right;\n",
       "    }\n",
       "</style>\n",
       "<table border=\"1\" class=\"dataframe\">\n",
       "  <thead>\n",
       "    <tr style=\"text-align: right;\">\n",
       "      <th></th>\n",
       "      <th>USDTRY</th>\n",
       "      <th>CPI</th>\n",
       "      <th>USDTRY_PERCENT</th>\n",
       "      <th>CPI_PERCENT</th>\n",
       "    </tr>\n",
       "    <tr>\n",
       "      <th>Date</th>\n",
       "      <th></th>\n",
       "      <th></th>\n",
       "      <th></th>\n",
       "      <th></th>\n",
       "    </tr>\n",
       "  </thead>\n",
       "  <tbody>\n",
       "    <tr>\n",
       "      <th>2022-04-30</th>\n",
       "      <td>14.683567</td>\n",
       "      <td>904.789978</td>\n",
       "      <td>0.809839</td>\n",
       "      <td>7.248353</td>\n",
       "    </tr>\n",
       "    <tr>\n",
       "      <th>2022-05-31</th>\n",
       "      <td>15.623922</td>\n",
       "      <td>931.760010</td>\n",
       "      <td>6.404136</td>\n",
       "      <td>2.980802</td>\n",
       "    </tr>\n",
       "    <tr>\n",
       "      <th>2022-06-30</th>\n",
       "      <td>16.964718</td>\n",
       "      <td>977.900024</td>\n",
       "      <td>8.581686</td>\n",
       "      <td>4.951919</td>\n",
       "    </tr>\n",
       "    <tr>\n",
       "      <th>2022-07-31</th>\n",
       "      <td>17.387417</td>\n",
       "      <td>1001.030029</td>\n",
       "      <td>2.491633</td>\n",
       "      <td>2.365273</td>\n",
       "    </tr>\n",
       "    <tr>\n",
       "      <th>2022-08-31</th>\n",
       "      <td>17.943932</td>\n",
       "      <td>NaN</td>\n",
       "      <td>3.200674</td>\n",
       "      <td>NaN</td>\n",
       "    </tr>\n",
       "  </tbody>\n",
       "</table>\n",
       "</div>"
      ],
      "text/plain": [
       "               USDTRY          CPI  USDTRY_PERCENT  CPI_PERCENT\n",
       "Date                                                           \n",
       "2022-04-30  14.683567   904.789978        0.809839     7.248353\n",
       "2022-05-31  15.623922   931.760010        6.404136     2.980802\n",
       "2022-06-30  16.964718   977.900024        8.581686     4.951919\n",
       "2022-07-31  17.387417  1001.030029        2.491633     2.365273\n",
       "2022-08-31  17.943932          NaN        3.200674          NaN"
      ]
     },
     "execution_count": 13,
     "metadata": {},
     "output_type": "execute_result"
    }
   ],
   "source": [
    "series"
   ]
  },
  {
   "cell_type": "markdown",
   "metadata": {},
   "source": [
    "You can save reference names with different ways:\n",
    "\n",
    "1. with a comma separated `string`\n",
    "2. with a space separated `string`\n",
    "3. with individual strings in a sequence type container like a `List` or `Tuple`"
   ]
  },
  {
   "cell_type": "code",
   "execution_count": 14,
   "metadata": {},
   "outputs": [],
   "source": [
    "series = [\"TP.DK.USD.A.YTL\", \"TP.DK.EUR.A.YTL\"]\n",
    "references = [\"usdtry\", \"eurtry\"]\n",
    "\n",
    "connector.save_name_references(\"TP.DK.USD.A.YTL, TP.DK.EUR.A.YTL\", \"usdtry, eurtry\", verbose=False)  # OK\n",
    "connector.save_name_references(\"TP.DK.USD.A.YTL TP.DK.EUR.A.YTL\", \"usdtry eurtry\", verbose=False)    # OK\n",
    "connector.save_name_references(series, references, verbose=False)                                    # OK\n",
    "\n",
    "# verbose just controls the on screen output here"
   ]
  },
  {
   "cell_type": "markdown",
   "metadata": {},
   "source": [
    "> Tip: you can use `verbose` flag almost every function for enabling or disabling the on-screen\n",
    "> representation of the results."
   ]
  },
  {
   "cell_type": "markdown",
   "metadata": {},
   "source": [
    "You can also change the old reference names with new ones. Let's assume we would like to change the\n",
    "reference name we already assigned as `usdtry` to `usdlira`"
   ]
  },
  {
   "cell_type": "code",
   "execution_count": 15,
   "metadata": {},
   "outputs": [
    {
     "name": "stdout",
     "output_type": "stream",
     "text": [
      "\n",
      "Below references map have been created for further use. You can use reference series names instead of original ones when retrieving data from the EVDS API service. Reference names are permanent unless this reference mapping is deleted or changed.\n",
      "\n",
      "                 References Table                 \n",
      "--------------------------------------------------\n",
      "Reference Name Represents -> Original Series Names on EVDS\n",
      "--------------------------------------------------\n",
      "usdlira         ---> TP.DK.USD.A.YTL\n",
      "--------------------------------------------------\n",
      "\n",
      "\n"
     ]
    }
   ],
   "source": [
    "connector.save_name_references(\"usdtry\", \"usdlira\")"
   ]
  },
  {
   "cell_type": "code",
   "execution_count": 16,
   "metadata": {},
   "outputs": [],
   "source": [
    "usdlira = connector.get_series(\"usdlira\", start_date=\"01.05.2022\", frequency=\"Q\")"
   ]
  },
  {
   "cell_type": "code",
   "execution_count": 17,
   "metadata": {},
   "outputs": [
    {
     "data": {
      "text/html": [
       "<div>\n",
       "<style scoped>\n",
       "    .dataframe tbody tr th:only-of-type {\n",
       "        vertical-align: middle;\n",
       "    }\n",
       "\n",
       "    .dataframe tbody tr th {\n",
       "        vertical-align: top;\n",
       "    }\n",
       "\n",
       "    .dataframe thead th {\n",
       "        text-align: right;\n",
       "    }\n",
       "</style>\n",
       "<table border=\"1\" class=\"dataframe\">\n",
       "  <thead>\n",
       "    <tr style=\"text-align: right;\">\n",
       "      <th></th>\n",
       "      <th>USDLIRA</th>\n",
       "    </tr>\n",
       "    <tr>\n",
       "      <th>Date</th>\n",
       "      <th></th>\n",
       "    </tr>\n",
       "  </thead>\n",
       "  <tbody>\n",
       "    <tr>\n",
       "      <th>2022-06-30</th>\n",
       "      <td>15.783759</td>\n",
       "    </tr>\n",
       "    <tr>\n",
       "      <th>2022-09-30</th>\n",
       "      <td>17.649305</td>\n",
       "    </tr>\n",
       "  </tbody>\n",
       "</table>\n",
       "</div>"
      ],
      "text/plain": [
       "              USDLIRA\n",
       "Date                 \n",
       "2022-06-30  15.783759\n",
       "2022-09-30  17.649305"
      ]
     },
     "execution_count": 17,
     "metadata": {},
     "output_type": "execute_result"
    }
   ],
   "source": [
    "usdlira"
   ]
  },
  {
   "cell_type": "markdown",
   "metadata": {},
   "source": [
    "Let's revert it to its original referance name."
   ]
  },
  {
   "cell_type": "code",
   "execution_count": 18,
   "metadata": {},
   "outputs": [
    {
     "name": "stdout",
     "output_type": "stream",
     "text": [
      "\n",
      "Below references map have been created for further use. You can use reference series names instead of original ones when retrieving data from the EVDS API service. Reference names are permanent unless this reference mapping is deleted or changed.\n",
      "\n",
      "                 References Table                 \n",
      "--------------------------------------------------\n",
      "Reference Name Represents -> Original Series Names on EVDS\n",
      "--------------------------------------------------\n",
      "usdtry          ---> TP.DK.USD.A.YTL\n",
      "--------------------------------------------------\n",
      "\n",
      "\n"
     ]
    }
   ],
   "source": [
    "connector.save_name_references(\"usdlira\", \"usdtry\")"
   ]
  },
  {
   "cell_type": "markdown",
   "metadata": {},
   "source": [
    "#### 3.3. [__Transferring Given Reference Names to Other Projects__](https://github.com/syncoding/evdsts/blob/master/docs/manuals/manual_en.md#transferring-reference-names)"
   ]
  },
  {
   "cell_type": "markdown",
   "metadata": {},
   "source": [
    "You can transfer your reference names between projects through transferring `evds_series_references.json`\n",
    "file to the projects' current working directories.\n",
    "\n",
    "_Where is the current reference names file?_"
   ]
  },
  {
   "cell_type": "code",
   "execution_count": 3,
   "metadata": {},
   "outputs": [
    {
     "name": "stdout",
     "output_type": "stream",
     "text": [
      "g:\\My Drive\\Dev\\Active\\evdsts\\evds_series_references.json\n"
     ]
    }
   ],
   "source": [
    "print(connector.references_file)"
   ]
  },
  {
   "cell_type": "markdown",
   "metadata": {},
   "source": [
    "or just `print` the `Connector` instance to see reference file location together with other details."
   ]
  },
  {
   "cell_type": "code",
   "execution_count": null,
   "metadata": {},
   "outputs": [],
   "source": [
    "print(connector)"
   ]
  },
  {
   "cell_type": "markdown",
   "metadata": {},
   "source": [
    "_How can I transfer that names to the new project I'm currently working on?_\n",
    "\n",
    "1. Create a new `Connector` instance in your new project. Say, `connector`\n",
    "2. Use `import_name_references()` method giving the reference name file path which you got from the\n",
    "other project."
   ]
  },
  {
   "cell_type": "code",
   "execution_count": null,
   "metadata": {},
   "outputs": [],
   "source": [
    "# This won't work here because you need to create a new project placed on a different location than current one.\n",
    "connector.import_name_references('g:\\\\My Drive\\\\Dev\\\\Active\\\\evdsts\\\\evds_series_references.json')"
   ]
  },
  {
   "cell_type": "markdown",
   "metadata": {},
   "source": [
    "### 4. [__The Transformator__](https://github.com/syncoding/evdsts/blob/master/docs/manuals/manual_en.md#the-transformator-1)"
   ]
  },
  {
   "cell_type": "markdown",
   "metadata": {},
   "source": [
    "`Transformator` is the second important part of the `evdsts` that responsible for manipulating the\n",
    "retrieved data in order to ease the time series analysis process. You need to create an instance of\n",
    "`Transformator` class in order to perform defined transformations."
   ]
  },
  {
   "cell_type": "markdown",
   "metadata": {},
   "source": [
    "> __Please note that the most of `Transformator` methods depend on '_time series indexing_' and__\n",
    "> __'_ascending ordering_'. This is already the return default of the `Connector`, but the integrity__\n",
    "> __of the results are not guaranteed if you use__;\n",
    "> __`time_series = False`__ and/or\n",
    "> __`ascending = False`__\n",
    "> __flags when retrieving the data using `Connector`'s __`get_series()`__ method__."
   ]
  },
  {
   "cell_type": "markdown",
   "metadata": {},
   "source": [
    "#### 4.0 [__Importing the Transformator and Creating an Instance__](https://github.com/syncoding/evdsts/blob/master/docs/manuals/manual_en.md#the-transformator-1)"
   ]
  },
  {
   "cell_type": "markdown",
   "metadata": {},
   "source": [
    "You can create an instance of `Transformator` class like below;"
   ]
  },
  {
   "cell_type": "markdown",
   "metadata": {},
   "source": [
    "Firstly, you need to import the `Transformator` class from `evdsts`"
   ]
  },
  {
   "cell_type": "code",
   "execution_count": 3,
   "metadata": {},
   "outputs": [],
   "source": [
    "from evdsts import Transformator"
   ]
  },
  {
   "cell_type": "markdown",
   "metadata": {},
   "source": [
    "and then, you can create an instance of the class like below;"
   ]
  },
  {
   "cell_type": "code",
   "execution_count": 4,
   "metadata": {},
   "outputs": [],
   "source": [
    "transformator = Transformator()"
   ]
  },
  {
   "cell_type": "markdown",
   "metadata": {},
   "source": [
    "or you can define a global floating-point number precision in order to be used by all `Transformator`\n",
    "methods by default. The floating-point number precision of below `transformator` object is set to `4`\n",
    "as an instance."
   ]
  },
  {
   "cell_type": "code",
   "execution_count": 13,
   "metadata": {},
   "outputs": [],
   "source": [
    "transformator = Transformator(4)  # This sets the default floating-point numbers precision to 4 for all methods."
   ]
  },
  {
   "cell_type": "markdown",
   "metadata": {},
   "source": [
    "Importing `Transformator`, we need our `Connector` to carry out data retrieving operations."
   ]
  },
  {
   "cell_type": "code",
   "execution_count": 94,
   "metadata": {},
   "outputs": [],
   "source": [
    "from evdsts import Connector"
   ]
  },
  {
   "cell_type": "code",
   "execution_count": 95,
   "metadata": {},
   "outputs": [],
   "source": [
    "connector = Connector()"
   ]
  },
  {
   "cell_type": "markdown",
   "metadata": {},
   "source": [
    "#### 4.1. [__Renaming Series Names with Transformator__](https://github.com/syncoding/evdsts/blob/master/docs/manuals/manual_en.md#rename-series)"
   ]
  },
  {
   "cell_type": "markdown",
   "metadata": {},
   "source": [
    "You can rename using `rename()` function if you would not like to use series names assigned automatically by the `Transformator`."
   ]
  },
  {
   "cell_type": "markdown",
   "metadata": {},
   "source": [
    "Let's start with downloading an example data from the EDDS using our `Connector`"
   ]
  },
  {
   "cell_type": "code",
   "execution_count": 14,
   "metadata": {},
   "outputs": [],
   "source": [
    "connector = Connector(language=\"EN\")  # assuming you already have saved your API Key on disk.\n",
    "\n",
    "# get series using reference names\n",
    "series = connector.get_series(\"usdtry, eurtry\",\n",
    "                              start_date=\"01.01.2021\",\n",
    "                              end_date=\"31.12.2021\",\n",
    "                              frequency=\"M\")"
   ]
  },
  {
   "cell_type": "markdown",
   "metadata": {},
   "source": [
    "We'll need a `Transformator` instance in order to modify our series."
   ]
  },
  {
   "cell_type": "code",
   "execution_count": 23,
   "metadata": {},
   "outputs": [],
   "source": [
    "# an instance of Transformator\n",
    "transformator = Transformator()"
   ]
  },
  {
   "cell_type": "markdown",
   "metadata": {},
   "source": [
    "We'll take 1st and 2nd lags of our series preserving the originals"
   ]
  },
  {
   "cell_type": "code",
   "execution_count": 15,
   "metadata": {},
   "outputs": [],
   "source": [
    "# laggeds method are introduced in following chapters, therefore, just consantrate on renaming the\n",
    "# series for now\n",
    "\n",
    "lag_2s = transformator.laggeds(series, \"1, 2\") # get lag series including originals for instance\n"
   ]
  },
  {
   "cell_type": "code",
   "execution_count": 17,
   "metadata": {},
   "outputs": [
    {
     "data": {
      "text/html": [
       "<div>\n",
       "<style scoped>\n",
       "    .dataframe tbody tr th:only-of-type {\n",
       "        vertical-align: middle;\n",
       "    }\n",
       "\n",
       "    .dataframe tbody tr th {\n",
       "        vertical-align: top;\n",
       "    }\n",
       "\n",
       "    .dataframe thead th {\n",
       "        text-align: right;\n",
       "    }\n",
       "</style>\n",
       "<table border=\"1\" class=\"dataframe\">\n",
       "  <thead>\n",
       "    <tr style=\"text-align: right;\">\n",
       "      <th></th>\n",
       "      <th>USDTRY</th>\n",
       "      <th>EURTRY</th>\n",
       "      <th>USDTRY_LAG_1</th>\n",
       "      <th>EURTRY_LAG_1</th>\n",
       "      <th>USDTRY_LAG_2</th>\n",
       "      <th>EURTRY_LAG_2</th>\n",
       "    </tr>\n",
       "    <tr>\n",
       "      <th>Date</th>\n",
       "      <th></th>\n",
       "      <th></th>\n",
       "      <th></th>\n",
       "      <th></th>\n",
       "      <th></th>\n",
       "      <th></th>\n",
       "    </tr>\n",
       "  </thead>\n",
       "  <tbody>\n",
       "    <tr>\n",
       "      <th>2021-10-31</th>\n",
       "      <td>9.139945</td>\n",
       "      <td>10.601325</td>\n",
       "      <td>8.511882</td>\n",
       "      <td>10.028577</td>\n",
       "      <td>8.475715</td>\n",
       "      <td>9.978305</td>\n",
       "    </tr>\n",
       "    <tr>\n",
       "      <th>2021-11-30</th>\n",
       "      <td>10.523264</td>\n",
       "      <td>12.011395</td>\n",
       "      <td>9.139945</td>\n",
       "      <td>10.601325</td>\n",
       "      <td>8.511882</td>\n",
       "      <td>10.028577</td>\n",
       "    </tr>\n",
       "    <tr>\n",
       "      <th>2021-12-31</th>\n",
       "      <td>13.528496</td>\n",
       "      <td>15.289578</td>\n",
       "      <td>10.523264</td>\n",
       "      <td>12.011395</td>\n",
       "      <td>9.139945</td>\n",
       "      <td>10.601325</td>\n",
       "    </tr>\n",
       "  </tbody>\n",
       "</table>\n",
       "</div>"
      ],
      "text/plain": [
       "               USDTRY     EURTRY  USDTRY_LAG_1  EURTRY_LAG_1  USDTRY_LAG_2  \\\n",
       "Date                                                                         \n",
       "2021-10-31   9.139945  10.601325      8.511882     10.028577      8.475715   \n",
       "2021-11-30  10.523264  12.011395      9.139945     10.601325      8.511882   \n",
       "2021-12-31  13.528496  15.289578     10.523264     12.011395      9.139945   \n",
       "\n",
       "            EURTRY_LAG_2  \n",
       "Date                      \n",
       "2021-10-31      9.978305  \n",
       "2021-11-30     10.028577  \n",
       "2021-12-31     10.601325  "
      ]
     },
     "execution_count": 17,
     "metadata": {},
     "output_type": "execute_result"
    }
   ],
   "source": [
    "lag_2s.tail(3)"
   ]
  },
  {
   "cell_type": "markdown",
   "metadata": {},
   "source": [
    "and then rename the series which were returned from the transformator instance because we don't like\n",
    "the names given as `USDTRY_LAG_1`, `EURTRY_LAG_1`, `USDTRY_LAG_2`, `EURTRY_LAG_2`."
   ]
  },
  {
   "cell_type": "code",
   "execution_count": 18,
   "metadata": {},
   "outputs": [],
   "source": [
    "# below examples return a copy renaming all series in lag_2s;\n",
    "# Notice original series still preserved\n",
    "\n",
    "# new names must be provided in the same order with original ones in lag_2s\n",
    "lag_2s_renamed = transformator.rename(lag_2s, \"utr, eutr, utrl1, eutrl1, utrl2, eutrl2\")\n",
    "\n",
    "# Below usages are also valid\n",
    "# A List\n",
    "new_names = [\"utr\", \"eutr\", \"utrl1\", \"eutrl1\", \"utrl2\", \"eutrl2\"]\n",
    "lag_2s_renamed = transformator.rename(lag_2s, new_names)\n",
    "\n",
    "# or a Tuple\n",
    "new_names = (\"utr\", \"eutr\", \"utrl1\", \"eutrl1\", \"utrl2\", \"eutrl2\")\n",
    "lag_2s_renamed = transformator.rename(lag_2s, new_names)\n"
   ]
  },
  {
   "cell_type": "code",
   "execution_count": 19,
   "metadata": {},
   "outputs": [
    {
     "data": {
      "text/html": [
       "<div>\n",
       "<style scoped>\n",
       "    .dataframe tbody tr th:only-of-type {\n",
       "        vertical-align: middle;\n",
       "    }\n",
       "\n",
       "    .dataframe tbody tr th {\n",
       "        vertical-align: top;\n",
       "    }\n",
       "\n",
       "    .dataframe thead th {\n",
       "        text-align: right;\n",
       "    }\n",
       "</style>\n",
       "<table border=\"1\" class=\"dataframe\">\n",
       "  <thead>\n",
       "    <tr style=\"text-align: right;\">\n",
       "      <th></th>\n",
       "      <th>utr</th>\n",
       "      <th>eutr</th>\n",
       "      <th>utrl1</th>\n",
       "      <th>eutrl1</th>\n",
       "      <th>utrl2</th>\n",
       "      <th>eutrl2</th>\n",
       "    </tr>\n",
       "    <tr>\n",
       "      <th>Date</th>\n",
       "      <th></th>\n",
       "      <th></th>\n",
       "      <th></th>\n",
       "      <th></th>\n",
       "      <th></th>\n",
       "      <th></th>\n",
       "    </tr>\n",
       "  </thead>\n",
       "  <tbody>\n",
       "    <tr>\n",
       "      <th>2021-01-31</th>\n",
       "      <td>7.393975</td>\n",
       "      <td>9.008090</td>\n",
       "      <td>NaN</td>\n",
       "      <td>NaN</td>\n",
       "      <td>NaN</td>\n",
       "      <td>NaN</td>\n",
       "    </tr>\n",
       "    <tr>\n",
       "      <th>2021-02-28</th>\n",
       "      <td>7.072365</td>\n",
       "      <td>8.556185</td>\n",
       "      <td>7.393975</td>\n",
       "      <td>9.008090</td>\n",
       "      <td>NaN</td>\n",
       "      <td>NaN</td>\n",
       "    </tr>\n",
       "    <tr>\n",
       "      <th>2021-03-31</th>\n",
       "      <td>7.628235</td>\n",
       "      <td>9.091334</td>\n",
       "      <td>7.072365</td>\n",
       "      <td>8.556185</td>\n",
       "      <td>7.393975</td>\n",
       "      <td>9.00809</td>\n",
       "    </tr>\n",
       "  </tbody>\n",
       "</table>\n",
       "</div>"
      ],
      "text/plain": [
       "                 utr      eutr     utrl1    eutrl1     utrl2   eutrl2\n",
       "Date                                                                 \n",
       "2021-01-31  7.393975  9.008090       NaN       NaN       NaN      NaN\n",
       "2021-02-28  7.072365  8.556185  7.393975  9.008090       NaN      NaN\n",
       "2021-03-31  7.628235  9.091334  7.072365  8.556185  7.393975  9.00809"
      ]
     },
     "execution_count": 19,
     "metadata": {},
     "output_type": "execute_result"
    }
   ],
   "source": [
    "lag_2s_renamed.head(3)"
   ]
  },
  {
   "cell_type": "markdown",
   "metadata": {},
   "source": [
    "Notice the original `lag_2s` is standing still without a modification."
   ]
  },
  {
   "cell_type": "code",
   "execution_count": 20,
   "metadata": {},
   "outputs": [
    {
     "data": {
      "text/html": [
       "<div>\n",
       "<style scoped>\n",
       "    .dataframe tbody tr th:only-of-type {\n",
       "        vertical-align: middle;\n",
       "    }\n",
       "\n",
       "    .dataframe tbody tr th {\n",
       "        vertical-align: top;\n",
       "    }\n",
       "\n",
       "    .dataframe thead th {\n",
       "        text-align: right;\n",
       "    }\n",
       "</style>\n",
       "<table border=\"1\" class=\"dataframe\">\n",
       "  <thead>\n",
       "    <tr style=\"text-align: right;\">\n",
       "      <th></th>\n",
       "      <th>USDTRY</th>\n",
       "      <th>EURTRY</th>\n",
       "      <th>USDTRY_LAG_1</th>\n",
       "      <th>EURTRY_LAG_1</th>\n",
       "      <th>USDTRY_LAG_2</th>\n",
       "      <th>EURTRY_LAG_2</th>\n",
       "    </tr>\n",
       "    <tr>\n",
       "      <th>Date</th>\n",
       "      <th></th>\n",
       "      <th></th>\n",
       "      <th></th>\n",
       "      <th></th>\n",
       "      <th></th>\n",
       "      <th></th>\n",
       "    </tr>\n",
       "  </thead>\n",
       "  <tbody>\n",
       "    <tr>\n",
       "      <th>2021-01-31</th>\n",
       "      <td>7.393975</td>\n",
       "      <td>9.008090</td>\n",
       "      <td>NaN</td>\n",
       "      <td>NaN</td>\n",
       "      <td>NaN</td>\n",
       "      <td>NaN</td>\n",
       "    </tr>\n",
       "    <tr>\n",
       "      <th>2021-02-28</th>\n",
       "      <td>7.072365</td>\n",
       "      <td>8.556185</td>\n",
       "      <td>7.393975</td>\n",
       "      <td>9.008090</td>\n",
       "      <td>NaN</td>\n",
       "      <td>NaN</td>\n",
       "    </tr>\n",
       "    <tr>\n",
       "      <th>2021-03-31</th>\n",
       "      <td>7.628235</td>\n",
       "      <td>9.091334</td>\n",
       "      <td>7.072365</td>\n",
       "      <td>8.556185</td>\n",
       "      <td>7.393975</td>\n",
       "      <td>9.00809</td>\n",
       "    </tr>\n",
       "  </tbody>\n",
       "</table>\n",
       "</div>"
      ],
      "text/plain": [
       "              USDTRY    EURTRY  USDTRY_LAG_1  EURTRY_LAG_1  USDTRY_LAG_2  \\\n",
       "Date                                                                       \n",
       "2021-01-31  7.393975  9.008090           NaN           NaN           NaN   \n",
       "2021-02-28  7.072365  8.556185      7.393975      9.008090           NaN   \n",
       "2021-03-31  7.628235  9.091334      7.072365      8.556185      7.393975   \n",
       "\n",
       "            EURTRY_LAG_2  \n",
       "Date                      \n",
       "2021-01-31           NaN  \n",
       "2021-02-28           NaN  \n",
       "2021-03-31       9.00809  "
      ]
     },
     "execution_count": 20,
     "metadata": {},
     "output_type": "execute_result"
    }
   ],
   "source": [
    "lag_2s.head(3)"
   ]
  },
  {
   "cell_type": "markdown",
   "metadata": {},
   "source": [
    "But, you can modify it using `inplace=True` option if you would not like to create a new sereis."
   ]
  },
  {
   "cell_type": "code",
   "execution_count": 21,
   "metadata": {},
   "outputs": [],
   "source": [
    "# This renames the series in lag_2s itself returning nothing.\n",
    "transformator.rename(lag_2s, \"utr, eutr, utrl1, eutrl1, utrl2, eutrl2\", inplace=True)"
   ]
  },
  {
   "cell_type": "code",
   "execution_count": 22,
   "metadata": {},
   "outputs": [
    {
     "data": {
      "text/html": [
       "<div>\n",
       "<style scoped>\n",
       "    .dataframe tbody tr th:only-of-type {\n",
       "        vertical-align: middle;\n",
       "    }\n",
       "\n",
       "    .dataframe tbody tr th {\n",
       "        vertical-align: top;\n",
       "    }\n",
       "\n",
       "    .dataframe thead th {\n",
       "        text-align: right;\n",
       "    }\n",
       "</style>\n",
       "<table border=\"1\" class=\"dataframe\">\n",
       "  <thead>\n",
       "    <tr style=\"text-align: right;\">\n",
       "      <th></th>\n",
       "      <th>utr</th>\n",
       "      <th>eutr</th>\n",
       "      <th>utrl1</th>\n",
       "      <th>eutrl1</th>\n",
       "      <th>utrl2</th>\n",
       "      <th>eutrl2</th>\n",
       "    </tr>\n",
       "    <tr>\n",
       "      <th>Date</th>\n",
       "      <th></th>\n",
       "      <th></th>\n",
       "      <th></th>\n",
       "      <th></th>\n",
       "      <th></th>\n",
       "      <th></th>\n",
       "    </tr>\n",
       "  </thead>\n",
       "  <tbody>\n",
       "    <tr>\n",
       "      <th>2021-01-31</th>\n",
       "      <td>7.393975</td>\n",
       "      <td>9.008090</td>\n",
       "      <td>NaN</td>\n",
       "      <td>NaN</td>\n",
       "      <td>NaN</td>\n",
       "      <td>NaN</td>\n",
       "    </tr>\n",
       "    <tr>\n",
       "      <th>2021-02-28</th>\n",
       "      <td>7.072365</td>\n",
       "      <td>8.556185</td>\n",
       "      <td>7.393975</td>\n",
       "      <td>9.008090</td>\n",
       "      <td>NaN</td>\n",
       "      <td>NaN</td>\n",
       "    </tr>\n",
       "    <tr>\n",
       "      <th>2021-03-31</th>\n",
       "      <td>7.628235</td>\n",
       "      <td>9.091334</td>\n",
       "      <td>7.072365</td>\n",
       "      <td>8.556185</td>\n",
       "      <td>7.393975</td>\n",
       "      <td>9.00809</td>\n",
       "    </tr>\n",
       "  </tbody>\n",
       "</table>\n",
       "</div>"
      ],
      "text/plain": [
       "                 utr      eutr     utrl1    eutrl1     utrl2   eutrl2\n",
       "Date                                                                 \n",
       "2021-01-31  7.393975  9.008090       NaN       NaN       NaN      NaN\n",
       "2021-02-28  7.072365  8.556185  7.393975  9.008090       NaN      NaN\n",
       "2021-03-31  7.628235  9.091334  7.072365  8.556185  7.393975  9.00809"
      ]
     },
     "execution_count": 22,
     "metadata": {},
     "output_type": "execute_result"
    }
   ],
   "source": [
    "lag_2s.head(3)"
   ]
  },
  {
   "cell_type": "markdown",
   "metadata": {},
   "source": [
    "#### 4.2. [__Fixing The Floating-Point Numbers Precision with Transformator__](https://github.com/syncoding/evdsts/blob/master/docs/manuals/manual_en.md#trans-precision)"
   ]
  },
  {
   "cell_type": "markdown",
   "metadata": {},
   "source": [
    "You can truncate floating-point numbers in your data anytime you would like using the\n",
    "`set_precision()` method."
   ]
  },
  {
   "cell_type": "code",
   "execution_count": 82,
   "metadata": {},
   "outputs": [],
   "source": [
    "connector = Connector(language=\"EN\")  # assuming you already have saved your API Key on disk.\n",
    "transformator = Transformator()\n",
    "\n",
    "# assuming you already have saved the reference name 'eurtry' for 'TP.DK.EUR.A.YTL'.\n",
    "eurtry = connector.get_series(\"eurtry\",\n",
    "                              start_date=\"01.06.2022\",\n",
    "                              end_date=\"30.06.2022\",\n",
    "                              frequency=\"B\")"
   ]
  },
  {
   "cell_type": "code",
   "execution_count": 83,
   "metadata": {},
   "outputs": [],
   "source": [
    "# this returns a new series in which the exchange rates precisions are fixed to 2\n",
    "eurtry_p4 = transformator.set_precision(eurtry, 2)"
   ]
  },
  {
   "cell_type": "code",
   "execution_count": 84,
   "metadata": {},
   "outputs": [
    {
     "data": {
      "text/html": [
       "<div>\n",
       "<style scoped>\n",
       "    .dataframe tbody tr th:only-of-type {\n",
       "        vertical-align: middle;\n",
       "    }\n",
       "\n",
       "    .dataframe tbody tr th {\n",
       "        vertical-align: top;\n",
       "    }\n",
       "\n",
       "    .dataframe thead th {\n",
       "        text-align: right;\n",
       "    }\n",
       "</style>\n",
       "<table border=\"1\" class=\"dataframe\">\n",
       "  <thead>\n",
       "    <tr style=\"text-align: right;\">\n",
       "      <th></th>\n",
       "      <th>EURTRY</th>\n",
       "    </tr>\n",
       "    <tr>\n",
       "      <th>Date</th>\n",
       "      <th></th>\n",
       "    </tr>\n",
       "  </thead>\n",
       "  <tbody>\n",
       "    <tr>\n",
       "      <th>2022-06-01</th>\n",
       "      <td>17.57</td>\n",
       "    </tr>\n",
       "    <tr>\n",
       "      <th>2022-06-02</th>\n",
       "      <td>17.59</td>\n",
       "    </tr>\n",
       "    <tr>\n",
       "      <th>2022-06-03</th>\n",
       "      <td>17.57</td>\n",
       "    </tr>\n",
       "  </tbody>\n",
       "</table>\n",
       "</div>"
      ],
      "text/plain": [
       "            EURTRY\n",
       "Date              \n",
       "2022-06-01   17.57\n",
       "2022-06-02   17.59\n",
       "2022-06-03   17.57"
      ]
     },
     "execution_count": 84,
     "metadata": {},
     "output_type": "execute_result"
    }
   ],
   "source": [
    "eurtry_p4.head(3)"
   ]
  },
  {
   "cell_type": "code",
   "execution_count": 85,
   "metadata": {},
   "outputs": [],
   "source": [
    "# this mutates the 'usdtry' variable itself as fixing the flotaing-number precisions to 2\n",
    "transformator.set_precision(eurtry, 2, inplace=True)"
   ]
  },
  {
   "cell_type": "code",
   "execution_count": 86,
   "metadata": {},
   "outputs": [
    {
     "data": {
      "text/html": [
       "<div>\n",
       "<style scoped>\n",
       "    .dataframe tbody tr th:only-of-type {\n",
       "        vertical-align: middle;\n",
       "    }\n",
       "\n",
       "    .dataframe tbody tr th {\n",
       "        vertical-align: top;\n",
       "    }\n",
       "\n",
       "    .dataframe thead th {\n",
       "        text-align: right;\n",
       "    }\n",
       "</style>\n",
       "<table border=\"1\" class=\"dataframe\">\n",
       "  <thead>\n",
       "    <tr style=\"text-align: right;\">\n",
       "      <th></th>\n",
       "      <th>EURTRY</th>\n",
       "    </tr>\n",
       "    <tr>\n",
       "      <th>Date</th>\n",
       "      <th></th>\n",
       "    </tr>\n",
       "  </thead>\n",
       "  <tbody>\n",
       "    <tr>\n",
       "      <th>2022-06-01</th>\n",
       "      <td>17.570000</td>\n",
       "    </tr>\n",
       "    <tr>\n",
       "      <th>2022-06-02</th>\n",
       "      <td>17.590000</td>\n",
       "    </tr>\n",
       "    <tr>\n",
       "      <th>2022-06-03</th>\n",
       "      <td>17.570000</td>\n",
       "    </tr>\n",
       "    <tr>\n",
       "      <th>2022-06-06</th>\n",
       "      <td>17.709999</td>\n",
       "    </tr>\n",
       "    <tr>\n",
       "      <th>2022-06-07</th>\n",
       "      <td>17.780001</td>\n",
       "    </tr>\n",
       "  </tbody>\n",
       "</table>\n",
       "</div>"
      ],
      "text/plain": [
       "               EURTRY\n",
       "Date                 \n",
       "2022-06-01  17.570000\n",
       "2022-06-02  17.590000\n",
       "2022-06-03  17.570000\n",
       "2022-06-06  17.709999\n",
       "2022-06-07  17.780001"
      ]
     },
     "execution_count": 86,
     "metadata": {},
     "output_type": "execute_result"
    }
   ],
   "source": [
    "eurtry.head()"
   ]
  },
  {
   "cell_type": "markdown",
   "metadata": {},
   "source": [
    "#### 4.3. [__Differentiation: Δ(y<sub>t</sub>, i) = y<sub>t</sub> - y<sub>t-i</sub> = (1-L)<sup>i</sup>y<sub>t</sub>__](https://github.com/syncoding/evdsts/blob/master/docs/manuals/manual_en.md#regular-diff)"
   ]
  },
  {
   "cell_type": "markdown",
   "metadata": {},
   "source": [
    "You can use `diff()` method of `Transformator` to get difference series of given series.\n",
    "Difference series are commonly used for making stationary series from non-stationary ones.\n",
    "The most important caveat for this process is that modelling with difference series can not represent long-term relitionships with variables since differentiating process cause the series loose their long-term memories."
   ]
  },
  {
   "cell_type": "code",
   "execution_count": 5,
   "metadata": {},
   "outputs": [],
   "source": [
    "connector = Connector(language=\"EN\")  # assuming you already have saved your API Key on disk.\n",
    "transformator = Transformator(4)      # precision of the results will be 4 if otherwise is explicitly\n",
    "                                      # given to the method\n",
    "\n",
    "usdtry = connector.get_series(\"usdtry\",\n",
    "                              start_date=\"01.06.2022\",\n",
    "                              end_date=\"30.06.2022\",\n",
    "                              frequency=\"B\")"
   ]
  },
  {
   "cell_type": "code",
   "execution_count": 53,
   "metadata": {},
   "outputs": [],
   "source": [
    "# this gives you usdtry and the first difference of usdtry in a frame\n",
    "diff_with_originals_included = transformator.diff(usdtry)"
   ]
  },
  {
   "cell_type": "code",
   "execution_count": 54,
   "metadata": {},
   "outputs": [
    {
     "data": {
      "text/html": [
       "<div>\n",
       "<style scoped>\n",
       "    .dataframe tbody tr th:only-of-type {\n",
       "        vertical-align: middle;\n",
       "    }\n",
       "\n",
       "    .dataframe tbody tr th {\n",
       "        vertical-align: top;\n",
       "    }\n",
       "\n",
       "    .dataframe thead th {\n",
       "        text-align: right;\n",
       "    }\n",
       "</style>\n",
       "<table border=\"1\" class=\"dataframe\">\n",
       "  <thead>\n",
       "    <tr style=\"text-align: right;\">\n",
       "      <th></th>\n",
       "      <th>USDTRY</th>\n",
       "      <th>USDTRY_DIFF</th>\n",
       "    </tr>\n",
       "    <tr>\n",
       "      <th>Date</th>\n",
       "      <th></th>\n",
       "      <th></th>\n",
       "    </tr>\n",
       "  </thead>\n",
       "  <tbody>\n",
       "    <tr>\n",
       "      <th>2022-06-01</th>\n",
       "      <td>16.387600</td>\n",
       "      <td>NaN</td>\n",
       "    </tr>\n",
       "    <tr>\n",
       "      <th>2022-06-02</th>\n",
       "      <td>16.412701</td>\n",
       "      <td>0.0251</td>\n",
       "    </tr>\n",
       "    <tr>\n",
       "      <th>2022-06-03</th>\n",
       "      <td>16.438999</td>\n",
       "      <td>0.0263</td>\n",
       "    </tr>\n",
       "    <tr>\n",
       "      <th>2022-06-06</th>\n",
       "      <td>16.476500</td>\n",
       "      <td>0.0375</td>\n",
       "    </tr>\n",
       "    <tr>\n",
       "      <th>2022-06-07</th>\n",
       "      <td>16.558800</td>\n",
       "      <td>0.0823</td>\n",
       "    </tr>\n",
       "  </tbody>\n",
       "</table>\n",
       "</div>"
      ],
      "text/plain": [
       "               USDTRY  USDTRY_DIFF\n",
       "Date                              \n",
       "2022-06-01  16.387600          NaN\n",
       "2022-06-02  16.412701       0.0251\n",
       "2022-06-03  16.438999       0.0263\n",
       "2022-06-06  16.476500       0.0375\n",
       "2022-06-07  16.558800       0.0823"
      ]
     },
     "execution_count": 54,
     "metadata": {},
     "output_type": "execute_result"
    }
   ],
   "source": [
    "diff_with_originals_included.head()"
   ]
  },
  {
   "cell_type": "markdown",
   "metadata": {},
   "source": [
    "Differentiated series are returned including the original series as default. You can use\n",
    "`keep_originals` flag if you would not like the original series returned with the differentiated\n",
    "ones. In addition, you can use `order` parameter to get 2nd, 3rd, 4th,...nth difference of the\n",
    "series. For instance, you can get 2nd difference providing `order=2` to the `diff()` method."
   ]
  },
  {
   "cell_type": "code",
   "execution_count": 55,
   "metadata": {},
   "outputs": [],
   "source": [
    "# This gives you only the 2nd difference of the usdtry\n",
    "only_diff_2 = transformator.diff(usdtry, order=2, keep_originals=False)"
   ]
  },
  {
   "cell_type": "code",
   "execution_count": 56,
   "metadata": {},
   "outputs": [
    {
     "data": {
      "text/html": [
       "<div>\n",
       "<style scoped>\n",
       "    .dataframe tbody tr th:only-of-type {\n",
       "        vertical-align: middle;\n",
       "    }\n",
       "\n",
       "    .dataframe tbody tr th {\n",
       "        vertical-align: top;\n",
       "    }\n",
       "\n",
       "    .dataframe thead th {\n",
       "        text-align: right;\n",
       "    }\n",
       "</style>\n",
       "<table border=\"1\" class=\"dataframe\">\n",
       "  <thead>\n",
       "    <tr style=\"text-align: right;\">\n",
       "      <th></th>\n",
       "      <th>USDTRY_DIFF_2</th>\n",
       "    </tr>\n",
       "    <tr>\n",
       "      <th>Date</th>\n",
       "      <th></th>\n",
       "    </tr>\n",
       "  </thead>\n",
       "  <tbody>\n",
       "    <tr>\n",
       "      <th>2022-06-01</th>\n",
       "      <td>NaN</td>\n",
       "    </tr>\n",
       "    <tr>\n",
       "      <th>2022-06-02</th>\n",
       "      <td>NaN</td>\n",
       "    </tr>\n",
       "    <tr>\n",
       "      <th>2022-06-03</th>\n",
       "      <td>0.0514</td>\n",
       "    </tr>\n",
       "    <tr>\n",
       "      <th>2022-06-06</th>\n",
       "      <td>0.0638</td>\n",
       "    </tr>\n",
       "    <tr>\n",
       "      <th>2022-06-07</th>\n",
       "      <td>0.1198</td>\n",
       "    </tr>\n",
       "  </tbody>\n",
       "</table>\n",
       "</div>"
      ],
      "text/plain": [
       "            USDTRY_DIFF_2\n",
       "Date                     \n",
       "2022-06-01            NaN\n",
       "2022-06-02            NaN\n",
       "2022-06-03         0.0514\n",
       "2022-06-06         0.0638\n",
       "2022-06-07         0.1198"
      ]
     },
     "execution_count": 56,
     "metadata": {},
     "output_type": "execute_result"
    }
   ],
   "source": [
    "only_diff_2.head()"
   ]
  },
  {
   "cell_type": "code",
   "execution_count": 65,
   "metadata": {},
   "outputs": [],
   "source": [
    "# this gives you the third diff with floating-point precision 5\n",
    "third_diff = transformator.diff(usdtry, order=3, precision=2)"
   ]
  },
  {
   "cell_type": "code",
   "execution_count": 66,
   "metadata": {},
   "outputs": [
    {
     "data": {
      "text/html": [
       "<div>\n",
       "<style scoped>\n",
       "    .dataframe tbody tr th:only-of-type {\n",
       "        vertical-align: middle;\n",
       "    }\n",
       "\n",
       "    .dataframe tbody tr th {\n",
       "        vertical-align: top;\n",
       "    }\n",
       "\n",
       "    .dataframe thead th {\n",
       "        text-align: right;\n",
       "    }\n",
       "</style>\n",
       "<table border=\"1\" class=\"dataframe\">\n",
       "  <thead>\n",
       "    <tr style=\"text-align: right;\">\n",
       "      <th></th>\n",
       "      <th>USDTRY</th>\n",
       "      <th>USDTRY_DIFF_3</th>\n",
       "    </tr>\n",
       "    <tr>\n",
       "      <th>Date</th>\n",
       "      <th></th>\n",
       "      <th></th>\n",
       "    </tr>\n",
       "  </thead>\n",
       "  <tbody>\n",
       "    <tr>\n",
       "      <th>2022-06-01</th>\n",
       "      <td>16.387600</td>\n",
       "      <td>NaN</td>\n",
       "    </tr>\n",
       "    <tr>\n",
       "      <th>2022-06-02</th>\n",
       "      <td>16.412701</td>\n",
       "      <td>NaN</td>\n",
       "    </tr>\n",
       "    <tr>\n",
       "      <th>2022-06-03</th>\n",
       "      <td>16.438999</td>\n",
       "      <td>NaN</td>\n",
       "    </tr>\n",
       "    <tr>\n",
       "      <th>2022-06-06</th>\n",
       "      <td>16.476500</td>\n",
       "      <td>0.09</td>\n",
       "    </tr>\n",
       "    <tr>\n",
       "      <th>2022-06-07</th>\n",
       "      <td>16.558800</td>\n",
       "      <td>0.15</td>\n",
       "    </tr>\n",
       "  </tbody>\n",
       "</table>\n",
       "</div>"
      ],
      "text/plain": [
       "               USDTRY  USDTRY_DIFF_3\n",
       "Date                                \n",
       "2022-06-01  16.387600            NaN\n",
       "2022-06-02  16.412701            NaN\n",
       "2022-06-03  16.438999            NaN\n",
       "2022-06-06  16.476500           0.09\n",
       "2022-06-07  16.558800           0.15"
      ]
     },
     "execution_count": 66,
     "metadata": {},
     "output_type": "execute_result"
    }
   ],
   "source": [
    "third_diff.head()"
   ]
  },
  {
   "cell_type": "markdown",
   "metadata": {},
   "source": [
    "`diff()`, can be used for multi-dimentional series as well."
   ]
  },
  {
   "cell_type": "code",
   "execution_count": 6,
   "metadata": {},
   "outputs": [],
   "source": [
    "rates = connector.get_series(\"usdtry, eurtry\",\n",
    "                              start_date=\"01.06.2022\",\n",
    "                              end_date=\"30.06.2022\",\n",
    "                              frequency=\"B\")"
   ]
  },
  {
   "cell_type": "code",
   "execution_count": 88,
   "metadata": {},
   "outputs": [],
   "source": [
    "# This gives the 1st difference series of usdtry and eurtry\n",
    "rates_diff = transformator.diff(rates)"
   ]
  },
  {
   "cell_type": "code",
   "execution_count": 89,
   "metadata": {},
   "outputs": [
    {
     "data": {
      "text/html": [
       "<div>\n",
       "<style scoped>\n",
       "    .dataframe tbody tr th:only-of-type {\n",
       "        vertical-align: middle;\n",
       "    }\n",
       "\n",
       "    .dataframe tbody tr th {\n",
       "        vertical-align: top;\n",
       "    }\n",
       "\n",
       "    .dataframe thead th {\n",
       "        text-align: right;\n",
       "    }\n",
       "</style>\n",
       "<table border=\"1\" class=\"dataframe\">\n",
       "  <thead>\n",
       "    <tr style=\"text-align: right;\">\n",
       "      <th></th>\n",
       "      <th>USDTRY</th>\n",
       "      <th>EURTRY</th>\n",
       "      <th>USDTRY_DIFF</th>\n",
       "      <th>EURTRY_DIFF</th>\n",
       "    </tr>\n",
       "    <tr>\n",
       "      <th>Date</th>\n",
       "      <th></th>\n",
       "      <th></th>\n",
       "      <th></th>\n",
       "      <th></th>\n",
       "    </tr>\n",
       "  </thead>\n",
       "  <tbody>\n",
       "    <tr>\n",
       "      <th>2022-06-01</th>\n",
       "      <td>16.387600</td>\n",
       "      <td>17.5702</td>\n",
       "      <td>NaN</td>\n",
       "      <td>NaN</td>\n",
       "    </tr>\n",
       "    <tr>\n",
       "      <th>2022-06-02</th>\n",
       "      <td>16.412701</td>\n",
       "      <td>17.5916</td>\n",
       "      <td>0.025101</td>\n",
       "      <td>0.021400</td>\n",
       "    </tr>\n",
       "    <tr>\n",
       "      <th>2022-06-03</th>\n",
       "      <td>16.438999</td>\n",
       "      <td>17.5700</td>\n",
       "      <td>0.026299</td>\n",
       "      <td>-0.021601</td>\n",
       "    </tr>\n",
       "    <tr>\n",
       "      <th>2022-06-06</th>\n",
       "      <td>16.476500</td>\n",
       "      <td>17.7066</td>\n",
       "      <td>0.037500</td>\n",
       "      <td>0.136600</td>\n",
       "    </tr>\n",
       "    <tr>\n",
       "      <th>2022-06-07</th>\n",
       "      <td>16.558800</td>\n",
       "      <td>17.7785</td>\n",
       "      <td>0.082300</td>\n",
       "      <td>0.071899</td>\n",
       "    </tr>\n",
       "  </tbody>\n",
       "</table>\n",
       "</div>"
      ],
      "text/plain": [
       "               USDTRY   EURTRY  USDTRY_DIFF  EURTRY_DIFF\n",
       "Date                                                    \n",
       "2022-06-01  16.387600  17.5702          NaN          NaN\n",
       "2022-06-02  16.412701  17.5916     0.025101     0.021400\n",
       "2022-06-03  16.438999  17.5700     0.026299    -0.021601\n",
       "2022-06-06  16.476500  17.7066     0.037500     0.136600\n",
       "2022-06-07  16.558800  17.7785     0.082300     0.071899"
      ]
     },
     "execution_count": 89,
     "metadata": {},
     "output_type": "execute_result"
    }
   ],
   "source": [
    "rates_diff.head()"
   ]
  },
  {
   "cell_type": "markdown",
   "metadata": {},
   "source": [
    "#### 4.4. [__Natural Logarithmic Transformation: ln(y<sub>t</sub>)__](https://github.com/syncoding/evdsts/blob/master/docs/manuals/manual_en.md#log-transform)"
   ]
  },
  {
   "cell_type": "markdown",
   "metadata": {},
   "source": [
    "You can use `ln()` method to get natural logarithmics of given series. Likewise, `keep_originals` flags\n",
    "controls if the returned dataframe includes the original series. Log transformation can ease modelling problems\n",
    "arisen from high series variances."
   ]
  },
  {
   "cell_type": "code",
   "execution_count": 68,
   "metadata": {},
   "outputs": [],
   "source": [
    "usdtry = connector.get_series(\"usdtry\",\n",
    "                              start_date=\"01.06.2022\",\n",
    "                              end_date=\"30.06.2022\",\n",
    "                              frequency=\"B\")"
   ]
  },
  {
   "cell_type": "code",
   "execution_count": 69,
   "metadata": {},
   "outputs": [],
   "source": [
    "usd_and_ln_usd = transformator.ln(usdtry)                 # this gives you usdtry and ln(usdtry)\n",
    "\n",
    "ln_usd = transformator.ln(usdtry, keep_originals=False)   # this gives you only ln(usdtry)"
   ]
  },
  {
   "cell_type": "code",
   "execution_count": 70,
   "metadata": {},
   "outputs": [
    {
     "data": {
      "text/html": [
       "<div>\n",
       "<style scoped>\n",
       "    .dataframe tbody tr th:only-of-type {\n",
       "        vertical-align: middle;\n",
       "    }\n",
       "\n",
       "    .dataframe tbody tr th {\n",
       "        vertical-align: top;\n",
       "    }\n",
       "\n",
       "    .dataframe thead th {\n",
       "        text-align: right;\n",
       "    }\n",
       "</style>\n",
       "<table border=\"1\" class=\"dataframe\">\n",
       "  <thead>\n",
       "    <tr style=\"text-align: right;\">\n",
       "      <th></th>\n",
       "      <th>USDTRY</th>\n",
       "      <th>USDTRY_LN</th>\n",
       "    </tr>\n",
       "    <tr>\n",
       "      <th>Date</th>\n",
       "      <th></th>\n",
       "      <th></th>\n",
       "    </tr>\n",
       "  </thead>\n",
       "  <tbody>\n",
       "    <tr>\n",
       "      <th>2022-06-01</th>\n",
       "      <td>16.387600</td>\n",
       "      <td>2.796525</td>\n",
       "    </tr>\n",
       "    <tr>\n",
       "      <th>2022-06-02</th>\n",
       "      <td>16.412701</td>\n",
       "      <td>2.798055</td>\n",
       "    </tr>\n",
       "  </tbody>\n",
       "</table>\n",
       "</div>"
      ],
      "text/plain": [
       "               USDTRY  USDTRY_LN\n",
       "Date                            \n",
       "2022-06-01  16.387600   2.796525\n",
       "2022-06-02  16.412701   2.798055"
      ]
     },
     "execution_count": 70,
     "metadata": {},
     "output_type": "execute_result"
    }
   ],
   "source": [
    "usd_and_ln_usd.head(2)"
   ]
  },
  {
   "cell_type": "code",
   "execution_count": 92,
   "metadata": {},
   "outputs": [
    {
     "data": {
      "text/html": [
       "<div>\n",
       "<style scoped>\n",
       "    .dataframe tbody tr th:only-of-type {\n",
       "        vertical-align: middle;\n",
       "    }\n",
       "\n",
       "    .dataframe tbody tr th {\n",
       "        vertical-align: top;\n",
       "    }\n",
       "\n",
       "    .dataframe thead th {\n",
       "        text-align: right;\n",
       "    }\n",
       "</style>\n",
       "<table border=\"1\" class=\"dataframe\">\n",
       "  <thead>\n",
       "    <tr style=\"text-align: right;\">\n",
       "      <th></th>\n",
       "      <th>USDTRY_LN</th>\n",
       "    </tr>\n",
       "    <tr>\n",
       "      <th>Date</th>\n",
       "      <th></th>\n",
       "    </tr>\n",
       "  </thead>\n",
       "  <tbody>\n",
       "    <tr>\n",
       "      <th>2022-06-01</th>\n",
       "      <td>2.796525</td>\n",
       "    </tr>\n",
       "    <tr>\n",
       "      <th>2022-06-02</th>\n",
       "      <td>2.798055</td>\n",
       "    </tr>\n",
       "  </tbody>\n",
       "</table>\n",
       "</div>"
      ],
      "text/plain": [
       "            USDTRY_LN\n",
       "Date                 \n",
       "2022-06-01   2.796525\n",
       "2022-06-02   2.798055"
      ]
     },
     "execution_count": 92,
     "metadata": {},
     "output_type": "execute_result"
    }
   ],
   "source": [
    "ln_usd.head(2)"
   ]
  },
  {
   "cell_type": "markdown",
   "metadata": {},
   "source": [
    "`ln()`, can be used for multi-dimentional series as well."
   ]
  },
  {
   "cell_type": "code",
   "execution_count": 72,
   "metadata": {},
   "outputs": [],
   "source": [
    "rates = connector.get_series(\"usdtry, eurtry\",\n",
    "                              start_date=\"01.06.2022\",\n",
    "                              end_date=\"30.06.2022\",\n",
    "                              frequency=\"B\")"
   ]
  },
  {
   "cell_type": "code",
   "execution_count": 95,
   "metadata": {},
   "outputs": [],
   "source": [
    "# we have already downloaded the usdtry and eurtry as 'rates' before\n",
    "\n",
    "# this gives you ln(usdtry) and ln(eurtry) with 3 digits floating-point precision\n",
    "ln_rates = transformator.ln(rates, precision=3)"
   ]
  },
  {
   "cell_type": "code",
   "execution_count": 96,
   "metadata": {},
   "outputs": [
    {
     "data": {
      "text/html": [
       "<div>\n",
       "<style scoped>\n",
       "    .dataframe tbody tr th:only-of-type {\n",
       "        vertical-align: middle;\n",
       "    }\n",
       "\n",
       "    .dataframe tbody tr th {\n",
       "        vertical-align: top;\n",
       "    }\n",
       "\n",
       "    .dataframe thead th {\n",
       "        text-align: right;\n",
       "    }\n",
       "</style>\n",
       "<table border=\"1\" class=\"dataframe\">\n",
       "  <thead>\n",
       "    <tr style=\"text-align: right;\">\n",
       "      <th></th>\n",
       "      <th>USDTRY</th>\n",
       "      <th>EURTRY</th>\n",
       "      <th>USDTRY_LN</th>\n",
       "      <th>EURTRY_LN</th>\n",
       "    </tr>\n",
       "    <tr>\n",
       "      <th>Date</th>\n",
       "      <th></th>\n",
       "      <th></th>\n",
       "      <th></th>\n",
       "      <th></th>\n",
       "    </tr>\n",
       "  </thead>\n",
       "  <tbody>\n",
       "    <tr>\n",
       "      <th>2022-06-01</th>\n",
       "      <td>16.387600</td>\n",
       "      <td>17.5702</td>\n",
       "      <td>2.797</td>\n",
       "      <td>2.866</td>\n",
       "    </tr>\n",
       "    <tr>\n",
       "      <th>2022-06-02</th>\n",
       "      <td>16.412701</td>\n",
       "      <td>17.5916</td>\n",
       "      <td>2.798</td>\n",
       "      <td>2.867</td>\n",
       "    </tr>\n",
       "    <tr>\n",
       "      <th>2022-06-03</th>\n",
       "      <td>16.438999</td>\n",
       "      <td>17.5700</td>\n",
       "      <td>2.800</td>\n",
       "      <td>2.866</td>\n",
       "    </tr>\n",
       "  </tbody>\n",
       "</table>\n",
       "</div>"
      ],
      "text/plain": [
       "               USDTRY   EURTRY  USDTRY_LN  EURTRY_LN\n",
       "Date                                                \n",
       "2022-06-01  16.387600  17.5702      2.797      2.866\n",
       "2022-06-02  16.412701  17.5916      2.798      2.867\n",
       "2022-06-03  16.438999  17.5700      2.800      2.866"
      ]
     },
     "execution_count": 96,
     "metadata": {},
     "output_type": "execute_result"
    }
   ],
   "source": [
    "ln_rates.head(3)"
   ]
  },
  {
   "cell_type": "markdown",
   "metadata": {},
   "source": [
    "#### 4.5. [__Logarithmic Difference (LogReturn): Δ(ln(y<sub>t</sub>), i) = ln(y<sub>t</sub>) - ln(y<sub>t-i</sub>) = (1-L)<sup>i</sup>ln(y<sub>t</sub>)__](https://github.com/syncoding/evdsts/blob/master/docs/manuals/manual_en.md#logaritmic-diff)"
   ]
  },
  {
   "cell_type": "markdown",
   "metadata": {},
   "source": [
    "You can use `lndiff()` method to get logarithmic differences (log returns) of series.\n",
    "Likewise, `keep_originals` flags controls if the returned frame includes the original series. This is\n",
    "a symmetric return series so that; if you get `0.2` ln difference in time `t`, and `-0.2` ln difference in\n",
    "time `t + 1`, then you get back to where you were, that is, its total efect is `0`. Notice the symmetry as a\n",
    "different charecter of ln difference than regular growth since a `%20` growth in time `t`, and `%-20` growth in\n",
    "time `t + 1` is equal to net `%-4` growth."
   ]
  },
  {
   "cell_type": "code",
   "execution_count": 71,
   "metadata": {},
   "outputs": [],
   "source": [
    "usdtry = connector.get_series(\"usdtry\",\n",
    "                              start_date=\"01.06.2022\",\n",
    "                              end_date=\"30.06.2022\",\n",
    "                              frequency=\"B\")"
   ]
  },
  {
   "cell_type": "code",
   "execution_count": 97,
   "metadata": {},
   "outputs": [],
   "source": [
    "usd_log_return = transformator.lndiff(usdtry)           # this gives you 1st logarithmic differences (log returns)\n",
    "\n",
    "usd_2nd_lndiff = transformator.lndiff(usdtry, order=2)  # this gives you 2nd logarithmic differences\n",
    "\n",
    "only_log_return = transformator.lndiff(usdtry, keep_originals=False)  # this gives you just the log returns"
   ]
  },
  {
   "cell_type": "code",
   "execution_count": 99,
   "metadata": {},
   "outputs": [
    {
     "data": {
      "text/html": [
       "<div>\n",
       "<style scoped>\n",
       "    .dataframe tbody tr th:only-of-type {\n",
       "        vertical-align: middle;\n",
       "    }\n",
       "\n",
       "    .dataframe tbody tr th {\n",
       "        vertical-align: top;\n",
       "    }\n",
       "\n",
       "    .dataframe thead th {\n",
       "        text-align: right;\n",
       "    }\n",
       "</style>\n",
       "<table border=\"1\" class=\"dataframe\">\n",
       "  <thead>\n",
       "    <tr style=\"text-align: right;\">\n",
       "      <th></th>\n",
       "      <th>USDTRY</th>\n",
       "      <th>USDTRY_LNDIFF</th>\n",
       "    </tr>\n",
       "    <tr>\n",
       "      <th>Date</th>\n",
       "      <th></th>\n",
       "      <th></th>\n",
       "    </tr>\n",
       "  </thead>\n",
       "  <tbody>\n",
       "    <tr>\n",
       "      <th>2022-06-01</th>\n",
       "      <td>16.387600</td>\n",
       "      <td>NaN</td>\n",
       "    </tr>\n",
       "    <tr>\n",
       "      <th>2022-06-02</th>\n",
       "      <td>16.412701</td>\n",
       "      <td>0.001531</td>\n",
       "    </tr>\n",
       "    <tr>\n",
       "      <th>2022-06-03</th>\n",
       "      <td>16.438999</td>\n",
       "      <td>0.001601</td>\n",
       "    </tr>\n",
       "  </tbody>\n",
       "</table>\n",
       "</div>"
      ],
      "text/plain": [
       "               USDTRY  USDTRY_LNDIFF\n",
       "Date                                \n",
       "2022-06-01  16.387600            NaN\n",
       "2022-06-02  16.412701       0.001531\n",
       "2022-06-03  16.438999       0.001601"
      ]
     },
     "execution_count": 99,
     "metadata": {},
     "output_type": "execute_result"
    }
   ],
   "source": [
    "usd_log_return.head(3)"
   ]
  },
  {
   "cell_type": "markdown",
   "metadata": {},
   "source": [
    "`lndiff()`, can be used for multi-dimentional series as well."
   ]
  },
  {
   "cell_type": "code",
   "execution_count": 73,
   "metadata": {},
   "outputs": [],
   "source": [
    "rates = connector.get_series(\"usdtry, eurtry\",\n",
    "                              start_date=\"01.06.2022\",\n",
    "                              end_date=\"30.06.2022\",\n",
    "                              frequency=\"B\")"
   ]
  },
  {
   "cell_type": "code",
   "execution_count": 74,
   "metadata": {},
   "outputs": [],
   "source": [
    "# this gives log returns of usdtry and eurtry with floating-point number precision: 4\n",
    "rates_lr = transformator.lndiff(rates, precision=4)"
   ]
  },
  {
   "cell_type": "code",
   "execution_count": 75,
   "metadata": {},
   "outputs": [
    {
     "data": {
      "text/html": [
       "<div>\n",
       "<style scoped>\n",
       "    .dataframe tbody tr th:only-of-type {\n",
       "        vertical-align: middle;\n",
       "    }\n",
       "\n",
       "    .dataframe tbody tr th {\n",
       "        vertical-align: top;\n",
       "    }\n",
       "\n",
       "    .dataframe thead th {\n",
       "        text-align: right;\n",
       "    }\n",
       "</style>\n",
       "<table border=\"1\" class=\"dataframe\">\n",
       "  <thead>\n",
       "    <tr style=\"text-align: right;\">\n",
       "      <th></th>\n",
       "      <th>USDTRY</th>\n",
       "      <th>EURTRY</th>\n",
       "      <th>USDTRY_LNDIFF</th>\n",
       "      <th>EURTRY_LNDIFF</th>\n",
       "    </tr>\n",
       "    <tr>\n",
       "      <th>Date</th>\n",
       "      <th></th>\n",
       "      <th></th>\n",
       "      <th></th>\n",
       "      <th></th>\n",
       "    </tr>\n",
       "  </thead>\n",
       "  <tbody>\n",
       "    <tr>\n",
       "      <th>2022-06-01</th>\n",
       "      <td>16.387600</td>\n",
       "      <td>17.5702</td>\n",
       "      <td>NaN</td>\n",
       "      <td>NaN</td>\n",
       "    </tr>\n",
       "    <tr>\n",
       "      <th>2022-06-02</th>\n",
       "      <td>16.412701</td>\n",
       "      <td>17.5916</td>\n",
       "      <td>0.0015</td>\n",
       "      <td>0.0012</td>\n",
       "    </tr>\n",
       "    <tr>\n",
       "      <th>2022-06-03</th>\n",
       "      <td>16.438999</td>\n",
       "      <td>17.5700</td>\n",
       "      <td>0.0016</td>\n",
       "      <td>-0.0012</td>\n",
       "    </tr>\n",
       "  </tbody>\n",
       "</table>\n",
       "</div>"
      ],
      "text/plain": [
       "               USDTRY   EURTRY  USDTRY_LNDIFF  EURTRY_LNDIFF\n",
       "Date                                                        \n",
       "2022-06-01  16.387600  17.5702            NaN            NaN\n",
       "2022-06-02  16.412701  17.5916         0.0015         0.0012\n",
       "2022-06-03  16.438999  17.5700         0.0016        -0.0012"
      ]
     },
     "execution_count": 75,
     "metadata": {},
     "output_type": "execute_result"
    }
   ],
   "source": [
    "rates_lr.head(3)"
   ]
  },
  {
   "cell_type": "markdown",
   "metadata": {},
   "source": [
    "#### 4.6. [__Deterministic Trend: y<sub>t</sub> = β<sub>0</sub> + β<sub>1</sub>Trend + β<sub>2</sub>Trend<sup>2</sup> + ... β<sub>n</sub>Trend<sup>n</sup> + ε<sub>t</sub>__](https://github.com/syncoding/evdsts/blob/master/docs/manuals/manual_en.md#deterministic-trend)"
   ]
  },
  {
   "cell_type": "markdown",
   "metadata": {},
   "source": [
    "You can use `deterministic_trend()` method to get the forecast series taken from the deterministic\n",
    "trend model for given series. Likewise, `keep_originals` flags controls if the returned frame includes\n",
    "the original series.\n",
    "\n",
    "Deterministic trend model is defined below:\n",
    "\n",
    " y<sub>t</sub> = β<sub>0</sub> + β<sub>1</sub>Trend + β<sub>2</sub>Trend<sup>2</sup> + ... β<sub>n</sub>Trend<sup>n</sup> + ε<sub>t</sub>\n",
    "\n",
    "Notice the deterministic trend is a phenomenon that satisfies the condition σ<sup>2</sup>y<sub>t</sub> = σ<sup>2</sup>,\n",
    "that is, the variance of the trend doesn't change with the time. Such a process is called a _trend stationary_ process\n",
    "and the stationary can be provided by removing that trend from the original series. This approach sometimes called as\n",
    "`decomposition` as well."
   ]
  },
  {
   "cell_type": "code",
   "execution_count": null,
   "metadata": {},
   "outputs": [],
   "source": [
    "usdtry = connector.get_series(\"usdtry\",\n",
    "                              start_date=\"01.06.2022\",\n",
    "                              end_date=\"30.06.2022\",\n",
    "                              frequency=\"B\")"
   ]
  },
  {
   "cell_type": "code",
   "execution_count": 7,
   "metadata": {},
   "outputs": [],
   "source": [
    "# this gives you the forecasts of the linear trend model.\n",
    "dt_forecast = transformator.deterministic_trend(usdtry)"
   ]
  },
  {
   "cell_type": "code",
   "execution_count": 8,
   "metadata": {},
   "outputs": [
    {
     "data": {
      "text/html": [
       "<div>\n",
       "<style scoped>\n",
       "    .dataframe tbody tr th:only-of-type {\n",
       "        vertical-align: middle;\n",
       "    }\n",
       "\n",
       "    .dataframe tbody tr th {\n",
       "        vertical-align: top;\n",
       "    }\n",
       "\n",
       "    .dataframe thead th {\n",
       "        text-align: right;\n",
       "    }\n",
       "</style>\n",
       "<table border=\"1\" class=\"dataframe\">\n",
       "  <thead>\n",
       "    <tr style=\"text-align: right;\">\n",
       "      <th></th>\n",
       "      <th>USDTRY</th>\n",
       "      <th>USDTRY_LINTR</th>\n",
       "    </tr>\n",
       "    <tr>\n",
       "      <th>Date</th>\n",
       "      <th></th>\n",
       "      <th></th>\n",
       "    </tr>\n",
       "  </thead>\n",
       "  <tbody>\n",
       "    <tr>\n",
       "      <th>2022-06-01</th>\n",
       "      <td>16.387600</td>\n",
       "      <td>16.682199</td>\n",
       "    </tr>\n",
       "    <tr>\n",
       "      <th>2022-06-02</th>\n",
       "      <td>16.412701</td>\n",
       "      <td>16.709101</td>\n",
       "    </tr>\n",
       "    <tr>\n",
       "      <th>2022-06-03</th>\n",
       "      <td>16.438999</td>\n",
       "      <td>16.736000</td>\n",
       "    </tr>\n",
       "    <tr>\n",
       "      <th>2022-06-06</th>\n",
       "      <td>16.476500</td>\n",
       "      <td>16.762899</td>\n",
       "    </tr>\n",
       "    <tr>\n",
       "      <th>2022-06-07</th>\n",
       "      <td>16.558800</td>\n",
       "      <td>16.789801</td>\n",
       "    </tr>\n",
       "  </tbody>\n",
       "</table>\n",
       "</div>"
      ],
      "text/plain": [
       "               USDTRY  USDTRY_LINTR\n",
       "Date                               \n",
       "2022-06-01  16.387600     16.682199\n",
       "2022-06-02  16.412701     16.709101\n",
       "2022-06-03  16.438999     16.736000\n",
       "2022-06-06  16.476500     16.762899\n",
       "2022-06-07  16.558800     16.789801"
      ]
     },
     "execution_count": 8,
     "metadata": {},
     "output_type": "execute_result"
    }
   ],
   "source": [
    "dt_forecast.head()"
   ]
  },
  {
   "cell_type": "code",
   "execution_count": 9,
   "metadata": {},
   "outputs": [],
   "source": [
    "# this gives you the forecasts of the quadratic trend model\n",
    "dt_quadratic_forecast = transformator.deterministic_trend(usdtry, degree=2)"
   ]
  },
  {
   "cell_type": "code",
   "execution_count": 10,
   "metadata": {},
   "outputs": [
    {
     "data": {
      "text/html": [
       "<div>\n",
       "<style scoped>\n",
       "    .dataframe tbody tr th:only-of-type {\n",
       "        vertical-align: middle;\n",
       "    }\n",
       "\n",
       "    .dataframe tbody tr th {\n",
       "        vertical-align: top;\n",
       "    }\n",
       "\n",
       "    .dataframe thead th {\n",
       "        text-align: right;\n",
       "    }\n",
       "</style>\n",
       "<table border=\"1\" class=\"dataframe\">\n",
       "  <thead>\n",
       "    <tr style=\"text-align: right;\">\n",
       "      <th></th>\n",
       "      <th>USDTRY</th>\n",
       "      <th>USDTRY_PLYTR_2</th>\n",
       "    </tr>\n",
       "    <tr>\n",
       "      <th>Date</th>\n",
       "      <th></th>\n",
       "      <th></th>\n",
       "    </tr>\n",
       "  </thead>\n",
       "  <tbody>\n",
       "    <tr>\n",
       "      <th>2022-06-01</th>\n",
       "      <td>16.387600</td>\n",
       "      <td>16.136400</td>\n",
       "    </tr>\n",
       "    <tr>\n",
       "      <th>2022-06-02</th>\n",
       "      <td>16.412701</td>\n",
       "      <td>16.747299</td>\n",
       "    </tr>\n",
       "    <tr>\n",
       "      <th>2022-06-03</th>\n",
       "      <td>16.438999</td>\n",
       "      <td>17.770800</td>\n",
       "    </tr>\n",
       "    <tr>\n",
       "      <th>2022-06-06</th>\n",
       "      <td>16.476500</td>\n",
       "      <td>19.206800</td>\n",
       "    </tr>\n",
       "    <tr>\n",
       "      <th>2022-06-07</th>\n",
       "      <td>16.558800</td>\n",
       "      <td>21.055300</td>\n",
       "    </tr>\n",
       "  </tbody>\n",
       "</table>\n",
       "</div>"
      ],
      "text/plain": [
       "               USDTRY  USDTRY_PLYTR_2\n",
       "Date                                 \n",
       "2022-06-01  16.387600       16.136400\n",
       "2022-06-02  16.412701       16.747299\n",
       "2022-06-03  16.438999       17.770800\n",
       "2022-06-06  16.476500       19.206800\n",
       "2022-06-07  16.558800       21.055300"
      ]
     },
     "execution_count": 10,
     "metadata": {},
     "output_type": "execute_result"
    }
   ],
   "source": [
    "dt_quadratic_forecast.head()"
   ]
  },
  {
   "cell_type": "markdown",
   "metadata": {},
   "source": [
    "> High order polynoms can oscillate wildly if they're not a good representative of given series.\n",
    "> Therefore, use the higher degree trend models if you're sure that the process is follows that\n",
    "> order in a deterministic manner (eg: some kind of seasonality charecter)."
   ]
  },
  {
   "cell_type": "markdown",
   "metadata": {},
   "source": [
    "`deterministic_trend()`, can be used for multi-dimentional series as well."
   ]
  },
  {
   "cell_type": "code",
   "execution_count": 76,
   "metadata": {},
   "outputs": [],
   "source": [
    "rates = connector.get_series(\"usdtry, eurtry\",\n",
    "                              start_date=\"01.06.2022\",\n",
    "                              end_date=\"30.06.2022\",\n",
    "                              frequency=\"B\")"
   ]
  },
  {
   "cell_type": "code",
   "execution_count": 77,
   "metadata": {},
   "outputs": [],
   "source": [
    "# this gives you linear trend forecasts of eurtry and usdtr series with floating-point precision: 3\n",
    "rates_linear = transformator.deterministic_trend(rates, precision=2)"
   ]
  },
  {
   "cell_type": "code",
   "execution_count": 78,
   "metadata": {},
   "outputs": [
    {
     "data": {
      "text/html": [
       "<div>\n",
       "<style scoped>\n",
       "    .dataframe tbody tr th:only-of-type {\n",
       "        vertical-align: middle;\n",
       "    }\n",
       "\n",
       "    .dataframe tbody tr th {\n",
       "        vertical-align: top;\n",
       "    }\n",
       "\n",
       "    .dataframe thead th {\n",
       "        text-align: right;\n",
       "    }\n",
       "</style>\n",
       "<table border=\"1\" class=\"dataframe\">\n",
       "  <thead>\n",
       "    <tr style=\"text-align: right;\">\n",
       "      <th></th>\n",
       "      <th>USDTRY</th>\n",
       "      <th>EURTRY</th>\n",
       "      <th>USDTRY_LINTR</th>\n",
       "      <th>EURTRY_LINTR</th>\n",
       "    </tr>\n",
       "    <tr>\n",
       "      <th>Date</th>\n",
       "      <th></th>\n",
       "      <th></th>\n",
       "      <th></th>\n",
       "      <th></th>\n",
       "    </tr>\n",
       "  </thead>\n",
       "  <tbody>\n",
       "    <tr>\n",
       "      <th>2022-06-01</th>\n",
       "      <td>16.387600</td>\n",
       "      <td>17.5702</td>\n",
       "      <td>16.680000</td>\n",
       "      <td>17.860001</td>\n",
       "    </tr>\n",
       "    <tr>\n",
       "      <th>2022-06-02</th>\n",
       "      <td>16.412701</td>\n",
       "      <td>17.5916</td>\n",
       "      <td>16.709999</td>\n",
       "      <td>17.870001</td>\n",
       "    </tr>\n",
       "    <tr>\n",
       "      <th>2022-06-03</th>\n",
       "      <td>16.438999</td>\n",
       "      <td>17.5700</td>\n",
       "      <td>16.740000</td>\n",
       "      <td>17.879999</td>\n",
       "    </tr>\n",
       "    <tr>\n",
       "      <th>2022-06-06</th>\n",
       "      <td>16.476500</td>\n",
       "      <td>17.7066</td>\n",
       "      <td>16.760000</td>\n",
       "      <td>17.889999</td>\n",
       "    </tr>\n",
       "    <tr>\n",
       "      <th>2022-06-07</th>\n",
       "      <td>16.558800</td>\n",
       "      <td>17.7785</td>\n",
       "      <td>16.790001</td>\n",
       "      <td>17.900000</td>\n",
       "    </tr>\n",
       "  </tbody>\n",
       "</table>\n",
       "</div>"
      ],
      "text/plain": [
       "               USDTRY   EURTRY  USDTRY_LINTR  EURTRY_LINTR\n",
       "Date                                                      \n",
       "2022-06-01  16.387600  17.5702     16.680000     17.860001\n",
       "2022-06-02  16.412701  17.5916     16.709999     17.870001\n",
       "2022-06-03  16.438999  17.5700     16.740000     17.879999\n",
       "2022-06-06  16.476500  17.7066     16.760000     17.889999\n",
       "2022-06-07  16.558800  17.7785     16.790001     17.900000"
      ]
     },
     "execution_count": 78,
     "metadata": {},
     "output_type": "execute_result"
    }
   ],
   "source": [
    "rates_linear.head()"
   ]
  },
  {
   "cell_type": "markdown",
   "metadata": {},
   "source": [
    "#### 4.7. [__Decompose: y<sub>t</sub> - (β<sub>0</sub> + β<sub>1</sub>Trend + β<sub>2</sub>Trend<sup>2</sup> + ... β<sub>n</sub>Trend<sup>n</sup> + ε<sub>t</sub>)__](https://github.com/syncoding/evdsts/blob/master/docs/manuals/manual_en.md#de-trend)"
   ]
  },
  {
   "cell_type": "markdown",
   "metadata": {},
   "source": [
    "You can decompose (de-trend) retrieved series using `decompose()` method. Extracting time based deterministic trends\n",
    "from the original series could be a good way to create stationary series from the non-stationary\n",
    "(or trend stationary) ones. Decomposition (or de-trending) is especially an appropriate way to reach stationary series if the subject series have a deterministic trend as one of the components.\n",
    "\n",
    "Decomposition can be done through one of the ways below;\n",
    "\n",
    "- Removing deterministic trend\n",
    "    - subtracting\n",
    "    - dividing\n",
    "- Removing Simple/Exponential Moving Average\n",
    "    - subtracting\n",
    "    - dividing\n",
    "\n",
    "Deterministic trend model is defined below:\n",
    "\n",
    " y<sub>t</sub> = β<sub>0</sub> + β<sub>1</sub>Trend + β<sub>2</sub>Trend<sup>2</sup> + ... β<sub>n</sub>Trend<sup>n</sup> + ε<sub>t</sub>\n",
    "\n",
    "Simple Moving Average process is defined as below;\n",
    "\n",
    "MA<sub>t</sub> = (y<sub>t</sub> + y<sub>t-1</sub> ... y<sub>t-n</sub>) / n\n",
    "\n",
    "Exponential Moving Average process is defined as below;\n",
    "\n",
    "EMA<sub>t</sub> = αy<sub>t</sub> + (1-α)EMA<sub>t-1</sub>"
   ]
  },
  {
   "cell_type": "code",
   "execution_count": null,
   "metadata": {},
   "outputs": [],
   "source": [
    "usdtry = connector.get_series(\"usdtry\",\n",
    "                              start_date=\"01.06.2022\",\n",
    "                              end_date=\"30.06.2022\",\n",
    "                              frequency=\"B\")"
   ]
  },
  {
   "cell_type": "code",
   "execution_count": 16,
   "metadata": {},
   "outputs": [],
   "source": [
    "# this gives you [usdtry - (usdtry_forecast = b0 + b1Trend*usdtry)]\n",
    "det_usdtry = transformator.decompose(usdtry, degree=1, source='trend', method='subtract')"
   ]
  },
  {
   "cell_type": "code",
   "execution_count": 17,
   "metadata": {},
   "outputs": [
    {
     "data": {
      "text/html": [
       "<div>\n",
       "<style scoped>\n",
       "    .dataframe tbody tr th:only-of-type {\n",
       "        vertical-align: middle;\n",
       "    }\n",
       "\n",
       "    .dataframe tbody tr th {\n",
       "        vertical-align: top;\n",
       "    }\n",
       "\n",
       "    .dataframe thead th {\n",
       "        text-align: right;\n",
       "    }\n",
       "</style>\n",
       "<table border=\"1\" class=\"dataframe\">\n",
       "  <thead>\n",
       "    <tr style=\"text-align: right;\">\n",
       "      <th></th>\n",
       "      <th>USDTRY</th>\n",
       "      <th>USDTRY_DET</th>\n",
       "    </tr>\n",
       "    <tr>\n",
       "      <th>Date</th>\n",
       "      <th></th>\n",
       "      <th></th>\n",
       "    </tr>\n",
       "  </thead>\n",
       "  <tbody>\n",
       "    <tr>\n",
       "      <th>2022-06-01</th>\n",
       "      <td>16.387600</td>\n",
       "      <td>-0.2946</td>\n",
       "    </tr>\n",
       "    <tr>\n",
       "      <th>2022-06-02</th>\n",
       "      <td>16.412701</td>\n",
       "      <td>-0.2964</td>\n",
       "    </tr>\n",
       "    <tr>\n",
       "      <th>2022-06-03</th>\n",
       "      <td>16.438999</td>\n",
       "      <td>-0.2970</td>\n",
       "    </tr>\n",
       "    <tr>\n",
       "      <th>2022-06-06</th>\n",
       "      <td>16.476500</td>\n",
       "      <td>-0.2864</td>\n",
       "    </tr>\n",
       "    <tr>\n",
       "      <th>2022-06-07</th>\n",
       "      <td>16.558800</td>\n",
       "      <td>-0.2310</td>\n",
       "    </tr>\n",
       "  </tbody>\n",
       "</table>\n",
       "</div>"
      ],
      "text/plain": [
       "               USDTRY  USDTRY_DET\n",
       "Date                             \n",
       "2022-06-01  16.387600     -0.2946\n",
       "2022-06-02  16.412701     -0.2964\n",
       "2022-06-03  16.438999     -0.2970\n",
       "2022-06-06  16.476500     -0.2864\n",
       "2022-06-07  16.558800     -0.2310"
      ]
     },
     "execution_count": 17,
     "metadata": {},
     "output_type": "execute_result"
    }
   ],
   "source": [
    "det_usdtry.head()"
   ]
  },
  {
   "cell_type": "code",
   "execution_count": 18,
   "metadata": {},
   "outputs": [],
   "source": [
    "# this gives you [usdtry - (usdtry_forecast = b0 + b1Trend*usdtry + b2Trend^2*usdtry)]\n",
    "det_usdtry_2 = transformator.decompose(usdtry, degree=2, source='trend', method='subtract')"
   ]
  },
  {
   "cell_type": "code",
   "execution_count": 19,
   "metadata": {},
   "outputs": [
    {
     "data": {
      "text/html": [
       "<div>\n",
       "<style scoped>\n",
       "    .dataframe tbody tr th:only-of-type {\n",
       "        vertical-align: middle;\n",
       "    }\n",
       "\n",
       "    .dataframe tbody tr th {\n",
       "        vertical-align: top;\n",
       "    }\n",
       "\n",
       "    .dataframe thead th {\n",
       "        text-align: right;\n",
       "    }\n",
       "</style>\n",
       "<table border=\"1\" class=\"dataframe\">\n",
       "  <thead>\n",
       "    <tr style=\"text-align: right;\">\n",
       "      <th></th>\n",
       "      <th>USDTRY</th>\n",
       "      <th>USDTRY_DET</th>\n",
       "    </tr>\n",
       "    <tr>\n",
       "      <th>Date</th>\n",
       "      <th></th>\n",
       "      <th></th>\n",
       "    </tr>\n",
       "  </thead>\n",
       "  <tbody>\n",
       "    <tr>\n",
       "      <th>2022-06-01</th>\n",
       "      <td>16.387600</td>\n",
       "      <td>0.2512</td>\n",
       "    </tr>\n",
       "    <tr>\n",
       "      <th>2022-06-02</th>\n",
       "      <td>16.412701</td>\n",
       "      <td>-0.3346</td>\n",
       "    </tr>\n",
       "    <tr>\n",
       "      <th>2022-06-03</th>\n",
       "      <td>16.438999</td>\n",
       "      <td>-1.3318</td>\n",
       "    </tr>\n",
       "    <tr>\n",
       "      <th>2022-06-06</th>\n",
       "      <td>16.476500</td>\n",
       "      <td>-2.7303</td>\n",
       "    </tr>\n",
       "    <tr>\n",
       "      <th>2022-06-07</th>\n",
       "      <td>16.558800</td>\n",
       "      <td>-4.4965</td>\n",
       "    </tr>\n",
       "  </tbody>\n",
       "</table>\n",
       "</div>"
      ],
      "text/plain": [
       "               USDTRY  USDTRY_DET\n",
       "Date                             \n",
       "2022-06-01  16.387600      0.2512\n",
       "2022-06-02  16.412701     -0.3346\n",
       "2022-06-03  16.438999     -1.3318\n",
       "2022-06-06  16.476500     -2.7303\n",
       "2022-06-07  16.558800     -4.4965"
      ]
     },
     "execution_count": 19,
     "metadata": {},
     "output_type": "execute_result"
    }
   ],
   "source": [
    "det_usdtry_2.head()"
   ]
  },
  {
   "cell_type": "code",
   "execution_count": 20,
   "metadata": {},
   "outputs": [],
   "source": [
    "# this gives you [usdtry / (usdtry_forecast = b0 + b1Trend*usdtry)]\n",
    "det_usdtry_dv = transformator.decompose(usdtry, degree=1, source='trend', method='divide')"
   ]
  },
  {
   "cell_type": "code",
   "execution_count": 21,
   "metadata": {},
   "outputs": [
    {
     "data": {
      "text/html": [
       "<div>\n",
       "<style scoped>\n",
       "    .dataframe tbody tr th:only-of-type {\n",
       "        vertical-align: middle;\n",
       "    }\n",
       "\n",
       "    .dataframe tbody tr th {\n",
       "        vertical-align: top;\n",
       "    }\n",
       "\n",
       "    .dataframe thead th {\n",
       "        text-align: right;\n",
       "    }\n",
       "</style>\n",
       "<table border=\"1\" class=\"dataframe\">\n",
       "  <thead>\n",
       "    <tr style=\"text-align: right;\">\n",
       "      <th></th>\n",
       "      <th>USDTRY</th>\n",
       "      <th>USDTRY_DET</th>\n",
       "    </tr>\n",
       "    <tr>\n",
       "      <th>Date</th>\n",
       "      <th></th>\n",
       "      <th></th>\n",
       "    </tr>\n",
       "  </thead>\n",
       "  <tbody>\n",
       "    <tr>\n",
       "      <th>2022-06-01</th>\n",
       "      <td>16.387600</td>\n",
       "      <td>0.9823</td>\n",
       "    </tr>\n",
       "    <tr>\n",
       "      <th>2022-06-02</th>\n",
       "      <td>16.412701</td>\n",
       "      <td>0.9823</td>\n",
       "    </tr>\n",
       "    <tr>\n",
       "      <th>2022-06-03</th>\n",
       "      <td>16.438999</td>\n",
       "      <td>0.9823</td>\n",
       "    </tr>\n",
       "    <tr>\n",
       "      <th>2022-06-06</th>\n",
       "      <td>16.476500</td>\n",
       "      <td>0.9829</td>\n",
       "    </tr>\n",
       "    <tr>\n",
       "      <th>2022-06-07</th>\n",
       "      <td>16.558800</td>\n",
       "      <td>0.9862</td>\n",
       "    </tr>\n",
       "  </tbody>\n",
       "</table>\n",
       "</div>"
      ],
      "text/plain": [
       "               USDTRY  USDTRY_DET\n",
       "Date                             \n",
       "2022-06-01  16.387600      0.9823\n",
       "2022-06-02  16.412701      0.9823\n",
       "2022-06-03  16.438999      0.9823\n",
       "2022-06-06  16.476500      0.9829\n",
       "2022-06-07  16.558800      0.9862"
      ]
     },
     "execution_count": 21,
     "metadata": {},
     "output_type": "execute_result"
    }
   ],
   "source": [
    "det_usdtry_dv.head()"
   ]
  },
  {
   "cell_type": "code",
   "execution_count": 24,
   "metadata": {},
   "outputs": [],
   "source": [
    "# this gives you [usdtry - simple moving average(usdtry, window=2)]\n",
    "# degree parameter is representing the sma window here\n",
    "det_usdtry_sma = transformator.decompose(usdtry, degree=2, source='sma', method='subtract')"
   ]
  },
  {
   "cell_type": "code",
   "execution_count": 25,
   "metadata": {},
   "outputs": [
    {
     "data": {
      "text/html": [
       "<div>\n",
       "<style scoped>\n",
       "    .dataframe tbody tr th:only-of-type {\n",
       "        vertical-align: middle;\n",
       "    }\n",
       "\n",
       "    .dataframe tbody tr th {\n",
       "        vertical-align: top;\n",
       "    }\n",
       "\n",
       "    .dataframe thead th {\n",
       "        text-align: right;\n",
       "    }\n",
       "</style>\n",
       "<table border=\"1\" class=\"dataframe\">\n",
       "  <thead>\n",
       "    <tr style=\"text-align: right;\">\n",
       "      <th></th>\n",
       "      <th>USDTRY</th>\n",
       "      <th>USDTRY_DET</th>\n",
       "    </tr>\n",
       "    <tr>\n",
       "      <th>Date</th>\n",
       "      <th></th>\n",
       "      <th></th>\n",
       "    </tr>\n",
       "  </thead>\n",
       "  <tbody>\n",
       "    <tr>\n",
       "      <th>2022-06-01</th>\n",
       "      <td>16.387600</td>\n",
       "      <td>0.0000</td>\n",
       "    </tr>\n",
       "    <tr>\n",
       "      <th>2022-06-02</th>\n",
       "      <td>16.412701</td>\n",
       "      <td>0.0125</td>\n",
       "    </tr>\n",
       "    <tr>\n",
       "      <th>2022-06-03</th>\n",
       "      <td>16.438999</td>\n",
       "      <td>0.0132</td>\n",
       "    </tr>\n",
       "    <tr>\n",
       "      <th>2022-06-06</th>\n",
       "      <td>16.476500</td>\n",
       "      <td>0.0188</td>\n",
       "    </tr>\n",
       "    <tr>\n",
       "      <th>2022-06-07</th>\n",
       "      <td>16.558800</td>\n",
       "      <td>0.0412</td>\n",
       "    </tr>\n",
       "  </tbody>\n",
       "</table>\n",
       "</div>"
      ],
      "text/plain": [
       "               USDTRY  USDTRY_DET\n",
       "Date                             \n",
       "2022-06-01  16.387600      0.0000\n",
       "2022-06-02  16.412701      0.0125\n",
       "2022-06-03  16.438999      0.0132\n",
       "2022-06-06  16.476500      0.0188\n",
       "2022-06-07  16.558800      0.0412"
      ]
     },
     "execution_count": 25,
     "metadata": {},
     "output_type": "execute_result"
    }
   ],
   "source": [
    "det_usdtry_sma.head()"
   ]
  },
  {
   "cell_type": "code",
   "execution_count": 26,
   "metadata": {},
   "outputs": [],
   "source": [
    "# this gives you [usdtry - exponential moving average(usdtry, window=2)]\n",
    "# degree parameter is representing the ema window here\n",
    "det_usdtry_ema = transformator.decompose(usdtry, degree=2, source='ema', method='subtract')"
   ]
  },
  {
   "cell_type": "code",
   "execution_count": 27,
   "metadata": {},
   "outputs": [
    {
     "data": {
      "text/html": [
       "<div>\n",
       "<style scoped>\n",
       "    .dataframe tbody tr th:only-of-type {\n",
       "        vertical-align: middle;\n",
       "    }\n",
       "\n",
       "    .dataframe tbody tr th {\n",
       "        vertical-align: top;\n",
       "    }\n",
       "\n",
       "    .dataframe thead th {\n",
       "        text-align: right;\n",
       "    }\n",
       "</style>\n",
       "<table border=\"1\" class=\"dataframe\">\n",
       "  <thead>\n",
       "    <tr style=\"text-align: right;\">\n",
       "      <th></th>\n",
       "      <th>USDTRY</th>\n",
       "      <th>USDTRY_DET</th>\n",
       "    </tr>\n",
       "    <tr>\n",
       "      <th>Date</th>\n",
       "      <th></th>\n",
       "      <th></th>\n",
       "    </tr>\n",
       "  </thead>\n",
       "  <tbody>\n",
       "    <tr>\n",
       "      <th>2022-06-01</th>\n",
       "      <td>16.387600</td>\n",
       "      <td>0.0000</td>\n",
       "    </tr>\n",
       "    <tr>\n",
       "      <th>2022-06-02</th>\n",
       "      <td>16.412701</td>\n",
       "      <td>0.0084</td>\n",
       "    </tr>\n",
       "    <tr>\n",
       "      <th>2022-06-03</th>\n",
       "      <td>16.438999</td>\n",
       "      <td>0.0116</td>\n",
       "    </tr>\n",
       "    <tr>\n",
       "      <th>2022-06-06</th>\n",
       "      <td>16.476500</td>\n",
       "      <td>0.0164</td>\n",
       "    </tr>\n",
       "    <tr>\n",
       "      <th>2022-06-07</th>\n",
       "      <td>16.558800</td>\n",
       "      <td>0.0329</td>\n",
       "    </tr>\n",
       "  </tbody>\n",
       "</table>\n",
       "</div>"
      ],
      "text/plain": [
       "               USDTRY  USDTRY_DET\n",
       "Date                             \n",
       "2022-06-01  16.387600      0.0000\n",
       "2022-06-02  16.412701      0.0084\n",
       "2022-06-03  16.438999      0.0116\n",
       "2022-06-06  16.476500      0.0164\n",
       "2022-06-07  16.558800      0.0329"
      ]
     },
     "execution_count": 27,
     "metadata": {},
     "output_type": "execute_result"
    }
   ],
   "source": [
    "det_usdtry_ema.head()"
   ]
  },
  {
   "cell_type": "markdown",
   "metadata": {},
   "source": [
    "`decompose()`, can be used for multi-dimentional series as well."
   ]
  },
  {
   "cell_type": "code",
   "execution_count": null,
   "metadata": {},
   "outputs": [],
   "source": [
    "rates = connector.get_series(\"usdtry, eurtry\",\n",
    "                              start_date=\"01.06.2022\",\n",
    "                              end_date=\"30.06.2022\",\n",
    "                              frequency=\"B\")"
   ]
  },
  {
   "cell_type": "code",
   "execution_count": 28,
   "metadata": {},
   "outputs": [],
   "source": [
    "# this gives you decomposed series for both usdtry and eurtry\n",
    "det_rates = transformator.decompose(rates, degree=1, source='trend', method='subtract', precision=4)"
   ]
  },
  {
   "cell_type": "code",
   "execution_count": 29,
   "metadata": {},
   "outputs": [
    {
     "data": {
      "text/html": [
       "<div>\n",
       "<style scoped>\n",
       "    .dataframe tbody tr th:only-of-type {\n",
       "        vertical-align: middle;\n",
       "    }\n",
       "\n",
       "    .dataframe tbody tr th {\n",
       "        vertical-align: top;\n",
       "    }\n",
       "\n",
       "    .dataframe thead th {\n",
       "        text-align: right;\n",
       "    }\n",
       "</style>\n",
       "<table border=\"1\" class=\"dataframe\">\n",
       "  <thead>\n",
       "    <tr style=\"text-align: right;\">\n",
       "      <th></th>\n",
       "      <th>USDTRY</th>\n",
       "      <th>EURTRY</th>\n",
       "      <th>USDTRY_DET</th>\n",
       "      <th>EURTRY_DET</th>\n",
       "    </tr>\n",
       "    <tr>\n",
       "      <th>Date</th>\n",
       "      <th></th>\n",
       "      <th></th>\n",
       "      <th></th>\n",
       "      <th></th>\n",
       "    </tr>\n",
       "  </thead>\n",
       "  <tbody>\n",
       "    <tr>\n",
       "      <th>2022-06-01</th>\n",
       "      <td>16.387600</td>\n",
       "      <td>17.5702</td>\n",
       "      <td>-0.2946</td>\n",
       "      <td>-0.2886</td>\n",
       "    </tr>\n",
       "    <tr>\n",
       "      <th>2022-06-02</th>\n",
       "      <td>16.412701</td>\n",
       "      <td>17.5916</td>\n",
       "      <td>-0.2964</td>\n",
       "      <td>-0.2767</td>\n",
       "    </tr>\n",
       "    <tr>\n",
       "      <th>2022-06-03</th>\n",
       "      <td>16.438999</td>\n",
       "      <td>17.5700</td>\n",
       "      <td>-0.2970</td>\n",
       "      <td>-0.3079</td>\n",
       "    </tr>\n",
       "    <tr>\n",
       "      <th>2022-06-06</th>\n",
       "      <td>16.476500</td>\n",
       "      <td>17.7066</td>\n",
       "      <td>-0.2864</td>\n",
       "      <td>-0.1809</td>\n",
       "    </tr>\n",
       "    <tr>\n",
       "      <th>2022-06-07</th>\n",
       "      <td>16.558800</td>\n",
       "      <td>17.7785</td>\n",
       "      <td>-0.2310</td>\n",
       "      <td>-0.1185</td>\n",
       "    </tr>\n",
       "  </tbody>\n",
       "</table>\n",
       "</div>"
      ],
      "text/plain": [
       "               USDTRY   EURTRY  USDTRY_DET  EURTRY_DET\n",
       "Date                                                  \n",
       "2022-06-01  16.387600  17.5702     -0.2946     -0.2886\n",
       "2022-06-02  16.412701  17.5916     -0.2964     -0.2767\n",
       "2022-06-03  16.438999  17.5700     -0.2970     -0.3079\n",
       "2022-06-06  16.476500  17.7066     -0.2864     -0.1809\n",
       "2022-06-07  16.558800  17.7785     -0.2310     -0.1185"
      ]
     },
     "execution_count": 29,
     "metadata": {},
     "output_type": "execute_result"
    }
   ],
   "source": [
    "det_rates.head()"
   ]
  },
  {
   "cell_type": "markdown",
   "metadata": {},
   "source": [
    "#### 4.8. [__Simple Moving Average: MA<sub>t</sub>(n) = (y<sub>t</sub> + y<sub>t-1</sub> ... y<sub>t-n</sub>) / n__](https://github.com/syncoding/evdsts/blob/master/docs/manuals/manual_en.md#smooth-sma)"
   ]
  },
  {
   "cell_type": "markdown",
   "metadata": {},
   "source": [
    "You can get _Simple Moving Average_ smoothed series through `sma()` method of `Transformator`. Moving\n",
    "Averages, in general, are good for observing the main streams in series discarding the high frequency\n",
    "oscillations (can be seen as noises) around the expected values of the series since it smooths out the\n",
    "excess volatilities. __SMA__ gives the same weights to the observations for given time window and can\n",
    "be seen as an insensitive process to excess recent value deviations in time.\n",
    "\n",
    "The full fingerprint of the process is;\n",
    "\n",
    "MA<sub>t</sub>(n) = (y<sub>t</sub> + y<sub>t-1</sub> ... y<sub>t-n</sub>) / n"
   ]
  },
  {
   "cell_type": "code",
   "execution_count": null,
   "metadata": {},
   "outputs": [],
   "source": [
    "usdtry = connector.get_series(\"usdtry\",\n",
    "                              start_date=\"01.06.2022\",\n",
    "                              end_date=\"30.06.2022\",\n",
    "                              frequency=\"B\")"
   ]
  },
  {
   "cell_type": "code",
   "execution_count": 31,
   "metadata": {},
   "outputs": [],
   "source": [
    "# this gives you sma(5), windows parameters represents 'n' here.\n",
    "usdtry_sma5 = transformator.sma(usdtry, window=5)"
   ]
  },
  {
   "cell_type": "code",
   "execution_count": 32,
   "metadata": {},
   "outputs": [
    {
     "data": {
      "text/html": [
       "<div>\n",
       "<style scoped>\n",
       "    .dataframe tbody tr th:only-of-type {\n",
       "        vertical-align: middle;\n",
       "    }\n",
       "\n",
       "    .dataframe tbody tr th {\n",
       "        vertical-align: top;\n",
       "    }\n",
       "\n",
       "    .dataframe thead th {\n",
       "        text-align: right;\n",
       "    }\n",
       "</style>\n",
       "<table border=\"1\" class=\"dataframe\">\n",
       "  <thead>\n",
       "    <tr style=\"text-align: right;\">\n",
       "      <th></th>\n",
       "      <th>USDTRY</th>\n",
       "      <th>USDTRY_SMA_5</th>\n",
       "    </tr>\n",
       "    <tr>\n",
       "      <th>Date</th>\n",
       "      <th></th>\n",
       "      <th></th>\n",
       "    </tr>\n",
       "  </thead>\n",
       "  <tbody>\n",
       "    <tr>\n",
       "      <th>2022-06-01</th>\n",
       "      <td>16.387600</td>\n",
       "      <td>16.387600</td>\n",
       "    </tr>\n",
       "    <tr>\n",
       "      <th>2022-06-02</th>\n",
       "      <td>16.412701</td>\n",
       "      <td>16.400200</td>\n",
       "    </tr>\n",
       "    <tr>\n",
       "      <th>2022-06-03</th>\n",
       "      <td>16.438999</td>\n",
       "      <td>16.413099</td>\n",
       "    </tr>\n",
       "    <tr>\n",
       "      <th>2022-06-06</th>\n",
       "      <td>16.476500</td>\n",
       "      <td>16.428900</td>\n",
       "    </tr>\n",
       "    <tr>\n",
       "      <th>2022-06-07</th>\n",
       "      <td>16.558800</td>\n",
       "      <td>16.454901</td>\n",
       "    </tr>\n",
       "  </tbody>\n",
       "</table>\n",
       "</div>"
      ],
      "text/plain": [
       "               USDTRY  USDTRY_SMA_5\n",
       "Date                               \n",
       "2022-06-01  16.387600     16.387600\n",
       "2022-06-02  16.412701     16.400200\n",
       "2022-06-03  16.438999     16.413099\n",
       "2022-06-06  16.476500     16.428900\n",
       "2022-06-07  16.558800     16.454901"
      ]
     },
     "execution_count": 32,
     "metadata": {},
     "output_type": "execute_result"
    }
   ],
   "source": [
    "usdtry_sma5.head()"
   ]
  },
  {
   "cell_type": "markdown",
   "metadata": {},
   "source": [
    "`sma()`, can be used for multi-dimentional series as well."
   ]
  },
  {
   "cell_type": "code",
   "execution_count": null,
   "metadata": {},
   "outputs": [],
   "source": [
    "rates = connector.get_series(\"usdtry, eurtry\",\n",
    "                              start_date=\"01.06.2022\",\n",
    "                              end_date=\"30.06.2022\",\n",
    "                              frequency=\"B\")"
   ]
  },
  {
   "cell_type": "code",
   "execution_count": 34,
   "metadata": {},
   "outputs": [],
   "source": [
    "# this gives you 10 daily simple moving averages of both usdtry and eurtry\n",
    "rates_sma = transformator.sma(rates, window=10, precision=2)"
   ]
  },
  {
   "cell_type": "code",
   "execution_count": 35,
   "metadata": {},
   "outputs": [
    {
     "data": {
      "text/html": [
       "<div>\n",
       "<style scoped>\n",
       "    .dataframe tbody tr th:only-of-type {\n",
       "        vertical-align: middle;\n",
       "    }\n",
       "\n",
       "    .dataframe tbody tr th {\n",
       "        vertical-align: top;\n",
       "    }\n",
       "\n",
       "    .dataframe thead th {\n",
       "        text-align: right;\n",
       "    }\n",
       "</style>\n",
       "<table border=\"1\" class=\"dataframe\">\n",
       "  <thead>\n",
       "    <tr style=\"text-align: right;\">\n",
       "      <th></th>\n",
       "      <th>USDTRY</th>\n",
       "      <th>EURTRY</th>\n",
       "      <th>USDTRY_SMA_10</th>\n",
       "      <th>EURTRY_SMA_10</th>\n",
       "    </tr>\n",
       "    <tr>\n",
       "      <th>Date</th>\n",
       "      <th></th>\n",
       "      <th></th>\n",
       "      <th></th>\n",
       "      <th></th>\n",
       "    </tr>\n",
       "  </thead>\n",
       "  <tbody>\n",
       "    <tr>\n",
       "      <th>2022-06-01</th>\n",
       "      <td>16.387600</td>\n",
       "      <td>17.5702</td>\n",
       "      <td>16.389999</td>\n",
       "      <td>17.570000</td>\n",
       "    </tr>\n",
       "    <tr>\n",
       "      <th>2022-06-02</th>\n",
       "      <td>16.412701</td>\n",
       "      <td>17.5916</td>\n",
       "      <td>16.400000</td>\n",
       "      <td>17.580000</td>\n",
       "    </tr>\n",
       "    <tr>\n",
       "      <th>2022-06-03</th>\n",
       "      <td>16.438999</td>\n",
       "      <td>17.5700</td>\n",
       "      <td>16.410000</td>\n",
       "      <td>17.580000</td>\n",
       "    </tr>\n",
       "    <tr>\n",
       "      <th>2022-06-06</th>\n",
       "      <td>16.476500</td>\n",
       "      <td>17.7066</td>\n",
       "      <td>16.430000</td>\n",
       "      <td>17.610001</td>\n",
       "    </tr>\n",
       "    <tr>\n",
       "      <th>2022-06-07</th>\n",
       "      <td>16.558800</td>\n",
       "      <td>17.7785</td>\n",
       "      <td>16.450001</td>\n",
       "      <td>17.639999</td>\n",
       "    </tr>\n",
       "  </tbody>\n",
       "</table>\n",
       "</div>"
      ],
      "text/plain": [
       "               USDTRY   EURTRY  USDTRY_SMA_10  EURTRY_SMA_10\n",
       "Date                                                        \n",
       "2022-06-01  16.387600  17.5702      16.389999      17.570000\n",
       "2022-06-02  16.412701  17.5916      16.400000      17.580000\n",
       "2022-06-03  16.438999  17.5700      16.410000      17.580000\n",
       "2022-06-06  16.476500  17.7066      16.430000      17.610001\n",
       "2022-06-07  16.558800  17.7785      16.450001      17.639999"
      ]
     },
     "execution_count": 35,
     "metadata": {},
     "output_type": "execute_result"
    }
   ],
   "source": [
    "rates_sma.head()"
   ]
  },
  {
   "cell_type": "markdown",
   "metadata": {},
   "source": [
    "#### 4.9. [__Exponential Moving Average: EMA<sub>t</sub>(n) = αy<sub>t</sub> + (1-α)EMA<sub>t-1</sub>__](https://github.com/syncoding/evdsts/blob/master/docs/manuals/manual_en.md#smooth-ema)"
   ]
  },
  {
   "cell_type": "markdown",
   "metadata": {},
   "source": [
    "You can get _Exponential Moving Average_ smoothed series through `ema()` method of `Transformator`.\n",
    "Moving Averages, in general, are good for observing the main streams in series discarding the high\n",
    "frequency oscillations (can be seen as noises) around the expected values of the series since it\n",
    "smooths out the excess volatilities. __EMA__ gives more weights to recent observations for given time\n",
    "window (or called span) and, therefore can be seen a sensitive process to excess recent value\n",
    "deviations in time. That may help to detect regime shifs (or structural changes) earlier than SMA\n",
    "can do.\n",
    "\n",
    "The full fingerprint of the proces is:\n",
    "\n",
    "EMA<sub>0</sub> = y<sub>0</sub>  \n",
    "EMA<sub>t</sub>(n) = αy<sub>t</sub> + (1-α)EMA<sub>t-1</sub>, t: 1...t  \n",
    "α = 2 / (1 + n)"
   ]
  },
  {
   "cell_type": "code",
   "execution_count": null,
   "metadata": {},
   "outputs": [],
   "source": [
    "usdtry = connector.get_series(\"usdtry\",\n",
    "                              start_date=\"01.06.2022\",\n",
    "                              end_date=\"30.06.2022\",\n",
    "                              frequency=\"B\")"
   ]
  },
  {
   "cell_type": "code",
   "execution_count": 36,
   "metadata": {},
   "outputs": [],
   "source": [
    "# this gives you ema(5)\n",
    "usdtry_ema5 = transformator.ema(usdtry, window=5)"
   ]
  },
  {
   "cell_type": "code",
   "execution_count": 37,
   "metadata": {},
   "outputs": [
    {
     "data": {
      "text/html": [
       "<div>\n",
       "<style scoped>\n",
       "    .dataframe tbody tr th:only-of-type {\n",
       "        vertical-align: middle;\n",
       "    }\n",
       "\n",
       "    .dataframe tbody tr th {\n",
       "        vertical-align: top;\n",
       "    }\n",
       "\n",
       "    .dataframe thead th {\n",
       "        text-align: right;\n",
       "    }\n",
       "</style>\n",
       "<table border=\"1\" class=\"dataframe\">\n",
       "  <thead>\n",
       "    <tr style=\"text-align: right;\">\n",
       "      <th></th>\n",
       "      <th>USDTRY</th>\n",
       "      <th>USDTRY_EMA_5</th>\n",
       "    </tr>\n",
       "    <tr>\n",
       "      <th>Date</th>\n",
       "      <th></th>\n",
       "      <th></th>\n",
       "    </tr>\n",
       "  </thead>\n",
       "  <tbody>\n",
       "    <tr>\n",
       "      <th>2022-06-01</th>\n",
       "      <td>16.387600</td>\n",
       "      <td>16.387600</td>\n",
       "    </tr>\n",
       "    <tr>\n",
       "      <th>2022-06-02</th>\n",
       "      <td>16.412701</td>\n",
       "      <td>16.396000</td>\n",
       "    </tr>\n",
       "    <tr>\n",
       "      <th>2022-06-03</th>\n",
       "      <td>16.438999</td>\n",
       "      <td>16.410299</td>\n",
       "    </tr>\n",
       "    <tr>\n",
       "      <th>2022-06-06</th>\n",
       "      <td>16.476500</td>\n",
       "      <td>16.432400</td>\n",
       "    </tr>\n",
       "    <tr>\n",
       "      <th>2022-06-07</th>\n",
       "      <td>16.558800</td>\n",
       "      <td>16.474501</td>\n",
       "    </tr>\n",
       "  </tbody>\n",
       "</table>\n",
       "</div>"
      ],
      "text/plain": [
       "               USDTRY  USDTRY_EMA_5\n",
       "Date                               \n",
       "2022-06-01  16.387600     16.387600\n",
       "2022-06-02  16.412701     16.396000\n",
       "2022-06-03  16.438999     16.410299\n",
       "2022-06-06  16.476500     16.432400\n",
       "2022-06-07  16.558800     16.474501"
      ]
     },
     "execution_count": 37,
     "metadata": {},
     "output_type": "execute_result"
    }
   ],
   "source": [
    "usdtry_ema5.head()"
   ]
  },
  {
   "cell_type": "code",
   "execution_count": 40,
   "metadata": {},
   "outputs": [],
   "source": [
    "# this also gives you ema(5) since alpha = 2 / (1 + n)\n",
    "usdtry_ema5 = transformator.ema(usdtry, alpha=0.333)"
   ]
  },
  {
   "cell_type": "code",
   "execution_count": 41,
   "metadata": {},
   "outputs": [
    {
     "data": {
      "text/html": [
       "<div>\n",
       "<style scoped>\n",
       "    .dataframe tbody tr th:only-of-type {\n",
       "        vertical-align: middle;\n",
       "    }\n",
       "\n",
       "    .dataframe tbody tr th {\n",
       "        vertical-align: top;\n",
       "    }\n",
       "\n",
       "    .dataframe thead th {\n",
       "        text-align: right;\n",
       "    }\n",
       "</style>\n",
       "<table border=\"1\" class=\"dataframe\">\n",
       "  <thead>\n",
       "    <tr style=\"text-align: right;\">\n",
       "      <th></th>\n",
       "      <th>USDTRY</th>\n",
       "      <th>USDTRY_EMA_A0_333</th>\n",
       "    </tr>\n",
       "    <tr>\n",
       "      <th>Date</th>\n",
       "      <th></th>\n",
       "      <th></th>\n",
       "    </tr>\n",
       "  </thead>\n",
       "  <tbody>\n",
       "    <tr>\n",
       "      <th>2022-06-01</th>\n",
       "      <td>16.387600</td>\n",
       "      <td>16.387600</td>\n",
       "    </tr>\n",
       "    <tr>\n",
       "      <th>2022-06-02</th>\n",
       "      <td>16.412701</td>\n",
       "      <td>16.396000</td>\n",
       "    </tr>\n",
       "    <tr>\n",
       "      <th>2022-06-03</th>\n",
       "      <td>16.438999</td>\n",
       "      <td>16.410299</td>\n",
       "    </tr>\n",
       "    <tr>\n",
       "      <th>2022-06-06</th>\n",
       "      <td>16.476500</td>\n",
       "      <td>16.432301</td>\n",
       "    </tr>\n",
       "    <tr>\n",
       "      <th>2022-06-07</th>\n",
       "      <td>16.558800</td>\n",
       "      <td>16.474501</td>\n",
       "    </tr>\n",
       "  </tbody>\n",
       "</table>\n",
       "</div>"
      ],
      "text/plain": [
       "               USDTRY  USDTRY_EMA_A0_333\n",
       "Date                                    \n",
       "2022-06-01  16.387600          16.387600\n",
       "2022-06-02  16.412701          16.396000\n",
       "2022-06-03  16.438999          16.410299\n",
       "2022-06-06  16.476500          16.432301\n",
       "2022-06-07  16.558800          16.474501"
      ]
     },
     "execution_count": 41,
     "metadata": {},
     "output_type": "execute_result"
    }
   ],
   "source": [
    "usdtry_ema5.head()"
   ]
  },
  {
   "cell_type": "markdown",
   "metadata": {},
   "source": [
    "`ema()`, can be used for multi-dimentional series as well."
   ]
  },
  {
   "cell_type": "code",
   "execution_count": null,
   "metadata": {},
   "outputs": [],
   "source": [
    "rates = connector.get_series(\"usdtry, eurtry\",\n",
    "                              start_date=\"01.06.2022\",\n",
    "                              end_date=\"30.06.2022\",\n",
    "                              frequency=\"B\")"
   ]
  },
  {
   "cell_type": "code",
   "execution_count": 50,
   "metadata": {},
   "outputs": [],
   "source": [
    "# this gives you 10 daily exponential moving average series of both usdtry and eurtry\n",
    "rates_ema_10 = transformator.ema(rates, window=10, precision=3)"
   ]
  },
  {
   "cell_type": "code",
   "execution_count": 51,
   "metadata": {},
   "outputs": [
    {
     "data": {
      "text/html": [
       "<div>\n",
       "<style scoped>\n",
       "    .dataframe tbody tr th:only-of-type {\n",
       "        vertical-align: middle;\n",
       "    }\n",
       "\n",
       "    .dataframe tbody tr th {\n",
       "        vertical-align: top;\n",
       "    }\n",
       "\n",
       "    .dataframe thead th {\n",
       "        text-align: right;\n",
       "    }\n",
       "</style>\n",
       "<table border=\"1\" class=\"dataframe\">\n",
       "  <thead>\n",
       "    <tr style=\"text-align: right;\">\n",
       "      <th></th>\n",
       "      <th>USDTRY</th>\n",
       "      <th>EURTRY</th>\n",
       "      <th>USDTRY_EMA_10</th>\n",
       "      <th>EURTRY_EMA_10</th>\n",
       "    </tr>\n",
       "    <tr>\n",
       "      <th>Date</th>\n",
       "      <th></th>\n",
       "      <th></th>\n",
       "      <th></th>\n",
       "      <th></th>\n",
       "    </tr>\n",
       "  </thead>\n",
       "  <tbody>\n",
       "    <tr>\n",
       "      <th>2022-06-01</th>\n",
       "      <td>16.387600</td>\n",
       "      <td>17.5702</td>\n",
       "      <td>16.388000</td>\n",
       "      <td>17.570000</td>\n",
       "    </tr>\n",
       "    <tr>\n",
       "      <th>2022-06-02</th>\n",
       "      <td>16.412701</td>\n",
       "      <td>17.5916</td>\n",
       "      <td>16.392000</td>\n",
       "      <td>17.573999</td>\n",
       "    </tr>\n",
       "    <tr>\n",
       "      <th>2022-06-03</th>\n",
       "      <td>16.438999</td>\n",
       "      <td>17.5700</td>\n",
       "      <td>16.400999</td>\n",
       "      <td>17.573000</td>\n",
       "    </tr>\n",
       "    <tr>\n",
       "      <th>2022-06-06</th>\n",
       "      <td>16.476500</td>\n",
       "      <td>17.7066</td>\n",
       "      <td>16.414000</td>\n",
       "      <td>17.598000</td>\n",
       "    </tr>\n",
       "    <tr>\n",
       "      <th>2022-06-07</th>\n",
       "      <td>16.558800</td>\n",
       "      <td>17.7785</td>\n",
       "      <td>16.441000</td>\n",
       "      <td>17.629999</td>\n",
       "    </tr>\n",
       "  </tbody>\n",
       "</table>\n",
       "</div>"
      ],
      "text/plain": [
       "               USDTRY   EURTRY  USDTRY_EMA_10  EURTRY_EMA_10\n",
       "Date                                                        \n",
       "2022-06-01  16.387600  17.5702      16.388000      17.570000\n",
       "2022-06-02  16.412701  17.5916      16.392000      17.573999\n",
       "2022-06-03  16.438999  17.5700      16.400999      17.573000\n",
       "2022-06-06  16.476500  17.7066      16.414000      17.598000\n",
       "2022-06-07  16.558800  17.7785      16.441000      17.629999"
      ]
     },
     "execution_count": 51,
     "metadata": {},
     "output_type": "execute_result"
    }
   ],
   "source": [
    "rates_ema_10.head()"
   ]
  },
  {
   "cell_type": "markdown",
   "metadata": {},
   "source": [
    "#### 4.10. [__Rolling Vars: ROLVAR<sub>t</sub>(n) = σ<sup>2</sup>(y<sub>t</sub>, y<sub>t-1</sub> ... y<sub>t-n</sub>)__](https://github.com/syncoding/evdsts/blob/master/docs/manuals/manual_en.md#detect-rollvar)"
   ]
  },
  {
   "cell_type": "markdown",
   "metadata": {},
   "source": [
    "_Rolling Variances_ in a fixed time period (window) can be a good indication of regime or structural\n",
    "changes in series. A regime/structural change can be suspected for the series in qustion\n",
    "once an uncexpected shift is obeserved in the rolling variance. You can get rolling variances for given time\n",
    "period using `rolling_var()` method."
   ]
  },
  {
   "cell_type": "code",
   "execution_count": null,
   "metadata": {},
   "outputs": [],
   "source": [
    "usdtry = connector.get_series(\"usdtry\",\n",
    "                              start_date=\"01.06.2022\",\n",
    "                              end_date=\"30.06.2022\",\n",
    "                              frequency=\"B\")"
   ]
  },
  {
   "cell_type": "code",
   "execution_count": 52,
   "metadata": {},
   "outputs": [],
   "source": [
    "# this gives you rolling variances for 10 daily periods.\n",
    "usdtry_rolvar_10 = transformator.rolling_var(usdtry, window=10)"
   ]
  },
  {
   "cell_type": "code",
   "execution_count": 53,
   "metadata": {},
   "outputs": [
    {
     "data": {
      "text/html": [
       "<div>\n",
       "<style scoped>\n",
       "    .dataframe tbody tr th:only-of-type {\n",
       "        vertical-align: middle;\n",
       "    }\n",
       "\n",
       "    .dataframe tbody tr th {\n",
       "        vertical-align: top;\n",
       "    }\n",
       "\n",
       "    .dataframe thead th {\n",
       "        text-align: right;\n",
       "    }\n",
       "</style>\n",
       "<table border=\"1\" class=\"dataframe\">\n",
       "  <thead>\n",
       "    <tr style=\"text-align: right;\">\n",
       "      <th></th>\n",
       "      <th>USDTRY</th>\n",
       "      <th>USDTRY_ROLVAR_10</th>\n",
       "    </tr>\n",
       "    <tr>\n",
       "      <th>Date</th>\n",
       "      <th></th>\n",
       "      <th></th>\n",
       "    </tr>\n",
       "  </thead>\n",
       "  <tbody>\n",
       "    <tr>\n",
       "      <th>2022-06-01</th>\n",
       "      <td>16.387600</td>\n",
       "      <td>NaN</td>\n",
       "    </tr>\n",
       "    <tr>\n",
       "      <th>2022-06-02</th>\n",
       "      <td>16.412701</td>\n",
       "      <td>0.0003</td>\n",
       "    </tr>\n",
       "    <tr>\n",
       "      <th>2022-06-03</th>\n",
       "      <td>16.438999</td>\n",
       "      <td>0.0007</td>\n",
       "    </tr>\n",
       "    <tr>\n",
       "      <th>2022-06-06</th>\n",
       "      <td>16.476500</td>\n",
       "      <td>0.0014</td>\n",
       "    </tr>\n",
       "    <tr>\n",
       "      <th>2022-06-07</th>\n",
       "      <td>16.558800</td>\n",
       "      <td>0.0045</td>\n",
       "    </tr>\n",
       "  </tbody>\n",
       "</table>\n",
       "</div>"
      ],
      "text/plain": [
       "               USDTRY  USDTRY_ROLVAR_10\n",
       "Date                                   \n",
       "2022-06-01  16.387600               NaN\n",
       "2022-06-02  16.412701            0.0003\n",
       "2022-06-03  16.438999            0.0007\n",
       "2022-06-06  16.476500            0.0014\n",
       "2022-06-07  16.558800            0.0045"
      ]
     },
     "execution_count": 53,
     "metadata": {},
     "output_type": "execute_result"
    }
   ],
   "source": [
    "usdtry_rolvar_10.head()"
   ]
  },
  {
   "cell_type": "markdown",
   "metadata": {},
   "source": [
    "`rolling_var()`, can be used for multi-dimentional series as well."
   ]
  },
  {
   "cell_type": "code",
   "execution_count": 85,
   "metadata": {},
   "outputs": [],
   "source": [
    "rates = connector.get_series(\"usdtry, eurtry\",\n",
    "                              start_date=\"01.06.2022\",\n",
    "                              end_date=\"30.06.2022\",\n",
    "                              frequency=\"B\")"
   ]
  },
  {
   "cell_type": "code",
   "execution_count": 86,
   "metadata": {},
   "outputs": [],
   "source": [
    "# this gives you 10 daily rolling variances of both usdtry and eurtry series\n",
    "rates_rolvar = transformator.rolling_var(rates, window=10)"
   ]
  },
  {
   "cell_type": "code",
   "execution_count": 87,
   "metadata": {},
   "outputs": [
    {
     "data": {
      "text/html": [
       "<div>\n",
       "<style scoped>\n",
       "    .dataframe tbody tr th:only-of-type {\n",
       "        vertical-align: middle;\n",
       "    }\n",
       "\n",
       "    .dataframe tbody tr th {\n",
       "        vertical-align: top;\n",
       "    }\n",
       "\n",
       "    .dataframe thead th {\n",
       "        text-align: right;\n",
       "    }\n",
       "</style>\n",
       "<table border=\"1\" class=\"dataframe\">\n",
       "  <thead>\n",
       "    <tr style=\"text-align: right;\">\n",
       "      <th></th>\n",
       "      <th>USDTRY</th>\n",
       "      <th>EURTRY</th>\n",
       "      <th>USDTRY_ROLVAR_10</th>\n",
       "      <th>EURTRY_ROLVAR_10</th>\n",
       "    </tr>\n",
       "    <tr>\n",
       "      <th>Date</th>\n",
       "      <th></th>\n",
       "      <th></th>\n",
       "      <th></th>\n",
       "      <th></th>\n",
       "    </tr>\n",
       "  </thead>\n",
       "  <tbody>\n",
       "    <tr>\n",
       "      <th>2022-06-01</th>\n",
       "      <td>16.387600</td>\n",
       "      <td>17.5702</td>\n",
       "      <td>NaN</td>\n",
       "      <td>NaN</td>\n",
       "    </tr>\n",
       "    <tr>\n",
       "      <th>2022-06-02</th>\n",
       "      <td>16.412701</td>\n",
       "      <td>17.5916</td>\n",
       "      <td>0.000315</td>\n",
       "      <td>0.000229</td>\n",
       "    </tr>\n",
       "    <tr>\n",
       "      <th>2022-06-03</th>\n",
       "      <td>16.438999</td>\n",
       "      <td>17.5700</td>\n",
       "      <td>0.000661</td>\n",
       "      <td>0.000154</td>\n",
       "    </tr>\n",
       "    <tr>\n",
       "      <th>2022-06-06</th>\n",
       "      <td>16.476500</td>\n",
       "      <td>17.7066</td>\n",
       "      <td>0.001445</td>\n",
       "      <td>0.004285</td>\n",
       "    </tr>\n",
       "    <tr>\n",
       "      <th>2022-06-07</th>\n",
       "      <td>16.558800</td>\n",
       "      <td>17.7785</td>\n",
       "      <td>0.004456</td>\n",
       "      <td>0.008919</td>\n",
       "    </tr>\n",
       "  </tbody>\n",
       "</table>\n",
       "</div>"
      ],
      "text/plain": [
       "               USDTRY   EURTRY  USDTRY_ROLVAR_10  EURTRY_ROLVAR_10\n",
       "Date                                                              \n",
       "2022-06-01  16.387600  17.5702               NaN               NaN\n",
       "2022-06-02  16.412701  17.5916          0.000315          0.000229\n",
       "2022-06-03  16.438999  17.5700          0.000661          0.000154\n",
       "2022-06-06  16.476500  17.7066          0.001445          0.004285\n",
       "2022-06-07  16.558800  17.7785          0.004456          0.008919"
      ]
     },
     "execution_count": 87,
     "metadata": {},
     "output_type": "execute_result"
    }
   ],
   "source": [
    "rates_rolvar.head()"
   ]
  },
  {
   "cell_type": "markdown",
   "metadata": {},
   "source": [
    "#### 4.11. [__Rolling Correlations: ROLCORR<sub>t</sub>(n) = ρ(y<sub>t</sub>, y<sub>t-1</sub> ... y<sub>t-n</sub>)__](https://github.com/syncoding/evdsts/blob/master/docs/manuals/manual_en.md#detect-rollcorr)"
   ]
  },
  {
   "cell_type": "markdown",
   "metadata": {},
   "source": [
    "_Rolling Correlations_ in a time period (window) can be a good indication of unstable or spurious relitionships\n",
    "in series. Rolling correlations are especially useful for observing deviations from the long-term linear relitionships\n",
    "in provided series. Sever swings in observed correlations (especially sign changes) could indicate that\n",
    "the linear relitionship of two series is not stable in time, that is, no stable long-term relitionship\n",
    "is engaged in subject series and seeming long-term relitionship between the series could possible be\n",
    "unstable or spurious. You can get rolling correlations for given time period using `rolling_corr()` method."
   ]
  },
  {
   "cell_type": "markdown",
   "metadata": {},
   "source": [
    "Let's make a more detailed example here. Assume that we're curious about the relitionships between;\n",
    "`usdtry`, `eurtry` and `bist100` index."
   ]
  },
  {
   "cell_type": "markdown",
   "metadata": {},
   "source": [
    "Firstly, we need to find what is the EDDS definition of the BIST100 index to get it from EVDS;"
   ]
  },
  {
   "cell_type": "code",
   "execution_count": 62,
   "metadata": {},
   "outputs": [
    {
     "name": "stdout",
     "output_type": "stream",
     "text": [
      "5 most relevant results for 'bist 100' are shown below.\n",
      "\n",
      "                                                 Search Results                                                 \n",
      "----------------------------------------------------------------------------------------------------------------\n",
      "Series Code          Series Name                                                     Frequency        Start Date \n",
      "----------------------------------------------------------------------------------------------------------------\n",
      "TP.MK.F.BILESIK.TUM  (PRICE INDICES) BIST All Shares-100 Index (XTUMY), According to BUSINESS DAILY   02-01-2009 \n",
      "TP.MK.G.BILESIK.TUM  (RETURN INDICES) BIST All Shares-100 Index (XTUMY_CFNNTLTL), Ac BUSINESS DAILY   02-01-2009 \n",
      "TP.MK.F.BILESIK      (PRICE INDICES) BIST-100 (XU100), According to Closing Price (J BUSINESS DAILY   01-02-1986 \n",
      "TP.MK.G.BILESIK      (RETURN INDICES) BIST-100 (XU100_CFNNTLTL), According to Closin BUSINESS DAILY   02-01-1997 \n",
      "TP.MK.F.HIZMET       (PRICE INDICES) BIST-Services (XUHIZ), According to Closing Pri BUSINESS DAILY   02-01-1997 \n",
      "----------------------------------------------------------------------------------------------------------------\n"
     ]
    }
   ],
   "source": [
    "connector.where(\"bist 100\");"
   ]
  },
  {
   "cell_type": "markdown",
   "metadata": {},
   "source": [
    "the assigned name is `TP.MK.F.BILESIK` as we see on the above table. Let's save `bist100` as a reference name\n",
    "for `TP.MK.F.BILESIK`;"
   ]
  },
  {
   "cell_type": "code",
   "execution_count": 70,
   "metadata": {},
   "outputs": [
    {
     "name": "stdout",
     "output_type": "stream",
     "text": [
      "\n",
      "Below references map have been created for further use. You can use reference series names instead of original ones when retrieving data from the EVDS API service. Reference names are permanent unless this reference mapping is deleted or changed.\n",
      "\n",
      "                 References Table                 \n",
      "--------------------------------------------------\n",
      "Reference Name Represents -> Original Series Names on EVDS\n",
      "--------------------------------------------------\n",
      "bist100         ---> TP.MK.F.BILESIK\n",
      "--------------------------------------------------\n",
      "\n",
      "\n"
     ]
    }
   ],
   "source": [
    "connector.save_name_references(\"TP.MK.F.BILESIK\", \"bist100\")"
   ]
  },
  {
   "cell_type": "markdown",
   "metadata": {},
   "source": [
    "Let's get all three series for the last 2 years in weekly period to evaluate the interrelitionships."
   ]
  },
  {
   "cell_type": "code",
   "execution_count": 19,
   "metadata": {},
   "outputs": [],
   "source": [
    "# this sets the floating-point precision of connector object returns\n",
    "connector.precision = 3"
   ]
  },
  {
   "cell_type": "code",
   "execution_count": 22,
   "metadata": {},
   "outputs": [],
   "source": [
    "# series in 2 yearly period and weekly frequency\n",
    "series = connector.get_series(\"usdtry, eurtry, bist100\", period=\"2y\", frequency='W')"
   ]
  },
  {
   "cell_type": "code",
   "execution_count": 23,
   "metadata": {},
   "outputs": [
    {
     "data": {
      "text/html": [
       "<div>\n",
       "<style scoped>\n",
       "    .dataframe tbody tr th:only-of-type {\n",
       "        vertical-align: middle;\n",
       "    }\n",
       "\n",
       "    .dataframe tbody tr th {\n",
       "        vertical-align: top;\n",
       "    }\n",
       "\n",
       "    .dataframe thead th {\n",
       "        text-align: right;\n",
       "    }\n",
       "</style>\n",
       "<table border=\"1\" class=\"dataframe\">\n",
       "  <thead>\n",
       "    <tr style=\"text-align: right;\">\n",
       "      <th></th>\n",
       "      <th>USDTRY</th>\n",
       "      <th>EURTRY</th>\n",
       "      <th>BIST100</th>\n",
       "    </tr>\n",
       "    <tr>\n",
       "      <th>Date</th>\n",
       "      <th></th>\n",
       "      <th></th>\n",
       "      <th></th>\n",
       "    </tr>\n",
       "  </thead>\n",
       "  <tbody>\n",
       "    <tr>\n",
       "      <th>2020-08-28</th>\n",
       "      <td>7.317</td>\n",
       "      <td>8.648</td>\n",
       "      <td>1100.550049</td>\n",
       "    </tr>\n",
       "    <tr>\n",
       "      <th>2020-09-04</th>\n",
       "      <td>7.346</td>\n",
       "      <td>8.738</td>\n",
       "      <td>1086.319946</td>\n",
       "    </tr>\n",
       "    <tr>\n",
       "      <th>2020-09-11</th>\n",
       "      <td>7.445</td>\n",
       "      <td>8.797</td>\n",
       "      <td>1102.699951</td>\n",
       "    </tr>\n",
       "    <tr>\n",
       "      <th>2020-09-18</th>\n",
       "      <td>7.472</td>\n",
       "      <td>8.855</td>\n",
       "      <td>1111.959961</td>\n",
       "    </tr>\n",
       "    <tr>\n",
       "      <th>2020-09-25</th>\n",
       "      <td>7.610</td>\n",
       "      <td>8.943</td>\n",
       "      <td>1124.170044</td>\n",
       "    </tr>\n",
       "  </tbody>\n",
       "</table>\n",
       "</div>"
      ],
      "text/plain": [
       "            USDTRY  EURTRY      BIST100\n",
       "Date                                   \n",
       "2020-08-28   7.317   8.648  1100.550049\n",
       "2020-09-04   7.346   8.738  1086.319946\n",
       "2020-09-11   7.445   8.797  1102.699951\n",
       "2020-09-18   7.472   8.855  1111.959961\n",
       "2020-09-25   7.610   8.943  1124.170044"
      ]
     },
     "execution_count": 23,
     "metadata": {},
     "output_type": "execute_result"
    }
   ],
   "source": [
    "series.head(5)"
   ]
  },
  {
   "cell_type": "markdown",
   "metadata": {},
   "source": [
    "Now, we can evaluate the rolling correlations"
   ]
  },
  {
   "cell_type": "code",
   "execution_count": 39,
   "metadata": {},
   "outputs": [],
   "source": [
    "# rolling correlations for 20 weeks window.\n",
    "roll_corrs = transformator.rolling_corr(series, window=20, precision=4, keep_originals=False)"
   ]
  },
  {
   "cell_type": "code",
   "execution_count": 40,
   "metadata": {},
   "outputs": [
    {
     "data": {
      "text/html": [
       "<div>\n",
       "<style scoped>\n",
       "    .dataframe tbody tr th:only-of-type {\n",
       "        vertical-align: middle;\n",
       "    }\n",
       "\n",
       "    .dataframe tbody tr th {\n",
       "        vertical-align: top;\n",
       "    }\n",
       "\n",
       "    .dataframe thead th {\n",
       "        text-align: right;\n",
       "    }\n",
       "</style>\n",
       "<table border=\"1\" class=\"dataframe\">\n",
       "  <thead>\n",
       "    <tr style=\"text-align: right;\">\n",
       "      <th></th>\n",
       "      <th>USDTRY_EURTRY_RLCR_20</th>\n",
       "      <th>USDTRY_BIST100_RLCR_20</th>\n",
       "      <th>EURTRY_BIST100_RLCR_20</th>\n",
       "    </tr>\n",
       "    <tr>\n",
       "      <th>Date</th>\n",
       "      <th></th>\n",
       "      <th></th>\n",
       "      <th></th>\n",
       "    </tr>\n",
       "  </thead>\n",
       "  <tbody>\n",
       "    <tr>\n",
       "      <th>2020-08-28</th>\n",
       "      <td>NaN</td>\n",
       "      <td>NaN</td>\n",
       "      <td>NaN</td>\n",
       "    </tr>\n",
       "    <tr>\n",
       "      <th>2020-09-04</th>\n",
       "      <td>1.0000</td>\n",
       "      <td>-1.0000</td>\n",
       "      <td>-1.0000</td>\n",
       "    </tr>\n",
       "    <tr>\n",
       "      <th>2020-09-11</th>\n",
       "      <td>0.9109</td>\n",
       "      <td>0.4140</td>\n",
       "      <td>0.0015</td>\n",
       "    </tr>\n",
       "    <tr>\n",
       "      <th>2020-09-18</th>\n",
       "      <td>0.9536</td>\n",
       "      <td>0.7049</td>\n",
       "      <td>0.5253</td>\n",
       "    </tr>\n",
       "    <tr>\n",
       "      <th>2020-09-25</th>\n",
       "      <td>0.9701</td>\n",
       "      <td>0.8851</td>\n",
       "      <td>0.7877</td>\n",
       "    </tr>\n",
       "    <tr>\n",
       "      <th>...</th>\n",
       "      <td>...</td>\n",
       "      <td>...</td>\n",
       "      <td>...</td>\n",
       "    </tr>\n",
       "    <tr>\n",
       "      <th>2022-07-29</th>\n",
       "      <td>0.9548</td>\n",
       "      <td>0.5750</td>\n",
       "      <td>0.5303</td>\n",
       "    </tr>\n",
       "    <tr>\n",
       "      <th>2022-08-05</th>\n",
       "      <td>0.9592</td>\n",
       "      <td>0.6200</td>\n",
       "      <td>0.5910</td>\n",
       "    </tr>\n",
       "    <tr>\n",
       "      <th>2022-08-12</th>\n",
       "      <td>0.9641</td>\n",
       "      <td>0.6361</td>\n",
       "      <td>0.6315</td>\n",
       "    </tr>\n",
       "    <tr>\n",
       "      <th>2022-08-19</th>\n",
       "      <td>0.9684</td>\n",
       "      <td>0.6109</td>\n",
       "      <td>0.6102</td>\n",
       "    </tr>\n",
       "    <tr>\n",
       "      <th>2022-08-26</th>\n",
       "      <td>0.9644</td>\n",
       "      <td>0.6196</td>\n",
       "      <td>0.5664</td>\n",
       "    </tr>\n",
       "  </tbody>\n",
       "</table>\n",
       "<p>105 rows × 3 columns</p>\n",
       "</div>"
      ],
      "text/plain": [
       "            USDTRY_EURTRY_RLCR_20  USDTRY_BIST100_RLCR_20  \\\n",
       "Date                                                        \n",
       "2020-08-28                    NaN                     NaN   \n",
       "2020-09-04                 1.0000                 -1.0000   \n",
       "2020-09-11                 0.9109                  0.4140   \n",
       "2020-09-18                 0.9536                  0.7049   \n",
       "2020-09-25                 0.9701                  0.8851   \n",
       "...                           ...                     ...   \n",
       "2022-07-29                 0.9548                  0.5750   \n",
       "2022-08-05                 0.9592                  0.6200   \n",
       "2022-08-12                 0.9641                  0.6361   \n",
       "2022-08-19                 0.9684                  0.6109   \n",
       "2022-08-26                 0.9644                  0.6196   \n",
       "\n",
       "            EURTRY_BIST100_RLCR_20  \n",
       "Date                                \n",
       "2020-08-28                     NaN  \n",
       "2020-09-04                 -1.0000  \n",
       "2020-09-11                  0.0015  \n",
       "2020-09-18                  0.5253  \n",
       "2020-09-25                  0.7877  \n",
       "...                            ...  \n",
       "2022-07-29                  0.5303  \n",
       "2022-08-05                  0.5910  \n",
       "2022-08-12                  0.6315  \n",
       "2022-08-19                  0.6102  \n",
       "2022-08-26                  0.5664  \n",
       "\n",
       "[105 rows x 3 columns]"
      ]
     },
     "execution_count": 40,
     "metadata": {},
     "output_type": "execute_result"
    }
   ],
   "source": [
    "roll_corrs"
   ]
  },
  {
   "cell_type": "code",
   "execution_count": 42,
   "metadata": {},
   "outputs": [
    {
     "data": {
      "image/png": "[encoded data removed]",
      "text/plain": [
       "<Figure size 432x288 with 1 Axes>"
      ]
     },
     "metadata": {
      "needs_background": "light"
     },
     "output_type": "display_data"
    }
   ],
   "source": [
    "# plotting can be a good way in order to do a pre-examination since a comprehensive analysis is not\n",
    "# the subject here\n",
    "# Notice this needs 'matplotlib' package to run.\n",
    "roll_corrs.plot();"
   ]
  },
  {
   "cell_type": "markdown",
   "metadata": {},
   "source": [
    "Here you can see; there isn't any stable relitionship between (USDTRY, BIST100) and (EURTRY, BIST100)\n",
    "since the relitionship swings severly in time affecting even the direction of the relitionship. However,\n",
    "(USDTRY, EURTRY) is in a long-term stable relitionship with each other"
   ]
  },
  {
   "cell_type": "markdown",
   "metadata": {},
   "source": [
    "#### 4.12. [__Z-Score: Z<sub>t</sub> = (y<sub>t</sub> - ȳ) / σ<sub>y</sub>__](https://github.com/syncoding/evdsts/blob/master/docs/manuals/manual_en.md#get-z-score)"
   ]
  },
  {
   "cell_type": "markdown",
   "metadata": {},
   "source": [
    "The _Z-Score_ describes the position of a raw score in terms of its distance from the mean, when measured\n",
    "in standard deviation units. Z-Score is a good measure for spotting deviations from the expected values\n",
    "for a series which is normally distributed y:~N(μ, σ). Observing z-scores bigger than `+3` or smaller\n",
    "than `-3` can be a good indication that the subject value is a suspected outlier even if the series are\n",
    "not normally distributed under the assumptions of big sample size. You can get z-scores for provided\n",
    "series using `z_score()` method."
   ]
  },
  {
   "cell_type": "code",
   "execution_count": 48,
   "metadata": {},
   "outputs": [],
   "source": [
    "usdtry = connector.get_series(\"usdtry\", period=\"3m\", frequency='B')\n",
    "\n",
    "# this gives you all z-scores for all observations in all series provided.\n",
    "usdtry_z = transformator.z_score(usdtry, precision=2)"
   ]
  },
  {
   "cell_type": "code",
   "execution_count": 49,
   "metadata": {},
   "outputs": [
    {
     "data": {
      "text/html": [
       "<div>\n",
       "<style scoped>\n",
       "    .dataframe tbody tr th:only-of-type {\n",
       "        vertical-align: middle;\n",
       "    }\n",
       "\n",
       "    .dataframe tbody tr th {\n",
       "        vertical-align: top;\n",
       "    }\n",
       "\n",
       "    .dataframe thead th {\n",
       "        text-align: right;\n",
       "    }\n",
       "</style>\n",
       "<table border=\"1\" class=\"dataframe\">\n",
       "  <thead>\n",
       "    <tr style=\"text-align: right;\">\n",
       "      <th></th>\n",
       "      <th>USDTRY</th>\n",
       "      <th>USDTRY_Z</th>\n",
       "    </tr>\n",
       "    <tr>\n",
       "      <th>Date</th>\n",
       "      <th></th>\n",
       "      <th></th>\n",
       "    </tr>\n",
       "  </thead>\n",
       "  <tbody>\n",
       "    <tr>\n",
       "      <th>2022-05-26</th>\n",
       "      <td>16.267000</td>\n",
       "      <td>-1.91</td>\n",
       "    </tr>\n",
       "    <tr>\n",
       "      <th>2022-05-27</th>\n",
       "      <td>16.368000</td>\n",
       "      <td>-1.73</td>\n",
       "    </tr>\n",
       "    <tr>\n",
       "      <th>2022-05-30</th>\n",
       "      <td>16.348000</td>\n",
       "      <td>-1.77</td>\n",
       "    </tr>\n",
       "    <tr>\n",
       "      <th>2022-05-31</th>\n",
       "      <td>16.356001</td>\n",
       "      <td>-1.75</td>\n",
       "    </tr>\n",
       "    <tr>\n",
       "      <th>2022-06-01</th>\n",
       "      <td>16.388000</td>\n",
       "      <td>-1.70</td>\n",
       "    </tr>\n",
       "  </tbody>\n",
       "</table>\n",
       "</div>"
      ],
      "text/plain": [
       "               USDTRY  USDTRY_Z\n",
       "Date                           \n",
       "2022-05-26  16.267000     -1.91\n",
       "2022-05-27  16.368000     -1.73\n",
       "2022-05-30  16.348000     -1.77\n",
       "2022-05-31  16.356001     -1.75\n",
       "2022-06-01  16.388000     -1.70"
      ]
     },
     "execution_count": 49,
     "metadata": {},
     "output_type": "execute_result"
    }
   ],
   "source": [
    "usdtry_z.head()"
   ]
  },
  {
   "cell_type": "markdown",
   "metadata": {},
   "source": [
    "`z-score()`, can be used for multi-dimentional series as well."
   ]
  },
  {
   "cell_type": "code",
   "execution_count": 51,
   "metadata": {},
   "outputs": [],
   "source": [
    "rates = connector.get_series(\"usdtry, eurtry\", period=\"3m\", frequency=\"B\")\n",
    "\n",
    "# This gives z-scores of USDTRY and EURTRY.\n",
    "rates_z = transformator.z_score(rates, precision=2)"
   ]
  },
  {
   "cell_type": "code",
   "execution_count": 52,
   "metadata": {},
   "outputs": [
    {
     "data": {
      "text/html": [
       "<div>\n",
       "<style scoped>\n",
       "    .dataframe tbody tr th:only-of-type {\n",
       "        vertical-align: middle;\n",
       "    }\n",
       "\n",
       "    .dataframe tbody tr th {\n",
       "        vertical-align: top;\n",
       "    }\n",
       "\n",
       "    .dataframe thead th {\n",
       "        text-align: right;\n",
       "    }\n",
       "</style>\n",
       "<table border=\"1\" class=\"dataframe\">\n",
       "  <thead>\n",
       "    <tr style=\"text-align: right;\">\n",
       "      <th></th>\n",
       "      <th>USDTRY</th>\n",
       "      <th>EURTRY</th>\n",
       "      <th>USDTRY_Z</th>\n",
       "      <th>EURTRY_Z</th>\n",
       "    </tr>\n",
       "    <tr>\n",
       "      <th>Date</th>\n",
       "      <th></th>\n",
       "      <th></th>\n",
       "      <th></th>\n",
       "      <th></th>\n",
       "    </tr>\n",
       "  </thead>\n",
       "  <tbody>\n",
       "    <tr>\n",
       "      <th>2022-05-26</th>\n",
       "      <td>16.267000</td>\n",
       "      <td>17.365999</td>\n",
       "      <td>-1.91</td>\n",
       "      <td>-1.84</td>\n",
       "    </tr>\n",
       "    <tr>\n",
       "      <th>2022-05-27</th>\n",
       "      <td>16.368000</td>\n",
       "      <td>17.510000</td>\n",
       "      <td>-1.73</td>\n",
       "      <td>-1.40</td>\n",
       "    </tr>\n",
       "    <tr>\n",
       "      <th>2022-05-30</th>\n",
       "      <td>16.348000</td>\n",
       "      <td>17.527000</td>\n",
       "      <td>-1.77</td>\n",
       "      <td>-1.35</td>\n",
       "    </tr>\n",
       "    <tr>\n",
       "      <th>2022-05-31</th>\n",
       "      <td>16.356001</td>\n",
       "      <td>17.601999</td>\n",
       "      <td>-1.75</td>\n",
       "      <td>-1.12</td>\n",
       "    </tr>\n",
       "    <tr>\n",
       "      <th>2022-06-01</th>\n",
       "      <td>16.388000</td>\n",
       "      <td>17.570000</td>\n",
       "      <td>-1.70</td>\n",
       "      <td>-1.22</td>\n",
       "    </tr>\n",
       "  </tbody>\n",
       "</table>\n",
       "</div>"
      ],
      "text/plain": [
       "               USDTRY     EURTRY  USDTRY_Z  EURTRY_Z\n",
       "Date                                                \n",
       "2022-05-26  16.267000  17.365999     -1.91     -1.84\n",
       "2022-05-27  16.368000  17.510000     -1.73     -1.40\n",
       "2022-05-30  16.348000  17.527000     -1.77     -1.35\n",
       "2022-05-31  16.356001  17.601999     -1.75     -1.12\n",
       "2022-06-01  16.388000  17.570000     -1.70     -1.22"
      ]
     },
     "execution_count": 52,
     "metadata": {},
     "output_type": "execute_result"
    }
   ],
   "source": [
    "rates_z.head()"
   ]
  },
  {
   "cell_type": "markdown",
   "metadata": {},
   "source": [
    "#### 4.13. [__Median Absolute Deviation: median(|y<sub>t</sub> - median(y<sub>t</sub>)|)__](https://github.com/syncoding/evdsts/blob/master/docs/manuals/manual_en.md#get-mad)"
   ]
  },
  {
   "cell_type": "markdown",
   "metadata": {},
   "source": [
    "The _Median Absolute Deviation_ (__MAD__) describes the position of a median score in terms of its\n",
    "distance from the median, when measured in absolute terms. It is very useful for describing the\n",
    "variability of series with outliers. The median absolute deviation is a robust statistic, even for data\n",
    "drawn from non-normal populations and could be used instead of z-score for measuring deviations from\n",
    "the expectations as a substitute. Observing MADs bigger than `+3` or smaller than `-3` can be a good\n",
    "indication that the subject value is a suspected outlier even if the series are not normally\n",
    "distributed under the assumptions of big sample size. You can get MADs for provided series using\n",
    "`mad()` method."
   ]
  },
  {
   "cell_type": "code",
   "execution_count": 79,
   "metadata": {},
   "outputs": [],
   "source": [
    "usdtry = connector.get_series(\"usdtry\",\n",
    "                              start_date=\"01.06.2022\",\n",
    "                              end_date=\"30.06.2022\",\n",
    "                              frequency=\"B\")"
   ]
  },
  {
   "cell_type": "code",
   "execution_count": 80,
   "metadata": {},
   "outputs": [],
   "source": [
    "# this gives you all median absoulte deviations for all observations in all series provided.\n",
    "usdtry_mad = transformator.mad(usdtry, precision=2)"
   ]
  },
  {
   "cell_type": "code",
   "execution_count": 81,
   "metadata": {},
   "outputs": [
    {
     "data": {
      "text/html": [
       "<div>\n",
       "<style scoped>\n",
       "    .dataframe tbody tr th:only-of-type {\n",
       "        vertical-align: middle;\n",
       "    }\n",
       "\n",
       "    .dataframe tbody tr th {\n",
       "        vertical-align: top;\n",
       "    }\n",
       "\n",
       "    .dataframe thead th {\n",
       "        text-align: right;\n",
       "    }\n",
       "</style>\n",
       "<table border=\"1\" class=\"dataframe\">\n",
       "  <thead>\n",
       "    <tr style=\"text-align: right;\">\n",
       "      <th></th>\n",
       "      <th>USDTRY</th>\n",
       "      <th>USDTRY_MAD</th>\n",
       "    </tr>\n",
       "    <tr>\n",
       "      <th>Date</th>\n",
       "      <th></th>\n",
       "      <th></th>\n",
       "    </tr>\n",
       "  </thead>\n",
       "  <tbody>\n",
       "    <tr>\n",
       "      <th>2022-06-01</th>\n",
       "      <td>16.387600</td>\n",
       "      <td>-2.65</td>\n",
       "    </tr>\n",
       "    <tr>\n",
       "      <th>2022-06-02</th>\n",
       "      <td>16.412701</td>\n",
       "      <td>-2.56</td>\n",
       "    </tr>\n",
       "    <tr>\n",
       "      <th>2022-06-03</th>\n",
       "      <td>16.438999</td>\n",
       "      <td>-2.47</td>\n",
       "    </tr>\n",
       "    <tr>\n",
       "      <th>2022-06-06</th>\n",
       "      <td>16.476500</td>\n",
       "      <td>-2.34</td>\n",
       "    </tr>\n",
       "    <tr>\n",
       "      <th>2022-06-07</th>\n",
       "      <td>16.558800</td>\n",
       "      <td>-2.05</td>\n",
       "    </tr>\n",
       "  </tbody>\n",
       "</table>\n",
       "</div>"
      ],
      "text/plain": [
       "               USDTRY  USDTRY_MAD\n",
       "Date                             \n",
       "2022-06-01  16.387600       -2.65\n",
       "2022-06-02  16.412701       -2.56\n",
       "2022-06-03  16.438999       -2.47\n",
       "2022-06-06  16.476500       -2.34\n",
       "2022-06-07  16.558800       -2.05"
      ]
     },
     "execution_count": 81,
     "metadata": {},
     "output_type": "execute_result"
    }
   ],
   "source": [
    "usdtry_mad.head()"
   ]
  },
  {
   "cell_type": "markdown",
   "metadata": {},
   "source": [
    "`mad()`, can be used for multi-dimentional series as well."
   ]
  },
  {
   "cell_type": "code",
   "execution_count": 88,
   "metadata": {},
   "outputs": [],
   "source": [
    "rates = connector.get_series(\"usdtry, eurtry\",\n",
    "                              start_date=\"01.06.2022\",\n",
    "                              end_date=\"30.06.2022\",\n",
    "                              frequency=\"B\")"
   ]
  },
  {
   "cell_type": "code",
   "execution_count": 89,
   "metadata": {},
   "outputs": [],
   "source": [
    "# this gives you median absolute deviations of USDTRY and EURTRY series\n",
    "rates_mad = transformator.mad(rates, precision=2)"
   ]
  },
  {
   "cell_type": "code",
   "execution_count": 90,
   "metadata": {},
   "outputs": [
    {
     "data": {
      "text/html": [
       "<div>\n",
       "<style scoped>\n",
       "    .dataframe tbody tr th:only-of-type {\n",
       "        vertical-align: middle;\n",
       "    }\n",
       "\n",
       "    .dataframe tbody tr th {\n",
       "        vertical-align: top;\n",
       "    }\n",
       "\n",
       "    .dataframe thead th {\n",
       "        text-align: right;\n",
       "    }\n",
       "</style>\n",
       "<table border=\"1\" class=\"dataframe\">\n",
       "  <thead>\n",
       "    <tr style=\"text-align: right;\">\n",
       "      <th></th>\n",
       "      <th>USDTRY</th>\n",
       "      <th>EURTRY</th>\n",
       "      <th>USDTRY_MAD</th>\n",
       "      <th>EURTRY_MAD</th>\n",
       "    </tr>\n",
       "    <tr>\n",
       "      <th>Date</th>\n",
       "      <th></th>\n",
       "      <th></th>\n",
       "      <th></th>\n",
       "      <th></th>\n",
       "    </tr>\n",
       "  </thead>\n",
       "  <tbody>\n",
       "    <tr>\n",
       "      <th>2022-06-01</th>\n",
       "      <td>16.387600</td>\n",
       "      <td>17.5702</td>\n",
       "      <td>-2.65</td>\n",
       "      <td>-1.22</td>\n",
       "    </tr>\n",
       "    <tr>\n",
       "      <th>2022-06-02</th>\n",
       "      <td>16.412701</td>\n",
       "      <td>17.5916</td>\n",
       "      <td>-2.56</td>\n",
       "      <td>-1.16</td>\n",
       "    </tr>\n",
       "    <tr>\n",
       "      <th>2022-06-03</th>\n",
       "      <td>16.438999</td>\n",
       "      <td>17.5700</td>\n",
       "      <td>-2.47</td>\n",
       "      <td>-1.22</td>\n",
       "    </tr>\n",
       "    <tr>\n",
       "      <th>2022-06-06</th>\n",
       "      <td>16.476500</td>\n",
       "      <td>17.7066</td>\n",
       "      <td>-2.34</td>\n",
       "      <td>-0.85</td>\n",
       "    </tr>\n",
       "    <tr>\n",
       "      <th>2022-06-07</th>\n",
       "      <td>16.558800</td>\n",
       "      <td>17.7785</td>\n",
       "      <td>-2.05</td>\n",
       "      <td>-0.66</td>\n",
       "    </tr>\n",
       "  </tbody>\n",
       "</table>\n",
       "</div>"
      ],
      "text/plain": [
       "               USDTRY   EURTRY  USDTRY_MAD  EURTRY_MAD\n",
       "Date                                                  \n",
       "2022-06-01  16.387600  17.5702       -2.65       -1.22\n",
       "2022-06-02  16.412701  17.5916       -2.56       -1.16\n",
       "2022-06-03  16.438999  17.5700       -2.47       -1.22\n",
       "2022-06-06  16.476500  17.7066       -2.34       -0.85\n",
       "2022-06-07  16.558800  17.7785       -2.05       -0.66"
      ]
     },
     "execution_count": 90,
     "metadata": {},
     "output_type": "execute_result"
    }
   ],
   "source": [
    "rates_mad.head()"
   ]
  },
  {
   "cell_type": "markdown",
   "metadata": {},
   "source": [
    "#### 4.14. [__Normalized Series: y<sub>t, normal</sub> = F(y<sub>t</sub>)__](https://github.com/syncoding/evdsts/blob/master/docs/manuals/manual_en.md#get-normalized)"
   ]
  },
  {
   "cell_type": "markdown",
   "metadata": {},
   "source": [
    "You can get nomralized series for given series to use them as inputs for other processes such as\n",
    "machine learning algorithms. You can use `normalize()` method to get normalized series.\n",
    "\n",
    "There are `6` normalization methods are defined in order to be used in normalization process, and\n",
    "these are:\n",
    "\n",
    "|Method        | Definition                                              | Range         |\n",
    "|:-------------|:------------------------------------------------------- |:--------------|\n",
    "|`simple`      |  x / (max(x) + 1)                                       | [0, +1)       |\n",
    "| `min - max`  | (x - min(x)) / (max(x) - min(x))                        | (0, 1]        |\n",
    "| `mean`       | (x - x̄) / (max(x) + 1)                                  | [-1, +1)      |\n",
    "| `median`     | (x - median(x)) / (max(x) + 1)                          | [-1, +1)      |\n",
    "| `mad`        | (x - median(x)) / (median(\\|(x - median(x)\\|)) * 1.4826 | (-inf, +inf)  |\n",
    "| `z`          | (x- x̄) / σ<sub>x</sub>                                  | (-inf, +inf)  |\n",
    "\n",
    "> 1.4826 is the scale factor and is equal to `1 / QNormal(%75)`"
   ]
  },
  {
   "cell_type": "code",
   "execution_count": 82,
   "metadata": {},
   "outputs": [],
   "source": [
    "usdtry = connector.get_series(\"usdtry\",\n",
    "                              start_date=\"01.06.2022\",\n",
    "                              end_date=\"30.06.2022\",\n",
    "                              frequency=\"B\")"
   ]
  },
  {
   "cell_type": "code",
   "execution_count": 83,
   "metadata": {},
   "outputs": [],
   "source": [
    "# this gives you normalized values (z-scores in this example) by given normalize method.\n",
    "usdtry_normalized = transformator.normalize(usdtry, method=\"z\")"
   ]
  },
  {
   "cell_type": "code",
   "execution_count": 84,
   "metadata": {},
   "outputs": [
    {
     "data": {
      "text/html": [
       "<div>\n",
       "<style scoped>\n",
       "    .dataframe tbody tr th:only-of-type {\n",
       "        vertical-align: middle;\n",
       "    }\n",
       "\n",
       "    .dataframe tbody tr th {\n",
       "        vertical-align: top;\n",
       "    }\n",
       "\n",
       "    .dataframe thead th {\n",
       "        text-align: right;\n",
       "    }\n",
       "</style>\n",
       "<table border=\"1\" class=\"dataframe\">\n",
       "  <thead>\n",
       "    <tr style=\"text-align: right;\">\n",
       "      <th></th>\n",
       "      <th>USDTRY</th>\n",
       "      <th>USDTRY_NORM</th>\n",
       "    </tr>\n",
       "    <tr>\n",
       "      <th>Date</th>\n",
       "      <th></th>\n",
       "      <th></th>\n",
       "    </tr>\n",
       "  </thead>\n",
       "  <tbody>\n",
       "    <tr>\n",
       "      <th>2022-06-01</th>\n",
       "      <td>16.387600</td>\n",
       "      <td>-1.594162</td>\n",
       "    </tr>\n",
       "    <tr>\n",
       "      <th>2022-06-02</th>\n",
       "      <td>16.412701</td>\n",
       "      <td>-1.524827</td>\n",
       "    </tr>\n",
       "    <tr>\n",
       "      <th>2022-06-03</th>\n",
       "      <td>16.438999</td>\n",
       "      <td>-1.452183</td>\n",
       "    </tr>\n",
       "  </tbody>\n",
       "</table>\n",
       "</div>"
      ],
      "text/plain": [
       "               USDTRY  USDTRY_NORM\n",
       "Date                              \n",
       "2022-06-01  16.387600    -1.594162\n",
       "2022-06-02  16.412701    -1.524827\n",
       "2022-06-03  16.438999    -1.452183"
      ]
     },
     "execution_count": 84,
     "metadata": {},
     "output_type": "execute_result"
    }
   ],
   "source": [
    "usdtry_normalized.head(3)"
   ]
  },
  {
   "cell_type": "code",
   "execution_count": 62,
   "metadata": {},
   "outputs": [],
   "source": [
    "# this gives you normalized values (simple method in this example) by given normalize method.\n",
    "usdtry_normalized = transformator.normalize(usdtry, method=\"simple\")"
   ]
  },
  {
   "cell_type": "code",
   "execution_count": 63,
   "metadata": {},
   "outputs": [
    {
     "data": {
      "text/html": [
       "<div>\n",
       "<style scoped>\n",
       "    .dataframe tbody tr th:only-of-type {\n",
       "        vertical-align: middle;\n",
       "    }\n",
       "\n",
       "    .dataframe tbody tr th {\n",
       "        vertical-align: top;\n",
       "    }\n",
       "\n",
       "    .dataframe thead th {\n",
       "        text-align: right;\n",
       "    }\n",
       "</style>\n",
       "<table border=\"1\" class=\"dataframe\">\n",
       "  <thead>\n",
       "    <tr style=\"text-align: right;\">\n",
       "      <th></th>\n",
       "      <th>USDTRY</th>\n",
       "      <th>USDTRY_NORM</th>\n",
       "    </tr>\n",
       "    <tr>\n",
       "      <th>Date</th>\n",
       "      <th></th>\n",
       "      <th></th>\n",
       "    </tr>\n",
       "  </thead>\n",
       "  <tbody>\n",
       "    <tr>\n",
       "      <th>2022-05-26</th>\n",
       "      <td>16.267</td>\n",
       "      <td>0.849585</td>\n",
       "    </tr>\n",
       "    <tr>\n",
       "      <th>2022-05-27</th>\n",
       "      <td>16.368</td>\n",
       "      <td>0.854860</td>\n",
       "    </tr>\n",
       "    <tr>\n",
       "      <th>2022-05-30</th>\n",
       "      <td>16.348</td>\n",
       "      <td>0.853815</td>\n",
       "    </tr>\n",
       "  </tbody>\n",
       "</table>\n",
       "</div>"
      ],
      "text/plain": [
       "            USDTRY  USDTRY_NORM\n",
       "Date                           \n",
       "2022-05-26  16.267     0.849585\n",
       "2022-05-27  16.368     0.854860\n",
       "2022-05-30  16.348     0.853815"
      ]
     },
     "execution_count": 63,
     "metadata": {},
     "output_type": "execute_result"
    }
   ],
   "source": [
    "usdtry_normalized.head(3)"
   ]
  },
  {
   "cell_type": "markdown",
   "metadata": {},
   "source": [
    "`normalize()`, can be used for multi-dimentional series as well."
   ]
  },
  {
   "cell_type": "code",
   "execution_count": 91,
   "metadata": {},
   "outputs": [],
   "source": [
    "rates = connector.get_series(\"usdtry, eurtry\",\n",
    "                              start_date=\"01.06.2022\",\n",
    "                              end_date=\"30.06.2022\",\n",
    "                              frequency=\"B\")"
   ]
  },
  {
   "cell_type": "code",
   "execution_count": 92,
   "metadata": {},
   "outputs": [],
   "source": [
    "# this gives the normalized values of both USDTRY and EURTRY\n",
    "rates_normalized = transformator.normalize(rates, method='mad', keep_originals=False)"
   ]
  },
  {
   "cell_type": "code",
   "execution_count": 93,
   "metadata": {},
   "outputs": [
    {
     "data": {
      "text/html": [
       "<div>\n",
       "<style scoped>\n",
       "    .dataframe tbody tr th:only-of-type {\n",
       "        vertical-align: middle;\n",
       "    }\n",
       "\n",
       "    .dataframe tbody tr th {\n",
       "        vertical-align: top;\n",
       "    }\n",
       "\n",
       "    .dataframe thead th {\n",
       "        text-align: right;\n",
       "    }\n",
       "</style>\n",
       "<table border=\"1\" class=\"dataframe\">\n",
       "  <thead>\n",
       "    <tr style=\"text-align: right;\">\n",
       "      <th></th>\n",
       "      <th>USDTRY_NORM</th>\n",
       "      <th>EURTRY_NORM</th>\n",
       "    </tr>\n",
       "    <tr>\n",
       "      <th>Date</th>\n",
       "      <th></th>\n",
       "      <th></th>\n",
       "    </tr>\n",
       "  </thead>\n",
       "  <tbody>\n",
       "    <tr>\n",
       "      <th>2022-06-01</th>\n",
       "      <td>-2.648009</td>\n",
       "      <td>-1.222451</td>\n",
       "    </tr>\n",
       "    <tr>\n",
       "      <th>2022-06-02</th>\n",
       "      <td>-2.560311</td>\n",
       "      <td>-1.164341</td>\n",
       "    </tr>\n",
       "    <tr>\n",
       "      <th>2022-06-03</th>\n",
       "      <td>-2.468427</td>\n",
       "      <td>-1.222994</td>\n",
       "    </tr>\n",
       "    <tr>\n",
       "      <th>2022-06-06</th>\n",
       "      <td>-2.337405</td>\n",
       "      <td>-0.852077</td>\n",
       "    </tr>\n",
       "    <tr>\n",
       "      <th>2022-06-07</th>\n",
       "      <td>-2.049859</td>\n",
       "      <td>-0.656846</td>\n",
       "    </tr>\n",
       "  </tbody>\n",
       "</table>\n",
       "</div>"
      ],
      "text/plain": [
       "            USDTRY_NORM  EURTRY_NORM\n",
       "Date                                \n",
       "2022-06-01    -2.648009    -1.222451\n",
       "2022-06-02    -2.560311    -1.164341\n",
       "2022-06-03    -2.468427    -1.222994\n",
       "2022-06-06    -2.337405    -0.852077\n",
       "2022-06-07    -2.049859    -0.656846"
      ]
     },
     "execution_count": 93,
     "metadata": {},
     "output_type": "execute_result"
    }
   ],
   "source": [
    "rates_normalized.head()"
   ]
  },
  {
   "cell_type": "markdown",
   "metadata": {},
   "source": [
    "#### 4.15. [__Dummy Series: D<sub>n</sub>__](https://github.com/syncoding/evdsts/blob/master/docs/manuals/manual_en.md#get-dummies)"
   ]
  },
  {
   "cell_type": "markdown",
   "metadata": {},
   "source": [
    "You can use `dummy()` method to create dummy series in line with given conditions. Dummy series are\n",
    "very useful for modelling a structural/regime change or brake, and outliers in some applications."
   ]
  },
  {
   "cell_type": "markdown",
   "metadata": {},
   "source": [
    "Conditions to be used;\n",
    "\n",
    "| condition | explanation\n",
    "|:---------:|-----------------------------------------------------------------------------------------------|\n",
    "| `>`       | greater than threshold                                                                        |\n",
    "| `>=`      | greater than or equals to threshold                                                           |\n",
    "| `<`       | smaller than threshold                                                                        |\n",
    "| `<=`      | smaller than or equals to threshold                                                           |\n",
    "| `()`      | greater than lower bound and smaller than upper bound (closed bounds)                         |\n",
    "| `[]`      | greater than or equal to lower bound and smaller than or equal to upper bound (open bounds)   |"
   ]
  },
  {
   "cell_type": "code",
   "execution_count": 100,
   "metadata": {},
   "outputs": [],
   "source": [
    "usdtry = connector.get_series(\"usdtry\",\n",
    "                              start_date=\"01.01.2020\",\n",
    "                              end_date=\"01.01.2022\",\n",
    "                              frequency=\"Q\")"
   ]
  },
  {
   "cell_type": "code",
   "execution_count": 117,
   "metadata": {},
   "outputs": [],
   "source": [
    "# this gives you a dummy series that its values are equal to 1 if a value in usdtry is greater than 8 and 0 otherwise.\n",
    "usdtry_gt8 = transformator.dummy(usdtry, \">\", 8)"
   ]
  },
  {
   "cell_type": "code",
   "execution_count": 118,
   "metadata": {},
   "outputs": [
    {
     "data": {
      "text/html": [
       "<div>\n",
       "<style scoped>\n",
       "    .dataframe tbody tr th:only-of-type {\n",
       "        vertical-align: middle;\n",
       "    }\n",
       "\n",
       "    .dataframe tbody tr th {\n",
       "        vertical-align: top;\n",
       "    }\n",
       "\n",
       "    .dataframe thead th {\n",
       "        text-align: right;\n",
       "    }\n",
       "</style>\n",
       "<table border=\"1\" class=\"dataframe\">\n",
       "  <thead>\n",
       "    <tr style=\"text-align: right;\">\n",
       "      <th></th>\n",
       "      <th>USDTRY</th>\n",
       "      <th>USDTRY_GTT_8</th>\n",
       "    </tr>\n",
       "    <tr>\n",
       "      <th>Date</th>\n",
       "      <th></th>\n",
       "      <th></th>\n",
       "    </tr>\n",
       "  </thead>\n",
       "  <tbody>\n",
       "    <tr>\n",
       "      <th>2020-03-31</th>\n",
       "      <td>6.094</td>\n",
       "      <td>0.0</td>\n",
       "    </tr>\n",
       "    <tr>\n",
       "      <th>2020-06-30</th>\n",
       "      <td>6.853</td>\n",
       "      <td>0.0</td>\n",
       "    </tr>\n",
       "    <tr>\n",
       "      <th>2020-09-30</th>\n",
       "      <td>7.208</td>\n",
       "      <td>0.0</td>\n",
       "    </tr>\n",
       "    <tr>\n",
       "      <th>2020-12-31</th>\n",
       "      <td>7.862</td>\n",
       "      <td>0.0</td>\n",
       "    </tr>\n",
       "    <tr>\n",
       "      <th>2021-03-31</th>\n",
       "      <td>7.377</td>\n",
       "      <td>0.0</td>\n",
       "    </tr>\n",
       "    <tr>\n",
       "      <th>2021-06-30</th>\n",
       "      <td>8.370</td>\n",
       "      <td>1.0</td>\n",
       "    </tr>\n",
       "    <tr>\n",
       "      <th>2021-09-30</th>\n",
       "      <td>8.528</td>\n",
       "      <td>1.0</td>\n",
       "    </tr>\n",
       "    <tr>\n",
       "      <th>2021-12-31</th>\n",
       "      <td>11.161</td>\n",
       "      <td>1.0</td>\n",
       "    </tr>\n",
       "  </tbody>\n",
       "</table>\n",
       "</div>"
      ],
      "text/plain": [
       "            USDTRY  USDTRY_GTT_8\n",
       "Date                            \n",
       "2020-03-31   6.094           0.0\n",
       "2020-06-30   6.853           0.0\n",
       "2020-09-30   7.208           0.0\n",
       "2020-12-31   7.862           0.0\n",
       "2021-03-31   7.377           0.0\n",
       "2021-06-30   8.370           1.0\n",
       "2021-09-30   8.528           1.0\n",
       "2021-12-31  11.161           1.0"
      ]
     },
     "execution_count": 118,
     "metadata": {},
     "output_type": "execute_result"
    }
   ],
   "source": [
    "usdtry_gt8"
   ]
  },
  {
   "cell_type": "code",
   "execution_count": 119,
   "metadata": {},
   "outputs": [],
   "source": [
    "# this gives you a dummy series that its values are equal to 1 if a value in usdtry is greater than 8 and -1 otherwise.\n",
    "usdtry_gt8 = transformator.dummy(usdtry, \">\", 8, fill_true=1, fill_false=-1)"
   ]
  },
  {
   "cell_type": "code",
   "execution_count": 120,
   "metadata": {},
   "outputs": [
    {
     "data": {
      "text/html": [
       "<div>\n",
       "<style scoped>\n",
       "    .dataframe tbody tr th:only-of-type {\n",
       "        vertical-align: middle;\n",
       "    }\n",
       "\n",
       "    .dataframe tbody tr th {\n",
       "        vertical-align: top;\n",
       "    }\n",
       "\n",
       "    .dataframe thead th {\n",
       "        text-align: right;\n",
       "    }\n",
       "</style>\n",
       "<table border=\"1\" class=\"dataframe\">\n",
       "  <thead>\n",
       "    <tr style=\"text-align: right;\">\n",
       "      <th></th>\n",
       "      <th>USDTRY</th>\n",
       "      <th>USDTRY_GTT_8</th>\n",
       "    </tr>\n",
       "    <tr>\n",
       "      <th>Date</th>\n",
       "      <th></th>\n",
       "      <th></th>\n",
       "    </tr>\n",
       "  </thead>\n",
       "  <tbody>\n",
       "    <tr>\n",
       "      <th>2020-03-31</th>\n",
       "      <td>6.094</td>\n",
       "      <td>-1.0</td>\n",
       "    </tr>\n",
       "    <tr>\n",
       "      <th>2020-06-30</th>\n",
       "      <td>6.853</td>\n",
       "      <td>-1.0</td>\n",
       "    </tr>\n",
       "    <tr>\n",
       "      <th>2020-09-30</th>\n",
       "      <td>7.208</td>\n",
       "      <td>-1.0</td>\n",
       "    </tr>\n",
       "    <tr>\n",
       "      <th>2020-12-31</th>\n",
       "      <td>7.862</td>\n",
       "      <td>-1.0</td>\n",
       "    </tr>\n",
       "    <tr>\n",
       "      <th>2021-03-31</th>\n",
       "      <td>7.377</td>\n",
       "      <td>-1.0</td>\n",
       "    </tr>\n",
       "    <tr>\n",
       "      <th>2021-06-30</th>\n",
       "      <td>8.370</td>\n",
       "      <td>1.0</td>\n",
       "    </tr>\n",
       "    <tr>\n",
       "      <th>2021-09-30</th>\n",
       "      <td>8.528</td>\n",
       "      <td>1.0</td>\n",
       "    </tr>\n",
       "    <tr>\n",
       "      <th>2021-12-31</th>\n",
       "      <td>11.161</td>\n",
       "      <td>1.0</td>\n",
       "    </tr>\n",
       "  </tbody>\n",
       "</table>\n",
       "</div>"
      ],
      "text/plain": [
       "            USDTRY  USDTRY_GTT_8\n",
       "Date                            \n",
       "2020-03-31   6.094          -1.0\n",
       "2020-06-30   6.853          -1.0\n",
       "2020-09-30   7.208          -1.0\n",
       "2020-12-31   7.862          -1.0\n",
       "2021-03-31   7.377          -1.0\n",
       "2021-06-30   8.370           1.0\n",
       "2021-09-30   8.528           1.0\n",
       "2021-12-31  11.161           1.0"
      ]
     },
     "execution_count": 120,
     "metadata": {},
     "output_type": "execute_result"
    }
   ],
   "source": [
    "usdtry_gt8"
   ]
  },
  {
   "cell_type": "code",
   "execution_count": 121,
   "metadata": {},
   "outputs": [],
   "source": [
    "# this gives you a dummy series that its values are equal to 2 if a value in usdtry is smaller or\n",
    "# equal than 8 and 1 otherwise.\n",
    "usdtry_st8 = transformator.dummy(usdtry, \"<=\", 8, fill_true=2, fill_false=1)"
   ]
  },
  {
   "cell_type": "code",
   "execution_count": 122,
   "metadata": {},
   "outputs": [
    {
     "data": {
      "text/html": [
       "<div>\n",
       "<style scoped>\n",
       "    .dataframe tbody tr th:only-of-type {\n",
       "        vertical-align: middle;\n",
       "    }\n",
       "\n",
       "    .dataframe tbody tr th {\n",
       "        vertical-align: top;\n",
       "    }\n",
       "\n",
       "    .dataframe thead th {\n",
       "        text-align: right;\n",
       "    }\n",
       "</style>\n",
       "<table border=\"1\" class=\"dataframe\">\n",
       "  <thead>\n",
       "    <tr style=\"text-align: right;\">\n",
       "      <th></th>\n",
       "      <th>USDTRY</th>\n",
       "      <th>USDTRY_SOET_8</th>\n",
       "    </tr>\n",
       "    <tr>\n",
       "      <th>Date</th>\n",
       "      <th></th>\n",
       "      <th></th>\n",
       "    </tr>\n",
       "  </thead>\n",
       "  <tbody>\n",
       "    <tr>\n",
       "      <th>2020-03-31</th>\n",
       "      <td>6.094</td>\n",
       "      <td>2.0</td>\n",
       "    </tr>\n",
       "    <tr>\n",
       "      <th>2020-06-30</th>\n",
       "      <td>6.853</td>\n",
       "      <td>2.0</td>\n",
       "    </tr>\n",
       "    <tr>\n",
       "      <th>2020-09-30</th>\n",
       "      <td>7.208</td>\n",
       "      <td>2.0</td>\n",
       "    </tr>\n",
       "    <tr>\n",
       "      <th>2020-12-31</th>\n",
       "      <td>7.862</td>\n",
       "      <td>2.0</td>\n",
       "    </tr>\n",
       "    <tr>\n",
       "      <th>2021-03-31</th>\n",
       "      <td>7.377</td>\n",
       "      <td>2.0</td>\n",
       "    </tr>\n",
       "    <tr>\n",
       "      <th>2021-06-30</th>\n",
       "      <td>8.370</td>\n",
       "      <td>1.0</td>\n",
       "    </tr>\n",
       "    <tr>\n",
       "      <th>2021-09-30</th>\n",
       "      <td>8.528</td>\n",
       "      <td>1.0</td>\n",
       "    </tr>\n",
       "    <tr>\n",
       "      <th>2021-12-31</th>\n",
       "      <td>11.161</td>\n",
       "      <td>1.0</td>\n",
       "    </tr>\n",
       "  </tbody>\n",
       "</table>\n",
       "</div>"
      ],
      "text/plain": [
       "            USDTRY  USDTRY_SOET_8\n",
       "Date                             \n",
       "2020-03-31   6.094            2.0\n",
       "2020-06-30   6.853            2.0\n",
       "2020-09-30   7.208            2.0\n",
       "2020-12-31   7.862            2.0\n",
       "2021-03-31   7.377            2.0\n",
       "2021-06-30   8.370            1.0\n",
       "2021-09-30   8.528            1.0\n",
       "2021-12-31  11.161            1.0"
      ]
     },
     "execution_count": 122,
     "metadata": {},
     "output_type": "execute_result"
    }
   ],
   "source": [
    "usdtry_st8"
   ]
  },
  {
   "cell_type": "code",
   "execution_count": 123,
   "metadata": {},
   "outputs": [],
   "source": [
    "# this gives you a dummy series that its values are equal to 1 if a value in usdtry is greater than 7.21\n",
    "# or smaller than 8.37 (closed bounds).\n",
    "usdtry_d1 = transformator.dummy(usdtry, \"()\", \"7.21, 8.37\")"
   ]
  },
  {
   "cell_type": "code",
   "execution_count": 124,
   "metadata": {},
   "outputs": [
    {
     "data": {
      "text/html": [
       "<div>\n",
       "<style scoped>\n",
       "    .dataframe tbody tr th:only-of-type {\n",
       "        vertical-align: middle;\n",
       "    }\n",
       "\n",
       "    .dataframe tbody tr th {\n",
       "        vertical-align: top;\n",
       "    }\n",
       "\n",
       "    .dataframe thead th {\n",
       "        text-align: right;\n",
       "    }\n",
       "</style>\n",
       "<table border=\"1\" class=\"dataframe\">\n",
       "  <thead>\n",
       "    <tr style=\"text-align: right;\">\n",
       "      <th></th>\n",
       "      <th>USDTRY</th>\n",
       "      <th>USDTRY_CBOUND</th>\n",
       "    </tr>\n",
       "    <tr>\n",
       "      <th>Date</th>\n",
       "      <th></th>\n",
       "      <th></th>\n",
       "    </tr>\n",
       "  </thead>\n",
       "  <tbody>\n",
       "    <tr>\n",
       "      <th>2020-03-31</th>\n",
       "      <td>6.094</td>\n",
       "      <td>0.0</td>\n",
       "    </tr>\n",
       "    <tr>\n",
       "      <th>2020-06-30</th>\n",
       "      <td>6.853</td>\n",
       "      <td>0.0</td>\n",
       "    </tr>\n",
       "    <tr>\n",
       "      <th>2020-09-30</th>\n",
       "      <td>7.208</td>\n",
       "      <td>0.0</td>\n",
       "    </tr>\n",
       "    <tr>\n",
       "      <th>2020-12-31</th>\n",
       "      <td>7.862</td>\n",
       "      <td>1.0</td>\n",
       "    </tr>\n",
       "    <tr>\n",
       "      <th>2021-03-31</th>\n",
       "      <td>7.377</td>\n",
       "      <td>1.0</td>\n",
       "    </tr>\n",
       "    <tr>\n",
       "      <th>2021-06-30</th>\n",
       "      <td>8.370</td>\n",
       "      <td>0.0</td>\n",
       "    </tr>\n",
       "    <tr>\n",
       "      <th>2021-09-30</th>\n",
       "      <td>8.528</td>\n",
       "      <td>0.0</td>\n",
       "    </tr>\n",
       "    <tr>\n",
       "      <th>2021-12-31</th>\n",
       "      <td>11.161</td>\n",
       "      <td>0.0</td>\n",
       "    </tr>\n",
       "  </tbody>\n",
       "</table>\n",
       "</div>"
      ],
      "text/plain": [
       "            USDTRY  USDTRY_CBOUND\n",
       "Date                             \n",
       "2020-03-31   6.094            0.0\n",
       "2020-06-30   6.853            0.0\n",
       "2020-09-30   7.208            0.0\n",
       "2020-12-31   7.862            1.0\n",
       "2021-03-31   7.377            1.0\n",
       "2021-06-30   8.370            0.0\n",
       "2021-09-30   8.528            0.0\n",
       "2021-12-31  11.161            0.0"
      ]
     },
     "execution_count": 124,
     "metadata": {},
     "output_type": "execute_result"
    }
   ],
   "source": [
    "usdtry_d1"
   ]
  },
  {
   "cell_type": "code",
   "execution_count": 96,
   "metadata": {},
   "outputs": [],
   "source": [
    "# this gives you a dummy series that its values are equal to 1 if a value in usdtry is equal or greater than 7.21\n",
    "# or equal or smaller than 8.37 (open bounds).\n",
    "usdtry_d1 = transformator.dummy(usdtry, \"[]\", \"7.21, 8.37\", keep_originals=False)"
   ]
  },
  {
   "cell_type": "code",
   "execution_count": 109,
   "metadata": {},
   "outputs": [],
   "source": [
    "# bounds can be given as lists or tuples as well\n",
    "open_bounds = [7.21, 8.37]\n",
    "usdtry_d1 = transformator.dummy(usdtry, \"[]\", open_bounds)"
   ]
  },
  {
   "cell_type": "code",
   "execution_count": 110,
   "metadata": {},
   "outputs": [
    {
     "data": {
      "text/html": [
       "<div>\n",
       "<style scoped>\n",
       "    .dataframe tbody tr th:only-of-type {\n",
       "        vertical-align: middle;\n",
       "    }\n",
       "\n",
       "    .dataframe tbody tr th {\n",
       "        vertical-align: top;\n",
       "    }\n",
       "\n",
       "    .dataframe thead th {\n",
       "        text-align: right;\n",
       "    }\n",
       "</style>\n",
       "<table border=\"1\" class=\"dataframe\">\n",
       "  <thead>\n",
       "    <tr style=\"text-align: right;\">\n",
       "      <th></th>\n",
       "      <th>USDTRY</th>\n",
       "      <th>USDTRY_OBOUND</th>\n",
       "    </tr>\n",
       "    <tr>\n",
       "      <th>Date</th>\n",
       "      <th></th>\n",
       "      <th></th>\n",
       "    </tr>\n",
       "  </thead>\n",
       "  <tbody>\n",
       "    <tr>\n",
       "      <th>2020-03-31</th>\n",
       "      <td>6.094</td>\n",
       "      <td>0.0</td>\n",
       "    </tr>\n",
       "    <tr>\n",
       "      <th>2020-06-30</th>\n",
       "      <td>6.853</td>\n",
       "      <td>0.0</td>\n",
       "    </tr>\n",
       "    <tr>\n",
       "      <th>2020-09-30</th>\n",
       "      <td>7.208</td>\n",
       "      <td>0.0</td>\n",
       "    </tr>\n",
       "    <tr>\n",
       "      <th>2020-12-31</th>\n",
       "      <td>7.862</td>\n",
       "      <td>1.0</td>\n",
       "    </tr>\n",
       "    <tr>\n",
       "      <th>2021-03-31</th>\n",
       "      <td>7.377</td>\n",
       "      <td>1.0</td>\n",
       "    </tr>\n",
       "    <tr>\n",
       "      <th>2021-06-30</th>\n",
       "      <td>8.370</td>\n",
       "      <td>1.0</td>\n",
       "    </tr>\n",
       "    <tr>\n",
       "      <th>2021-09-30</th>\n",
       "      <td>8.528</td>\n",
       "      <td>0.0</td>\n",
       "    </tr>\n",
       "    <tr>\n",
       "      <th>2021-12-31</th>\n",
       "      <td>11.161</td>\n",
       "      <td>0.0</td>\n",
       "    </tr>\n",
       "  </tbody>\n",
       "</table>\n",
       "</div>"
      ],
      "text/plain": [
       "            USDTRY  USDTRY_OBOUND\n",
       "Date                             \n",
       "2020-03-31   6.094            0.0\n",
       "2020-06-30   6.853            0.0\n",
       "2020-09-30   7.208            0.0\n",
       "2020-12-31   7.862            1.0\n",
       "2021-03-31   7.377            1.0\n",
       "2021-06-30   8.370            1.0\n",
       "2021-09-30   8.528            0.0\n",
       "2021-12-31  11.161            0.0"
      ]
     },
     "execution_count": 110,
     "metadata": {},
     "output_type": "execute_result"
    }
   ],
   "source": [
    "usdtry_d1"
   ]
  },
  {
   "cell_type": "markdown",
   "metadata": {},
   "source": [
    "`dummy()`, can be used for multi-dimentional series as well."
   ]
  },
  {
   "cell_type": "code",
   "execution_count": 125,
   "metadata": {},
   "outputs": [],
   "source": [
    "rates = connector.get_series(\"usdtry, eurtry\",\n",
    "                              start_date=\"01.01.2020\",\n",
    "                              end_date=\"01.01.2022\",\n",
    "                              frequency=\"Q\")"
   ]
  },
  {
   "cell_type": "code",
   "execution_count": 128,
   "metadata": {},
   "outputs": [],
   "source": [
    "# this gives you a dummy series that its values are equal to 1 if a value in usdtry is equal or greater than 7.21\n",
    "# or equal or smaller than 8.37 (open bounds).\n",
    "rates_d1 = transformator.dummy(rates, \"[]\", \"7.21, 8.37\", keep_originals=False)"
   ]
  },
  {
   "cell_type": "code",
   "execution_count": 129,
   "metadata": {},
   "outputs": [
    {
     "data": {
      "text/html": [
       "<div>\n",
       "<style scoped>\n",
       "    .dataframe tbody tr th:only-of-type {\n",
       "        vertical-align: middle;\n",
       "    }\n",
       "\n",
       "    .dataframe tbody tr th {\n",
       "        vertical-align: top;\n",
       "    }\n",
       "\n",
       "    .dataframe thead th {\n",
       "        text-align: right;\n",
       "    }\n",
       "</style>\n",
       "<table border=\"1\" class=\"dataframe\">\n",
       "  <thead>\n",
       "    <tr style=\"text-align: right;\">\n",
       "      <th></th>\n",
       "      <th>USDTRY_OBOUND</th>\n",
       "      <th>EURTRY_OBOUND</th>\n",
       "    </tr>\n",
       "    <tr>\n",
       "      <th>Date</th>\n",
       "      <th></th>\n",
       "      <th></th>\n",
       "    </tr>\n",
       "  </thead>\n",
       "  <tbody>\n",
       "    <tr>\n",
       "      <th>2020-03-31</th>\n",
       "      <td>0.0</td>\n",
       "      <td>0.0</td>\n",
       "    </tr>\n",
       "    <tr>\n",
       "      <th>2020-06-30</th>\n",
       "      <td>0.0</td>\n",
       "      <td>1.0</td>\n",
       "    </tr>\n",
       "    <tr>\n",
       "      <th>2020-09-30</th>\n",
       "      <td>0.0</td>\n",
       "      <td>0.0</td>\n",
       "    </tr>\n",
       "    <tr>\n",
       "      <th>2020-12-31</th>\n",
       "      <td>1.0</td>\n",
       "      <td>0.0</td>\n",
       "    </tr>\n",
       "    <tr>\n",
       "      <th>2021-03-31</th>\n",
       "      <td>1.0</td>\n",
       "      <td>0.0</td>\n",
       "    </tr>\n",
       "    <tr>\n",
       "      <th>2021-06-30</th>\n",
       "      <td>1.0</td>\n",
       "      <td>0.0</td>\n",
       "    </tr>\n",
       "    <tr>\n",
       "      <th>2021-09-30</th>\n",
       "      <td>0.0</td>\n",
       "      <td>0.0</td>\n",
       "    </tr>\n",
       "    <tr>\n",
       "      <th>2021-12-31</th>\n",
       "      <td>0.0</td>\n",
       "      <td>0.0</td>\n",
       "    </tr>\n",
       "  </tbody>\n",
       "</table>\n",
       "</div>"
      ],
      "text/plain": [
       "            USDTRY_OBOUND  EURTRY_OBOUND\n",
       "Date                                    \n",
       "2020-03-31            0.0            0.0\n",
       "2020-06-30            0.0            1.0\n",
       "2020-09-30            0.0            0.0\n",
       "2020-12-31            1.0            0.0\n",
       "2021-03-31            1.0            0.0\n",
       "2021-06-30            1.0            0.0\n",
       "2021-09-30            0.0            0.0\n",
       "2021-12-31            0.0            0.0"
      ]
     },
     "execution_count": 129,
     "metadata": {},
     "output_type": "execute_result"
    }
   ],
   "source": [
    "rates_d1"
   ]
  },
  {
   "cell_type": "markdown",
   "metadata": {},
   "source": [
    "#### 4.16. [__Lagged Series: y<sub>t-1</sub>, y<sub>t-2</sub> ... y<sub>t-n</sub>__](https://github.com/syncoding/evdsts/blob/master/docs/manuals/manual_en.md#get-laggeds)"
   ]
  },
  {
   "cell_type": "markdown",
   "metadata": {},
   "source": [
    "You can use `laggeds()` method to get lagged series of given series. This series can be useful for\n",
    "some specific modelling and, correcting the serial correlation problem in general."
   ]
  },
  {
   "cell_type": "code",
   "execution_count": 3,
   "metadata": {},
   "outputs": [],
   "source": [
    "usdtry = connector.get_series(\"usdtry\",\n",
    "                              start_date=\"01.01.2020\",\n",
    "                              end_date=\"01.01.2022\",\n",
    "                              frequency=\"Q\")"
   ]
  },
  {
   "cell_type": "code",
   "execution_count": 4,
   "metadata": {},
   "outputs": [],
   "source": [
    "rates = connector.get_series(\"usdtry, eurtry\",\n",
    "                              start_date=\"01.01.2020\",\n",
    "                              end_date=\"01.01.2022\",\n",
    "                              frequency=\"Q\")"
   ]
  },
  {
   "cell_type": "code",
   "execution_count": 7,
   "metadata": {},
   "outputs": [],
   "source": [
    "# this gives you only usdtry(t-2)\n",
    "usdtry_l2 = transformator.laggeds(usdtry, lags=2)"
   ]
  },
  {
   "cell_type": "code",
   "execution_count": 8,
   "metadata": {},
   "outputs": [
    {
     "data": {
      "text/html": [
       "<div>\n",
       "<style scoped>\n",
       "    .dataframe tbody tr th:only-of-type {\n",
       "        vertical-align: middle;\n",
       "    }\n",
       "\n",
       "    .dataframe tbody tr th {\n",
       "        vertical-align: top;\n",
       "    }\n",
       "\n",
       "    .dataframe thead th {\n",
       "        text-align: right;\n",
       "    }\n",
       "</style>\n",
       "<table border=\"1\" class=\"dataframe\">\n",
       "  <thead>\n",
       "    <tr style=\"text-align: right;\">\n",
       "      <th></th>\n",
       "      <th>USDTRY</th>\n",
       "      <th>USDTRY_LAG_2</th>\n",
       "    </tr>\n",
       "    <tr>\n",
       "      <th>Date</th>\n",
       "      <th></th>\n",
       "      <th></th>\n",
       "    </tr>\n",
       "  </thead>\n",
       "  <tbody>\n",
       "    <tr>\n",
       "      <th>2020-03-31</th>\n",
       "      <td>6.093850</td>\n",
       "      <td>NaN</td>\n",
       "    </tr>\n",
       "    <tr>\n",
       "      <th>2020-06-30</th>\n",
       "      <td>6.852923</td>\n",
       "      <td>NaN</td>\n",
       "    </tr>\n",
       "    <tr>\n",
       "      <th>2020-09-30</th>\n",
       "      <td>7.207746</td>\n",
       "      <td>6.093850</td>\n",
       "    </tr>\n",
       "    <tr>\n",
       "      <th>2020-12-31</th>\n",
       "      <td>7.861628</td>\n",
       "      <td>6.852923</td>\n",
       "    </tr>\n",
       "    <tr>\n",
       "      <th>2021-03-31</th>\n",
       "      <td>7.377400</td>\n",
       "      <td>7.207746</td>\n",
       "    </tr>\n",
       "    <tr>\n",
       "      <th>2021-06-30</th>\n",
       "      <td>8.369557</td>\n",
       "      <td>7.861628</td>\n",
       "    </tr>\n",
       "    <tr>\n",
       "      <th>2021-09-30</th>\n",
       "      <td>8.527857</td>\n",
       "      <td>7.377400</td>\n",
       "    </tr>\n",
       "    <tr>\n",
       "      <th>2021-12-31</th>\n",
       "      <td>11.161016</td>\n",
       "      <td>8.369557</td>\n",
       "    </tr>\n",
       "  </tbody>\n",
       "</table>\n",
       "</div>"
      ],
      "text/plain": [
       "               USDTRY  USDTRY_LAG_2\n",
       "Date                               \n",
       "2020-03-31   6.093850           NaN\n",
       "2020-06-30   6.852923           NaN\n",
       "2020-09-30   7.207746      6.093850\n",
       "2020-12-31   7.861628      6.852923\n",
       "2021-03-31   7.377400      7.207746\n",
       "2021-06-30   8.369557      7.861628\n",
       "2021-09-30   8.527857      7.377400\n",
       "2021-12-31  11.161016      8.369557"
      ]
     },
     "execution_count": 8,
     "metadata": {},
     "output_type": "execute_result"
    }
   ],
   "source": [
    "usdtry_l2"
   ]
  },
  {
   "cell_type": "code",
   "execution_count": 10,
   "metadata": {},
   "outputs": [],
   "source": [
    "# this gives you usdtry(t-1), usdtry(t-3) and usdtry(t-5)\n",
    "usdtry_135 = transformator.laggeds(usdtry, lags=\"1, 3, 5\")"
   ]
  },
  {
   "cell_type": "code",
   "execution_count": 11,
   "metadata": {},
   "outputs": [
    {
     "data": {
      "text/html": [
       "<div>\n",
       "<style scoped>\n",
       "    .dataframe tbody tr th:only-of-type {\n",
       "        vertical-align: middle;\n",
       "    }\n",
       "\n",
       "    .dataframe tbody tr th {\n",
       "        vertical-align: top;\n",
       "    }\n",
       "\n",
       "    .dataframe thead th {\n",
       "        text-align: right;\n",
       "    }\n",
       "</style>\n",
       "<table border=\"1\" class=\"dataframe\">\n",
       "  <thead>\n",
       "    <tr style=\"text-align: right;\">\n",
       "      <th></th>\n",
       "      <th>USDTRY</th>\n",
       "      <th>USDTRY_LAG_1</th>\n",
       "      <th>USDTRY_LAG_3</th>\n",
       "      <th>USDTRY_LAG_5</th>\n",
       "    </tr>\n",
       "    <tr>\n",
       "      <th>Date</th>\n",
       "      <th></th>\n",
       "      <th></th>\n",
       "      <th></th>\n",
       "      <th></th>\n",
       "    </tr>\n",
       "  </thead>\n",
       "  <tbody>\n",
       "    <tr>\n",
       "      <th>2020-03-31</th>\n",
       "      <td>6.093850</td>\n",
       "      <td>NaN</td>\n",
       "      <td>NaN</td>\n",
       "      <td>NaN</td>\n",
       "    </tr>\n",
       "    <tr>\n",
       "      <th>2020-06-30</th>\n",
       "      <td>6.852923</td>\n",
       "      <td>6.093850</td>\n",
       "      <td>NaN</td>\n",
       "      <td>NaN</td>\n",
       "    </tr>\n",
       "    <tr>\n",
       "      <th>2020-09-30</th>\n",
       "      <td>7.207746</td>\n",
       "      <td>6.852923</td>\n",
       "      <td>NaN</td>\n",
       "      <td>NaN</td>\n",
       "    </tr>\n",
       "    <tr>\n",
       "      <th>2020-12-31</th>\n",
       "      <td>7.861628</td>\n",
       "      <td>7.207746</td>\n",
       "      <td>6.093850</td>\n",
       "      <td>NaN</td>\n",
       "    </tr>\n",
       "    <tr>\n",
       "      <th>2021-03-31</th>\n",
       "      <td>7.377400</td>\n",
       "      <td>7.861628</td>\n",
       "      <td>6.852923</td>\n",
       "      <td>NaN</td>\n",
       "    </tr>\n",
       "    <tr>\n",
       "      <th>2021-06-30</th>\n",
       "      <td>8.369557</td>\n",
       "      <td>7.377400</td>\n",
       "      <td>7.207746</td>\n",
       "      <td>6.093850</td>\n",
       "    </tr>\n",
       "    <tr>\n",
       "      <th>2021-09-30</th>\n",
       "      <td>8.527857</td>\n",
       "      <td>8.369557</td>\n",
       "      <td>7.861628</td>\n",
       "      <td>6.852923</td>\n",
       "    </tr>\n",
       "    <tr>\n",
       "      <th>2021-12-31</th>\n",
       "      <td>11.161016</td>\n",
       "      <td>8.527857</td>\n",
       "      <td>7.377400</td>\n",
       "      <td>7.207746</td>\n",
       "    </tr>\n",
       "  </tbody>\n",
       "</table>\n",
       "</div>"
      ],
      "text/plain": [
       "               USDTRY  USDTRY_LAG_1  USDTRY_LAG_3  USDTRY_LAG_5\n",
       "Date                                                           \n",
       "2020-03-31   6.093850           NaN           NaN           NaN\n",
       "2020-06-30   6.852923      6.093850           NaN           NaN\n",
       "2020-09-30   7.207746      6.852923           NaN           NaN\n",
       "2020-12-31   7.861628      7.207746      6.093850           NaN\n",
       "2021-03-31   7.377400      7.861628      6.852923           NaN\n",
       "2021-06-30   8.369557      7.377400      7.207746      6.093850\n",
       "2021-09-30   8.527857      8.369557      7.861628      6.852923\n",
       "2021-12-31  11.161016      8.527857      7.377400      7.207746"
      ]
     },
     "execution_count": 11,
     "metadata": {},
     "output_type": "execute_result"
    }
   ],
   "source": [
    "usdtry_135"
   ]
  },
  {
   "cell_type": "code",
   "execution_count": 12,
   "metadata": {},
   "outputs": [],
   "source": [
    "lags = [1, 3, 5]\n",
    "\n",
    "# this also gives you usdtry(t-1), usdtry(t-3) and usdtry(t-5)\n",
    "usdtry_135 = transformator.laggeds(usdtry, lags=lags)"
   ]
  },
  {
   "cell_type": "code",
   "execution_count": 13,
   "metadata": {},
   "outputs": [
    {
     "data": {
      "text/html": [
       "<div>\n",
       "<style scoped>\n",
       "    .dataframe tbody tr th:only-of-type {\n",
       "        vertical-align: middle;\n",
       "    }\n",
       "\n",
       "    .dataframe tbody tr th {\n",
       "        vertical-align: top;\n",
       "    }\n",
       "\n",
       "    .dataframe thead th {\n",
       "        text-align: right;\n",
       "    }\n",
       "</style>\n",
       "<table border=\"1\" class=\"dataframe\">\n",
       "  <thead>\n",
       "    <tr style=\"text-align: right;\">\n",
       "      <th></th>\n",
       "      <th>USDTRY</th>\n",
       "      <th>USDTRY_LAG_1</th>\n",
       "      <th>USDTRY_LAG_3</th>\n",
       "      <th>USDTRY_LAG_5</th>\n",
       "    </tr>\n",
       "    <tr>\n",
       "      <th>Date</th>\n",
       "      <th></th>\n",
       "      <th></th>\n",
       "      <th></th>\n",
       "      <th></th>\n",
       "    </tr>\n",
       "  </thead>\n",
       "  <tbody>\n",
       "    <tr>\n",
       "      <th>2020-03-31</th>\n",
       "      <td>6.093850</td>\n",
       "      <td>NaN</td>\n",
       "      <td>NaN</td>\n",
       "      <td>NaN</td>\n",
       "    </tr>\n",
       "    <tr>\n",
       "      <th>2020-06-30</th>\n",
       "      <td>6.852923</td>\n",
       "      <td>6.093850</td>\n",
       "      <td>NaN</td>\n",
       "      <td>NaN</td>\n",
       "    </tr>\n",
       "    <tr>\n",
       "      <th>2020-09-30</th>\n",
       "      <td>7.207746</td>\n",
       "      <td>6.852923</td>\n",
       "      <td>NaN</td>\n",
       "      <td>NaN</td>\n",
       "    </tr>\n",
       "    <tr>\n",
       "      <th>2020-12-31</th>\n",
       "      <td>7.861628</td>\n",
       "      <td>7.207746</td>\n",
       "      <td>6.093850</td>\n",
       "      <td>NaN</td>\n",
       "    </tr>\n",
       "    <tr>\n",
       "      <th>2021-03-31</th>\n",
       "      <td>7.377400</td>\n",
       "      <td>7.861628</td>\n",
       "      <td>6.852923</td>\n",
       "      <td>NaN</td>\n",
       "    </tr>\n",
       "    <tr>\n",
       "      <th>2021-06-30</th>\n",
       "      <td>8.369557</td>\n",
       "      <td>7.377400</td>\n",
       "      <td>7.207746</td>\n",
       "      <td>6.093850</td>\n",
       "    </tr>\n",
       "    <tr>\n",
       "      <th>2021-09-30</th>\n",
       "      <td>8.527857</td>\n",
       "      <td>8.369557</td>\n",
       "      <td>7.861628</td>\n",
       "      <td>6.852923</td>\n",
       "    </tr>\n",
       "    <tr>\n",
       "      <th>2021-12-31</th>\n",
       "      <td>11.161016</td>\n",
       "      <td>8.527857</td>\n",
       "      <td>7.377400</td>\n",
       "      <td>7.207746</td>\n",
       "    </tr>\n",
       "  </tbody>\n",
       "</table>\n",
       "</div>"
      ],
      "text/plain": [
       "               USDTRY  USDTRY_LAG_1  USDTRY_LAG_3  USDTRY_LAG_5\n",
       "Date                                                           \n",
       "2020-03-31   6.093850           NaN           NaN           NaN\n",
       "2020-06-30   6.852923      6.093850           NaN           NaN\n",
       "2020-09-30   7.207746      6.852923           NaN           NaN\n",
       "2020-12-31   7.861628      7.207746      6.093850           NaN\n",
       "2021-03-31   7.377400      7.861628      6.852923           NaN\n",
       "2021-06-30   8.369557      7.377400      7.207746      6.093850\n",
       "2021-09-30   8.527857      8.369557      7.861628      6.852923\n",
       "2021-12-31  11.161016      8.527857      7.377400      7.207746"
      ]
     },
     "execution_count": 13,
     "metadata": {},
     "output_type": "execute_result"
    }
   ],
   "source": [
    "usdtry_135"
   ]
  },
  {
   "cell_type": "code",
   "execution_count": 14,
   "metadata": {},
   "outputs": [],
   "source": [
    "# this gives you usdtry(t-1), usdtry(t-2), usdtry(t-3)\n",
    "usdtry_3 = transformator.laggeds(usdtry, range_lags=3)"
   ]
  },
  {
   "cell_type": "code",
   "execution_count": 15,
   "metadata": {},
   "outputs": [
    {
     "data": {
      "text/html": [
       "<div>\n",
       "<style scoped>\n",
       "    .dataframe tbody tr th:only-of-type {\n",
       "        vertical-align: middle;\n",
       "    }\n",
       "\n",
       "    .dataframe tbody tr th {\n",
       "        vertical-align: top;\n",
       "    }\n",
       "\n",
       "    .dataframe thead th {\n",
       "        text-align: right;\n",
       "    }\n",
       "</style>\n",
       "<table border=\"1\" class=\"dataframe\">\n",
       "  <thead>\n",
       "    <tr style=\"text-align: right;\">\n",
       "      <th></th>\n",
       "      <th>USDTRY</th>\n",
       "      <th>USDTRY_LAG_1</th>\n",
       "      <th>USDTRY_LAG_2</th>\n",
       "      <th>USDTRY_LAG_3</th>\n",
       "    </tr>\n",
       "    <tr>\n",
       "      <th>Date</th>\n",
       "      <th></th>\n",
       "      <th></th>\n",
       "      <th></th>\n",
       "      <th></th>\n",
       "    </tr>\n",
       "  </thead>\n",
       "  <tbody>\n",
       "    <tr>\n",
       "      <th>2020-03-31</th>\n",
       "      <td>6.093850</td>\n",
       "      <td>NaN</td>\n",
       "      <td>NaN</td>\n",
       "      <td>NaN</td>\n",
       "    </tr>\n",
       "    <tr>\n",
       "      <th>2020-06-30</th>\n",
       "      <td>6.852923</td>\n",
       "      <td>6.093850</td>\n",
       "      <td>NaN</td>\n",
       "      <td>NaN</td>\n",
       "    </tr>\n",
       "    <tr>\n",
       "      <th>2020-09-30</th>\n",
       "      <td>7.207746</td>\n",
       "      <td>6.852923</td>\n",
       "      <td>6.093850</td>\n",
       "      <td>NaN</td>\n",
       "    </tr>\n",
       "    <tr>\n",
       "      <th>2020-12-31</th>\n",
       "      <td>7.861628</td>\n",
       "      <td>7.207746</td>\n",
       "      <td>6.852923</td>\n",
       "      <td>6.093850</td>\n",
       "    </tr>\n",
       "    <tr>\n",
       "      <th>2021-03-31</th>\n",
       "      <td>7.377400</td>\n",
       "      <td>7.861628</td>\n",
       "      <td>7.207746</td>\n",
       "      <td>6.852923</td>\n",
       "    </tr>\n",
       "    <tr>\n",
       "      <th>2021-06-30</th>\n",
       "      <td>8.369557</td>\n",
       "      <td>7.377400</td>\n",
       "      <td>7.861628</td>\n",
       "      <td>7.207746</td>\n",
       "    </tr>\n",
       "    <tr>\n",
       "      <th>2021-09-30</th>\n",
       "      <td>8.527857</td>\n",
       "      <td>8.369557</td>\n",
       "      <td>7.377400</td>\n",
       "      <td>7.861628</td>\n",
       "    </tr>\n",
       "    <tr>\n",
       "      <th>2021-12-31</th>\n",
       "      <td>11.161016</td>\n",
       "      <td>8.527857</td>\n",
       "      <td>8.369557</td>\n",
       "      <td>7.377400</td>\n",
       "    </tr>\n",
       "  </tbody>\n",
       "</table>\n",
       "</div>"
      ],
      "text/plain": [
       "               USDTRY  USDTRY_LAG_1  USDTRY_LAG_2  USDTRY_LAG_3\n",
       "Date                                                           \n",
       "2020-03-31   6.093850           NaN           NaN           NaN\n",
       "2020-06-30   6.852923      6.093850           NaN           NaN\n",
       "2020-09-30   7.207746      6.852923      6.093850           NaN\n",
       "2020-12-31   7.861628      7.207746      6.852923      6.093850\n",
       "2021-03-31   7.377400      7.861628      7.207746      6.852923\n",
       "2021-06-30   8.369557      7.377400      7.861628      7.207746\n",
       "2021-09-30   8.527857      8.369557      7.377400      7.861628\n",
       "2021-12-31  11.161016      8.527857      8.369557      7.377400"
      ]
     },
     "execution_count": 15,
     "metadata": {},
     "output_type": "execute_result"
    }
   ],
   "source": [
    "usdtry_3"
   ]
  },
  {
   "cell_type": "code",
   "execution_count": 18,
   "metadata": {},
   "outputs": [],
   "source": [
    "# this gives you usdtry(t-1), usdtry(t-2), usdtry(t-4), usdtry(t-6)\n",
    "usdtry_12612 = transformator.laggeds(usdtry, range_lags=2, lags=\"4, 6\")"
   ]
  },
  {
   "cell_type": "code",
   "execution_count": 19,
   "metadata": {},
   "outputs": [
    {
     "data": {
      "text/html": [
       "<div>\n",
       "<style scoped>\n",
       "    .dataframe tbody tr th:only-of-type {\n",
       "        vertical-align: middle;\n",
       "    }\n",
       "\n",
       "    .dataframe tbody tr th {\n",
       "        vertical-align: top;\n",
       "    }\n",
       "\n",
       "    .dataframe thead th {\n",
       "        text-align: right;\n",
       "    }\n",
       "</style>\n",
       "<table border=\"1\" class=\"dataframe\">\n",
       "  <thead>\n",
       "    <tr style=\"text-align: right;\">\n",
       "      <th></th>\n",
       "      <th>USDTRY</th>\n",
       "      <th>USDTRY_LAG_1</th>\n",
       "      <th>USDTRY_LAG_2</th>\n",
       "      <th>USDTRY_LAG_4</th>\n",
       "      <th>USDTRY_LAG_6</th>\n",
       "    </tr>\n",
       "    <tr>\n",
       "      <th>Date</th>\n",
       "      <th></th>\n",
       "      <th></th>\n",
       "      <th></th>\n",
       "      <th></th>\n",
       "      <th></th>\n",
       "    </tr>\n",
       "  </thead>\n",
       "  <tbody>\n",
       "    <tr>\n",
       "      <th>2020-03-31</th>\n",
       "      <td>6.093850</td>\n",
       "      <td>NaN</td>\n",
       "      <td>NaN</td>\n",
       "      <td>NaN</td>\n",
       "      <td>NaN</td>\n",
       "    </tr>\n",
       "    <tr>\n",
       "      <th>2020-06-30</th>\n",
       "      <td>6.852923</td>\n",
       "      <td>6.093850</td>\n",
       "      <td>NaN</td>\n",
       "      <td>NaN</td>\n",
       "      <td>NaN</td>\n",
       "    </tr>\n",
       "    <tr>\n",
       "      <th>2020-09-30</th>\n",
       "      <td>7.207746</td>\n",
       "      <td>6.852923</td>\n",
       "      <td>6.093850</td>\n",
       "      <td>NaN</td>\n",
       "      <td>NaN</td>\n",
       "    </tr>\n",
       "    <tr>\n",
       "      <th>2020-12-31</th>\n",
       "      <td>7.861628</td>\n",
       "      <td>7.207746</td>\n",
       "      <td>6.852923</td>\n",
       "      <td>NaN</td>\n",
       "      <td>NaN</td>\n",
       "    </tr>\n",
       "    <tr>\n",
       "      <th>2021-03-31</th>\n",
       "      <td>7.377400</td>\n",
       "      <td>7.861628</td>\n",
       "      <td>7.207746</td>\n",
       "      <td>6.093850</td>\n",
       "      <td>NaN</td>\n",
       "    </tr>\n",
       "    <tr>\n",
       "      <th>2021-06-30</th>\n",
       "      <td>8.369557</td>\n",
       "      <td>7.377400</td>\n",
       "      <td>7.861628</td>\n",
       "      <td>6.852923</td>\n",
       "      <td>NaN</td>\n",
       "    </tr>\n",
       "    <tr>\n",
       "      <th>2021-09-30</th>\n",
       "      <td>8.527857</td>\n",
       "      <td>8.369557</td>\n",
       "      <td>7.377400</td>\n",
       "      <td>7.207746</td>\n",
       "      <td>6.093850</td>\n",
       "    </tr>\n",
       "    <tr>\n",
       "      <th>2021-12-31</th>\n",
       "      <td>11.161016</td>\n",
       "      <td>8.527857</td>\n",
       "      <td>8.369557</td>\n",
       "      <td>7.861628</td>\n",
       "      <td>6.852923</td>\n",
       "    </tr>\n",
       "  </tbody>\n",
       "</table>\n",
       "</div>"
      ],
      "text/plain": [
       "               USDTRY  USDTRY_LAG_1  USDTRY_LAG_2  USDTRY_LAG_4  USDTRY_LAG_6\n",
       "Date                                                                         \n",
       "2020-03-31   6.093850           NaN           NaN           NaN           NaN\n",
       "2020-06-30   6.852923      6.093850           NaN           NaN           NaN\n",
       "2020-09-30   7.207746      6.852923      6.093850           NaN           NaN\n",
       "2020-12-31   7.861628      7.207746      6.852923           NaN           NaN\n",
       "2021-03-31   7.377400      7.861628      7.207746      6.093850           NaN\n",
       "2021-06-30   8.369557      7.377400      7.861628      6.852923           NaN\n",
       "2021-09-30   8.527857      8.369557      7.377400      7.207746      6.093850\n",
       "2021-12-31  11.161016      8.527857      8.369557      7.861628      6.852923"
      ]
     },
     "execution_count": 19,
     "metadata": {},
     "output_type": "execute_result"
    }
   ],
   "source": [
    "usdtry_12612"
   ]
  },
  {
   "cell_type": "markdown",
   "metadata": {},
   "source": [
    "`laggeds()`, can be used for multi-dimentional series as well."
   ]
  },
  {
   "cell_type": "code",
   "execution_count": 22,
   "metadata": {},
   "outputs": [],
   "source": [
    "# this gives you usdtry(t-1), eurtry(t-1), usdtry(t-2), eurtry(t-2),\n",
    "# usdtry(t-4), eurtry(t-4), usdtry(t-6), eurtry(t-6)\n",
    "rates_lag = transformator.laggeds(rates, range_lags=2, lags=\"4, 6\", precision=2, keep_originals=False)"
   ]
  },
  {
   "cell_type": "code",
   "execution_count": 23,
   "metadata": {},
   "outputs": [
    {
     "data": {
      "text/html": [
       "<div>\n",
       "<style scoped>\n",
       "    .dataframe tbody tr th:only-of-type {\n",
       "        vertical-align: middle;\n",
       "    }\n",
       "\n",
       "    .dataframe tbody tr th {\n",
       "        vertical-align: top;\n",
       "    }\n",
       "\n",
       "    .dataframe thead th {\n",
       "        text-align: right;\n",
       "    }\n",
       "</style>\n",
       "<table border=\"1\" class=\"dataframe\">\n",
       "  <thead>\n",
       "    <tr style=\"text-align: right;\">\n",
       "      <th></th>\n",
       "      <th>USDTRY_LAG_1</th>\n",
       "      <th>EURTRY_LAG_1</th>\n",
       "      <th>USDTRY_LAG_2</th>\n",
       "      <th>EURTRY_LAG_2</th>\n",
       "      <th>USDTRY_LAG_4</th>\n",
       "      <th>EURTRY_LAG_4</th>\n",
       "      <th>USDTRY_LAG_6</th>\n",
       "      <th>EURTRY_LAG_6</th>\n",
       "    </tr>\n",
       "    <tr>\n",
       "      <th>Date</th>\n",
       "      <th></th>\n",
       "      <th></th>\n",
       "      <th></th>\n",
       "      <th></th>\n",
       "      <th></th>\n",
       "      <th></th>\n",
       "      <th></th>\n",
       "      <th></th>\n",
       "    </tr>\n",
       "  </thead>\n",
       "  <tbody>\n",
       "    <tr>\n",
       "      <th>2020-03-31</th>\n",
       "      <td>NaN</td>\n",
       "      <td>NaN</td>\n",
       "      <td>NaN</td>\n",
       "      <td>NaN</td>\n",
       "      <td>NaN</td>\n",
       "      <td>NaN</td>\n",
       "      <td>NaN</td>\n",
       "      <td>NaN</td>\n",
       "    </tr>\n",
       "    <tr>\n",
       "      <th>2020-06-30</th>\n",
       "      <td>6.09</td>\n",
       "      <td>6.72</td>\n",
       "      <td>NaN</td>\n",
       "      <td>NaN</td>\n",
       "      <td>NaN</td>\n",
       "      <td>NaN</td>\n",
       "      <td>NaN</td>\n",
       "      <td>NaN</td>\n",
       "    </tr>\n",
       "    <tr>\n",
       "      <th>2020-09-30</th>\n",
       "      <td>6.85</td>\n",
       "      <td>7.55</td>\n",
       "      <td>6.09</td>\n",
       "      <td>6.72</td>\n",
       "      <td>NaN</td>\n",
       "      <td>NaN</td>\n",
       "      <td>NaN</td>\n",
       "      <td>NaN</td>\n",
       "    </tr>\n",
       "    <tr>\n",
       "      <th>2020-12-31</th>\n",
       "      <td>7.21</td>\n",
       "      <td>8.42</td>\n",
       "      <td>6.85</td>\n",
       "      <td>7.55</td>\n",
       "      <td>NaN</td>\n",
       "      <td>NaN</td>\n",
       "      <td>NaN</td>\n",
       "      <td>NaN</td>\n",
       "    </tr>\n",
       "    <tr>\n",
       "      <th>2021-03-31</th>\n",
       "      <td>7.86</td>\n",
       "      <td>9.37</td>\n",
       "      <td>7.21</td>\n",
       "      <td>8.42</td>\n",
       "      <td>6.09</td>\n",
       "      <td>6.72</td>\n",
       "      <td>NaN</td>\n",
       "      <td>NaN</td>\n",
       "    </tr>\n",
       "    <tr>\n",
       "      <th>2021-06-30</th>\n",
       "      <td>7.38</td>\n",
       "      <td>8.90</td>\n",
       "      <td>7.86</td>\n",
       "      <td>9.37</td>\n",
       "      <td>6.85</td>\n",
       "      <td>7.55</td>\n",
       "      <td>NaN</td>\n",
       "      <td>NaN</td>\n",
       "    </tr>\n",
       "    <tr>\n",
       "      <th>2021-09-30</th>\n",
       "      <td>8.37</td>\n",
       "      <td>10.08</td>\n",
       "      <td>7.38</td>\n",
       "      <td>8.90</td>\n",
       "      <td>7.21</td>\n",
       "      <td>8.42</td>\n",
       "      <td>6.09</td>\n",
       "      <td>6.72</td>\n",
       "    </tr>\n",
       "    <tr>\n",
       "      <th>2021-12-31</th>\n",
       "      <td>8.53</td>\n",
       "      <td>10.06</td>\n",
       "      <td>8.37</td>\n",
       "      <td>10.08</td>\n",
       "      <td>7.86</td>\n",
       "      <td>9.37</td>\n",
       "      <td>6.85</td>\n",
       "      <td>7.55</td>\n",
       "    </tr>\n",
       "  </tbody>\n",
       "</table>\n",
       "</div>"
      ],
      "text/plain": [
       "            USDTRY_LAG_1  EURTRY_LAG_1  USDTRY_LAG_2  EURTRY_LAG_2  \\\n",
       "Date                                                                 \n",
       "2020-03-31           NaN           NaN           NaN           NaN   \n",
       "2020-06-30          6.09          6.72           NaN           NaN   \n",
       "2020-09-30          6.85          7.55          6.09          6.72   \n",
       "2020-12-31          7.21          8.42          6.85          7.55   \n",
       "2021-03-31          7.86          9.37          7.21          8.42   \n",
       "2021-06-30          7.38          8.90          7.86          9.37   \n",
       "2021-09-30          8.37         10.08          7.38          8.90   \n",
       "2021-12-31          8.53         10.06          8.37         10.08   \n",
       "\n",
       "            USDTRY_LAG_4  EURTRY_LAG_4  USDTRY_LAG_6  EURTRY_LAG_6  \n",
       "Date                                                                \n",
       "2020-03-31           NaN           NaN           NaN           NaN  \n",
       "2020-06-30           NaN           NaN           NaN           NaN  \n",
       "2020-09-30           NaN           NaN           NaN           NaN  \n",
       "2020-12-31           NaN           NaN           NaN           NaN  \n",
       "2021-03-31          6.09          6.72           NaN           NaN  \n",
       "2021-06-30          6.85          7.55           NaN           NaN  \n",
       "2021-09-30          7.21          8.42          6.09          6.72  \n",
       "2021-12-31          7.86          9.37          6.85          7.55  "
      ]
     },
     "execution_count": 23,
     "metadata": {},
     "output_type": "execute_result"
    }
   ],
   "source": [
    "rates_lag"
   ]
  },
  {
   "cell_type": "markdown",
   "metadata": {},
   "source": [
    "#### 4.17. [__Correlation Coefficients: ρ(y<sub>t</sub>, x<sub>t</sub>)__](https://github.com/syncoding/evdsts/blob/master/docs/manuals/manual_en.md#get-corr)"
   ]
  },
  {
   "cell_type": "markdown",
   "metadata": {},
   "source": [
    "You can use `corr()` method to get correlation coefficients between given series. This is especially\n",
    "important for easily detecting possible multi co-linearity problem in considering model.\n",
    "Significant correlations (`ρ > 0.6` or `ρ < -0.6` in general) between considering independent\n",
    "variables for a model indicate that the considering model will probably suffer from multi co-linearity\n",
    "problem. You can get `Pearson Linear`, `Kendall Tau`, and `Spearman Rank` correlation coefficients using\n",
    "`corr()` method."
   ]
  },
  {
   "cell_type": "markdown",
   "metadata": {},
   "source": [
    "> Notice that computing the Kendall Tau correlation coefficients requires the `scipy` package."
   ]
  },
  {
   "cell_type": "code",
   "execution_count": 29,
   "metadata": {},
   "outputs": [],
   "source": [
    "# get series using reference names\n",
    "series = connector.get_series(\"usdtry, eurtry, bist100\",\n",
    "                              start_date=\"01.01.2021\",\n",
    "                              end_date=\"31.12.2021\",\n",
    "                              frequency=\"M\")"
   ]
  },
  {
   "cell_type": "code",
   "execution_count": 30,
   "metadata": {},
   "outputs": [],
   "source": [
    "# this gives you the Pearson's linear correlation coeeficient between usdtry, eurtry and bist100 series\n",
    "corrs = transformator.corr(series, precision=4)"
   ]
  },
  {
   "cell_type": "code",
   "execution_count": 31,
   "metadata": {},
   "outputs": [
    {
     "data": {
      "text/html": [
       "<div>\n",
       "<style scoped>\n",
       "    .dataframe tbody tr th:only-of-type {\n",
       "        vertical-align: middle;\n",
       "    }\n",
       "\n",
       "    .dataframe tbody tr th {\n",
       "        vertical-align: top;\n",
       "    }\n",
       "\n",
       "    .dataframe thead th {\n",
       "        text-align: right;\n",
       "    }\n",
       "</style>\n",
       "<table border=\"1\" class=\"dataframe\">\n",
       "  <thead>\n",
       "    <tr style=\"text-align: right;\">\n",
       "      <th></th>\n",
       "      <th>USDTRY</th>\n",
       "      <th>EURTRY</th>\n",
       "      <th>BIST100</th>\n",
       "    </tr>\n",
       "  </thead>\n",
       "  <tbody>\n",
       "    <tr>\n",
       "      <th>USDTRY</th>\n",
       "      <td>1.0000</td>\n",
       "      <td>0.9978</td>\n",
       "      <td>0.8475</td>\n",
       "    </tr>\n",
       "    <tr>\n",
       "      <th>EURTRY</th>\n",
       "      <td>0.9978</td>\n",
       "      <td>1.0000</td>\n",
       "      <td>0.8287</td>\n",
       "    </tr>\n",
       "    <tr>\n",
       "      <th>BIST100</th>\n",
       "      <td>0.8475</td>\n",
       "      <td>0.8287</td>\n",
       "      <td>1.0000</td>\n",
       "    </tr>\n",
       "  </tbody>\n",
       "</table>\n",
       "</div>"
      ],
      "text/plain": [
       "         USDTRY  EURTRY  BIST100\n",
       "USDTRY   1.0000  0.9978   0.8475\n",
       "EURTRY   0.9978  1.0000   0.8287\n",
       "BIST100  0.8475  0.8287   1.0000"
      ]
     },
     "execution_count": 31,
     "metadata": {},
     "output_type": "execute_result"
    }
   ],
   "source": [
    "corrs"
   ]
  },
  {
   "cell_type": "code",
   "execution_count": 32,
   "metadata": {},
   "outputs": [],
   "source": [
    "# This gives you the Spearman rank correlation coefficients between usdtry, eurtry and bist100 series\n",
    "corrs_sp = transformator.corr(series, method='spearman')"
   ]
  },
  {
   "cell_type": "code",
   "execution_count": 33,
   "metadata": {},
   "outputs": [
    {
     "data": {
      "text/html": [
       "<div>\n",
       "<style scoped>\n",
       "    .dataframe tbody tr th:only-of-type {\n",
       "        vertical-align: middle;\n",
       "    }\n",
       "\n",
       "    .dataframe tbody tr th {\n",
       "        vertical-align: top;\n",
       "    }\n",
       "\n",
       "    .dataframe thead th {\n",
       "        text-align: right;\n",
       "    }\n",
       "</style>\n",
       "<table border=\"1\" class=\"dataframe\">\n",
       "  <thead>\n",
       "    <tr style=\"text-align: right;\">\n",
       "      <th></th>\n",
       "      <th>USDTRY</th>\n",
       "      <th>EURTRY</th>\n",
       "      <th>BIST100</th>\n",
       "    </tr>\n",
       "  </thead>\n",
       "  <tbody>\n",
       "    <tr>\n",
       "      <th>USDTRY</th>\n",
       "      <td>1.000000</td>\n",
       "      <td>0.972028</td>\n",
       "      <td>0.370629</td>\n",
       "    </tr>\n",
       "    <tr>\n",
       "      <th>EURTRY</th>\n",
       "      <td>0.972028</td>\n",
       "      <td>1.000000</td>\n",
       "      <td>0.349650</td>\n",
       "    </tr>\n",
       "    <tr>\n",
       "      <th>BIST100</th>\n",
       "      <td>0.370629</td>\n",
       "      <td>0.349650</td>\n",
       "      <td>1.000000</td>\n",
       "    </tr>\n",
       "  </tbody>\n",
       "</table>\n",
       "</div>"
      ],
      "text/plain": [
       "           USDTRY    EURTRY   BIST100\n",
       "USDTRY   1.000000  0.972028  0.370629\n",
       "EURTRY   0.972028  1.000000  0.349650\n",
       "BIST100  0.370629  0.349650  1.000000"
      ]
     },
     "execution_count": 33,
     "metadata": {},
     "output_type": "execute_result"
    }
   ],
   "source": [
    "corrs_sp"
   ]
  },
  {
   "cell_type": "markdown",
   "metadata": {},
   "source": [
    "#### 4.18. [__Autocorrelation Coefficients: AUTOCORR<sub>t</sub> = ρ<sub>t, t-n</sub>__](https://github.com/syncoding/evdsts/blob/master/docs/manuals/manual_en.md#get-auto-corr)"
   ]
  },
  {
   "cell_type": "markdown",
   "metadata": {},
   "source": [
    "You can use `autocorr()` method to get autocorrelations between the original series and given lags of\n",
    "them. The autocorrelations could provide you a very quick insight about the stationary state of the\n",
    "series provided. Significant correlations (`ρ > 0.6` or `ρ < -0.6` in general) between the series\n",
    "and its laggeds indicates that the observations are highly dependent on their prior values in time,\n",
    "and therefore, that would indicate that the mean of the series depends on and changes through time\n",
    "(a possible stochastic trend flag)."
   ]
  },
  {
   "cell_type": "code",
   "execution_count": 10,
   "metadata": {},
   "outputs": [],
   "source": [
    "usdtry = connector.get_series(\"usdtry\",\n",
    "                              start_date=\"01.01.2020\",\n",
    "                              end_date=\"01.01.2022\",\n",
    "                              frequency=\"W\")"
   ]
  },
  {
   "cell_type": "code",
   "execution_count": 13,
   "metadata": {},
   "outputs": [],
   "source": [
    "rates = connector.get_series(\"usdtry, eurtry\",\n",
    "                              start_date=\"01.01.2020\",\n",
    "                              end_date=\"01.01.2022\",\n",
    "                              frequency=\"Q\")"
   ]
  },
  {
   "cell_type": "code",
   "execution_count": 11,
   "metadata": {},
   "outputs": [
    {
     "data": {
      "text/html": [
       "<div>\n",
       "<style scoped>\n",
       "    .dataframe tbody tr th:only-of-type {\n",
       "        vertical-align: middle;\n",
       "    }\n",
       "\n",
       "    .dataframe tbody tr th {\n",
       "        vertical-align: top;\n",
       "    }\n",
       "\n",
       "    .dataframe thead th {\n",
       "        text-align: right;\n",
       "    }\n",
       "</style>\n",
       "<table border=\"1\" class=\"dataframe\">\n",
       "  <thead>\n",
       "    <tr style=\"text-align: right;\">\n",
       "      <th></th>\n",
       "      <th>USDTRY</th>\n",
       "    </tr>\n",
       "    <tr>\n",
       "      <th>Date</th>\n",
       "      <th></th>\n",
       "    </tr>\n",
       "  </thead>\n",
       "  <tbody>\n",
       "    <tr>\n",
       "      <th>2020-01-03</th>\n",
       "      <td>5.94125</td>\n",
       "    </tr>\n",
       "    <tr>\n",
       "      <th>2020-01-10</th>\n",
       "      <td>5.94520</td>\n",
       "    </tr>\n",
       "    <tr>\n",
       "      <th>2020-01-17</th>\n",
       "      <td>5.87128</td>\n",
       "    </tr>\n",
       "  </tbody>\n",
       "</table>\n",
       "</div>"
      ],
      "text/plain": [
       "             USDTRY\n",
       "Date               \n",
       "2020-01-03  5.94125\n",
       "2020-01-10  5.94520\n",
       "2020-01-17  5.87128"
      ]
     },
     "execution_count": 11,
     "metadata": {},
     "output_type": "execute_result"
    }
   ],
   "source": [
    "usdtry.head(3)"
   ]
  },
  {
   "cell_type": "code",
   "execution_count": 14,
   "metadata": {},
   "outputs": [
    {
     "data": {
      "text/html": [
       "<div>\n",
       "<style scoped>\n",
       "    .dataframe tbody tr th:only-of-type {\n",
       "        vertical-align: middle;\n",
       "    }\n",
       "\n",
       "    .dataframe tbody tr th {\n",
       "        vertical-align: top;\n",
       "    }\n",
       "\n",
       "    .dataframe thead th {\n",
       "        text-align: right;\n",
       "    }\n",
       "</style>\n",
       "<table border=\"1\" class=\"dataframe\">\n",
       "  <thead>\n",
       "    <tr style=\"text-align: right;\">\n",
       "      <th></th>\n",
       "      <th>USDTRY</th>\n",
       "      <th>EURTRY</th>\n",
       "    </tr>\n",
       "    <tr>\n",
       "      <th>Date</th>\n",
       "      <th></th>\n",
       "      <th></th>\n",
       "    </tr>\n",
       "  </thead>\n",
       "  <tbody>\n",
       "    <tr>\n",
       "      <th>2020-03-31</th>\n",
       "      <td>6.093850</td>\n",
       "      <td>6.723150</td>\n",
       "    </tr>\n",
       "    <tr>\n",
       "      <th>2020-06-30</th>\n",
       "      <td>6.852923</td>\n",
       "      <td>7.547287</td>\n",
       "    </tr>\n",
       "    <tr>\n",
       "      <th>2020-09-30</th>\n",
       "      <td>7.207746</td>\n",
       "      <td>8.423696</td>\n",
       "    </tr>\n",
       "  </tbody>\n",
       "</table>\n",
       "</div>"
      ],
      "text/plain": [
       "              USDTRY    EURTRY\n",
       "Date                          \n",
       "2020-03-31  6.093850  6.723150\n",
       "2020-06-30  6.852923  7.547287\n",
       "2020-09-30  7.207746  8.423696"
      ]
     },
     "execution_count": 14,
     "metadata": {},
     "output_type": "execute_result"
    }
   ],
   "source": [
    "rates.head(3)"
   ]
  },
  {
   "cell_type": "code",
   "execution_count": 40,
   "metadata": {},
   "outputs": [],
   "source": [
    "# this gives you the aoutocorrelations between usdtry and usdtry(t-1), usdtry(t-2), usdtry(t-3)\n",
    "autocorrs = transformator.autocorr(usdtry, range_lags=3)"
   ]
  },
  {
   "cell_type": "code",
   "execution_count": 41,
   "metadata": {},
   "outputs": [
    {
     "data": {
      "text/html": [
       "<div>\n",
       "<style scoped>\n",
       "    .dataframe tbody tr th:only-of-type {\n",
       "        vertical-align: middle;\n",
       "    }\n",
       "\n",
       "    .dataframe tbody tr th {\n",
       "        vertical-align: top;\n",
       "    }\n",
       "\n",
       "    .dataframe thead th {\n",
       "        text-align: right;\n",
       "    }\n",
       "</style>\n",
       "<table border=\"1\" class=\"dataframe\">\n",
       "  <thead>\n",
       "    <tr style=\"text-align: right;\">\n",
       "      <th></th>\n",
       "      <th>USDTRY</th>\n",
       "      <th>USDTRY_LAG_1</th>\n",
       "      <th>USDTRY_LAG_2</th>\n",
       "      <th>USDTRY_LAG_3</th>\n",
       "    </tr>\n",
       "  </thead>\n",
       "  <tbody>\n",
       "    <tr>\n",
       "      <th>USDTRY</th>\n",
       "      <td>1.000000</td>\n",
       "      <td>0.978949</td>\n",
       "      <td>0.949550</td>\n",
       "      <td>0.923296</td>\n",
       "    </tr>\n",
       "    <tr>\n",
       "      <th>USDTRY_LAG_1</th>\n",
       "      <td>0.978949</td>\n",
       "      <td>1.000000</td>\n",
       "      <td>0.989265</td>\n",
       "      <td>0.968197</td>\n",
       "    </tr>\n",
       "    <tr>\n",
       "      <th>USDTRY_LAG_2</th>\n",
       "      <td>0.949550</td>\n",
       "      <td>0.989265</td>\n",
       "      <td>1.000000</td>\n",
       "      <td>0.989223</td>\n",
       "    </tr>\n",
       "    <tr>\n",
       "      <th>USDTRY_LAG_3</th>\n",
       "      <td>0.923296</td>\n",
       "      <td>0.968197</td>\n",
       "      <td>0.989223</td>\n",
       "      <td>1.000000</td>\n",
       "    </tr>\n",
       "  </tbody>\n",
       "</table>\n",
       "</div>"
      ],
      "text/plain": [
       "                USDTRY  USDTRY_LAG_1  USDTRY_LAG_2  USDTRY_LAG_3\n",
       "USDTRY        1.000000      0.978949      0.949550      0.923296\n",
       "USDTRY_LAG_1  0.978949      1.000000      0.989265      0.968197\n",
       "USDTRY_LAG_2  0.949550      0.989265      1.000000      0.989223\n",
       "USDTRY_LAG_3  0.923296      0.968197      0.989223      1.000000"
      ]
     },
     "execution_count": 41,
     "metadata": {},
     "output_type": "execute_result"
    }
   ],
   "source": [
    "autocorrs"
   ]
  },
  {
   "cell_type": "code",
   "execution_count": 42,
   "metadata": {},
   "outputs": [],
   "source": [
    "# this gives you the aoutocorrelations between usdtry and usdtry(t-1), usdtry(t-3), usdtry(t-5)\n",
    "autocorrs = transformator.autocorr(usdtry, lags=\"1, 3, 5\")"
   ]
  },
  {
   "cell_type": "code",
   "execution_count": 43,
   "metadata": {},
   "outputs": [
    {
     "data": {
      "text/html": [
       "<div>\n",
       "<style scoped>\n",
       "    .dataframe tbody tr th:only-of-type {\n",
       "        vertical-align: middle;\n",
       "    }\n",
       "\n",
       "    .dataframe tbody tr th {\n",
       "        vertical-align: top;\n",
       "    }\n",
       "\n",
       "    .dataframe thead th {\n",
       "        text-align: right;\n",
       "    }\n",
       "</style>\n",
       "<table border=\"1\" class=\"dataframe\">\n",
       "  <thead>\n",
       "    <tr style=\"text-align: right;\">\n",
       "      <th></th>\n",
       "      <th>USDTRY</th>\n",
       "      <th>USDTRY_LAG_1</th>\n",
       "      <th>USDTRY_LAG_3</th>\n",
       "      <th>USDTRY_LAG_5</th>\n",
       "    </tr>\n",
       "  </thead>\n",
       "  <tbody>\n",
       "    <tr>\n",
       "      <th>USDTRY</th>\n",
       "      <td>1.000000</td>\n",
       "      <td>0.978949</td>\n",
       "      <td>0.923296</td>\n",
       "      <td>0.863355</td>\n",
       "    </tr>\n",
       "    <tr>\n",
       "      <th>USDTRY_LAG_1</th>\n",
       "      <td>0.978949</td>\n",
       "      <td>1.000000</td>\n",
       "      <td>0.968197</td>\n",
       "      <td>0.901092</td>\n",
       "    </tr>\n",
       "    <tr>\n",
       "      <th>USDTRY_LAG_3</th>\n",
       "      <td>0.923296</td>\n",
       "      <td>0.968197</td>\n",
       "      <td>1.000000</td>\n",
       "      <td>0.954251</td>\n",
       "    </tr>\n",
       "    <tr>\n",
       "      <th>USDTRY_LAG_5</th>\n",
       "      <td>0.863355</td>\n",
       "      <td>0.901092</td>\n",
       "      <td>0.954251</td>\n",
       "      <td>1.000000</td>\n",
       "    </tr>\n",
       "  </tbody>\n",
       "</table>\n",
       "</div>"
      ],
      "text/plain": [
       "                USDTRY  USDTRY_LAG_1  USDTRY_LAG_3  USDTRY_LAG_5\n",
       "USDTRY        1.000000      0.978949      0.923296      0.863355\n",
       "USDTRY_LAG_1  0.978949      1.000000      0.968197      0.901092\n",
       "USDTRY_LAG_3  0.923296      0.968197      1.000000      0.954251\n",
       "USDTRY_LAG_5  0.863355      0.901092      0.954251      1.000000"
      ]
     },
     "execution_count": 43,
     "metadata": {},
     "output_type": "execute_result"
    }
   ],
   "source": [
    "autocorrs"
   ]
  },
  {
   "cell_type": "code",
   "execution_count": 38,
   "metadata": {},
   "outputs": [],
   "source": [
    "# this gives you the aoutocorrelations between;\n",
    "# usdtry and usdtry(t-1), usdtry(t-2), usdtry(t-3), usdtry(t-4) and usdtry(t-12)\n",
    "autocorrs = transformator.autocorr(usdtry, range_lags=4, lags=12)"
   ]
  },
  {
   "cell_type": "code",
   "execution_count": 39,
   "metadata": {},
   "outputs": [
    {
     "data": {
      "text/html": [
       "<div>\n",
       "<style scoped>\n",
       "    .dataframe tbody tr th:only-of-type {\n",
       "        vertical-align: middle;\n",
       "    }\n",
       "\n",
       "    .dataframe tbody tr th {\n",
       "        vertical-align: top;\n",
       "    }\n",
       "\n",
       "    .dataframe thead th {\n",
       "        text-align: right;\n",
       "    }\n",
       "</style>\n",
       "<table border=\"1\" class=\"dataframe\">\n",
       "  <thead>\n",
       "    <tr style=\"text-align: right;\">\n",
       "      <th></th>\n",
       "      <th>USDTRY</th>\n",
       "      <th>USDTRY_LAG_1</th>\n",
       "      <th>USDTRY_LAG_2</th>\n",
       "      <th>USDTRY_LAG_3</th>\n",
       "      <th>USDTRY_LAG_4</th>\n",
       "      <th>USDTRY_LAG_12</th>\n",
       "    </tr>\n",
       "  </thead>\n",
       "  <tbody>\n",
       "    <tr>\n",
       "      <th>USDTRY</th>\n",
       "      <td>1.000000</td>\n",
       "      <td>0.978949</td>\n",
       "      <td>0.949550</td>\n",
       "      <td>0.923296</td>\n",
       "      <td>0.892856</td>\n",
       "      <td>0.644941</td>\n",
       "    </tr>\n",
       "    <tr>\n",
       "      <th>USDTRY_LAG_1</th>\n",
       "      <td>0.978949</td>\n",
       "      <td>1.000000</td>\n",
       "      <td>0.989265</td>\n",
       "      <td>0.968197</td>\n",
       "      <td>0.938588</td>\n",
       "      <td>0.657745</td>\n",
       "    </tr>\n",
       "    <tr>\n",
       "      <th>USDTRY_LAG_2</th>\n",
       "      <td>0.949550</td>\n",
       "      <td>0.989265</td>\n",
       "      <td>1.000000</td>\n",
       "      <td>0.989223</td>\n",
       "      <td>0.963580</td>\n",
       "      <td>0.683205</td>\n",
       "    </tr>\n",
       "    <tr>\n",
       "      <th>USDTRY_LAG_3</th>\n",
       "      <td>0.923296</td>\n",
       "      <td>0.968197</td>\n",
       "      <td>0.989223</td>\n",
       "      <td>1.000000</td>\n",
       "      <td>0.986399</td>\n",
       "      <td>0.724432</td>\n",
       "    </tr>\n",
       "    <tr>\n",
       "      <th>USDTRY_LAG_4</th>\n",
       "      <td>0.892856</td>\n",
       "      <td>0.938588</td>\n",
       "      <td>0.963580</td>\n",
       "      <td>0.986399</td>\n",
       "      <td>1.000000</td>\n",
       "      <td>0.774338</td>\n",
       "    </tr>\n",
       "    <tr>\n",
       "      <th>USDTRY_LAG_12</th>\n",
       "      <td>0.644941</td>\n",
       "      <td>0.657745</td>\n",
       "      <td>0.683205</td>\n",
       "      <td>0.724432</td>\n",
       "      <td>0.774338</td>\n",
       "      <td>1.000000</td>\n",
       "    </tr>\n",
       "  </tbody>\n",
       "</table>\n",
       "</div>"
      ],
      "text/plain": [
       "                 USDTRY  USDTRY_LAG_1  USDTRY_LAG_2  USDTRY_LAG_3  \\\n",
       "USDTRY         1.000000      0.978949      0.949550      0.923296   \n",
       "USDTRY_LAG_1   0.978949      1.000000      0.989265      0.968197   \n",
       "USDTRY_LAG_2   0.949550      0.989265      1.000000      0.989223   \n",
       "USDTRY_LAG_3   0.923296      0.968197      0.989223      1.000000   \n",
       "USDTRY_LAG_4   0.892856      0.938588      0.963580      0.986399   \n",
       "USDTRY_LAG_12  0.644941      0.657745      0.683205      0.724432   \n",
       "\n",
       "               USDTRY_LAG_4  USDTRY_LAG_12  \n",
       "USDTRY             0.892856       0.644941  \n",
       "USDTRY_LAG_1       0.938588       0.657745  \n",
       "USDTRY_LAG_2       0.963580       0.683205  \n",
       "USDTRY_LAG_3       0.986399       0.724432  \n",
       "USDTRY_LAG_4       1.000000       0.774338  \n",
       "USDTRY_LAG_12      0.774338       1.000000  "
      ]
     },
     "execution_count": 39,
     "metadata": {},
     "output_type": "execute_result"
    }
   ],
   "source": [
    "autocorrs"
   ]
  },
  {
   "cell_type": "markdown",
   "metadata": {},
   "source": [
    "`autocorr()`, can be used for multi-dimentional series as well."
   ]
  },
  {
   "cell_type": "code",
   "execution_count": 15,
   "metadata": {},
   "outputs": [],
   "source": [
    "# you can use 'column' parameter to get autocorrelations for any series in given dataframe\n",
    "# column can be given as column name or column index (starting from 0)\n",
    "\n",
    "# this picks eurtry and gives autocorrelations\n",
    "eurtry_autocorr = transformator.autocorr(rates, column='eurtry', range_lags=4, precision=4)"
   ]
  },
  {
   "cell_type": "code",
   "execution_count": 16,
   "metadata": {},
   "outputs": [
    {
     "data": {
      "text/html": [
       "<div>\n",
       "<style scoped>\n",
       "    .dataframe tbody tr th:only-of-type {\n",
       "        vertical-align: middle;\n",
       "    }\n",
       "\n",
       "    .dataframe tbody tr th {\n",
       "        vertical-align: top;\n",
       "    }\n",
       "\n",
       "    .dataframe thead th {\n",
       "        text-align: right;\n",
       "    }\n",
       "</style>\n",
       "<table border=\"1\" class=\"dataframe\">\n",
       "  <thead>\n",
       "    <tr style=\"text-align: right;\">\n",
       "      <th></th>\n",
       "      <th>EURTRY</th>\n",
       "      <th>EURTRY_LAG_1</th>\n",
       "      <th>EURTRY_LAG_2</th>\n",
       "      <th>EURTRY_LAG_3</th>\n",
       "      <th>EURTRY_LAG_4</th>\n",
       "    </tr>\n",
       "  </thead>\n",
       "  <tbody>\n",
       "    <tr>\n",
       "      <th>EURTRY</th>\n",
       "      <td>1.0000</td>\n",
       "      <td>0.7977</td>\n",
       "      <td>0.8495</td>\n",
       "      <td>0.5765</td>\n",
       "      <td>0.9214</td>\n",
       "    </tr>\n",
       "    <tr>\n",
       "      <th>EURTRY_LAG_1</th>\n",
       "      <td>0.7977</td>\n",
       "      <td>1.0000</td>\n",
       "      <td>0.8470</td>\n",
       "      <td>0.8450</td>\n",
       "      <td>0.7341</td>\n",
       "    </tr>\n",
       "    <tr>\n",
       "      <th>EURTRY_LAG_2</th>\n",
       "      <td>0.8495</td>\n",
       "      <td>0.8470</td>\n",
       "      <td>1.0000</td>\n",
       "      <td>0.7933</td>\n",
       "      <td>0.8242</td>\n",
       "    </tr>\n",
       "    <tr>\n",
       "      <th>EURTRY_LAG_3</th>\n",
       "      <td>0.5765</td>\n",
       "      <td>0.8450</td>\n",
       "      <td>0.7933</td>\n",
       "      <td>1.0000</td>\n",
       "      <td>0.8115</td>\n",
       "    </tr>\n",
       "    <tr>\n",
       "      <th>EURTRY_LAG_4</th>\n",
       "      <td>0.9214</td>\n",
       "      <td>0.7341</td>\n",
       "      <td>0.8242</td>\n",
       "      <td>0.8115</td>\n",
       "      <td>1.0000</td>\n",
       "    </tr>\n",
       "  </tbody>\n",
       "</table>\n",
       "</div>"
      ],
      "text/plain": [
       "              EURTRY  EURTRY_LAG_1  EURTRY_LAG_2  EURTRY_LAG_3  EURTRY_LAG_4\n",
       "EURTRY        1.0000        0.7977        0.8495        0.5765        0.9214\n",
       "EURTRY_LAG_1  0.7977        1.0000        0.8470        0.8450        0.7341\n",
       "EURTRY_LAG_2  0.8495        0.8470        1.0000        0.7933        0.8242\n",
       "EURTRY_LAG_3  0.5765        0.8450        0.7933        1.0000        0.8115\n",
       "EURTRY_LAG_4  0.9214        0.7341        0.8242        0.8115        1.0000"
      ]
     },
     "execution_count": 16,
     "metadata": {},
     "output_type": "execute_result"
    }
   ],
   "source": [
    "eurtry_autocorr"
   ]
  },
  {
   "cell_type": "code",
   "execution_count": 51,
   "metadata": {},
   "outputs": [],
   "source": [
    "# this also picks picks eurtry and gives autocorrelations since the column index of eurtry is 1\n",
    "eurtry_autocorr = transformator.autocorr(rates, column=1, range_lags=4, precision=4)"
   ]
  },
  {
   "cell_type": "code",
   "execution_count": 52,
   "metadata": {},
   "outputs": [
    {
     "data": {
      "text/html": [
       "<div>\n",
       "<style scoped>\n",
       "    .dataframe tbody tr th:only-of-type {\n",
       "        vertical-align: middle;\n",
       "    }\n",
       "\n",
       "    .dataframe tbody tr th {\n",
       "        vertical-align: top;\n",
       "    }\n",
       "\n",
       "    .dataframe thead th {\n",
       "        text-align: right;\n",
       "    }\n",
       "</style>\n",
       "<table border=\"1\" class=\"dataframe\">\n",
       "  <thead>\n",
       "    <tr style=\"text-align: right;\">\n",
       "      <th></th>\n",
       "      <th>EURTRY</th>\n",
       "      <th>EURTRY_LAG_1</th>\n",
       "      <th>EURTRY_LAG_2</th>\n",
       "      <th>EURTRY_LAG_3</th>\n",
       "      <th>EURTRY_LAG_4</th>\n",
       "    </tr>\n",
       "  </thead>\n",
       "  <tbody>\n",
       "    <tr>\n",
       "      <th>EURTRY</th>\n",
       "      <td>1.0000</td>\n",
       "      <td>0.7977</td>\n",
       "      <td>0.8495</td>\n",
       "      <td>0.5765</td>\n",
       "      <td>0.9214</td>\n",
       "    </tr>\n",
       "    <tr>\n",
       "      <th>EURTRY_LAG_1</th>\n",
       "      <td>0.7977</td>\n",
       "      <td>1.0000</td>\n",
       "      <td>0.8470</td>\n",
       "      <td>0.8450</td>\n",
       "      <td>0.7341</td>\n",
       "    </tr>\n",
       "    <tr>\n",
       "      <th>EURTRY_LAG_2</th>\n",
       "      <td>0.8495</td>\n",
       "      <td>0.8470</td>\n",
       "      <td>1.0000</td>\n",
       "      <td>0.7933</td>\n",
       "      <td>0.8242</td>\n",
       "    </tr>\n",
       "    <tr>\n",
       "      <th>EURTRY_LAG_3</th>\n",
       "      <td>0.5765</td>\n",
       "      <td>0.8450</td>\n",
       "      <td>0.7933</td>\n",
       "      <td>1.0000</td>\n",
       "      <td>0.8115</td>\n",
       "    </tr>\n",
       "    <tr>\n",
       "      <th>EURTRY_LAG_4</th>\n",
       "      <td>0.9214</td>\n",
       "      <td>0.7341</td>\n",
       "      <td>0.8242</td>\n",
       "      <td>0.8115</td>\n",
       "      <td>1.0000</td>\n",
       "    </tr>\n",
       "  </tbody>\n",
       "</table>\n",
       "</div>"
      ],
      "text/plain": [
       "              EURTRY  EURTRY_LAG_1  EURTRY_LAG_2  EURTRY_LAG_3  EURTRY_LAG_4\n",
       "EURTRY        1.0000        0.7977        0.8495        0.5765        0.9214\n",
       "EURTRY_LAG_1  0.7977        1.0000        0.8470        0.8450        0.7341\n",
       "EURTRY_LAG_2  0.8495        0.8470        1.0000        0.7933        0.8242\n",
       "EURTRY_LAG_3  0.5765        0.8450        0.7933        1.0000        0.8115\n",
       "EURTRY_LAG_4  0.9214        0.7341        0.8242        0.8115        1.0000"
      ]
     },
     "execution_count": 52,
     "metadata": {},
     "output_type": "execute_result"
    }
   ],
   "source": [
    "eurtry_autocorr"
   ]
  },
  {
   "cell_type": "markdown",
   "metadata": {},
   "source": [
    "#### 4.19. [__Serial Correlation Coefficients: SERIALCORR<sub>t</sub> = ρ<sub>t, x-n</sub>__](https://github.com/syncoding/evdsts/blob/master/docs/manuals/manual_en.md#get-serial-corr)"
   ]
  },
  {
   "cell_type": "markdown",
   "metadata": {},
   "source": [
    "You can use `serial_corr()` method to get a correlation vector between the constant and the others.\n",
    "The vector could provide you a very quick insight about linear relitionships between a constant series\n",
    "and the others including their lags."
   ]
  },
  {
   "cell_type": "code",
   "execution_count": 5,
   "metadata": {},
   "outputs": [],
   "source": [
    "# get series using reference names\n",
    "series = connector.get_series(\"usdtry, eurtry, bist100\",\n",
    "                              start_date=\"01.01.2021\",\n",
    "                              end_date=\"31.12.2021\",\n",
    "                              frequency=\"B\")"
   ]
  },
  {
   "cell_type": "code",
   "execution_count": 8,
   "metadata": {},
   "outputs": [
    {
     "data": {
      "text/html": [
       "<div>\n",
       "<style scoped>\n",
       "    .dataframe tbody tr th:only-of-type {\n",
       "        vertical-align: middle;\n",
       "    }\n",
       "\n",
       "    .dataframe tbody tr th {\n",
       "        vertical-align: top;\n",
       "    }\n",
       "\n",
       "    .dataframe thead th {\n",
       "        text-align: right;\n",
       "    }\n",
       "</style>\n",
       "<table border=\"1\" class=\"dataframe\">\n",
       "  <thead>\n",
       "    <tr style=\"text-align: right;\">\n",
       "      <th></th>\n",
       "      <th>USDTRY</th>\n",
       "      <th>EURTRY</th>\n",
       "      <th>BIST100</th>\n",
       "    </tr>\n",
       "    <tr>\n",
       "      <th>Date</th>\n",
       "      <th></th>\n",
       "      <th></th>\n",
       "      <th></th>\n",
       "    </tr>\n",
       "  </thead>\n",
       "  <tbody>\n",
       "    <tr>\n",
       "      <th>2021-01-01</th>\n",
       "      <td>NaN</td>\n",
       "      <td>NaN</td>\n",
       "      <td>NaN</td>\n",
       "    </tr>\n",
       "    <tr>\n",
       "      <th>2021-01-04</th>\n",
       "      <td>7.4194</td>\n",
       "      <td>9.1164</td>\n",
       "      <td>1495.430054</td>\n",
       "    </tr>\n",
       "    <tr>\n",
       "      <th>2021-01-05</th>\n",
       "      <td>7.3602</td>\n",
       "      <td>9.0382</td>\n",
       "      <td>1489.560059</td>\n",
       "    </tr>\n",
       "  </tbody>\n",
       "</table>\n",
       "</div>"
      ],
      "text/plain": [
       "            USDTRY  EURTRY      BIST100\n",
       "Date                                   \n",
       "2021-01-01     NaN     NaN          NaN\n",
       "2021-01-04  7.4194  9.1164  1495.430054\n",
       "2021-01-05  7.3602  9.0382  1489.560059"
      ]
     },
     "execution_count": 8,
     "metadata": {},
     "output_type": "execute_result"
    }
   ],
   "source": [
    "series.head(3)"
   ]
  },
  {
   "cell_type": "code",
   "execution_count": 6,
   "metadata": {},
   "outputs": [],
   "source": [
    "# this holds bist100 as the constant, and gives the correlations with orher series including\n",
    "# given lags.\n",
    "sc_vector = transformator.serial_corr(series, hold=\"bist100\", range_lags=4, lags=12)"
   ]
  },
  {
   "cell_type": "code",
   "execution_count": 7,
   "metadata": {},
   "outputs": [
    {
     "data": {
      "text/html": [
       "<div>\n",
       "<style scoped>\n",
       "    .dataframe tbody tr th:only-of-type {\n",
       "        vertical-align: middle;\n",
       "    }\n",
       "\n",
       "    .dataframe tbody tr th {\n",
       "        vertical-align: top;\n",
       "    }\n",
       "\n",
       "    .dataframe thead th {\n",
       "        text-align: right;\n",
       "    }\n",
       "</style>\n",
       "<table border=\"1\" class=\"dataframe\">\n",
       "  <thead>\n",
       "    <tr style=\"text-align: right;\">\n",
       "      <th></th>\n",
       "      <th>BIST100</th>\n",
       "    </tr>\n",
       "  </thead>\n",
       "  <tbody>\n",
       "    <tr>\n",
       "      <th>BIST100</th>\n",
       "      <td>1.000000</td>\n",
       "    </tr>\n",
       "    <tr>\n",
       "      <th>USDTRY</th>\n",
       "      <td>0.802526</td>\n",
       "    </tr>\n",
       "    <tr>\n",
       "      <th>EURTRY</th>\n",
       "      <td>0.795602</td>\n",
       "    </tr>\n",
       "    <tr>\n",
       "      <th>USDTRY_LAG_1</th>\n",
       "      <td>0.790575</td>\n",
       "    </tr>\n",
       "    <tr>\n",
       "      <th>EURTRY_LAG_1</th>\n",
       "      <td>0.781897</td>\n",
       "    </tr>\n",
       "    <tr>\n",
       "      <th>USDTRY_LAG_2</th>\n",
       "      <td>0.783268</td>\n",
       "    </tr>\n",
       "    <tr>\n",
       "      <th>EURTRY_LAG_2</th>\n",
       "      <td>0.773447</td>\n",
       "    </tr>\n",
       "    <tr>\n",
       "      <th>USDTRY_LAG_3</th>\n",
       "      <td>0.781320</td>\n",
       "    </tr>\n",
       "    <tr>\n",
       "      <th>EURTRY_LAG_3</th>\n",
       "      <td>0.770897</td>\n",
       "    </tr>\n",
       "    <tr>\n",
       "      <th>USDTRY_LAG_4</th>\n",
       "      <td>0.781647</td>\n",
       "    </tr>\n",
       "    <tr>\n",
       "      <th>EURTRY_LAG_4</th>\n",
       "      <td>0.771115</td>\n",
       "    </tr>\n",
       "    <tr>\n",
       "      <th>USDTRY_LAG_12</th>\n",
       "      <td>0.732983</td>\n",
       "    </tr>\n",
       "    <tr>\n",
       "      <th>EURTRY_LAG_12</th>\n",
       "      <td>0.712389</td>\n",
       "    </tr>\n",
       "  </tbody>\n",
       "</table>\n",
       "</div>"
      ],
      "text/plain": [
       "                BIST100\n",
       "BIST100        1.000000\n",
       "USDTRY         0.802526\n",
       "EURTRY         0.795602\n",
       "USDTRY_LAG_1   0.790575\n",
       "EURTRY_LAG_1   0.781897\n",
       "USDTRY_LAG_2   0.783268\n",
       "EURTRY_LAG_2   0.773447\n",
       "USDTRY_LAG_3   0.781320\n",
       "EURTRY_LAG_3   0.770897\n",
       "USDTRY_LAG_4   0.781647\n",
       "EURTRY_LAG_4   0.771115\n",
       "USDTRY_LAG_12  0.732983\n",
       "EURTRY_LAG_12  0.712389"
      ]
     },
     "execution_count": 7,
     "metadata": {},
     "output_type": "execute_result"
    }
   ],
   "source": [
    "sc_vector"
   ]
  },
  {
   "cell_type": "code",
   "execution_count": 21,
   "metadata": {},
   "outputs": [],
   "source": [
    "# this holds usddtry as the constant since the column index of usdtry=0 and gives the correlations\n",
    "# with orher series including given lags.\n",
    "sc_vector = transformator.serial_corr(series, hold=0, range_lags=4, lags=12, precision=4)"
   ]
  },
  {
   "cell_type": "code",
   "execution_count": 22,
   "metadata": {},
   "outputs": [
    {
     "data": {
      "text/html": [
       "<div>\n",
       "<style scoped>\n",
       "    .dataframe tbody tr th:only-of-type {\n",
       "        vertical-align: middle;\n",
       "    }\n",
       "\n",
       "    .dataframe tbody tr th {\n",
       "        vertical-align: top;\n",
       "    }\n",
       "\n",
       "    .dataframe thead th {\n",
       "        text-align: right;\n",
       "    }\n",
       "</style>\n",
       "<table border=\"1\" class=\"dataframe\">\n",
       "  <thead>\n",
       "    <tr style=\"text-align: right;\">\n",
       "      <th></th>\n",
       "      <th>USDTRY</th>\n",
       "    </tr>\n",
       "  </thead>\n",
       "  <tbody>\n",
       "    <tr>\n",
       "      <th>USDTRY</th>\n",
       "      <td>1.0000</td>\n",
       "    </tr>\n",
       "    <tr>\n",
       "      <th>EURTRY</th>\n",
       "      <td>0.9975</td>\n",
       "    </tr>\n",
       "    <tr>\n",
       "      <th>BIST100</th>\n",
       "      <td>0.8025</td>\n",
       "    </tr>\n",
       "    <tr>\n",
       "      <th>EURTRY_LAG_1</th>\n",
       "      <td>0.9772</td>\n",
       "    </tr>\n",
       "    <tr>\n",
       "      <th>BIST100_LAG_1</th>\n",
       "      <td>0.8121</td>\n",
       "    </tr>\n",
       "    <tr>\n",
       "      <th>EURTRY_LAG_2</th>\n",
       "      <td>0.9550</td>\n",
       "    </tr>\n",
       "    <tr>\n",
       "      <th>BIST100_LAG_2</th>\n",
       "      <td>0.8133</td>\n",
       "    </tr>\n",
       "    <tr>\n",
       "      <th>EURTRY_LAG_3</th>\n",
       "      <td>0.9325</td>\n",
       "    </tr>\n",
       "    <tr>\n",
       "      <th>BIST100_LAG_3</th>\n",
       "      <td>0.8096</td>\n",
       "    </tr>\n",
       "    <tr>\n",
       "      <th>EURTRY_LAG_4</th>\n",
       "      <td>0.9172</td>\n",
       "    </tr>\n",
       "    <tr>\n",
       "      <th>BIST100_LAG_4</th>\n",
       "      <td>0.7906</td>\n",
       "    </tr>\n",
       "    <tr>\n",
       "      <th>EURTRY_LAG_12</th>\n",
       "      <td>0.8687</td>\n",
       "    </tr>\n",
       "    <tr>\n",
       "      <th>BIST100_LAG_12</th>\n",
       "      <td>0.6659</td>\n",
       "    </tr>\n",
       "  </tbody>\n",
       "</table>\n",
       "</div>"
      ],
      "text/plain": [
       "                USDTRY\n",
       "USDTRY          1.0000\n",
       "EURTRY          0.9975\n",
       "BIST100         0.8025\n",
       "EURTRY_LAG_1    0.9772\n",
       "BIST100_LAG_1   0.8121\n",
       "EURTRY_LAG_2    0.9550\n",
       "BIST100_LAG_2   0.8133\n",
       "EURTRY_LAG_3    0.9325\n",
       "BIST100_LAG_3   0.8096\n",
       "EURTRY_LAG_4    0.9172\n",
       "BIST100_LAG_4   0.7906\n",
       "EURTRY_LAG_12   0.8687\n",
       "BIST100_LAG_12  0.6659"
      ]
     },
     "execution_count": 22,
     "metadata": {},
     "output_type": "execute_result"
    }
   ],
   "source": [
    "sc_vector"
   ]
  },
  {
   "cell_type": "markdown",
   "metadata": {},
   "source": [
    "#### 4.20. [__Outliers__](https://github.com/syncoding/evdsts/blob/master/docs/manuals/manual_en.md#get-outliers)"
   ]
  },
  {
   "cell_type": "markdown",
   "metadata": {},
   "source": [
    "You can use `outliers()` method to create dummy series for detected outliers in given series."
   ]
  },
  {
   "cell_type": "markdown",
   "metadata": {},
   "source": [
    "Returned dummy series consist of `0`s and `1`s indicating:\n",
    "- `1`: an outlier values is detected in corresponding date.\n",
    "- `0`: the value is in the bound of expectations."
   ]
  },
  {
   "cell_type": "code",
   "execution_count": 23,
   "metadata": {},
   "outputs": [],
   "source": [
    "usdtry = connector.get_series(\"usdtry\",\n",
    "                              start_date=\"01.01.2020\",\n",
    "                              end_date=\"01.01.2022\",\n",
    "                              frequency=\"W\")"
   ]
  },
  {
   "cell_type": "code",
   "execution_count": 40,
   "metadata": {},
   "outputs": [],
   "source": [
    "# get series using reference names\n",
    "series = connector.get_series(\"usdtry, eurtry, bist100\",\n",
    "                              start_date=\"01.01.2020\",\n",
    "                              end_date=\"01.01.2022\",\n",
    "                              frequency=\"W\")"
   ]
  },
  {
   "cell_type": "code",
   "execution_count": 25,
   "metadata": {},
   "outputs": [],
   "source": [
    "# this gives you detected outliers in line with mad and -3, +3 critical values bounds.\n",
    "usdtry_outliers_d = transformator.outliers(usdtry)"
   ]
  },
  {
   "cell_type": "code",
   "execution_count": 26,
   "metadata": {},
   "outputs": [
    {
     "data": {
      "text/html": [
       "<div>\n",
       "<style scoped>\n",
       "    .dataframe tbody tr th:only-of-type {\n",
       "        vertical-align: middle;\n",
       "    }\n",
       "\n",
       "    .dataframe tbody tr th {\n",
       "        vertical-align: top;\n",
       "    }\n",
       "\n",
       "    .dataframe thead th {\n",
       "        text-align: right;\n",
       "    }\n",
       "</style>\n",
       "<table border=\"1\" class=\"dataframe\">\n",
       "  <thead>\n",
       "    <tr style=\"text-align: right;\">\n",
       "      <th></th>\n",
       "      <th>USDTRY</th>\n",
       "      <th>USDTRY_OUT</th>\n",
       "    </tr>\n",
       "    <tr>\n",
       "      <th>Date</th>\n",
       "      <th></th>\n",
       "      <th></th>\n",
       "    </tr>\n",
       "  </thead>\n",
       "  <tbody>\n",
       "    <tr>\n",
       "      <th>2020-01-03</th>\n",
       "      <td>5.94125</td>\n",
       "      <td>0.0</td>\n",
       "    </tr>\n",
       "    <tr>\n",
       "      <th>2020-01-10</th>\n",
       "      <td>5.94520</td>\n",
       "      <td>0.0</td>\n",
       "    </tr>\n",
       "    <tr>\n",
       "      <th>2020-01-17</th>\n",
       "      <td>5.87128</td>\n",
       "      <td>0.0</td>\n",
       "    </tr>\n",
       "    <tr>\n",
       "      <th>2020-01-24</th>\n",
       "      <td>5.90358</td>\n",
       "      <td>0.0</td>\n",
       "    </tr>\n",
       "    <tr>\n",
       "      <th>2020-01-31</th>\n",
       "      <td>5.94228</td>\n",
       "      <td>0.0</td>\n",
       "    </tr>\n",
       "    <tr>\n",
       "      <th>...</th>\n",
       "      <td>...</td>\n",
       "      <td>...</td>\n",
       "    </tr>\n",
       "    <tr>\n",
       "      <th>2021-12-03</th>\n",
       "      <td>12.88396</td>\n",
       "      <td>1.0</td>\n",
       "    </tr>\n",
       "    <tr>\n",
       "      <th>2021-12-10</th>\n",
       "      <td>13.69762</td>\n",
       "      <td>1.0</td>\n",
       "    </tr>\n",
       "    <tr>\n",
       "      <th>2021-12-17</th>\n",
       "      <td>14.42048</td>\n",
       "      <td>1.0</td>\n",
       "    </tr>\n",
       "    <tr>\n",
       "      <th>2021-12-24</th>\n",
       "      <td>14.14716</td>\n",
       "      <td>1.0</td>\n",
       "    </tr>\n",
       "    <tr>\n",
       "      <th>2021-12-31</th>\n",
       "      <td>12.02948</td>\n",
       "      <td>1.0</td>\n",
       "    </tr>\n",
       "  </tbody>\n",
       "</table>\n",
       "<p>105 rows × 2 columns</p>\n",
       "</div>"
      ],
      "text/plain": [
       "              USDTRY  USDTRY_OUT\n",
       "Date                            \n",
       "2020-01-03   5.94125         0.0\n",
       "2020-01-10   5.94520         0.0\n",
       "2020-01-17   5.87128         0.0\n",
       "2020-01-24   5.90358         0.0\n",
       "2020-01-31   5.94228         0.0\n",
       "...              ...         ...\n",
       "2021-12-03  12.88396         1.0\n",
       "2021-12-10  13.69762         1.0\n",
       "2021-12-17  14.42048         1.0\n",
       "2021-12-24  14.14716         1.0\n",
       "2021-12-31  12.02948         1.0\n",
       "\n",
       "[105 rows x 2 columns]"
      ]
     },
     "execution_count": 26,
     "metadata": {},
     "output_type": "execute_result"
    }
   ],
   "source": [
    "usdtry_outliers_d"
   ]
  },
  {
   "cell_type": "code",
   "execution_count": 32,
   "metadata": {},
   "outputs": [],
   "source": [
    "# this gives you detected outliers in line with mad and -5, +5 critical values bounds.\n",
    "usdtry_outliers_d = transformator.outliers(usdtry, critical_upper=5, critical_lower=-5)"
   ]
  },
  {
   "cell_type": "code",
   "execution_count": 33,
   "metadata": {},
   "outputs": [
    {
     "data": {
      "text/html": [
       "<div>\n",
       "<style scoped>\n",
       "    .dataframe tbody tr th:only-of-type {\n",
       "        vertical-align: middle;\n",
       "    }\n",
       "\n",
       "    .dataframe tbody tr th {\n",
       "        vertical-align: top;\n",
       "    }\n",
       "\n",
       "    .dataframe thead th {\n",
       "        text-align: right;\n",
       "    }\n",
       "</style>\n",
       "<table border=\"1\" class=\"dataframe\">\n",
       "  <thead>\n",
       "    <tr style=\"text-align: right;\">\n",
       "      <th></th>\n",
       "      <th>USDTRY</th>\n",
       "      <th>USDTRY_OUT</th>\n",
       "    </tr>\n",
       "    <tr>\n",
       "      <th>Date</th>\n",
       "      <th></th>\n",
       "      <th></th>\n",
       "    </tr>\n",
       "  </thead>\n",
       "  <tbody>\n",
       "    <tr>\n",
       "      <th>2020-01-03</th>\n",
       "      <td>5.94125</td>\n",
       "      <td>0.0</td>\n",
       "    </tr>\n",
       "    <tr>\n",
       "      <th>2020-01-10</th>\n",
       "      <td>5.94520</td>\n",
       "      <td>0.0</td>\n",
       "    </tr>\n",
       "    <tr>\n",
       "      <th>2020-01-17</th>\n",
       "      <td>5.87128</td>\n",
       "      <td>0.0</td>\n",
       "    </tr>\n",
       "    <tr>\n",
       "      <th>2020-01-24</th>\n",
       "      <td>5.90358</td>\n",
       "      <td>0.0</td>\n",
       "    </tr>\n",
       "    <tr>\n",
       "      <th>2020-01-31</th>\n",
       "      <td>5.94228</td>\n",
       "      <td>0.0</td>\n",
       "    </tr>\n",
       "    <tr>\n",
       "      <th>...</th>\n",
       "      <td>...</td>\n",
       "      <td>...</td>\n",
       "    </tr>\n",
       "    <tr>\n",
       "      <th>2021-12-03</th>\n",
       "      <td>12.88396</td>\n",
       "      <td>0.0</td>\n",
       "    </tr>\n",
       "    <tr>\n",
       "      <th>2021-12-10</th>\n",
       "      <td>13.69762</td>\n",
       "      <td>1.0</td>\n",
       "    </tr>\n",
       "    <tr>\n",
       "      <th>2021-12-17</th>\n",
       "      <td>14.42048</td>\n",
       "      <td>1.0</td>\n",
       "    </tr>\n",
       "    <tr>\n",
       "      <th>2021-12-24</th>\n",
       "      <td>14.14716</td>\n",
       "      <td>1.0</td>\n",
       "    </tr>\n",
       "    <tr>\n",
       "      <th>2021-12-31</th>\n",
       "      <td>12.02948</td>\n",
       "      <td>0.0</td>\n",
       "    </tr>\n",
       "  </tbody>\n",
       "</table>\n",
       "<p>105 rows × 2 columns</p>\n",
       "</div>"
      ],
      "text/plain": [
       "              USDTRY  USDTRY_OUT\n",
       "Date                            \n",
       "2020-01-03   5.94125         0.0\n",
       "2020-01-10   5.94520         0.0\n",
       "2020-01-17   5.87128         0.0\n",
       "2020-01-24   5.90358         0.0\n",
       "2020-01-31   5.94228         0.0\n",
       "...              ...         ...\n",
       "2021-12-03  12.88396         0.0\n",
       "2021-12-10  13.69762         1.0\n",
       "2021-12-17  14.42048         1.0\n",
       "2021-12-24  14.14716         1.0\n",
       "2021-12-31  12.02948         0.0\n",
       "\n",
       "[105 rows x 2 columns]"
      ]
     },
     "execution_count": 33,
     "metadata": {},
     "output_type": "execute_result"
    }
   ],
   "source": [
    "usdtry_outliers_d"
   ]
  },
  {
   "cell_type": "code",
   "execution_count": 36,
   "metadata": {},
   "outputs": [],
   "source": [
    "# this gives you detected outliers in line with z-score and -3, +3 critical values bounds.\n",
    "usdtry_outliers_d = transformator.outliers(usdtry, method=\"z\", critical_lower=-4, critical_upper=4)"
   ]
  },
  {
   "cell_type": "code",
   "execution_count": 37,
   "metadata": {},
   "outputs": [
    {
     "data": {
      "text/html": [
       "<div>\n",
       "<style scoped>\n",
       "    .dataframe tbody tr th:only-of-type {\n",
       "        vertical-align: middle;\n",
       "    }\n",
       "\n",
       "    .dataframe tbody tr th {\n",
       "        vertical-align: top;\n",
       "    }\n",
       "\n",
       "    .dataframe thead th {\n",
       "        text-align: right;\n",
       "    }\n",
       "</style>\n",
       "<table border=\"1\" class=\"dataframe\">\n",
       "  <thead>\n",
       "    <tr style=\"text-align: right;\">\n",
       "      <th></th>\n",
       "      <th>USDTRY</th>\n",
       "      <th>USDTRY_OUT</th>\n",
       "    </tr>\n",
       "    <tr>\n",
       "      <th>Date</th>\n",
       "      <th></th>\n",
       "      <th></th>\n",
       "    </tr>\n",
       "  </thead>\n",
       "  <tbody>\n",
       "    <tr>\n",
       "      <th>2020-01-03</th>\n",
       "      <td>5.94125</td>\n",
       "      <td>0.0</td>\n",
       "    </tr>\n",
       "    <tr>\n",
       "      <th>2020-01-10</th>\n",
       "      <td>5.94520</td>\n",
       "      <td>0.0</td>\n",
       "    </tr>\n",
       "    <tr>\n",
       "      <th>2020-01-17</th>\n",
       "      <td>5.87128</td>\n",
       "      <td>0.0</td>\n",
       "    </tr>\n",
       "    <tr>\n",
       "      <th>2020-01-24</th>\n",
       "      <td>5.90358</td>\n",
       "      <td>0.0</td>\n",
       "    </tr>\n",
       "    <tr>\n",
       "      <th>2020-01-31</th>\n",
       "      <td>5.94228</td>\n",
       "      <td>0.0</td>\n",
       "    </tr>\n",
       "    <tr>\n",
       "      <th>...</th>\n",
       "      <td>...</td>\n",
       "      <td>...</td>\n",
       "    </tr>\n",
       "    <tr>\n",
       "      <th>2021-12-03</th>\n",
       "      <td>12.88396</td>\n",
       "      <td>0.0</td>\n",
       "    </tr>\n",
       "    <tr>\n",
       "      <th>2021-12-10</th>\n",
       "      <td>13.69762</td>\n",
       "      <td>0.0</td>\n",
       "    </tr>\n",
       "    <tr>\n",
       "      <th>2021-12-17</th>\n",
       "      <td>14.42048</td>\n",
       "      <td>1.0</td>\n",
       "    </tr>\n",
       "    <tr>\n",
       "      <th>2021-12-24</th>\n",
       "      <td>14.14716</td>\n",
       "      <td>0.0</td>\n",
       "    </tr>\n",
       "    <tr>\n",
       "      <th>2021-12-31</th>\n",
       "      <td>12.02948</td>\n",
       "      <td>0.0</td>\n",
       "    </tr>\n",
       "  </tbody>\n",
       "</table>\n",
       "<p>105 rows × 2 columns</p>\n",
       "</div>"
      ],
      "text/plain": [
       "              USDTRY  USDTRY_OUT\n",
       "Date                            \n",
       "2020-01-03   5.94125         0.0\n",
       "2020-01-10   5.94520         0.0\n",
       "2020-01-17   5.87128         0.0\n",
       "2020-01-24   5.90358         0.0\n",
       "2020-01-31   5.94228         0.0\n",
       "...              ...         ...\n",
       "2021-12-03  12.88396         0.0\n",
       "2021-12-10  13.69762         0.0\n",
       "2021-12-17  14.42048         1.0\n",
       "2021-12-24  14.14716         0.0\n",
       "2021-12-31  12.02948         0.0\n",
       "\n",
       "[105 rows x 2 columns]"
      ]
     },
     "execution_count": 37,
     "metadata": {},
     "output_type": "execute_result"
    }
   ],
   "source": [
    "usdtry_outliers_d"
   ]
  },
  {
   "cell_type": "markdown",
   "metadata": {},
   "source": [
    "`outliers()`, can be used for multi-dimentional series as well."
   ]
  },
  {
   "cell_type": "code",
   "execution_count": 45,
   "metadata": {},
   "outputs": [],
   "source": [
    "# this gives you detected outliers for all series in frame  in line with z-score and\n",
    "# -2.56, +2.56 critical values bounds.\n",
    "all_outliers = transformator.outliers(\n",
    "    series, method=\"z\", critical_lower=-2.56, critical_upper=2.56, keep_originals=False\n",
    ")"
   ]
  },
  {
   "cell_type": "code",
   "execution_count": 46,
   "metadata": {},
   "outputs": [
    {
     "data": {
      "text/html": [
       "<div>\n",
       "<style scoped>\n",
       "    .dataframe tbody tr th:only-of-type {\n",
       "        vertical-align: middle;\n",
       "    }\n",
       "\n",
       "    .dataframe tbody tr th {\n",
       "        vertical-align: top;\n",
       "    }\n",
       "\n",
       "    .dataframe thead th {\n",
       "        text-align: right;\n",
       "    }\n",
       "</style>\n",
       "<table border=\"1\" class=\"dataframe\">\n",
       "  <thead>\n",
       "    <tr style=\"text-align: right;\">\n",
       "      <th></th>\n",
       "      <th>USDTRY_OUT</th>\n",
       "      <th>EURTRY_OUT</th>\n",
       "      <th>BIST100_OUT</th>\n",
       "    </tr>\n",
       "    <tr>\n",
       "      <th>Date</th>\n",
       "      <th></th>\n",
       "      <th></th>\n",
       "      <th></th>\n",
       "    </tr>\n",
       "  </thead>\n",
       "  <tbody>\n",
       "    <tr>\n",
       "      <th>2020-01-03</th>\n",
       "      <td>0.0</td>\n",
       "      <td>0.0</td>\n",
       "      <td>0.0</td>\n",
       "    </tr>\n",
       "    <tr>\n",
       "      <th>2020-01-10</th>\n",
       "      <td>0.0</td>\n",
       "      <td>0.0</td>\n",
       "      <td>0.0</td>\n",
       "    </tr>\n",
       "    <tr>\n",
       "      <th>2020-01-17</th>\n",
       "      <td>0.0</td>\n",
       "      <td>0.0</td>\n",
       "      <td>0.0</td>\n",
       "    </tr>\n",
       "    <tr>\n",
       "      <th>2020-01-24</th>\n",
       "      <td>0.0</td>\n",
       "      <td>0.0</td>\n",
       "      <td>0.0</td>\n",
       "    </tr>\n",
       "    <tr>\n",
       "      <th>2020-01-31</th>\n",
       "      <td>0.0</td>\n",
       "      <td>0.0</td>\n",
       "      <td>0.0</td>\n",
       "    </tr>\n",
       "    <tr>\n",
       "      <th>...</th>\n",
       "      <td>...</td>\n",
       "      <td>...</td>\n",
       "      <td>...</td>\n",
       "    </tr>\n",
       "    <tr>\n",
       "      <th>2021-12-03</th>\n",
       "      <td>1.0</td>\n",
       "      <td>1.0</td>\n",
       "      <td>0.0</td>\n",
       "    </tr>\n",
       "    <tr>\n",
       "      <th>2021-12-10</th>\n",
       "      <td>1.0</td>\n",
       "      <td>1.0</td>\n",
       "      <td>1.0</td>\n",
       "    </tr>\n",
       "    <tr>\n",
       "      <th>2021-12-17</th>\n",
       "      <td>1.0</td>\n",
       "      <td>1.0</td>\n",
       "      <td>1.0</td>\n",
       "    </tr>\n",
       "    <tr>\n",
       "      <th>2021-12-24</th>\n",
       "      <td>1.0</td>\n",
       "      <td>1.0</td>\n",
       "      <td>0.0</td>\n",
       "    </tr>\n",
       "    <tr>\n",
       "      <th>2021-12-31</th>\n",
       "      <td>0.0</td>\n",
       "      <td>0.0</td>\n",
       "      <td>0.0</td>\n",
       "    </tr>\n",
       "  </tbody>\n",
       "</table>\n",
       "<p>105 rows × 3 columns</p>\n",
       "</div>"
      ],
      "text/plain": [
       "            USDTRY_OUT  EURTRY_OUT  BIST100_OUT\n",
       "Date                                           \n",
       "2020-01-03         0.0         0.0          0.0\n",
       "2020-01-10         0.0         0.0          0.0\n",
       "2020-01-17         0.0         0.0          0.0\n",
       "2020-01-24         0.0         0.0          0.0\n",
       "2020-01-31         0.0         0.0          0.0\n",
       "...                ...         ...          ...\n",
       "2021-12-03         1.0         1.0          0.0\n",
       "2021-12-10         1.0         1.0          1.0\n",
       "2021-12-17         1.0         1.0          1.0\n",
       "2021-12-24         1.0         1.0          0.0\n",
       "2021-12-31         0.0         0.0          0.0\n",
       "\n",
       "[105 rows x 3 columns]"
      ]
     },
     "execution_count": 46,
     "metadata": {},
     "output_type": "execute_result"
    }
   ],
   "source": [
    "all_outliers"
   ]
  },
  {
   "cell_type": "markdown",
   "metadata": {},
   "source": [
    "#### 4.21. [__Smoothed Series__](https://github.com/syncoding/evdsts/blob/master/docs/manuals/manual_en.md#get-smoothed)"
   ]
  },
  {
   "cell_type": "markdown",
   "metadata": {},
   "source": [
    "You can use `smooth()` method to get smoothed out series against outlier values in line with given\n",
    "outliers detection criteria. Removing outliers through smoothing and using smoothed series as a substitute of originals\n",
    "is a good way for modelling the general behaviors between variables instead of modelling for precise forecasting."
   ]
  },
  {
   "cell_type": "markdown",
   "metadata": {},
   "source": [
    "Returned series from `smooth()` method consist of:\n",
    "- Smoothed Values: For detected outliers.\n",
    "- Original Observations: For inbound values.\n",
    "- Smoothing is done using given smooth method (ema or sma) and its window"
   ]
  },
  {
   "cell_type": "code",
   "execution_count": 6,
   "metadata": {},
   "outputs": [],
   "source": [
    "# get series using reference names\n",
    "usdtry = connector.get_series(\"usdtry\",\n",
    "                              start_date=\"01.01.2014\",\n",
    "                              end_date=\"31.12.2021\",\n",
    "                              frequency=\"M\")"
   ]
  },
  {
   "cell_type": "code",
   "execution_count": 7,
   "metadata": {},
   "outputs": [],
   "source": [
    "# get series using reference names\n",
    "rates = connector.get_series(\"usdtry, eurtry\",\n",
    "                              start_date=\"01.01.2014\",\n",
    "                              end_date=\"31.12.2021\",\n",
    "                              frequency=\"M\")"
   ]
  },
  {
   "cell_type": "code",
   "execution_count": 20,
   "metadata": {},
   "outputs": [],
   "source": [
    "# this gives you smoothed usdtry in which outliers detected in line with mad bounds (-3.0, +3.0)\n",
    "# and out of bound values (if detected) are smoothed with sma(series, 3) values, whereas, in bound\n",
    "# values are not touched.\n",
    "smoothed_mad = transformator.smooth(usdtry, smooth_method='sma', smooth_window=3)"
   ]
  },
  {
   "cell_type": "code",
   "execution_count": 21,
   "metadata": {},
   "outputs": [
    {
     "data": {
      "text/html": [
       "<div>\n",
       "<style scoped>\n",
       "    .dataframe tbody tr th:only-of-type {\n",
       "        vertical-align: middle;\n",
       "    }\n",
       "\n",
       "    .dataframe tbody tr th {\n",
       "        vertical-align: top;\n",
       "    }\n",
       "\n",
       "    .dataframe thead th {\n",
       "        text-align: right;\n",
       "    }\n",
       "</style>\n",
       "<table border=\"1\" class=\"dataframe\">\n",
       "  <thead>\n",
       "    <tr style=\"text-align: right;\">\n",
       "      <th></th>\n",
       "      <th>USDTRY</th>\n",
       "      <th>USDTRY_SMOOTH</th>\n",
       "    </tr>\n",
       "    <tr>\n",
       "      <th>Date</th>\n",
       "      <th></th>\n",
       "      <th></th>\n",
       "    </tr>\n",
       "  </thead>\n",
       "  <tbody>\n",
       "    <tr>\n",
       "      <th>2021-03-31</th>\n",
       "      <td>7.628235</td>\n",
       "      <td>7.628235</td>\n",
       "    </tr>\n",
       "    <tr>\n",
       "      <th>2021-04-30</th>\n",
       "      <td>8.155024</td>\n",
       "      <td>8.155024</td>\n",
       "    </tr>\n",
       "    <tr>\n",
       "      <th>2021-05-31</th>\n",
       "      <td>8.342250</td>\n",
       "      <td>8.342250</td>\n",
       "    </tr>\n",
       "    <tr>\n",
       "      <th>2021-06-30</th>\n",
       "      <td>8.596682</td>\n",
       "      <td>8.596682</td>\n",
       "    </tr>\n",
       "    <tr>\n",
       "      <th>2021-07-31</th>\n",
       "      <td>8.612941</td>\n",
       "      <td>8.612941</td>\n",
       "    </tr>\n",
       "    <tr>\n",
       "      <th>2021-08-31</th>\n",
       "      <td>8.475715</td>\n",
       "      <td>8.475715</td>\n",
       "    </tr>\n",
       "    <tr>\n",
       "      <th>2021-09-30</th>\n",
       "      <td>8.511882</td>\n",
       "      <td>8.511882</td>\n",
       "    </tr>\n",
       "    <tr>\n",
       "      <th>2021-10-31</th>\n",
       "      <td>9.139945</td>\n",
       "      <td>9.139945</td>\n",
       "    </tr>\n",
       "    <tr>\n",
       "      <th>2021-11-30</th>\n",
       "      <td>10.523264</td>\n",
       "      <td>10.523264</td>\n",
       "    </tr>\n",
       "    <tr>\n",
       "      <th>2021-12-31</th>\n",
       "      <td>13.528496</td>\n",
       "      <td>11.063902</td>\n",
       "    </tr>\n",
       "  </tbody>\n",
       "</table>\n",
       "</div>"
      ],
      "text/plain": [
       "               USDTRY  USDTRY_SMOOTH\n",
       "Date                                \n",
       "2021-03-31   7.628235       7.628235\n",
       "2021-04-30   8.155024       8.155024\n",
       "2021-05-31   8.342250       8.342250\n",
       "2021-06-30   8.596682       8.596682\n",
       "2021-07-31   8.612941       8.612941\n",
       "2021-08-31   8.475715       8.475715\n",
       "2021-09-30   8.511882       8.511882\n",
       "2021-10-31   9.139945       9.139945\n",
       "2021-11-30  10.523264      10.523264\n",
       "2021-12-31  13.528496      11.063902"
      ]
     },
     "execution_count": 21,
     "metadata": {},
     "output_type": "execute_result"
    }
   ],
   "source": [
    "smoothed_mad.tail(10)"
   ]
  },
  {
   "cell_type": "code",
   "execution_count": 22,
   "metadata": {},
   "outputs": [
    {
     "data": {
      "image/png": "[encoded data removed]",
      "text/plain": [
       "<Figure size 432x288 with 1 Axes>"
      ]
     },
     "metadata": {
      "needs_background": "light"
     },
     "output_type": "display_data"
    }
   ],
   "source": [
    "# notice you need to 'matplotlib' package to see below graph\n",
    "smoothed_mad.plot();"
   ]
  },
  {
   "cell_type": "code",
   "execution_count": 23,
   "metadata": {},
   "outputs": [],
   "source": [
    "# this gives you smoothed usdtry in which outliers detected in line with mad bounds (-3.0, +3.0)\n",
    "# and out of bound values (if detected) are smoothed with sma(series, 3) values, whereas, in bound\n",
    "# values are not touched.\n",
    "smoothed_mad = transformator.smooth(usdtry, smooth_method='ema', smooth_window=2)"
   ]
  },
  {
   "cell_type": "code",
   "execution_count": 24,
   "metadata": {},
   "outputs": [
    {
     "data": {
      "text/html": [
       "<div>\n",
       "<style scoped>\n",
       "    .dataframe tbody tr th:only-of-type {\n",
       "        vertical-align: middle;\n",
       "    }\n",
       "\n",
       "    .dataframe tbody tr th {\n",
       "        vertical-align: top;\n",
       "    }\n",
       "\n",
       "    .dataframe thead th {\n",
       "        text-align: right;\n",
       "    }\n",
       "</style>\n",
       "<table border=\"1\" class=\"dataframe\">\n",
       "  <thead>\n",
       "    <tr style=\"text-align: right;\">\n",
       "      <th></th>\n",
       "      <th>USDTRY</th>\n",
       "      <th>USDTRY_SMOOTH</th>\n",
       "    </tr>\n",
       "    <tr>\n",
       "      <th>Date</th>\n",
       "      <th></th>\n",
       "      <th></th>\n",
       "    </tr>\n",
       "  </thead>\n",
       "  <tbody>\n",
       "    <tr>\n",
       "      <th>2021-03-31</th>\n",
       "      <td>7.628235</td>\n",
       "      <td>7.628235</td>\n",
       "    </tr>\n",
       "    <tr>\n",
       "      <th>2021-04-30</th>\n",
       "      <td>8.155024</td>\n",
       "      <td>8.155024</td>\n",
       "    </tr>\n",
       "    <tr>\n",
       "      <th>2021-05-31</th>\n",
       "      <td>8.342250</td>\n",
       "      <td>8.342250</td>\n",
       "    </tr>\n",
       "    <tr>\n",
       "      <th>2021-06-30</th>\n",
       "      <td>8.596682</td>\n",
       "      <td>8.596682</td>\n",
       "    </tr>\n",
       "    <tr>\n",
       "      <th>2021-07-31</th>\n",
       "      <td>8.612941</td>\n",
       "      <td>8.612941</td>\n",
       "    </tr>\n",
       "    <tr>\n",
       "      <th>2021-08-31</th>\n",
       "      <td>8.475715</td>\n",
       "      <td>8.475715</td>\n",
       "    </tr>\n",
       "    <tr>\n",
       "      <th>2021-09-30</th>\n",
       "      <td>8.511882</td>\n",
       "      <td>8.511882</td>\n",
       "    </tr>\n",
       "    <tr>\n",
       "      <th>2021-10-31</th>\n",
       "      <td>9.139945</td>\n",
       "      <td>9.139945</td>\n",
       "    </tr>\n",
       "    <tr>\n",
       "      <th>2021-11-30</th>\n",
       "      <td>10.523264</td>\n",
       "      <td>10.523264</td>\n",
       "    </tr>\n",
       "    <tr>\n",
       "      <th>2021-12-31</th>\n",
       "      <td>13.528496</td>\n",
       "      <td>12.349706</td>\n",
       "    </tr>\n",
       "  </tbody>\n",
       "</table>\n",
       "</div>"
      ],
      "text/plain": [
       "               USDTRY  USDTRY_SMOOTH\n",
       "Date                                \n",
       "2021-03-31   7.628235       7.628235\n",
       "2021-04-30   8.155024       8.155024\n",
       "2021-05-31   8.342250       8.342250\n",
       "2021-06-30   8.596682       8.596682\n",
       "2021-07-31   8.612941       8.612941\n",
       "2021-08-31   8.475715       8.475715\n",
       "2021-09-30   8.511882       8.511882\n",
       "2021-10-31   9.139945       9.139945\n",
       "2021-11-30  10.523264      10.523264\n",
       "2021-12-31  13.528496      12.349706"
      ]
     },
     "execution_count": 24,
     "metadata": {},
     "output_type": "execute_result"
    }
   ],
   "source": [
    "smoothed_mad.tail(10)"
   ]
  },
  {
   "cell_type": "code",
   "execution_count": 15,
   "metadata": {},
   "outputs": [
    {
     "data": {
      "image/png": "[encoded data removed]",
      "text/plain": [
       "<Figure size 432x288 with 1 Axes>"
      ]
     },
     "metadata": {
      "needs_background": "light"
     },
     "output_type": "display_data"
    }
   ],
   "source": [
    "# notice you need to 'matplotlib' package to see below graph\n",
    "smoothed_mad.plot();"
   ]
  },
  {
   "cell_type": "markdown",
   "metadata": {},
   "source": [
    "`smooth()`, can be used for multi-dimentional series as well."
   ]
  },
  {
   "cell_type": "code",
   "execution_count": 28,
   "metadata": {},
   "outputs": [],
   "source": [
    "# this gives you smoothed rates in which outliers detected in line with z-score bounds (-2.56, +2.56)\n",
    "# and out of bound values (if detected) are smoothed with ema(series, 3) values, whereas, in bound\n",
    "# values are not touched.\n",
    "smoothed_rates = transformator.smooth(\n",
    "    series=rates,\n",
    "    method='z',\n",
    "    critical_lower=-2.56,\n",
    "    critical_upper=2.56,\n",
    "    smooth_method='ema',\n",
    "    smooth_window=3,\n",
    "    keep_originals=False,\n",
    "    precision=2\n",
    ")"
   ]
  },
  {
   "cell_type": "code",
   "execution_count": 29,
   "metadata": {},
   "outputs": [
    {
     "data": {
      "text/html": [
       "<div>\n",
       "<style scoped>\n",
       "    .dataframe tbody tr th:only-of-type {\n",
       "        vertical-align: middle;\n",
       "    }\n",
       "\n",
       "    .dataframe tbody tr th {\n",
       "        vertical-align: top;\n",
       "    }\n",
       "\n",
       "    .dataframe thead th {\n",
       "        text-align: right;\n",
       "    }\n",
       "</style>\n",
       "<table border=\"1\" class=\"dataframe\">\n",
       "  <thead>\n",
       "    <tr style=\"text-align: right;\">\n",
       "      <th></th>\n",
       "      <th>USDTRY_SMOOTH</th>\n",
       "      <th>EURTRY_SMOOTH</th>\n",
       "    </tr>\n",
       "    <tr>\n",
       "      <th>Date</th>\n",
       "      <th></th>\n",
       "      <th></th>\n",
       "    </tr>\n",
       "  </thead>\n",
       "  <tbody>\n",
       "    <tr>\n",
       "      <th>2021-03-31</th>\n",
       "      <td>7.63</td>\n",
       "      <td>9.09</td>\n",
       "    </tr>\n",
       "    <tr>\n",
       "      <th>2021-04-30</th>\n",
       "      <td>8.16</td>\n",
       "      <td>9.73</td>\n",
       "    </tr>\n",
       "    <tr>\n",
       "      <th>2021-05-31</th>\n",
       "      <td>8.34</td>\n",
       "      <td>10.13</td>\n",
       "    </tr>\n",
       "    <tr>\n",
       "      <th>2021-06-30</th>\n",
       "      <td>8.60</td>\n",
       "      <td>10.37</td>\n",
       "    </tr>\n",
       "    <tr>\n",
       "      <th>2021-07-31</th>\n",
       "      <td>8.61</td>\n",
       "      <td>10.19</td>\n",
       "    </tr>\n",
       "    <tr>\n",
       "      <th>2021-08-31</th>\n",
       "      <td>8.48</td>\n",
       "      <td>9.98</td>\n",
       "    </tr>\n",
       "    <tr>\n",
       "      <th>2021-09-30</th>\n",
       "      <td>8.51</td>\n",
       "      <td>10.03</td>\n",
       "    </tr>\n",
       "    <tr>\n",
       "      <th>2021-10-31</th>\n",
       "      <td>9.14</td>\n",
       "      <td>10.60</td>\n",
       "    </tr>\n",
       "    <tr>\n",
       "      <th>2021-11-30</th>\n",
       "      <td>10.52</td>\n",
       "      <td>12.01</td>\n",
       "    </tr>\n",
       "    <tr>\n",
       "      <th>2021-12-31</th>\n",
       "      <td>11.60</td>\n",
       "      <td>13.23</td>\n",
       "    </tr>\n",
       "  </tbody>\n",
       "</table>\n",
       "</div>"
      ],
      "text/plain": [
       "            USDTRY_SMOOTH  EURTRY_SMOOTH\n",
       "Date                                    \n",
       "2021-03-31           7.63           9.09\n",
       "2021-04-30           8.16           9.73\n",
       "2021-05-31           8.34          10.13\n",
       "2021-06-30           8.60          10.37\n",
       "2021-07-31           8.61          10.19\n",
       "2021-08-31           8.48           9.98\n",
       "2021-09-30           8.51          10.03\n",
       "2021-10-31           9.14          10.60\n",
       "2021-11-30          10.52          12.01\n",
       "2021-12-31          11.60          13.23"
      ]
     },
     "execution_count": 29,
     "metadata": {},
     "output_type": "execute_result"
    }
   ],
   "source": [
    "smoothed_rates.tail(10)"
   ]
  },
  {
   "cell_type": "code",
   "execution_count": 27,
   "metadata": {},
   "outputs": [
    {
     "data": {
      "image/png": "[encoded data removed]",
      "text/plain": [
       "<Figure size 432x288 with 1 Axes>"
      ]
     },
     "metadata": {
      "needs_background": "light"
     },
     "output_type": "display_data"
    }
   ],
   "source": [
    "# notice you need to 'matplotlib' package to see below graph\n",
    "smoothed_rates.plot();"
   ]
  },
  {
   "cell_type": "markdown",
   "metadata": {},
   "source": [
    "### 5. [__Joining The Connector and Transformator Methods__](https://github.com/syncoding/evdsts/blob/master/docs/manuals/manual_en.md#joining-methods)"
   ]
  },
  {
   "cell_type": "markdown",
   "metadata": {},
   "source": [
    "You can chain both `Connector` and `Transformator` class methods if you would like to do so."
   ]
  },
  {
   "cell_type": "code",
   "execution_count": 52,
   "metadata": {},
   "outputs": [],
   "source": [
    "connector = Connector()          # assuming you have already saved your API Key on disk.\n",
    "transformator = Transformator()"
   ]
  },
  {
   "cell_type": "markdown",
   "metadata": {},
   "source": [
    "Below cases assumes you have already saved reference names like below:\n",
    "- usdtry -> 'TP.DK.USD.A.YTL'\n",
    "- eurtry -> 'TP.DK.EUR.A.YTL'"
   ]
  },
  {
   "cell_type": "code",
   "execution_count": 53,
   "metadata": {},
   "outputs": [],
   "source": [
    "# this gives you smoothed usdtry and eurtry\n",
    "smoothed_rates = (\n",
    "    transformator\n",
    "    .smooth(\n",
    "            connector\n",
    "            .get_series(\"usdtry, eurtry\", start_date=\"01.01.2014\", end_date=\"31.12.2021\", frequency=\"M\")\n",
    "    )\n",
    ")"
   ]
  },
  {
   "cell_type": "code",
   "execution_count": 54,
   "metadata": {},
   "outputs": [
    {
     "data": {
      "text/html": [
       "<div>\n",
       "<style scoped>\n",
       "    .dataframe tbody tr th:only-of-type {\n",
       "        vertical-align: middle;\n",
       "    }\n",
       "\n",
       "    .dataframe tbody tr th {\n",
       "        vertical-align: top;\n",
       "    }\n",
       "\n",
       "    .dataframe thead th {\n",
       "        text-align: right;\n",
       "    }\n",
       "</style>\n",
       "<table border=\"1\" class=\"dataframe\">\n",
       "  <thead>\n",
       "    <tr style=\"text-align: right;\">\n",
       "      <th></th>\n",
       "      <th>USDTRY</th>\n",
       "      <th>EURTRY</th>\n",
       "      <th>USDTRY_SMOOTH</th>\n",
       "      <th>EURTRY_SMOOTH</th>\n",
       "    </tr>\n",
       "    <tr>\n",
       "      <th>Date</th>\n",
       "      <th></th>\n",
       "      <th></th>\n",
       "      <th></th>\n",
       "      <th></th>\n",
       "    </tr>\n",
       "  </thead>\n",
       "  <tbody>\n",
       "    <tr>\n",
       "      <th>2021-03-31</th>\n",
       "      <td>7.628235</td>\n",
       "      <td>9.091334</td>\n",
       "      <td>7.628235</td>\n",
       "      <td>9.091334</td>\n",
       "    </tr>\n",
       "    <tr>\n",
       "      <th>2021-04-30</th>\n",
       "      <td>8.155024</td>\n",
       "      <td>9.733895</td>\n",
       "      <td>8.155024</td>\n",
       "      <td>9.733895</td>\n",
       "    </tr>\n",
       "    <tr>\n",
       "      <th>2021-05-31</th>\n",
       "      <td>8.342250</td>\n",
       "      <td>10.130661</td>\n",
       "      <td>8.342250</td>\n",
       "      <td>10.130661</td>\n",
       "    </tr>\n",
       "    <tr>\n",
       "      <th>2021-06-30</th>\n",
       "      <td>8.596682</td>\n",
       "      <td>10.371214</td>\n",
       "      <td>8.596682</td>\n",
       "      <td>10.371214</td>\n",
       "    </tr>\n",
       "    <tr>\n",
       "      <th>2021-07-31</th>\n",
       "      <td>8.612941</td>\n",
       "      <td>10.192188</td>\n",
       "      <td>8.612941</td>\n",
       "      <td>10.192188</td>\n",
       "    </tr>\n",
       "    <tr>\n",
       "      <th>2021-08-31</th>\n",
       "      <td>8.475715</td>\n",
       "      <td>9.978305</td>\n",
       "      <td>8.475715</td>\n",
       "      <td>9.978305</td>\n",
       "    </tr>\n",
       "    <tr>\n",
       "      <th>2021-09-30</th>\n",
       "      <td>8.511882</td>\n",
       "      <td>10.028577</td>\n",
       "      <td>8.511882</td>\n",
       "      <td>10.028577</td>\n",
       "    </tr>\n",
       "    <tr>\n",
       "      <th>2021-10-31</th>\n",
       "      <td>9.139945</td>\n",
       "      <td>10.601325</td>\n",
       "      <td>9.139945</td>\n",
       "      <td>10.601325</td>\n",
       "    </tr>\n",
       "    <tr>\n",
       "      <th>2021-11-30</th>\n",
       "      <td>10.523264</td>\n",
       "      <td>12.011395</td>\n",
       "      <td>10.523264</td>\n",
       "      <td>11.478622</td>\n",
       "    </tr>\n",
       "    <tr>\n",
       "      <th>2021-12-31</th>\n",
       "      <td>13.528496</td>\n",
       "      <td>15.289578</td>\n",
       "      <td>12.349706</td>\n",
       "      <td>14.019260</td>\n",
       "    </tr>\n",
       "  </tbody>\n",
       "</table>\n",
       "</div>"
      ],
      "text/plain": [
       "               USDTRY     EURTRY  USDTRY_SMOOTH  EURTRY_SMOOTH\n",
       "Date                                                          \n",
       "2021-03-31   7.628235   9.091334       7.628235       9.091334\n",
       "2021-04-30   8.155024   9.733895       8.155024       9.733895\n",
       "2021-05-31   8.342250  10.130661       8.342250      10.130661\n",
       "2021-06-30   8.596682  10.371214       8.596682      10.371214\n",
       "2021-07-31   8.612941  10.192188       8.612941      10.192188\n",
       "2021-08-31   8.475715   9.978305       8.475715       9.978305\n",
       "2021-09-30   8.511882  10.028577       8.511882      10.028577\n",
       "2021-10-31   9.139945  10.601325       9.139945      10.601325\n",
       "2021-11-30  10.523264  12.011395      10.523264      11.478622\n",
       "2021-12-31  13.528496  15.289578      12.349706      14.019260"
      ]
     },
     "execution_count": 54,
     "metadata": {},
     "output_type": "execute_result"
    }
   ],
   "source": [
    "smoothed_rates.tail(10)"
   ]
  },
  {
   "cell_type": "code",
   "execution_count": 55,
   "metadata": {},
   "outputs": [],
   "source": [
    "# This also gives you smoothed usdtry and eurtry\n",
    "smoothed_rates = transformator.smooth(\n",
    "    connector.get_series(\"usdtry, eurtry\", start_date=\"01.01.2014\", end_date=\"31.12.2021\", frequency=\"M\")\n",
    ")"
   ]
  },
  {
   "cell_type": "code",
   "execution_count": 56,
   "metadata": {},
   "outputs": [
    {
     "data": {
      "text/html": [
       "<div>\n",
       "<style scoped>\n",
       "    .dataframe tbody tr th:only-of-type {\n",
       "        vertical-align: middle;\n",
       "    }\n",
       "\n",
       "    .dataframe tbody tr th {\n",
       "        vertical-align: top;\n",
       "    }\n",
       "\n",
       "    .dataframe thead th {\n",
       "        text-align: right;\n",
       "    }\n",
       "</style>\n",
       "<table border=\"1\" class=\"dataframe\">\n",
       "  <thead>\n",
       "    <tr style=\"text-align: right;\">\n",
       "      <th></th>\n",
       "      <th>USDTRY</th>\n",
       "      <th>EURTRY</th>\n",
       "      <th>USDTRY_SMOOTH</th>\n",
       "      <th>EURTRY_SMOOTH</th>\n",
       "    </tr>\n",
       "    <tr>\n",
       "      <th>Date</th>\n",
       "      <th></th>\n",
       "      <th></th>\n",
       "      <th></th>\n",
       "      <th></th>\n",
       "    </tr>\n",
       "  </thead>\n",
       "  <tbody>\n",
       "    <tr>\n",
       "      <th>2021-03-31</th>\n",
       "      <td>7.628235</td>\n",
       "      <td>9.091334</td>\n",
       "      <td>7.628235</td>\n",
       "      <td>9.091334</td>\n",
       "    </tr>\n",
       "    <tr>\n",
       "      <th>2021-04-30</th>\n",
       "      <td>8.155024</td>\n",
       "      <td>9.733895</td>\n",
       "      <td>8.155024</td>\n",
       "      <td>9.733895</td>\n",
       "    </tr>\n",
       "    <tr>\n",
       "      <th>2021-05-31</th>\n",
       "      <td>8.342250</td>\n",
       "      <td>10.130661</td>\n",
       "      <td>8.342250</td>\n",
       "      <td>10.130661</td>\n",
       "    </tr>\n",
       "    <tr>\n",
       "      <th>2021-06-30</th>\n",
       "      <td>8.596682</td>\n",
       "      <td>10.371214</td>\n",
       "      <td>8.596682</td>\n",
       "      <td>10.371214</td>\n",
       "    </tr>\n",
       "    <tr>\n",
       "      <th>2021-07-31</th>\n",
       "      <td>8.612941</td>\n",
       "      <td>10.192188</td>\n",
       "      <td>8.612941</td>\n",
       "      <td>10.192188</td>\n",
       "    </tr>\n",
       "    <tr>\n",
       "      <th>2021-08-31</th>\n",
       "      <td>8.475715</td>\n",
       "      <td>9.978305</td>\n",
       "      <td>8.475715</td>\n",
       "      <td>9.978305</td>\n",
       "    </tr>\n",
       "    <tr>\n",
       "      <th>2021-09-30</th>\n",
       "      <td>8.511882</td>\n",
       "      <td>10.028577</td>\n",
       "      <td>8.511882</td>\n",
       "      <td>10.028577</td>\n",
       "    </tr>\n",
       "    <tr>\n",
       "      <th>2021-10-31</th>\n",
       "      <td>9.139945</td>\n",
       "      <td>10.601325</td>\n",
       "      <td>9.139945</td>\n",
       "      <td>10.601325</td>\n",
       "    </tr>\n",
       "    <tr>\n",
       "      <th>2021-11-30</th>\n",
       "      <td>10.523264</td>\n",
       "      <td>12.011395</td>\n",
       "      <td>10.523264</td>\n",
       "      <td>11.478622</td>\n",
       "    </tr>\n",
       "    <tr>\n",
       "      <th>2021-12-31</th>\n",
       "      <td>13.528496</td>\n",
       "      <td>15.289578</td>\n",
       "      <td>12.349706</td>\n",
       "      <td>14.019260</td>\n",
       "    </tr>\n",
       "  </tbody>\n",
       "</table>\n",
       "</div>"
      ],
      "text/plain": [
       "               USDTRY     EURTRY  USDTRY_SMOOTH  EURTRY_SMOOTH\n",
       "Date                                                          \n",
       "2021-03-31   7.628235   9.091334       7.628235       9.091334\n",
       "2021-04-30   8.155024   9.733895       8.155024       9.733895\n",
       "2021-05-31   8.342250  10.130661       8.342250      10.130661\n",
       "2021-06-30   8.596682  10.371214       8.596682      10.371214\n",
       "2021-07-31   8.612941  10.192188       8.612941      10.192188\n",
       "2021-08-31   8.475715   9.978305       8.475715       9.978305\n",
       "2021-09-30   8.511882  10.028577       8.511882      10.028577\n",
       "2021-10-31   9.139945  10.601325       9.139945      10.601325\n",
       "2021-11-30  10.523264  12.011395      10.523264      11.478622\n",
       "2021-12-31  13.528496  15.289578      12.349706      14.019260"
      ]
     },
     "execution_count": 56,
     "metadata": {},
     "output_type": "execute_result"
    }
   ],
   "source": [
    "smoothed_rates.tail(10)"
   ]
  },
  {
   "cell_type": "code",
   "execution_count": 61,
   "metadata": {},
   "outputs": [],
   "source": [
    "# This gives you smoothed usdtry and eurtry evaluating with z_score bounds (-1.96, +1.96), but,\n",
    "# notice the original usdtry and eurtry series is not included in returned smoothed data here\n",
    "# since the 'keep_originals' flag is set to `False`\n",
    "smoothed_rates = (\n",
    "    transformator\n",
    "    .smooth(\n",
    "        series=connector.get_series(\"usdtry, eurtry\", start_date=\"01.01.2014\", end_date=\"31.12.2021\", frequency=\"M\"),\n",
    "        method=\"z\", critical_lower=-1.96, critical_upper=1.96, keep_originals=False\n",
    "    )\n",
    ")"
   ]
  },
  {
   "cell_type": "code",
   "execution_count": 62,
   "metadata": {},
   "outputs": [
    {
     "data": {
      "text/html": [
       "<div>\n",
       "<style scoped>\n",
       "    .dataframe tbody tr th:only-of-type {\n",
       "        vertical-align: middle;\n",
       "    }\n",
       "\n",
       "    .dataframe tbody tr th {\n",
       "        vertical-align: top;\n",
       "    }\n",
       "\n",
       "    .dataframe thead th {\n",
       "        text-align: right;\n",
       "    }\n",
       "</style>\n",
       "<table border=\"1\" class=\"dataframe\">\n",
       "  <thead>\n",
       "    <tr style=\"text-align: right;\">\n",
       "      <th></th>\n",
       "      <th>USDTRY_SMOOTH</th>\n",
       "      <th>EURTRY_SMOOTH</th>\n",
       "    </tr>\n",
       "    <tr>\n",
       "      <th>Date</th>\n",
       "      <th></th>\n",
       "      <th></th>\n",
       "    </tr>\n",
       "  </thead>\n",
       "  <tbody>\n",
       "    <tr>\n",
       "      <th>2021-03-31</th>\n",
       "      <td>7.628235</td>\n",
       "      <td>9.091334</td>\n",
       "    </tr>\n",
       "    <tr>\n",
       "      <th>2021-04-30</th>\n",
       "      <td>8.155024</td>\n",
       "      <td>9.733895</td>\n",
       "    </tr>\n",
       "    <tr>\n",
       "      <th>2021-05-31</th>\n",
       "      <td>8.342250</td>\n",
       "      <td>10.130661</td>\n",
       "    </tr>\n",
       "    <tr>\n",
       "      <th>2021-06-30</th>\n",
       "      <td>8.596682</td>\n",
       "      <td>10.371214</td>\n",
       "    </tr>\n",
       "    <tr>\n",
       "      <th>2021-07-31</th>\n",
       "      <td>8.612941</td>\n",
       "      <td>10.192188</td>\n",
       "    </tr>\n",
       "    <tr>\n",
       "      <th>2021-08-31</th>\n",
       "      <td>8.475715</td>\n",
       "      <td>9.978305</td>\n",
       "    </tr>\n",
       "    <tr>\n",
       "      <th>2021-09-30</th>\n",
       "      <td>8.511882</td>\n",
       "      <td>10.028577</td>\n",
       "    </tr>\n",
       "    <tr>\n",
       "      <th>2021-10-31</th>\n",
       "      <td>9.139945</td>\n",
       "      <td>10.601325</td>\n",
       "    </tr>\n",
       "    <tr>\n",
       "      <th>2021-11-30</th>\n",
       "      <td>9.992125</td>\n",
       "      <td>11.478622</td>\n",
       "    </tr>\n",
       "    <tr>\n",
       "      <th>2021-12-31</th>\n",
       "      <td>12.349706</td>\n",
       "      <td>14.019260</td>\n",
       "    </tr>\n",
       "  </tbody>\n",
       "</table>\n",
       "</div>"
      ],
      "text/plain": [
       "            USDTRY_SMOOTH  EURTRY_SMOOTH\n",
       "Date                                    \n",
       "2021-03-31       7.628235       9.091334\n",
       "2021-04-30       8.155024       9.733895\n",
       "2021-05-31       8.342250      10.130661\n",
       "2021-06-30       8.596682      10.371214\n",
       "2021-07-31       8.612941      10.192188\n",
       "2021-08-31       8.475715       9.978305\n",
       "2021-09-30       8.511882      10.028577\n",
       "2021-10-31       9.139945      10.601325\n",
       "2021-11-30       9.992125      11.478622\n",
       "2021-12-31      12.349706      14.019260"
      ]
     },
     "execution_count": 62,
     "metadata": {},
     "output_type": "execute_result"
    }
   ],
   "source": [
    "smoothed_rates.tail(10)"
   ]
  },
  {
   "cell_type": "code",
   "execution_count": 66,
   "metadata": {},
   "outputs": [],
   "source": [
    "# this gives you sma(usdtry, 3), sma(eurtry, 3) and 2 dummy series which are:\n",
    "\n",
    "# USDTRY_SMA_3_GTT_9:\n",
    "# 1, if 12 < sma(usdtry, 3) < 10\n",
    "# 0, otherwise\n",
    "\n",
    "# EURTRY_SMA_3_GTT_9:\n",
    "# 1, if 12 < sma(eurtry, 3) < 10\n",
    "# 0, otherwise\n",
    "\n",
    "rates_sma_3_dummy = (\n",
    "    transformator\n",
    "     .dummy(\n",
    "        transformator\n",
    "         .sma(\n",
    "            connector\n",
    "                .get_series(\"usdtry, eurtry\", start_date=\"01.01.2014\", end_date=\"31.12.2021\", frequency=\"M\")\n",
    "         , window=3, keep_originals=False)\n",
    "     , condition=\"()\", threshold=(10, 12)\n",
    "     )\n",
    ")"
   ]
  },
  {
   "cell_type": "code",
   "execution_count": 67,
   "metadata": {},
   "outputs": [
    {
     "data": {
      "text/html": [
       "<div>\n",
       "<style scoped>\n",
       "    .dataframe tbody tr th:only-of-type {\n",
       "        vertical-align: middle;\n",
       "    }\n",
       "\n",
       "    .dataframe tbody tr th {\n",
       "        vertical-align: top;\n",
       "    }\n",
       "\n",
       "    .dataframe thead th {\n",
       "        text-align: right;\n",
       "    }\n",
       "</style>\n",
       "<table border=\"1\" class=\"dataframe\">\n",
       "  <thead>\n",
       "    <tr style=\"text-align: right;\">\n",
       "      <th></th>\n",
       "      <th>USDTRY_SMA_3</th>\n",
       "      <th>EURTRY_SMA_3</th>\n",
       "      <th>USDTRY_SMA_3_CBOUND</th>\n",
       "      <th>EURTRY_SMA_3_CBOUND</th>\n",
       "    </tr>\n",
       "    <tr>\n",
       "      <th>Date</th>\n",
       "      <th></th>\n",
       "      <th></th>\n",
       "      <th></th>\n",
       "      <th></th>\n",
       "    </tr>\n",
       "  </thead>\n",
       "  <tbody>\n",
       "    <tr>\n",
       "      <th>2021-03-31</th>\n",
       "      <td>7.364858</td>\n",
       "      <td>8.885203</td>\n",
       "      <td>0.0</td>\n",
       "      <td>0.0</td>\n",
       "    </tr>\n",
       "    <tr>\n",
       "      <th>2021-04-30</th>\n",
       "      <td>7.618541</td>\n",
       "      <td>9.127138</td>\n",
       "      <td>0.0</td>\n",
       "      <td>0.0</td>\n",
       "    </tr>\n",
       "    <tr>\n",
       "      <th>2021-05-31</th>\n",
       "      <td>8.041836</td>\n",
       "      <td>9.651964</td>\n",
       "      <td>0.0</td>\n",
       "      <td>0.0</td>\n",
       "    </tr>\n",
       "    <tr>\n",
       "      <th>2021-06-30</th>\n",
       "      <td>8.364652</td>\n",
       "      <td>10.078590</td>\n",
       "      <td>0.0</td>\n",
       "      <td>1.0</td>\n",
       "    </tr>\n",
       "    <tr>\n",
       "      <th>2021-07-31</th>\n",
       "      <td>8.517291</td>\n",
       "      <td>10.231354</td>\n",
       "      <td>0.0</td>\n",
       "      <td>1.0</td>\n",
       "    </tr>\n",
       "    <tr>\n",
       "      <th>2021-08-31</th>\n",
       "      <td>8.561779</td>\n",
       "      <td>10.180569</td>\n",
       "      <td>0.0</td>\n",
       "      <td>1.0</td>\n",
       "    </tr>\n",
       "    <tr>\n",
       "      <th>2021-09-30</th>\n",
       "      <td>8.533512</td>\n",
       "      <td>10.066357</td>\n",
       "      <td>0.0</td>\n",
       "      <td>1.0</td>\n",
       "    </tr>\n",
       "    <tr>\n",
       "      <th>2021-10-31</th>\n",
       "      <td>8.709181</td>\n",
       "      <td>10.202736</td>\n",
       "      <td>0.0</td>\n",
       "      <td>1.0</td>\n",
       "    </tr>\n",
       "    <tr>\n",
       "      <th>2021-11-30</th>\n",
       "      <td>9.391697</td>\n",
       "      <td>10.880432</td>\n",
       "      <td>0.0</td>\n",
       "      <td>1.0</td>\n",
       "    </tr>\n",
       "    <tr>\n",
       "      <th>2021-12-31</th>\n",
       "      <td>11.063902</td>\n",
       "      <td>12.634100</td>\n",
       "      <td>1.0</td>\n",
       "      <td>0.0</td>\n",
       "    </tr>\n",
       "  </tbody>\n",
       "</table>\n",
       "</div>"
      ],
      "text/plain": [
       "            USDTRY_SMA_3  EURTRY_SMA_3  USDTRY_SMA_3_CBOUND  \\\n",
       "Date                                                          \n",
       "2021-03-31      7.364858      8.885203                  0.0   \n",
       "2021-04-30      7.618541      9.127138                  0.0   \n",
       "2021-05-31      8.041836      9.651964                  0.0   \n",
       "2021-06-30      8.364652     10.078590                  0.0   \n",
       "2021-07-31      8.517291     10.231354                  0.0   \n",
       "2021-08-31      8.561779     10.180569                  0.0   \n",
       "2021-09-30      8.533512     10.066357                  0.0   \n",
       "2021-10-31      8.709181     10.202736                  0.0   \n",
       "2021-11-30      9.391697     10.880432                  0.0   \n",
       "2021-12-31     11.063902     12.634100                  1.0   \n",
       "\n",
       "            EURTRY_SMA_3_CBOUND  \n",
       "Date                             \n",
       "2021-03-31                  0.0  \n",
       "2021-04-30                  0.0  \n",
       "2021-05-31                  0.0  \n",
       "2021-06-30                  1.0  \n",
       "2021-07-31                  1.0  \n",
       "2021-08-31                  1.0  \n",
       "2021-09-30                  1.0  \n",
       "2021-10-31                  1.0  \n",
       "2021-11-30                  1.0  \n",
       "2021-12-31                  0.0  "
      ]
     },
     "execution_count": 67,
     "metadata": {},
     "output_type": "execute_result"
    }
   ],
   "source": [
    "rates_sma_3_dummy.tail(10)"
   ]
  }
 ],
 "metadata": {
  "kernelspec": {
   "display_name": "Qm",
   "language": "python",
   "name": "qm"
  },
  "language_info": {
   "codemirror_mode": {
    "name": "ipython",
    "version": 3
   },
   "file_extension": ".py",
   "mimetype": "text/x-python",
   "name": "python",
   "nbconvert_exporter": "python",
   "pygments_lexer": "ipython3",
   "version": "3.10.5"
  },
  "orig_nbformat": 4,
  "vscode": {
   "interpreter": {
    "hash": "cefce79f758fc4d1af0df9103fb5a3bdba5d036f0028ca64e03d0ab2736b5083"
   }
  }
 },
 "nbformat": 4,
 "nbformat_minor": 2
}
