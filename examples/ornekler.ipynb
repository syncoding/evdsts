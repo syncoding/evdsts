{
 "cells": [
  {
   "cell_type": "markdown",
   "metadata": {},
   "source": [
    "##### Copyright (C) 2022 Burak ÇELİK"
   ]
  },
  {
   "cell_type": "code",
   "execution_count": 29,
   "metadata": {},
   "outputs": [],
   "source": [
    "# Permission is hereby granted, free of charge, to any person obtaining a copy\n",
    "# of this software and associated documentation files (the \"Software\"), to deal\n",
    "# in the Software without restriction, including without limitation the rights\n",
    "# to use, copy, modify, merge, publish, distribute, sublicense, and/or sell\n",
    "# copies of the Software, and to permit persons to whom the Software is\n",
    "# furnished to do so, subject to the following conditions:\n",
    "\n",
    "# The above copyright notice and this permission notice shall be included in\n",
    "# all copies or substantial portions of the Software.\n",
    "\n",
    "# THE SOFTWARE IS PROVIDED \"AS IS\", WITHOUT WARRANTY OF ANY KIND, EXPRESS OR\n",
    "# IMPLIED, INCLUDING BUT NOT LIMITED TO THE WARRANTIES OF MERCHANTABILITY,\n",
    "# FITNESS FOR A PARTICULAR PURPOSE AND NONINFRINGEMENT. IN NO EVENT SHALL THE\n",
    "# AUTHORS OR COPYRIGHT HOLDERS BE LIABLE FOR ANY CLAIM, DAMAGES OR OTHER\n",
    "# LIABILITY, WHETHER IN AN ACTION OF CONTRACT, TORT OR OTHERWISE, ARISING FROM,\n",
    "# OUT OF OR IN CONNECTION WITH THE SOFTWARE OR THE USE OR OTHER DEALINGS IN\n",
    "# THE SOFTWARE."
   ]
  },
  {
   "cell_type": "markdown",
   "metadata": {},
   "source": [
    "## __Ön Gereklilikler__"
   ]
  },
  {
   "cell_type": "markdown",
   "metadata": {},
   "source": [
    "> __Bu uygulamayı Google Colab üzerinde görüntülemek İçin Öncelikle aşağıdaki hücreyi çalıştırıp `evdsts`'yi kurmanız gerekmektedir.__  \n",
    "\n",
    "> __Eğer `evdsts` zaten sisteminizde kurulu ve bu dosyayı yerel Jupyter Notebook'unuzda görüntülüyorsanız herhangi bir kurulum yapmanıza gerek yoktur.__"
   ]
  },
  {
   "cell_type": "code",
   "execution_count": null,
   "metadata": {},
   "outputs": [],
   "source": [
    "# Emin değilseniz test etmek için çalıştırabilirsiniz.\n",
    "try:\n",
    "    import evdsts\n",
    "    print('evdsts zaten kurulu.')\n",
    "except ModuleNotFoundError:\n",
    "    print('evdsts kurulu degil. Asagidaki hücreyi isleterek evdsts\\'yi kurmaniz gerekiyor.')\n",
    "except Exception as ex:\n",
    "    print('Bilinmeyen bir hata olustu ciktiyi inceleyin!')\n",
    "    raise ex"
   ]
  },
  {
   "cell_type": "code",
   "execution_count": null,
   "metadata": {},
   "outputs": [],
   "source": [
    "# eğer evdsts geçerli ortamda kurulu değilse kurulum yapar\n",
    "%pip install evdsts"
   ]
  },
  {
   "cell_type": "markdown",
   "metadata": {},
   "source": [
    "> __Bu örnek uygulamayı kullanabilmek için EVDS'den alınan size özel bir API Anahtarı'na ihtiyacınız vardır.\n",
    "> Eğer daha önce API anahtarınızı almadıysanız aşağıdaki adımları izleyerek öncelikle anahtarınızı almalısınız.__"
   ]
  },
  {
   "cell_type": "markdown",
   "metadata": {},
   "source": [
    "1. [__EVDS__](https://evds2.tcmb.gov.tr/index.php?/evds/login) web sitesini açın.\n",
    "2. Açılan sayfada __KAYIT OLUN__ butonuna tiklayin.\n",
    "3. Formda istenen bilgileri girip EVDS'ye kayıt olun.\n",
    "4. Girdiginiz e-mail adresine ait olan gelen kutusunu kontrol edin ve gelen e-mail üzerinden e-mail adresinizi doğrulayın.\n",
    "5. Ayni sayfayı açın ve hesabınıza giriş yapın.\n",
    "6. Kullanıcı adınıza tıklayın ve açılır menüden __Profil__ sekmesine tıklayın.\n",
    "7. Açılan menüde __API Anahtarı__ butonuna tıklayarak bağlantı için gereken API anahtarınızı gorebilirsiniz."
   ]
  },
  {
   "cell_type": "markdown",
   "metadata": {},
   "source": [
    "## __EVDSTS Örnek Senaryolar__"
   ]
  },
  {
   "cell_type": "markdown",
   "metadata": {},
   "source": [
    "### 1. [__Connector Sınıfı Temelleri__](https://github.com/syncoding/evdsts/blob/master/docs/manuals/manual_en.md#the-basics-1)"
   ]
  },
  {
   "cell_type": "markdown",
   "metadata": {},
   "source": [
    "Bu bölümde `evdsts`'nin `Connector` sınıfının bazı önemli özelliklerine göz atacağız. `Connector`, EVDS üzerinden\n",
    "tüm veri alım işlemlerinden sorumlu sınıftır."
   ]
  },
  {
   "cell_type": "markdown",
   "metadata": {},
   "source": [
    "#### 1.1. [__Connector Sınıfının Import Edilmesi ve Bir Nesne Yaratılması__](https://github.com/syncoding/evdsts/blob/master/docs/manuals/manual_en.md#connector-instance)"
   ]
  },
  {
   "cell_type": "markdown",
   "metadata": {},
   "source": [
    "`evdsts`'yi kullanrak EVDS'den veri indirebilmeniz için öncelikle `Connector` sınıfını projenize\n",
    "import etmeniz gerekecek."
   ]
  },
  {
   "cell_type": "code",
   "execution_count": 2,
   "metadata": {},
   "outputs": [],
   "source": [
    "from evdsts import Connector"
   ]
  },
  {
   "cell_type": "markdown",
   "metadata": {},
   "source": [
    "Daha sonra ise veri alım işlemlerini gerçekleştirebilmek için ise `Connector` sınıfına ait bir nesneye\n",
    "ihtiyacınız olacak. Bunu aşağıdaki hücredeki gibi yapabilirsiniz. Bu örneklerde nesne ismi `connector`\n",
    "olarak seçilmiştir fakat siz kendi projenizde farklı isimler de kullanabilirsiniz."
   ]
  },
  {
   "cell_type": "code",
   "execution_count": 2,
   "metadata": {},
   "outputs": [],
   "source": [
    "connector = Connector('API_ANAHTARINIZ')"
   ]
  },
  {
   "cell_type": "markdown",
   "metadata": {},
   "source": [
    "`connector` nesnesi hakkında bazı detaytları görüntülemek için `print` edebilirsiniz."
   ]
  },
  {
   "cell_type": "code",
   "execution_count": null,
   "metadata": {},
   "outputs": [],
   "source": [
    "connector  # Bu, api anahtarını da görüntüleyeeği için hücre çalıştırılmamıştır."
   ]
  },
  {
   "cell_type": "markdown",
   "metadata": {},
   "source": [
    "`Connector` objesini yaratırken aşağıdaki parametreleri de kullanabilirsiniz:"
   ]
  },
  {
   "cell_type": "code",
   "execution_count": null,
   "metadata": {},
   "outputs": [],
   "source": [
    "# basit obje yaratımı\n",
    "connector = Connector('API_ANAHTARINIZ')\n",
    "\n",
    "# connector'un baglanmaya calistigi url'yi gosterir.\n",
    "connector = Connector('API_ANAHTARINIZ', show_links=True)\n",
    "\n",
    "# proxy arkasindan baglanti\n",
    "proxies = {\"http\": \"127.0.0.1\", \"https\": \"127.0.0.1\"}\n",
    "connector = Connector('API_ANAHTARINIZ', proxy_server=proxies)\n",
    "\n",
    "# Baglanilan server icin SSL guvenlik sertifikasi dogrulamasini devre disi birakir\n",
    "connector = Connector('API_ANAHTARINIZ', verify_certificates=False)\n",
    "\n",
    "# Daha iyi ekran goruntulemesi icin Jupyter Notebook Modu. Bu mod sadece ekranda goruntulenen\n",
    "# veriyi etkiler, yani, icsel hesaplamalari etkilemez.\n",
    "connector = Connector('API_ANAHTARINIZ', jupyter_mode=True)\n",
    "\n",
    "# alinan tum veriler icin ondalik hane hassasiyetini 2 olarak secer. Bu hassasiyet hem ekranda\n",
    "# goruntulenecek verilerin hem de hesaplamada kullanilacak verilerin ondalik hane hassasiyetini\n",
    "# etkiler\n",
    "connector = Connector('API_ANAHTARINIZ', precision=2)"
   ]
  },
  {
   "cell_type": "markdown",
   "metadata": {},
   "source": [
    "#### 1.2. [__Gelecek Kullanımlar İçin API Anahtarınızı Diske Kaydetme__](https://github.com/syncoding/evdsts/blob/master/docs/manuals/manual_en.md#save-the-key)"
   ]
  },
  {
   "cell_type": "markdown",
   "metadata": {},
   "source": [
    "Aslında bir `Connector` nesnesi yaratmak için her seferinde API anahtarınızı kullanmanıza gerek yok.\n",
    "Mevcut API anahtarınızı proje klasörüne kopyalarak, bu proje içinde anahtara gerek kalmadan herhangi\n",
    "bir yerde `Connector` nesnesi yaratabilirsiniz. Bunun için `save_key()` metodunu kullanırız."
   ]
  },
  {
   "cell_type": "code",
   "execution_count": null,
   "metadata": {},
   "outputs": [],
   "source": [
    "connector = Connector('API_ANAHTARINIZ')\n",
    "connector.save_key()  # bu noktadan sonra mevcut projeniz içinde artık api anahtarınızı kullanmanıza gerek yok."
   ]
  },
  {
   "cell_type": "markdown",
   "metadata": {},
   "source": [
    "Böylece aşağıdaki şekilde API anahtarınızı kullanmaya gerek kalmadan bir `Connector` nesnesi oluşturabilirsiniz."
   ]
  },
  {
   "cell_type": "code",
   "execution_count": 3,
   "metadata": {},
   "outputs": [],
   "source": [
    "connector = Connector()  # burada API anahtarınız diskten okunuyor."
   ]
  },
  {
   "cell_type": "markdown",
   "metadata": {},
   "source": [
    "#### 1.3. [__EVDS Seri İsim Tanımlarını Veri Tabanında Arama__](https://github.com/syncoding/evdsts/blob/master/docs/manuals/manual_en.md#searching-into-database)"
   ]
  },
  {
   "cell_type": "markdown",
   "metadata": {},
   "source": [
    "Aradığınız serilerin EVDS'de tanımlı isminin ne olduğunu bulmak için `evdsts` içinden çıkmanıza gerek yok!\n",
    "`evdsts`'nin `where()` metodu sayesinde EVDS'nin web sitesini ziyaret etmenize ve site üzerinde arama yapmanız\n",
    "gerek kalmaksızın seri isim tanımı arayabilirsiniz."
   ]
  },
  {
   "cell_type": "code",
   "execution_count": 8,
   "metadata": {},
   "outputs": [
    {
     "name": "stdout",
     "output_type": "stream",
     "text": [
      "5 most relevant results for 'tüketici fiyat endeksi' are shown below.\n",
      "\n",
      "                                                 Search Results                                                 \n",
      "----------------------------------------------------------------------------------------------------------------\n",
      "Series Code          Series Name                                                     Frequency        Start Date \n",
      "----------------------------------------------------------------------------------------------------------------\n",
      "TP.FE.OKTG01         Tüketici Fiyat Endeksi (Genel)                                  AYLIK            01-01-2003 \n",
      "TP.MK.F.BILESIK.TUM  (FİYAT) BİST Tüm-100 Endeksi (XTUMY), Kapanış Fiyatlarına Göre  İŞ GÜNÜ          02-01-2009 \n",
      "TP.MK.F.HIZMET       (FİYAT) BİST Hizmet Endeksi (XUHIZ), Kapanış Fiyatlarına Göre ( İŞ GÜNÜ          02-01-1997 \n",
      "TP.MK.F.TEKNOLOJI    (FİYAT) BİST Teknoloji Endeksi (XUTEK), Kapanış Fiyatlarına Gör İŞ GÜNÜ          30-06-2000 \n",
      "TP.TUFE1YI.T1        1.Yurt İçi Üretici Fiyat Endeksi                                AYLIK            01-01-1982 \n",
      "----------------------------------------------------------------------------------------------------------------\n"
     ]
    }
   ],
   "source": [
    "connector = Connector()                  # API anahtarinizi diske kayit ettiginizi varsayiyoruz.\n",
    "connector.where(\"tüketici fiyat endeksi\"); # arama yaklasik 0.5 sn. aldi."
   ]
  },
  {
   "cell_type": "markdown",
   "metadata": {},
   "source": [
    "Yuakrıdaki çıktıdaki `Series Code` sütunu size EVDS'den veri indirmek için gereken seri isim tanımını verecektir.\n",
    "Bu çıktı sonuçlarda herhangi bir limit olmaksızın ayrıca bir `Dict` nesnesi olarak da geri döndürülür ve bir değişkene\n",
    "atanabilir."
   ]
  },
  {
   "cell_type": "code",
   "execution_count": 76,
   "metadata": {},
   "outputs": [],
   "source": [
    "# Tum arama sonuclari herhangi bir sonuc sayisi siniri olmaksizin 'all_results' degiskenine atandi.\n",
    "# 'all_results' 'Dict[Series Code, List[Series Name, Series Frequency, Series Start Date]] kimlikli\n",
    "# bir Python 'Dict' nesnesidir.\n",
    "\n",
    "all_results = connector.where(\"tüketici fiyat endeksi\", verbose=False)"
   ]
  },
  {
   "cell_type": "code",
   "execution_count": 78,
   "metadata": {},
   "outputs": [
    {
     "name": "stdout",
     "output_type": "stream",
     "text": [
      "{'TP.FE.OKTG01': ['Tüketici Fiyat Endeksi (Genel)', 'AYLIK', '01-01-2003'],\n",
      " 'TP.MK.F.BILESIK.TUM': ['(FİYAT) BİST Tüm-100 Endeksi (XTUMY), Kapanış '\n",
      "                         'Fiyatlarına Göre',\n",
      "                         'İŞ GÜNÜ',\n",
      "                         '02-01-2009'],\n",
      " 'TP.MK.F.HIZMET': ['(FİYAT) BİST Hizmet Endeksi (XUHIZ), Kapanış Fiyatlarına '\n",
      "                    'Göre (27-12-1996=10,46)',\n",
      "                    'İŞ GÜNÜ',\n",
      "                    '02-01-1997'],\n",
      " 'TP.MK.F.TEKNOLOJI': ['(FİYAT) BİST Teknoloji Endeksi (XUTEK), Kapanış '\n",
      "                       'Fiyatlarına Göre (30-06-2000=144,6612)',\n",
      "                       'İŞ GÜNÜ',\n",
      "                       '30-06-2000'],\n",
      " 'TP.TUFE1YI.T1': ['1.Yurt İçi Üretici Fiyat Endeksi', 'AYLIK', '01-01-1982']}\n"
     ]
    }
   ],
   "source": [
    "from pprint import pprint # Daha düzgün bir Dict gösterimi için\n",
    "\n",
    "pprint(all_results)"
   ]
  },
  {
   "cell_type": "markdown",
   "metadata": {},
   "source": [
    "Başka bir örnek için;"
   ]
  },
  {
   "cell_type": "code",
   "execution_count": 94,
   "metadata": {},
   "outputs": [
    {
     "name": "stdout",
     "output_type": "stream",
     "text": [
      "5 most relevant results for 'bankalar döviz mevduatı' are shown below.\n",
      "\n",
      "                                                 Search Results                                                 \n",
      "----------------------------------------------------------------------------------------------------------------\n",
      "Series Code          Series Name                                                     Frequency        Start Date \n",
      "----------------------------------------------------------------------------------------------------------------\n",
      "TP.AB.A14            P.1bb-Bankalar Döviz Mevduatı(Bin TL)                           İŞ GÜNÜ          26-12-1980 \n",
      "TP.PPIBSM            Bankalar Serbest Mevduatı(Milyon TL)                            İŞ GÜNÜ          04-01-2007 \n",
      "TP.AB.A13            P.1ba-Kamu ve Diğer Döviz Mevduatı(Bin TL)                      İŞ GÜNÜ          26-12-1980 \n",
      "TP.AB.A18            P.2Ab-Bankalar Mevduatı(Bin TL)                                 İŞ GÜNÜ          26-12-1980 \n",
      "TP.AB.N09            2A2a-Bankaların Döviz Mevduatı(Bin TL)                          HAFTALIK(CUMA)   04-01-2002 \n",
      "----------------------------------------------------------------------------------------------------------------\n"
     ]
    }
   ],
   "source": [
    "connector.where(\"bankalar döviz mevduatı\");"
   ]
  },
  {
   "cell_type": "markdown",
   "metadata": {},
   "source": [
    "#### 1.4. [__EVDS Üzerindeki Ana Veri Kategorilerini Listeleme__](https://github.com/syncoding/evdsts/blob/master/docs/manuals/manual_en.md#listing-main-cat)"
   ]
  },
  {
   "cell_type": "markdown",
   "metadata": {},
   "source": [
    "EVDS veritabanı üzerindeki tüm ana veri kategorilerini listelemek için `get_main_categories()` metodunu\n",
    "kullanabilirsiniz. Metotdan dönen veri türü ön tanımlı olarak `DataFrame` olsa da ana kategorileri `Dict`\n",
    "ya da `JSON` nesleri olarak da isteyebilirsiniz."
   ]
  },
  {
   "cell_type": "code",
   "execution_count": 10,
   "metadata": {},
   "outputs": [],
   "source": [
    "main_categories = connector.get_main_categories()"
   ]
  },
  {
   "cell_type": "code",
   "execution_count": 11,
   "metadata": {},
   "outputs": [
    {
     "data": {
      "text/html": [
       "<div>\n",
       "<style scoped>\n",
       "    .dataframe tbody tr th:only-of-type {\n",
       "        vertical-align: middle;\n",
       "    }\n",
       "\n",
       "    .dataframe tbody tr th {\n",
       "        vertical-align: top;\n",
       "    }\n",
       "\n",
       "    .dataframe thead th {\n",
       "        text-align: right;\n",
       "    }\n",
       "</style>\n",
       "<table border=\"1\" class=\"dataframe\">\n",
       "  <thead>\n",
       "    <tr style=\"text-align: right;\">\n",
       "      <th></th>\n",
       "      <th>CATEGORY_ID</th>\n",
       "      <th>TOPIC_TITLE_TR</th>\n",
       "    </tr>\n",
       "    <tr>\n",
       "      <th>Index</th>\n",
       "      <th></th>\n",
       "      <th></th>\n",
       "    </tr>\n",
       "  </thead>\n",
       "  <tbody>\n",
       "    <tr>\n",
       "      <th>0</th>\n",
       "      <td>1</td>\n",
       "      <td>PİYASA VERİLERİ</td>\n",
       "    </tr>\n",
       "    <tr>\n",
       "      <th>1</th>\n",
       "      <td>2</td>\n",
       "      <td>KURLAR</td>\n",
       "    </tr>\n",
       "    <tr>\n",
       "      <th>2</th>\n",
       "      <td>3</td>\n",
       "      <td>FAİZ İSTATİSTİKLERİ</td>\n",
       "    </tr>\n",
       "    <tr>\n",
       "      <th>3</th>\n",
       "      <td>4</td>\n",
       "      <td>PARA VE BANKA İSTATİSTİKLERİ</td>\n",
       "    </tr>\n",
       "    <tr>\n",
       "      <th>4</th>\n",
       "      <td>5</td>\n",
       "      <td>MENKUL KIYMET İSTATİSTİKLERİ</td>\n",
       "    </tr>\n",
       "    <tr>\n",
       "      <th>5</th>\n",
       "      <td>12</td>\n",
       "      <td>FİNANSAL İSTATİSTİKLER</td>\n",
       "    </tr>\n",
       "    <tr>\n",
       "      <th>6</th>\n",
       "      <td>13</td>\n",
       "      <td>TCMB BİLANÇO VERİLERİ</td>\n",
       "    </tr>\n",
       "    <tr>\n",
       "      <th>7</th>\n",
       "      <td>14</td>\n",
       "      <td>FİYAT ENDEKSLERİ</td>\n",
       "    </tr>\n",
       "    <tr>\n",
       "      <th>8</th>\n",
       "      <td>15</td>\n",
       "      <td>ANKETLER</td>\n",
       "    </tr>\n",
       "    <tr>\n",
       "      <th>9</th>\n",
       "      <td>18</td>\n",
       "      <td>ÖDEMELER DENGESİ, ULUSLARARASI YATIRIM POZİSYONU</td>\n",
       "    </tr>\n",
       "    <tr>\n",
       "      <th>10</th>\n",
       "      <td>19</td>\n",
       "      <td>DIŞ TİCARET İSTATİSTİKLERİ</td>\n",
       "    </tr>\n",
       "    <tr>\n",
       "      <th>11</th>\n",
       "      <td>20</td>\n",
       "      <td>KAMU MALİYESİ</td>\n",
       "    </tr>\n",
       "    <tr>\n",
       "      <th>12</th>\n",
       "      <td>21</td>\n",
       "      <td>ÜRETİM</td>\n",
       "    </tr>\n",
       "    <tr>\n",
       "      <th>13</th>\n",
       "      <td>22</td>\n",
       "      <td>ÖDEME SİSTEMLERİ VE EMİSYON</td>\n",
       "    </tr>\n",
       "    <tr>\n",
       "      <th>14</th>\n",
       "      <td>23</td>\n",
       "      <td>İSTİHDAM</td>\n",
       "    </tr>\n",
       "    <tr>\n",
       "      <th>15</th>\n",
       "      <td>6</td>\n",
       "      <td>DIŞ BORÇLAR</td>\n",
       "    </tr>\n",
       "    <tr>\n",
       "      <th>16</th>\n",
       "      <td>7</td>\n",
       "      <td>ZORUNLU KARŞILIĞA TABİ MEVDUAT VE KATILIM FONLARI</td>\n",
       "    </tr>\n",
       "    <tr>\n",
       "      <th>17</th>\n",
       "      <td>24</td>\n",
       "      <td>BIS KARŞILAŞTIRMALI ÜLKE İSTATİSTİKLERİ</td>\n",
       "    </tr>\n",
       "    <tr>\n",
       "      <th>18</th>\n",
       "      <td>25</td>\n",
       "      <td>ALTIN VERİLERİ</td>\n",
       "    </tr>\n",
       "    <tr>\n",
       "      <th>19</th>\n",
       "      <td>26</td>\n",
       "      <td>KONUT VE İNŞAAT İSTATİSTİKLERİ</td>\n",
       "    </tr>\n",
       "    <tr>\n",
       "      <th>20</th>\n",
       "      <td>27</td>\n",
       "      <td>FİNANSAL HESAPLAR</td>\n",
       "    </tr>\n",
       "    <tr>\n",
       "      <th>21</th>\n",
       "      <td>28</td>\n",
       "      <td>TURİZM İSTATİSTİKLERİ</td>\n",
       "    </tr>\n",
       "    <tr>\n",
       "      <th>22</th>\n",
       "      <td>95</td>\n",
       "      <td>EVDS KULLANIM İSTATİSTİKLERİ</td>\n",
       "    </tr>\n",
       "  </tbody>\n",
       "</table>\n",
       "</div>"
      ],
      "text/plain": [
       "       CATEGORY_ID                                     TOPIC_TITLE_TR\n",
       "Index                                                                \n",
       "0                1                                    PİYASA VERİLERİ\n",
       "1                2                                             KURLAR\n",
       "2                3                                FAİZ İSTATİSTİKLERİ\n",
       "3                4                       PARA VE BANKA İSTATİSTİKLERİ\n",
       "4                5                       MENKUL KIYMET İSTATİSTİKLERİ\n",
       "5               12                             FİNANSAL İSTATİSTİKLER\n",
       "6               13                              TCMB BİLANÇO VERİLERİ\n",
       "7               14                                   FİYAT ENDEKSLERİ\n",
       "8               15                                           ANKETLER\n",
       "9               18   ÖDEMELER DENGESİ, ULUSLARARASI YATIRIM POZİSYONU\n",
       "10              19                         DIŞ TİCARET İSTATİSTİKLERİ\n",
       "11              20                                      KAMU MALİYESİ\n",
       "12              21                                             ÜRETİM\n",
       "13              22                        ÖDEME SİSTEMLERİ VE EMİSYON\n",
       "14              23                                           İSTİHDAM\n",
       "15               6                                        DIŞ BORÇLAR\n",
       "16               7  ZORUNLU KARŞILIĞA TABİ MEVDUAT VE KATILIM FONLARI\n",
       "17              24            BIS KARŞILAŞTIRMALI ÜLKE İSTATİSTİKLERİ\n",
       "18              25                                     ALTIN VERİLERİ\n",
       "19              26                     KONUT VE İNŞAAT İSTATİSTİKLERİ\n",
       "20              27                                  FİNANSAL HESAPLAR\n",
       "21              28                              TURİZM İSTATİSTİKLERİ\n",
       "22              95                       EVDS KULLANIM İSTATİSTİKLERİ"
      ]
     },
     "execution_count": 11,
     "metadata": {},
     "output_type": "execute_result"
    }
   ],
   "source": [
    "main_categories"
   ]
  },
  {
   "cell_type": "markdown",
   "metadata": {},
   "source": [
    "Ana kategorileri; `as_dict` parametresi ile `Dict` ve `raw` parametresi ile de `JSON` string olarak isteyebilirsiniz."
   ]
  },
  {
   "cell_type": "code",
   "execution_count": 4,
   "metadata": {},
   "outputs": [],
   "source": [
    "# dictionary\n",
    "main_dict = connector.get_main_categories(as_dict=True)\n",
    "\n",
    "# JSON string\n",
    "main_raw = connector.get_main_categories(raw=True)"
   ]
  },
  {
   "cell_type": "code",
   "execution_count": 5,
   "metadata": {},
   "outputs": [
    {
     "data": {
      "text/plain": [
       "{1: 'PİYASA VERİLERİ',\n",
       " 2: 'KURLAR',\n",
       " 3: 'FAİZ İSTATİSTİKLERİ',\n",
       " 4: 'PARA VE BANKA İSTATİSTİKLERİ',\n",
       " 5: 'MENKUL KIYMET İSTATİSTİKLERİ',\n",
       " 12: 'FİNANSAL İSTATİSTİKLER',\n",
       " 13: 'TCMB BİLANÇO VERİLERİ',\n",
       " 14: 'FİYAT ENDEKSLERİ',\n",
       " 15: 'ANKETLER',\n",
       " 18: 'ÖDEMELER DENGESİ, ULUSLARARASI YATIRIM POZİSYONU',\n",
       " 19: 'DIŞ TİCARET İSTATİSTİKLERİ',\n",
       " 20: 'KAMU MALİYESİ',\n",
       " 21: 'ÜRETİM',\n",
       " 22: 'ÖDEME SİSTEMLERİ VE EMİSYON',\n",
       " 23: 'İSTİHDAM',\n",
       " 6: 'DIŞ BORÇLAR',\n",
       " 7: 'ZORUNLU KARŞILIĞA TABİ MEVDUAT VE KATILIM FONLARI',\n",
       " 24: 'BIS KARŞILAŞTIRMALI ÜLKE İSTATİSTİKLERİ',\n",
       " 25: 'ALTIN VERİLERİ',\n",
       " 26: 'KONUT VE İNŞAAT İSTATİSTİKLERİ',\n",
       " 27: 'FİNANSAL HESAPLAR',\n",
       " 28: 'TURİZM İSTATİSTİKLERİ',\n",
       " 95: 'EVDS KULLANIM İSTATİSTİKLERİ'}"
      ]
     },
     "execution_count": 5,
     "metadata": {},
     "output_type": "execute_result"
    }
   ],
   "source": [
    "main_dict"
   ]
  },
  {
   "cell_type": "code",
   "execution_count": 6,
   "metadata": {},
   "outputs": [
    {
     "data": {
      "text/plain": [
       "'{\"1\": \"PİYASA VERİLERİ\", \"2\": \"KURLAR\", \"3\": \"FAİZ İSTATİSTİKLERİ\", \"4\": \"PARA VE BANKA İSTATİSTİKLERİ\", \"5\": \"MENKUL KIYMET İSTATİSTİKLERİ\", \"12\": \"FİNANSAL İSTATİSTİKLER\", \"13\": \"TCMB BİLANÇO VERİLERİ\", \"14\": \"FİYAT ENDEKSLERİ\", \"15\": \"ANKETLER\", \"18\": \"ÖDEMELER DENGESİ, ULUSLARARASI YATIRIM POZİSYONU\", \"19\": \"DIŞ TİCARET İSTATİSTİKLERİ\", \"20\": \"KAMU MALİYESİ\", \"21\": \"ÜRETİM\", \"22\": \"ÖDEME SİSTEMLERİ VE EMİSYON\", \"23\": \"İSTİHDAM\", \"6\": \"DIŞ BORÇLAR\", \"7\": \"ZORUNLU KARŞILIĞA TABİ MEVDUAT VE KATILIM FONLARI\", \"24\": \"BIS KARŞILAŞTIRMALI ÜLKE İSTATİSTİKLERİ\", \"25\": \"ALTIN VERİLERİ\", \"26\": \"KONUT VE İNŞAAT İSTATİSTİKLERİ\", \"27\": \"FİNANSAL HESAPLAR\", \"28\": \"TURİZM İSTATİSTİKLERİ\", \"95\": \"EVDS KULLANIM İSTATİSTİKLERİ\"}'"
      ]
     },
     "execution_count": 6,
     "metadata": {},
     "output_type": "execute_result"
    }
   ],
   "source": [
    "main_raw"
   ]
  },
  {
   "cell_type": "markdown",
   "metadata": {},
   "source": [
    "#### 1.5. [__Ana Kategoriler İçindeki Alt Kategorileri Listeleme__](https://github.com/syncoding/evdsts/blob/master/docs/manuals/manual_en.md#listing-sub-cat)"
   ]
  },
  {
   "cell_type": "markdown",
   "metadata": {},
   "source": [
    "Herhangi bir ana kategoriye ait alt kategoriler, `get_sub_categories` metoduna ana kategori ID'si ya da\n",
    "ana kategori ismi parametre olarak verilerek istenebilir. Alt kategoriler ön tanımlı olarak pandas `DataFrame`\n",
    "objeleri olarak geri döndürülür fakat istenirse `Dict` nesnesi ya `JSON` string tipinde de alınabilir."
   ]
  },
  {
   "cell_type": "markdown",
   "metadata": {},
   "source": [
    "İlk olarak ana kategori ID'sini kullanarak `KURLAR` ana kategorisine ait alt kategorileri alalım."
   ]
  },
  {
   "cell_type": "code",
   "execution_count": 15,
   "metadata": {},
   "outputs": [],
   "source": [
    "# Ana kategoriler ID sütununa göre (2 = KURLAR).\n",
    "exchange_rates_sub = connector.get_sub_categories(2)"
   ]
  },
  {
   "cell_type": "code",
   "execution_count": 16,
   "metadata": {},
   "outputs": [
    {
     "data": {
      "text/html": [
       "<div>\n",
       "<style scoped>\n",
       "    .dataframe tbody tr th:only-of-type {\n",
       "        vertical-align: middle;\n",
       "    }\n",
       "\n",
       "    .dataframe tbody tr th {\n",
       "        vertical-align: top;\n",
       "    }\n",
       "\n",
       "    .dataframe thead th {\n",
       "        text-align: right;\n",
       "    }\n",
       "</style>\n",
       "<table border=\"1\" class=\"dataframe\">\n",
       "  <thead>\n",
       "    <tr style=\"text-align: right;\">\n",
       "      <th></th>\n",
       "      <th>DATAGROUP_CODE</th>\n",
       "      <th>CATEGORY_ID</th>\n",
       "      <th>DATAGROUP_NAME</th>\n",
       "      <th>FREQUENCY_STR</th>\n",
       "      <th>START_DATE</th>\n",
       "      <th>END_DATE</th>\n",
       "    </tr>\n",
       "  </thead>\n",
       "  <tbody>\n",
       "    <tr>\n",
       "      <th>0</th>\n",
       "      <td>bie_dkdovytl</td>\n",
       "      <td>2</td>\n",
       "      <td>Kurlar-Döviz Kurları</td>\n",
       "      <td>GÜNLÜK</td>\n",
       "      <td>1950-01-02</td>\n",
       "      <td>2022-08-22</td>\n",
       "    </tr>\n",
       "    <tr>\n",
       "      <th>1</th>\n",
       "      <td>bie_dkefkytl</td>\n",
       "      <td>2</td>\n",
       "      <td>Kurlar-Efektif Kurlar</td>\n",
       "      <td>GÜNLÜK</td>\n",
       "      <td>1990-01-02</td>\n",
       "      <td>2022-08-22</td>\n",
       "    </tr>\n",
       "    <tr>\n",
       "      <th>2</th>\n",
       "      <td>bie_dkkurbil</td>\n",
       "      <td>2</td>\n",
       "      <td>Kurlar-TCMB Tarafından Alım Satıma Konu Olmaya...</td>\n",
       "      <td>GÜNLÜK</td>\n",
       "      <td>2009-04-02</td>\n",
       "      <td>2021-12-21</td>\n",
       "    </tr>\n",
       "    <tr>\n",
       "      <th>3</th>\n",
       "      <td>bie_rktufey</td>\n",
       "      <td>2</td>\n",
       "      <td>Kurlar-Reel Efektif Döviz Kuru-TÜFE Bazlı (200...</td>\n",
       "      <td>AYLIK</td>\n",
       "      <td>1994-01-01</td>\n",
       "      <td>2022-07-01</td>\n",
       "    </tr>\n",
       "    <tr>\n",
       "      <th>4</th>\n",
       "      <td>bie_rkufey</td>\n",
       "      <td>2</td>\n",
       "      <td>Kurlar-Reel Efektif Döviz Kuru-Yİ-ÜFE Bazlı (2...</td>\n",
       "      <td>AYLIK</td>\n",
       "      <td>1994-01-01</td>\n",
       "      <td>2022-07-01</td>\n",
       "    </tr>\n",
       "    <tr>\n",
       "      <th>5</th>\n",
       "      <td>bie_redkurigm</td>\n",
       "      <td>2</td>\n",
       "      <td>Kurlar-Reel Efektif Döviz Kuru-Birim İş Gücü M...</td>\n",
       "      <td>YILLIK</td>\n",
       "      <td>2003-01-01</td>\n",
       "      <td>2021-01-01</td>\n",
       "    </tr>\n",
       "  </tbody>\n",
       "</table>\n",
       "</div>"
      ],
      "text/plain": [
       "  DATAGROUP_CODE  CATEGORY_ID  ... START_DATE   END_DATE\n",
       "0   bie_dkdovytl            2  ... 1950-01-02 2022-08-22\n",
       "1   bie_dkefkytl            2  ... 1990-01-02 2022-08-22\n",
       "2   bie_dkkurbil            2  ... 2009-04-02 2021-12-21\n",
       "3    bie_rktufey            2  ... 1994-01-01 2022-07-01\n",
       "4     bie_rkufey            2  ... 1994-01-01 2022-07-01\n",
       "5  bie_redkurigm            2  ... 2003-01-01 2021-01-01\n",
       "\n",
       "[6 rows x 6 columns]"
      ]
     },
     "execution_count": 16,
     "metadata": {},
     "output_type": "execute_result"
    }
   ],
   "source": [
    "exchange_rates_sub"
   ]
  },
  {
   "cell_type": "markdown",
   "metadata": {},
   "source": [
    "ya da alt kategorileri çağırmak için direk olarak ana kategori isimlerini kullanabilirsiniz.\n",
    "__Burada dikkat etmeniz gereken nokta, kategori isimlerinin BÜYÜK/küçük harf duyarlı olduğudur.\n",
    "Bunun için; ana kategori ismiyle alt kategori istenirken ana kategorinin ismi tam olarak tabloda\n",
    "görüldüğü şekilde verilmelidir.__"
   ]
  },
  {
   "cell_type": "code",
   "execution_count": 17,
   "metadata": {},
   "outputs": [],
   "source": [
    "exchange_rates_sub = connector.get_sub_categories(\"KURLAR\")"
   ]
  },
  {
   "cell_type": "code",
   "execution_count": 18,
   "metadata": {},
   "outputs": [
    {
     "data": {
      "text/html": [
       "<div>\n",
       "<style scoped>\n",
       "    .dataframe tbody tr th:only-of-type {\n",
       "        vertical-align: middle;\n",
       "    }\n",
       "\n",
       "    .dataframe tbody tr th {\n",
       "        vertical-align: top;\n",
       "    }\n",
       "\n",
       "    .dataframe thead th {\n",
       "        text-align: right;\n",
       "    }\n",
       "</style>\n",
       "<table border=\"1\" class=\"dataframe\">\n",
       "  <thead>\n",
       "    <tr style=\"text-align: right;\">\n",
       "      <th></th>\n",
       "      <th>DATAGROUP_CODE</th>\n",
       "      <th>CATEGORY_ID</th>\n",
       "      <th>DATAGROUP_NAME</th>\n",
       "      <th>FREQUENCY_STR</th>\n",
       "      <th>START_DATE</th>\n",
       "      <th>END_DATE</th>\n",
       "    </tr>\n",
       "  </thead>\n",
       "  <tbody>\n",
       "    <tr>\n",
       "      <th>0</th>\n",
       "      <td>bie_dkdovytl</td>\n",
       "      <td>2</td>\n",
       "      <td>Kurlar-Döviz Kurları</td>\n",
       "      <td>GÜNLÜK</td>\n",
       "      <td>1950-01-02</td>\n",
       "      <td>2022-08-22</td>\n",
       "    </tr>\n",
       "    <tr>\n",
       "      <th>1</th>\n",
       "      <td>bie_dkefkytl</td>\n",
       "      <td>2</td>\n",
       "      <td>Kurlar-Efektif Kurlar</td>\n",
       "      <td>GÜNLÜK</td>\n",
       "      <td>1990-01-02</td>\n",
       "      <td>2022-08-22</td>\n",
       "    </tr>\n",
       "    <tr>\n",
       "      <th>2</th>\n",
       "      <td>bie_dkkurbil</td>\n",
       "      <td>2</td>\n",
       "      <td>Kurlar-TCMB Tarafından Alım Satıma Konu Olmaya...</td>\n",
       "      <td>GÜNLÜK</td>\n",
       "      <td>2009-04-02</td>\n",
       "      <td>2021-12-21</td>\n",
       "    </tr>\n",
       "    <tr>\n",
       "      <th>3</th>\n",
       "      <td>bie_rktufey</td>\n",
       "      <td>2</td>\n",
       "      <td>Kurlar-Reel Efektif Döviz Kuru-TÜFE Bazlı (200...</td>\n",
       "      <td>AYLIK</td>\n",
       "      <td>1994-01-01</td>\n",
       "      <td>2022-07-01</td>\n",
       "    </tr>\n",
       "    <tr>\n",
       "      <th>4</th>\n",
       "      <td>bie_rkufey</td>\n",
       "      <td>2</td>\n",
       "      <td>Kurlar-Reel Efektif Döviz Kuru-Yİ-ÜFE Bazlı (2...</td>\n",
       "      <td>AYLIK</td>\n",
       "      <td>1994-01-01</td>\n",
       "      <td>2022-07-01</td>\n",
       "    </tr>\n",
       "    <tr>\n",
       "      <th>5</th>\n",
       "      <td>bie_redkurigm</td>\n",
       "      <td>2</td>\n",
       "      <td>Kurlar-Reel Efektif Döviz Kuru-Birim İş Gücü M...</td>\n",
       "      <td>YILLIK</td>\n",
       "      <td>2003-01-01</td>\n",
       "      <td>2021-01-01</td>\n",
       "    </tr>\n",
       "  </tbody>\n",
       "</table>\n",
       "</div>"
      ],
      "text/plain": [
       "  DATAGROUP_CODE  CATEGORY_ID  ... START_DATE   END_DATE\n",
       "0   bie_dkdovytl            2  ... 1950-01-02 2022-08-22\n",
       "1   bie_dkefkytl            2  ... 1990-01-02 2022-08-22\n",
       "2   bie_dkkurbil            2  ... 2009-04-02 2021-12-21\n",
       "3    bie_rktufey            2  ... 1994-01-01 2022-07-01\n",
       "4     bie_rkufey            2  ... 1994-01-01 2022-07-01\n",
       "5  bie_redkurigm            2  ... 2003-01-01 2021-01-01\n",
       "\n",
       "[6 rows x 6 columns]"
      ]
     },
     "execution_count": 18,
     "metadata": {},
     "output_type": "execute_result"
    }
   ],
   "source": [
    "exchange_rates_sub"
   ]
  },
  {
   "cell_type": "markdown",
   "metadata": {},
   "source": [
    "Diğer seçenekler;"
   ]
  },
  {
   "cell_type": "code",
   "execution_count": 20,
   "metadata": {},
   "outputs": [],
   "source": [
    "# dictionary nesnesi olarak\n",
    "sub_dict = connector.get_sub_categories(\"ÜRETİM\", as_dict=True)\n",
    "\n",
    "# ham JSON string\n",
    "sub_raw = connector.get_sub_categories(\"ÜRETİM\", raw=True)\n",
    "\n",
    "# EVDS üzerindeki tüm bilgiyi içeren daha detaylı bir DataFrame nesnesi olarak\n",
    "sub_detailed = connector.get_sub_categories(\"ÜRETİM\", verbose=True)\n",
    "\n",
    "# yukaridakilarin ornek bir bilesimi\n",
    "rates_all = connector.get_sub_categories(\"KURLAR\", as_dict=True, verbose=True)"
   ]
  },
  {
   "cell_type": "markdown",
   "metadata": {},
   "source": [
    "Daha doğru bir gösterim için `pprint`'i import edelim"
   ]
  },
  {
   "cell_type": "code",
   "execution_count": 21,
   "metadata": {},
   "outputs": [],
   "source": [
    "from pprint import pprint"
   ]
  },
  {
   "cell_type": "code",
   "execution_count": 22,
   "metadata": {},
   "outputs": [
    {
     "name": "stdout",
     "output_type": "stream",
     "text": [
      "{'bie_ackap2': [21,\n",
      "                'Şirket İstatistikleri-Açılan-Kapanan (TOBB)',\n",
      "                'AYLIK',\n",
      "                datetime.date(2010, 1, 1),\n",
      "                datetime.date(2022, 7, 1)],\n",
      " 'bie_cli2': [21,\n",
      "              'Bileşik Öncü Göstergeler Endeksi(MBÖNCÜ-SÜE)',\n",
      "              'AYLIK',\n",
      "              datetime.date(1987, 12, 1),\n",
      "              datetime.date(2022, 7, 1)],\n",
      " 'bie_elektuketim': [21,\n",
      "                     'Türkiye Elektrik Enerjisi (Üretim, Tüketim, İhracat, '\n",
      "                     'İthalat)(MWh)',\n",
      "                     'GÜNLÜK',\n",
      "                     datetime.date(2016, 1, 1),\n",
      "                     datetime.date(2022, 8, 14)],\n",
      " 'bie_gsyhgycf': [21,\n",
      "                  'GSYİH-Gelir Yöntemiyle-Cari Fiyatlarla (TÜIK)(Bin TL)',\n",
      "                  'ÜÇ AYLIK',\n",
      "                  datetime.date(1998, 1, 1),\n",
      "                  datetime.date(2022, 1, 1)],\n",
      " 'bie_gsyhhycf': [21,\n",
      "                  'GSYİH-Harcama Yöntemiyle-Cari Fiyatlarla (TÜIK)(Bin TL)',\n",
      "                  'ÜÇ AYLIK',\n",
      "                  datetime.date(1998, 1, 1),\n",
      "                  datetime.date(2022, 1, 1)],\n",
      " 'bie_gsyhhyhe': [21,\n",
      "                  'GSYİH-Harcama Yöntemiyle-Zincirlenmiş Hacim (TÜIK)(Bin TL)',\n",
      "                  'ÜÇ AYLIK',\n",
      "                  datetime.date(1998, 1, 1),\n",
      "                  datetime.date(2022, 1, 1)],\n",
      " 'bie_gsyhifkcf': [21,\n",
      "                   'GSYİH-İktisadi Faaliyet Kollarına (A10) Göre-Cari '\n",
      "                   'Fiyatlarla (TÜIK)(Bin TL)',\n",
      "                   'ÜÇ AYLIK',\n",
      "                   datetime.date(1998, 1, 1),\n",
      "                   datetime.date(2022, 1, 1)],\n",
      " 'bie_gsyhifkhe': [21,\n",
      "                   'GSYİH-İktisadi Faaliyet Kollarına (A10) Göre-Zincirlenmiş '\n",
      "                   'Hacim (TÜIK)(Bin TL)',\n",
      "                   'ÜÇ AYLIK',\n",
      "                   datetime.date(1998, 1, 1),\n",
      "                   datetime.date(2022, 1, 1)],\n",
      " 'bie_kko2': [21,\n",
      "              'İmalat Sanayi Kapasite Kullanım Oranı (%) (NACE REV.2)',\n",
      "              'AYLIK',\n",
      "              datetime.date(2007, 1, 1),\n",
      "              datetime.date(2022, 7, 1)],\n",
      " 'bie_kkoisma': [21,\n",
      "                 'İmalat Sanayi Kapasite Kullanım Oranı-Mevsimsellikten '\n",
      "                 'Arındırılmış (%) (NACE REV.2)',\n",
      "                 'AYLIK',\n",
      "                 datetime.date(2007, 1, 1),\n",
      "                 datetime.date(2022, 7, 1)],\n",
      " 'bie_oecdoncu': [21,\n",
      "                  'OECD Kompozit Öncü Göstergeler Indeksi(CLI)',\n",
      "                  'AYLIK',\n",
      "                  datetime.date(1966, 2, 1),\n",
      "                  datetime.date(2022, 6, 1)],\n",
      " 'bie_sanayrev4': [21,\n",
      "                   'Sanayi Üretim Endeksi (2015=100)(TÜİK)',\n",
      "                   'AYLIK',\n",
      "                   datetime.date(2005, 1, 1),\n",
      "                   datetime.date(2022, 6, 1)],\n",
      " 'bie_urkisi15': [21,\n",
      "                  'Üretim Endeksi - Çalışan Kişi Başına (2015=100)(Sanayi ve '\n",
      "                  'Teknoloji Bakanlığı)',\n",
      "                  'ÜÇ AYLIK',\n",
      "                  datetime.date(2009, 1, 1),\n",
      "                  datetime.date(2022, 1, 1)],\n",
      " 'bie_uroto': [21,\n",
      "               'Toplam Otomobil Üretimi (OSD)',\n",
      "               'AYLIK',\n",
      "               datetime.date(1974, 1, 1),\n",
      "               datetime.date(2022, 6, 1)],\n",
      " 'bie_ursaat15': [21,\n",
      "                  'Üretim Endeksi - Çalışılan Saat Başına (2015=100)(Sanayi ve '\n",
      "                  'Teknoloji Bakanlığı)',\n",
      "                  'ÜÇ AYLIK',\n",
      "                  datetime.date(2009, 1, 1),\n",
      "                  datetime.date(2022, 1, 1)]}\n"
     ]
    }
   ],
   "source": [
    "pprint(sub_dict)"
   ]
  },
  {
   "cell_type": "code",
   "execution_count": 23,
   "metadata": {},
   "outputs": [
    {
     "name": "stdout",
     "output_type": "stream",
     "text": [
      "[{'APP_CHA_LINK': '',\n",
      "  'APP_CHA_LINK_ENG': '',\n",
      "  'CATEGORY_ID': 21,\n",
      "  'DATAGROUP_CODE': 'bie_cli2',\n",
      "  'DATAGROUP_NAME': 'Bileşik Öncü Göstergeler Endeksi(MBÖNCÜ-SÜE)',\n",
      "  'DATAGROUP_NAME_ENG': 'Composite Leading Indicator (MBONCU-SUE)',\n",
      "  'DATASOURCE': 'TCMB',\n",
      "  'DATASOURCE_ENG': 'CBRT',\n",
      "  'END_DATE': '01-07-2022',\n",
      "  'FREQUENCY': 9,\n",
      "  'FREQUENCY_STR': 'AYLIK',\n",
      "  'METADATA_LINK': 'https://data.oecd.org/leadind/composite-leading-indicator-cli.htm',\n",
      "  'METADATA_LINK_ENG': 'https://data.oecd.org/leadind/composite-leading-indicator-cli.htm',\n",
      "  'REV_POL_LINK': '',\n",
      "  'REV_POL_LINK_ENG': '',\n",
      "  'START_DATE': '01-12-1987'},\n",
      " {'APP_CHA_LINK': 'http://www.tuik.gov.tr/PreTablo.do?alt_id=1105',\n",
      "  'APP_CHA_LINK_ENG': 'http://www.turkstat.gov.tr/PreTablo.do?alt_id=1105',\n",
      "  'CATEGORY_ID': 21,\n",
      "  'DATAGROUP_CODE': 'bie_gsyhgycf',\n",
      "  'DATAGROUP_NAME': 'GSYİH-Gelir Yöntemiyle-Cari Fiyatlarla (TÜIK)(Bin TL)',\n",
      "  'DATAGROUP_NAME_ENG': 'GDP by Income Approach-Current Prices (TURKSTAT)(TRY '\n",
      "                        'Thousand)',\n",
      "  'DATASOURCE': 'TÜİK',\n",
      "  'DATASOURCE_ENG': 'TURKSTAT',\n",
      "  'END_DATE': '01-01-2022',\n",
      "  'FREQUENCY': 13,\n",
      "  'FREQUENCY_STR': 'ÜÇ AYLIK',\n",
      "  'METADATA_LINK': 'http://www.tuik.gov.tr/PreTablo.do?alt_id=1105',\n",
      "  'METADATA_LINK_ENG': 'http://www.turkstat.gov.tr/PreTablo.do?alt_id=1105',\n",
      "  'REV_POL_LINK': 'http://www.tuik.gov.tr/PreTablo.do?alt_id=1105',\n",
      "  'REV_POL_LINK_ENG': 'http://www.turkstat.gov.tr/PreTablo.do?alt_id=1105',\n",
      "  'START_DATE': '01-01-1998'},\n",
      " {'APP_CHA_LINK': 'http://www.tuik.gov.tr/PreTablo.do?alt_id=1105',\n",
      "  'APP_CHA_LINK_ENG': 'http://www.turkstat.gov.tr/PreTablo.do?alt_id=1105',\n",
      "  'CATEGORY_ID': 21,\n",
      "  'DATAGROUP_CODE': 'bie_gsyhhycf',\n",
      "  'DATAGROUP_NAME': 'GSYİH-Harcama Yöntemiyle-Cari Fiyatlarla (TÜIK)(Bin TL)',\n",
      "  'DATAGROUP_NAME_ENG': 'GDP by Expenditure Approach-Current Prices '\n",
      "                        '(TURKSTAT)(TRY Thousand)',\n",
      "  'DATASOURCE': 'TÜİK',\n",
      "  'DATASOURCE_ENG': 'TURKSTAT',\n",
      "  'END_DATE': '01-01-2022',\n",
      "  'FREQUENCY': 13,\n",
      "  'FREQUENCY_STR': 'ÜÇ AYLIK',\n",
      "  'METADATA_LINK': 'http://www.tuik.gov.tr/PreTablo.do?alt_id=1105',\n",
      "  'METADATA_LINK_ENG': 'http://www.turkstat.gov.tr/PreTablo.do?alt_id=1105',\n",
      "  'REV_POL_LINK': 'http://www.tuik.gov.tr/PreTablo.do?alt_id=1105',\n",
      "  'REV_POL_LINK_ENG': 'http://www.turkstat.gov.tr/PreTablo.do?alt_id=1105',\n",
      "  'START_DATE': '01-01-1998'},\n",
      " {'APP_CHA_LINK': 'http://www.tuik.gov.tr/PreTablo.do?alt_id=1105',\n",
      "  'APP_CHA_LINK_ENG': 'http://www.turkstat.gov.tr/PreTablo.do?alt_id=1105',\n",
      "  'CATEGORY_ID': 21,\n",
      "  'DATAGROUP_CODE': 'bie_gsyhhyhe',\n",
      "  'DATAGROUP_NAME': 'GSYİH-Harcama Yöntemiyle-Zincirlenmiş Hacim (TÜIK)(Bin '\n",
      "                    'TL)',\n",
      "  'DATAGROUP_NAME_ENG': 'GDP in Chain Linked Volume by Expenditure Approach '\n",
      "                        '(TURKSTAT)(TRY Thousand)',\n",
      "  'DATASOURCE': 'TÜİK',\n",
      "  'DATASOURCE_ENG': 'TURKSTAT',\n",
      "  'END_DATE': '01-01-2022',\n",
      "  'FREQUENCY': 13,\n",
      "  'FREQUENCY_STR': 'ÜÇ AYLIK',\n",
      "  'METADATA_LINK': 'http://www.tuik.gov.tr/PreTablo.do?alt_id=1105',\n",
      "  'METADATA_LINK_ENG': 'http://www.turkstat.gov.tr/PreTablo.do?alt_id=1105',\n",
      "  'REV_POL_LINK': 'http://www.tuik.gov.tr/PreTablo.do?alt_id=1105',\n",
      "  'REV_POL_LINK_ENG': 'http://www.turkstat.gov.tr/PreTablo.do?alt_id=1105',\n",
      "  'START_DATE': '01-01-1998'},\n",
      " {'APP_CHA_LINK': 'http://www.tuik.gov.tr/PreTablo.do?alt_id=1105',\n",
      "  'APP_CHA_LINK_ENG': 'http://www.turkstat.gov.tr/PreTablo.do?alt_id=1105',\n",
      "  'CATEGORY_ID': 21,\n",
      "  'DATAGROUP_CODE': 'bie_gsyhifkcf',\n",
      "  'DATAGROUP_NAME': 'GSYİH-İktisadi Faaliyet Kollarına (A10) Göre-Cari '\n",
      "                    'Fiyatlarla (TÜIK)(Bin TL)',\n",
      "  'DATAGROUP_NAME_ENG': 'GDP by Kind of Economic Activity (A10)-Current Prices '\n",
      "                        '(TURKSTAT)(TRY Thousand)',\n",
      "  'DATASOURCE': 'TÜİK',\n",
      "  'DATASOURCE_ENG': 'TURKSTAT',\n",
      "  'END_DATE': '01-01-2022',\n",
      "  'FREQUENCY': 13,\n",
      "  'FREQUENCY_STR': 'ÜÇ AYLIK',\n",
      "  'METADATA_LINK': 'http://www.tuik.gov.tr/PreTablo.do?alt_id=1105',\n",
      "  'METADATA_LINK_ENG': 'http://www.turkstat.gov.tr/PreTablo.do?alt_id=1105',\n",
      "  'REV_POL_LINK': 'http://www.tuik.gov.tr/PreTablo.do?alt_id=1105',\n",
      "  'REV_POL_LINK_ENG': 'http://www.turkstat.gov.tr/PreTablo.do?alt_id=1105',\n",
      "  'START_DATE': '01-01-1998'},\n",
      " {'APP_CHA_LINK': 'http://www.tuik.gov.tr/PreTablo.do?alt_id=1105',\n",
      "  'APP_CHA_LINK_ENG': 'http://www.turkstat.gov.tr/PreTablo.do?alt_id=1105',\n",
      "  'CATEGORY_ID': 21,\n",
      "  'DATAGROUP_CODE': 'bie_gsyhifkhe',\n",
      "  'DATAGROUP_NAME': 'GSYİH-İktisadi Faaliyet Kollarına (A10) Göre-Zincirlenmiş '\n",
      "                    'Hacim (TÜIK)(Bin TL)',\n",
      "  'DATAGROUP_NAME_ENG': 'GDP in Chain Linked Volume by Kind of Economic '\n",
      "                        'Activity (A10)(TURKSTAT)(TRY Thousand)',\n",
      "  'DATASOURCE': 'TÜİK',\n",
      "  'DATASOURCE_ENG': 'TURKSTAT',\n",
      "  'END_DATE': '01-01-2022',\n",
      "  'FREQUENCY': 13,\n",
      "  'FREQUENCY_STR': 'ÜÇ AYLIK',\n",
      "  'METADATA_LINK': 'http://www.tuik.gov.tr/PreTablo.do?alt_id=1105',\n",
      "  'METADATA_LINK_ENG': 'http://www.turkstat.gov.tr/PreTablo.do?alt_id=1105',\n",
      "  'REV_POL_LINK': 'http://www.tuik.gov.tr/PreTablo.do?alt_id=1105',\n",
      "  'REV_POL_LINK_ENG': 'http://www.turkstat.gov.tr/PreTablo.do?alt_id=1105',\n",
      "  'START_DATE': '01-01-1998'},\n",
      " {'APP_CHA_LINK': 'http://www.tcmb.gov.tr/wps/wcm/connect/TR/TCMB+TR/Main+Menu/Istatistikler/Reel+Sektor+Istatistikleri/Imalat+Sanayi+Kapasite+Kullanim+Orani/Uygulama+Degisiklikleri',\n",
      "  'APP_CHA_LINK_ENG': 'http://www.tcmb.gov.tr/wps/wcm/connect/TCMB+EN/TCMB+EN/Main+Menu/STATISTICS/Real+Sector+Statistics/Capacity+Utilization+Rate+of+the+Manufacturing+Industry/Methodological+Changes',\n",
      "  'CATEGORY_ID': 21,\n",
      "  'DATAGROUP_CODE': 'bie_kko2',\n",
      "  'DATAGROUP_NAME': 'İmalat Sanayi Kapasite Kullanım Oranı (%) (NACE REV.2)',\n",
      "  'DATAGROUP_NAME_ENG': 'Capacity Utilization Rate of Manufacturing Industry '\n",
      "                        '(%) (NACE REV.2)',\n",
      "  'DATASOURCE': 'TCMB',\n",
      "  'DATASOURCE_ENG': 'CBRT',\n",
      "  'END_DATE': '01-07-2022',\n",
      "  'FREQUENCY': 9,\n",
      "  'FREQUENCY_STR': 'AYLIK',\n",
      "  'METADATA_LINK': 'http://www.tcmb.gov.tr/wps/wcm/connect/TR/TCMB+TR/Main+Menu/Istatistikler/Reel+Sektor+Istatistikleri/Imalat+Sanayi+Kapasite+Kullanim+Orani/Yontem',\n",
      "  'METADATA_LINK_ENG': 'http://www.tcmb.gov.tr/wps/wcm/connect/TCMB+EN/TCMB+EN/Main+Menu/STATISTICS/Real+Sector+Statistics/Capacity+Utilization+Rate+of+the+Manufacturing+Industry/Methodological+Information',\n",
      "  'REV_POL_LINK': 'http://www.tuik.gov.tr/PreTablo.do?alt_id=1007',\n",
      "  'REV_POL_LINK_ENG': 'http://www.turkstat.gov.tr/PreTablo.do?alt_id=1007',\n",
      "  'START_DATE': '01-01-2007'},\n",
      " {'APP_CHA_LINK': 'http://www.tcmb.gov.tr/wps/wcm/connect/TR/TCMB+TR/Main+Menu/Istatistikler/Reel+Sektor+Istatistikleri/Imalat+Sanayi+Kapasite+Kullanim+Orani/Uygulama+Degisiklikleri',\n",
      "  'APP_CHA_LINK_ENG': 'http://www.tcmb.gov.tr/wps/wcm/connect/TCMB+EN/TCMB+EN/Main+Menu/STATISTICS/Real+Sector+Statistics/Capacity+Utilization+Rate+of+the+Manufacturing+Industry/Methodological+Changes',\n",
      "  'CATEGORY_ID': 21,\n",
      "  'DATAGROUP_CODE': 'bie_kkoisma',\n",
      "  'DATAGROUP_NAME': 'İmalat Sanayi Kapasite Kullanım Oranı-Mevsimsellikten '\n",
      "                    'Arındırılmış (%) (NACE REV.2)',\n",
      "  'DATAGROUP_NAME_ENG': 'Capacity Utilization Rate of Manufacturing '\n",
      "                        'Industry-Seasonally Adjusted (%) (NACE REV.2)',\n",
      "  'DATASOURCE': 'TCMB',\n",
      "  'DATASOURCE_ENG': 'CBRT',\n",
      "  'END_DATE': '01-07-2022',\n",
      "  'FREQUENCY': 9,\n",
      "  'FREQUENCY_STR': 'AYLIK',\n",
      "  'METADATA_LINK': 'http://www.tcmb.gov.tr/wps/wcm/connect/TR/TCMB+TR/Main+Menu/Istatistikler/Reel+Sektor+Istatistikleri/Imalat+Sanayi+Kapasite+Kullanim+Orani/Yontem',\n",
      "  'METADATA_LINK_ENG': 'http://www.tcmb.gov.tr/wps/wcm/connect/TCMB+EN/TCMB+EN/Main+Menu/STATISTICS/Real+Sector+Statistics/Capacity+Utilization+Rate+of+the+Manufacturing+Industry/Methodological+Information',\n",
      "  'REV_POL_LINK': 'http://www.tuik.gov.tr/PreTablo.do?alt_id=1007',\n",
      "  'REV_POL_LINK_ENG': 'http://www.turkstat.gov.tr/PreTablo.do?alt_id=1007',\n",
      "  'START_DATE': '01-01-2007'},\n",
      " {'APP_CHA_LINK': 'http://www.tuik.gov.tr/PreTablo.do?alt_id=1024',\n",
      "  'APP_CHA_LINK_ENG': 'http://www.turkstat.gov.tr/PreTablo.do?alt_id=1024',\n",
      "  'CATEGORY_ID': 21,\n",
      "  'DATAGROUP_CODE': 'bie_uroto',\n",
      "  'DATAGROUP_NAME': 'Toplam Otomobil Üretimi (OSD)',\n",
      "  'DATAGROUP_NAME_ENG': 'Total Cars Production (AMA=Automotive Manufacturers '\n",
      "                        'Association)',\n",
      "  'DATASOURCE': 'OTOMOTİV SANAYİ DERNEĞİ',\n",
      "  'DATASOURCE_ENG': 'AUTOMOTIVE INDUSTRY ASSOCIATION',\n",
      "  'END_DATE': '01-06-2022',\n",
      "  'FREQUENCY': 9,\n",
      "  'FREQUENCY_STR': 'AYLIK',\n",
      "  'METADATA_LINK': 'http://vi.sanayi.gov.tr/Files/Metaveri_UcAylikVerimlilikIstatistikleri(2010=100).pdf',\n",
      "  'METADATA_LINK_ENG': 'http://vi.sanayi.gov.tr/productivitystatistics/Files/MetadataQuarterlyProductivityStatistics(2010-100).pdf',\n",
      "  'REV_POL_LINK': 'http://www.tuik.gov.tr/PreTablo.do?alt_id=1024',\n",
      "  'REV_POL_LINK_ENG': 'http://www.turkstat.gov.tr/PreTablo.do?alt_id=1024',\n",
      "  'START_DATE': '01-01-1974'},\n",
      " {'APP_CHA_LINK': 'http://www.tuik.gov.tr/PreTablo.do?alt_id=1105',\n",
      "  'APP_CHA_LINK_ENG': 'http://www.turkstat.gov.tr/PreTablo.do?alt_id=1105',\n",
      "  'CATEGORY_ID': 21,\n",
      "  'DATAGROUP_CODE': 'bie_ackap2',\n",
      "  'DATAGROUP_NAME': 'Şirket İstatistikleri-Açılan-Kapanan (TOBB)',\n",
      "  'DATAGROUP_NAME_ENG': 'Firms Statistics-Newly Established and Liquidated '\n",
      "                        '(TOBB)',\n",
      "  'DATASOURCE': 'TOBB',\n",
      "  'DATASOURCE_ENG': 'CHAMBERS AND COMMODITY EXCHANGES',\n",
      "  'END_DATE': '01-07-2022',\n",
      "  'FREQUENCY': 9,\n",
      "  'FREQUENCY_STR': 'AYLIK',\n",
      "  'METADATA_LINK': 'https://www.tobb.org.tr/BilgiErisimMudurlugu/Sayfalar/metodoloji.php',\n",
      "  'METADATA_LINK_ENG': '',\n",
      "  'REV_POL_LINK': 'http://www.tuik.gov.tr/PreTablo.do?alt_id=1105',\n",
      "  'REV_POL_LINK_ENG': 'http://www.turkstat.gov.tr/PreTablo.do?alt_id=1105',\n",
      "  'START_DATE': '01-01-2010'},\n",
      " {'APP_CHA_LINK': 'http://www.tuik.gov.tr/PreTablo.do?alt_id=1024',\n",
      "  'APP_CHA_LINK_ENG': 'http://www.turkstat.gov.tr/PreTablo.do?alt_id=1024',\n",
      "  'CATEGORY_ID': 21,\n",
      "  'DATAGROUP_CODE': 'bie_sanayrev4',\n",
      "  'DATAGROUP_NAME': 'Sanayi Üretim Endeksi (2015=100)(TÜİK)',\n",
      "  'DATAGROUP_NAME_ENG': 'Industrial Production Index (2015=100)(TURKSTAT)',\n",
      "  'DATASOURCE': 'TÜİK',\n",
      "  'DATASOURCE_ENG': 'TURKSTAT',\n",
      "  'END_DATE': '01-06-2022',\n",
      "  'FREQUENCY': 9,\n",
      "  'FREQUENCY_STR': 'AYLIK',\n",
      "  'METADATA_LINK': 'http://www.tuik.gov.tr/PreTablo.do?alt_id=1024',\n",
      "  'METADATA_LINK_ENG': 'http://www.turkstat.gov.tr/PreTablo.do?alt_id=1024',\n",
      "  'REV_POL_LINK': 'http://www.tuik.gov.tr/PreTablo.do?alt_id=1024',\n",
      "  'REV_POL_LINK_ENG': 'http://www.turkstat.gov.tr/PreTablo.do?alt_id=1024',\n",
      "  'START_DATE': '01-01-2005'},\n",
      " {'APP_CHA_LINK': '',\n",
      "  'APP_CHA_LINK_ENG': '',\n",
      "  'CATEGORY_ID': 21,\n",
      "  'DATAGROUP_CODE': 'bie_elektuketim',\n",
      "  'DATAGROUP_NAME': 'Türkiye Elektrik Enerjisi (Üretim, Tüketim, İhracat, '\n",
      "                    'İthalat)(MWh)',\n",
      "  'DATAGROUP_NAME_ENG': 'Turkey, Electricity (Production, Consumption, '\n",
      "                        'Exports, Imports) (MWh)',\n",
      "  'DATASOURCE': 'Türkiye Elektirik İdaresi Aş(TEİAŞ)',\n",
      "  'DATASOURCE_ENG': 'Turkish Electricity Transmission Corporation',\n",
      "  'END_DATE': '14-08-2022',\n",
      "  'FREQUENCY': 1,\n",
      "  'FREQUENCY_STR': 'GÜNLÜK',\n",
      "  'METADATA_LINK': '',\n",
      "  'METADATA_LINK_ENG': '',\n",
      "  'REV_POL_LINK': '',\n",
      "  'REV_POL_LINK_ENG': '',\n",
      "  'START_DATE': '01-01-2016'},\n",
      " {'APP_CHA_LINK': 'http://vi.sanayi.gov.tr/Files/metaveriler/Metaveri_UcAylikVerimlilikIstatistikleri(2015=100).pdf',\n",
      "  'APP_CHA_LINK_ENG': 'http://vi.sanayi.gov.tr/productivitystatistics/Files/metadata/MetadataQuarterlyProductivityStatistics(2015=100).pdf',\n",
      "  'CATEGORY_ID': 21,\n",
      "  'DATAGROUP_CODE': 'bie_urkisi15',\n",
      "  'DATAGROUP_NAME': 'Üretim Endeksi - Çalışan Kişi Başına (2015=100)(Sanayi ve '\n",
      "                    'Teknoloji Bakanlığı)',\n",
      "  'DATAGROUP_NAME_ENG': 'Index of Production per Person Employed '\n",
      "                        '(2015=100)(Ministry of Industry and Technology)',\n",
      "  'DATASOURCE': 'SANAYİ VE TEKNOLOJİ BAKANLIĞI',\n",
      "  'DATASOURCE_ENG': 'MINISTRY OF INDUSTRY AND TECHNOLOGY',\n",
      "  'END_DATE': '01-01-2022',\n",
      "  'FREQUENCY': 13,\n",
      "  'FREQUENCY_STR': 'ÜÇ AYLIK',\n",
      "  'METADATA_LINK': 'http://vi.sanayi.gov.tr/Files/metaveriler/Metaveri_UcAylikVerimlilikIstatistikleri(2015=100).pdf',\n",
      "  'METADATA_LINK_ENG': 'http://vi.sanayi.gov.tr/productivitystatistics/Files/metadata/MetadataQuarterlyProductivityStatistics(2015=100).pdf',\n",
      "  'REV_POL_LINK': 'http://vi.sanayi.gov.tr/Files/metaveriler/Metaveri_UcAylikVerimlilikIstatistikleri(2015=100).pdf',\n",
      "  'REV_POL_LINK_ENG': 'http://vi.sanayi.gov.tr/productivitystatistics/Files/metadata/MetadataQuarterlyProductivityStatistics(2015=100).pdf',\n",
      "  'START_DATE': '01-01-2009'},\n",
      " {'APP_CHA_LINK': 'http://vi.sanayi.gov.tr/Files/metaveriler/Metaveri_UcAylikVerimlilikIstatistikleri(2015=100).pdf',\n",
      "  'APP_CHA_LINK_ENG': 'http://vi.sanayi.gov.tr/productivitystatistics/Files/metadata/MetadataQuarterlyProductivityStatistics(2015=100).pdf',\n",
      "  'CATEGORY_ID': 21,\n",
      "  'DATAGROUP_CODE': 'bie_ursaat15',\n",
      "  'DATAGROUP_NAME': 'Üretim Endeksi - Çalışılan Saat Başına (2015=100)(Sanayi '\n",
      "                    've Teknoloji Bakanlığı)',\n",
      "  'DATAGROUP_NAME_ENG': 'Index of Production per Hour Worked '\n",
      "                        '(2015=100)(Ministry of Industry and Technology)',\n",
      "  'DATASOURCE': 'SANAYİ VE TEKNOLOJİ BAKANLIĞI',\n",
      "  'DATASOURCE_ENG': 'MINISTRY OF INDUSTRY AND TECHNOLOGY',\n",
      "  'END_DATE': '01-01-2022',\n",
      "  'FREQUENCY': 13,\n",
      "  'FREQUENCY_STR': 'ÜÇ AYLIK',\n",
      "  'METADATA_LINK': 'http://vi.sanayi.gov.tr/Files/metaveriler/Metaveri_UcAylikVerimlilikIstatistikleri(2015=100).pdf',\n",
      "  'METADATA_LINK_ENG': 'http://vi.sanayi.gov.tr/productivitystatistics/Files/metadata/MetadataQuarterlyProductivityStatistics(2015=100).pdf',\n",
      "  'REV_POL_LINK': 'http://vi.sanayi.gov.tr/Files/metaveriler/Metaveri_UcAylikVerimlilikIstatistikleri(2015=100).pdf',\n",
      "  'REV_POL_LINK_ENG': 'http://vi.sanayi.gov.tr/productivitystatistics/Files/metadata/MetadataQuarterlyProductivityStatistics(2015=100).pdf',\n",
      "  'START_DATE': '01-01-2009'},\n",
      " {'APP_CHA_LINK': '',\n",
      "  'APP_CHA_LINK_ENG': '',\n",
      "  'CATEGORY_ID': 21,\n",
      "  'DATAGROUP_CODE': 'bie_oecdoncu',\n",
      "  'DATAGROUP_NAME': 'OECD Kompozit Öncü Göstergeler Indeksi(CLI)',\n",
      "  'DATAGROUP_NAME_ENG': 'OECD Composite Leading Indicator (CLI)(Index)',\n",
      "  'DATASOURCE': 'OECD',\n",
      "  'DATASOURCE_ENG': 'OECD',\n",
      "  'END_DATE': '01-06-2022',\n",
      "  'FREQUENCY': 9,\n",
      "  'FREQUENCY_STR': 'AYLIK',\n",
      "  'METADATA_LINK': '',\n",
      "  'METADATA_LINK_ENG': '',\n",
      "  'REV_POL_LINK': '',\n",
      "  'REV_POL_LINK_ENG': '',\n",
      "  'START_DATE': '01-02-1966'}]\n"
     ]
    }
   ],
   "source": [
    "pprint(sub_raw)"
   ]
  },
  {
   "cell_type": "code",
   "execution_count": 24,
   "metadata": {},
   "outputs": [
    {
     "name": "stdout",
     "output_type": "stream",
     "text": [
      "{'bie_dkdovytl': [2,\n",
      "                  'Kurlar-Döviz Kurları',\n",
      "                  'Exchange Rates',\n",
      "                  'GÜNLÜK',\n",
      "                  1,\n",
      "                  'TCMB',\n",
      "                  'CBRT',\n",
      "                  '',\n",
      "                  '',\n",
      "                  '',\n",
      "                  '',\n",
      "                  '',\n",
      "                  '',\n",
      "                  datetime.date(1950, 1, 2),\n",
      "                  datetime.date(2022, 8, 22)],\n",
      " 'bie_dkefkytl': [2,\n",
      "                  'Kurlar-Efektif Kurlar',\n",
      "                  'Exchange Rates-Banknotes',\n",
      "                  'GÜNLÜK',\n",
      "                  1,\n",
      "                  'TCMB',\n",
      "                  'CBRT',\n",
      "                  '',\n",
      "                  '',\n",
      "                  '',\n",
      "                  '',\n",
      "                  '',\n",
      "                  '',\n",
      "                  datetime.date(1990, 1, 2),\n",
      "                  datetime.date(2022, 8, 22)],\n",
      " 'bie_dkkurbil': [2,\n",
      "                  'Kurlar-TCMB Tarafından Alım Satıma Konu Olmayan Dövizlere '\n",
      "                  'İlişkin Bilgi Amaçlı Kur Tablosu',\n",
      "                  'Informative Exchange Rates of Selected Currencies that are '\n",
      "                  'not subject to transaction by the CBRT',\n",
      "                  'GÜNLÜK',\n",
      "                  1,\n",
      "                  'TCMB',\n",
      "                  'CBRT',\n",
      "                  '',\n",
      "                  '',\n",
      "                  '',\n",
      "                  '',\n",
      "                  '',\n",
      "                  '',\n",
      "                  datetime.date(2021, 12, 21),\n",
      "                  datetime.date(2009, 4, 2)],\n",
      " 'bie_redkurigm': [2,\n",
      "                   'Kurlar-Reel Efektif Döviz Kuru-Birim İş Gücü Maliyeti '\n",
      "                   'Bazlı (2003=100)',\n",
      "                   'Exchange Rates-Unit Labor Cost Based Real Effective '\n",
      "                   'Exchange Rate (2003=100)',\n",
      "                   'YILLIK',\n",
      "                   21,\n",
      "                   'TCMB',\n",
      "                   'CBRT',\n",
      "                   'http://www.tcmb.gov.tr/wps/wcm/connect/02713545-8428-49ab-a9d9-0f770895d513/REERMetaveri.pdf?MOD=AJPERES&CACHEID=ROOTWORKSPACE-02713545-8428-49ab-a9d9-0f770895d513-m5GUjN5',\n",
      "                   'http://www.tcmb.gov.tr/wps/wcm/connect/65b5812f-f1cd-4cb9-8ca6-a978c77f74f4/REERMetadata.pdf?MOD=AJPERES&CACHEID=ROOTWORKSPACE-65b5812f-f1cd-4cb9-8ca6-a978c77f74f4-m5GUjP9',\n",
      "                   'http://www.tcmb.gov.tr/wps/wcm/connect/b4c2666b-5450-4667-82a5-de58ac57761e/RevizyonPolitikas%C4%B1_REDK.pdf?MOD=AJPERES&CACHEID=ROOTWORKSPACE-b4c2666b-5450-4667-82a5-de58ac57761e-m5hOUXH',\n",
      "                   'http://www.tcmb.gov.tr/wps/wcm/connect/1490edc9-cece-4931-b469-83e079e22e1f/RevisionPolicyREER.pdf?MOD=AJPERES&CACHEID=ROOTWORKSPACE-1490edc9-cece-4931-b469-83e079e22e1f-m5hVwyx',\n",
      "                   'http://www.tcmb.gov.tr/wps/wcm/connect/e8fe6a5f-8084-4d06-acc0-37ce9a98609c/GuncellemeDuyurulari_REDK.pdf?MOD=AJPERES&CACHEID=ROOTWORKSPACE-e8fe6a5f-8084-4d06-acc0-37ce9a98609c-m5hPbdB',\n",
      "                   'http://www.tcmb.gov.tr/wps/wcm/connect/1b2d355e-ac1e-43ac-ac22-57e94e5b5398/MethodologicalChangesREER.pdf?MOD=AJPERES&CACHEID=ROOTWORKSPACE-1b2d355e-ac1e-43ac-ac22-57e94e5b5398-m5hVpNj',\n",
      "                   datetime.date(2003, 1, 1),\n",
      "                   datetime.date(2021, 1, 1)],\n",
      " 'bie_rktufey': [2,\n",
      "                 'Kurlar-Reel Efektif Döviz Kuru-TÜFE Bazlı (2003=100)',\n",
      "                 'Exchange Rates-CPI Based Real Effective Exchange Rate '\n",
      "                 '(2003=100)',\n",
      "                 'AYLIK',\n",
      "                 9,\n",
      "                 'TCMB',\n",
      "                 'CBRT',\n",
      "                 'http://www.tcmb.gov.tr/wps/wcm/connect/TR/TCMB+TR/Main+Menu/Istatistikler/Doviz+Kurlari/Reel+Efektif+Doviz+Kuruu/Metaveri',\n",
      "                 'http://www.tcmb.gov.tr/wps/wcm/connect/EN/TCMB+EN/Main+Menu/Statistics/Exchange+Rates/Real+Effective+Exchange+Rates+Deneme/Metadata',\n",
      "                 'http://www.tcmb.gov.tr/wps/wcm/connect/TR/TCMB+TR/Main+Menu/Istatistikler/Doviz+Kurlari/Reel+Efektif+Doviz+Kuruu/Revizyon+Politikasi',\n",
      "                 'http://www.tcmb.gov.tr/wps/wcm/connect/EN/TCMB+EN/Main+Menu/Statistics/Exchange+Rates/Real+Effective+Exchange+Rates+Deneme/Revision+Policy',\n",
      "                 'http://www.tcmb.gov.tr/wps/wcm/connect/TR/TCMB+TR/Main+Menu/Istatistikler/Doviz+Kurlari/Reel+Efektif+Doviz+Kuruu/Uygulama+Degisiklikleri',\n",
      "                 'https://wcm.tcmb.gov.tr/wps/wcm/connect/EN/TCMB+EN/Main+Menu/Statistics/Exchange+Rates/Real+Effective+Exchange+Rates+Deneme/Methodological+Changes',\n",
      "                 datetime.date(1994, 1, 1),\n",
      "                 datetime.date(2022, 7, 1)],\n",
      " 'bie_rkufey': [2,\n",
      "                'Kurlar-Reel Efektif Döviz Kuru-Yİ-ÜFE Bazlı (2003=100)',\n",
      "                'Exchange Rates-Domestic-PPI Based Real Effective Exchange '\n",
      "                'Rate (2003=100)',\n",
      "                'AYLIK',\n",
      "                9,\n",
      "                'TCMB',\n",
      "                'CBRT',\n",
      "                'http://www.tcmb.gov.tr/wps/wcm/connect/TR/TCMB+TR/Main+Menu/Istatistikler/Doviz+Kurlari/Reel+Efektif+Doviz+Kuruu/Metaveri',\n",
      "                'http://www.tcmb.gov.tr/wps/wcm/connect/EN/TCMB+EN/Main+Menu/Statistics/Exchange+Rates/Real+Effective+Exchange+Rates+Deneme/Metadata',\n",
      "                'http://www.tcmb.gov.tr/wps/wcm/connect/TR/TCMB+TR/Main+Menu/Istatistikler/Doviz+Kurlari/Reel+Efektif+Doviz+Kuruu/Revizyon+Politikasi',\n",
      "                'http://www.tcmb.gov.tr/wps/wcm/connect/EN/TCMB+EN/Main+Menu/Statistics/Exchange+Rates/Real+Effective+Exchange+Rates+Deneme/Revision+Policy',\n",
      "                'http://www.tcmb.gov.tr/wps/wcm/connect/TR/TCMB+TR/Main+Menu/Istatistikler/Doviz+Kurlari/Reel+Efektif+Doviz+Kuruu/Uygulama+Degisiklikleri',\n",
      "                'https://wcm.tcmb.gov.tr/wps/wcm/connect/EN/TCMB+EN/Main+Menu/Statistics/Exchange+Rates/Real+Effective+Exchange+Rates+Deneme/Methodological+Changes',\n",
      "                datetime.date(1994, 1, 1),\n",
      "                datetime.date(2022, 7, 1)]}\n"
     ]
    }
   ],
   "source": [
    "pprint(rates_all)"
   ]
  },
  {
   "cell_type": "markdown",
   "metadata": {},
   "source": [
    "#### 1.6. [__Alt Kategorilere Ait Olan Grupları Listeleme__](https://github.com/syncoding/evdsts/blob/master/docs/manuals/manual_en.md#listing-groups)"
   ]
  },
  {
   "cell_type": "markdown",
   "metadata": {},
   "source": [
    "Alt kategorilere ait gruplar, ilgili alt kategori ismi `get_groups()` metoduna parametre olarak verilerek\n",
    "istenebilir. Gruplar ön tanımlı olarak pandas `DataFrame` objeleri olarak geri döndürülür fakat istenirse\n",
    "`Dict` nesnesi ya `JSON` string tipinde de alınabilir."
   ]
  },
  {
   "cell_type": "code",
   "execution_count": 25,
   "metadata": {},
   "outputs": [],
   "source": [
    "group_effectives = connector.get_groups(\"bie_dkdovytl\")"
   ]
  },
  {
   "cell_type": "code",
   "execution_count": 26,
   "metadata": {},
   "outputs": [
    {
     "data": {
      "text/html": [
       "<div>\n",
       "<style scoped>\n",
       "    .dataframe tbody tr th:only-of-type {\n",
       "        vertical-align: middle;\n",
       "    }\n",
       "\n",
       "    .dataframe tbody tr th {\n",
       "        vertical-align: top;\n",
       "    }\n",
       "\n",
       "    .dataframe thead th {\n",
       "        text-align: right;\n",
       "    }\n",
       "</style>\n",
       "<table border=\"1\" class=\"dataframe\">\n",
       "  <thead>\n",
       "    <tr style=\"text-align: right;\">\n",
       "      <th></th>\n",
       "      <th>SERIE_NAME</th>\n",
       "      <th>SERIE_CODE</th>\n",
       "      <th>FREQUENCY_STR</th>\n",
       "      <th>START_DATE</th>\n",
       "      <th>END_DATE</th>\n",
       "    </tr>\n",
       "  </thead>\n",
       "  <tbody>\n",
       "    <tr>\n",
       "      <th>0</th>\n",
       "      <td>(USD) ABD Doları (Döviz Alış)</td>\n",
       "      <td>TP.DK.USD.A.YTL</td>\n",
       "      <td>GÜNLÜK</td>\n",
       "      <td>1950-01-02</td>\n",
       "      <td>2022-08-22</td>\n",
       "    </tr>\n",
       "    <tr>\n",
       "      <th>1</th>\n",
       "      <td>(USD) ABD Doları (Döviz Satış)</td>\n",
       "      <td>TP.DK.USD.S.YTL</td>\n",
       "      <td>GÜNLÜK</td>\n",
       "      <td>1950-01-02</td>\n",
       "      <td>2022-08-22</td>\n",
       "    </tr>\n",
       "    <tr>\n",
       "      <th>2</th>\n",
       "      <td>(EUR) Euro (Döviz Alış)</td>\n",
       "      <td>TP.DK.EUR.A.YTL</td>\n",
       "      <td>GÜNLÜK</td>\n",
       "      <td>1999-01-04</td>\n",
       "      <td>2022-08-22</td>\n",
       "    </tr>\n",
       "    <tr>\n",
       "      <th>3</th>\n",
       "      <td>(EUR) Euro (Döviz Satış)</td>\n",
       "      <td>TP.DK.EUR.S.YTL</td>\n",
       "      <td>GÜNLÜK</td>\n",
       "      <td>1999-01-04</td>\n",
       "      <td>2022-08-22</td>\n",
       "    </tr>\n",
       "    <tr>\n",
       "      <th>4</th>\n",
       "      <td>(ATS) Avusturya Şilini (Döviz Alış)</td>\n",
       "      <td>TP.DK.ATS.A.YTL</td>\n",
       "      <td>GÜNLÜK</td>\n",
       "      <td>1961-07-03</td>\n",
       "      <td>2002-01-02</td>\n",
       "    </tr>\n",
       "    <tr>\n",
       "      <th>...</th>\n",
       "      <td>...</td>\n",
       "      <td>...</td>\n",
       "      <td>...</td>\n",
       "      <td>...</td>\n",
       "      <td>...</td>\n",
       "    </tr>\n",
       "    <tr>\n",
       "      <th>90</th>\n",
       "      <td>(AED) Birleşik Arap Emirlikleri Dirhemi (Döviz...</td>\n",
       "      <td>TP.DK.AED.S.YTL</td>\n",
       "      <td>GÜNLÜK</td>\n",
       "      <td>2021-12-21</td>\n",
       "      <td>2022-08-22</td>\n",
       "    </tr>\n",
       "    <tr>\n",
       "      <th>91</th>\n",
       "      <td>(AED) Birleşik Arap Emirlikleri Dirhemi (Çapraz)</td>\n",
       "      <td>TP.DK.AED.C.YTL</td>\n",
       "      <td>GÜNLÜK</td>\n",
       "      <td>2021-12-21</td>\n",
       "      <td>2022-08-22</td>\n",
       "    </tr>\n",
       "    <tr>\n",
       "      <th>92</th>\n",
       "      <td>(AZN) Azerbaycan Yeni Manatı (Döviz Alış)</td>\n",
       "      <td>TP.DK.AZN.A.YTL</td>\n",
       "      <td>GÜNLÜK</td>\n",
       "      <td>2021-12-22</td>\n",
       "      <td>2022-08-22</td>\n",
       "    </tr>\n",
       "    <tr>\n",
       "      <th>93</th>\n",
       "      <td>(AZN) Azerbaycan Yeni Manatı (Döviz Satış)</td>\n",
       "      <td>TP.DK.AZN.S.YTL</td>\n",
       "      <td>GÜNLÜK</td>\n",
       "      <td>2021-12-22</td>\n",
       "      <td>2022-08-22</td>\n",
       "    </tr>\n",
       "    <tr>\n",
       "      <th>94</th>\n",
       "      <td>(AZN) Azerbaycan Yeni Manatı (Çapraz)</td>\n",
       "      <td>TP.DK.AZN.C.YTL</td>\n",
       "      <td>GÜNLÜK</td>\n",
       "      <td>2021-12-22</td>\n",
       "      <td>2022-08-22</td>\n",
       "    </tr>\n",
       "  </tbody>\n",
       "</table>\n",
       "<p>95 rows × 5 columns</p>\n",
       "</div>"
      ],
      "text/plain": [
       "                                           SERIE_NAME  ...   END_DATE\n",
       "0                       (USD) ABD Doları (Döviz Alış)  ... 2022-08-22\n",
       "1                      (USD) ABD Doları (Döviz Satış)  ... 2022-08-22\n",
       "2                             (EUR) Euro (Döviz Alış)  ... 2022-08-22\n",
       "3                            (EUR) Euro (Döviz Satış)  ... 2022-08-22\n",
       "4                 (ATS) Avusturya Şilini (Döviz Alış)  ... 2002-01-02\n",
       "..                                                ...  ...        ...\n",
       "90  (AED) Birleşik Arap Emirlikleri Dirhemi (Döviz...  ... 2022-08-22\n",
       "91   (AED) Birleşik Arap Emirlikleri Dirhemi (Çapraz)  ... 2022-08-22\n",
       "92          (AZN) Azerbaycan Yeni Manatı (Döviz Alış)  ... 2022-08-22\n",
       "93         (AZN) Azerbaycan Yeni Manatı (Döviz Satış)  ... 2022-08-22\n",
       "94              (AZN) Azerbaycan Yeni Manatı (Çapraz)  ... 2022-08-22\n",
       "\n",
       "[95 rows x 5 columns]"
      ]
     },
     "execution_count": 26,
     "metadata": {},
     "output_type": "execute_result"
    }
   ],
   "source": [
    "group_effectives"
   ]
  },
  {
   "cell_type": "markdown",
   "metadata": {},
   "source": [
    "Gruplar istenirse; `Dict`, `JSON` ya da EVDS üzerindeki bütün bilgiyi içeren daha detaylı bir `DataFrame`\n",
    "nesnesi olarak da alınabilir."
   ]
  },
  {
   "cell_type": "code",
   "execution_count": 27,
   "metadata": {},
   "outputs": [],
   "source": [
    "# dictionary olarak\n",
    "groups_dict = connector.get_groups(\"bie_gsyhgycf\", as_dict=True)\n",
    "\n",
    "# JSON string olarak\n",
    "groups_raw = connector.get_groups(\"bie_gsyhgycf\", raw=True)\n",
    "\n",
    "# gruplarin daha detayli bilgiler iceren bir versiyonu 'verbose' parametresi kullanilarak alinabilir\n",
    "detailed_groups = connector.get_groups(\"bie_gsyhgycf\", verbose=True)\n",
    "\n",
    "# yukaridakilerin ornek bir bilesimi\n",
    "detailed_dict = connector.get_groups(\"bie_gsyhgycf\", as_dict=True, verbose=True)"
   ]
  },
  {
   "cell_type": "code",
   "execution_count": 28,
   "metadata": {},
   "outputs": [
    {
     "name": "stdout",
     "output_type": "stream",
     "text": [
      "{'TP.GSYIH01.GY.CF': ['Tarım, ormancılık ve balıkçılık(Bin TL)',\n",
      "                      'ÜÇ AYLIK',\n",
      "                      '01-01-1998',\n",
      "                      '01-01-2022'],\n",
      " 'TP.GSYIH02.GY.CF': ['Sanayi(Bin TL)', 'ÜÇ AYLIK', '01-01-1998', '01-01-2022'],\n",
      " 'TP.GSYIH03.GY.CF': ['İmalat sanayi(Bin TL)',\n",
      "                      'ÜÇ AYLIK',\n",
      "                      '01-01-1998',\n",
      "                      '01-01-2022'],\n",
      " 'TP.GSYIH04.GY.CF': ['İnşaat(Bin TL)', 'ÜÇ AYLIK', '01-01-1998', '01-01-2022'],\n",
      " 'TP.GSYIH05.GY.CF': ['Hizmetler(Bin TL)',\n",
      "                      'ÜÇ AYLIK',\n",
      "                      '01-01-1998',\n",
      "                      '01-01-2022'],\n",
      " 'TP.GSYIH06.GY.CF': ['Bilgi ve iletişim(Bin TL)',\n",
      "                      'ÜÇ AYLIK',\n",
      "                      '01-01-1998',\n",
      "                      '01-01-2022'],\n",
      " 'TP.GSYIH07.GY.CF': ['Finans ve sigorta faaliyetleri(Bin TL)',\n",
      "                      'ÜÇ AYLIK',\n",
      "                      '01-01-1998',\n",
      "                      '01-01-2022'],\n",
      " 'TP.GSYIH08.GY.CF': ['Gayrimenkul faaliyetleri(Bin TL)',\n",
      "                      'ÜÇ AYLIK',\n",
      "                      '01-01-1998',\n",
      "                      '01-01-2022'],\n",
      " 'TP.GSYIH09.GY.CF': ['Mesleki, idari ve destek hizmet faaliyetleri(Bin TL)',\n",
      "                      'ÜÇ AYLIK',\n",
      "                      '01-01-1998',\n",
      "                      '01-01-2022'],\n",
      " 'TP.GSYIH10.GY.CF': ['Kamu yönetimi, eğitim, insan sağlığı ve sosyal hizmet '\n",
      "                      'faaliyetleri(Bin TL)',\n",
      "                      'ÜÇ AYLIK',\n",
      "                      '01-01-1998',\n",
      "                      '01-01-2022'],\n",
      " 'TP.GSYIH11.GY.CF': ['Diğer hizmet faaliyetleri(Bin TL)',\n",
      "                      'ÜÇ AYLIK',\n",
      "                      '01-01-1998',\n",
      "                      '01-01-2022'],\n",
      " 'TP.GSYIH14.GY.CF': ['Toplam işgücü ödemeleri(Bin TL)',\n",
      "                      'ÜÇ AYLIK',\n",
      "                      '01-01-1998',\n",
      "                      '01-01-2022'],\n",
      " 'TP.GSYIH15.GY.CF': ['Üretim üzerindeki net vergiler(Bin TL)',\n",
      "                      'ÜÇ AYLIK',\n",
      "                      '01-01-1998',\n",
      "                      '01-01-2022'],\n",
      " 'TP.GSYIH16.GY.CF': ['Brüt işletme artığı/karma gelir(Bin TL)',\n",
      "                      'ÜÇ AYLIK',\n",
      "                      '01-01-1998',\n",
      "                      '01-01-2022'],\n",
      " 'TP.GSYIH17.GY.CF': ['Sabit sermaye tüketimi(Bin TL)',\n",
      "                      'ÜÇ AYLIK',\n",
      "                      '01-01-1998',\n",
      "                      '01-01-2022'],\n",
      " 'TP.GSYIH18.GY.CF': ['Net işletme artığı/karma gelir(Bin TL)',\n",
      "                      'ÜÇ AYLIK',\n",
      "                      '01-01-1998',\n",
      "                      '01-01-2022'],\n",
      " 'TP.GSYIH19.GY.CF': ['Ürün üzerindeki vergiler eksi sübvansiyonlar(Bin TL)',\n",
      "                      'ÜÇ AYLIK',\n",
      "                      '01-01-1998',\n",
      "                      '01-01-2022'],\n",
      " 'TP.GSYIH26.GY.CF': ['Gayrisafi Yurtiçi Hasıla (Alıcı fiyatlarıyla)(Bin TL)',\n",
      "                      'ÜÇ AYLIK',\n",
      "                      '01-01-1998',\n",
      "                      '01-01-2022']}\n"
     ]
    }
   ],
   "source": [
    "pprint(groups_dict)"
   ]
  },
  {
   "cell_type": "code",
   "execution_count": 29,
   "metadata": {},
   "outputs": [
    {
     "name": "stdout",
     "output_type": "stream",
     "text": [
      "[{'APP_CHA_LINK': 'http://www.tuik.gov.tr/PreTablo.do?alt_id=115',\n",
      "  'APP_CHA_LINK_ENG': 'http://www.turkstat.gov.tr/PreTablo.do?alt_id=115',\n",
      "  'DATAGROUP_CODE': 'bie_gsyhgycf',\n",
      "  'DATASOURCE': 'TÜİK',\n",
      "  'DATASOURCE_ENG': 'TURKSTAT',\n",
      "  'DEFAULT_AGG_METHOD': 'sum',\n",
      "  'DEFAULT_AGG_METHOD_STR': 'KÜMÜLATİF',\n",
      "  'END_DATE': '01-01-2022',\n",
      "  'FREQUENCY_STR': 'ÜÇ AYLIK',\n",
      "  'METADATA_LINK': 'http://www.tuik.gov.tr/PreTablo.do?alt_id=115',\n",
      "  'METADATA_LINK_ENG': 'http://www.turkstat.gov.tr/PreTablo.do?alt_id=115',\n",
      "  'REV_POL_LINK': 'http://www.tuik.gov.tr/PreTablo.do?alt_id=115',\n",
      "  'REV_POL_LINK_ENG': 'http://www.turkstat.gov.tr/PreTablo.do?alt_id=115',\n",
      "  'SERIE_CODE': 'TP.GSYIH01.GY.CF',\n",
      "  'SERIE_NAME': 'Tarım, ormancılık ve balıkçılık(Bin TL)',\n",
      "  'SERIE_NAME_ENG': 'Agriculture, forestry and fishing(Thousand TL)',\n",
      "  'START_DATE': '01-01-1998',\n",
      "  'TAG': 'GSYİH, Gayri, Safi, Yurtiçi, Hasıla',\n",
      "  'TAG_ENG': 'GDP, Gross, Domestic, Product'},\n",
      " {'APP_CHA_LINK': 'http://www.tuik.gov.tr/PreTablo.do?alt_id=115',\n",
      "  'APP_CHA_LINK_ENG': 'http://www.turkstat.gov.tr/PreTablo.do?alt_id=115',\n",
      "  'DATAGROUP_CODE': 'bie_gsyhgycf',\n",
      "  'DATASOURCE': 'TÜİK',\n",
      "  'DATASOURCE_ENG': 'TURKSTAT',\n",
      "  'DEFAULT_AGG_METHOD': 'sum',\n",
      "  'DEFAULT_AGG_METHOD_STR': 'KÜMÜLATİF',\n",
      "  'END_DATE': '01-01-2022',\n",
      "  'FREQUENCY_STR': 'ÜÇ AYLIK',\n",
      "  'METADATA_LINK': 'http://www.tuik.gov.tr/PreTablo.do?alt_id=115',\n",
      "  'METADATA_LINK_ENG': 'http://www.turkstat.gov.tr/PreTablo.do?alt_id=115',\n",
      "  'REV_POL_LINK': 'http://www.tuik.gov.tr/PreTablo.do?alt_id=115',\n",
      "  'REV_POL_LINK_ENG': 'http://www.turkstat.gov.tr/PreTablo.do?alt_id=115',\n",
      "  'SERIE_CODE': 'TP.GSYIH02.GY.CF',\n",
      "  'SERIE_NAME': 'Sanayi(Bin TL)',\n",
      "  'SERIE_NAME_ENG': 'Industry(Thousand TL)',\n",
      "  'START_DATE': '01-01-1998',\n",
      "  'TAG': 'GSYİH, Gayri, Safi, Yurtiçi, Hasıla',\n",
      "  'TAG_ENG': 'GDP, Gross, Domestic, Product'},\n",
      " {'APP_CHA_LINK': 'http://www.tuik.gov.tr/PreTablo.do?alt_id=115',\n",
      "  'APP_CHA_LINK_ENG': 'http://www.turkstat.gov.tr/PreTablo.do?alt_id=115',\n",
      "  'DATAGROUP_CODE': 'bie_gsyhgycf',\n",
      "  'DATASOURCE': 'TÜİK',\n",
      "  'DATASOURCE_ENG': 'TURKSTAT',\n",
      "  'DEFAULT_AGG_METHOD': 'sum',\n",
      "  'DEFAULT_AGG_METHOD_STR': 'KÜMÜLATİF',\n",
      "  'END_DATE': '01-01-2022',\n",
      "  'FREQUENCY_STR': 'ÜÇ AYLIK',\n",
      "  'METADATA_LINK': 'http://www.tuik.gov.tr/PreTablo.do?alt_id=115',\n",
      "  'METADATA_LINK_ENG': 'http://www.turkstat.gov.tr/PreTablo.do?alt_id=115',\n",
      "  'REV_POL_LINK': 'http://www.tuik.gov.tr/PreTablo.do?alt_id=115',\n",
      "  'REV_POL_LINK_ENG': 'http://www.turkstat.gov.tr/PreTablo.do?alt_id=115',\n",
      "  'SERIE_CODE': 'TP.GSYIH03.GY.CF',\n",
      "  'SERIE_NAME': 'İmalat sanayi(Bin TL)',\n",
      "  'SERIE_NAME_ENG': 'Manufacturing(Thousand TL)',\n",
      "  'START_DATE': '01-01-1998',\n",
      "  'TAG': 'GSYİH, Gayri, Safi, Yurtiçi, Hasıla',\n",
      "  'TAG_ENG': 'GDP, Gross, Domestic, Product'},\n",
      " {'APP_CHA_LINK': 'http://www.tuik.gov.tr/PreTablo.do?alt_id=115',\n",
      "  'APP_CHA_LINK_ENG': 'http://www.turkstat.gov.tr/PreTablo.do?alt_id=115',\n",
      "  'DATAGROUP_CODE': 'bie_gsyhgycf',\n",
      "  'DATASOURCE': 'TÜİK',\n",
      "  'DATASOURCE_ENG': 'TURKSTAT',\n",
      "  'DEFAULT_AGG_METHOD': 'sum',\n",
      "  'DEFAULT_AGG_METHOD_STR': 'KÜMÜLATİF',\n",
      "  'END_DATE': '01-01-2022',\n",
      "  'FREQUENCY_STR': 'ÜÇ AYLIK',\n",
      "  'METADATA_LINK': 'http://www.tuik.gov.tr/PreTablo.do?alt_id=115',\n",
      "  'METADATA_LINK_ENG': 'http://www.turkstat.gov.tr/PreTablo.do?alt_id=115',\n",
      "  'REV_POL_LINK': 'http://www.tuik.gov.tr/PreTablo.do?alt_id=115',\n",
      "  'REV_POL_LINK_ENG': 'http://www.turkstat.gov.tr/PreTablo.do?alt_id=115',\n",
      "  'SERIE_CODE': 'TP.GSYIH04.GY.CF',\n",
      "  'SERIE_NAME': 'İnşaat(Bin TL)',\n",
      "  'SERIE_NAME_ENG': 'Construction(Thousand TL)',\n",
      "  'START_DATE': '01-01-1998',\n",
      "  'TAG': 'GSYİH, Gayri, Safi, Yurtiçi, Hasıla',\n",
      "  'TAG_ENG': 'GDP, Gross, Domestic, Product'},\n",
      " {'APP_CHA_LINK': 'http://www.tuik.gov.tr/PreTablo.do?alt_id=115',\n",
      "  'APP_CHA_LINK_ENG': 'http://www.turkstat.gov.tr/PreTablo.do?alt_id=115',\n",
      "  'DATAGROUP_CODE': 'bie_gsyhgycf',\n",
      "  'DATASOURCE': 'TÜİK',\n",
      "  'DATASOURCE_ENG': 'TURKSTAT',\n",
      "  'DEFAULT_AGG_METHOD': 'sum',\n",
      "  'DEFAULT_AGG_METHOD_STR': 'KÜMÜLATİF',\n",
      "  'END_DATE': '01-01-2022',\n",
      "  'FREQUENCY_STR': 'ÜÇ AYLIK',\n",
      "  'METADATA_LINK': 'http://www.tuik.gov.tr/PreTablo.do?alt_id=115',\n",
      "  'METADATA_LINK_ENG': 'http://www.turkstat.gov.tr/PreTablo.do?alt_id=115',\n",
      "  'REV_POL_LINK': 'http://www.tuik.gov.tr/PreTablo.do?alt_id=115',\n",
      "  'REV_POL_LINK_ENG': 'http://www.turkstat.gov.tr/PreTablo.do?alt_id=115',\n",
      "  'SERIE_CODE': 'TP.GSYIH05.GY.CF',\n",
      "  'SERIE_NAME': 'Hizmetler(Bin TL)',\n",
      "  'SERIE_NAME_ENG': 'Services(Thousand TL)',\n",
      "  'START_DATE': '01-01-1998',\n",
      "  'TAG': 'GSYİH, Gayri, Safi, Yurtiçi, Hasıla',\n",
      "  'TAG_ENG': 'GDP, Gross, Domestic, Product'},\n",
      " {'APP_CHA_LINK': 'http://www.tuik.gov.tr/PreTablo.do?alt_id=115',\n",
      "  'APP_CHA_LINK_ENG': 'http://www.turkstat.gov.tr/PreTablo.do?alt_id=115',\n",
      "  'DATAGROUP_CODE': 'bie_gsyhgycf',\n",
      "  'DATASOURCE': 'TÜİK',\n",
      "  'DATASOURCE_ENG': 'TURKSTAT',\n",
      "  'DEFAULT_AGG_METHOD': 'sum',\n",
      "  'DEFAULT_AGG_METHOD_STR': 'KÜMÜLATİF',\n",
      "  'END_DATE': '01-01-2022',\n",
      "  'FREQUENCY_STR': 'ÜÇ AYLIK',\n",
      "  'METADATA_LINK': 'http://www.tuik.gov.tr/PreTablo.do?alt_id=115',\n",
      "  'METADATA_LINK_ENG': 'http://www.turkstat.gov.tr/PreTablo.do?alt_id=115',\n",
      "  'REV_POL_LINK': 'http://www.tuik.gov.tr/PreTablo.do?alt_id=115',\n",
      "  'REV_POL_LINK_ENG': 'http://www.turkstat.gov.tr/PreTablo.do?alt_id=115',\n",
      "  'SERIE_CODE': 'TP.GSYIH06.GY.CF',\n",
      "  'SERIE_NAME': 'Bilgi ve iletişim(Bin TL)',\n",
      "  'SERIE_NAME_ENG': 'Information and communication(Thousand TL)',\n",
      "  'START_DATE': '01-01-1998',\n",
      "  'TAG': 'GSYİH, Gayri, Safi, Yurtiçi, Hasıla',\n",
      "  'TAG_ENG': 'GDP, Gross, Domestic, Product'},\n",
      " {'APP_CHA_LINK': 'http://www.tuik.gov.tr/PreTablo.do?alt_id=115',\n",
      "  'APP_CHA_LINK_ENG': 'http://www.turkstat.gov.tr/PreTablo.do?alt_id=115',\n",
      "  'DATAGROUP_CODE': 'bie_gsyhgycf',\n",
      "  'DATASOURCE': 'TÜİK',\n",
      "  'DATASOURCE_ENG': 'TURKSTAT',\n",
      "  'DEFAULT_AGG_METHOD': 'sum',\n",
      "  'DEFAULT_AGG_METHOD_STR': 'KÜMÜLATİF',\n",
      "  'END_DATE': '01-01-2022',\n",
      "  'FREQUENCY_STR': 'ÜÇ AYLIK',\n",
      "  'METADATA_LINK': 'http://www.tuik.gov.tr/PreTablo.do?alt_id=115',\n",
      "  'METADATA_LINK_ENG': 'http://www.turkstat.gov.tr/PreTablo.do?alt_id=115',\n",
      "  'REV_POL_LINK': 'http://www.tuik.gov.tr/PreTablo.do?alt_id=115',\n",
      "  'REV_POL_LINK_ENG': 'http://www.turkstat.gov.tr/PreTablo.do?alt_id=115',\n",
      "  'SERIE_CODE': 'TP.GSYIH07.GY.CF',\n",
      "  'SERIE_NAME': 'Finans ve sigorta faaliyetleri(Bin TL)',\n",
      "  'SERIE_NAME_ENG': 'Financial and insurance activities(Thousand TL)',\n",
      "  'START_DATE': '01-01-1998',\n",
      "  'TAG': 'GSYİH, Gayri, Safi, Yurtiçi, Hasıla',\n",
      "  'TAG_ENG': 'GDP, Gross, Domestic, Product'},\n",
      " {'APP_CHA_LINK': 'http://www.tuik.gov.tr/PreTablo.do?alt_id=115',\n",
      "  'APP_CHA_LINK_ENG': 'http://www.turkstat.gov.tr/PreTablo.do?alt_id=115',\n",
      "  'DATAGROUP_CODE': 'bie_gsyhgycf',\n",
      "  'DATASOURCE': 'TÜİK',\n",
      "  'DATASOURCE_ENG': 'TURKSTAT',\n",
      "  'DEFAULT_AGG_METHOD': 'sum',\n",
      "  'DEFAULT_AGG_METHOD_STR': 'KÜMÜLATİF',\n",
      "  'END_DATE': '01-01-2022',\n",
      "  'FREQUENCY_STR': 'ÜÇ AYLIK',\n",
      "  'METADATA_LINK': 'http://www.tuik.gov.tr/PreTablo.do?alt_id=115',\n",
      "  'METADATA_LINK_ENG': 'http://www.turkstat.gov.tr/PreTablo.do?alt_id=115',\n",
      "  'REV_POL_LINK': 'http://www.tuik.gov.tr/PreTablo.do?alt_id=115',\n",
      "  'REV_POL_LINK_ENG': 'http://www.turkstat.gov.tr/PreTablo.do?alt_id=115',\n",
      "  'SERIE_CODE': 'TP.GSYIH08.GY.CF',\n",
      "  'SERIE_NAME': 'Gayrimenkul faaliyetleri(Bin TL)',\n",
      "  'SERIE_NAME_ENG': 'Real estate activities(Thousand TL)',\n",
      "  'START_DATE': '01-01-1998',\n",
      "  'TAG': 'GSYİH, Gayri, Safi, Yurtiçi, Hasıla',\n",
      "  'TAG_ENG': 'GDP, Gross, Domestic, Product'},\n",
      " {'APP_CHA_LINK': 'http://www.tuik.gov.tr/PreTablo.do?alt_id=115',\n",
      "  'APP_CHA_LINK_ENG': 'http://www.turkstat.gov.tr/PreTablo.do?alt_id=115',\n",
      "  'DATAGROUP_CODE': 'bie_gsyhgycf',\n",
      "  'DATASOURCE': 'TÜİK',\n",
      "  'DATASOURCE_ENG': 'TURKSTAT',\n",
      "  'DEFAULT_AGG_METHOD': 'sum',\n",
      "  'DEFAULT_AGG_METHOD_STR': 'KÜMÜLATİF',\n",
      "  'END_DATE': '01-01-2022',\n",
      "  'FREQUENCY_STR': 'ÜÇ AYLIK',\n",
      "  'METADATA_LINK': 'http://www.tuik.gov.tr/PreTablo.do?alt_id=115',\n",
      "  'METADATA_LINK_ENG': 'http://www.turkstat.gov.tr/PreTablo.do?alt_id=115',\n",
      "  'REV_POL_LINK': 'http://www.tuik.gov.tr/PreTablo.do?alt_id=115',\n",
      "  'REV_POL_LINK_ENG': 'http://www.turkstat.gov.tr/PreTablo.do?alt_id=115',\n",
      "  'SERIE_CODE': 'TP.GSYIH09.GY.CF',\n",
      "  'SERIE_NAME': 'Mesleki, idari ve destek hizmet faaliyetleri(Bin TL)',\n",
      "  'SERIE_NAME_ENG': 'Professional, administrative and support service '\n",
      "                    'activities(Thousand TL)',\n",
      "  'START_DATE': '01-01-1998',\n",
      "  'TAG': 'GSYİH, Gayri, Safi, Yurtiçi, Hasıla',\n",
      "  'TAG_ENG': 'GDP, Gross, Domestic, Product'},\n",
      " {'APP_CHA_LINK': 'http://www.tuik.gov.tr/PreTablo.do?alt_id=115',\n",
      "  'APP_CHA_LINK_ENG': 'http://www.turkstat.gov.tr/PreTablo.do?alt_id=115',\n",
      "  'DATAGROUP_CODE': 'bie_gsyhgycf',\n",
      "  'DATASOURCE': 'TÜİK',\n",
      "  'DATASOURCE_ENG': 'TURKSTAT',\n",
      "  'DEFAULT_AGG_METHOD': 'sum',\n",
      "  'DEFAULT_AGG_METHOD_STR': 'KÜMÜLATİF',\n",
      "  'END_DATE': '01-01-2022',\n",
      "  'FREQUENCY_STR': 'ÜÇ AYLIK',\n",
      "  'METADATA_LINK': 'http://www.tuik.gov.tr/PreTablo.do?alt_id=115',\n",
      "  'METADATA_LINK_ENG': 'http://www.turkstat.gov.tr/PreTablo.do?alt_id=115',\n",
      "  'REV_POL_LINK': 'http://www.tuik.gov.tr/PreTablo.do?alt_id=115',\n",
      "  'REV_POL_LINK_ENG': 'http://www.turkstat.gov.tr/PreTablo.do?alt_id=115',\n",
      "  'SERIE_CODE': 'TP.GSYIH10.GY.CF',\n",
      "  'SERIE_NAME': 'Kamu yönetimi, eğitim, insan sağlığı ve sosyal hizmet '\n",
      "                'faaliyetleri(Bin TL)',\n",
      "  'SERIE_NAME_ENG': 'Public administration, education, human health and social '\n",
      "                    'work activities(Thousand TL)',\n",
      "  'START_DATE': '01-01-1998',\n",
      "  'TAG': 'GSYİH, Gayri, Safi, Yurtiçi, Hasıla',\n",
      "  'TAG_ENG': 'GDP, Gross, Domestic, Product'},\n",
      " {'APP_CHA_LINK': 'http://www.tuik.gov.tr/PreTablo.do?alt_id=115',\n",
      "  'APP_CHA_LINK_ENG': 'http://www.turkstat.gov.tr/PreTablo.do?alt_id=115',\n",
      "  'DATAGROUP_CODE': 'bie_gsyhgycf',\n",
      "  'DATASOURCE': 'TÜİK',\n",
      "  'DATASOURCE_ENG': 'TURKSTAT',\n",
      "  'DEFAULT_AGG_METHOD': 'sum',\n",
      "  'DEFAULT_AGG_METHOD_STR': 'KÜMÜLATİF',\n",
      "  'END_DATE': '01-01-2022',\n",
      "  'FREQUENCY_STR': 'ÜÇ AYLIK',\n",
      "  'METADATA_LINK': 'http://www.tuik.gov.tr/PreTablo.do?alt_id=115',\n",
      "  'METADATA_LINK_ENG': 'http://www.turkstat.gov.tr/PreTablo.do?alt_id=115',\n",
      "  'REV_POL_LINK': 'http://www.tuik.gov.tr/PreTablo.do?alt_id=115',\n",
      "  'REV_POL_LINK_ENG': 'http://www.turkstat.gov.tr/PreTablo.do?alt_id=115',\n",
      "  'SERIE_CODE': 'TP.GSYIH11.GY.CF',\n",
      "  'SERIE_NAME': 'Diğer hizmet faaliyetleri(Bin TL)',\n",
      "  'SERIE_NAME_ENG': 'Other service activities(Thousand TL)',\n",
      "  'START_DATE': '01-01-1998',\n",
      "  'TAG': 'GSYİH, Gayri, Safi, Yurtiçi, Hasıla',\n",
      "  'TAG_ENG': 'GDP, Gross, Domestic, Product'},\n",
      " {'APP_CHA_LINK': 'http://www.tuik.gov.tr/PreTablo.do?alt_id=115',\n",
      "  'APP_CHA_LINK_ENG': 'http://www.turkstat.gov.tr/PreTablo.do?alt_id=115',\n",
      "  'DATAGROUP_CODE': 'bie_gsyhgycf',\n",
      "  'DATASOURCE': 'TÜİK',\n",
      "  'DATASOURCE_ENG': 'TURKSTAT',\n",
      "  'DEFAULT_AGG_METHOD': 'sum',\n",
      "  'DEFAULT_AGG_METHOD_STR': 'KÜMÜLATİF',\n",
      "  'END_DATE': '01-01-2022',\n",
      "  'FREQUENCY_STR': 'ÜÇ AYLIK',\n",
      "  'METADATA_LINK': 'http://www.tuik.gov.tr/PreTablo.do?alt_id=115',\n",
      "  'METADATA_LINK_ENG': 'http://www.turkstat.gov.tr/PreTablo.do?alt_id=115',\n",
      "  'REV_POL_LINK': 'http://www.tuik.gov.tr/PreTablo.do?alt_id=115',\n",
      "  'REV_POL_LINK_ENG': 'http://www.turkstat.gov.tr/PreTablo.do?alt_id=115',\n",
      "  'SERIE_CODE': 'TP.GSYIH14.GY.CF',\n",
      "  'SERIE_NAME': 'Toplam işgücü ödemeleri(Bin TL)',\n",
      "  'SERIE_NAME_ENG': 'Total compensation of employees(Thousand TL)',\n",
      "  'START_DATE': '01-01-1998',\n",
      "  'TAG': 'GSYİH, Gayri, Safi, Yurtiçi, Hasıla',\n",
      "  'TAG_ENG': 'GDP, Gross, Domestic, Product'},\n",
      " {'APP_CHA_LINK': 'http://www.tuik.gov.tr/PreTablo.do?alt_id=115',\n",
      "  'APP_CHA_LINK_ENG': 'http://www.turkstat.gov.tr/PreTablo.do?alt_id=115',\n",
      "  'DATAGROUP_CODE': 'bie_gsyhgycf',\n",
      "  'DATASOURCE': 'TÜİK',\n",
      "  'DATASOURCE_ENG': 'TURKSTAT',\n",
      "  'DEFAULT_AGG_METHOD': 'sum',\n",
      "  'DEFAULT_AGG_METHOD_STR': 'KÜMÜLATİF',\n",
      "  'END_DATE': '01-01-2022',\n",
      "  'FREQUENCY_STR': 'ÜÇ AYLIK',\n",
      "  'METADATA_LINK': 'http://www.tuik.gov.tr/PreTablo.do?alt_id=115',\n",
      "  'METADATA_LINK_ENG': 'http://www.turkstat.gov.tr/PreTablo.do?alt_id=115',\n",
      "  'REV_POL_LINK': 'http://www.tuik.gov.tr/PreTablo.do?alt_id=115',\n",
      "  'REV_POL_LINK_ENG': 'http://www.turkstat.gov.tr/PreTablo.do?alt_id=115',\n",
      "  'SERIE_CODE': 'TP.GSYIH15.GY.CF',\n",
      "  'SERIE_NAME': 'Üretim üzerindeki net vergiler(Bin TL)',\n",
      "  'SERIE_NAME_ENG': 'Net taxes on production(Thousand TL)',\n",
      "  'START_DATE': '01-01-1998',\n",
      "  'TAG': 'GSYİH, Gayri, Safi, Yurtiçi, Hasıla',\n",
      "  'TAG_ENG': 'GDP, Gross, Domestic, Product'},\n",
      " {'APP_CHA_LINK': 'http://www.tuik.gov.tr/PreTablo.do?alt_id=115',\n",
      "  'APP_CHA_LINK_ENG': 'http://www.turkstat.gov.tr/PreTablo.do?alt_id=115',\n",
      "  'DATAGROUP_CODE': 'bie_gsyhgycf',\n",
      "  'DATASOURCE': 'TÜİK',\n",
      "  'DATASOURCE_ENG': 'TURKSTAT',\n",
      "  'DEFAULT_AGG_METHOD': 'sum',\n",
      "  'DEFAULT_AGG_METHOD_STR': 'KÜMÜLATİF',\n",
      "  'END_DATE': '01-01-2022',\n",
      "  'FREQUENCY_STR': 'ÜÇ AYLIK',\n",
      "  'METADATA_LINK': 'http://www.tuik.gov.tr/PreTablo.do?alt_id=115',\n",
      "  'METADATA_LINK_ENG': 'http://www.turkstat.gov.tr/PreTablo.do?alt_id=115',\n",
      "  'REV_POL_LINK': 'http://www.tuik.gov.tr/PreTablo.do?alt_id=115',\n",
      "  'REV_POL_LINK_ENG': 'http://www.turkstat.gov.tr/PreTablo.do?alt_id=115',\n",
      "  'SERIE_CODE': 'TP.GSYIH16.GY.CF',\n",
      "  'SERIE_NAME': 'Brüt işletme artığı/karma gelir(Bin TL)',\n",
      "  'SERIE_NAME_ENG': 'Gross Operating surplus(Thousand TL)',\n",
      "  'START_DATE': '01-01-1998',\n",
      "  'TAG': 'GSYİH, Gayri, Safi, Yurtiçi, Hasıla',\n",
      "  'TAG_ENG': 'GDP, Gross, Domestic, Product'},\n",
      " {'APP_CHA_LINK': 'http://www.tuik.gov.tr/PreTablo.do?alt_id=115',\n",
      "  'APP_CHA_LINK_ENG': 'http://www.turkstat.gov.tr/PreTablo.do?alt_id=115',\n",
      "  'DATAGROUP_CODE': 'bie_gsyhgycf',\n",
      "  'DATASOURCE': 'TÜİK',\n",
      "  'DATASOURCE_ENG': 'TURKSTAT',\n",
      "  'DEFAULT_AGG_METHOD': 'sum',\n",
      "  'DEFAULT_AGG_METHOD_STR': 'KÜMÜLATİF',\n",
      "  'END_DATE': '01-01-2022',\n",
      "  'FREQUENCY_STR': 'ÜÇ AYLIK',\n",
      "  'METADATA_LINK': 'http://www.tuik.gov.tr/PreTablo.do?alt_id=115',\n",
      "  'METADATA_LINK_ENG': 'http://www.turkstat.gov.tr/PreTablo.do?alt_id=115',\n",
      "  'REV_POL_LINK': 'http://www.tuik.gov.tr/PreTablo.do?alt_id=115',\n",
      "  'REV_POL_LINK_ENG': 'http://www.turkstat.gov.tr/PreTablo.do?alt_id=115',\n",
      "  'SERIE_CODE': 'TP.GSYIH17.GY.CF',\n",
      "  'SERIE_NAME': 'Sabit sermaye tüketimi(Bin TL)',\n",
      "  'SERIE_NAME_ENG': 'Consumption on fixed capital(Thousand TL)',\n",
      "  'START_DATE': '01-01-1998',\n",
      "  'TAG': 'GSYİH, Gayri, Safi, Yurtiçi, Hasıla',\n",
      "  'TAG_ENG': 'GDP, Gross, Domestic, Product'},\n",
      " {'APP_CHA_LINK': 'http://www.tuik.gov.tr/PreTablo.do?alt_id=115',\n",
      "  'APP_CHA_LINK_ENG': 'http://www.turkstat.gov.tr/PreTablo.do?alt_id=115',\n",
      "  'DATAGROUP_CODE': 'bie_gsyhgycf',\n",
      "  'DATASOURCE': 'TÜİK',\n",
      "  'DATASOURCE_ENG': 'TURKSTAT',\n",
      "  'DEFAULT_AGG_METHOD': 'sum',\n",
      "  'DEFAULT_AGG_METHOD_STR': 'KÜMÜLATİF',\n",
      "  'END_DATE': '01-01-2022',\n",
      "  'FREQUENCY_STR': 'ÜÇ AYLIK',\n",
      "  'METADATA_LINK': 'http://www.tuik.gov.tr/PreTablo.do?alt_id=115',\n",
      "  'METADATA_LINK_ENG': 'http://www.turkstat.gov.tr/PreTablo.do?alt_id=115',\n",
      "  'REV_POL_LINK': 'http://www.tuik.gov.tr/PreTablo.do?alt_id=115',\n",
      "  'REV_POL_LINK_ENG': 'http://www.turkstat.gov.tr/PreTablo.do?alt_id=115',\n",
      "  'SERIE_CODE': 'TP.GSYIH18.GY.CF',\n",
      "  'SERIE_NAME': 'Net işletme artığı/karma gelir(Bin TL)',\n",
      "  'SERIE_NAME_ENG': 'Net operating surplus(Thousand TL)',\n",
      "  'START_DATE': '01-01-1998',\n",
      "  'TAG': 'GSYİH, Gayri, Safi, Yurtiçi, Hasıla',\n",
      "  'TAG_ENG': 'GDP, Gross, Domestic, Product'},\n",
      " {'APP_CHA_LINK': 'http://www.tuik.gov.tr/PreTablo.do?alt_id=115',\n",
      "  'APP_CHA_LINK_ENG': 'http://www.turkstat.gov.tr/PreTablo.do?alt_id=115',\n",
      "  'DATAGROUP_CODE': 'bie_gsyhgycf',\n",
      "  'DATASOURCE': 'TÜİK',\n",
      "  'DATASOURCE_ENG': 'TURKSTAT',\n",
      "  'DEFAULT_AGG_METHOD': 'sum',\n",
      "  'DEFAULT_AGG_METHOD_STR': 'KÜMÜLATİF',\n",
      "  'END_DATE': '01-01-2022',\n",
      "  'FREQUENCY_STR': 'ÜÇ AYLIK',\n",
      "  'METADATA_LINK': 'http://www.tuik.gov.tr/PreTablo.do?alt_id=115',\n",
      "  'METADATA_LINK_ENG': 'http://www.turkstat.gov.tr/PreTablo.do?alt_id=115',\n",
      "  'REV_POL_LINK': 'http://www.tuik.gov.tr/PreTablo.do?alt_id=115',\n",
      "  'REV_POL_LINK_ENG': 'http://www.turkstat.gov.tr/PreTablo.do?alt_id=115',\n",
      "  'SERIE_CODE': 'TP.GSYIH19.GY.CF',\n",
      "  'SERIE_NAME': 'Ürün üzerindeki vergiler eksi sübvansiyonlar(Bin TL)',\n",
      "  'SERIE_NAME_ENG': 'Taxes less subsidies on products(Thousand TL)',\n",
      "  'START_DATE': '01-01-1998',\n",
      "  'TAG': 'GSYİH, Gayri, Safi, Yurtiçi, Hasıla',\n",
      "  'TAG_ENG': 'GDP, Gross, Domestic, Product'},\n",
      " {'APP_CHA_LINK': 'http://www.tuik.gov.tr/PreTablo.do?alt_id=115',\n",
      "  'APP_CHA_LINK_ENG': 'http://www.turkstat.gov.tr/PreTablo.do?alt_id=115',\n",
      "  'DATAGROUP_CODE': 'bie_gsyhgycf',\n",
      "  'DATASOURCE': 'TÜİK',\n",
      "  'DATASOURCE_ENG': 'TURKSTAT',\n",
      "  'DEFAULT_AGG_METHOD': 'sum',\n",
      "  'DEFAULT_AGG_METHOD_STR': 'KÜMÜLATİF',\n",
      "  'END_DATE': '01-01-2022',\n",
      "  'FREQUENCY_STR': 'ÜÇ AYLIK',\n",
      "  'METADATA_LINK': 'http://www.tuik.gov.tr/PreTablo.do?alt_id=115',\n",
      "  'METADATA_LINK_ENG': 'http://www.turkstat.gov.tr/PreTablo.do?alt_id=115',\n",
      "  'REV_POL_LINK': 'http://www.tuik.gov.tr/PreTablo.do?alt_id=115',\n",
      "  'REV_POL_LINK_ENG': 'http://www.turkstat.gov.tr/PreTablo.do?alt_id=115',\n",
      "  'SERIE_CODE': 'TP.GSYIH26.GY.CF',\n",
      "  'SERIE_NAME': 'Gayrisafi Yurtiçi Hasıla (Alıcı fiyatlarıyla)(Bin TL)',\n",
      "  'SERIE_NAME_ENG': \"Gross Domestic Product (Purchaser's Price)(Thousand TL)\",\n",
      "  'START_DATE': '01-01-1998',\n",
      "  'TAG': 'GSYİH, Gayri, Safi, Yurtiçi, Hasıla',\n",
      "  'TAG_ENG': 'GDP, Gross, Domestic, Product'}]\n"
     ]
    }
   ],
   "source": [
    "pprint(groups_raw)"
   ]
  },
  {
   "cell_type": "code",
   "execution_count": 30,
   "metadata": {},
   "outputs": [
    {
     "name": "stdout",
     "output_type": "stream",
     "text": [
      "{'TP.GSYIH01.GY.CF': ['bie_gsyhgycf',\n",
      "                      'Tarım, ormancılık ve balıkçılık(Bin TL)',\n",
      "                      'Agriculture, forestry and fishing(Thousand TL)',\n",
      "                      'ÜÇ AYLIK',\n",
      "                      'KÜMÜLATİF',\n",
      "                      'sum',\n",
      "                      'GSYİH, Gayri, Safi, Yurtiçi, Hasıla',\n",
      "                      'GDP, Gross, Domestic, Product',\n",
      "                      'TÜİK',\n",
      "                      'TURKSTAT',\n",
      "                      'http://www.tuik.gov.tr/PreTablo.do?alt_id=115',\n",
      "                      'http://www.turkstat.gov.tr/PreTablo.do?alt_id=115',\n",
      "                      'http://www.tuik.gov.tr/PreTablo.do?alt_id=115',\n",
      "                      'http://www.turkstat.gov.tr/PreTablo.do?alt_id=115',\n",
      "                      'http://www.tuik.gov.tr/PreTablo.do?alt_id=115',\n",
      "                      'http://www.turkstat.gov.tr/PreTablo.do?alt_id=115',\n",
      "                      '01-01-1998',\n",
      "                      '01-01-2022'],\n",
      " 'TP.GSYIH02.GY.CF': ['bie_gsyhgycf',\n",
      "                      'Sanayi(Bin TL)',\n",
      "                      'Industry(Thousand TL)',\n",
      "                      'ÜÇ AYLIK',\n",
      "                      'KÜMÜLATİF',\n",
      "                      'sum',\n",
      "                      'GSYİH, Gayri, Safi, Yurtiçi, Hasıla',\n",
      "                      'GDP, Gross, Domestic, Product',\n",
      "                      'TÜİK',\n",
      "                      'TURKSTAT',\n",
      "                      'http://www.tuik.gov.tr/PreTablo.do?alt_id=115',\n",
      "                      'http://www.turkstat.gov.tr/PreTablo.do?alt_id=115',\n",
      "                      'http://www.tuik.gov.tr/PreTablo.do?alt_id=115',\n",
      "                      'http://www.turkstat.gov.tr/PreTablo.do?alt_id=115',\n",
      "                      'http://www.tuik.gov.tr/PreTablo.do?alt_id=115',\n",
      "                      'http://www.turkstat.gov.tr/PreTablo.do?alt_id=115',\n",
      "                      '01-01-1998',\n",
      "                      '01-01-2022'],\n",
      " 'TP.GSYIH03.GY.CF': ['bie_gsyhgycf',\n",
      "                      'İmalat sanayi(Bin TL)',\n",
      "                      'Manufacturing(Thousand TL)',\n",
      "                      'ÜÇ AYLIK',\n",
      "                      'KÜMÜLATİF',\n",
      "                      'sum',\n",
      "                      'GSYİH, Gayri, Safi, Yurtiçi, Hasıla',\n",
      "                      'GDP, Gross, Domestic, Product',\n",
      "                      'TÜİK',\n",
      "                      'TURKSTAT',\n",
      "                      'http://www.tuik.gov.tr/PreTablo.do?alt_id=115',\n",
      "                      'http://www.turkstat.gov.tr/PreTablo.do?alt_id=115',\n",
      "                      'http://www.tuik.gov.tr/PreTablo.do?alt_id=115',\n",
      "                      'http://www.turkstat.gov.tr/PreTablo.do?alt_id=115',\n",
      "                      'http://www.tuik.gov.tr/PreTablo.do?alt_id=115',\n",
      "                      'http://www.turkstat.gov.tr/PreTablo.do?alt_id=115',\n",
      "                      '01-01-1998',\n",
      "                      '01-01-2022'],\n",
      " 'TP.GSYIH04.GY.CF': ['bie_gsyhgycf',\n",
      "                      'İnşaat(Bin TL)',\n",
      "                      'Construction(Thousand TL)',\n",
      "                      'ÜÇ AYLIK',\n",
      "                      'KÜMÜLATİF',\n",
      "                      'sum',\n",
      "                      'GSYİH, Gayri, Safi, Yurtiçi, Hasıla',\n",
      "                      'GDP, Gross, Domestic, Product',\n",
      "                      'TÜİK',\n",
      "                      'TURKSTAT',\n",
      "                      'http://www.tuik.gov.tr/PreTablo.do?alt_id=115',\n",
      "                      'http://www.turkstat.gov.tr/PreTablo.do?alt_id=115',\n",
      "                      'http://www.tuik.gov.tr/PreTablo.do?alt_id=115',\n",
      "                      'http://www.turkstat.gov.tr/PreTablo.do?alt_id=115',\n",
      "                      'http://www.tuik.gov.tr/PreTablo.do?alt_id=115',\n",
      "                      'http://www.turkstat.gov.tr/PreTablo.do?alt_id=115',\n",
      "                      '01-01-1998',\n",
      "                      '01-01-2022'],\n",
      " 'TP.GSYIH05.GY.CF': ['bie_gsyhgycf',\n",
      "                      'Hizmetler(Bin TL)',\n",
      "                      'Services(Thousand TL)',\n",
      "                      'ÜÇ AYLIK',\n",
      "                      'KÜMÜLATİF',\n",
      "                      'sum',\n",
      "                      'GSYİH, Gayri, Safi, Yurtiçi, Hasıla',\n",
      "                      'GDP, Gross, Domestic, Product',\n",
      "                      'TÜİK',\n",
      "                      'TURKSTAT',\n",
      "                      'http://www.tuik.gov.tr/PreTablo.do?alt_id=115',\n",
      "                      'http://www.turkstat.gov.tr/PreTablo.do?alt_id=115',\n",
      "                      'http://www.tuik.gov.tr/PreTablo.do?alt_id=115',\n",
      "                      'http://www.turkstat.gov.tr/PreTablo.do?alt_id=115',\n",
      "                      'http://www.tuik.gov.tr/PreTablo.do?alt_id=115',\n",
      "                      'http://www.turkstat.gov.tr/PreTablo.do?alt_id=115',\n",
      "                      '01-01-1998',\n",
      "                      '01-01-2022'],\n",
      " 'TP.GSYIH06.GY.CF': ['bie_gsyhgycf',\n",
      "                      'Bilgi ve iletişim(Bin TL)',\n",
      "                      'Information and communication(Thousand TL)',\n",
      "                      'ÜÇ AYLIK',\n",
      "                      'KÜMÜLATİF',\n",
      "                      'sum',\n",
      "                      'GSYİH, Gayri, Safi, Yurtiçi, Hasıla',\n",
      "                      'GDP, Gross, Domestic, Product',\n",
      "                      'TÜİK',\n",
      "                      'TURKSTAT',\n",
      "                      'http://www.tuik.gov.tr/PreTablo.do?alt_id=115',\n",
      "                      'http://www.turkstat.gov.tr/PreTablo.do?alt_id=115',\n",
      "                      'http://www.tuik.gov.tr/PreTablo.do?alt_id=115',\n",
      "                      'http://www.turkstat.gov.tr/PreTablo.do?alt_id=115',\n",
      "                      'http://www.tuik.gov.tr/PreTablo.do?alt_id=115',\n",
      "                      'http://www.turkstat.gov.tr/PreTablo.do?alt_id=115',\n",
      "                      '01-01-1998',\n",
      "                      '01-01-2022'],\n",
      " 'TP.GSYIH07.GY.CF': ['bie_gsyhgycf',\n",
      "                      'Finans ve sigorta faaliyetleri(Bin TL)',\n",
      "                      'Financial and insurance activities(Thousand TL)',\n",
      "                      'ÜÇ AYLIK',\n",
      "                      'KÜMÜLATİF',\n",
      "                      'sum',\n",
      "                      'GSYİH, Gayri, Safi, Yurtiçi, Hasıla',\n",
      "                      'GDP, Gross, Domestic, Product',\n",
      "                      'TÜİK',\n",
      "                      'TURKSTAT',\n",
      "                      'http://www.tuik.gov.tr/PreTablo.do?alt_id=115',\n",
      "                      'http://www.turkstat.gov.tr/PreTablo.do?alt_id=115',\n",
      "                      'http://www.tuik.gov.tr/PreTablo.do?alt_id=115',\n",
      "                      'http://www.turkstat.gov.tr/PreTablo.do?alt_id=115',\n",
      "                      'http://www.tuik.gov.tr/PreTablo.do?alt_id=115',\n",
      "                      'http://www.turkstat.gov.tr/PreTablo.do?alt_id=115',\n",
      "                      '01-01-1998',\n",
      "                      '01-01-2022'],\n",
      " 'TP.GSYIH08.GY.CF': ['bie_gsyhgycf',\n",
      "                      'Gayrimenkul faaliyetleri(Bin TL)',\n",
      "                      'Real estate activities(Thousand TL)',\n",
      "                      'ÜÇ AYLIK',\n",
      "                      'KÜMÜLATİF',\n",
      "                      'sum',\n",
      "                      'GSYİH, Gayri, Safi, Yurtiçi, Hasıla',\n",
      "                      'GDP, Gross, Domestic, Product',\n",
      "                      'TÜİK',\n",
      "                      'TURKSTAT',\n",
      "                      'http://www.tuik.gov.tr/PreTablo.do?alt_id=115',\n",
      "                      'http://www.turkstat.gov.tr/PreTablo.do?alt_id=115',\n",
      "                      'http://www.tuik.gov.tr/PreTablo.do?alt_id=115',\n",
      "                      'http://www.turkstat.gov.tr/PreTablo.do?alt_id=115',\n",
      "                      'http://www.tuik.gov.tr/PreTablo.do?alt_id=115',\n",
      "                      'http://www.turkstat.gov.tr/PreTablo.do?alt_id=115',\n",
      "                      '01-01-1998',\n",
      "                      '01-01-2022'],\n",
      " 'TP.GSYIH09.GY.CF': ['bie_gsyhgycf',\n",
      "                      'Mesleki, idari ve destek hizmet faaliyetleri(Bin TL)',\n",
      "                      'Professional, administrative and support service '\n",
      "                      'activities(Thousand TL)',\n",
      "                      'ÜÇ AYLIK',\n",
      "                      'KÜMÜLATİF',\n",
      "                      'sum',\n",
      "                      'GSYİH, Gayri, Safi, Yurtiçi, Hasıla',\n",
      "                      'GDP, Gross, Domestic, Product',\n",
      "                      'TÜİK',\n",
      "                      'TURKSTAT',\n",
      "                      'http://www.tuik.gov.tr/PreTablo.do?alt_id=115',\n",
      "                      'http://www.turkstat.gov.tr/PreTablo.do?alt_id=115',\n",
      "                      'http://www.tuik.gov.tr/PreTablo.do?alt_id=115',\n",
      "                      'http://www.turkstat.gov.tr/PreTablo.do?alt_id=115',\n",
      "                      'http://www.tuik.gov.tr/PreTablo.do?alt_id=115',\n",
      "                      'http://www.turkstat.gov.tr/PreTablo.do?alt_id=115',\n",
      "                      '01-01-1998',\n",
      "                      '01-01-2022'],\n",
      " 'TP.GSYIH10.GY.CF': ['bie_gsyhgycf',\n",
      "                      'Kamu yönetimi, eğitim, insan sağlığı ve sosyal hizmet '\n",
      "                      'faaliyetleri(Bin TL)',\n",
      "                      'Public administration, education, human health and '\n",
      "                      'social work activities(Thousand TL)',\n",
      "                      'ÜÇ AYLIK',\n",
      "                      'KÜMÜLATİF',\n",
      "                      'sum',\n",
      "                      'GSYİH, Gayri, Safi, Yurtiçi, Hasıla',\n",
      "                      'GDP, Gross, Domestic, Product',\n",
      "                      'TÜİK',\n",
      "                      'TURKSTAT',\n",
      "                      'http://www.tuik.gov.tr/PreTablo.do?alt_id=115',\n",
      "                      'http://www.turkstat.gov.tr/PreTablo.do?alt_id=115',\n",
      "                      'http://www.tuik.gov.tr/PreTablo.do?alt_id=115',\n",
      "                      'http://www.turkstat.gov.tr/PreTablo.do?alt_id=115',\n",
      "                      'http://www.tuik.gov.tr/PreTablo.do?alt_id=115',\n",
      "                      'http://www.turkstat.gov.tr/PreTablo.do?alt_id=115',\n",
      "                      '01-01-1998',\n",
      "                      '01-01-2022'],\n",
      " 'TP.GSYIH11.GY.CF': ['bie_gsyhgycf',\n",
      "                      'Diğer hizmet faaliyetleri(Bin TL)',\n",
      "                      'Other service activities(Thousand TL)',\n",
      "                      'ÜÇ AYLIK',\n",
      "                      'KÜMÜLATİF',\n",
      "                      'sum',\n",
      "                      'GSYİH, Gayri, Safi, Yurtiçi, Hasıla',\n",
      "                      'GDP, Gross, Domestic, Product',\n",
      "                      'TÜİK',\n",
      "                      'TURKSTAT',\n",
      "                      'http://www.tuik.gov.tr/PreTablo.do?alt_id=115',\n",
      "                      'http://www.turkstat.gov.tr/PreTablo.do?alt_id=115',\n",
      "                      'http://www.tuik.gov.tr/PreTablo.do?alt_id=115',\n",
      "                      'http://www.turkstat.gov.tr/PreTablo.do?alt_id=115',\n",
      "                      'http://www.tuik.gov.tr/PreTablo.do?alt_id=115',\n",
      "                      'http://www.turkstat.gov.tr/PreTablo.do?alt_id=115',\n",
      "                      '01-01-1998',\n",
      "                      '01-01-2022'],\n",
      " 'TP.GSYIH14.GY.CF': ['bie_gsyhgycf',\n",
      "                      'Toplam işgücü ödemeleri(Bin TL)',\n",
      "                      'Total compensation of employees(Thousand TL)',\n",
      "                      'ÜÇ AYLIK',\n",
      "                      'KÜMÜLATİF',\n",
      "                      'sum',\n",
      "                      'GSYİH, Gayri, Safi, Yurtiçi, Hasıla',\n",
      "                      'GDP, Gross, Domestic, Product',\n",
      "                      'TÜİK',\n",
      "                      'TURKSTAT',\n",
      "                      'http://www.tuik.gov.tr/PreTablo.do?alt_id=115',\n",
      "                      'http://www.turkstat.gov.tr/PreTablo.do?alt_id=115',\n",
      "                      'http://www.tuik.gov.tr/PreTablo.do?alt_id=115',\n",
      "                      'http://www.turkstat.gov.tr/PreTablo.do?alt_id=115',\n",
      "                      'http://www.tuik.gov.tr/PreTablo.do?alt_id=115',\n",
      "                      'http://www.turkstat.gov.tr/PreTablo.do?alt_id=115',\n",
      "                      '01-01-1998',\n",
      "                      '01-01-2022'],\n",
      " 'TP.GSYIH15.GY.CF': ['bie_gsyhgycf',\n",
      "                      'Üretim üzerindeki net vergiler(Bin TL)',\n",
      "                      'Net taxes on production(Thousand TL)',\n",
      "                      'ÜÇ AYLIK',\n",
      "                      'KÜMÜLATİF',\n",
      "                      'sum',\n",
      "                      'GSYİH, Gayri, Safi, Yurtiçi, Hasıla',\n",
      "                      'GDP, Gross, Domestic, Product',\n",
      "                      'TÜİK',\n",
      "                      'TURKSTAT',\n",
      "                      'http://www.tuik.gov.tr/PreTablo.do?alt_id=115',\n",
      "                      'http://www.turkstat.gov.tr/PreTablo.do?alt_id=115',\n",
      "                      'http://www.tuik.gov.tr/PreTablo.do?alt_id=115',\n",
      "                      'http://www.turkstat.gov.tr/PreTablo.do?alt_id=115',\n",
      "                      'http://www.tuik.gov.tr/PreTablo.do?alt_id=115',\n",
      "                      'http://www.turkstat.gov.tr/PreTablo.do?alt_id=115',\n",
      "                      '01-01-1998',\n",
      "                      '01-01-2022'],\n",
      " 'TP.GSYIH16.GY.CF': ['bie_gsyhgycf',\n",
      "                      'Brüt işletme artığı/karma gelir(Bin TL)',\n",
      "                      'Gross Operating surplus(Thousand TL)',\n",
      "                      'ÜÇ AYLIK',\n",
      "                      'KÜMÜLATİF',\n",
      "                      'sum',\n",
      "                      'GSYİH, Gayri, Safi, Yurtiçi, Hasıla',\n",
      "                      'GDP, Gross, Domestic, Product',\n",
      "                      'TÜİK',\n",
      "                      'TURKSTAT',\n",
      "                      'http://www.tuik.gov.tr/PreTablo.do?alt_id=115',\n",
      "                      'http://www.turkstat.gov.tr/PreTablo.do?alt_id=115',\n",
      "                      'http://www.tuik.gov.tr/PreTablo.do?alt_id=115',\n",
      "                      'http://www.turkstat.gov.tr/PreTablo.do?alt_id=115',\n",
      "                      'http://www.tuik.gov.tr/PreTablo.do?alt_id=115',\n",
      "                      'http://www.turkstat.gov.tr/PreTablo.do?alt_id=115',\n",
      "                      '01-01-1998',\n",
      "                      '01-01-2022'],\n",
      " 'TP.GSYIH17.GY.CF': ['bie_gsyhgycf',\n",
      "                      'Sabit sermaye tüketimi(Bin TL)',\n",
      "                      'Consumption on fixed capital(Thousand TL)',\n",
      "                      'ÜÇ AYLIK',\n",
      "                      'KÜMÜLATİF',\n",
      "                      'sum',\n",
      "                      'GSYİH, Gayri, Safi, Yurtiçi, Hasıla',\n",
      "                      'GDP, Gross, Domestic, Product',\n",
      "                      'TÜİK',\n",
      "                      'TURKSTAT',\n",
      "                      'http://www.tuik.gov.tr/PreTablo.do?alt_id=115',\n",
      "                      'http://www.turkstat.gov.tr/PreTablo.do?alt_id=115',\n",
      "                      'http://www.tuik.gov.tr/PreTablo.do?alt_id=115',\n",
      "                      'http://www.turkstat.gov.tr/PreTablo.do?alt_id=115',\n",
      "                      'http://www.tuik.gov.tr/PreTablo.do?alt_id=115',\n",
      "                      'http://www.turkstat.gov.tr/PreTablo.do?alt_id=115',\n",
      "                      '01-01-1998',\n",
      "                      '01-01-2022'],\n",
      " 'TP.GSYIH18.GY.CF': ['bie_gsyhgycf',\n",
      "                      'Net işletme artığı/karma gelir(Bin TL)',\n",
      "                      'Net operating surplus(Thousand TL)',\n",
      "                      'ÜÇ AYLIK',\n",
      "                      'KÜMÜLATİF',\n",
      "                      'sum',\n",
      "                      'GSYİH, Gayri, Safi, Yurtiçi, Hasıla',\n",
      "                      'GDP, Gross, Domestic, Product',\n",
      "                      'TÜİK',\n",
      "                      'TURKSTAT',\n",
      "                      'http://www.tuik.gov.tr/PreTablo.do?alt_id=115',\n",
      "                      'http://www.turkstat.gov.tr/PreTablo.do?alt_id=115',\n",
      "                      'http://www.tuik.gov.tr/PreTablo.do?alt_id=115',\n",
      "                      'http://www.turkstat.gov.tr/PreTablo.do?alt_id=115',\n",
      "                      'http://www.tuik.gov.tr/PreTablo.do?alt_id=115',\n",
      "                      'http://www.turkstat.gov.tr/PreTablo.do?alt_id=115',\n",
      "                      '01-01-1998',\n",
      "                      '01-01-2022'],\n",
      " 'TP.GSYIH19.GY.CF': ['bie_gsyhgycf',\n",
      "                      'Ürün üzerindeki vergiler eksi sübvansiyonlar(Bin TL)',\n",
      "                      'Taxes less subsidies on products(Thousand TL)',\n",
      "                      'ÜÇ AYLIK',\n",
      "                      'KÜMÜLATİF',\n",
      "                      'sum',\n",
      "                      'GSYİH, Gayri, Safi, Yurtiçi, Hasıla',\n",
      "                      'GDP, Gross, Domestic, Product',\n",
      "                      'TÜİK',\n",
      "                      'TURKSTAT',\n",
      "                      'http://www.tuik.gov.tr/PreTablo.do?alt_id=115',\n",
      "                      'http://www.turkstat.gov.tr/PreTablo.do?alt_id=115',\n",
      "                      'http://www.tuik.gov.tr/PreTablo.do?alt_id=115',\n",
      "                      'http://www.turkstat.gov.tr/PreTablo.do?alt_id=115',\n",
      "                      'http://www.tuik.gov.tr/PreTablo.do?alt_id=115',\n",
      "                      'http://www.turkstat.gov.tr/PreTablo.do?alt_id=115',\n",
      "                      '01-01-1998',\n",
      "                      '01-01-2022'],\n",
      " 'TP.GSYIH26.GY.CF': ['bie_gsyhgycf',\n",
      "                      'Gayrisafi Yurtiçi Hasıla (Alıcı fiyatlarıyla)(Bin TL)',\n",
      "                      \"Gross Domestic Product (Purchaser's Price)(Thousand TL)\",\n",
      "                      'ÜÇ AYLIK',\n",
      "                      'KÜMÜLATİF',\n",
      "                      'sum',\n",
      "                      'GSYİH, Gayri, Safi, Yurtiçi, Hasıla',\n",
      "                      'GDP, Gross, Domestic, Product',\n",
      "                      'TÜİK',\n",
      "                      'TURKSTAT',\n",
      "                      'http://www.tuik.gov.tr/PreTablo.do?alt_id=115',\n",
      "                      'http://www.turkstat.gov.tr/PreTablo.do?alt_id=115',\n",
      "                      'http://www.tuik.gov.tr/PreTablo.do?alt_id=115',\n",
      "                      'http://www.turkstat.gov.tr/PreTablo.do?alt_id=115',\n",
      "                      'http://www.tuik.gov.tr/PreTablo.do?alt_id=115',\n",
      "                      'http://www.turkstat.gov.tr/PreTablo.do?alt_id=115',\n",
      "                      '01-01-1998',\n",
      "                      '01-01-2022']}\n"
     ]
    }
   ],
   "source": [
    "pprint(detailed_dict)"
   ]
  },
  {
   "cell_type": "markdown",
   "metadata": {},
   "source": [
    "#### 1.7. [__Tekil Zaman Serisi İndirme__](https://github.com/syncoding/evdsts/blob/master/docs/manuals/manual_en.md#getting-singular)"
   ]
  },
  {
   "cell_type": "markdown",
   "metadata": {},
   "source": [
    "Tekil zaman serisi indirme `get_series()` metodu ile yapılır."
   ]
  },
  {
   "cell_type": "code",
   "execution_count": 3,
   "metadata": {},
   "outputs": [],
   "source": [
    "usdtry = connector.get_series(\"TP.DK.USD.A.YTL\")"
   ]
  },
  {
   "cell_type": "code",
   "execution_count": 5,
   "metadata": {},
   "outputs": [
    {
     "data": {
      "text/html": [
       "<div>\n",
       "<style scoped>\n",
       "    .dataframe tbody tr th:only-of-type {\n",
       "        vertical-align: middle;\n",
       "    }\n",
       "\n",
       "    .dataframe tbody tr th {\n",
       "        vertical-align: top;\n",
       "    }\n",
       "\n",
       "    .dataframe thead th {\n",
       "        text-align: right;\n",
       "    }\n",
       "</style>\n",
       "<table border=\"1\" class=\"dataframe\">\n",
       "  <thead>\n",
       "    <tr style=\"text-align: right;\">\n",
       "      <th></th>\n",
       "      <th>USDTRY</th>\n",
       "    </tr>\n",
       "    <tr>\n",
       "      <th>Date</th>\n",
       "      <th></th>\n",
       "    </tr>\n",
       "  </thead>\n",
       "  <tbody>\n",
       "    <tr>\n",
       "      <th>2022-08-19</th>\n",
       "      <td>17.9688</td>\n",
       "    </tr>\n",
       "  </tbody>\n",
       "</table>\n",
       "</div>"
      ],
      "text/plain": [
       "             USDTRY\n",
       "Date               \n",
       "2022-08-19  17.9688"
      ]
     },
     "execution_count": 5,
     "metadata": {},
     "output_type": "execute_result"
    }
   ],
   "source": [
    "usdtry"
   ]
  },
  {
   "cell_type": "markdown",
   "metadata": {},
   "source": [
    "`get_series()` metoduna başka hiçbir parametre verilmeden sadece seri ismi verildiğinde döndürülen sonuç,\n",
    "ilgili serinin en güncel değeridir. Aksi istenmediği müddetçe metotdan döndürülen verinin sınıfı pandas\n",
    "`DataFrame` olacaktır."
   ]
  },
  {
   "cell_type": "markdown",
   "metadata": {},
   "source": [
    "İstenen seriler için başlangıç ve bitiş tarihleri, `get_series()` metodunun `start_date` ve `end_date`\n",
    "parametreleri ile verilir. Bu parametrelerin herhangi biri sağlanmadığında değer güncel tarihe eşit\n",
    "olmaktadır. `get_series()`'e sadece `start_date` parametresi verilmesi durumunda `end_date`, güncel\n",
    "tarihe eşit olacak ve döndürülen veri; verilen başlangıç tarihinden, içinde bulunulan güncel tarihe\n",
    "kadarki periyodu kapsayan bir seri olacaktır."
   ]
  },
  {
   "cell_type": "markdown",
   "metadata": {},
   "source": [
    "`start_date` (ve sonradan değinilecek olan `end_date`) aşağıdaki şekillerden biriyle verilebilir.\n",
    "\n",
    "1. `g.a.y` -> 01.07.2022 ya da 1.7.2022\n",
    "2. `g-a-y` -> 01-07-2022 ya da 1-7-2022\n",
    "3. `g/a/y` -> 01/07/2022 ya da 1/7/2022\n",
    "4. Python `datetime` nesnesi -> datetime(2022, 7, 1)\n",
    "5. pandas `Timestamp` nesnesi -> pd.Timestamp(2002, 7, 1)"
   ]
  },
  {
   "cell_type": "code",
   "execution_count": 6,
   "metadata": {},
   "outputs": [],
   "source": [
    "# 'end_date' parametresi verilmediği için aşağıdaki tüm örnekler için 'end_date' güncel tarihe eşit olacaktır\n",
    "\n",
    "# string tipi tarihler\n",
    "usdtry = connector.get_series(\"TP.DK.USD.A.YTL\", start_date=\"1.7.2022\")  # OK\n",
    "usdtry = connector.get_series(\"TP.DK.USD.A.YTL\", start_date=\"1-7-2022\")  # OK\n",
    "usdtry = connector.get_series(\"TP.DK.USD.A.YTL\", start_date=\"1/7/2022\")  # OK\n",
    "\n",
    "# datetime sınıfları\n",
    "from datetime import datetime\n",
    "from pandas import Timestamp\n",
    "\n",
    "# datetime nesneleri\n",
    "d_date = datetime(2022, 7, 1)\n",
    "p_date = Timestamp(2022, 7, 1)\n",
    "\n",
    "usdtry = connector.get_series(\"TP.DK.USD.A.YTL\", start_date=d_date)  # OK\n",
    "usdtry = connector.get_series(\"TP.DK.USD.A.YTL\", start_date=p_date)  # OK"
   ]
  },
  {
   "cell_type": "code",
   "execution_count": 7,
   "metadata": {},
   "outputs": [
    {
     "data": {
      "text/html": [
       "<div>\n",
       "<style scoped>\n",
       "    .dataframe tbody tr th:only-of-type {\n",
       "        vertical-align: middle;\n",
       "    }\n",
       "\n",
       "    .dataframe tbody tr th {\n",
       "        vertical-align: top;\n",
       "    }\n",
       "\n",
       "    .dataframe thead th {\n",
       "        text-align: right;\n",
       "    }\n",
       "</style>\n",
       "<table border=\"1\" class=\"dataframe\">\n",
       "  <thead>\n",
       "    <tr style=\"text-align: right;\">\n",
       "      <th></th>\n",
       "      <th>USDTRY</th>\n",
       "    </tr>\n",
       "    <tr>\n",
       "      <th>Date</th>\n",
       "      <th></th>\n",
       "    </tr>\n",
       "  </thead>\n",
       "  <tbody>\n",
       "    <tr>\n",
       "      <th>2022-08-15</th>\n",
       "      <td>17.936600</td>\n",
       "    </tr>\n",
       "    <tr>\n",
       "      <th>2022-08-16</th>\n",
       "      <td>17.941099</td>\n",
       "    </tr>\n",
       "    <tr>\n",
       "      <th>2022-08-17</th>\n",
       "      <td>17.941999</td>\n",
       "    </tr>\n",
       "    <tr>\n",
       "      <th>2022-08-18</th>\n",
       "      <td>17.941099</td>\n",
       "    </tr>\n",
       "    <tr>\n",
       "      <th>2022-08-19</th>\n",
       "      <td>17.968800</td>\n",
       "    </tr>\n",
       "  </tbody>\n",
       "</table>\n",
       "</div>"
      ],
      "text/plain": [
       "               USDTRY\n",
       "Date                 \n",
       "2022-08-15  17.936600\n",
       "2022-08-16  17.941099\n",
       "2022-08-17  17.941999\n",
       "2022-08-18  17.941099\n",
       "2022-08-19  17.968800"
      ]
     },
     "execution_count": 7,
     "metadata": {},
     "output_type": "execute_result"
    }
   ],
   "source": [
    "usdtry.tail(5)"
   ]
  },
  {
   "cell_type": "markdown",
   "metadata": {},
   "source": [
    "`end_date` aynı tip parametreleri kabul eder ve alınacak verinin son tarihinin ne olacağını belirtir.\n",
    "Eğer herhangi bir değer sağlanmaz ise `end_date` güncel tarihe eşitlenir."
   ]
  },
  {
   "cell_type": "code",
   "execution_count": 8,
   "metadata": {},
   "outputs": [],
   "source": [
    "# 'end_date' parametresi verilmediği için otomatik olarak güncel tarihe eşit olacak.\n",
    "usdtry = connector.get_series(\"TP.DK.USD.A.YTL\", start_date=\"1.7.2022\")\n",
    "\n",
    "# 2022 Haziran ayına ait USDTRY serisi.\n",
    "usdtry = connector.get_series(\"TP.DK.USD.A.YTL\", start_date=\"01.06.2022\", end_date=\"30.06.2022\")"
   ]
  },
  {
   "cell_type": "code",
   "execution_count": 9,
   "metadata": {},
   "outputs": [
    {
     "data": {
      "text/plain": [
       "(             USDTRY\n",
       " Date               \n",
       " 2022-06-01  16.3876,\n",
       "                USDTRY\n",
       " Date                 \n",
       " 2022-06-30  16.669001)"
      ]
     },
     "execution_count": 9,
     "metadata": {},
     "output_type": "execute_result"
    }
   ],
   "source": [
    "usdtry.head(1), usdtry.tail(1)"
   ]
  },
  {
   "cell_type": "markdown",
   "metadata": {},
   "source": [
    "Alternatif olarak `get_series()` metodunun `period` parametresini kullanabilirsiniz. `period`, veri\n",
    "indirmek istediğiniz aralığı ifade eden bir string değer alır."
   ]
  },
  {
   "cell_type": "markdown",
   "metadata": {},
   "source": [
    "|period belirteci   | örnek parametre | anlamı                                 |\n",
    "|-------------------|-------------------|---------------------------------------|\n",
    "| `d` veya `g`        |    `27g` veya `27d` | 27 gün önceden -  bugüne       |\n",
    "| `w` veya `h`        |   `19h` veya `19w`  | 19 hafta önceden - bugüne       |\n",
    "| `m` veya `a`        |   `2a` veya `2m`    | 2 ay önceden - bugüne       |\n",
    "| `y`                 |   `27y`           | 27 yıl önceden - bugüne       |"
   ]
  },
  {
   "cell_type": "code",
   "execution_count": 5,
   "metadata": {},
   "outputs": [],
   "source": [
    "# son 10 günlük aralıkta günlük USDTRY serisi\n",
    "usdtry = connector.get_series(\"TP.DK.USD.A.YTL\", period=\"10g\")"
   ]
  },
  {
   "cell_type": "code",
   "execution_count": 6,
   "metadata": {},
   "outputs": [
    {
     "data": {
      "text/plain": [
       "(               USDTRY\n",
       " Date                 \n",
       " 2022-08-17  17.941999,\n",
       "                USDTRY\n",
       " Date                 \n",
       " 2022-08-26  18.146601)"
      ]
     },
     "execution_count": 6,
     "metadata": {},
     "output_type": "execute_result"
    }
   ],
   "source": [
    "usdtry.head(1), usdtry.tail(1)"
   ]
  },
  {
   "cell_type": "code",
   "execution_count": null,
   "metadata": {},
   "outputs": [],
   "source": [
    "# son 2 haftalık aralıkta günlük USDTRY serisi\n",
    "usdtry = connector.get_series(\"TP.DK.USD.A.YTL\", period=\"2h\")"
   ]
  },
  {
   "cell_type": "code",
   "execution_count": 7,
   "metadata": {},
   "outputs": [
    {
     "data": {
      "text/plain": [
       "(               USDTRY\n",
       " Date                 \n",
       " 2022-08-17  17.941999,\n",
       "                USDTRY\n",
       " Date                 \n",
       " 2022-08-26  18.146601)"
      ]
     },
     "execution_count": 7,
     "metadata": {},
     "output_type": "execute_result"
    }
   ],
   "source": [
    "usdtry.head(1), usdtry.tail(1)"
   ]
  },
  {
   "cell_type": "code",
   "execution_count": 10,
   "metadata": {},
   "outputs": [],
   "source": [
    "# son 1 aylık aralıkta günlük USDTRY serisi\n",
    "usdtry = connector.get_series(\"TP.DK.USD.A.YTL\", period=\"1a\")"
   ]
  },
  {
   "cell_type": "code",
   "execution_count": 11,
   "metadata": {},
   "outputs": [
    {
     "data": {
      "text/plain": [
       "(             USDTRY\n",
       " Date               \n",
       " 2022-07-27  17.8335,\n",
       "                USDTRY\n",
       " Date                 \n",
       " 2022-08-26  18.146601)"
      ]
     },
     "execution_count": 11,
     "metadata": {},
     "output_type": "execute_result"
    }
   ],
   "source": [
    "usdtry.head(1), usdtry.tail(1)"
   ]
  },
  {
   "cell_type": "code",
   "execution_count": null,
   "metadata": {},
   "outputs": [],
   "source": [
    "# son 2 yıllık aralıkta günlük USDTRY serisi\n",
    "usdtry = connector.get_series(\"TP.DK.USD.A.YTL\", period=\"2y\")"
   ]
  },
  {
   "cell_type": "code",
   "execution_count": 12,
   "metadata": {},
   "outputs": [
    {
     "data": {
      "text/plain": [
       "(             USDTRY\n",
       " Date               \n",
       " 2022-07-27  17.8335,\n",
       "                USDTRY\n",
       " Date                 \n",
       " 2022-08-26  18.146601)"
      ]
     },
     "execution_count": 12,
     "metadata": {},
     "output_type": "execute_result"
    }
   ],
   "source": [
    "usdtry.head(1), usdtry.tail(1)"
   ]
  },
  {
   "cell_type": "markdown",
   "metadata": {},
   "source": [
    ">`start_date` veya `end_date` ve `period` parametrelerinin birlikte kullanılması belirsiz bir istek doğuracağından bu\n",
    "> parametrelerin birlikte kullanılamayacağına dikkat edin."
   ]
  },
  {
   "cell_type": "code",
   "execution_count": 13,
   "metadata": {},
   "outputs": [
    {
     "ename": "AmbiguousFunctionParameterException",
     "evalue": "start_date and/or end_date and period parameters can not be provided at the same time.\nPlease use either start_date and end_date parameters or just period parameter.",
     "output_type": "error",
     "traceback": [
      "\u001b[1;31m---------------------------------------------------------------------------\u001b[0m",
      "\u001b[1;31mAmbiguousFunctionParameterException\u001b[0m       Traceback (most recent call last)",
      "\u001b[1;32mg:\\My Drive\\Dev\\Active\\evdsts\\ornekler.ipynb Cell 82\u001b[0m in \u001b[0;36m<cell line: 3>\u001b[1;34m()\u001b[0m\n\u001b[0;32m      <a href='vscode-notebook-cell:/g%3A/My%20Drive/Dev/Active/evdsts/ornekler.ipynb#Z1031sZmlsZQ%3D%3D?line=0'>1</a>\u001b[0m \u001b[39m# this raises the AmbiguousFunctionParameterException since these parameters can not be used together\u001b[39;00m\n\u001b[1;32m----> <a href='vscode-notebook-cell:/g%3A/My%20Drive/Dev/Active/evdsts/ornekler.ipynb#Z1031sZmlsZQ%3D%3D?line=2'>3</a>\u001b[0m usdtry \u001b[39m=\u001b[39m connector\u001b[39m.\u001b[39;49mget_series(\u001b[39m\"\u001b[39;49m\u001b[39mTP.DK.USD.A.YTL\u001b[39;49m\u001b[39m\"\u001b[39;49m, period\u001b[39m=\u001b[39;49m\u001b[39m\"\u001b[39;49m\u001b[39m2y\u001b[39;49m\u001b[39m\"\u001b[39;49m, start_date\u001b[39m=\u001b[39;49m\u001b[39m\"\u001b[39;49m\u001b[39m01.01.2020\u001b[39;49m\u001b[39m\"\u001b[39;49m)\n",
      "File \u001b[1;32mg:\\My Drive\\Dev\\Active\\evdsts\\evdsts\\base\\connecting.py:1635\u001b[0m, in \u001b[0;36mConnector.get_series\u001b[1;34m(self, series, start_date, end_date, period, aggregations, transformations, keep_originals, frequency, new_names, keep_references, time_series, ascending, raw, as_dict, convert_to_bd)\u001b[0m\n\u001b[0;32m   1632\u001b[0m     new_names, _ \u001b[39m=\u001b[39m \u001b[39mself\u001b[39m\u001b[39m.\u001b[39m_parse_series_names(new_names, check_references\u001b[39m=\u001b[39m\u001b[39mFalse\u001b[39;00m)\n\u001b[0;32m   1633\u001b[0m     new_names_1 \u001b[39m=\u001b[39m [name \u001b[39mfor\u001b[39;00m idx, name \u001b[39min\u001b[39;00m \u001b[39menumerate\u001b[39m(new_names) \u001b[39mif\u001b[39;00m idx \u001b[39m>\u001b[39m\u001b[39m=\u001b[39m \u001b[39mlen\u001b[39m(new_names) \u001b[39m/\u001b[39m \u001b[39m2\u001b[39m]\n\u001b[1;32m-> 1635\u001b[0m result: pd\u001b[39m.\u001b[39mDataFrame \u001b[39m=\u001b[39m \u001b[39mself\u001b[39;49m\u001b[39m.\u001b[39;49m_get_series(\n\u001b[0;32m   1636\u001b[0m     series\u001b[39m=\u001b[39;49mseries,\n\u001b[0;32m   1637\u001b[0m     start_date\u001b[39m=\u001b[39;49mstart_date,\n\u001b[0;32m   1638\u001b[0m     end_date\u001b[39m=\u001b[39;49mend_date,\n\u001b[0;32m   1639\u001b[0m     period\u001b[39m=\u001b[39;49mperiod,\n\u001b[0;32m   1640\u001b[0m     aggregations\u001b[39m=\u001b[39;49maggregations,\n\u001b[0;32m   1641\u001b[0m     transformations\u001b[39m=\u001b[39;49mtransformations,\n\u001b[0;32m   1642\u001b[0m     keep_originals\u001b[39m=\u001b[39;49mkeep_originals,\n\u001b[0;32m   1643\u001b[0m     frequency\u001b[39m=\u001b[39;49mfrequency,\n\u001b[0;32m   1644\u001b[0m     new_names\u001b[39m=\u001b[39;49mnew_names_1 \u001b[39mif\u001b[39;49;00m new_names_1 \u001b[39melse\u001b[39;49;00m new_names,\n\u001b[0;32m   1645\u001b[0m     keep_references\u001b[39m=\u001b[39;49mkeep_references,\n\u001b[0;32m   1646\u001b[0m     time_series\u001b[39m=\u001b[39;49mtime_series,\n\u001b[0;32m   1647\u001b[0m     ascending\u001b[39m=\u001b[39;49mascending,\n\u001b[0;32m   1648\u001b[0m     convert_to_bd\u001b[39m=\u001b[39;49mconvert_to_bd\n\u001b[0;32m   1649\u001b[0m )\n\u001b[0;32m   1651\u001b[0m \u001b[39m# any other operations needed.\u001b[39;00m\n\u001b[0;32m   1652\u001b[0m \u001b[39mif\u001b[39;00m aggregations \u001b[39mand\u001b[39;00m keep_originals \u001b[39mand\u001b[39;00m time_series \u001b[39mand\u001b[39;00m new_names:\n",
      "File \u001b[1;32mg:\\My Drive\\Dev\\Active\\evdsts\\evdsts\\base\\connecting.py:1068\u001b[0m, in \u001b[0;36mConnector._get_series\u001b[1;34m(self, series, start_date, end_date, period, aggregations, transformations, keep_originals, frequency, new_names, keep_references, time_series, ascending, convert_to_bd)\u001b[0m\n\u001b[0;32m   1065\u001b[0m str_series: \u001b[39mstr\u001b[39m \u001b[39m=\u001b[39m join_sequentials(series)\n\u001b[0;32m   1067\u001b[0m \u001b[39mif\u001b[39;00m period \u001b[39mand\u001b[39;00m (start_date \u001b[39mor\u001b[39;00m end_date):\n\u001b[1;32m-> 1068\u001b[0m     \u001b[39mraise\u001b[39;00m AmbiguousFunctionParameterException(\n\u001b[0;32m   1069\u001b[0m         \u001b[39m\"\u001b[39m\u001b[39mstart_date and/or end_date and period parameters can not be provided at the same \u001b[39m\u001b[39m\"\u001b[39m\n\u001b[0;32m   1070\u001b[0m         \u001b[39m\"\u001b[39m\u001b[39mtime.\u001b[39m\u001b[39m\\n\u001b[39;00m\u001b[39mPlease use either start_date and end_date parameters or just period \u001b[39m\u001b[39m\"\u001b[39m\n\u001b[0;32m   1071\u001b[0m         \u001b[39m\"\u001b[39m\u001b[39mparameter.\u001b[39m\u001b[39m\"\u001b[39m\n\u001b[0;32m   1072\u001b[0m     )\n\u001b[0;32m   1074\u001b[0m \u001b[39mif\u001b[39;00m period:\n\u001b[0;32m   1075\u001b[0m     start_date, end_date \u001b[39m=\u001b[39m get_period(period)\n",
      "\u001b[1;31mAmbiguousFunctionParameterException\u001b[0m: start_date and/or end_date and period parameters can not be provided at the same time.\nPlease use either start_date and end_date parameters or just period parameter."
     ]
    }
   ],
   "source": [
    "# bu, AmbiguousFunctionParameterException hatası döndürür cunku 'period' diger tarih parametreleri\n",
    "# ile birlikte kullanilamaz\n",
    "\n",
    "usdtry = connector.get_series(\"TP.DK.USD.A.YTL\", period=\"2y\", start_date=\"01.01.2020\")"
   ]
  },
  {
   "cell_type": "markdown",
   "metadata": {},
   "source": [
    "#### 1.8. [__Çoğul Zaman Serisi İndirme__](https://github.com/syncoding/evdsts/blob/master/docs/manuals/manual_en.md#getting-multi)"
   ]
  },
  {
   "cell_type": "markdown",
   "metadata": {},
   "source": [
    "`evdsts` ile çoğul zaman serisi indirme, aşağıdaki şekillerden biri ile yapılabilir.\n",
    "\n",
    "1. seriler `get_series()` metoduna `List` ya da `Tuple` nesneleri içindeki `string`ler olarak verilebilir.\n",
    "2. seriler `get_series()` metoduna virgülle ayrılmış `string`ler olarak verilebilir.\n",
    "3. seriler `get_series()` metoduna boşlukla ayrılmış `string`ler olarak verilebilir."
   ]
  },
  {
   "cell_type": "code",
   "execution_count": 10,
   "metadata": {},
   "outputs": [],
   "source": [
    "# list ya da tuple\n",
    "series = [\"TP.DK.USD.A.YTL\", \"TP.DK.EUR.A.YTL\"]\n",
    "exchange_rates = connector.get_series(series,                              # OK\n",
    "                                      start_date=\"01.06.2022\",\n",
    "                                      end_date=\"07.06.2022\")\n",
    "\n",
    "# virgülle ayrılmis stringler\n",
    "exchange_rates = connector.get_series(\"TP.DK.USD.A.YTL, TP.DK.EUR.A.YTL\",  # OK\n",
    "                                      start_date=\"01.06.2022\",\n",
    "                                      end_date=\"07.06.2022\")\n",
    "\n",
    "# boslukla ayrilmis stringler\n",
    "exchange_rates = connector.get_series(\"TP.DK.USD.A.YTL TP.DK.EUR.A.YTL\",   # OK\n",
    "                                      start_date=\"01.06.2022\",\n",
    "                                      end_date=\"07.06.2022\")"
   ]
  },
  {
   "cell_type": "code",
   "execution_count": 11,
   "metadata": {},
   "outputs": [
    {
     "data": {
      "text/html": [
       "<div>\n",
       "<style scoped>\n",
       "    .dataframe tbody tr th:only-of-type {\n",
       "        vertical-align: middle;\n",
       "    }\n",
       "\n",
       "    .dataframe tbody tr th {\n",
       "        vertical-align: top;\n",
       "    }\n",
       "\n",
       "    .dataframe thead th {\n",
       "        text-align: right;\n",
       "    }\n",
       "</style>\n",
       "<table border=\"1\" class=\"dataframe\">\n",
       "  <thead>\n",
       "    <tr style=\"text-align: right;\">\n",
       "      <th></th>\n",
       "      <th>USDTRY</th>\n",
       "      <th>EURTRY</th>\n",
       "    </tr>\n",
       "    <tr>\n",
       "      <th>Date</th>\n",
       "      <th></th>\n",
       "      <th></th>\n",
       "    </tr>\n",
       "  </thead>\n",
       "  <tbody>\n",
       "    <tr>\n",
       "      <th>2022-06-03</th>\n",
       "      <td>16.438999</td>\n",
       "      <td>17.5700</td>\n",
       "    </tr>\n",
       "    <tr>\n",
       "      <th>2022-06-04</th>\n",
       "      <td>NaN</td>\n",
       "      <td>NaN</td>\n",
       "    </tr>\n",
       "    <tr>\n",
       "      <th>2022-06-05</th>\n",
       "      <td>NaN</td>\n",
       "      <td>NaN</td>\n",
       "    </tr>\n",
       "    <tr>\n",
       "      <th>2022-06-06</th>\n",
       "      <td>16.476500</td>\n",
       "      <td>17.7066</td>\n",
       "    </tr>\n",
       "    <tr>\n",
       "      <th>2022-06-07</th>\n",
       "      <td>16.558800</td>\n",
       "      <td>17.7785</td>\n",
       "    </tr>\n",
       "  </tbody>\n",
       "</table>\n",
       "</div>"
      ],
      "text/plain": [
       "               USDTRY   EURTRY\n",
       "Date                          \n",
       "2022-06-03  16.438999  17.5700\n",
       "2022-06-04        NaN      NaN\n",
       "2022-06-05        NaN      NaN\n",
       "2022-06-06  16.476500  17.7066\n",
       "2022-06-07  16.558800  17.7785"
      ]
     },
     "execution_count": 11,
     "metadata": {},
     "output_type": "execute_result"
    }
   ],
   "source": [
    "exchange_rates.tail(5)"
   ]
  },
  {
   "cell_type": "markdown",
   "metadata": {},
   "source": [
    "### 2. [__Gelişmiş Özellikler__](https://github.com/syncoding/evdsts/blob/master/docs/manuals/manual_en.md#the-advanced-1)"
   ]
  },
  {
   "cell_type": "markdown",
   "metadata": {},
   "source": [
    "Bu bölümde `evdsts`'nin bazı gelişmiş özelliklerine bakacağız."
   ]
  },
  {
   "cell_type": "markdown",
   "metadata": {},
   "source": [
    "#### 2.1. [__Zaman Serisi İndekslemesi__](https://github.com/syncoding/evdsts/blob/master/docs/manuals/manual_en.md#ts-indexing)"
   ]
  },
  {
   "cell_type": "markdown",
   "metadata": {},
   "source": [
    "`evdsts`, EVDS'den alınan bütün serileri gerçek zaman serilerine dönüştürür. Bu davranış, `get_series()`\n",
    "metodunun `time_series` parametresi ile kontrol edilir ve `True` ya da `False` olarak ayarlanabilir.\n",
    "Ön tanımlı değer `True` olarak atanmıştır."
   ]
  },
  {
   "cell_type": "code",
   "execution_count": 12,
   "metadata": {},
   "outputs": [],
   "source": [
    "# Bu cagri geri dondurulen 'DataFrame' nesnesinin gercek bir zaman serisi olmasini istemiyor.\n",
    "usdtry = connector.get_series(\"TP.DK.USD.A.YTL\",\n",
    "                              start_date=\"01.06.2022\",\n",
    "                              end_date=\"30.06.2022\",\n",
    "                              time_series=False)"
   ]
  },
  {
   "cell_type": "code",
   "execution_count": 13,
   "metadata": {},
   "outputs": [
    {
     "data": {
      "text/html": [
       "<div>\n",
       "<style scoped>\n",
       "    .dataframe tbody tr th:only-of-type {\n",
       "        vertical-align: middle;\n",
       "    }\n",
       "\n",
       "    .dataframe tbody tr th {\n",
       "        vertical-align: top;\n",
       "    }\n",
       "\n",
       "    .dataframe thead th {\n",
       "        text-align: right;\n",
       "    }\n",
       "</style>\n",
       "<table border=\"1\" class=\"dataframe\">\n",
       "  <thead>\n",
       "    <tr style=\"text-align: right;\">\n",
       "      <th></th>\n",
       "      <th>Date</th>\n",
       "      <th>TP_DK_USD_A_YTL</th>\n",
       "    </tr>\n",
       "  </thead>\n",
       "  <tbody>\n",
       "    <tr>\n",
       "      <th>0</th>\n",
       "      <td>01-06-2022</td>\n",
       "      <td>16.387600</td>\n",
       "    </tr>\n",
       "    <tr>\n",
       "      <th>1</th>\n",
       "      <td>02-06-2022</td>\n",
       "      <td>16.412701</td>\n",
       "    </tr>\n",
       "    <tr>\n",
       "      <th>2</th>\n",
       "      <td>03-06-2022</td>\n",
       "      <td>16.438999</td>\n",
       "    </tr>\n",
       "    <tr>\n",
       "      <th>3</th>\n",
       "      <td>04-06-2022</td>\n",
       "      <td>NaN</td>\n",
       "    </tr>\n",
       "    <tr>\n",
       "      <th>4</th>\n",
       "      <td>05-06-2022</td>\n",
       "      <td>NaN</td>\n",
       "    </tr>\n",
       "  </tbody>\n",
       "</table>\n",
       "</div>"
      ],
      "text/plain": [
       "         Date  TP_DK_USD_A_YTL\n",
       "0  01-06-2022        16.387600\n",
       "1  02-06-2022        16.412701\n",
       "2  03-06-2022        16.438999\n",
       "3  04-06-2022              NaN\n",
       "4  05-06-2022              NaN"
      ]
     },
     "execution_count": 13,
     "metadata": {},
     "output_type": "execute_result"
    }
   ],
   "source": [
    "usdtry.head(5)"
   ]
  },
  {
   "cell_type": "markdown",
   "metadata": {},
   "source": [
    "Yukarıdaki serinin indeksine dikkat ederseniz `0`'dan başlıyor ve temsil ettiği zamandan bağımsızmış gibi duruyor."
   ]
  },
  {
   "cell_type": "markdown",
   "metadata": {},
   "source": [
    "> __Zaman serisi endekslemesinin kapatılması birçok yararlı özelliğin de kaybolmasına neden olacağından\n",
    ">eğer özellikle gerekmiyorsa zaman serisi indekslemesini açık olarak tutmalısınız.__"
   ]
  },
  {
   "cell_type": "markdown",
   "metadata": {},
   "source": [
    "Zaman serisi indekslemesi, bize seriden aşağıdaki gibi kesitler almamızı sağlar.  \n",
    "\n",
    "`usdtry`'den 1 Haziran 2022 - 7 Haziran 2022 tarihlerini kapsayan bir kesit alalım."
   ]
  },
  {
   "cell_type": "code",
   "execution_count": 14,
   "metadata": {},
   "outputs": [],
   "source": [
    "usdtry = connector.get_series(\"TP.DK.USD.A.YTL\",\n",
    "                              start_date=\"01.06.2022\",\n",
    "                              end_date=\"30.06.2022\")"
   ]
  },
  {
   "cell_type": "code",
   "execution_count": 15,
   "metadata": {},
   "outputs": [],
   "source": [
    "usdtry_slice = usdtry.loc[\"2022-06-01\": \"2022-06-07\"]"
   ]
  },
  {
   "cell_type": "code",
   "execution_count": 16,
   "metadata": {},
   "outputs": [
    {
     "data": {
      "text/html": [
       "<div>\n",
       "<style scoped>\n",
       "    .dataframe tbody tr th:only-of-type {\n",
       "        vertical-align: middle;\n",
       "    }\n",
       "\n",
       "    .dataframe tbody tr th {\n",
       "        vertical-align: top;\n",
       "    }\n",
       "\n",
       "    .dataframe thead th {\n",
       "        text-align: right;\n",
       "    }\n",
       "</style>\n",
       "<table border=\"1\" class=\"dataframe\">\n",
       "  <thead>\n",
       "    <tr style=\"text-align: right;\">\n",
       "      <th></th>\n",
       "      <th>USDTRY</th>\n",
       "    </tr>\n",
       "    <tr>\n",
       "      <th>Date</th>\n",
       "      <th></th>\n",
       "    </tr>\n",
       "  </thead>\n",
       "  <tbody>\n",
       "    <tr>\n",
       "      <th>2022-06-01</th>\n",
       "      <td>16.387600</td>\n",
       "    </tr>\n",
       "    <tr>\n",
       "      <th>2022-06-02</th>\n",
       "      <td>16.412701</td>\n",
       "    </tr>\n",
       "    <tr>\n",
       "      <th>2022-06-03</th>\n",
       "      <td>16.438999</td>\n",
       "    </tr>\n",
       "    <tr>\n",
       "      <th>2022-06-04</th>\n",
       "      <td>NaN</td>\n",
       "    </tr>\n",
       "    <tr>\n",
       "      <th>2022-06-05</th>\n",
       "      <td>NaN</td>\n",
       "    </tr>\n",
       "    <tr>\n",
       "      <th>2022-06-06</th>\n",
       "      <td>16.476500</td>\n",
       "    </tr>\n",
       "    <tr>\n",
       "      <th>2022-06-07</th>\n",
       "      <td>16.558800</td>\n",
       "    </tr>\n",
       "  </tbody>\n",
       "</table>\n",
       "</div>"
      ],
      "text/plain": [
       "               USDTRY\n",
       "Date                 \n",
       "2022-06-01  16.387600\n",
       "2022-06-02  16.412701\n",
       "2022-06-03  16.438999\n",
       "2022-06-04        NaN\n",
       "2022-06-05        NaN\n",
       "2022-06-06  16.476500\n",
       "2022-06-07  16.558800"
      ]
     },
     "execution_count": 16,
     "metadata": {},
     "output_type": "execute_result"
    }
   ],
   "source": [
    "usdtry_slice"
   ]
  },
  {
   "cell_type": "markdown",
   "metadata": {},
   "source": [
    "Burada zaman serisi indekslemesinin bir avantajını görüyoruz. EVDS'den dönen 0-n tabanlı indekste\n",
    "01-07 Haziran 2022 tarihlerinin hangi indeks numarasına denk geldiğini bilmeksizin sadece istediğimiz\n",
    "tarihleri kullanarak seriden bir kesit alabildik.  \n",
    "\n",
    "Benzer şekilde, `usdtry` serimiz için belirli bir tarihte (15.06.2022) yapısal kırılma olabileceğini\n",
    "düşündüğümüzü varsayalım."
   ]
  },
  {
   "cell_type": "code",
   "execution_count": 17,
   "metadata": {},
   "outputs": [],
   "source": [
    "structural_break = datetime(2022, 6, 15)\n",
    "usdtry_after_break = usdtry.loc[usdtry.index > structural_break]\n",
    "usdtry_before_break = usdtry.loc[usdtry.index <= structural_break]"
   ]
  },
  {
   "cell_type": "code",
   "execution_count": 18,
   "metadata": {},
   "outputs": [
    {
     "data": {
      "text/html": [
       "<div>\n",
       "<style scoped>\n",
       "    .dataframe tbody tr th:only-of-type {\n",
       "        vertical-align: middle;\n",
       "    }\n",
       "\n",
       "    .dataframe tbody tr th {\n",
       "        vertical-align: top;\n",
       "    }\n",
       "\n",
       "    .dataframe thead th {\n",
       "        text-align: right;\n",
       "    }\n",
       "</style>\n",
       "<table border=\"1\" class=\"dataframe\">\n",
       "  <thead>\n",
       "    <tr style=\"text-align: right;\">\n",
       "      <th></th>\n",
       "      <th>USDTRY</th>\n",
       "    </tr>\n",
       "    <tr>\n",
       "      <th>Date</th>\n",
       "      <th></th>\n",
       "    </tr>\n",
       "  </thead>\n",
       "  <tbody>\n",
       "    <tr>\n",
       "      <th>2022-06-01</th>\n",
       "      <td>16.387600</td>\n",
       "    </tr>\n",
       "    <tr>\n",
       "      <th>2022-06-02</th>\n",
       "      <td>16.412701</td>\n",
       "    </tr>\n",
       "    <tr>\n",
       "      <th>2022-06-03</th>\n",
       "      <td>16.438999</td>\n",
       "    </tr>\n",
       "    <tr>\n",
       "      <th>2022-06-04</th>\n",
       "      <td>NaN</td>\n",
       "    </tr>\n",
       "    <tr>\n",
       "      <th>2022-06-05</th>\n",
       "      <td>NaN</td>\n",
       "    </tr>\n",
       "    <tr>\n",
       "      <th>2022-06-06</th>\n",
       "      <td>16.476500</td>\n",
       "    </tr>\n",
       "    <tr>\n",
       "      <th>2022-06-07</th>\n",
       "      <td>16.558800</td>\n",
       "    </tr>\n",
       "    <tr>\n",
       "      <th>2022-06-08</th>\n",
       "      <td>16.708401</td>\n",
       "    </tr>\n",
       "    <tr>\n",
       "      <th>2022-06-09</th>\n",
       "      <td>17.092501</td>\n",
       "    </tr>\n",
       "    <tr>\n",
       "      <th>2022-06-10</th>\n",
       "      <td>17.198500</td>\n",
       "    </tr>\n",
       "    <tr>\n",
       "      <th>2022-06-11</th>\n",
       "      <td>NaN</td>\n",
       "    </tr>\n",
       "    <tr>\n",
       "      <th>2022-06-12</th>\n",
       "      <td>NaN</td>\n",
       "    </tr>\n",
       "    <tr>\n",
       "      <th>2022-06-13</th>\n",
       "      <td>17.058901</td>\n",
       "    </tr>\n",
       "    <tr>\n",
       "      <th>2022-06-14</th>\n",
       "      <td>17.234400</td>\n",
       "    </tr>\n",
       "    <tr>\n",
       "      <th>2022-06-15</th>\n",
       "      <td>17.234301</td>\n",
       "    </tr>\n",
       "  </tbody>\n",
       "</table>\n",
       "</div>"
      ],
      "text/plain": [
       "               USDTRY\n",
       "Date                 \n",
       "2022-06-01  16.387600\n",
       "2022-06-02  16.412701\n",
       "2022-06-03  16.438999\n",
       "2022-06-04        NaN\n",
       "2022-06-05        NaN\n",
       "2022-06-06  16.476500\n",
       "2022-06-07  16.558800\n",
       "2022-06-08  16.708401\n",
       "2022-06-09  17.092501\n",
       "2022-06-10  17.198500\n",
       "2022-06-11        NaN\n",
       "2022-06-12        NaN\n",
       "2022-06-13  17.058901\n",
       "2022-06-14  17.234400\n",
       "2022-06-15  17.234301"
      ]
     },
     "execution_count": 18,
     "metadata": {},
     "output_type": "execute_result"
    }
   ],
   "source": [
    "usdtry_before_break"
   ]
  },
  {
   "cell_type": "code",
   "execution_count": 19,
   "metadata": {},
   "outputs": [
    {
     "data": {
      "text/html": [
       "<div>\n",
       "<style scoped>\n",
       "    .dataframe tbody tr th:only-of-type {\n",
       "        vertical-align: middle;\n",
       "    }\n",
       "\n",
       "    .dataframe tbody tr th {\n",
       "        vertical-align: top;\n",
       "    }\n",
       "\n",
       "    .dataframe thead th {\n",
       "        text-align: right;\n",
       "    }\n",
       "</style>\n",
       "<table border=\"1\" class=\"dataframe\">\n",
       "  <thead>\n",
       "    <tr style=\"text-align: right;\">\n",
       "      <th></th>\n",
       "      <th>USDTRY</th>\n",
       "    </tr>\n",
       "    <tr>\n",
       "      <th>Date</th>\n",
       "      <th></th>\n",
       "    </tr>\n",
       "  </thead>\n",
       "  <tbody>\n",
       "    <tr>\n",
       "      <th>2022-06-16</th>\n",
       "      <td>17.256800</td>\n",
       "    </tr>\n",
       "    <tr>\n",
       "      <th>2022-06-17</th>\n",
       "      <td>17.288000</td>\n",
       "    </tr>\n",
       "    <tr>\n",
       "      <th>2022-06-18</th>\n",
       "      <td>NaN</td>\n",
       "    </tr>\n",
       "    <tr>\n",
       "      <th>2022-06-19</th>\n",
       "      <td>NaN</td>\n",
       "    </tr>\n",
       "    <tr>\n",
       "      <th>2022-06-20</th>\n",
       "      <td>17.290501</td>\n",
       "    </tr>\n",
       "    <tr>\n",
       "      <th>2022-06-21</th>\n",
       "      <td>17.311300</td>\n",
       "    </tr>\n",
       "    <tr>\n",
       "      <th>2022-06-22</th>\n",
       "      <td>17.316799</td>\n",
       "    </tr>\n",
       "    <tr>\n",
       "      <th>2022-06-23</th>\n",
       "      <td>17.330099</td>\n",
       "    </tr>\n",
       "    <tr>\n",
       "      <th>2022-06-24</th>\n",
       "      <td>17.347000</td>\n",
       "    </tr>\n",
       "    <tr>\n",
       "      <th>2022-06-25</th>\n",
       "      <td>NaN</td>\n",
       "    </tr>\n",
       "    <tr>\n",
       "      <th>2022-06-26</th>\n",
       "      <td>NaN</td>\n",
       "    </tr>\n",
       "    <tr>\n",
       "      <th>2022-06-27</th>\n",
       "      <td>17.347799</td>\n",
       "    </tr>\n",
       "    <tr>\n",
       "      <th>2022-06-28</th>\n",
       "      <td>16.646000</td>\n",
       "    </tr>\n",
       "    <tr>\n",
       "      <th>2022-06-29</th>\n",
       "      <td>16.618900</td>\n",
       "    </tr>\n",
       "    <tr>\n",
       "      <th>2022-06-30</th>\n",
       "      <td>16.669001</td>\n",
       "    </tr>\n",
       "  </tbody>\n",
       "</table>\n",
       "</div>"
      ],
      "text/plain": [
       "               USDTRY\n",
       "Date                 \n",
       "2022-06-16  17.256800\n",
       "2022-06-17  17.288000\n",
       "2022-06-18        NaN\n",
       "2022-06-19        NaN\n",
       "2022-06-20  17.290501\n",
       "2022-06-21  17.311300\n",
       "2022-06-22  17.316799\n",
       "2022-06-23  17.330099\n",
       "2022-06-24  17.347000\n",
       "2022-06-25        NaN\n",
       "2022-06-26        NaN\n",
       "2022-06-27  17.347799\n",
       "2022-06-28  16.646000\n",
       "2022-06-29  16.618900\n",
       "2022-06-30  16.669001"
      ]
     },
     "execution_count": 19,
     "metadata": {},
     "output_type": "execute_result"
    }
   ],
   "source": [
    "usdtry_after_break"
   ]
  },
  {
   "cell_type": "markdown",
   "metadata": {},
   "source": [
    "Böylece serimizi yapısal kırılmadan önce ve sonra serileri olmak üzere kolayca ikiye böldük.\n",
    "\n",
    "Ya da oluşturacağımız bir kukla değişken için serimizden sadece `Pazartesi` günlerine ait değerleri\n",
    "almak istediğimizi düşünelim. Zaman serisi indekslemesi olmasaydı hangi günlerin Pazartesi günlerine\n",
    "denk geldiğini tek tek tespit edip buna göre bir kesit almamız gerekecekti. Zaman serisi indekslemesi\n",
    "bunu aşağıdaki gibi kolayca yapabilmeye olanak tanır."
   ]
  },
  {
   "cell_type": "code",
   "execution_count": 20,
   "metadata": {},
   "outputs": [],
   "source": [
    "# day of week -> Pazartesi: 0 - Pazar: 6\n",
    "usdtry_mondays = usdtry.loc[usdtry.index.day_of_week == 0]"
   ]
  },
  {
   "cell_type": "code",
   "execution_count": 21,
   "metadata": {},
   "outputs": [
    {
     "data": {
      "text/html": [
       "<div>\n",
       "<style scoped>\n",
       "    .dataframe tbody tr th:only-of-type {\n",
       "        vertical-align: middle;\n",
       "    }\n",
       "\n",
       "    .dataframe tbody tr th {\n",
       "        vertical-align: top;\n",
       "    }\n",
       "\n",
       "    .dataframe thead th {\n",
       "        text-align: right;\n",
       "    }\n",
       "</style>\n",
       "<table border=\"1\" class=\"dataframe\">\n",
       "  <thead>\n",
       "    <tr style=\"text-align: right;\">\n",
       "      <th></th>\n",
       "      <th>USDTRY</th>\n",
       "    </tr>\n",
       "    <tr>\n",
       "      <th>Date</th>\n",
       "      <th></th>\n",
       "    </tr>\n",
       "  </thead>\n",
       "  <tbody>\n",
       "    <tr>\n",
       "      <th>2022-06-06</th>\n",
       "      <td>16.476500</td>\n",
       "    </tr>\n",
       "    <tr>\n",
       "      <th>2022-06-13</th>\n",
       "      <td>17.058901</td>\n",
       "    </tr>\n",
       "    <tr>\n",
       "      <th>2022-06-20</th>\n",
       "      <td>17.290501</td>\n",
       "    </tr>\n",
       "    <tr>\n",
       "      <th>2022-06-27</th>\n",
       "      <td>17.347799</td>\n",
       "    </tr>\n",
       "  </tbody>\n",
       "</table>\n",
       "</div>"
      ],
      "text/plain": [
       "               USDTRY\n",
       "Date                 \n",
       "2022-06-06  16.476500\n",
       "2022-06-13  17.058901\n",
       "2022-06-20  17.290501\n",
       "2022-06-27  17.347799"
      ]
     },
     "execution_count": 21,
     "metadata": {},
     "output_type": "execute_result"
    }
   ],
   "source": [
    "usdtry_mondays"
   ]
  },
  {
   "cell_type": "markdown",
   "metadata": {},
   "source": [
    "`Pazartesi` günleri için kukla değişkenimizi oluşturalım:"
   ]
  },
  {
   "cell_type": "code",
   "execution_count": null,
   "metadata": {},
   "outputs": [],
   "source": [
    "import pandas as pd\n",
    "\n",
    "# serimiz\n",
    "usdtry = connector.get_series(\"TP.DK.USD.A.YTL\",\n",
    "                              start_date=\"01.06.2022\",\n",
    "                              end_date=\"30.06.2022\")\n",
    "\n",
    "# sadece Pazartesi günleri\n",
    "usdtry_mondays = usdtry.loc[usdtry.index.day_of_week == 0]\n",
    "\n",
    "dummy_monday = pd.DataFrame(index=usdtry.index)\n",
    "dummy_monday = dummy_monday.combine_first(usdtry_mondays)\n",
    "dummy_monday = dummy_monday.fillna(0)\n",
    "dummy_monday[dummy_monday > 0] = 1"
   ]
  },
  {
   "cell_type": "code",
   "execution_count": 42,
   "metadata": {},
   "outputs": [
    {
     "data": {
      "text/html": [
       "<div>\n",
       "<style scoped>\n",
       "    .dataframe tbody tr th:only-of-type {\n",
       "        vertical-align: middle;\n",
       "    }\n",
       "\n",
       "    .dataframe tbody tr th {\n",
       "        vertical-align: top;\n",
       "    }\n",
       "\n",
       "    .dataframe thead th {\n",
       "        text-align: right;\n",
       "    }\n",
       "</style>\n",
       "<table border=\"1\" class=\"dataframe\">\n",
       "  <thead>\n",
       "    <tr style=\"text-align: right;\">\n",
       "      <th></th>\n",
       "      <th>USDTRY</th>\n",
       "    </tr>\n",
       "    <tr>\n",
       "      <th>Date</th>\n",
       "      <th></th>\n",
       "    </tr>\n",
       "  </thead>\n",
       "  <tbody>\n",
       "    <tr>\n",
       "      <th>2022-06-01</th>\n",
       "      <td>0.0</td>\n",
       "    </tr>\n",
       "    <tr>\n",
       "      <th>2022-06-02</th>\n",
       "      <td>0.0</td>\n",
       "    </tr>\n",
       "    <tr>\n",
       "      <th>2022-06-03</th>\n",
       "      <td>0.0</td>\n",
       "    </tr>\n",
       "    <tr>\n",
       "      <th>2022-06-04</th>\n",
       "      <td>0.0</td>\n",
       "    </tr>\n",
       "    <tr>\n",
       "      <th>2022-06-05</th>\n",
       "      <td>0.0</td>\n",
       "    </tr>\n",
       "    <tr>\n",
       "      <th>2022-06-06</th>\n",
       "      <td>1.0</td>\n",
       "    </tr>\n",
       "    <tr>\n",
       "      <th>2022-06-07</th>\n",
       "      <td>0.0</td>\n",
       "    </tr>\n",
       "    <tr>\n",
       "      <th>2022-06-08</th>\n",
       "      <td>0.0</td>\n",
       "    </tr>\n",
       "    <tr>\n",
       "      <th>2022-06-09</th>\n",
       "      <td>0.0</td>\n",
       "    </tr>\n",
       "    <tr>\n",
       "      <th>2022-06-10</th>\n",
       "      <td>0.0</td>\n",
       "    </tr>\n",
       "    <tr>\n",
       "      <th>2022-06-11</th>\n",
       "      <td>0.0</td>\n",
       "    </tr>\n",
       "    <tr>\n",
       "      <th>2022-06-12</th>\n",
       "      <td>0.0</td>\n",
       "    </tr>\n",
       "    <tr>\n",
       "      <th>2022-06-13</th>\n",
       "      <td>1.0</td>\n",
       "    </tr>\n",
       "    <tr>\n",
       "      <th>2022-06-14</th>\n",
       "      <td>0.0</td>\n",
       "    </tr>\n",
       "    <tr>\n",
       "      <th>2022-06-15</th>\n",
       "      <td>0.0</td>\n",
       "    </tr>\n",
       "    <tr>\n",
       "      <th>2022-06-16</th>\n",
       "      <td>0.0</td>\n",
       "    </tr>\n",
       "    <tr>\n",
       "      <th>2022-06-17</th>\n",
       "      <td>0.0</td>\n",
       "    </tr>\n",
       "    <tr>\n",
       "      <th>2022-06-18</th>\n",
       "      <td>0.0</td>\n",
       "    </tr>\n",
       "    <tr>\n",
       "      <th>2022-06-19</th>\n",
       "      <td>0.0</td>\n",
       "    </tr>\n",
       "    <tr>\n",
       "      <th>2022-06-20</th>\n",
       "      <td>1.0</td>\n",
       "    </tr>\n",
       "    <tr>\n",
       "      <th>2022-06-21</th>\n",
       "      <td>0.0</td>\n",
       "    </tr>\n",
       "    <tr>\n",
       "      <th>2022-06-22</th>\n",
       "      <td>0.0</td>\n",
       "    </tr>\n",
       "    <tr>\n",
       "      <th>2022-06-23</th>\n",
       "      <td>0.0</td>\n",
       "    </tr>\n",
       "    <tr>\n",
       "      <th>2022-06-24</th>\n",
       "      <td>0.0</td>\n",
       "    </tr>\n",
       "    <tr>\n",
       "      <th>2022-06-25</th>\n",
       "      <td>0.0</td>\n",
       "    </tr>\n",
       "    <tr>\n",
       "      <th>2022-06-26</th>\n",
       "      <td>0.0</td>\n",
       "    </tr>\n",
       "    <tr>\n",
       "      <th>2022-06-27</th>\n",
       "      <td>1.0</td>\n",
       "    </tr>\n",
       "    <tr>\n",
       "      <th>2022-06-28</th>\n",
       "      <td>0.0</td>\n",
       "    </tr>\n",
       "    <tr>\n",
       "      <th>2022-06-29</th>\n",
       "      <td>0.0</td>\n",
       "    </tr>\n",
       "    <tr>\n",
       "      <th>2022-06-30</th>\n",
       "      <td>0.0</td>\n",
       "    </tr>\n",
       "  </tbody>\n",
       "</table>\n",
       "</div>"
      ],
      "text/plain": [
       "            USDTRY\n",
       "Date              \n",
       "2022-06-01     0.0\n",
       "2022-06-02     0.0\n",
       "2022-06-03     0.0\n",
       "2022-06-04     0.0\n",
       "2022-06-05     0.0\n",
       "2022-06-06     1.0\n",
       "2022-06-07     0.0\n",
       "2022-06-08     0.0\n",
       "2022-06-09     0.0\n",
       "2022-06-10     0.0\n",
       "2022-06-11     0.0\n",
       "2022-06-12     0.0\n",
       "2022-06-13     1.0\n",
       "2022-06-14     0.0\n",
       "2022-06-15     0.0\n",
       "2022-06-16     0.0\n",
       "2022-06-17     0.0\n",
       "2022-06-18     0.0\n",
       "2022-06-19     0.0\n",
       "2022-06-20     1.0\n",
       "2022-06-21     0.0\n",
       "2022-06-22     0.0\n",
       "2022-06-23     0.0\n",
       "2022-06-24     0.0\n",
       "2022-06-25     0.0\n",
       "2022-06-26     0.0\n",
       "2022-06-27     1.0\n",
       "2022-06-28     0.0\n",
       "2022-06-29     0.0\n",
       "2022-06-30     0.0"
      ]
     },
     "execution_count": 42,
     "metadata": {},
     "output_type": "execute_result"
    }
   ],
   "source": [
    "dummy_monday"
   ]
  },
  {
   "cell_type": "markdown",
   "metadata": {},
   "source": [
    "Başka bir örnek olarak, indirdiğimiz zaman serilerinden yıllık kesitler alalım."
   ]
  },
  {
   "cell_type": "code",
   "execution_count": 43,
   "metadata": {},
   "outputs": [],
   "source": [
    "usdtry = connector.get_series(\"TP.DK.USD.A.YTL\",\n",
    "                              start_date=\"01.01.2020\",\n",
    "                              end_date=\"31.12.2021\")\n",
    "\n",
    "# maybe we need data just belongs to 2020.\n",
    "usd_20 = usdtry.loc[\"2020\"]\n",
    "\n",
    "# or maybe between 2020 and 2021.\n",
    "usd_21_22 = usdtry.loc[\"2020\": \"2021\"]"
   ]
  },
  {
   "cell_type": "code",
   "execution_count": 44,
   "metadata": {},
   "outputs": [
    {
     "data": {
      "text/plain": [
       "(            USDTRY\n",
       " Date              \n",
       " 2020-01-01     NaN,\n",
       "             USDTRY\n",
       " Date              \n",
       " 2020-12-31  7.3405)"
      ]
     },
     "execution_count": 44,
     "metadata": {},
     "output_type": "execute_result"
    }
   ],
   "source": [
    "usd_20.head(1), usd_20.tail(1)"
   ]
  },
  {
   "cell_type": "code",
   "execution_count": 45,
   "metadata": {},
   "outputs": [
    {
     "data": {
      "text/plain": [
       "(            USDTRY\n",
       " Date              \n",
       " 2020-01-01     NaN,\n",
       "              USDTRY\n",
       " Date               \n",
       " 2021-12-31  12.9775)"
      ]
     },
     "execution_count": 45,
     "metadata": {},
     "output_type": "execute_result"
    }
   ],
   "source": [
    "usd_21_22.head(1), usd_21_22.tail(1)"
   ]
  },
  {
   "cell_type": "markdown",
   "metadata": {},
   "source": [
    "Burada `evdsts`'nin gerçek zaman serisi indekslemesinin birçok avantajından sadece birkaçını gördük.\n",
    "Bunlar gerçek zaman serileriyle çalışırken yapabileceklerinizin sadece çok küçük bir kesitini\n",
    "oluşturuyordu. Gerçek zaman serileriyle çalışmak üzere daha fazla bilgi edinmek için\n",
    "[Pandas Zaman Serileri](https://pandas.pydata.org/pandas-docs/stable/user_guide/timeseries.html)\n",
    "sayfasını ziyaret edip bilgi edinebilirsiniz."
   ]
  },
  {
   "cell_type": "markdown",
   "metadata": {},
   "source": [
    "#### 2.2. [__İstenen Zaman Serileri İçin Farklı Frekanslar Seçme__](https://github.com/syncoding/evdsts/blob/master/docs/manuals/manual_en.md#selecting-different-frequency)"
   ]
  },
  {
   "cell_type": "markdown",
   "metadata": {},
   "source": [
    "API servisinden istediğiniz zaman serileri için farklı frekanslar, `get_series()` metodunun `frequency`\n",
    "parametresi ile verilir. Tanımlanmış tüm frekansları görmek için `Connector` nesnesinin\n",
    "`show_frequency_references()` metodunu kullanabilirsiniz."
   ]
  },
  {
   "cell_type": "code",
   "execution_count": 46,
   "metadata": {},
   "outputs": [
    {
     "name": "stdout",
     "output_type": "stream",
     "text": [
      "                 References Table                 \n",
      "--------------------------------------------------\n",
      "Reference Name Represents -> Original Frequency Names on EVDS\n",
      "--------------------------------------------------\n",
      "default or level or 0   ---> \n",
      "daily or D or 1         ---> 1\n",
      "bdaily or B or 2        ---> 2\n",
      "weekly or W or 3        ---> 3\n",
      "semimonthly or SM or 4  ---> 4\n",
      "monthly or M or 5       ---> 5\n",
      "quarterly or Q or 6     ---> 6\n",
      "semiyearly or 6M or 7   ---> 7\n",
      "yearly or Y or 8        ---> 8\n",
      "--------------------------------------------------\n",
      "\n",
      "\n"
     ]
    }
   ],
   "source": [
    "connector.show_frequency_references()"
   ]
  },
  {
   "cell_type": "markdown",
   "metadata": {},
   "source": [
    "Orijinali günlük olarak gözlemlenen `usdtry` serisini, `iş günü` frekansında indirelim. Yukarıdaki tabloya\n",
    "göre bunu yapabilmek için `frequency` parametresine; `bdaily`, `B` ya da `2` değeri atamanız gerekiyor."
   ]
  },
  {
   "cell_type": "code",
   "execution_count": 47,
   "metadata": {},
   "outputs": [],
   "source": [
    "usdtry = connector.get_series(\"TP.DK.USD.A.YTL\",\n",
    "                              start_date=\"01.01.2020\",\n",
    "                              end_date=\"31.12.2021\",\n",
    "                              frequency=\"bdaily\")"
   ]
  },
  {
   "cell_type": "code",
   "execution_count": 48,
   "metadata": {},
   "outputs": [
    {
     "data": {
      "text/html": [
       "<div>\n",
       "<style scoped>\n",
       "    .dataframe tbody tr th:only-of-type {\n",
       "        vertical-align: middle;\n",
       "    }\n",
       "\n",
       "    .dataframe tbody tr th {\n",
       "        vertical-align: top;\n",
       "    }\n",
       "\n",
       "    .dataframe thead th {\n",
       "        text-align: right;\n",
       "    }\n",
       "</style>\n",
       "<table border=\"1\" class=\"dataframe\">\n",
       "  <thead>\n",
       "    <tr style=\"text-align: right;\">\n",
       "      <th></th>\n",
       "      <th>USDTRY</th>\n",
       "    </tr>\n",
       "    <tr>\n",
       "      <th>Date</th>\n",
       "      <th></th>\n",
       "    </tr>\n",
       "  </thead>\n",
       "  <tbody>\n",
       "    <tr>\n",
       "      <th>2021-12-23</th>\n",
       "      <td>12.4535</td>\n",
       "    </tr>\n",
       "    <tr>\n",
       "      <th>2021-12-24</th>\n",
       "      <td>11.4508</td>\n",
       "    </tr>\n",
       "    <tr>\n",
       "      <th>2021-12-27</th>\n",
       "      <td>11.7278</td>\n",
       "    </tr>\n",
       "    <tr>\n",
       "      <th>2021-12-28</th>\n",
       "      <td>11.3900</td>\n",
       "    </tr>\n",
       "    <tr>\n",
       "      <th>2021-12-29</th>\n",
       "      <td>11.8302</td>\n",
       "    </tr>\n",
       "    <tr>\n",
       "      <th>2021-12-30</th>\n",
       "      <td>12.2219</td>\n",
       "    </tr>\n",
       "    <tr>\n",
       "      <th>2021-12-31</th>\n",
       "      <td>12.9775</td>\n",
       "    </tr>\n",
       "  </tbody>\n",
       "</table>\n",
       "</div>"
      ],
      "text/plain": [
       "             USDTRY\n",
       "Date               \n",
       "2021-12-23  12.4535\n",
       "2021-12-24  11.4508\n",
       "2021-12-27  11.7278\n",
       "2021-12-28  11.3900\n",
       "2021-12-29  11.8302\n",
       "2021-12-30  12.2219\n",
       "2021-12-31  12.9775"
      ]
     },
     "execution_count": 48,
     "metadata": {},
     "output_type": "execute_result"
    }
   ],
   "source": [
    "usdtry.tail(7)"
   ]
  },
  {
   "cell_type": "markdown",
   "metadata": {},
   "source": [
    "Hücre çıktısında gördüğünüz gibi haftasonlarına denk gelen tarihler seriden dışlandı."
   ]
  },
  {
   "cell_type": "markdown",
   "metadata": {},
   "source": [
    "> Bu frekans için haftasonlarına denk gelmeyen resmi tatil günlerinin `NaN` olarak ifade edileceğini\n",
    "> unutmayın."
   ]
  },
  {
   "cell_type": "markdown",
   "metadata": {},
   "source": [
    "Aynı seriyi aynı tarih aralığında bu sefer `haftalık` frekansta isteyelim."
   ]
  },
  {
   "cell_type": "code",
   "execution_count": 49,
   "metadata": {},
   "outputs": [],
   "source": [
    "usdtry = connector.get_series(\"TP.DK.USD.A.YTL\",\n",
    "                              start_date=\"01.01.2020\",\n",
    "                              end_date=\"31.12.2021\",\n",
    "                              frequency=\"W\")"
   ]
  },
  {
   "cell_type": "code",
   "execution_count": 50,
   "metadata": {},
   "outputs": [
    {
     "data": {
      "text/html": [
       "<div>\n",
       "<style scoped>\n",
       "    .dataframe tbody tr th:only-of-type {\n",
       "        vertical-align: middle;\n",
       "    }\n",
       "\n",
       "    .dataframe tbody tr th {\n",
       "        vertical-align: top;\n",
       "    }\n",
       "\n",
       "    .dataframe thead th {\n",
       "        text-align: right;\n",
       "    }\n",
       "</style>\n",
       "<table border=\"1\" class=\"dataframe\">\n",
       "  <thead>\n",
       "    <tr style=\"text-align: right;\">\n",
       "      <th></th>\n",
       "      <th>USDTRY</th>\n",
       "    </tr>\n",
       "    <tr>\n",
       "      <th>Date</th>\n",
       "      <th></th>\n",
       "    </tr>\n",
       "  </thead>\n",
       "  <tbody>\n",
       "    <tr>\n",
       "      <th>2021-12-03</th>\n",
       "      <td>12.88396</td>\n",
       "    </tr>\n",
       "    <tr>\n",
       "      <th>2021-12-10</th>\n",
       "      <td>13.69762</td>\n",
       "    </tr>\n",
       "    <tr>\n",
       "      <th>2021-12-17</th>\n",
       "      <td>14.42048</td>\n",
       "    </tr>\n",
       "    <tr>\n",
       "      <th>2021-12-24</th>\n",
       "      <td>14.14716</td>\n",
       "    </tr>\n",
       "    <tr>\n",
       "      <th>2021-12-31</th>\n",
       "      <td>12.02948</td>\n",
       "    </tr>\n",
       "  </tbody>\n",
       "</table>\n",
       "</div>"
      ],
      "text/plain": [
       "              USDTRY\n",
       "Date                \n",
       "2021-12-03  12.88396\n",
       "2021-12-10  13.69762\n",
       "2021-12-17  14.42048\n",
       "2021-12-24  14.14716\n",
       "2021-12-31  12.02948"
      ]
     },
     "execution_count": 50,
     "metadata": {},
     "output_type": "execute_result"
    }
   ],
   "source": [
    "usdtry.tail(5)"
   ]
  },
  {
   "cell_type": "markdown",
   "metadata": {},
   "source": [
    "#### 2.3. [__İstenen Zaman Serileri İçin Dönüşüm Fonksiyon(ları) Seçme__](https://github.com/syncoding/evdsts/blob/master/docs/manuals/manual_en.md#selecting-transformation)"
   ]
  },
  {
   "cell_type": "markdown",
   "metadata": {},
   "source": [
    "EVDS'den veri indirilirken bir takım tanımlı dönüşüm fonksiyonları veri indirilmeden önce serilere\n",
    "uygulanabilir. Bu dönüşüm fonksiyonları `get_series()` metodunun `transformations` parametresi ile\n",
    "verilir. EVDS tarafında tanımlı tüm dönüşüm fonksiyonlarını görebilmek için `Connector` nesnesinin\n",
    "`show_transformation_references()` metodunu kullanabilirsiniz."
   ]
  },
  {
   "cell_type": "code",
   "execution_count": 51,
   "metadata": {},
   "outputs": [
    {
     "name": "stdout",
     "output_type": "stream",
     "text": [
      "                 References Table                 \n",
      "--------------------------------------------------\n",
      "Reference Name Represents -> Original Transformation Function Names on EVDS\n",
      "--------------------------------------------------\n",
      "level or 0              ---> 0\n",
      "percent or 1            ---> 1\n",
      "diff or 2               ---> 2\n",
      "ypercent or 3           ---> 3\n",
      "ydiff or 4              ---> 4\n",
      "ytdpercent or 5         ---> 5\n",
      "ytddiff or 6            ---> 6\n",
      "mov or 7                ---> 7\n",
      "movsum or 8             ---> 8\n",
      "--------------------------------------------------\n",
      "\n",
      "\n"
     ]
    }
   ],
   "source": [
    "connector.show_transformation_references()"
   ]
  },
  {
   "cell_type": "markdown",
   "metadata": {},
   "source": [
    "Yukarıdaki tabloda gösterilen dönüşüm fonksiyonlarının açıklamaları:  \n",
    "\n",
    "Identifications of transformation functions given on above table are:  \n",
    "\n",
    "|   parameter       |   açıklama                                             |\n",
    "|:-----------------:|-----------------------------------------------------------|\n",
    "| `level`           |    _Düzey Serileri_                                         |\n",
    "| `percent`         |    _Yüzde (return) Serileri_                           |\n",
    "| `diff`            |    _Fark Serileri_                                    |\n",
    "| `ypercent`        |    _Yıllık Yüzde (return) Serileri_                    |\n",
    "| `ydiff`           |    _Yıllık Fark Serileri_                             |\n",
    "| `ytdpercent`      |    _Yıl başından bu yana (seçili end_date'e kadar) Yüzde (return) Serileri_   |\n",
    "| `ytddiff`         |    _Yıl başından bu yana (seçili end_date'e kadar) Fark Serileri_            |\n",
    "| `mov`             |    _Hareketli Ortalama Serileri_                                |\n",
    "| `movsum`          |    _Hareketli Toplam Serileri_                                    |"
   ]
  },
  {
   "cell_type": "markdown",
   "metadata": {},
   "source": [
    "Örnek olarak orijinali günlük olarak gözlemlenmiş serimizi haftalık frekansta isteyelim ve bu isteğe\n",
    "ayrıca yüzde (return) serilerini de dönüşüm fonksiyonu olarak ekleyelim."
   ]
  },
  {
   "cell_type": "code",
   "execution_count": 52,
   "metadata": {},
   "outputs": [],
   "source": [
    "usdtry = connector.get_series(\"TP.DK.USD.A.YTL\",\n",
    "                              start_date=\"01.01.2021\",\n",
    "                              end_date=\"31.12.2021\",\n",
    "                              frequency=\"W\",\n",
    "                              transformations=\"percent\")\n",
    "\n",
    "# Döndürülen seriler: Haftalik frekansta USDTRY ve USDTRY% olacak.\n",
    "# USDTRY% = (USDTRY-USDTRY(t-1)) / USDTRY(t-1)"
   ]
  },
  {
   "cell_type": "code",
   "execution_count": 53,
   "metadata": {},
   "outputs": [
    {
     "data": {
      "text/html": [
       "<div>\n",
       "<style scoped>\n",
       "    .dataframe tbody tr th:only-of-type {\n",
       "        vertical-align: middle;\n",
       "    }\n",
       "\n",
       "    .dataframe tbody tr th {\n",
       "        vertical-align: top;\n",
       "    }\n",
       "\n",
       "    .dataframe thead th {\n",
       "        text-align: right;\n",
       "    }\n",
       "</style>\n",
       "<table border=\"1\" class=\"dataframe\">\n",
       "  <thead>\n",
       "    <tr style=\"text-align: right;\">\n",
       "      <th></th>\n",
       "      <th>USDTRY</th>\n",
       "      <th>USDTRY_PERCENT</th>\n",
       "    </tr>\n",
       "    <tr>\n",
       "      <th>Date</th>\n",
       "      <th></th>\n",
       "      <th></th>\n",
       "    </tr>\n",
       "  </thead>\n",
       "  <tbody>\n",
       "    <tr>\n",
       "      <th>2021-12-03</th>\n",
       "      <td>12.88396</td>\n",
       "      <td>9.257026</td>\n",
       "    </tr>\n",
       "    <tr>\n",
       "      <th>2021-12-10</th>\n",
       "      <td>13.69762</td>\n",
       "      <td>6.315294</td>\n",
       "    </tr>\n",
       "    <tr>\n",
       "      <th>2021-12-17</th>\n",
       "      <td>14.42048</td>\n",
       "      <td>5.277267</td>\n",
       "    </tr>\n",
       "    <tr>\n",
       "      <th>2021-12-24</th>\n",
       "      <td>14.14716</td>\n",
       "      <td>-1.895360</td>\n",
       "    </tr>\n",
       "    <tr>\n",
       "      <th>2021-12-31</th>\n",
       "      <td>12.02948</td>\n",
       "      <td>-14.968941</td>\n",
       "    </tr>\n",
       "  </tbody>\n",
       "</table>\n",
       "</div>"
      ],
      "text/plain": [
       "              USDTRY  USDTRY_PERCENT\n",
       "Date                                \n",
       "2021-12-03  12.88396        9.257026\n",
       "2021-12-10  13.69762        6.315294\n",
       "2021-12-17  14.42048        5.277267\n",
       "2021-12-24  14.14716       -1.895360\n",
       "2021-12-31  12.02948      -14.968941"
      ]
     },
     "execution_count": 53,
     "metadata": {},
     "output_type": "execute_result"
    }
   ],
   "source": [
    "usdtry.tail(5)"
   ]
  },
  {
   "cell_type": "markdown",
   "metadata": {},
   "source": [
    "Çoğul zaman serileri indirilirken dönüşüm fonksiyonları iki ayrı şekilde uygulanabilir.\n",
    "\n",
    "\n",
    "1. Sadece tek bir dönüşüm fonksiyonu verilmişse bu fonksiyon indirilen set içindeki tüm serilere uygulanır.\n",
    "Örneğin; `s1` ve `s2` serileri istenmiş ve yalnızca `t` dönüşüm fonksiyonu verilmiş ise dönüştürülen\n",
    "seriler; `t(s1)` ve `t(s2)` olacaktır.\n",
    "2. İstenen seriler için ayrı ayrı dönüşüm fonksiyonları verilmişse, bu fonksiyonlar veriliş sıralarıyla\n",
    "serilere uygulanır. Örneğin `s1` ve `s2` serileri istenmiş ve `t1` ve `t2` dönüşüm fonksiyonları verilmiş\n",
    "ise dönüştürülen seriler; `t1(s1)` ve `t2(s2)` olacaktır.\n"
   ]
  },
  {
   "cell_type": "code",
   "execution_count": 55,
   "metadata": {},
   "outputs": [],
   "source": [
    "exchange_rates = connector.get_series(\"TP.DK.USD.A.YTL, TP.DK.EUR.A.YTL\",\n",
    "                                      start_date=\"01.01.2021\",\n",
    "                                      end_date=\"31.12.2021\",\n",
    "                                      frequency=\"W\",\n",
    "                                      transformations=\"percent\")\n",
    "\n",
    "# Geri donen seriler; USDTRY, EURTRY, USDTRY%, ve EURTRY% olacak cunku butun seriler icin sadece\n",
    "# tek bir donusum fonksiyonu (percent) verilmis."
   ]
  },
  {
   "cell_type": "code",
   "execution_count": 56,
   "metadata": {},
   "outputs": [
    {
     "data": {
      "text/html": [
       "<div>\n",
       "<style scoped>\n",
       "    .dataframe tbody tr th:only-of-type {\n",
       "        vertical-align: middle;\n",
       "    }\n",
       "\n",
       "    .dataframe tbody tr th {\n",
       "        vertical-align: top;\n",
       "    }\n",
       "\n",
       "    .dataframe thead th {\n",
       "        text-align: right;\n",
       "    }\n",
       "</style>\n",
       "<table border=\"1\" class=\"dataframe\">\n",
       "  <thead>\n",
       "    <tr style=\"text-align: right;\">\n",
       "      <th></th>\n",
       "      <th>USDTRY</th>\n",
       "      <th>EURTRY</th>\n",
       "      <th>USDTRY_PERCENT</th>\n",
       "      <th>EURTRY_PERCENT</th>\n",
       "    </tr>\n",
       "    <tr>\n",
       "      <th>Date</th>\n",
       "      <th></th>\n",
       "      <th></th>\n",
       "      <th></th>\n",
       "      <th></th>\n",
       "    </tr>\n",
       "  </thead>\n",
       "  <tbody>\n",
       "    <tr>\n",
       "      <th>2021-12-03</th>\n",
       "      <td>12.88396</td>\n",
       "      <td>14.56898</td>\n",
       "      <td>9.257026</td>\n",
       "      <td>9.754771</td>\n",
       "    </tr>\n",
       "    <tr>\n",
       "      <th>2021-12-10</th>\n",
       "      <td>13.69762</td>\n",
       "      <td>15.46966</td>\n",
       "      <td>6.315294</td>\n",
       "      <td>6.182176</td>\n",
       "    </tr>\n",
       "    <tr>\n",
       "      <th>2021-12-17</th>\n",
       "      <td>14.42048</td>\n",
       "      <td>16.27500</td>\n",
       "      <td>5.277267</td>\n",
       "      <td>5.205932</td>\n",
       "    </tr>\n",
       "    <tr>\n",
       "      <th>2021-12-24</th>\n",
       "      <td>14.14716</td>\n",
       "      <td>15.98044</td>\n",
       "      <td>-1.895360</td>\n",
       "      <td>-1.809892</td>\n",
       "    </tr>\n",
       "    <tr>\n",
       "      <th>2021-12-31</th>\n",
       "      <td>12.02948</td>\n",
       "      <td>13.61326</td>\n",
       "      <td>-14.968941</td>\n",
       "      <td>-14.812984</td>\n",
       "    </tr>\n",
       "  </tbody>\n",
       "</table>\n",
       "</div>"
      ],
      "text/plain": [
       "              USDTRY    EURTRY  USDTRY_PERCENT  EURTRY_PERCENT\n",
       "Date                                                          \n",
       "2021-12-03  12.88396  14.56898        9.257026        9.754771\n",
       "2021-12-10  13.69762  15.46966        6.315294        6.182176\n",
       "2021-12-17  14.42048  16.27500        5.277267        5.205932\n",
       "2021-12-24  14.14716  15.98044       -1.895360       -1.809892\n",
       "2021-12-31  12.02948  13.61326      -14.968941      -14.812984"
      ]
     },
     "execution_count": 56,
     "metadata": {},
     "output_type": "execute_result"
    }
   ],
   "source": [
    "exchange_rates.tail(5)"
   ]
  },
  {
   "cell_type": "markdown",
   "metadata": {},
   "source": [
    "> Aksi açıkça istenmediği müddetçe dönüştürülen seriler ile birlikte orijinal seriler de geri döndürülür.\n",
    "> Bu davranış `get_series()` metodunun `keep_originals` parametresi ile kontrol edilir ve değeri ön tanımlı\n",
    "> olarak `True`'dur. Eğer dönüştürülen seriler ile birlikte orijinal serilerin de geri döndürülmesini\n",
    "> istemiyorsanız bu parametreyi `False` olarak verebilirsiniz."
   ]
  },
  {
   "cell_type": "code",
   "execution_count": 57,
   "metadata": {},
   "outputs": [],
   "source": [
    "exchange_rates = connector.get_series(\"TP.DK.USD.A.YTL, TP.DK.EUR.A.YTL\",\n",
    "                                      start_date=\"01.01.2021\",\n",
    "                                      end_date=\"31.12.2021\",\n",
    "                                      frequency=\"W\",\n",
    "                                      transformations=\"percent\",\n",
    "                                      keep_originals=False)\n",
    "\n",
    "# 'keep_originals' parametresi 'False' olarak verildigi icin geri dönen seriler sadece USDTRY% ve EURTRY% olacak."
   ]
  },
  {
   "cell_type": "code",
   "execution_count": 58,
   "metadata": {},
   "outputs": [
    {
     "data": {
      "text/html": [
       "<div>\n",
       "<style scoped>\n",
       "    .dataframe tbody tr th:only-of-type {\n",
       "        vertical-align: middle;\n",
       "    }\n",
       "\n",
       "    .dataframe tbody tr th {\n",
       "        vertical-align: top;\n",
       "    }\n",
       "\n",
       "    .dataframe thead th {\n",
       "        text-align: right;\n",
       "    }\n",
       "</style>\n",
       "<table border=\"1\" class=\"dataframe\">\n",
       "  <thead>\n",
       "    <tr style=\"text-align: right;\">\n",
       "      <th></th>\n",
       "      <th>USDTRY_PERCENT</th>\n",
       "      <th>EURTRY_PERCENT</th>\n",
       "    </tr>\n",
       "    <tr>\n",
       "      <th>Date</th>\n",
       "      <th></th>\n",
       "      <th></th>\n",
       "    </tr>\n",
       "  </thead>\n",
       "  <tbody>\n",
       "    <tr>\n",
       "      <th>2021-12-03</th>\n",
       "      <td>9.257026</td>\n",
       "      <td>9.754771</td>\n",
       "    </tr>\n",
       "    <tr>\n",
       "      <th>2021-12-10</th>\n",
       "      <td>6.315294</td>\n",
       "      <td>6.182176</td>\n",
       "    </tr>\n",
       "    <tr>\n",
       "      <th>2021-12-17</th>\n",
       "      <td>5.277267</td>\n",
       "      <td>5.205932</td>\n",
       "    </tr>\n",
       "    <tr>\n",
       "      <th>2021-12-24</th>\n",
       "      <td>-1.895360</td>\n",
       "      <td>-1.809892</td>\n",
       "    </tr>\n",
       "    <tr>\n",
       "      <th>2021-12-31</th>\n",
       "      <td>-14.968941</td>\n",
       "      <td>-14.812984</td>\n",
       "    </tr>\n",
       "  </tbody>\n",
       "</table>\n",
       "</div>"
      ],
      "text/plain": [
       "            USDTRY_PERCENT  EURTRY_PERCENT\n",
       "Date                                      \n",
       "2021-12-03        9.257026        9.754771\n",
       "2021-12-10        6.315294        6.182176\n",
       "2021-12-17        5.277267        5.205932\n",
       "2021-12-24       -1.895360       -1.809892\n",
       "2021-12-31      -14.968941      -14.812984"
      ]
     },
     "execution_count": 58,
     "metadata": {},
     "output_type": "execute_result"
    }
   ],
   "source": [
    "exchange_rates.tail(5)"
   ]
  },
  {
   "cell_type": "markdown",
   "metadata": {},
   "source": [
    "Aşağıdaki örnek için ise; `percent` (yüzde) TP.DK.USD.A.YTL (USDTRY) serisine uygulanırken `diff` (fark)\n",
    "TP.DK.EUR.A.YTL (EURTRY) serisine uygulanacak çünkü istenen iki ayrı seri için iki de ayrı dönüşüm\n",
    "fonksiyonu verilmiş."
   ]
  },
  {
   "cell_type": "code",
   "execution_count": 59,
   "metadata": {},
   "outputs": [],
   "source": [
    "exchange_rates = connector.get_series(\"TP.DK.USD.A.YTL, TP.DK.EUR.A.YTL\",\n",
    "                                      start_date=\"01.01.2021\",\n",
    "                                      end_date=\"31.12.2021\",\n",
    "                                      frequency=\"W\",\n",
    "                                      transformations=\"percent, diff\")\n",
    "\n",
    "# geri dönen seriler; USDTRY, EURTRY, USDTRY% ve D(EURTRY).\n",
    "# USDTRY% = (USDTRY-USDTRY(t-1)) / USDTRY(t-1)\n",
    "# D(EURTRY) = (EURTRY(t) - EURTRY(t-1))"
   ]
  },
  {
   "cell_type": "code",
   "execution_count": 60,
   "metadata": {},
   "outputs": [
    {
     "data": {
      "text/html": [
       "<div>\n",
       "<style scoped>\n",
       "    .dataframe tbody tr th:only-of-type {\n",
       "        vertical-align: middle;\n",
       "    }\n",
       "\n",
       "    .dataframe tbody tr th {\n",
       "        vertical-align: top;\n",
       "    }\n",
       "\n",
       "    .dataframe thead th {\n",
       "        text-align: right;\n",
       "    }\n",
       "</style>\n",
       "<table border=\"1\" class=\"dataframe\">\n",
       "  <thead>\n",
       "    <tr style=\"text-align: right;\">\n",
       "      <th></th>\n",
       "      <th>USDTRY</th>\n",
       "      <th>EURTRY</th>\n",
       "      <th>USDTRY_PERCENT</th>\n",
       "      <th>EURTRY_DIFF</th>\n",
       "    </tr>\n",
       "    <tr>\n",
       "      <th>Date</th>\n",
       "      <th></th>\n",
       "      <th></th>\n",
       "      <th></th>\n",
       "      <th></th>\n",
       "    </tr>\n",
       "  </thead>\n",
       "  <tbody>\n",
       "    <tr>\n",
       "      <th>2021-12-03</th>\n",
       "      <td>12.88396</td>\n",
       "      <td>14.56898</td>\n",
       "      <td>9.257026</td>\n",
       "      <td>1.29486</td>\n",
       "    </tr>\n",
       "    <tr>\n",
       "      <th>2021-12-10</th>\n",
       "      <td>13.69762</td>\n",
       "      <td>15.46966</td>\n",
       "      <td>6.315294</td>\n",
       "      <td>0.90068</td>\n",
       "    </tr>\n",
       "    <tr>\n",
       "      <th>2021-12-17</th>\n",
       "      <td>14.42048</td>\n",
       "      <td>16.27500</td>\n",
       "      <td>5.277267</td>\n",
       "      <td>0.80534</td>\n",
       "    </tr>\n",
       "    <tr>\n",
       "      <th>2021-12-24</th>\n",
       "      <td>14.14716</td>\n",
       "      <td>15.98044</td>\n",
       "      <td>-1.895360</td>\n",
       "      <td>-0.29456</td>\n",
       "    </tr>\n",
       "    <tr>\n",
       "      <th>2021-12-31</th>\n",
       "      <td>12.02948</td>\n",
       "      <td>13.61326</td>\n",
       "      <td>-14.968941</td>\n",
       "      <td>-2.36718</td>\n",
       "    </tr>\n",
       "  </tbody>\n",
       "</table>\n",
       "</div>"
      ],
      "text/plain": [
       "              USDTRY    EURTRY  USDTRY_PERCENT  EURTRY_DIFF\n",
       "Date                                                       \n",
       "2021-12-03  12.88396  14.56898        9.257026      1.29486\n",
       "2021-12-10  13.69762  15.46966        6.315294      0.90068\n",
       "2021-12-17  14.42048  16.27500        5.277267      0.80534\n",
       "2021-12-24  14.14716  15.98044       -1.895360     -0.29456\n",
       "2021-12-31  12.02948  13.61326      -14.968941     -2.36718"
      ]
     },
     "execution_count": 60,
     "metadata": {},
     "output_type": "execute_result"
    }
   ],
   "source": [
    "exchange_rates.tail(5)"
   ]
  },
  {
   "cell_type": "markdown",
   "metadata": {},
   "source": [
    "Seriler için farklı dönüşüm fonksiyonları aşağıda gösterilen yöntemlerden biriyle verilebilir;\n",
    "\n",
    "1. Virgülle ayrılmış `string`\n",
    "2. Boşlukla ayrılmış `string`\n",
    "3. `List` ya da `Tuple` nesleneri içindeki `string` nesneleri."
   ]
  },
  {
   "cell_type": "code",
   "execution_count": 61,
   "metadata": {},
   "outputs": [],
   "source": [
    "transformations = [\"percent\", \"diff\"]\n",
    "\n",
    "exchange_rates = connector.get_series(\"TP.DK.USD.A.YTL, TP.DK.EUR.A.YTL\",\n",
    "                                      start_date=\"01.01.2022\",\n",
    "                                      transformations=transformations)    # OK\n",
    "\n",
    "exchange_rates = connector.get_series(\"TP.DK.USD.A.YTL, TP.DK.EUR.A.YTL\",\n",
    "                                      start_date=\"01.01.2022\",\n",
    "                                      transformations=\"percent, diff\")    # OK\n",
    "\n",
    "exchange_rates = connector.get_series(\"TP.DK.USD.A.YTL, TP.DK.EUR.A.YTL\",\n",
    "                                      start_date=\"01.01.2022\",\n",
    "                                      transformations=\"percent diff\")     # OK"
   ]
  },
  {
   "cell_type": "code",
   "execution_count": 62,
   "metadata": {},
   "outputs": [
    {
     "data": {
      "text/html": [
       "<div>\n",
       "<style scoped>\n",
       "    .dataframe tbody tr th:only-of-type {\n",
       "        vertical-align: middle;\n",
       "    }\n",
       "\n",
       "    .dataframe tbody tr th {\n",
       "        vertical-align: top;\n",
       "    }\n",
       "\n",
       "    .dataframe thead th {\n",
       "        text-align: right;\n",
       "    }\n",
       "</style>\n",
       "<table border=\"1\" class=\"dataframe\">\n",
       "  <thead>\n",
       "    <tr style=\"text-align: right;\">\n",
       "      <th></th>\n",
       "      <th>USDTRY</th>\n",
       "      <th>EURTRY</th>\n",
       "      <th>USDTRY_PERCENT</th>\n",
       "      <th>EURTRY_DIFF</th>\n",
       "    </tr>\n",
       "    <tr>\n",
       "      <th>Date</th>\n",
       "      <th></th>\n",
       "      <th></th>\n",
       "      <th></th>\n",
       "      <th></th>\n",
       "    </tr>\n",
       "  </thead>\n",
       "  <tbody>\n",
       "    <tr>\n",
       "      <th>2022-08-19</th>\n",
       "      <td>17.9688</td>\n",
       "      <td>18.2694</td>\n",
       "      <td>0.154394</td>\n",
       "      <td>0.0207</td>\n",
       "    </tr>\n",
       "  </tbody>\n",
       "</table>\n",
       "</div>"
      ],
      "text/plain": [
       "             USDTRY   EURTRY  USDTRY_PERCENT  EURTRY_DIFF\n",
       "Date                                                     \n",
       "2022-08-19  17.9688  18.2694        0.154394       0.0207"
      ]
     },
     "execution_count": 62,
     "metadata": {},
     "output_type": "execute_result"
    }
   ],
   "source": [
    "exchange_rates.tail(1)"
   ]
  },
  {
   "cell_type": "markdown",
   "metadata": {},
   "source": [
    "#### 2.4. [__İstenen Zaman Serileri İçin Yığın Fonksiyon(ları) Seçme__](https://github.com/syncoding/evdsts/blob/master/docs/manuals/manual_en.md#selecting-aggregation)"
   ]
  },
  {
   "cell_type": "markdown",
   "metadata": {},
   "source": [
    "EVDS'den veri indirilirken bir takım tanımlı yığılma fonksiyonları veri indirilmeden önce serilere\n",
    "uygulanabilir. Bu yığın fonksiyonları `get_series()` metodunun `aggregations` parametresi ile\n",
    "verilir. EVDS tarafında tanımlı tüm yığın fonksiyonlarını görebilmek için `Connector` nesnesinin\n",
    "`show_aggregation_references()` metodunu kullanabilirsiniz."
   ]
  },
  {
   "cell_type": "code",
   "execution_count": 63,
   "metadata": {},
   "outputs": [
    {
     "name": "stdout",
     "output_type": "stream",
     "text": [
      "                 References Table                 \n",
      "--------------------------------------------------\n",
      "Reference Name Represents -> Original Aggregation Function Names on EVDS\n",
      "--------------------------------------------------\n",
      "avg or 1                ---> avg\n",
      "min or 2                ---> min\n",
      "max or 3                ---> max\n",
      "first or 4              ---> first\n",
      "last or 5               ---> last\n",
      "sum or 6                ---> sum\n",
      "--------------------------------------------------\n",
      "\n",
      "\n"
     ]
    }
   ],
   "source": [
    "connector.show_aggregation_references()"
   ]
  },
  {
   "cell_type": "markdown",
   "metadata": {},
   "source": [
    "Tabloda gösterilen yığın fonksiyonlarının açıklamaları:  \n",
    "\n",
    "|   parameter   |   açıklama                             |\n",
    "|:--------------|-------------------------------------------|\n",
    "| `avg`         |Seçili frekansta ortalama değer|\n",
    "| `min`         |Seçili frekansta minimum değer        |\n",
    "| `max`         |Seçili frekansta maksimum değer        |\n",
    "| `first`       |Seçili frekansta ilk değer          |\n",
    "| `last`        |Seçili frekansta son değer           |\n",
    "| `sum`         |Seçili frekansta değerler toplamı        |"
   ]
  },
  {
   "cell_type": "code",
   "execution_count": 64,
   "metadata": {},
   "outputs": [],
   "source": [
    "usdtry = connector.get_series(\"TP.DK.USD.A.YTL\",\n",
    "                              start_date=\"01.01.2021\",\n",
    "                              end_date=\"31.12.2021\",\n",
    "                              frequency=\"W\",\n",
    "                              aggregations=\"max\")\n",
    "\n",
    "# Geri donen veri USDTRY ve (01.01.2021 - 31.12.2021) tarihleri arasinda haftalik frekansta USDTRY'nin\n",
    "# maksimum degerleri olacak\n",
    "# diger bir deyisle USDTRY ve max(USDTRY, W) geri dondurulecek."
   ]
  },
  {
   "cell_type": "code",
   "execution_count": 65,
   "metadata": {},
   "outputs": [
    {
     "data": {
      "text/html": [
       "<div>\n",
       "<style scoped>\n",
       "    .dataframe tbody tr th:only-of-type {\n",
       "        vertical-align: middle;\n",
       "    }\n",
       "\n",
       "    .dataframe tbody tr th {\n",
       "        vertical-align: top;\n",
       "    }\n",
       "\n",
       "    .dataframe thead th {\n",
       "        text-align: right;\n",
       "    }\n",
       "</style>\n",
       "<table border=\"1\" class=\"dataframe\">\n",
       "  <thead>\n",
       "    <tr style=\"text-align: right;\">\n",
       "      <th></th>\n",
       "      <th>USDTRY</th>\n",
       "      <th>USDTRY_MAX</th>\n",
       "    </tr>\n",
       "    <tr>\n",
       "      <th>Date</th>\n",
       "      <th></th>\n",
       "      <th></th>\n",
       "    </tr>\n",
       "  </thead>\n",
       "  <tbody>\n",
       "    <tr>\n",
       "      <th>2021-12-03</th>\n",
       "      <td>12.88396</td>\n",
       "      <td>13.406700</td>\n",
       "    </tr>\n",
       "    <tr>\n",
       "      <th>2021-12-10</th>\n",
       "      <td>13.69762</td>\n",
       "      <td>13.774000</td>\n",
       "    </tr>\n",
       "    <tr>\n",
       "      <th>2021-12-17</th>\n",
       "      <td>14.42048</td>\n",
       "      <td>15.211800</td>\n",
       "    </tr>\n",
       "    <tr>\n",
       "      <th>2021-12-24</th>\n",
       "      <td>14.14716</td>\n",
       "      <td>17.473101</td>\n",
       "    </tr>\n",
       "    <tr>\n",
       "      <th>2021-12-31</th>\n",
       "      <td>12.02948</td>\n",
       "      <td>12.977500</td>\n",
       "    </tr>\n",
       "  </tbody>\n",
       "</table>\n",
       "</div>"
      ],
      "text/plain": [
       "              USDTRY  USDTRY_MAX\n",
       "Date                            \n",
       "2021-12-03  12.88396   13.406700\n",
       "2021-12-10  13.69762   13.774000\n",
       "2021-12-17  14.42048   15.211800\n",
       "2021-12-24  14.14716   17.473101\n",
       "2021-12-31  12.02948   12.977500"
      ]
     },
     "execution_count": 65,
     "metadata": {},
     "output_type": "execute_result"
    }
   ],
   "source": [
    "usdtry.tail(5)"
   ]
  },
  {
   "cell_type": "markdown",
   "metadata": {},
   "source": [
    "Çoğul zaman serileri indirilirken yığın fonksiyonları iki ayrı şekilde uygulanabilir.\n",
    "\n",
    "\n",
    "1. Sadece tek bir yığın fonksiyonu verilmişse bu fonksiyon indirilen set içindeki tüm serilere uygulanır.\n",
    "Örneğin; `s1` ve `s2` serileri istenmiş ve yalnızca `a` yığın fonksiyonu verilmiş ise dönüştürülen\n",
    "seriler; `a(s1)` ve `a(s2)` olacaktır.\n",
    "2. İstenen seriler için ayrı ayrı yığın fonksiyonları verilmişse, bu fonksiyonlar veriliş sıralarıyla\n",
    "serilere uygulanır. Örneğin `s1` ve `s2` serileri istenmiş ve `a1` ve `a2` yığın fonksiyonları verilmiş\n",
    "ise dönüştürülen seriler; `a1(s1)` ve `a2(s2)` olacaktır."
   ]
  },
  {
   "cell_type": "code",
   "execution_count": 66,
   "metadata": {},
   "outputs": [],
   "source": [
    "exchange_rates = connector.get_series(\"TP.DK.USD.A.YTL, TP.DK.EUR.A.YTL\",\n",
    "                                      start_date=\"01.01.2021\",\n",
    "                                      end_date=\"31.12.2021\",\n",
    "                                      frequency=\"W\",\n",
    "                                      aggregations=\"max\")\n",
    "\n",
    "# geri dondurulen seriler; USDTRY, EURTRY, max(USDTRY, W) and max(EURTRY, W) olacak cunku tum istenen\n",
    "# seriler icin yalnizca tek (max) yigin fonksiyonu verilmis."
   ]
  },
  {
   "cell_type": "code",
   "execution_count": 67,
   "metadata": {},
   "outputs": [
    {
     "data": {
      "text/html": [
       "<div>\n",
       "<style scoped>\n",
       "    .dataframe tbody tr th:only-of-type {\n",
       "        vertical-align: middle;\n",
       "    }\n",
       "\n",
       "    .dataframe tbody tr th {\n",
       "        vertical-align: top;\n",
       "    }\n",
       "\n",
       "    .dataframe thead th {\n",
       "        text-align: right;\n",
       "    }\n",
       "</style>\n",
       "<table border=\"1\" class=\"dataframe\">\n",
       "  <thead>\n",
       "    <tr style=\"text-align: right;\">\n",
       "      <th></th>\n",
       "      <th>USDTRY</th>\n",
       "      <th>EURTRY</th>\n",
       "      <th>USDTRY_MAX</th>\n",
       "      <th>EURTRY_MAX</th>\n",
       "    </tr>\n",
       "    <tr>\n",
       "      <th>Date</th>\n",
       "      <th></th>\n",
       "      <th></th>\n",
       "      <th></th>\n",
       "      <th></th>\n",
       "    </tr>\n",
       "  </thead>\n",
       "  <tbody>\n",
       "    <tr>\n",
       "      <th>2021-12-03</th>\n",
       "      <td>12.88396</td>\n",
       "      <td>14.56898</td>\n",
       "      <td>13.406700</td>\n",
       "      <td>15.183800</td>\n",
       "    </tr>\n",
       "    <tr>\n",
       "      <th>2021-12-10</th>\n",
       "      <td>13.69762</td>\n",
       "      <td>15.46966</td>\n",
       "      <td>13.774000</td>\n",
       "      <td>15.557700</td>\n",
       "    </tr>\n",
       "    <tr>\n",
       "      <th>2021-12-17</th>\n",
       "      <td>14.42048</td>\n",
       "      <td>16.27500</td>\n",
       "      <td>15.211800</td>\n",
       "      <td>17.195700</td>\n",
       "    </tr>\n",
       "    <tr>\n",
       "      <th>2021-12-24</th>\n",
       "      <td>14.14716</td>\n",
       "      <td>15.98044</td>\n",
       "      <td>17.473101</td>\n",
       "      <td>19.678801</td>\n",
       "    </tr>\n",
       "    <tr>\n",
       "      <th>2021-12-31</th>\n",
       "      <td>12.02948</td>\n",
       "      <td>13.61326</td>\n",
       "      <td>12.977500</td>\n",
       "      <td>14.682300</td>\n",
       "    </tr>\n",
       "  </tbody>\n",
       "</table>\n",
       "</div>"
      ],
      "text/plain": [
       "              USDTRY    EURTRY  USDTRY_MAX  EURTRY_MAX\n",
       "Date                                                  \n",
       "2021-12-03  12.88396  14.56898   13.406700   15.183800\n",
       "2021-12-10  13.69762  15.46966   13.774000   15.557700\n",
       "2021-12-17  14.42048  16.27500   15.211800   17.195700\n",
       "2021-12-24  14.14716  15.98044   17.473101   19.678801\n",
       "2021-12-31  12.02948  13.61326   12.977500   14.682300"
      ]
     },
     "execution_count": 67,
     "metadata": {},
     "output_type": "execute_result"
    }
   ],
   "source": [
    "exchange_rates.tail(5)"
   ]
  },
  {
   "cell_type": "markdown",
   "metadata": {},
   "source": [
    "> `keep_originals` parametresi default olarak `True` oldugundan yigin serileri ile birlikte orijinal\n",
    "> serilerin de geri döndürüldüğüne dikkat edin."
   ]
  },
  {
   "cell_type": "markdown",
   "metadata": {},
   "source": [
    "Aşağıdaki örnekte ise; `max`, TP.DK.USD.A.YTL (USDTRY)'ye ve  `min`, TP.DK.EUR.A.YTL (EURTRY)'ye\n",
    "sırasıyla uygulanacak çünkü bu iki seri için iki ayrı yığın fonksiyonu verilmiş. Sonuç olarak yığın\n",
    "serileri, verilen frekans aralığı için max(USDTRY) ve min(EURTRY) olacaktır."
   ]
  },
  {
   "cell_type": "code",
   "execution_count": 68,
   "metadata": {},
   "outputs": [],
   "source": [
    "exchange_rates = connector.get_series(\"TP.DK.USD.A.YTL, TP.DK.EUR.A.YTL\",\n",
    "                                      start_date=\"01.01.2021\",\n",
    "                                      end_date=\"31.12.2021\",\n",
    "                                      frequency=\"W\",\n",
    "                                      aggregations=\"max, min\")\n",
    "\n",
    "# cikti; USDTRY, EURTRY, (01.01.2021 - 31.12.2021) araliginda USDTRY için haftalik maksimum gozlem\n",
    "# degeri ve (01.01.2021 - 31.12.2021) araliginda EURTRY icin haftalik minimum gozlem degeri olacak.\n",
    "# Baska bir deyisle seriler; USDTRY, EURTRY, max(USDTRY, W), min(EURTRY, W) serileri olacak."
   ]
  },
  {
   "cell_type": "code",
   "execution_count": 69,
   "metadata": {},
   "outputs": [
    {
     "data": {
      "text/html": [
       "<div>\n",
       "<style scoped>\n",
       "    .dataframe tbody tr th:only-of-type {\n",
       "        vertical-align: middle;\n",
       "    }\n",
       "\n",
       "    .dataframe tbody tr th {\n",
       "        vertical-align: top;\n",
       "    }\n",
       "\n",
       "    .dataframe thead th {\n",
       "        text-align: right;\n",
       "    }\n",
       "</style>\n",
       "<table border=\"1\" class=\"dataframe\">\n",
       "  <thead>\n",
       "    <tr style=\"text-align: right;\">\n",
       "      <th></th>\n",
       "      <th>USDTRY</th>\n",
       "      <th>EURTRY</th>\n",
       "      <th>USDTRY_MAX</th>\n",
       "      <th>EURTRY_MIN</th>\n",
       "    </tr>\n",
       "    <tr>\n",
       "      <th>Date</th>\n",
       "      <th></th>\n",
       "      <th></th>\n",
       "      <th></th>\n",
       "      <th></th>\n",
       "    </tr>\n",
       "  </thead>\n",
       "  <tbody>\n",
       "    <tr>\n",
       "      <th>2021-12-03</th>\n",
       "      <td>12.88396</td>\n",
       "      <td>14.56898</td>\n",
       "      <td>13.406700</td>\n",
       "      <td>13.5971</td>\n",
       "    </tr>\n",
       "    <tr>\n",
       "      <th>2021-12-10</th>\n",
       "      <td>13.69762</td>\n",
       "      <td>15.46966</td>\n",
       "      <td>13.774000</td>\n",
       "      <td>15.3754</td>\n",
       "    </tr>\n",
       "    <tr>\n",
       "      <th>2021-12-17</th>\n",
       "      <td>14.42048</td>\n",
       "      <td>16.27500</td>\n",
       "      <td>15.211800</td>\n",
       "      <td>15.6094</td>\n",
       "    </tr>\n",
       "    <tr>\n",
       "      <th>2021-12-24</th>\n",
       "      <td>14.14716</td>\n",
       "      <td>15.98044</td>\n",
       "      <td>17.473101</td>\n",
       "      <td>12.9683</td>\n",
       "    </tr>\n",
       "    <tr>\n",
       "      <th>2021-12-31</th>\n",
       "      <td>12.02948</td>\n",
       "      <td>13.61326</td>\n",
       "      <td>12.977500</td>\n",
       "      <td>12.8903</td>\n",
       "    </tr>\n",
       "  </tbody>\n",
       "</table>\n",
       "</div>"
      ],
      "text/plain": [
       "              USDTRY    EURTRY  USDTRY_MAX  EURTRY_MIN\n",
       "Date                                                  \n",
       "2021-12-03  12.88396  14.56898   13.406700     13.5971\n",
       "2021-12-10  13.69762  15.46966   13.774000     15.3754\n",
       "2021-12-17  14.42048  16.27500   15.211800     15.6094\n",
       "2021-12-24  14.14716  15.98044   17.473101     12.9683\n",
       "2021-12-31  12.02948  13.61326   12.977500     12.8903"
      ]
     },
     "execution_count": 69,
     "metadata": {},
     "output_type": "execute_result"
    }
   ],
   "source": [
    "exchange_rates.tail(5)"
   ]
  },
  {
   "cell_type": "markdown",
   "metadata": {},
   "source": [
    "Seriler için farklı yığın fonksiyonları aşağıda gösterilen yöntemlerden biriyle verilebilir;\n",
    "\n",
    "1. Virgülle ayrılmış `string`\n",
    "2. Boşlukla ayrılmış `string`\n",
    "3. `List` ya da `Tuple` nesleneri içindeki `string` nesneleri."
   ]
  },
  {
   "cell_type": "code",
   "execution_count": 71,
   "metadata": {},
   "outputs": [],
   "source": [
    "aggregations = [\"max\", \"min\"]\n",
    "\n",
    "exchange_rates = connector.get_series(\"TP.DK.USD.A.YTL, TP.DK.EUR.A.YTL\",\n",
    "                                      start_date=\"01.01.2022\",\n",
    "                                      aggregations=aggregations)          # OK\n",
    "\n",
    "exchange_rates = connector.get_series(\"TP.DK.USD.A.YTL, TP.DK.EUR.A.YTL\",\n",
    "                                      start_date=\"01.01.2022\",\n",
    "                                      aggregations=\"min, max\")            # OK\n",
    "\n",
    "exchange_rates = connector.get_series(\"TP.DK.USD.A.YTL, TP.DK.EUR.A.YTL\",\n",
    "                                      start_date=\"01.01.2022\",\n",
    "                                      aggregations=\"min max\")             # OK"
   ]
  },
  {
   "cell_type": "code",
   "execution_count": 72,
   "metadata": {},
   "outputs": [
    {
     "data": {
      "text/html": [
       "<div>\n",
       "<style scoped>\n",
       "    .dataframe tbody tr th:only-of-type {\n",
       "        vertical-align: middle;\n",
       "    }\n",
       "\n",
       "    .dataframe tbody tr th {\n",
       "        vertical-align: top;\n",
       "    }\n",
       "\n",
       "    .dataframe thead th {\n",
       "        text-align: right;\n",
       "    }\n",
       "</style>\n",
       "<table border=\"1\" class=\"dataframe\">\n",
       "  <thead>\n",
       "    <tr style=\"text-align: right;\">\n",
       "      <th></th>\n",
       "      <th>USDTRY</th>\n",
       "      <th>EURTRY</th>\n",
       "      <th>USDTRY_MIN</th>\n",
       "      <th>EURTRY_MAX</th>\n",
       "    </tr>\n",
       "    <tr>\n",
       "      <th>Date</th>\n",
       "      <th></th>\n",
       "      <th></th>\n",
       "      <th></th>\n",
       "      <th></th>\n",
       "    </tr>\n",
       "  </thead>\n",
       "  <tbody>\n",
       "    <tr>\n",
       "      <th>2022-08-19</th>\n",
       "      <td>17.9688</td>\n",
       "      <td>18.2694</td>\n",
       "      <td>17.9688</td>\n",
       "      <td>18.2694</td>\n",
       "    </tr>\n",
       "  </tbody>\n",
       "</table>\n",
       "</div>"
      ],
      "text/plain": [
       "             USDTRY   EURTRY  USDTRY_MIN  EURTRY_MAX\n",
       "Date                                                \n",
       "2022-08-19  17.9688  18.2694     17.9688     18.2694"
      ]
     },
     "execution_count": 72,
     "metadata": {},
     "output_type": "execute_result"
    }
   ],
   "source": [
    "exchange_rates.tail(1)"
   ]
  },
  {
   "cell_type": "markdown",
   "metadata": {},
   "source": [
    "> __Belirsizliğe neden olmayı engellemek amacıyla `evdsts`'nin, serilere dönüşüm ve yığın fonksiyonlarını__\n",
    "> __aynı anda uygulamanıza izin vermediğini unutmayın__"
   ]
  },
  {
   "cell_type": "markdown",
   "metadata": {},
   "source": [
    "#### 2.5. [__Diğer Formatlarda Veri Alma__](https://github.com/syncoding/evdsts/blob/master/docs/manuals/manual_en.md#retrieving-raw-data)"
   ]
  },
  {
   "cell_type": "markdown",
   "metadata": {},
   "source": [
    "API servisinden dönen ham JSON veriyi almak için `get_series()` metodunun `raw` parametresini\n",
    "kullanabilirsiniz."
   ]
  },
  {
   "cell_type": "code",
   "execution_count": 73,
   "metadata": {},
   "outputs": [],
   "source": [
    "exchange_rates = connector.get_series(\"TP.DK.USD.A.YTL, TP.DK.EUR.A.YTL\",\n",
    "                                      start_date=\"01.01.2020\",\n",
    "                                      end_date=\"31.12.2021\",\n",
    "                                      frequency=\"Y\",\n",
    "                                      transformations=\"percent\",\n",
    "                                      raw=True)"
   ]
  },
  {
   "cell_type": "code",
   "execution_count": 74,
   "metadata": {},
   "outputs": [
    {
     "data": {
      "text/plain": [
       "'{\"USDTRY\":{\"2020-12-31T00:00:00.000Z\":7.0090303421,\"2021-12-31T00:00:00.000Z\":8.8853683472},\"EURTRY\":{\"2020-12-31T00:00:00.000Z\":8.0277643204,\"2021-12-31T00:00:00.000Z\":10.4686517715},\"USDTRY_PERCENT\":{\"2020-12-31T00:00:00.000Z\":23.5979652405,\"2021-12-31T00:00:00.000Z\":26.7702960968},\"EURTRY_PERCENT\":{\"2020-12-31T00:00:00.000Z\":26.4670124054,\"2021-12-31T00:00:00.000Z\":30.4055747986}}'"
      ]
     },
     "execution_count": 74,
     "metadata": {},
     "output_type": "execute_result"
    }
   ],
   "source": [
    "exchange_rates"
   ]
  },
  {
   "cell_type": "markdown",
   "metadata": {},
   "source": [
    "Veriyi `Dict` nesnesi olarak almak için ise `as_dict` parametresini kullanabilirsiniz."
   ]
  },
  {
   "cell_type": "code",
   "execution_count": 7,
   "metadata": {},
   "outputs": [],
   "source": [
    "exchange_rates = connector.get_series(\"TP.DK.USD.A.YTL, TP.DK.EUR.A.YTL\",\n",
    "                                      start_date=\"01.01.2020\",\n",
    "                                      end_date=\"31.12.2021\",\n",
    "                                      frequency=\"Y\",\n",
    "                                      transformations=\"percent\",\n",
    "                                      as_dict=True)"
   ]
  },
  {
   "cell_type": "code",
   "execution_count": 8,
   "metadata": {},
   "outputs": [
    {
     "name": "stdout",
     "output_type": "stream",
     "text": [
      "{'EURTRY': {Timestamp('2020-12-31 00:00:00', freq='A-DEC'): 8.027764320373535,\n",
      "            Timestamp('2021-12-31 00:00:00', freq='A-DEC'): 10.46865177154541},\n",
      " 'EURTRY_PERCENT': {Timestamp('2020-12-31 00:00:00', freq='A-DEC'): 26.467012405395508,\n",
      "                    Timestamp('2021-12-31 00:00:00', freq='A-DEC'): 30.405574798583984},\n",
      " 'USDTRY': {Timestamp('2020-12-31 00:00:00', freq='A-DEC'): 7.009030342102051,\n",
      "            Timestamp('2021-12-31 00:00:00', freq='A-DEC'): 8.885368347167969},\n",
      " 'USDTRY_PERCENT': {Timestamp('2020-12-31 00:00:00', freq='A-DEC'): 23.597965240478516,\n",
      "                    Timestamp('2021-12-31 00:00:00', freq='A-DEC'): 26.770296096801758}}\n"
     ]
    }
   ],
   "source": [
    "from pprint import pprint\n",
    "pprint(exchange_rates)"
   ]
  },
  {
   "cell_type": "markdown",
   "metadata": {},
   "source": [
    "#### 2.6. [__Alınan Zaman Serilerine İsim Atama__](https://github.com/syncoding/evdsts/blob/master/docs/manuals/manual_en.md#assigning-new-names)"
   ]
  },
  {
   "cell_type": "markdown",
   "metadata": {},
   "source": [
    "`get_series()` metodunun `new_names` parametresini kullanarak alınan zaman serilerine `DataFrame`\n",
    "nesnesi içinde yeni sütun isimleri atayabilirsiniz. Verilen isimler sırasıyla sütun ismi olarak\n",
    "atanacaktır."
   ]
  },
  {
   "cell_type": "markdown",
   "metadata": {},
   "source": [
    "##### 2.6.1. [__Sadece Seri İstekleri İçin İsim Atama__](https://github.com/syncoding/evdsts/blob/master/docs/manuals/manual_en.md#assigning-new-names-bare)"
   ]
  },
  {
   "cell_type": "markdown",
   "metadata": {},
   "source": [
    "Aşağıdaki örnekte indirilen serilere nasıl yeni isimler verebileceğinizi görüyorsunuz. İsimler aşağıda;\n",
    "`TP.DK.USD.A.YTL = UTR`, ve `TP.DK.EUR.A.YTL = ETR` olacak şekilde atanmıştır. Bu nedenle, geri\n",
    "döndürülen `DataFrame` nesnesindeki sütun adları `TP.DK.USD.A.YTL` ve `TP.DK.EUR.A.YTL` yerine,\n",
    "`UTR` ve `ETR` olmaktadır."
   ]
  },
  {
   "cell_type": "code",
   "execution_count": 75,
   "metadata": {},
   "outputs": [],
   "source": [
    "exchange_rates = connector.get_series(\"TP.DK.USD.A.YTL, TP.DK.EUR.A.YTL\",\n",
    "                                      start_date=\"01.01.2021\",\n",
    "                                      end_date=\"31.12.2021\",\n",
    "                                      frequency=\"W\",\n",
    "                                      new_names=\"UTR, ETR\")"
   ]
  },
  {
   "cell_type": "code",
   "execution_count": 76,
   "metadata": {},
   "outputs": [
    {
     "data": {
      "text/html": [
       "<div>\n",
       "<style scoped>\n",
       "    .dataframe tbody tr th:only-of-type {\n",
       "        vertical-align: middle;\n",
       "    }\n",
       "\n",
       "    .dataframe tbody tr th {\n",
       "        vertical-align: top;\n",
       "    }\n",
       "\n",
       "    .dataframe thead th {\n",
       "        text-align: right;\n",
       "    }\n",
       "</style>\n",
       "<table border=\"1\" class=\"dataframe\">\n",
       "  <thead>\n",
       "    <tr style=\"text-align: right;\">\n",
       "      <th></th>\n",
       "      <th>UTR</th>\n",
       "      <th>ETR</th>\n",
       "    </tr>\n",
       "    <tr>\n",
       "      <th>Date</th>\n",
       "      <th></th>\n",
       "      <th></th>\n",
       "    </tr>\n",
       "  </thead>\n",
       "  <tbody>\n",
       "    <tr>\n",
       "      <th>2021-12-31</th>\n",
       "      <td>12.02948</td>\n",
       "      <td>13.61326</td>\n",
       "    </tr>\n",
       "  </tbody>\n",
       "</table>\n",
       "</div>"
      ],
      "text/plain": [
       "                 UTR       ETR\n",
       "Date                          \n",
       "2021-12-31  12.02948  13.61326"
      ]
     },
     "execution_count": 76,
     "metadata": {},
     "output_type": "execute_result"
    }
   ],
   "source": [
    "exchange_rates.tail(1)"
   ]
  },
  {
   "cell_type": "markdown",
   "metadata": {},
   "source": [
    "Seriler için yeni isimler aşağıda gösterilen yöntemlerden biriyle verilebilir;\n",
    "\n",
    "1. Virgülle ayrılmış `string`\n",
    "2. Boşlukla ayrılmış `string`\n",
    "3. `List` ya da `Tuple` nesleneri içindeki `string` nesneleri."
   ]
  },
  {
   "cell_type": "code",
   "execution_count": 78,
   "metadata": {},
   "outputs": [],
   "source": [
    "new_names = [\"UTR\", \"ETR\"]\n",
    "\n",
    "exchange_rates = connector.get_series(\"TP.DK.USD.A.YTL, TP.DK.EUR.A.YTL\",\n",
    "                                      start_date=\"01.01.2021\",\n",
    "                                      end_date=\"31.12.2021\",\n",
    "                                      frequency=\"W\",\n",
    "                                      new_names=new_names)                  # OK\n",
    "\n",
    "exchange_rates = connector.get_series(\"TP.DK.USD.A.YTL, TP.DK.EUR.A.YTL\",\n",
    "                                      start_date=\"01.01.2021\",\n",
    "                                      end_date=\"31.12.2021\",\n",
    "                                      frequency=\"W\",\n",
    "                                      new_names=\"UTR, ETR\")                 # OK\n",
    "\n",
    "exchange_rates = connector.get_series(\"TP.DK.USD.A.YTL, TP.DK.EUR.A.YTL\",\n",
    "                                      start_date=\"01.01.2021\",\n",
    "                                      end_date=\"31.12.2021\",\n",
    "                                      frequency=\"W\",\n",
    "                                      new_names=\"UTR ETR\")                  # OK"
   ]
  },
  {
   "cell_type": "code",
   "execution_count": 79,
   "metadata": {},
   "outputs": [
    {
     "data": {
      "text/html": [
       "<div>\n",
       "<style scoped>\n",
       "    .dataframe tbody tr th:only-of-type {\n",
       "        vertical-align: middle;\n",
       "    }\n",
       "\n",
       "    .dataframe tbody tr th {\n",
       "        vertical-align: top;\n",
       "    }\n",
       "\n",
       "    .dataframe thead th {\n",
       "        text-align: right;\n",
       "    }\n",
       "</style>\n",
       "<table border=\"1\" class=\"dataframe\">\n",
       "  <thead>\n",
       "    <tr style=\"text-align: right;\">\n",
       "      <th></th>\n",
       "      <th>UTR</th>\n",
       "      <th>ETR</th>\n",
       "    </tr>\n",
       "    <tr>\n",
       "      <th>Date</th>\n",
       "      <th></th>\n",
       "      <th></th>\n",
       "    </tr>\n",
       "  </thead>\n",
       "  <tbody>\n",
       "    <tr>\n",
       "      <th>2021-12-31</th>\n",
       "      <td>12.02948</td>\n",
       "      <td>13.61326</td>\n",
       "    </tr>\n",
       "  </tbody>\n",
       "</table>\n",
       "</div>"
      ],
      "text/plain": [
       "                 UTR       ETR\n",
       "Date                          \n",
       "2021-12-31  12.02948  13.61326"
      ]
     },
     "execution_count": 79,
     "metadata": {},
     "output_type": "execute_result"
    }
   ],
   "source": [
    "exchange_rates.tail(1)"
   ]
  },
  {
   "cell_type": "markdown",
   "metadata": {},
   "source": [
    "##### 2.6.2. [__Dönüşüm ve/veya Yığın Fonksiyonları ile Birlikte İsim Atama__](https://github.com/syncoding/evdsts/blob/master/docs/manuals/manual_en.md#assigning-new-names-transagg)"
   ]
  },
  {
   "cell_type": "markdown",
   "metadata": {},
   "source": [
    "Eğer dönüşüm/yığın serileri ile birlikte orijinal seriler de istenmişse, yani,  \n",
    "`keep_originals = True` ise yeni isimler aşağıdaki sırada verilir.\n",
    "\n",
    "__`önce orijinal seriler için ismler sonra dönüşüm/yığın serileri için isimler`__\n",
    "\n",
    "Buna göre, örneğin; USDTRY serisi `percent` dönüşümü ile birlikte isteniyorsa, geri dönen veri içinde\n",
    "hem `USDTRY` hem de `USDTRY%` serileri olacağından yeni isimler aşağıdaki gibi verilir."
   ]
  },
  {
   "cell_type": "code",
   "execution_count": 80,
   "metadata": {},
   "outputs": [],
   "source": [
    "usdtry = connector.get_series(\"TP.DK.USD.A.YTL\",\n",
    "                              start_date=\"01.01.2021\",\n",
    "                              end_date=\"31.12.2021\",\n",
    "                              frequency=\"W\",\n",
    "                              transformations=\"percent\",\n",
    "                              new_names=\"USDTRY, P_USDTRY\")\n",
    "\n",
    "# geri dondurulen veri USDTRY ve USDTRY% serileri olacagindan (cunku on tanimli olarak 'keep_originals' = True)\n",
    "# yeni isimler USDTRY, P_USDTRY olarak verilmis."
   ]
  },
  {
   "cell_type": "code",
   "execution_count": 81,
   "metadata": {},
   "outputs": [
    {
     "data": {
      "text/html": [
       "<div>\n",
       "<style scoped>\n",
       "    .dataframe tbody tr th:only-of-type {\n",
       "        vertical-align: middle;\n",
       "    }\n",
       "\n",
       "    .dataframe tbody tr th {\n",
       "        vertical-align: top;\n",
       "    }\n",
       "\n",
       "    .dataframe thead th {\n",
       "        text-align: right;\n",
       "    }\n",
       "</style>\n",
       "<table border=\"1\" class=\"dataframe\">\n",
       "  <thead>\n",
       "    <tr style=\"text-align: right;\">\n",
       "      <th></th>\n",
       "      <th>USDTRY</th>\n",
       "      <th>P_USDTRY</th>\n",
       "    </tr>\n",
       "    <tr>\n",
       "      <th>Date</th>\n",
       "      <th></th>\n",
       "      <th></th>\n",
       "    </tr>\n",
       "  </thead>\n",
       "  <tbody>\n",
       "    <tr>\n",
       "      <th>2021-12-31</th>\n",
       "      <td>12.02948</td>\n",
       "      <td>-14.968941</td>\n",
       "    </tr>\n",
       "  </tbody>\n",
       "</table>\n",
       "</div>"
      ],
      "text/plain": [
       "              USDTRY   P_USDTRY\n",
       "Date                           \n",
       "2021-12-31  12.02948 -14.968941"
      ]
     },
     "execution_count": 81,
     "metadata": {},
     "output_type": "execute_result"
    }
   ],
   "source": [
    "usdtry.tail(1)"
   ]
  },
  {
   "cell_type": "markdown",
   "metadata": {},
   "source": [
    "> İpucu: Eğer geri dönen seri sayısından farklı sayıda yeni seri adları verirseniz, bir `UnmatchingFieldSizeException`\n",
    "> hatası alırsınız. Bu hata sayesinde geri dönen seriler için aslında kaç adet isim vermeniz gerektiğini görebilirsiniz."
   ]
  },
  {
   "cell_type": "markdown",
   "metadata": {},
   "source": [
    "Eğer orijinal seriler de istenmemişse (yani `keep_originals=False`), yeni isimler sadece dönüşüm/yığın\n",
    "serileri için verilir."
   ]
  },
  {
   "cell_type": "code",
   "execution_count": 82,
   "metadata": {},
   "outputs": [],
   "source": [
    "usdtry = connector.get_series(\"TP.DK.USD.A.YTL\",\n",
    "                              start_date=\"01.01.2021\",\n",
    "                              end_date=\"31.12.2021\",\n",
    "                              frequency=\"W\",\n",
    "                              transformations=\"percent\",\n",
    "                              keep_originals=False,\n",
    "                              new_names=\"USDTRY_P\")\n",
    "\n",
    "# keep_originals = False verildigi icin, geri dönen seri sadece USDTRY% olacagindan sadece USDTRY_P\n",
    "# ismi verilmis ve bu isim USDTRY% serisine atanacak."
   ]
  },
  {
   "cell_type": "code",
   "execution_count": 83,
   "metadata": {},
   "outputs": [
    {
     "data": {
      "text/html": [
       "<div>\n",
       "<style scoped>\n",
       "    .dataframe tbody tr th:only-of-type {\n",
       "        vertical-align: middle;\n",
       "    }\n",
       "\n",
       "    .dataframe tbody tr th {\n",
       "        vertical-align: top;\n",
       "    }\n",
       "\n",
       "    .dataframe thead th {\n",
       "        text-align: right;\n",
       "    }\n",
       "</style>\n",
       "<table border=\"1\" class=\"dataframe\">\n",
       "  <thead>\n",
       "    <tr style=\"text-align: right;\">\n",
       "      <th></th>\n",
       "      <th>USDTRY_P</th>\n",
       "    </tr>\n",
       "    <tr>\n",
       "      <th>Date</th>\n",
       "      <th></th>\n",
       "    </tr>\n",
       "  </thead>\n",
       "  <tbody>\n",
       "    <tr>\n",
       "      <th>2021-01-01</th>\n",
       "      <td>-2.716601</td>\n",
       "    </tr>\n",
       "  </tbody>\n",
       "</table>\n",
       "</div>"
      ],
      "text/plain": [
       "            USDTRY_P\n",
       "Date                \n",
       "2021-01-01 -2.716601"
      ]
     },
     "execution_count": 83,
     "metadata": {},
     "output_type": "execute_result"
    }
   ],
   "source": [
    "usdtry.head(1)"
   ]
  },
  {
   "cell_type": "markdown",
   "metadata": {},
   "source": [
    "Benzer şekilde;"
   ]
  },
  {
   "cell_type": "code",
   "execution_count": 84,
   "metadata": {},
   "outputs": [],
   "source": [
    "exchange_rates = connector.get_series(\"TP.DK.USD.A.YTL, TP.DK.EUR.A.YTL\",\n",
    "                                      start_date=\"01.01.2021\",\n",
    "                                      end_date=\"31.12.2021\",\n",
    "                                      frequency=\"6M\",\n",
    "                                      aggregations=\"max, min\",\n",
    "                                      new_names=\"USDTRY, EURTRY, USDTRY_MAX, EURTRY_MIN\")\n",
    "\n",
    "# geri dönen data; USDTRY, EURTRY, max(USDTRY)ve min(EURTRY) serilerinden olusacak.\n",
    "# Bunun icin yeni isimler de bu sirada verilmis."
   ]
  },
  {
   "cell_type": "code",
   "execution_count": 85,
   "metadata": {},
   "outputs": [
    {
     "data": {
      "text/html": [
       "<div>\n",
       "<style scoped>\n",
       "    .dataframe tbody tr th:only-of-type {\n",
       "        vertical-align: middle;\n",
       "    }\n",
       "\n",
       "    .dataframe tbody tr th {\n",
       "        vertical-align: top;\n",
       "    }\n",
       "\n",
       "    .dataframe thead th {\n",
       "        text-align: right;\n",
       "    }\n",
       "</style>\n",
       "<table border=\"1\" class=\"dataframe\">\n",
       "  <thead>\n",
       "    <tr style=\"text-align: right;\">\n",
       "      <th></th>\n",
       "      <th>USDTRY</th>\n",
       "      <th>EURTRY</th>\n",
       "      <th>USDTRY_MAX</th>\n",
       "      <th>EURTRY_MIN</th>\n",
       "    </tr>\n",
       "    <tr>\n",
       "      <th>Date</th>\n",
       "      <th></th>\n",
       "      <th></th>\n",
       "      <th></th>\n",
       "      <th></th>\n",
       "    </tr>\n",
       "  </thead>\n",
       "  <tbody>\n",
       "    <tr>\n",
       "      <th>2021-07-31</th>\n",
       "      <td>9.8971</td>\n",
       "      <td>11.451022</td>\n",
       "      <td>17.473101</td>\n",
       "      <td>9.791</td>\n",
       "    </tr>\n",
       "  </tbody>\n",
       "</table>\n",
       "</div>"
      ],
      "text/plain": [
       "            USDTRY     EURTRY  USDTRY_MAX  EURTRY_MIN\n",
       "Date                                                 \n",
       "2021-07-31  9.8971  11.451022   17.473101       9.791"
      ]
     },
     "execution_count": 85,
     "metadata": {},
     "output_type": "execute_result"
    }
   ],
   "source": [
    "exchange_rates.tail(1)"
   ]
  },
  {
   "cell_type": "markdown",
   "metadata": {},
   "source": [
    "Ve;"
   ]
  },
  {
   "cell_type": "code",
   "execution_count": 86,
   "metadata": {},
   "outputs": [],
   "source": [
    "exchange_rates = connector.get_series(\"TP.DK.USD.A.YTL, TP.DK.EUR.A.YTL\",\n",
    "                                      start_date=\"01.01.2021\",\n",
    "                                      end_date=\"31.12.2021\",\n",
    "                                      frequency=\"6M\",\n",
    "                                      aggregations=\"max, min\",\n",
    "                                      new_names=\"USDTRY_MAX, EURTRY_MIN\",\n",
    "                                      keep_originals=False)\n",
    "\n",
    "# geri donen data sadece max(USDTRY) ve min(EURTRY) serilerinden olusacak.\n",
    "# Bunun icin sadece yigin fonksiyon serileri icin yeni isimler verilmis."
   ]
  },
  {
   "cell_type": "code",
   "execution_count": 87,
   "metadata": {},
   "outputs": [
    {
     "data": {
      "text/html": [
       "<div>\n",
       "<style scoped>\n",
       "    .dataframe tbody tr th:only-of-type {\n",
       "        vertical-align: middle;\n",
       "    }\n",
       "\n",
       "    .dataframe tbody tr th {\n",
       "        vertical-align: top;\n",
       "    }\n",
       "\n",
       "    .dataframe thead th {\n",
       "        text-align: right;\n",
       "    }\n",
       "</style>\n",
       "<table border=\"1\" class=\"dataframe\">\n",
       "  <thead>\n",
       "    <tr style=\"text-align: right;\">\n",
       "      <th></th>\n",
       "      <th>USDTRY_MAX</th>\n",
       "      <th>EURTRY_MIN</th>\n",
       "    </tr>\n",
       "    <tr>\n",
       "      <th>Date</th>\n",
       "      <th></th>\n",
       "      <th></th>\n",
       "    </tr>\n",
       "  </thead>\n",
       "  <tbody>\n",
       "    <tr>\n",
       "      <th>2021-07-31</th>\n",
       "      <td>17.473101</td>\n",
       "      <td>9.791</td>\n",
       "    </tr>\n",
       "  </tbody>\n",
       "</table>\n",
       "</div>"
      ],
      "text/plain": [
       "            USDTRY_MAX  EURTRY_MIN\n",
       "Date                              \n",
       "2021-07-31   17.473101       9.791"
      ]
     },
     "execution_count": 87,
     "metadata": {},
     "output_type": "execute_result"
    }
   ],
   "source": [
    "exchange_rates.tail(1)"
   ]
  },
  {
   "cell_type": "markdown",
   "metadata": {},
   "source": [
    "#### 2.7. [__Serileri Diske Yazma__](https://github.com/syncoding/evdsts/blob/master/docs/manuals/manual_en.md#writing-series)"
   ]
  },
  {
   "cell_type": "markdown",
   "metadata": {},
   "source": [
    "`Connector` nesnesinin `to_file()` metodu sayesinde; `evdsts`'nin geri döndürdüğü tüm veriler ve veri\n",
    "tipleri diske yazılabilir. Daha sonra kullanmak amacıyla verilerinizi; `JSON`, `CSV` ya da `XLS`\n",
    "(`openpyxl` gerektirir) formatında diske yazabilirsiniz.\n",
    "\n",
    "`to_file()` metodu iki önemli parametre alır:  \n",
    "\n",
    "a. `data`: Diske yazılacak verinin kendisi  \n",
    "b. `data_format`: çıktı formatının `json`, `csv` ya da `xls` olduğunu belirtir."
   ]
  },
  {
   "cell_type": "markdown",
   "metadata": {},
   "source": [
    "Ana kategorileri diske yazalım:"
   ]
  },
  {
   "cell_type": "code",
   "execution_count": 4,
   "metadata": {},
   "outputs": [
    {
     "name": "stdout",
     "output_type": "stream",
     "text": [
      "Given data have been written on g:\\My Drive\\Dev\\Active\\evdsts\\data_2022_08_22_021732.csv\n"
     ]
    }
   ],
   "source": [
    "main_dict = connector.get_main_categories()\n",
    "connector.to_file(data=main_dict, data_format='csv')"
   ]
  },
  {
   "cell_type": "markdown",
   "metadata": {},
   "source": [
    "Benzer şekilde;"
   ]
  },
  {
   "cell_type": "code",
   "execution_count": 5,
   "metadata": {},
   "outputs": [
    {
     "name": "stdout",
     "output_type": "stream",
     "text": [
      "Given data have been written on g:\\My Drive\\Dev\\Active\\evdsts\\data_2022_08_22_021810.json\n"
     ]
    }
   ],
   "source": [
    "sub_categories_df = connector.get_sub_categories(\"KURLAR\")\n",
    "connector.to_file(data=sub_categories_df, data_format='json')"
   ]
  },
  {
   "cell_type": "markdown",
   "metadata": {},
   "source": [
    "> `evdsts`; `dict`, `JSON`, ve `DataFrame` veri taşıyıcılarının tamamını verilen formatta diske yazabilir."
   ]
  },
  {
   "cell_type": "markdown",
   "metadata": {},
   "source": [
    "#### 2.8. [__Yerel Arama İndeksini Güncelleştirme__](https://github.com/syncoding/evdsts/blob/master/docs/manuals/manual_en.md#updating-index)"
   ]
  },
  {
   "cell_type": "markdown",
   "metadata": {},
   "source": [
    "`evdsts`, seri isimlerini aradığınızda size sonuç vermek için yerek bir arama indeksi kullanır. Bu indeks,\n",
    "EVDS'nin kendi üzerinde yaptığı güncellemeler nedeniyle yaratıldıktan birkaç ay sonra güncelliğini kaybedebilir.\n",
    "EVDS ile senkron bir yerel arama indeksi tutmak için indeksi birkaç ayda bir güncelleyebilirsiniz."
   ]
  },
  {
   "cell_type": "code",
   "execution_count": null,
   "metadata": {},
   "outputs": [],
   "source": [
    "# Yerel arama indeksini güncelleştirmeniz için IndexBuilder sınıfına ihtiyacınız olacak.\n",
    "from evdsts import IndexBuilder\n",
    "\n",
    "# aşağıdaki gibi bir builder nesnesi oluşturun\n",
    "builder = IndexBuilder('API_ANAHTARINIZ')\n",
    "\n",
    "# Yerel indeksin gün olarak kaç yaşında olduğunu görebilirsiniz.\n",
    "print(builder.index_age_in_days)\n",
    "\n",
    "# Indeksin yaratilmasi uzerinden cok uzun zaman (aylar) gecmisse indeksi yeniden yaratabilirsiniz.\n",
    "builder.build_index()"
   ]
  },
  {
   "cell_type": "markdown",
   "metadata": {},
   "source": [
    "> __Yerel arama endeksinin yeniden oluşturulması yaklaşık 30 dakika alır çünkü `evdsts` API__\n",
    "> __servisini aşırı yüklemekten kaçınmak için her bir isteğin arasında (en az 5 sn.) bekler.__"
   ]
  },
  {
   "cell_type": "markdown",
   "metadata": {},
   "source": [
    "### 3. [__Referans İsimleri Kullanarak Veri İndirme__](https://github.com/syncoding/evdsts/blob/master/docs/manuals/manual_en.md#using-reference-names)"
   ]
  },
  {
   "cell_type": "markdown",
   "metadata": {},
   "source": [
    "EVDS'den veri alarak çalışırken verimliliğinizi en fazla düşüren şey, EVDS'nin seri isimlerine atadığı\n",
    "karmaşık kodlardır. Bu, EVDS'den veri indirebilmek için her seferinde bu karmaşık isimleri bulmanızı\n",
    "ve kullanmanızı gerektirir. `evdsts`, EVDS'den veri istenirken gerçek seri isimleri yerine kullanabileceğiniz\n",
    "referans isimleri kullanarak bu problemi çözer.\n",
    "\n",
    "Referans isimler aşağıda gösterilen iki ayrı şekilde serilere atanabilir;\n",
    "\n",
    "1. Eğer indirme sırasında sadece orijinal serileri talep ediyorsanız yani serilere herhangi bir dönüşüm\n",
    "ya da yığın fonksiyonu uygulanmıyorsa `keep_references` parametresiyle indirdiğiniz seriler için anında\n",
    "referans isimler atayabilirsiniz.\n",
    "2. `Connector` nesnesinin `save_name_references()` metodunu kullanarak direk olarak referans isimler atayabilirsiniz."
   ]
  },
  {
   "cell_type": "markdown",
   "metadata": {},
   "source": [
    "#### 3.1. [__Zaman Serileri İndirilirken Referans İsim Saklama__](https://github.com/syncoding/evdsts/blob/master/docs/manuals/manual_en.md#saving-reference-name)"
   ]
  },
  {
   "cell_type": "markdown",
   "metadata": {},
   "source": [
    "Aşağıdaki hücrede referans isim saklamanın birinci yolu gösterilmektedir. Bu örnekte, istenen serilere\n",
    "ne dönüşüm ne de yığın fonksiyonları uygulanmadığı için `keep_references` parametresini kullanabilirsiniz.\n",
    "Aşağıdaki örnekte `usdtry` referans ismi proje için kalıcı olacak şekilde; `usdtry -> TP.DK.USD.A.YTL`\n",
    "şeklinde atanacak ve artık bu referans ismi veri indirirken kullanabiliceksiniz."
   ]
  },
  {
   "cell_type": "code",
   "execution_count": 88,
   "metadata": {},
   "outputs": [
    {
     "name": "stdout",
     "output_type": "stream",
     "text": [
      "\n",
      "Below references map have been created for further use. You can use reference series names instead of original ones when retrieving data from the EVDS API service. Reference names are permanent unless this reference mapping is deleted or changed.\n",
      "\n",
      "                 References Table                 \n",
      "--------------------------------------------------\n",
      "Reference Name Represents -> Original Series Names on EVDS\n",
      "--------------------------------------------------\n",
      "usdtry          ---> TP.DK.USD.A.YTL\n",
      "--------------------------------------------------\n",
      "\n",
      "\n"
     ]
    }
   ],
   "source": [
    "usdtry = connector.get_series(\"TP.DK.USD.A.YTL\",\n",
    "                              start_date=\"01.01.2021\",\n",
    "                              end_date=\"31.12.2021\",\n",
    "                              frequency=\"Q\",\n",
    "                              new_names=\"usdtry\",\n",
    "                              keep_references=True)"
   ]
  },
  {
   "cell_type": "markdown",
   "metadata": {},
   "source": [
    "Yeni bir referans isim saklandığında yukarıdaki bildirimi görürsünüz. Bu, artık bu projede istediğiniz zaman\n",
    "bu referans isimi veri indirmek için kullanabileceğiniz anlamına gelir."
   ]
  },
  {
   "cell_type": "markdown",
   "metadata": {},
   "source": [
    "Aynı seriyi tekrar indirelim;"
   ]
  },
  {
   "cell_type": "code",
   "execution_count": 89,
   "metadata": {},
   "outputs": [],
   "source": [
    "usdtry = connector.get_series(\"usdtry\",\n",
    "                              start_date=\"01.01.2021\",\n",
    "                              end_date=\"31.12.2021\",\n",
    "                              frequency=\"Q\")\n",
    "# Artik orijinal seri ismini bilmenize gerek yok!"
   ]
  },
  {
   "cell_type": "code",
   "execution_count": 90,
   "metadata": {},
   "outputs": [
    {
     "data": {
      "text/html": [
       "<div>\n",
       "<style scoped>\n",
       "    .dataframe tbody tr th:only-of-type {\n",
       "        vertical-align: middle;\n",
       "    }\n",
       "\n",
       "    .dataframe tbody tr th {\n",
       "        vertical-align: top;\n",
       "    }\n",
       "\n",
       "    .dataframe thead th {\n",
       "        text-align: right;\n",
       "    }\n",
       "</style>\n",
       "<table border=\"1\" class=\"dataframe\">\n",
       "  <thead>\n",
       "    <tr style=\"text-align: right;\">\n",
       "      <th></th>\n",
       "      <th>USDTRY</th>\n",
       "    </tr>\n",
       "    <tr>\n",
       "      <th>Date</th>\n",
       "      <th></th>\n",
       "    </tr>\n",
       "  </thead>\n",
       "  <tbody>\n",
       "    <tr>\n",
       "      <th>2021-06-30</th>\n",
       "      <td>8.369557</td>\n",
       "    </tr>\n",
       "    <tr>\n",
       "      <th>2021-09-30</th>\n",
       "      <td>8.527857</td>\n",
       "    </tr>\n",
       "    <tr>\n",
       "      <th>2021-12-31</th>\n",
       "      <td>11.161016</td>\n",
       "    </tr>\n",
       "  </tbody>\n",
       "</table>\n",
       "</div>"
      ],
      "text/plain": [
       "               USDTRY\n",
       "Date                 \n",
       "2021-06-30   8.369557\n",
       "2021-09-30   8.527857\n",
       "2021-12-31  11.161016"
      ]
     },
     "execution_count": 90,
     "metadata": {},
     "output_type": "execute_result"
    }
   ],
   "source": [
    "usdtry.tail(3)"
   ]
  },
  {
   "cell_type": "markdown",
   "metadata": {},
   "source": [
    "Tek bir indirmede çoklu referans isimler saklayalım;"
   ]
  },
  {
   "cell_type": "code",
   "execution_count": 91,
   "metadata": {},
   "outputs": [
    {
     "name": "stdout",
     "output_type": "stream",
     "text": [
      "\n",
      "Below references map have been created for further use. You can use reference series names instead of original ones when retrieving data from the EVDS API service. Reference names are permanent unless this reference mapping is deleted or changed.\n",
      "\n",
      "                 References Table                 \n",
      "--------------------------------------------------\n",
      "Reference Name Represents -> Original Series Names on EVDS\n",
      "--------------------------------------------------\n",
      "eurtry          ---> TP.DK.EUR.A.YTL\n",
      "usdtry          ---> TP.DK.USD.A.YTL\n",
      "--------------------------------------------------\n",
      "\n",
      "\n"
     ]
    }
   ],
   "source": [
    "exchange_rates = connector.get_series(\"TP.DK.USD.A.YTL, TP.DK.EUR.A.YTL\",\n",
    "                                      start_date=\"01.01.2021\",\n",
    "                                      end_date=\"31.12.2021\",\n",
    "                                      frequency=\"Q\",\n",
    "                                      new_names=\"usdtry, eurtry\",\n",
    "                                      keep_references=True)"
   ]
  },
  {
   "cell_type": "code",
   "execution_count": 92,
   "metadata": {},
   "outputs": [
    {
     "data": {
      "text/html": [
       "<div>\n",
       "<style scoped>\n",
       "    .dataframe tbody tr th:only-of-type {\n",
       "        vertical-align: middle;\n",
       "    }\n",
       "\n",
       "    .dataframe tbody tr th {\n",
       "        vertical-align: top;\n",
       "    }\n",
       "\n",
       "    .dataframe thead th {\n",
       "        text-align: right;\n",
       "    }\n",
       "</style>\n",
       "<table border=\"1\" class=\"dataframe\">\n",
       "  <thead>\n",
       "    <tr style=\"text-align: right;\">\n",
       "      <th></th>\n",
       "      <th>USDTRY</th>\n",
       "      <th>EURTRY</th>\n",
       "    </tr>\n",
       "    <tr>\n",
       "      <th>Date</th>\n",
       "      <th></th>\n",
       "      <th></th>\n",
       "    </tr>\n",
       "  </thead>\n",
       "  <tbody>\n",
       "    <tr>\n",
       "      <th>2021-06-30</th>\n",
       "      <td>8.369557</td>\n",
       "      <td>10.080826</td>\n",
       "    </tr>\n",
       "    <tr>\n",
       "      <th>2021-09-30</th>\n",
       "      <td>8.527857</td>\n",
       "      <td>10.057339</td>\n",
       "    </tr>\n",
       "    <tr>\n",
       "      <th>2021-12-31</th>\n",
       "      <td>11.161016</td>\n",
       "      <td>12.737500</td>\n",
       "    </tr>\n",
       "  </tbody>\n",
       "</table>\n",
       "</div>"
      ],
      "text/plain": [
       "               USDTRY     EURTRY\n",
       "Date                            \n",
       "2021-06-30   8.369557  10.080826\n",
       "2021-09-30   8.527857  10.057339\n",
       "2021-12-31  11.161016  12.737500"
      ]
     },
     "execution_count": 92,
     "metadata": {},
     "output_type": "execute_result"
    }
   ],
   "source": [
    "exchange_rates.tail(3)"
   ]
  },
  {
   "cell_type": "markdown",
   "metadata": {},
   "source": [
    "`show_name_references()` metodunu kullanarak bu proje için sakladığınız bütün referans isimleri görebilirsiniz."
   ]
  },
  {
   "cell_type": "code",
   "execution_count": 3,
   "metadata": {},
   "outputs": [
    {
     "name": "stdout",
     "output_type": "stream",
     "text": [
      "\n",
      "Below references map have been created for further use. You can use reference series names instead of original ones when retrieving data from the EVDS API service. Reference names are permanent unless this reference mapping is deleted or changed.\n",
      "\n",
      "                 References Table                 \n",
      "--------------------------------------------------\n",
      "Reference Name Represents -> Original Series Names on EVDS\n",
      "--------------------------------------------------\n",
      "eurtry          ---> TP.DK.EUR.A.YTL\n",
      "usdtry          ---> TP.DK.USD.A.YTL\n",
      "--------------------------------------------------\n",
      "\n",
      "\n"
     ]
    }
   ],
   "source": [
    "connector.show_name_references()"
   ]
  },
  {
   "cell_type": "markdown",
   "metadata": {},
   "source": [
    "Sakladığımız referans isimlerle çoğul seriler indirelim."
   ]
  },
  {
   "cell_type": "code",
   "execution_count": 4,
   "metadata": {},
   "outputs": [],
   "source": [
    "exchange_rates = connector.get_series(\"usdtry, eurtry\",\n",
    "                                      start_date=\"01.01.2021\",\n",
    "                                      end_date=\"31.12.2021\",\n",
    "                                      frequency=\"Q\")"
   ]
  },
  {
   "cell_type": "code",
   "execution_count": 5,
   "metadata": {},
   "outputs": [
    {
     "data": {
      "text/html": [
       "<div>\n",
       "<style scoped>\n",
       "    .dataframe tbody tr th:only-of-type {\n",
       "        vertical-align: middle;\n",
       "    }\n",
       "\n",
       "    .dataframe tbody tr th {\n",
       "        vertical-align: top;\n",
       "    }\n",
       "\n",
       "    .dataframe thead th {\n",
       "        text-align: right;\n",
       "    }\n",
       "</style>\n",
       "<table border=\"1\" class=\"dataframe\">\n",
       "  <thead>\n",
       "    <tr style=\"text-align: right;\">\n",
       "      <th></th>\n",
       "      <th>USDTRY</th>\n",
       "      <th>EURTRY</th>\n",
       "    </tr>\n",
       "    <tr>\n",
       "      <th>Date</th>\n",
       "      <th></th>\n",
       "      <th></th>\n",
       "    </tr>\n",
       "  </thead>\n",
       "  <tbody>\n",
       "    <tr>\n",
       "      <th>2021-03-31</th>\n",
       "      <td>7.377400</td>\n",
       "      <td>8.895019</td>\n",
       "    </tr>\n",
       "    <tr>\n",
       "      <th>2021-06-30</th>\n",
       "      <td>8.369557</td>\n",
       "      <td>10.080826</td>\n",
       "    </tr>\n",
       "    <tr>\n",
       "      <th>2021-09-30</th>\n",
       "      <td>8.527857</td>\n",
       "      <td>10.057339</td>\n",
       "    </tr>\n",
       "  </tbody>\n",
       "</table>\n",
       "</div>"
      ],
      "text/plain": [
       "              USDTRY     EURTRY\n",
       "Date                           \n",
       "2021-03-31  7.377400   8.895019\n",
       "2021-06-30  8.369557  10.080826\n",
       "2021-09-30  8.527857  10.057339"
      ]
     },
     "execution_count": 5,
     "metadata": {},
     "output_type": "execute_result"
    }
   ],
   "source": [
    "exchange_rates.head(3)"
   ]
  },
  {
   "cell_type": "markdown",
   "metadata": {},
   "source": [
    "> Geri döndürülen `DataFrame` nesnesi içindeki referans isim saklanmış olan seriler otomatik olarak\n",
    "> bu referans isimler sütunlara atanarak gösterilir. Bu nedenle, zaten referans isimler atanmış seriler\n",
    "> için `new_names` parametresi ile sütunlara yeni isimler atamanıza gerek yoktur."
   ]
  },
  {
   "cell_type": "markdown",
   "metadata": {},
   "source": [
    "#### 3.2. [__Referans İsimleri Direk Olarak Saklama__](https://github.com/syncoding/evdsts/blob/master/docs/manuals/manual_en.md#saving-names-directly)"
   ]
  },
  {
   "cell_type": "markdown",
   "metadata": {},
   "source": [
    "İkinci bir yol olarak `Connector` nesnesinin `save_name_references()` metodunu referans isim saklamak\n",
    "için aşağıdaki gibi kullanabilirsiniz."
   ]
  },
  {
   "cell_type": "code",
   "execution_count": 6,
   "metadata": {},
   "outputs": [
    {
     "name": "stdout",
     "output_type": "stream",
     "text": [
      "\n",
      "Below references map have been created for further use. You can use reference series names instead of original ones when retrieving data from the EVDS API service. Reference names are permanent unless this reference mapping is deleted or changed.\n",
      "\n",
      "                 References Table                 \n",
      "--------------------------------------------------\n",
      "Reference Name Represents -> Original Series Names on EVDS\n",
      "--------------------------------------------------\n",
      "cpi             ---> TP.FE.OKTG01\n",
      "--------------------------------------------------\n",
      "\n",
      "\n"
     ]
    }
   ],
   "source": [
    "# cpi = Tufe\n",
    "connector.save_name_references('TP.FE.OKTG01', 'cpi')"
   ]
  },
  {
   "cell_type": "code",
   "execution_count": 7,
   "metadata": {},
   "outputs": [],
   "source": [
    "cpi = connector.get_series(\"cpi\", start_date=\"01.05.2022\")"
   ]
  },
  {
   "cell_type": "code",
   "execution_count": 8,
   "metadata": {},
   "outputs": [
    {
     "data": {
      "text/html": [
       "<div>\n",
       "<style scoped>\n",
       "    .dataframe tbody tr th:only-of-type {\n",
       "        vertical-align: middle;\n",
       "    }\n",
       "\n",
       "    .dataframe tbody tr th {\n",
       "        vertical-align: top;\n",
       "    }\n",
       "\n",
       "    .dataframe thead th {\n",
       "        text-align: right;\n",
       "    }\n",
       "</style>\n",
       "<table border=\"1\" class=\"dataframe\">\n",
       "  <thead>\n",
       "    <tr style=\"text-align: right;\">\n",
       "      <th></th>\n",
       "      <th>CPI</th>\n",
       "    </tr>\n",
       "    <tr>\n",
       "      <th>Date</th>\n",
       "      <th></th>\n",
       "    </tr>\n",
       "  </thead>\n",
       "  <tbody>\n",
       "    <tr>\n",
       "      <th>2022-04-30</th>\n",
       "      <td>904.789978</td>\n",
       "    </tr>\n",
       "    <tr>\n",
       "      <th>2022-05-31</th>\n",
       "      <td>931.760010</td>\n",
       "    </tr>\n",
       "    <tr>\n",
       "      <th>2022-06-30</th>\n",
       "      <td>977.900024</td>\n",
       "    </tr>\n",
       "    <tr>\n",
       "      <th>2022-07-31</th>\n",
       "      <td>1001.030029</td>\n",
       "    </tr>\n",
       "  </tbody>\n",
       "</table>\n",
       "</div>"
      ],
      "text/plain": [
       "                    CPI\n",
       "Date                   \n",
       "2022-04-30   904.789978\n",
       "2022-05-31   931.760010\n",
       "2022-06-30   977.900024\n",
       "2022-07-31  1001.030029"
      ]
     },
     "execution_count": 8,
     "metadata": {},
     "output_type": "execute_result"
    }
   ],
   "source": [
    "cpi"
   ]
  },
  {
   "cell_type": "markdown",
   "metadata": {},
   "source": [
    "ya da aşağıdaki şekilde tek seferde birden çok referans isim saklayabilirsiniz."
   ]
  },
  {
   "cell_type": "code",
   "execution_count": 9,
   "metadata": {},
   "outputs": [
    {
     "name": "stdout",
     "output_type": "stream",
     "text": [
      "\n",
      "Below references map have been created for further use. You can use reference series names instead of original ones when retrieving data from the EVDS API service. Reference names are permanent unless this reference mapping is deleted or changed.\n",
      "\n",
      "                 References Table                 \n",
      "--------------------------------------------------\n",
      "Reference Name Represents -> Original Series Names on EVDS\n",
      "--------------------------------------------------\n",
      "cpi             ---> TP.FE.OKTG01\n",
      "usdtry          ---> TP.DK.USD.A.YTL\n",
      "--------------------------------------------------\n",
      "\n",
      "\n"
     ]
    }
   ],
   "source": [
    "connector.save_name_references('TP.FE.OKTG01, TP.DK.USD.A.YTL', 'cpi, usdtry')"
   ]
  },
  {
   "cell_type": "code",
   "execution_count": 10,
   "metadata": {},
   "outputs": [],
   "source": [
    "series = connector.get_series(\"usdtry, cpi\", start_date=\"01.05.2022\", frequency=\"monthly\")"
   ]
  },
  {
   "cell_type": "code",
   "execution_count": 11,
   "metadata": {},
   "outputs": [
    {
     "data": {
      "text/html": [
       "<div>\n",
       "<style scoped>\n",
       "    .dataframe tbody tr th:only-of-type {\n",
       "        vertical-align: middle;\n",
       "    }\n",
       "\n",
       "    .dataframe tbody tr th {\n",
       "        vertical-align: top;\n",
       "    }\n",
       "\n",
       "    .dataframe thead th {\n",
       "        text-align: right;\n",
       "    }\n",
       "</style>\n",
       "<table border=\"1\" class=\"dataframe\">\n",
       "  <thead>\n",
       "    <tr style=\"text-align: right;\">\n",
       "      <th></th>\n",
       "      <th>USDTRY</th>\n",
       "      <th>CPI</th>\n",
       "    </tr>\n",
       "    <tr>\n",
       "      <th>Date</th>\n",
       "      <th></th>\n",
       "      <th></th>\n",
       "    </tr>\n",
       "  </thead>\n",
       "  <tbody>\n",
       "    <tr>\n",
       "      <th>2022-04-30</th>\n",
       "      <td>14.683567</td>\n",
       "      <td>904.789978</td>\n",
       "    </tr>\n",
       "    <tr>\n",
       "      <th>2022-05-31</th>\n",
       "      <td>15.623922</td>\n",
       "      <td>931.760010</td>\n",
       "    </tr>\n",
       "    <tr>\n",
       "      <th>2022-06-30</th>\n",
       "      <td>16.964718</td>\n",
       "      <td>977.900024</td>\n",
       "    </tr>\n",
       "    <tr>\n",
       "      <th>2022-07-31</th>\n",
       "      <td>17.387417</td>\n",
       "      <td>1001.030029</td>\n",
       "    </tr>\n",
       "    <tr>\n",
       "      <th>2022-08-31</th>\n",
       "      <td>17.943932</td>\n",
       "      <td>NaN</td>\n",
       "    </tr>\n",
       "  </tbody>\n",
       "</table>\n",
       "</div>"
      ],
      "text/plain": [
       "               USDTRY          CPI\n",
       "Date                              \n",
       "2022-04-30  14.683567   904.789978\n",
       "2022-05-31  15.623922   931.760010\n",
       "2022-06-30  16.964718   977.900024\n",
       "2022-07-31  17.387417  1001.030029\n",
       "2022-08-31  17.943932          NaN"
      ]
     },
     "execution_count": 11,
     "metadata": {},
     "output_type": "execute_result"
    }
   ],
   "source": [
    "series"
   ]
  },
  {
   "cell_type": "code",
   "execution_count": 12,
   "metadata": {},
   "outputs": [],
   "source": [
    "series = connector.get_series(\"usdtry, cpi\", start_date=\"01.05.2022\", frequency=\"monthly\", transformations=\"percent\")"
   ]
  },
  {
   "cell_type": "code",
   "execution_count": 13,
   "metadata": {},
   "outputs": [
    {
     "data": {
      "text/html": [
       "<div>\n",
       "<style scoped>\n",
       "    .dataframe tbody tr th:only-of-type {\n",
       "        vertical-align: middle;\n",
       "    }\n",
       "\n",
       "    .dataframe tbody tr th {\n",
       "        vertical-align: top;\n",
       "    }\n",
       "\n",
       "    .dataframe thead th {\n",
       "        text-align: right;\n",
       "    }\n",
       "</style>\n",
       "<table border=\"1\" class=\"dataframe\">\n",
       "  <thead>\n",
       "    <tr style=\"text-align: right;\">\n",
       "      <th></th>\n",
       "      <th>USDTRY</th>\n",
       "      <th>CPI</th>\n",
       "      <th>USDTRY_PERCENT</th>\n",
       "      <th>CPI_PERCENT</th>\n",
       "    </tr>\n",
       "    <tr>\n",
       "      <th>Date</th>\n",
       "      <th></th>\n",
       "      <th></th>\n",
       "      <th></th>\n",
       "      <th></th>\n",
       "    </tr>\n",
       "  </thead>\n",
       "  <tbody>\n",
       "    <tr>\n",
       "      <th>2022-04-30</th>\n",
       "      <td>14.683567</td>\n",
       "      <td>904.789978</td>\n",
       "      <td>0.809839</td>\n",
       "      <td>7.248353</td>\n",
       "    </tr>\n",
       "    <tr>\n",
       "      <th>2022-05-31</th>\n",
       "      <td>15.623922</td>\n",
       "      <td>931.760010</td>\n",
       "      <td>6.404136</td>\n",
       "      <td>2.980802</td>\n",
       "    </tr>\n",
       "    <tr>\n",
       "      <th>2022-06-30</th>\n",
       "      <td>16.964718</td>\n",
       "      <td>977.900024</td>\n",
       "      <td>8.581686</td>\n",
       "      <td>4.951919</td>\n",
       "    </tr>\n",
       "    <tr>\n",
       "      <th>2022-07-31</th>\n",
       "      <td>17.387417</td>\n",
       "      <td>1001.030029</td>\n",
       "      <td>2.491633</td>\n",
       "      <td>2.365273</td>\n",
       "    </tr>\n",
       "    <tr>\n",
       "      <th>2022-08-31</th>\n",
       "      <td>17.943932</td>\n",
       "      <td>NaN</td>\n",
       "      <td>3.200674</td>\n",
       "      <td>NaN</td>\n",
       "    </tr>\n",
       "  </tbody>\n",
       "</table>\n",
       "</div>"
      ],
      "text/plain": [
       "               USDTRY          CPI  USDTRY_PERCENT  CPI_PERCENT\n",
       "Date                                                           \n",
       "2022-04-30  14.683567   904.789978        0.809839     7.248353\n",
       "2022-05-31  15.623922   931.760010        6.404136     2.980802\n",
       "2022-06-30  16.964718   977.900024        8.581686     4.951919\n",
       "2022-07-31  17.387417  1001.030029        2.491633     2.365273\n",
       "2022-08-31  17.943932          NaN        3.200674          NaN"
      ]
     },
     "execution_count": 13,
     "metadata": {},
     "output_type": "execute_result"
    }
   ],
   "source": [
    "series"
   ]
  },
  {
   "cell_type": "markdown",
   "metadata": {},
   "source": [
    "Referans isimleri farklı yollarla saklayabilirsiniz;\n",
    "\n",
    "1. Virgülle ayrılmış `string`\n",
    "2. Boşlukla ayrılmış `string`\n",
    "3. `List` ya da `Tuple` nesleneri içindeki `string` nesneleri."
   ]
  },
  {
   "cell_type": "code",
   "execution_count": 14,
   "metadata": {},
   "outputs": [],
   "source": [
    "series = [\"TP.DK.USD.A.YTL\", \"TP.DK.EUR.A.YTL\"]\n",
    "references = [\"usdtry\", \"eurtry\"]\n",
    "\n",
    "connector.save_name_references(\"TP.DK.USD.A.YTL, TP.DK.EUR.A.YTL\", \"usdtry, eurtry\", verbose=False)  # OK\n",
    "connector.save_name_references(\"TP.DK.USD.A.YTL TP.DK.EUR.A.YTL\", \"usdtry eurtry\", verbose=False)    # OK\n",
    "connector.save_name_references(series, references, verbose=False)                                    # OK\n",
    "\n",
    "# verbose burada sadece ekran ciktisi vermeyi engelliyor."
   ]
  },
  {
   "cell_type": "markdown",
   "metadata": {},
   "source": [
    "> İpucu: `verbose` parametresini `evdsts` içindeki birçok metodun ekran çıktısını kontrol etmek içim\n",
    "> kullanabilirsiniz."
   ]
  },
  {
   "cell_type": "markdown",
   "metadata": {},
   "source": [
    "Eski referans isimler için yeni isimler de belirleyebilirsiniz. Örneğin `usdtry` referans isimini\n",
    "`usdlira` olarak değiştirmek istediğimizi varsayalım."
   ]
  },
  {
   "cell_type": "code",
   "execution_count": 15,
   "metadata": {},
   "outputs": [
    {
     "name": "stdout",
     "output_type": "stream",
     "text": [
      "\n",
      "Below references map have been created for further use. You can use reference series names instead of original ones when retrieving data from the EVDS API service. Reference names are permanent unless this reference mapping is deleted or changed.\n",
      "\n",
      "                 References Table                 \n",
      "--------------------------------------------------\n",
      "Reference Name Represents -> Original Series Names on EVDS\n",
      "--------------------------------------------------\n",
      "usdlira         ---> TP.DK.USD.A.YTL\n",
      "--------------------------------------------------\n",
      "\n",
      "\n"
     ]
    }
   ],
   "source": [
    "connector.save_name_references(\"usdtry\", \"usdlira\")"
   ]
  },
  {
   "cell_type": "code",
   "execution_count": 16,
   "metadata": {},
   "outputs": [],
   "source": [
    "usdlira = connector.get_series(\"usdlira\", start_date=\"01.05.2022\", frequency=\"Q\")"
   ]
  },
  {
   "cell_type": "code",
   "execution_count": 17,
   "metadata": {},
   "outputs": [
    {
     "data": {
      "text/html": [
       "<div>\n",
       "<style scoped>\n",
       "    .dataframe tbody tr th:only-of-type {\n",
       "        vertical-align: middle;\n",
       "    }\n",
       "\n",
       "    .dataframe tbody tr th {\n",
       "        vertical-align: top;\n",
       "    }\n",
       "\n",
       "    .dataframe thead th {\n",
       "        text-align: right;\n",
       "    }\n",
       "</style>\n",
       "<table border=\"1\" class=\"dataframe\">\n",
       "  <thead>\n",
       "    <tr style=\"text-align: right;\">\n",
       "      <th></th>\n",
       "      <th>USDLIRA</th>\n",
       "    </tr>\n",
       "    <tr>\n",
       "      <th>Date</th>\n",
       "      <th></th>\n",
       "    </tr>\n",
       "  </thead>\n",
       "  <tbody>\n",
       "    <tr>\n",
       "      <th>2022-06-30</th>\n",
       "      <td>15.783759</td>\n",
       "    </tr>\n",
       "    <tr>\n",
       "      <th>2022-09-30</th>\n",
       "      <td>17.649305</td>\n",
       "    </tr>\n",
       "  </tbody>\n",
       "</table>\n",
       "</div>"
      ],
      "text/plain": [
       "              USDLIRA\n",
       "Date                 \n",
       "2022-06-30  15.783759\n",
       "2022-09-30  17.649305"
      ]
     },
     "execution_count": 17,
     "metadata": {},
     "output_type": "execute_result"
    }
   ],
   "source": [
    "usdlira"
   ]
  },
  {
   "cell_type": "markdown",
   "metadata": {},
   "source": [
    "Eski referans ismimize geri döndürelim."
   ]
  },
  {
   "cell_type": "code",
   "execution_count": 18,
   "metadata": {},
   "outputs": [
    {
     "name": "stdout",
     "output_type": "stream",
     "text": [
      "\n",
      "Below references map have been created for further use. You can use reference series names instead of original ones when retrieving data from the EVDS API service. Reference names are permanent unless this reference mapping is deleted or changed.\n",
      "\n",
      "                 References Table                 \n",
      "--------------------------------------------------\n",
      "Reference Name Represents -> Original Series Names on EVDS\n",
      "--------------------------------------------------\n",
      "usdtry          ---> TP.DK.USD.A.YTL\n",
      "--------------------------------------------------\n",
      "\n",
      "\n"
     ]
    }
   ],
   "source": [
    "connector.save_name_references(\"usdlira\", \"usdtry\")"
   ]
  },
  {
   "cell_type": "markdown",
   "metadata": {},
   "source": [
    "#### 3.3. [__Saklanan Referans İsimleri Diğer Projelere Transfer Etme__](https://github.com/syncoding/evdsts/blob/master/docs/manuals/manual_en.md#transferring-reference-names)"
   ]
  },
  {
   "cell_type": "markdown",
   "metadata": {},
   "source": [
    "`evds_series_references.json` dosyasını projenizin kök dizinine taşıyarak sakladığınız referans isimleri\n",
    "diğer projelerde de kullanabilirsiniz.\n",
    "\n",
    "_Mevcut referans isimlerim nerde?_"
   ]
  },
  {
   "cell_type": "code",
   "execution_count": 3,
   "metadata": {},
   "outputs": [
    {
     "name": "stdout",
     "output_type": "stream",
     "text": [
      "g:\\My Drive\\Dev\\Active\\evdsts\\evds_series_references.json\n"
     ]
    }
   ],
   "source": [
    "print(connector.references_file)"
   ]
  },
  {
   "cell_type": "markdown",
   "metadata": {},
   "source": [
    "Ya da `Connector` nesnesini `print` ederek referans dosyanızın konumu ve diğer ayrıntıları görebilirsiniz."
   ]
  },
  {
   "cell_type": "code",
   "execution_count": null,
   "metadata": {},
   "outputs": [],
   "source": [
    "print(connector)"
   ]
  },
  {
   "cell_type": "markdown",
   "metadata": {},
   "source": [
    "_Üzerinde çalışacağım yeni projeme eski referans isimlerimi nasıl taşıyabilirim?_\n",
    "\n",
    "1. Yeni projenizde bir `Connector` nesnesi yaratın ismi örneğin `connector` olsun\n",
    "2. `import_name_references()` metoduna eski projenizden aldığınız referans isim konumunu vererek eski\n",
    "referanslarınızı yeni projenize taşıyın."
   ]
  },
  {
   "cell_type": "code",
   "execution_count": null,
   "metadata": {},
   "outputs": [],
   "source": [
    "# Bu metod burada calismayacak cunku bunun icin oncelikle yeni bir lokasyonda yeni bir proje yaratmaniz gerekir.\n",
    "connector.import_name_references('g:\\\\My Drive\\\\Dev\\\\Active\\\\evdsts\\\\evds_series_references.json')"
   ]
  },
  {
   "cell_type": "markdown",
   "metadata": {},
   "source": [
    "### 4. [__Transformator__](https://github.com/syncoding/evdsts/blob/master/docs/manuals/manual_en.md#the-transformator-1)"
   ]
  },
  {
   "cell_type": "markdown",
   "metadata": {},
   "source": [
    "`Transformator`, `evdsts`'nin ikinci önemli sınıfıdır ve indirilen veriler üzerinde bazı yararlı dönüşümler\n",
    "yapmanızı sağlar. Bu dönüşümler; detaylı zaman serileri analizlerine geçmeden önce veri hakkında bazı\n",
    "ön fikirler elde etmenizi sağlar ya da zaman serileri analizlerinde zaten size gerekir."
   ]
  },
  {
   "cell_type": "markdown",
   "metadata": {},
   "source": [
    "> __`Transformator`'un bir çok dönüşümünün _zaman serisi indekslemesi_ ve _tarihe göre artan sıralama_'ya\n",
    "> bağlı olduguğunu unutmayın. `Connector`'un `get_series()` metodundan döndürülen veriler ön tanımlı\n",
    "> olarak _zaman serisi indeksi_ (`time_series=True`), ve _artan sıra_ (`ascending=True`) şeklindedir\n",
    "> fakat bunlardan birinin değeri `False` olarak ayarlandığında `Transformator` tarafından yapılan\n",
    "> dönüşümlerin tutuarlığı garanti edilemez.__"
   ]
  },
  {
   "cell_type": "markdown",
   "metadata": {},
   "source": [
    "#### 4.0 [__Transformator Sınıfının Import Edilmesi ve Bir Nesne Yaratılması__](https://github.com/syncoding/evdsts/blob/master/docs/manuals/manual_en.md#the-transformator-1)"
   ]
  },
  {
   "cell_type": "markdown",
   "metadata": {},
   "source": [
    "`Transformator` sınıfına ait bir nesneyi aşağıdaki gibi yaratabilirsiniz."
   ]
  },
  {
   "cell_type": "markdown",
   "metadata": {},
   "source": [
    "Öncelikle `Transformator` sınıfını `evdsts` içinden import etmeniz gerekir;"
   ]
  },
  {
   "cell_type": "code",
   "execution_count": 3,
   "metadata": {},
   "outputs": [],
   "source": [
    "from evdsts import Transformator"
   ]
  },
  {
   "cell_type": "markdown",
   "metadata": {},
   "source": [
    "daha sonra, `Transformator` sınıfına ait bir nesne yaratabilirsiniz."
   ]
  },
  {
   "cell_type": "code",
   "execution_count": 4,
   "metadata": {},
   "outputs": [],
   "source": [
    "transformator = Transformator()"
   ]
  },
  {
   "cell_type": "markdown",
   "metadata": {},
   "source": [
    "Bir `Transformator` nesnesi yaratırken, onun tüm çıktılarını için ondalık hane sayısı hassasiyetini\n",
    "ayarlayabilirsiniz. Örneğin aşağıdaki örneğimizdeki `transformator` nesnesinin tüm çıktılarının ondalık\n",
    "hane hassasiyeti `4` olacaktır."
   ]
  },
  {
   "cell_type": "code",
   "execution_count": 14,
   "metadata": {},
   "outputs": [],
   "source": [
    "transformator = Transformator(4)"
   ]
  },
  {
   "cell_type": "markdown",
   "metadata": {},
   "source": [
    "Daha sonra da veri indirme işlemlerimiz için `Connector`'ü import edelim"
   ]
  },
  {
   "cell_type": "code",
   "execution_count": 67,
   "metadata": {},
   "outputs": [],
   "source": [
    "from evdsts import Connector"
   ]
  },
  {
   "cell_type": "code",
   "execution_count": 68,
   "metadata": {},
   "outputs": [],
   "source": [
    "connector = Connector()"
   ]
  },
  {
   "cell_type": "markdown",
   "metadata": {},
   "source": [
    "#### 4.1. [__Transformator ile Serileri Yeniden İsimlendirme__](https://github.com/syncoding/evdsts/blob/master/docs/manuals/manual_en.md#rename-series)"
   ]
  },
  {
   "cell_type": "markdown",
   "metadata": {},
   "source": [
    "`Transformator` tarafından serilere otomatik olarak atanan isimleri kullanmak istemediğinizde `rename()`\n",
    "metodunu kullanabilirsiniz."
   ]
  },
  {
   "cell_type": "markdown",
   "metadata": {},
   "source": [
    "`Connector` nesnemizi kullanrak EVDS'den örnek bir veri indirerek başlayalım."
   ]
  },
  {
   "cell_type": "code",
   "execution_count": 3,
   "metadata": {},
   "outputs": [],
   "source": [
    "connector = Connector()  # API anahtarınızı diske kaydetmis oldugunuzu varsayiyoruz.\n",
    "\n",
    "# daha once kaydettigimiz referens isimleri kullanarak usdtry ve eurtry serilerini indirelim.\n",
    "series = connector.get_series(\"usdtry, eurtry\",\n",
    "                              start_date=\"01.01.2021\",\n",
    "                              end_date=\"31.12.2021\",\n",
    "                              frequency=\"M\")"
   ]
  },
  {
   "cell_type": "markdown",
   "metadata": {},
   "source": [
    "Serilerimiz üzerinde değişiiklik yapmak için `Transformator` sınıfı bir nesneye ihtiyacımız olacak."
   ]
  },
  {
   "cell_type": "code",
   "execution_count": 17,
   "metadata": {},
   "outputs": [],
   "source": [
    "# ornek bir Transformator nesnesi\n",
    "transformator = Transformator()"
   ]
  },
  {
   "cell_type": "markdown",
   "metadata": {},
   "source": [
    "Orijinal serilerimizi koruyarak serilerimizin 1. ve 2. farkını alalım."
   ]
  },
  {
   "cell_type": "code",
   "execution_count": 18,
   "metadata": {},
   "outputs": [],
   "source": [
    "# fark alma metodu devam eden bölümlerde anlatilacak. Bunun icin simdilik sadece serileri yeniden\n",
    "# adlandirmaya konsantre olalim.\n",
    "\n",
    "lag_2s = transformator.laggeds(series, \"1, 2\") # orijinalleri koruyarak fark serileri alma"
   ]
  },
  {
   "cell_type": "code",
   "execution_count": 19,
   "metadata": {},
   "outputs": [
    {
     "data": {
      "text/html": [
       "<div>\n",
       "<style scoped>\n",
       "    .dataframe tbody tr th:only-of-type {\n",
       "        vertical-align: middle;\n",
       "    }\n",
       "\n",
       "    .dataframe tbody tr th {\n",
       "        vertical-align: top;\n",
       "    }\n",
       "\n",
       "    .dataframe thead th {\n",
       "        text-align: right;\n",
       "    }\n",
       "</style>\n",
       "<table border=\"1\" class=\"dataframe\">\n",
       "  <thead>\n",
       "    <tr style=\"text-align: right;\">\n",
       "      <th></th>\n",
       "      <th>USDTRY</th>\n",
       "      <th>EURTRY</th>\n",
       "      <th>USDTRY_LAG_1</th>\n",
       "      <th>EURTRY_LAG_1</th>\n",
       "      <th>USDTRY_LAG_2</th>\n",
       "      <th>EURTRY_LAG_2</th>\n",
       "    </tr>\n",
       "    <tr>\n",
       "      <th>Date</th>\n",
       "      <th></th>\n",
       "      <th></th>\n",
       "      <th></th>\n",
       "      <th></th>\n",
       "      <th></th>\n",
       "      <th></th>\n",
       "    </tr>\n",
       "  </thead>\n",
       "  <tbody>\n",
       "    <tr>\n",
       "      <th>2021-10-31</th>\n",
       "      <td>9.139945</td>\n",
       "      <td>10.601325</td>\n",
       "      <td>8.511882</td>\n",
       "      <td>10.028577</td>\n",
       "      <td>8.475715</td>\n",
       "      <td>9.978305</td>\n",
       "    </tr>\n",
       "    <tr>\n",
       "      <th>2021-11-30</th>\n",
       "      <td>10.523264</td>\n",
       "      <td>12.011395</td>\n",
       "      <td>9.139945</td>\n",
       "      <td>10.601325</td>\n",
       "      <td>8.511882</td>\n",
       "      <td>10.028577</td>\n",
       "    </tr>\n",
       "    <tr>\n",
       "      <th>2021-12-31</th>\n",
       "      <td>13.528496</td>\n",
       "      <td>15.289578</td>\n",
       "      <td>10.523264</td>\n",
       "      <td>12.011395</td>\n",
       "      <td>9.139945</td>\n",
       "      <td>10.601325</td>\n",
       "    </tr>\n",
       "  </tbody>\n",
       "</table>\n",
       "</div>"
      ],
      "text/plain": [
       "               USDTRY     EURTRY  USDTRY_LAG_1  EURTRY_LAG_1  USDTRY_LAG_2  \\\n",
       "Date                                                                         \n",
       "2021-10-31   9.139945  10.601325      8.511882     10.028577      8.475715   \n",
       "2021-11-30  10.523264  12.011395      9.139945     10.601325      8.511882   \n",
       "2021-12-31  13.528496  15.289578     10.523264     12.011395      9.139945   \n",
       "\n",
       "            EURTRY_LAG_2  \n",
       "Date                      \n",
       "2021-10-31      9.978305  \n",
       "2021-11-30     10.028577  \n",
       "2021-12-31     10.601325  "
      ]
     },
     "execution_count": 19,
     "metadata": {},
     "output_type": "execute_result"
    }
   ],
   "source": [
    "lag_2s.tail(3)"
   ]
  },
  {
   "cell_type": "markdown",
   "metadata": {},
   "source": [
    "transformator nesnesinin dondurdugu `USDTRY_LAG_1`, `EURTRY_LAG_1`, `USDTRY_LAG_2`, `EURTRY_LAG_2` seri\n",
    "isimleri begenmedigimiz icin serileri yeniden isimlendirecegiz."
   ]
  },
  {
   "cell_type": "code",
   "execution_count": 20,
   "metadata": {},
   "outputs": [],
   "source": [
    "# asagidaki orneklerde lag_2s degiskeni icindeki seriler orijinal lag_2s korunarak yeniden adlandirliyor.\n",
    "\n",
    "# yeni seri isimleri lag_2s'de bulunduklari sirada verilmeli.\n",
    "lag_2s_renamed = transformator.rename(lag_2s, \"utr, eutr, utrl1, eutrl1, utrl2, eutrl2\")\n",
    "\n",
    "# Asagidaki gibi de yeniden isimlendirme yapabiliriz.\n",
    "# Bir Liste'si listesi kullanarak\n",
    "new_names = [\"utr\", \"eutr\", \"utrl1\", \"eutrl1\", \"utrl2\", \"eutrl2\"]\n",
    "lag_2s_renamed = transformator.rename(lag_2s, new_names)\n",
    "\n",
    "# ya da yeni isimleri bir Tuple nesnesi olarak vererek.\n",
    "new_names = (\"utr\", \"eutr\", \"utrl1\", \"eutrl1\", \"utrl2\", \"eutrl2\")\n",
    "lag_2s_renamed = transformator.rename(lag_2s, new_names)"
   ]
  },
  {
   "cell_type": "code",
   "execution_count": 21,
   "metadata": {},
   "outputs": [
    {
     "data": {
      "text/html": [
       "<div>\n",
       "<style scoped>\n",
       "    .dataframe tbody tr th:only-of-type {\n",
       "        vertical-align: middle;\n",
       "    }\n",
       "\n",
       "    .dataframe tbody tr th {\n",
       "        vertical-align: top;\n",
       "    }\n",
       "\n",
       "    .dataframe thead th {\n",
       "        text-align: right;\n",
       "    }\n",
       "</style>\n",
       "<table border=\"1\" class=\"dataframe\">\n",
       "  <thead>\n",
       "    <tr style=\"text-align: right;\">\n",
       "      <th></th>\n",
       "      <th>utr</th>\n",
       "      <th>eutr</th>\n",
       "      <th>utrl1</th>\n",
       "      <th>eutrl1</th>\n",
       "      <th>utrl2</th>\n",
       "      <th>eutrl2</th>\n",
       "    </tr>\n",
       "    <tr>\n",
       "      <th>Date</th>\n",
       "      <th></th>\n",
       "      <th></th>\n",
       "      <th></th>\n",
       "      <th></th>\n",
       "      <th></th>\n",
       "      <th></th>\n",
       "    </tr>\n",
       "  </thead>\n",
       "  <tbody>\n",
       "    <tr>\n",
       "      <th>2021-01-31</th>\n",
       "      <td>7.393975</td>\n",
       "      <td>9.008090</td>\n",
       "      <td>NaN</td>\n",
       "      <td>NaN</td>\n",
       "      <td>NaN</td>\n",
       "      <td>NaN</td>\n",
       "    </tr>\n",
       "    <tr>\n",
       "      <th>2021-02-28</th>\n",
       "      <td>7.072365</td>\n",
       "      <td>8.556185</td>\n",
       "      <td>7.393975</td>\n",
       "      <td>9.008090</td>\n",
       "      <td>NaN</td>\n",
       "      <td>NaN</td>\n",
       "    </tr>\n",
       "    <tr>\n",
       "      <th>2021-03-31</th>\n",
       "      <td>7.628235</td>\n",
       "      <td>9.091334</td>\n",
       "      <td>7.072365</td>\n",
       "      <td>8.556185</td>\n",
       "      <td>7.393975</td>\n",
       "      <td>9.00809</td>\n",
       "    </tr>\n",
       "  </tbody>\n",
       "</table>\n",
       "</div>"
      ],
      "text/plain": [
       "                 utr      eutr     utrl1    eutrl1     utrl2   eutrl2\n",
       "Date                                                                 \n",
       "2021-01-31  7.393975  9.008090       NaN       NaN       NaN      NaN\n",
       "2021-02-28  7.072365  8.556185  7.393975  9.008090       NaN      NaN\n",
       "2021-03-31  7.628235  9.091334  7.072365  8.556185  7.393975  9.00809"
      ]
     },
     "execution_count": 21,
     "metadata": {},
     "output_type": "execute_result"
    }
   ],
   "source": [
    "lag_2s_renamed.head(3)"
   ]
  },
  {
   "cell_type": "markdown",
   "metadata": {},
   "source": [
    "Orijinal `lag_2s` serisinin hala eskisi gibi kaldigina dikkat edin."
   ]
  },
  {
   "cell_type": "code",
   "execution_count": 22,
   "metadata": {},
   "outputs": [
    {
     "data": {
      "text/html": [
       "<div>\n",
       "<style scoped>\n",
       "    .dataframe tbody tr th:only-of-type {\n",
       "        vertical-align: middle;\n",
       "    }\n",
       "\n",
       "    .dataframe tbody tr th {\n",
       "        vertical-align: top;\n",
       "    }\n",
       "\n",
       "    .dataframe thead th {\n",
       "        text-align: right;\n",
       "    }\n",
       "</style>\n",
       "<table border=\"1\" class=\"dataframe\">\n",
       "  <thead>\n",
       "    <tr style=\"text-align: right;\">\n",
       "      <th></th>\n",
       "      <th>USDTRY</th>\n",
       "      <th>EURTRY</th>\n",
       "      <th>USDTRY_LAG_1</th>\n",
       "      <th>EURTRY_LAG_1</th>\n",
       "      <th>USDTRY_LAG_2</th>\n",
       "      <th>EURTRY_LAG_2</th>\n",
       "    </tr>\n",
       "    <tr>\n",
       "      <th>Date</th>\n",
       "      <th></th>\n",
       "      <th></th>\n",
       "      <th></th>\n",
       "      <th></th>\n",
       "      <th></th>\n",
       "      <th></th>\n",
       "    </tr>\n",
       "  </thead>\n",
       "  <tbody>\n",
       "    <tr>\n",
       "      <th>2021-01-31</th>\n",
       "      <td>7.393975</td>\n",
       "      <td>9.008090</td>\n",
       "      <td>NaN</td>\n",
       "      <td>NaN</td>\n",
       "      <td>NaN</td>\n",
       "      <td>NaN</td>\n",
       "    </tr>\n",
       "    <tr>\n",
       "      <th>2021-02-28</th>\n",
       "      <td>7.072365</td>\n",
       "      <td>8.556185</td>\n",
       "      <td>7.393975</td>\n",
       "      <td>9.008090</td>\n",
       "      <td>NaN</td>\n",
       "      <td>NaN</td>\n",
       "    </tr>\n",
       "    <tr>\n",
       "      <th>2021-03-31</th>\n",
       "      <td>7.628235</td>\n",
       "      <td>9.091334</td>\n",
       "      <td>7.072365</td>\n",
       "      <td>8.556185</td>\n",
       "      <td>7.393975</td>\n",
       "      <td>9.00809</td>\n",
       "    </tr>\n",
       "  </tbody>\n",
       "</table>\n",
       "</div>"
      ],
      "text/plain": [
       "              USDTRY    EURTRY  USDTRY_LAG_1  EURTRY_LAG_1  USDTRY_LAG_2  \\\n",
       "Date                                                                       \n",
       "2021-01-31  7.393975  9.008090           NaN           NaN           NaN   \n",
       "2021-02-28  7.072365  8.556185      7.393975      9.008090           NaN   \n",
       "2021-03-31  7.628235  9.091334      7.072365      8.556185      7.393975   \n",
       "\n",
       "            EURTRY_LAG_2  \n",
       "Date                      \n",
       "2021-01-31           NaN  \n",
       "2021-02-28           NaN  \n",
       "2021-03-31       9.00809  "
      ]
     },
     "execution_count": 22,
     "metadata": {},
     "output_type": "execute_result"
    }
   ],
   "source": [
    "lag_2s.head(3)"
   ]
  },
  {
   "cell_type": "markdown",
   "metadata": {},
   "source": [
    "Ama isterseniz `inplace=True` parametresini kullanrak `lag_2s` serisini de degistirebilirsiniz."
   ]
  },
  {
   "cell_type": "code",
   "execution_count": 23,
   "metadata": {},
   "outputs": [],
   "source": [
    "# Bu, lag_2s icindeki serilerin ismini degistirir ve geriye herhangi bir veri dondurmez.\n",
    "transformator.rename(lag_2s, \"utr, eutr, utrl1, eutrl1, utrl2, eutrl2\", inplace=True)"
   ]
  },
  {
   "cell_type": "code",
   "execution_count": 24,
   "metadata": {},
   "outputs": [
    {
     "data": {
      "text/html": [
       "<div>\n",
       "<style scoped>\n",
       "    .dataframe tbody tr th:only-of-type {\n",
       "        vertical-align: middle;\n",
       "    }\n",
       "\n",
       "    .dataframe tbody tr th {\n",
       "        vertical-align: top;\n",
       "    }\n",
       "\n",
       "    .dataframe thead th {\n",
       "        text-align: right;\n",
       "    }\n",
       "</style>\n",
       "<table border=\"1\" class=\"dataframe\">\n",
       "  <thead>\n",
       "    <tr style=\"text-align: right;\">\n",
       "      <th></th>\n",
       "      <th>utr</th>\n",
       "      <th>eutr</th>\n",
       "      <th>utrl1</th>\n",
       "      <th>eutrl1</th>\n",
       "      <th>utrl2</th>\n",
       "      <th>eutrl2</th>\n",
       "    </tr>\n",
       "    <tr>\n",
       "      <th>Date</th>\n",
       "      <th></th>\n",
       "      <th></th>\n",
       "      <th></th>\n",
       "      <th></th>\n",
       "      <th></th>\n",
       "      <th></th>\n",
       "    </tr>\n",
       "  </thead>\n",
       "  <tbody>\n",
       "    <tr>\n",
       "      <th>2021-01-31</th>\n",
       "      <td>7.393975</td>\n",
       "      <td>9.008090</td>\n",
       "      <td>NaN</td>\n",
       "      <td>NaN</td>\n",
       "      <td>NaN</td>\n",
       "      <td>NaN</td>\n",
       "    </tr>\n",
       "    <tr>\n",
       "      <th>2021-02-28</th>\n",
       "      <td>7.072365</td>\n",
       "      <td>8.556185</td>\n",
       "      <td>7.393975</td>\n",
       "      <td>9.008090</td>\n",
       "      <td>NaN</td>\n",
       "      <td>NaN</td>\n",
       "    </tr>\n",
       "    <tr>\n",
       "      <th>2021-03-31</th>\n",
       "      <td>7.628235</td>\n",
       "      <td>9.091334</td>\n",
       "      <td>7.072365</td>\n",
       "      <td>8.556185</td>\n",
       "      <td>7.393975</td>\n",
       "      <td>9.00809</td>\n",
       "    </tr>\n",
       "  </tbody>\n",
       "</table>\n",
       "</div>"
      ],
      "text/plain": [
       "                 utr      eutr     utrl1    eutrl1     utrl2   eutrl2\n",
       "Date                                                                 \n",
       "2021-01-31  7.393975  9.008090       NaN       NaN       NaN      NaN\n",
       "2021-02-28  7.072365  8.556185  7.393975  9.008090       NaN      NaN\n",
       "2021-03-31  7.628235  9.091334  7.072365  8.556185  7.393975  9.00809"
      ]
     },
     "execution_count": 24,
     "metadata": {},
     "output_type": "execute_result"
    }
   ],
   "source": [
    "lag_2s.head(3)"
   ]
  },
  {
   "cell_type": "markdown",
   "metadata": {},
   "source": [
    "#### 4.2. [__Transformator ile Ondalık Hane Hassasiyeti Ayarlama__](https://github.com/syncoding/evdsts/blob/master/docs/manuals/manual_en.md#trans-precision)"
   ]
  },
  {
   "cell_type": "markdown",
   "metadata": {},
   "source": [
    "`set_precision()` metodunu kullanarak serilerin ondalık hane hassasiyetini ayarlayabilirsiniz."
   ]
  },
  {
   "cell_type": "code",
   "execution_count": 34,
   "metadata": {},
   "outputs": [],
   "source": [
    "connector = Connector(language=\"EN\")  # API Anahtarinizi daha onceden diske kaydettiginizi varsayiyoruz\n",
    "transformator = Transformator()\n",
    "\n",
    "# 'TP.DK.EUR.A.YTL' serisini daha onceden 'eurtry' referans ismiyle kaydettiginizi varsayiyoruz\n",
    "eurtry = connector.get_series(\"eurtry\",\n",
    "                              start_date=\"01.06.2022\",\n",
    "                              end_date=\"30.06.2022\",\n",
    "                              frequency=\"B\")"
   ]
  },
  {
   "cell_type": "code",
   "execution_count": 35,
   "metadata": {},
   "outputs": [],
   "source": [
    "# Bu, eurtry icindeki tum serilerin ondaliık sayi hassasiyetini 2'ye indirger ve size yeni bir seri verir.\n",
    "eurtry_p4 = transformator.set_precision(eurtry, 2)"
   ]
  },
  {
   "cell_type": "code",
   "execution_count": 36,
   "metadata": {},
   "outputs": [
    {
     "data": {
      "text/html": [
       "<div>\n",
       "<style scoped>\n",
       "    .dataframe tbody tr th:only-of-type {\n",
       "        vertical-align: middle;\n",
       "    }\n",
       "\n",
       "    .dataframe tbody tr th {\n",
       "        vertical-align: top;\n",
       "    }\n",
       "\n",
       "    .dataframe thead th {\n",
       "        text-align: right;\n",
       "    }\n",
       "</style>\n",
       "<table border=\"1\" class=\"dataframe\">\n",
       "  <thead>\n",
       "    <tr style=\"text-align: right;\">\n",
       "      <th></th>\n",
       "      <th>EURTRY</th>\n",
       "    </tr>\n",
       "    <tr>\n",
       "      <th>Date</th>\n",
       "      <th></th>\n",
       "    </tr>\n",
       "  </thead>\n",
       "  <tbody>\n",
       "    <tr>\n",
       "      <th>2022-06-01</th>\n",
       "      <td>17.57</td>\n",
       "    </tr>\n",
       "    <tr>\n",
       "      <th>2022-06-02</th>\n",
       "      <td>17.59</td>\n",
       "    </tr>\n",
       "    <tr>\n",
       "      <th>2022-06-03</th>\n",
       "      <td>17.57</td>\n",
       "    </tr>\n",
       "  </tbody>\n",
       "</table>\n",
       "</div>"
      ],
      "text/plain": [
       "            EURTRY\n",
       "Date              \n",
       "2022-06-01   17.57\n",
       "2022-06-02   17.59\n",
       "2022-06-03   17.57"
      ]
     },
     "execution_count": 36,
     "metadata": {},
     "output_type": "execute_result"
    }
   ],
   "source": [
    "eurtry_p4.head(3)"
   ]
  },
  {
   "cell_type": "code",
   "execution_count": 37,
   "metadata": {},
   "outputs": [],
   "source": [
    "# Bu ise; 'eurtry'nin kendisini degistirerek icindeki tum serilerin ondalik hassasiyetini 2'ye indirir\n",
    "# geri herhangi bir veri dondurmez\n",
    "transformator.set_precision(eurtry, 2, inplace=True)"
   ]
  },
  {
   "cell_type": "code",
   "execution_count": 38,
   "metadata": {},
   "outputs": [
    {
     "data": {
      "text/html": [
       "<div>\n",
       "<style scoped>\n",
       "    .dataframe tbody tr th:only-of-type {\n",
       "        vertical-align: middle;\n",
       "    }\n",
       "\n",
       "    .dataframe tbody tr th {\n",
       "        vertical-align: top;\n",
       "    }\n",
       "\n",
       "    .dataframe thead th {\n",
       "        text-align: right;\n",
       "    }\n",
       "</style>\n",
       "<table border=\"1\" class=\"dataframe\">\n",
       "  <thead>\n",
       "    <tr style=\"text-align: right;\">\n",
       "      <th></th>\n",
       "      <th>EURTRY</th>\n",
       "    </tr>\n",
       "    <tr>\n",
       "      <th>Date</th>\n",
       "      <th></th>\n",
       "    </tr>\n",
       "  </thead>\n",
       "  <tbody>\n",
       "    <tr>\n",
       "      <th>2022-06-01</th>\n",
       "      <td>17.57</td>\n",
       "    </tr>\n",
       "    <tr>\n",
       "      <th>2022-06-02</th>\n",
       "      <td>17.59</td>\n",
       "    </tr>\n",
       "    <tr>\n",
       "      <th>2022-06-03</th>\n",
       "      <td>17.57</td>\n",
       "    </tr>\n",
       "  </tbody>\n",
       "</table>\n",
       "</div>"
      ],
      "text/plain": [
       "            EURTRY\n",
       "Date              \n",
       "2022-06-01   17.57\n",
       "2022-06-02   17.59\n",
       "2022-06-03   17.57"
      ]
     },
     "execution_count": 38,
     "metadata": {},
     "output_type": "execute_result"
    }
   ],
   "source": [
    "eurtry.head(3)"
   ]
  },
  {
   "cell_type": "markdown",
   "metadata": {},
   "source": [
    "#### 4.3. [__Fark Alma: Δ(y<sub>t</sub>, i) = y<sub>t</sub> - y<sub>t-i</sub> = (1-L)<sup>i</sup>y<sub>t</sub>__](https://github.com/syncoding/evdsts/blob/master/docs/manuals/manual_en.md#regular-diff)"
   ]
  },
  {
   "cell_type": "markdown",
   "metadata": {},
   "source": [
    "Fark serileri almak için `Transformator`'un `diff()` metodunu kullanabilirsiniz.\n",
    "Fark serileri ile modelleme yapılırken göze alınması gereken en önemli husus, böyle bir modelin\n",
    "değişkenler arasındaki uzun dönem dengeyi açıklama gücünün olmayacağıdır. Fark serileri, serilerin\n",
    "içinde bulunan uzun dönem hafızayı da silme eğilimindedir."
   ]
  },
  {
   "cell_type": "code",
   "execution_count": 32,
   "metadata": {},
   "outputs": [],
   "source": [
    "connector = Connector()               # API Anahtarınızı diske kaydetmis oldugunuz varsayiliyor.\n",
    "transformator = Transformator(4)      # sonuclar aksi acikca istenmedigi muddetce ondalik hassasiyeti\n",
    "                                      # 4 olacak sekilde verilecek.\n",
    "\n",
    "usdtry = connector.get_series(\"usdtry\",\n",
    "                              start_date=\"01.06.2022\",\n",
    "                              end_date=\"30.06.2022\",\n",
    "                              frequency=\"B\")"
   ]
  },
  {
   "cell_type": "code",
   "execution_count": 32,
   "metadata": {},
   "outputs": [],
   "source": [
    "# Bu, size usdtry ve usdtry'nin birinci fark serisini verir.\n",
    "diff_with_originals_included = transformator.diff(usdtry)"
   ]
  },
  {
   "cell_type": "code",
   "execution_count": 33,
   "metadata": {},
   "outputs": [
    {
     "data": {
      "text/html": [
       "<div>\n",
       "<style scoped>\n",
       "    .dataframe tbody tr th:only-of-type {\n",
       "        vertical-align: middle;\n",
       "    }\n",
       "\n",
       "    .dataframe tbody tr th {\n",
       "        vertical-align: top;\n",
       "    }\n",
       "\n",
       "    .dataframe thead th {\n",
       "        text-align: right;\n",
       "    }\n",
       "</style>\n",
       "<table border=\"1\" class=\"dataframe\">\n",
       "  <thead>\n",
       "    <tr style=\"text-align: right;\">\n",
       "      <th></th>\n",
       "      <th>USDTRY</th>\n",
       "      <th>USDTRY_DIFF</th>\n",
       "    </tr>\n",
       "    <tr>\n",
       "      <th>Date</th>\n",
       "      <th></th>\n",
       "      <th></th>\n",
       "    </tr>\n",
       "  </thead>\n",
       "  <tbody>\n",
       "    <tr>\n",
       "      <th>2022-06-01</th>\n",
       "      <td>16.387600</td>\n",
       "      <td>NaN</td>\n",
       "    </tr>\n",
       "    <tr>\n",
       "      <th>2022-06-02</th>\n",
       "      <td>16.412701</td>\n",
       "      <td>0.0251</td>\n",
       "    </tr>\n",
       "    <tr>\n",
       "      <th>2022-06-03</th>\n",
       "      <td>16.438999</td>\n",
       "      <td>0.0263</td>\n",
       "    </tr>\n",
       "    <tr>\n",
       "      <th>2022-06-06</th>\n",
       "      <td>16.476500</td>\n",
       "      <td>0.0375</td>\n",
       "    </tr>\n",
       "    <tr>\n",
       "      <th>2022-06-07</th>\n",
       "      <td>16.558800</td>\n",
       "      <td>0.0823</td>\n",
       "    </tr>\n",
       "  </tbody>\n",
       "</table>\n",
       "</div>"
      ],
      "text/plain": [
       "               USDTRY  USDTRY_DIFF\n",
       "Date                              \n",
       "2022-06-01  16.387600          NaN\n",
       "2022-06-02  16.412701       0.0251\n",
       "2022-06-03  16.438999       0.0263\n",
       "2022-06-06  16.476500       0.0375\n",
       "2022-06-07  16.558800       0.0823"
      ]
     },
     "execution_count": 33,
     "metadata": {},
     "output_type": "execute_result"
    }
   ],
   "source": [
    "diff_with_originals_included.head()"
   ]
  },
  {
   "cell_type": "markdown",
   "metadata": {},
   "source": [
    "Ön tanımlı olarak; fark serileri ile birlikte orijinal seriler de geri döndürülür. Fark serileri ile\n",
    "birlikte orijinal serilerin de geri dönen veri icinde olmasini istemiyorsanız `keep_originals`\n",
    "parametresini kullanabilirsiniz. Buna ek olarak, 2., 3., vs. gibi daha üst seviye farklar almak için\n",
    "`diff()` metodunun `order` parametresini kullanabilirsiniz. Örneğin `order=2`; serilerin 2.farkını\n",
    "verecektir."
   ]
  },
  {
   "cell_type": "code",
   "execution_count": 39,
   "metadata": {},
   "outputs": [],
   "source": [
    "# Bu, orijinal seriler olmaksizin 2. farki verir.\n",
    "only_diff_2 = transformator.diff(usdtry, order=2, keep_originals=False)"
   ]
  },
  {
   "cell_type": "code",
   "execution_count": 40,
   "metadata": {},
   "outputs": [
    {
     "data": {
      "text/html": [
       "<div>\n",
       "<style scoped>\n",
       "    .dataframe tbody tr th:only-of-type {\n",
       "        vertical-align: middle;\n",
       "    }\n",
       "\n",
       "    .dataframe tbody tr th {\n",
       "        vertical-align: top;\n",
       "    }\n",
       "\n",
       "    .dataframe thead th {\n",
       "        text-align: right;\n",
       "    }\n",
       "</style>\n",
       "<table border=\"1\" class=\"dataframe\">\n",
       "  <thead>\n",
       "    <tr style=\"text-align: right;\">\n",
       "      <th></th>\n",
       "      <th>USDTRY_DIFF_2</th>\n",
       "    </tr>\n",
       "    <tr>\n",
       "      <th>Date</th>\n",
       "      <th></th>\n",
       "    </tr>\n",
       "  </thead>\n",
       "  <tbody>\n",
       "    <tr>\n",
       "      <th>2022-06-01</th>\n",
       "      <td>NaN</td>\n",
       "    </tr>\n",
       "    <tr>\n",
       "      <th>2022-06-02</th>\n",
       "      <td>NaN</td>\n",
       "    </tr>\n",
       "    <tr>\n",
       "      <th>2022-06-03</th>\n",
       "      <td>0.051399</td>\n",
       "    </tr>\n",
       "    <tr>\n",
       "      <th>2022-06-06</th>\n",
       "      <td>0.063799</td>\n",
       "    </tr>\n",
       "    <tr>\n",
       "      <th>2022-06-07</th>\n",
       "      <td>0.119801</td>\n",
       "    </tr>\n",
       "  </tbody>\n",
       "</table>\n",
       "</div>"
      ],
      "text/plain": [
       "            USDTRY_DIFF_2\n",
       "Date                     \n",
       "2022-06-01            NaN\n",
       "2022-06-02            NaN\n",
       "2022-06-03       0.051399\n",
       "2022-06-06       0.063799\n",
       "2022-06-07       0.119801"
      ]
     },
     "execution_count": 40,
     "metadata": {},
     "output_type": "execute_result"
    }
   ],
   "source": [
    "only_diff_2.head()"
   ]
  },
  {
   "cell_type": "code",
   "execution_count": 44,
   "metadata": {},
   "outputs": [],
   "source": [
    "# Bu, 3.fark serisini 2 ondalık hane hassasiyetle verir\n",
    "third_diff = transformator.diff(usdtry, order=3, precision=2)"
   ]
  },
  {
   "cell_type": "code",
   "execution_count": 45,
   "metadata": {},
   "outputs": [
    {
     "data": {
      "text/html": [
       "<div>\n",
       "<style scoped>\n",
       "    .dataframe tbody tr th:only-of-type {\n",
       "        vertical-align: middle;\n",
       "    }\n",
       "\n",
       "    .dataframe tbody tr th {\n",
       "        vertical-align: top;\n",
       "    }\n",
       "\n",
       "    .dataframe thead th {\n",
       "        text-align: right;\n",
       "    }\n",
       "</style>\n",
       "<table border=\"1\" class=\"dataframe\">\n",
       "  <thead>\n",
       "    <tr style=\"text-align: right;\">\n",
       "      <th></th>\n",
       "      <th>USDTRY</th>\n",
       "      <th>USDTRY_DIFF_3</th>\n",
       "    </tr>\n",
       "    <tr>\n",
       "      <th>Date</th>\n",
       "      <th></th>\n",
       "      <th></th>\n",
       "    </tr>\n",
       "  </thead>\n",
       "  <tbody>\n",
       "    <tr>\n",
       "      <th>2022-06-01</th>\n",
       "      <td>16.387600</td>\n",
       "      <td>NaN</td>\n",
       "    </tr>\n",
       "    <tr>\n",
       "      <th>2022-06-02</th>\n",
       "      <td>16.412701</td>\n",
       "      <td>NaN</td>\n",
       "    </tr>\n",
       "    <tr>\n",
       "      <th>2022-06-03</th>\n",
       "      <td>16.438999</td>\n",
       "      <td>NaN</td>\n",
       "    </tr>\n",
       "    <tr>\n",
       "      <th>2022-06-06</th>\n",
       "      <td>16.476500</td>\n",
       "      <td>0.09</td>\n",
       "    </tr>\n",
       "    <tr>\n",
       "      <th>2022-06-07</th>\n",
       "      <td>16.558800</td>\n",
       "      <td>0.15</td>\n",
       "    </tr>\n",
       "  </tbody>\n",
       "</table>\n",
       "</div>"
      ],
      "text/plain": [
       "               USDTRY  USDTRY_DIFF_3\n",
       "Date                                \n",
       "2022-06-01  16.387600            NaN\n",
       "2022-06-02  16.412701            NaN\n",
       "2022-06-03  16.438999            NaN\n",
       "2022-06-06  16.476500           0.09\n",
       "2022-06-07  16.558800           0.15"
      ]
     },
     "execution_count": 45,
     "metadata": {},
     "output_type": "execute_result"
    }
   ],
   "source": [
    "third_diff.head()"
   ]
  },
  {
   "cell_type": "markdown",
   "metadata": {},
   "source": [
    "`diff()`; çoğul seriler için de kullanılabilir."
   ]
  },
  {
   "cell_type": "code",
   "execution_count": 13,
   "metadata": {},
   "outputs": [],
   "source": [
    "rates = connector.get_series(\"usdtry, eurtry\",\n",
    "                              start_date=\"01.06.2022\",\n",
    "                              end_date=\"30.06.2022\",\n",
    "                              frequency=\"B\")"
   ]
  },
  {
   "cell_type": "code",
   "execution_count": 42,
   "metadata": {},
   "outputs": [],
   "source": [
    "# Bu, usdtry ve eurtry serilerinin 1. fark serilerini verir.\n",
    "rates_diff = transformator.diff(rates)"
   ]
  },
  {
   "cell_type": "code",
   "execution_count": 43,
   "metadata": {},
   "outputs": [
    {
     "data": {
      "text/html": [
       "<div>\n",
       "<style scoped>\n",
       "    .dataframe tbody tr th:only-of-type {\n",
       "        vertical-align: middle;\n",
       "    }\n",
       "\n",
       "    .dataframe tbody tr th {\n",
       "        vertical-align: top;\n",
       "    }\n",
       "\n",
       "    .dataframe thead th {\n",
       "        text-align: right;\n",
       "    }\n",
       "</style>\n",
       "<table border=\"1\" class=\"dataframe\">\n",
       "  <thead>\n",
       "    <tr style=\"text-align: right;\">\n",
       "      <th></th>\n",
       "      <th>USDTRY</th>\n",
       "      <th>EURTRY</th>\n",
       "      <th>USDTRY_DIFF</th>\n",
       "      <th>EURTRY_DIFF</th>\n",
       "    </tr>\n",
       "    <tr>\n",
       "      <th>Date</th>\n",
       "      <th></th>\n",
       "      <th></th>\n",
       "      <th></th>\n",
       "      <th></th>\n",
       "    </tr>\n",
       "  </thead>\n",
       "  <tbody>\n",
       "    <tr>\n",
       "      <th>2022-06-01</th>\n",
       "      <td>16.387600</td>\n",
       "      <td>17.5702</td>\n",
       "      <td>NaN</td>\n",
       "      <td>NaN</td>\n",
       "    </tr>\n",
       "    <tr>\n",
       "      <th>2022-06-02</th>\n",
       "      <td>16.412701</td>\n",
       "      <td>17.5916</td>\n",
       "      <td>0.025101</td>\n",
       "      <td>0.021400</td>\n",
       "    </tr>\n",
       "    <tr>\n",
       "      <th>2022-06-03</th>\n",
       "      <td>16.438999</td>\n",
       "      <td>17.5700</td>\n",
       "      <td>0.026299</td>\n",
       "      <td>-0.021601</td>\n",
       "    </tr>\n",
       "    <tr>\n",
       "      <th>2022-06-06</th>\n",
       "      <td>16.476500</td>\n",
       "      <td>17.7066</td>\n",
       "      <td>0.037500</td>\n",
       "      <td>0.136600</td>\n",
       "    </tr>\n",
       "    <tr>\n",
       "      <th>2022-06-07</th>\n",
       "      <td>16.558800</td>\n",
       "      <td>17.7785</td>\n",
       "      <td>0.082300</td>\n",
       "      <td>0.071899</td>\n",
       "    </tr>\n",
       "  </tbody>\n",
       "</table>\n",
       "</div>"
      ],
      "text/plain": [
       "               USDTRY   EURTRY  USDTRY_DIFF  EURTRY_DIFF\n",
       "Date                                                    \n",
       "2022-06-01  16.387600  17.5702          NaN          NaN\n",
       "2022-06-02  16.412701  17.5916     0.025101     0.021400\n",
       "2022-06-03  16.438999  17.5700     0.026299    -0.021601\n",
       "2022-06-06  16.476500  17.7066     0.037500     0.136600\n",
       "2022-06-07  16.558800  17.7785     0.082300     0.071899"
      ]
     },
     "execution_count": 43,
     "metadata": {},
     "output_type": "execute_result"
    }
   ],
   "source": [
    "rates_diff.head()"
   ]
  },
  {
   "cell_type": "markdown",
   "metadata": {},
   "source": [
    "#### 4.4. [__Doğal Logaritmik Dönüşüm: ln(y<sub>t</sub>)__](https://github.com/syncoding/evdsts/blob/master/docs/manuals/manual_en.md#log-transform)"
   ]
  },
  {
   "cell_type": "markdown",
   "metadata": {},
   "source": [
    "Verilen serilerin doğal logaritmalarını almak için `ln()` metodunu kullanabilirsinz. Benzer şekilde,\n",
    "`keep_originals` parametresi geri dönen veri içinde orijinal serilerin de olup olmayacağını belirler.\n",
    "Logaritmik dönüşüm, seri varyanslarının yüksek olmasından doğan modelleme problemlerini giderebiir."
   ]
  },
  {
   "cell_type": "code",
   "execution_count": 39,
   "metadata": {},
   "outputs": [],
   "source": [
    "usdtry = connector.get_series(\"usdtry\",\n",
    "                              start_date=\"01.06.2022\",\n",
    "                              end_date=\"30.06.2022\",\n",
    "                              frequency=\"B\")"
   ]
  },
  {
   "cell_type": "code",
   "execution_count": 46,
   "metadata": {},
   "outputs": [],
   "source": [
    "usd_and_ln_usd = transformator.ln(usdtry)                 # bu, usdtry ln(usdtry)'yi verir\n",
    "\n",
    "ln_usd = transformator.ln(usdtry, keep_originals=False)   # bu ise sadece ln(usdtry)'yi verir."
   ]
  },
  {
   "cell_type": "code",
   "execution_count": 48,
   "metadata": {},
   "outputs": [
    {
     "data": {
      "text/html": [
       "<div>\n",
       "<style scoped>\n",
       "    .dataframe tbody tr th:only-of-type {\n",
       "        vertical-align: middle;\n",
       "    }\n",
       "\n",
       "    .dataframe tbody tr th {\n",
       "        vertical-align: top;\n",
       "    }\n",
       "\n",
       "    .dataframe thead th {\n",
       "        text-align: right;\n",
       "    }\n",
       "</style>\n",
       "<table border=\"1\" class=\"dataframe\">\n",
       "  <thead>\n",
       "    <tr style=\"text-align: right;\">\n",
       "      <th></th>\n",
       "      <th>USDTRY</th>\n",
       "      <th>USDTRY_LN</th>\n",
       "    </tr>\n",
       "    <tr>\n",
       "      <th>Date</th>\n",
       "      <th></th>\n",
       "      <th></th>\n",
       "    </tr>\n",
       "  </thead>\n",
       "  <tbody>\n",
       "    <tr>\n",
       "      <th>2022-06-01</th>\n",
       "      <td>16.387600</td>\n",
       "      <td>2.796525</td>\n",
       "    </tr>\n",
       "    <tr>\n",
       "      <th>2022-06-02</th>\n",
       "      <td>16.412701</td>\n",
       "      <td>2.798055</td>\n",
       "    </tr>\n",
       "  </tbody>\n",
       "</table>\n",
       "</div>"
      ],
      "text/plain": [
       "               USDTRY  USDTRY_LN\n",
       "Date                            \n",
       "2022-06-01  16.387600   2.796525\n",
       "2022-06-02  16.412701   2.798055"
      ]
     },
     "execution_count": 48,
     "metadata": {},
     "output_type": "execute_result"
    }
   ],
   "source": [
    "usd_and_ln_usd.head(2)"
   ]
  },
  {
   "cell_type": "code",
   "execution_count": 50,
   "metadata": {},
   "outputs": [
    {
     "data": {
      "text/html": [
       "<div>\n",
       "<style scoped>\n",
       "    .dataframe tbody tr th:only-of-type {\n",
       "        vertical-align: middle;\n",
       "    }\n",
       "\n",
       "    .dataframe tbody tr th {\n",
       "        vertical-align: top;\n",
       "    }\n",
       "\n",
       "    .dataframe thead th {\n",
       "        text-align: right;\n",
       "    }\n",
       "</style>\n",
       "<table border=\"1\" class=\"dataframe\">\n",
       "  <thead>\n",
       "    <tr style=\"text-align: right;\">\n",
       "      <th></th>\n",
       "      <th>USDTRY_LN</th>\n",
       "    </tr>\n",
       "    <tr>\n",
       "      <th>Date</th>\n",
       "      <th></th>\n",
       "    </tr>\n",
       "  </thead>\n",
       "  <tbody>\n",
       "    <tr>\n",
       "      <th>2022-06-01</th>\n",
       "      <td>2.796525</td>\n",
       "    </tr>\n",
       "    <tr>\n",
       "      <th>2022-06-02</th>\n",
       "      <td>2.798055</td>\n",
       "    </tr>\n",
       "  </tbody>\n",
       "</table>\n",
       "</div>"
      ],
      "text/plain": [
       "            USDTRY_LN\n",
       "Date                 \n",
       "2022-06-01   2.796525\n",
       "2022-06-02   2.798055"
      ]
     },
     "execution_count": 50,
     "metadata": {},
     "output_type": "execute_result"
    }
   ],
   "source": [
    "ln_usd.head(2)"
   ]
  },
  {
   "cell_type": "markdown",
   "metadata": {},
   "source": [
    "`ln()`; çoğul seriler için de kullanılabilir."
   ]
  },
  {
   "cell_type": "code",
   "execution_count": 41,
   "metadata": {},
   "outputs": [],
   "source": [
    "rates = connector.get_series(\"usdtry, eurtry\",\n",
    "                              start_date=\"01.06.2022\",\n",
    "                              end_date=\"30.06.2022\",\n",
    "                              frequency=\"B\")"
   ]
  },
  {
   "cell_type": "code",
   "execution_count": 51,
   "metadata": {},
   "outputs": [],
   "source": [
    "# daha önce 'usdtry' ve 'eurusd'yi indirip 'rates' degiskenine atamistik.\n",
    "\n",
    "# bu, ln(usdtry) ve ln(eurtry)'yi virgulden sonra 3 hane hassasiyetiyle verir.\n",
    "ln_rates = transformator.ln(rates, precision=3)"
   ]
  },
  {
   "cell_type": "code",
   "execution_count": 52,
   "metadata": {},
   "outputs": [
    {
     "data": {
      "text/html": [
       "<div>\n",
       "<style scoped>\n",
       "    .dataframe tbody tr th:only-of-type {\n",
       "        vertical-align: middle;\n",
       "    }\n",
       "\n",
       "    .dataframe tbody tr th {\n",
       "        vertical-align: top;\n",
       "    }\n",
       "\n",
       "    .dataframe thead th {\n",
       "        text-align: right;\n",
       "    }\n",
       "</style>\n",
       "<table border=\"1\" class=\"dataframe\">\n",
       "  <thead>\n",
       "    <tr style=\"text-align: right;\">\n",
       "      <th></th>\n",
       "      <th>USDTRY</th>\n",
       "      <th>EURTRY</th>\n",
       "      <th>USDTRY_LN</th>\n",
       "      <th>EURTRY_LN</th>\n",
       "    </tr>\n",
       "    <tr>\n",
       "      <th>Date</th>\n",
       "      <th></th>\n",
       "      <th></th>\n",
       "      <th></th>\n",
       "      <th></th>\n",
       "    </tr>\n",
       "  </thead>\n",
       "  <tbody>\n",
       "    <tr>\n",
       "      <th>2022-06-01</th>\n",
       "      <td>16.387600</td>\n",
       "      <td>17.5702</td>\n",
       "      <td>2.797</td>\n",
       "      <td>2.866</td>\n",
       "    </tr>\n",
       "    <tr>\n",
       "      <th>2022-06-02</th>\n",
       "      <td>16.412701</td>\n",
       "      <td>17.5916</td>\n",
       "      <td>2.798</td>\n",
       "      <td>2.867</td>\n",
       "    </tr>\n",
       "    <tr>\n",
       "      <th>2022-06-03</th>\n",
       "      <td>16.438999</td>\n",
       "      <td>17.5700</td>\n",
       "      <td>2.800</td>\n",
       "      <td>2.866</td>\n",
       "    </tr>\n",
       "  </tbody>\n",
       "</table>\n",
       "</div>"
      ],
      "text/plain": [
       "               USDTRY   EURTRY  USDTRY_LN  EURTRY_LN\n",
       "Date                                                \n",
       "2022-06-01  16.387600  17.5702      2.797      2.866\n",
       "2022-06-02  16.412701  17.5916      2.798      2.867\n",
       "2022-06-03  16.438999  17.5700      2.800      2.866"
      ]
     },
     "execution_count": 52,
     "metadata": {},
     "output_type": "execute_result"
    }
   ],
   "source": [
    "ln_rates.head(3)"
   ]
  },
  {
   "cell_type": "markdown",
   "metadata": {},
   "source": [
    "#### 4.5. [__Logaritmik Fark (LogReturn): Δ(ln(y<sub>t</sub>), i) = ln(y<sub>t</sub>) - ln(y<sub>t-i</sub>) = (1-L)<sup>i</sup>ln(y<sub>t</sub>)__](https://github.com/syncoding/evdsts/blob/master/docs/manuals/manual_en.md#logaritmic-diff)"
   ]
  },
  {
   "cell_type": "markdown",
   "metadata": {},
   "source": [
    "Logaritmik fark serileri (log returns) almak için `lndiff()` metodunu kullanabilirsiniz. Benzer şekilde,\n",
    "`keep_originals` parameteresi geri dönen seriler içinde orijinal serilerin de olup olmayacağını\n",
    "belirler. Logaritmik farklar simetrik karakterlidir. Örneğin `t` zamanında `0.2` birim logaritmik fark\n",
    "`t+1` zamanında ise `-0.2` birimlik logaritmik fark oluşmussa; bu iki oluşumun toplam etkisi `0` olacaktır.\n",
    "Yüzdelik büyüme serileri ise asimetrik karakterlidir. Örneğin; `t` anında oluşan `%20`'lik büyüme ve\n",
    "`t+1` anında oluşan `-%20`'lik küçülmenin toplam net etkisi `-%4` küçülme olacaktır."
   ]
  },
  {
   "cell_type": "code",
   "execution_count": 40,
   "metadata": {},
   "outputs": [],
   "source": [
    "usdtry = connector.get_series(\"usdtry\",\n",
    "                              start_date=\"01.06.2022\",\n",
    "                              end_date=\"30.06.2022\",\n",
    "                              frequency=\"B\")"
   ]
  },
  {
   "cell_type": "code",
   "execution_count": 33,
   "metadata": {},
   "outputs": [],
   "source": [
    "# bu, 1.logaritmik farklari verir (log returns)\n",
    "usd_log_return = transformator.lndiff(usdtry)\n",
    "\n",
    "# bu, 2.logaritmik farklari verir\n",
    "usd_2nd_lndiff = transformator.lndiff(usdtry, order=2)\n",
    "\n",
    "# bu, sadece 1.logaritmik farklari verir (orijinal seriler geri dondurlmez)\n",
    "only_log_return = transformator.lndiff(usdtry, keep_originals=False)"
   ]
  },
  {
   "cell_type": "code",
   "execution_count": 34,
   "metadata": {},
   "outputs": [
    {
     "data": {
      "text/html": [
       "<div>\n",
       "<style scoped>\n",
       "    .dataframe tbody tr th:only-of-type {\n",
       "        vertical-align: middle;\n",
       "    }\n",
       "\n",
       "    .dataframe tbody tr th {\n",
       "        vertical-align: top;\n",
       "    }\n",
       "\n",
       "    .dataframe thead th {\n",
       "        text-align: right;\n",
       "    }\n",
       "</style>\n",
       "<table border=\"1\" class=\"dataframe\">\n",
       "  <thead>\n",
       "    <tr style=\"text-align: right;\">\n",
       "      <th></th>\n",
       "      <th>USDTRY</th>\n",
       "      <th>USDTRY_LNDIFF</th>\n",
       "    </tr>\n",
       "    <tr>\n",
       "      <th>Date</th>\n",
       "      <th></th>\n",
       "      <th></th>\n",
       "    </tr>\n",
       "  </thead>\n",
       "  <tbody>\n",
       "    <tr>\n",
       "      <th>2022-06-01</th>\n",
       "      <td>16.387600</td>\n",
       "      <td>NaN</td>\n",
       "    </tr>\n",
       "    <tr>\n",
       "      <th>2022-06-02</th>\n",
       "      <td>16.412701</td>\n",
       "      <td>0.0015</td>\n",
       "    </tr>\n",
       "    <tr>\n",
       "      <th>2022-06-03</th>\n",
       "      <td>16.438999</td>\n",
       "      <td>0.0016</td>\n",
       "    </tr>\n",
       "  </tbody>\n",
       "</table>\n",
       "</div>"
      ],
      "text/plain": [
       "               USDTRY  USDTRY_LNDIFF\n",
       "Date                                \n",
       "2022-06-01  16.387600            NaN\n",
       "2022-06-02  16.412701         0.0015\n",
       "2022-06-03  16.438999         0.0016"
      ]
     },
     "execution_count": 34,
     "metadata": {},
     "output_type": "execute_result"
    }
   ],
   "source": [
    "usd_log_return.head(3)"
   ]
  },
  {
   "cell_type": "markdown",
   "metadata": {},
   "source": [
    "`lndiff()`; çoğul seriler için de kullanılabilir."
   ]
  },
  {
   "cell_type": "code",
   "execution_count": null,
   "metadata": {},
   "outputs": [],
   "source": [
    "rates = connector.get_series(\"usdtry, eurtry\",\n",
    "                              start_date=\"01.06.2022\",\n",
    "                              end_date=\"30.06.2022\",\n",
    "                              frequency=\"B\")"
   ]
  },
  {
   "cell_type": "code",
   "execution_count": 53,
   "metadata": {},
   "outputs": [],
   "source": [
    "# bu, noktadan sonra 4 hane hassasiyetle usdtry ve eurtry serilerinin log return serilerini verir\n",
    "rates_lr = transformator.lndiff(rates, precision=4)"
   ]
  },
  {
   "cell_type": "code",
   "execution_count": 54,
   "metadata": {},
   "outputs": [
    {
     "data": {
      "text/html": [
       "<div>\n",
       "<style scoped>\n",
       "    .dataframe tbody tr th:only-of-type {\n",
       "        vertical-align: middle;\n",
       "    }\n",
       "\n",
       "    .dataframe tbody tr th {\n",
       "        vertical-align: top;\n",
       "    }\n",
       "\n",
       "    .dataframe thead th {\n",
       "        text-align: right;\n",
       "    }\n",
       "</style>\n",
       "<table border=\"1\" class=\"dataframe\">\n",
       "  <thead>\n",
       "    <tr style=\"text-align: right;\">\n",
       "      <th></th>\n",
       "      <th>USDTRY</th>\n",
       "      <th>EURTRY</th>\n",
       "      <th>USDTRY_LNDIFF</th>\n",
       "      <th>EURTRY_LNDIFF</th>\n",
       "    </tr>\n",
       "    <tr>\n",
       "      <th>Date</th>\n",
       "      <th></th>\n",
       "      <th></th>\n",
       "      <th></th>\n",
       "      <th></th>\n",
       "    </tr>\n",
       "  </thead>\n",
       "  <tbody>\n",
       "    <tr>\n",
       "      <th>2022-06-01</th>\n",
       "      <td>16.387600</td>\n",
       "      <td>17.5702</td>\n",
       "      <td>NaN</td>\n",
       "      <td>NaN</td>\n",
       "    </tr>\n",
       "    <tr>\n",
       "      <th>2022-06-02</th>\n",
       "      <td>16.412701</td>\n",
       "      <td>17.5916</td>\n",
       "      <td>0.0015</td>\n",
       "      <td>0.0012</td>\n",
       "    </tr>\n",
       "    <tr>\n",
       "      <th>2022-06-03</th>\n",
       "      <td>16.438999</td>\n",
       "      <td>17.5700</td>\n",
       "      <td>0.0016</td>\n",
       "      <td>-0.0012</td>\n",
       "    </tr>\n",
       "  </tbody>\n",
       "</table>\n",
       "</div>"
      ],
      "text/plain": [
       "               USDTRY   EURTRY  USDTRY_LNDIFF  EURTRY_LNDIFF\n",
       "Date                                                        \n",
       "2022-06-01  16.387600  17.5702            NaN            NaN\n",
       "2022-06-02  16.412701  17.5916         0.0015         0.0012\n",
       "2022-06-03  16.438999  17.5700         0.0016        -0.0012"
      ]
     },
     "execution_count": 54,
     "metadata": {},
     "output_type": "execute_result"
    }
   ],
   "source": [
    "rates_lr.head(3)"
   ]
  },
  {
   "cell_type": "markdown",
   "metadata": {},
   "source": [
    "#### 4.6. [__Deterministik Trend: y<sub>t</sub> = β<sub>0</sub> + β<sub>1</sub>Trend + β<sub>2</sub>Trend<sup>2</sup> + ... β<sub>n</sub>Trend<sup>n</sup> + ε<sub>t</sub>__](https://github.com/syncoding/evdsts/blob/master/docs/manuals/manual_en.md#deterministic-trend)"
   ]
  },
  {
   "cell_type": "markdown",
   "metadata": {},
   "source": [
    "Bir deterministik trend modelinden alınan tahmin değerlerini almak almak için `deterministic_trend()`\n",
    "metodunu kullanabilirsiniz. Benzer şekilde, `keep_originals` parameteresi geri dönen seriler içinde\n",
    "orijinal serilerin de olup olmayacağını belirler.\n",
    "\n",
    "Deterministik trend modeli aşağıdaki gibi oluşturulmaktadır;\n",
    "\n",
    " y<sub>t</sub> = β<sub>0</sub> + β<sub>1</sub>Trend + β<sub>2</sub>Trend<sup>2</sup> + ... β<sub>n</sub>Trend<sup>n</sup> + ε<sub>t</sub>\n",
    "\n",
    "Deterministik trendin σ<sup>2</sup>y<sub>t</sub> = σ<sup>2</sup> şartını sağlayan bir olgu olduğuna dikkat edin.\n",
    "Bu şart, sürecin varyansının zamana göre değişmediğini yani sabit olduğunu belirtmektedir. Böyle bir süreç, _trend durağan_ süreç olarak da adlandırılır ve orijinal seriden bu trend çıkarılarak durağanlık sağlanabilir. Bu yöntem\n",
    "bazen `dekompozisyon` olarak da adlandırılır."
   ]
  },
  {
   "cell_type": "code",
   "execution_count": null,
   "metadata": {},
   "outputs": [],
   "source": [
    "usdtry = connector.get_series(\"usdtry\",\n",
    "                              start_date=\"01.06.2022\",\n",
    "                              end_date=\"30.06.2022\",\n",
    "                              frequency=\"B\")"
   ]
  },
  {
   "cell_type": "code",
   "execution_count": 8,
   "metadata": {},
   "outputs": [],
   "source": [
    "# bu, lineer trend modelinin tahmin degerlerini verir.\n",
    "dt_forecast = transformator.deterministic_trend(usdtry)"
   ]
  },
  {
   "cell_type": "code",
   "execution_count": 9,
   "metadata": {},
   "outputs": [
    {
     "data": {
      "text/html": [
       "<div>\n",
       "<style scoped>\n",
       "    .dataframe tbody tr th:only-of-type {\n",
       "        vertical-align: middle;\n",
       "    }\n",
       "\n",
       "    .dataframe tbody tr th {\n",
       "        vertical-align: top;\n",
       "    }\n",
       "\n",
       "    .dataframe thead th {\n",
       "        text-align: right;\n",
       "    }\n",
       "</style>\n",
       "<table border=\"1\" class=\"dataframe\">\n",
       "  <thead>\n",
       "    <tr style=\"text-align: right;\">\n",
       "      <th></th>\n",
       "      <th>USDTRY</th>\n",
       "      <th>USDTRY_LINTR</th>\n",
       "    </tr>\n",
       "    <tr>\n",
       "      <th>Date</th>\n",
       "      <th></th>\n",
       "      <th></th>\n",
       "    </tr>\n",
       "  </thead>\n",
       "  <tbody>\n",
       "    <tr>\n",
       "      <th>2022-06-01</th>\n",
       "      <td>16.387600</td>\n",
       "      <td>16.682199</td>\n",
       "    </tr>\n",
       "    <tr>\n",
       "      <th>2022-06-02</th>\n",
       "      <td>16.412701</td>\n",
       "      <td>16.709101</td>\n",
       "    </tr>\n",
       "    <tr>\n",
       "      <th>2022-06-03</th>\n",
       "      <td>16.438999</td>\n",
       "      <td>16.736000</td>\n",
       "    </tr>\n",
       "    <tr>\n",
       "      <th>2022-06-06</th>\n",
       "      <td>16.476500</td>\n",
       "      <td>16.762899</td>\n",
       "    </tr>\n",
       "    <tr>\n",
       "      <th>2022-06-07</th>\n",
       "      <td>16.558800</td>\n",
       "      <td>16.789801</td>\n",
       "    </tr>\n",
       "  </tbody>\n",
       "</table>\n",
       "</div>"
      ],
      "text/plain": [
       "               USDTRY  USDTRY_LINTR\n",
       "Date                               \n",
       "2022-06-01  16.387600     16.682199\n",
       "2022-06-02  16.412701     16.709101\n",
       "2022-06-03  16.438999     16.736000\n",
       "2022-06-06  16.476500     16.762899\n",
       "2022-06-07  16.558800     16.789801"
      ]
     },
     "execution_count": 9,
     "metadata": {},
     "output_type": "execute_result"
    }
   ],
   "source": [
    "dt_forecast.head()"
   ]
  },
  {
   "cell_type": "code",
   "execution_count": 10,
   "metadata": {},
   "outputs": [],
   "source": [
    "# bu, kuadratik modelin tahmin degerini verir\n",
    "dt_quadratic_forecast = transformator.deterministic_trend(usdtry, degree=2)"
   ]
  },
  {
   "cell_type": "code",
   "execution_count": 11,
   "metadata": {},
   "outputs": [
    {
     "data": {
      "text/html": [
       "<div>\n",
       "<style scoped>\n",
       "    .dataframe tbody tr th:only-of-type {\n",
       "        vertical-align: middle;\n",
       "    }\n",
       "\n",
       "    .dataframe tbody tr th {\n",
       "        vertical-align: top;\n",
       "    }\n",
       "\n",
       "    .dataframe thead th {\n",
       "        text-align: right;\n",
       "    }\n",
       "</style>\n",
       "<table border=\"1\" class=\"dataframe\">\n",
       "  <thead>\n",
       "    <tr style=\"text-align: right;\">\n",
       "      <th></th>\n",
       "      <th>USDTRY</th>\n",
       "      <th>USDTRY_PLYTR_2</th>\n",
       "    </tr>\n",
       "    <tr>\n",
       "      <th>Date</th>\n",
       "      <th></th>\n",
       "      <th></th>\n",
       "    </tr>\n",
       "  </thead>\n",
       "  <tbody>\n",
       "    <tr>\n",
       "      <th>2022-06-01</th>\n",
       "      <td>16.387600</td>\n",
       "      <td>16.136400</td>\n",
       "    </tr>\n",
       "    <tr>\n",
       "      <th>2022-06-02</th>\n",
       "      <td>16.412701</td>\n",
       "      <td>16.747299</td>\n",
       "    </tr>\n",
       "    <tr>\n",
       "      <th>2022-06-03</th>\n",
       "      <td>16.438999</td>\n",
       "      <td>17.770800</td>\n",
       "    </tr>\n",
       "    <tr>\n",
       "      <th>2022-06-06</th>\n",
       "      <td>16.476500</td>\n",
       "      <td>19.206800</td>\n",
       "    </tr>\n",
       "    <tr>\n",
       "      <th>2022-06-07</th>\n",
       "      <td>16.558800</td>\n",
       "      <td>21.055300</td>\n",
       "    </tr>\n",
       "  </tbody>\n",
       "</table>\n",
       "</div>"
      ],
      "text/plain": [
       "               USDTRY  USDTRY_PLYTR_2\n",
       "Date                                 \n",
       "2022-06-01  16.387600       16.136400\n",
       "2022-06-02  16.412701       16.747299\n",
       "2022-06-03  16.438999       17.770800\n",
       "2022-06-06  16.476500       19.206800\n",
       "2022-06-07  16.558800       21.055300"
      ]
     },
     "execution_count": 11,
     "metadata": {},
     "output_type": "execute_result"
    }
   ],
   "source": [
    "dt_quadratic_forecast.head()"
   ]
  },
  {
   "cell_type": "markdown",
   "metadata": {},
   "source": [
    "> __Eğer verilen polinom, zaman serisini iyi temsil edebilecek bir fonksiyon değilse, yüksek seviyeli\n",
    "> polinom modellerinden alınan tahminler çok büyük sapmalar gösterebilir. Bunun için yüksek seviyeli\n",
    "> polinomları sadece süreci deterministik olarak iyi temsil ettiğine emin olduğunuz (ör: mevsimsellik)\n",
    "> durumlarda kullanmalısınız.__"
   ]
  },
  {
   "cell_type": "markdown",
   "metadata": {},
   "source": [
    "`deterministic_trend()`; çoğul seriler için de kullanılabilir."
   ]
  },
  {
   "cell_type": "code",
   "execution_count": null,
   "metadata": {},
   "outputs": [],
   "source": [
    "rates = connector.get_series(\"usdtry, eurtry\",\n",
    "                              start_date=\"01.06.2022\",\n",
    "                              end_date=\"30.06.2022\",\n",
    "                              frequency=\"B\")"
   ]
  },
  {
   "cell_type": "code",
   "execution_count": 14,
   "metadata": {},
   "outputs": [],
   "source": [
    "# bu, noktadan sonra 3 hane hassaiyetle usdtry ve eurtry serileri için lineer trend modeli tahminlerini verir\n",
    "rates_linear = transformator.deterministic_trend(rates, precision=2)"
   ]
  },
  {
   "cell_type": "code",
   "execution_count": 16,
   "metadata": {},
   "outputs": [
    {
     "data": {
      "text/html": [
       "<div>\n",
       "<style scoped>\n",
       "    .dataframe tbody tr th:only-of-type {\n",
       "        vertical-align: middle;\n",
       "    }\n",
       "\n",
       "    .dataframe tbody tr th {\n",
       "        vertical-align: top;\n",
       "    }\n",
       "\n",
       "    .dataframe thead th {\n",
       "        text-align: right;\n",
       "    }\n",
       "</style>\n",
       "<table border=\"1\" class=\"dataframe\">\n",
       "  <thead>\n",
       "    <tr style=\"text-align: right;\">\n",
       "      <th></th>\n",
       "      <th>USDTRY</th>\n",
       "      <th>EURTRY</th>\n",
       "      <th>USDTRY_LINTR</th>\n",
       "      <th>EURTRY_LINTR</th>\n",
       "    </tr>\n",
       "    <tr>\n",
       "      <th>Date</th>\n",
       "      <th></th>\n",
       "      <th></th>\n",
       "      <th></th>\n",
       "      <th></th>\n",
       "    </tr>\n",
       "  </thead>\n",
       "  <tbody>\n",
       "    <tr>\n",
       "      <th>2022-06-01</th>\n",
       "      <td>16.387600</td>\n",
       "      <td>17.5702</td>\n",
       "      <td>16.680000</td>\n",
       "      <td>17.860001</td>\n",
       "    </tr>\n",
       "    <tr>\n",
       "      <th>2022-06-02</th>\n",
       "      <td>16.412701</td>\n",
       "      <td>17.5916</td>\n",
       "      <td>16.709999</td>\n",
       "      <td>17.870001</td>\n",
       "    </tr>\n",
       "    <tr>\n",
       "      <th>2022-06-03</th>\n",
       "      <td>16.438999</td>\n",
       "      <td>17.5700</td>\n",
       "      <td>16.740000</td>\n",
       "      <td>17.879999</td>\n",
       "    </tr>\n",
       "    <tr>\n",
       "      <th>2022-06-06</th>\n",
       "      <td>16.476500</td>\n",
       "      <td>17.7066</td>\n",
       "      <td>16.760000</td>\n",
       "      <td>17.889999</td>\n",
       "    </tr>\n",
       "    <tr>\n",
       "      <th>2022-06-07</th>\n",
       "      <td>16.558800</td>\n",
       "      <td>17.7785</td>\n",
       "      <td>16.790001</td>\n",
       "      <td>17.900000</td>\n",
       "    </tr>\n",
       "  </tbody>\n",
       "</table>\n",
       "</div>"
      ],
      "text/plain": [
       "               USDTRY   EURTRY  USDTRY_LINTR  EURTRY_LINTR\n",
       "Date                                                      \n",
       "2022-06-01  16.387600  17.5702     16.680000     17.860001\n",
       "2022-06-02  16.412701  17.5916     16.709999     17.870001\n",
       "2022-06-03  16.438999  17.5700     16.740000     17.879999\n",
       "2022-06-06  16.476500  17.7066     16.760000     17.889999\n",
       "2022-06-07  16.558800  17.7785     16.790001     17.900000"
      ]
     },
     "execution_count": 16,
     "metadata": {},
     "output_type": "execute_result"
    }
   ],
   "source": [
    "rates_linear.head()"
   ]
  },
  {
   "cell_type": "markdown",
   "metadata": {},
   "source": [
    "#### 4.7. [__Ayrıştırma: y<sub>t</sub> - (β<sub>0</sub> + β<sub>1</sub>Trend + β<sub>2</sub>Trend<sup>2</sup> + ... β<sub>n</sub>Trend<sup>n</sup> + ε<sub>t</sub>)__](https://github.com/syncoding/evdsts/blob/master/docs/manuals/manual_en.md#de-trend)"
   ]
  },
  {
   "cell_type": "markdown",
   "metadata": {},
   "source": [
    "`decompose()` metodu ile serileri trend bileşeninden ayrıştırabilirsiniz. Zaman bazlı deterministik\n",
    "trendi seriden ayrıştırma; durağan olmayan (ya da trend durağan olan) serilerden, durağan serilere\n",
    "ulaşmak için iyi bir yol olabilir. Ayrıştırma, özellikle deterministik trendin seri bileşenlerinden\n",
    "birisi olduğu durumlarda kullanılması uygun olan bir yaklaşımdır.\n",
    "\n",
    "Ayrıştırma aşağıdaki yöntemlerden biriyle yapılabilir;\n",
    "\n",
    "- Deterministik trendden ayrıştırma\n",
    "    - çıkarma\n",
    "    - bölme\n",
    "- Basit/Üssel Hareketli Model'den ayrıştırma\n",
    "    - çıkarma\n",
    "    - bölme\n",
    "\n",
    "Deterministic trend modeli aşağıda verilmiştir:\n",
    "\n",
    " y<sub>t</sub> = β<sub>0</sub> + β<sub>1</sub>Trend + β<sub>2</sub>Trend<sup>2</sup> + ... β<sub>n</sub>Trend<sup>n</sup> + ε<sub>t</sub>\n",
    "\n",
    "Basit Hareketli Ortalama Modeli aşağıda verilmiştir;\n",
    "\n",
    "MA<sub>t</sub> = (y<sub>t</sub> + y<sub>t-1</sub> ... y<sub>t-n</sub>) / n\n",
    "\n",
    "Üssel Hareketli Ortalama Modeli aşağıda verilmiştir;\n",
    "\n",
    "EMA<sub>t</sub> = αy<sub>t</sub> + (1-α)EMA<sub>t-1</sub>"
   ]
  },
  {
   "cell_type": "code",
   "execution_count": 42,
   "metadata": {},
   "outputs": [],
   "source": [
    "usdtry = connector.get_series(\"usdtry\",\n",
    "                              start_date=\"01.06.2022\",\n",
    "                              end_date=\"30.06.2022\",\n",
    "                              frequency=\"B\")"
   ]
  },
  {
   "cell_type": "code",
   "execution_count": 43,
   "metadata": {},
   "outputs": [],
   "source": [
    "# bu, [usdtry - (usdtry_tahmin = b0 + b1Trend*usdtry)] değerini verir.\n",
    "det_usdtry = transformator.decompose(usdtry, degree=1, source='trend', method='subtract')"
   ]
  },
  {
   "cell_type": "code",
   "execution_count": 44,
   "metadata": {},
   "outputs": [
    {
     "data": {
      "text/html": [
       "<div>\n",
       "<style scoped>\n",
       "    .dataframe tbody tr th:only-of-type {\n",
       "        vertical-align: middle;\n",
       "    }\n",
       "\n",
       "    .dataframe tbody tr th {\n",
       "        vertical-align: top;\n",
       "    }\n",
       "\n",
       "    .dataframe thead th {\n",
       "        text-align: right;\n",
       "    }\n",
       "</style>\n",
       "<table border=\"1\" class=\"dataframe\">\n",
       "  <thead>\n",
       "    <tr style=\"text-align: right;\">\n",
       "      <th></th>\n",
       "      <th>USDTRY</th>\n",
       "      <th>USDTRY_DET</th>\n",
       "    </tr>\n",
       "    <tr>\n",
       "      <th>Date</th>\n",
       "      <th></th>\n",
       "      <th></th>\n",
       "    </tr>\n",
       "  </thead>\n",
       "  <tbody>\n",
       "    <tr>\n",
       "      <th>2022-06-01</th>\n",
       "      <td>16.387600</td>\n",
       "      <td>-0.2946</td>\n",
       "    </tr>\n",
       "    <tr>\n",
       "      <th>2022-06-02</th>\n",
       "      <td>16.412701</td>\n",
       "      <td>-0.2964</td>\n",
       "    </tr>\n",
       "    <tr>\n",
       "      <th>2022-06-03</th>\n",
       "      <td>16.438999</td>\n",
       "      <td>-0.2970</td>\n",
       "    </tr>\n",
       "    <tr>\n",
       "      <th>2022-06-06</th>\n",
       "      <td>16.476500</td>\n",
       "      <td>-0.2864</td>\n",
       "    </tr>\n",
       "    <tr>\n",
       "      <th>2022-06-07</th>\n",
       "      <td>16.558800</td>\n",
       "      <td>-0.2310</td>\n",
       "    </tr>\n",
       "  </tbody>\n",
       "</table>\n",
       "</div>"
      ],
      "text/plain": [
       "               USDTRY  USDTRY_DET\n",
       "Date                             \n",
       "2022-06-01  16.387600     -0.2946\n",
       "2022-06-02  16.412701     -0.2964\n",
       "2022-06-03  16.438999     -0.2970\n",
       "2022-06-06  16.476500     -0.2864\n",
       "2022-06-07  16.558800     -0.2310"
      ]
     },
     "execution_count": 44,
     "metadata": {},
     "output_type": "execute_result"
    }
   ],
   "source": [
    "det_usdtry.head()"
   ]
  },
  {
   "cell_type": "code",
   "execution_count": 19,
   "metadata": {},
   "outputs": [],
   "source": [
    "# bu, [usdtry - (usdtry_forecast = b0 + b1Trend*usdtry + b2Trend^2*usdtry)] değerini verir\n",
    "det_usdtry_2 = transformator.decompose(usdtry, degree=2, source='trend', method='subtract')"
   ]
  },
  {
   "cell_type": "code",
   "execution_count": 20,
   "metadata": {},
   "outputs": [
    {
     "data": {
      "text/html": [
       "<div>\n",
       "<style scoped>\n",
       "    .dataframe tbody tr th:only-of-type {\n",
       "        vertical-align: middle;\n",
       "    }\n",
       "\n",
       "    .dataframe tbody tr th {\n",
       "        vertical-align: top;\n",
       "    }\n",
       "\n",
       "    .dataframe thead th {\n",
       "        text-align: right;\n",
       "    }\n",
       "</style>\n",
       "<table border=\"1\" class=\"dataframe\">\n",
       "  <thead>\n",
       "    <tr style=\"text-align: right;\">\n",
       "      <th></th>\n",
       "      <th>USDTRY</th>\n",
       "      <th>USDTRY_DET</th>\n",
       "    </tr>\n",
       "    <tr>\n",
       "      <th>Date</th>\n",
       "      <th></th>\n",
       "      <th></th>\n",
       "    </tr>\n",
       "  </thead>\n",
       "  <tbody>\n",
       "    <tr>\n",
       "      <th>2022-06-01</th>\n",
       "      <td>16.387600</td>\n",
       "      <td>0.2512</td>\n",
       "    </tr>\n",
       "    <tr>\n",
       "      <th>2022-06-02</th>\n",
       "      <td>16.412701</td>\n",
       "      <td>-0.3346</td>\n",
       "    </tr>\n",
       "    <tr>\n",
       "      <th>2022-06-03</th>\n",
       "      <td>16.438999</td>\n",
       "      <td>-1.3318</td>\n",
       "    </tr>\n",
       "    <tr>\n",
       "      <th>2022-06-06</th>\n",
       "      <td>16.476500</td>\n",
       "      <td>-2.7303</td>\n",
       "    </tr>\n",
       "    <tr>\n",
       "      <th>2022-06-07</th>\n",
       "      <td>16.558800</td>\n",
       "      <td>-4.4965</td>\n",
       "    </tr>\n",
       "  </tbody>\n",
       "</table>\n",
       "</div>"
      ],
      "text/plain": [
       "               USDTRY  USDTRY_DET\n",
       "Date                             \n",
       "2022-06-01  16.387600      0.2512\n",
       "2022-06-02  16.412701     -0.3346\n",
       "2022-06-03  16.438999     -1.3318\n",
       "2022-06-06  16.476500     -2.7303\n",
       "2022-06-07  16.558800     -4.4965"
      ]
     },
     "execution_count": 20,
     "metadata": {},
     "output_type": "execute_result"
    }
   ],
   "source": [
    "det_usdtry_2.head()"
   ]
  },
  {
   "cell_type": "code",
   "execution_count": 21,
   "metadata": {},
   "outputs": [],
   "source": [
    "# bu,[usdtry / (usdtry_forecast = b0 + b1Trend*usdtry)] değerini verir\n",
    "det_usdtry_dv = transformator.decompose(usdtry, degree=1, source='trend', method='divide')"
   ]
  },
  {
   "cell_type": "code",
   "execution_count": 22,
   "metadata": {},
   "outputs": [
    {
     "data": {
      "text/html": [
       "<div>\n",
       "<style scoped>\n",
       "    .dataframe tbody tr th:only-of-type {\n",
       "        vertical-align: middle;\n",
       "    }\n",
       "\n",
       "    .dataframe tbody tr th {\n",
       "        vertical-align: top;\n",
       "    }\n",
       "\n",
       "    .dataframe thead th {\n",
       "        text-align: right;\n",
       "    }\n",
       "</style>\n",
       "<table border=\"1\" class=\"dataframe\">\n",
       "  <thead>\n",
       "    <tr style=\"text-align: right;\">\n",
       "      <th></th>\n",
       "      <th>USDTRY</th>\n",
       "      <th>USDTRY_DET</th>\n",
       "    </tr>\n",
       "    <tr>\n",
       "      <th>Date</th>\n",
       "      <th></th>\n",
       "      <th></th>\n",
       "    </tr>\n",
       "  </thead>\n",
       "  <tbody>\n",
       "    <tr>\n",
       "      <th>2022-06-01</th>\n",
       "      <td>16.387600</td>\n",
       "      <td>0.9823</td>\n",
       "    </tr>\n",
       "    <tr>\n",
       "      <th>2022-06-02</th>\n",
       "      <td>16.412701</td>\n",
       "      <td>0.9823</td>\n",
       "    </tr>\n",
       "    <tr>\n",
       "      <th>2022-06-03</th>\n",
       "      <td>16.438999</td>\n",
       "      <td>0.9823</td>\n",
       "    </tr>\n",
       "    <tr>\n",
       "      <th>2022-06-06</th>\n",
       "      <td>16.476500</td>\n",
       "      <td>0.9829</td>\n",
       "    </tr>\n",
       "    <tr>\n",
       "      <th>2022-06-07</th>\n",
       "      <td>16.558800</td>\n",
       "      <td>0.9862</td>\n",
       "    </tr>\n",
       "  </tbody>\n",
       "</table>\n",
       "</div>"
      ],
      "text/plain": [
       "               USDTRY  USDTRY_DET\n",
       "Date                             \n",
       "2022-06-01  16.387600      0.9823\n",
       "2022-06-02  16.412701      0.9823\n",
       "2022-06-03  16.438999      0.9823\n",
       "2022-06-06  16.476500      0.9829\n",
       "2022-06-07  16.558800      0.9862"
      ]
     },
     "execution_count": 22,
     "metadata": {},
     "output_type": "execute_result"
    }
   ],
   "source": [
    "det_usdtry_dv.head()"
   ]
  },
  {
   "cell_type": "code",
   "execution_count": 23,
   "metadata": {},
   "outputs": [],
   "source": [
    "# bu, [usdtry - basit hareketli ortalama(usdtry, periyot=2)] değerini verir\n",
    "# degree parametresi burada hareketli ortalamanın periyodunu temsil etmektedir\n",
    "det_usdtry_sma = transformator.decompose(usdtry, degree=2, source='sma', method='subtract')"
   ]
  },
  {
   "cell_type": "code",
   "execution_count": 24,
   "metadata": {},
   "outputs": [
    {
     "data": {
      "text/html": [
       "<div>\n",
       "<style scoped>\n",
       "    .dataframe tbody tr th:only-of-type {\n",
       "        vertical-align: middle;\n",
       "    }\n",
       "\n",
       "    .dataframe tbody tr th {\n",
       "        vertical-align: top;\n",
       "    }\n",
       "\n",
       "    .dataframe thead th {\n",
       "        text-align: right;\n",
       "    }\n",
       "</style>\n",
       "<table border=\"1\" class=\"dataframe\">\n",
       "  <thead>\n",
       "    <tr style=\"text-align: right;\">\n",
       "      <th></th>\n",
       "      <th>USDTRY</th>\n",
       "      <th>USDTRY_DET</th>\n",
       "    </tr>\n",
       "    <tr>\n",
       "      <th>Date</th>\n",
       "      <th></th>\n",
       "      <th></th>\n",
       "    </tr>\n",
       "  </thead>\n",
       "  <tbody>\n",
       "    <tr>\n",
       "      <th>2022-06-01</th>\n",
       "      <td>16.387600</td>\n",
       "      <td>0.0000</td>\n",
       "    </tr>\n",
       "    <tr>\n",
       "      <th>2022-06-02</th>\n",
       "      <td>16.412701</td>\n",
       "      <td>0.0125</td>\n",
       "    </tr>\n",
       "    <tr>\n",
       "      <th>2022-06-03</th>\n",
       "      <td>16.438999</td>\n",
       "      <td>0.0132</td>\n",
       "    </tr>\n",
       "    <tr>\n",
       "      <th>2022-06-06</th>\n",
       "      <td>16.476500</td>\n",
       "      <td>0.0188</td>\n",
       "    </tr>\n",
       "    <tr>\n",
       "      <th>2022-06-07</th>\n",
       "      <td>16.558800</td>\n",
       "      <td>0.0412</td>\n",
       "    </tr>\n",
       "  </tbody>\n",
       "</table>\n",
       "</div>"
      ],
      "text/plain": [
       "               USDTRY  USDTRY_DET\n",
       "Date                             \n",
       "2022-06-01  16.387600      0.0000\n",
       "2022-06-02  16.412701      0.0125\n",
       "2022-06-03  16.438999      0.0132\n",
       "2022-06-06  16.476500      0.0188\n",
       "2022-06-07  16.558800      0.0412"
      ]
     },
     "execution_count": 24,
     "metadata": {},
     "output_type": "execute_result"
    }
   ],
   "source": [
    "det_usdtry_sma.head()"
   ]
  },
  {
   "cell_type": "code",
   "execution_count": 25,
   "metadata": {},
   "outputs": [],
   "source": [
    "# bu, [usdtry - üssel hareketli oratlama(usdtry, window=2)] değerini verir.\n",
    "# degree parametresi burada hareketli ortalamanın periyodunu temsil etmektedir\n",
    "det_usdtry_ema = transformator.decompose(usdtry, degree=2, source='ema', method='subtract')"
   ]
  },
  {
   "cell_type": "code",
   "execution_count": 26,
   "metadata": {},
   "outputs": [
    {
     "data": {
      "text/html": [
       "<div>\n",
       "<style scoped>\n",
       "    .dataframe tbody tr th:only-of-type {\n",
       "        vertical-align: middle;\n",
       "    }\n",
       "\n",
       "    .dataframe tbody tr th {\n",
       "        vertical-align: top;\n",
       "    }\n",
       "\n",
       "    .dataframe thead th {\n",
       "        text-align: right;\n",
       "    }\n",
       "</style>\n",
       "<table border=\"1\" class=\"dataframe\">\n",
       "  <thead>\n",
       "    <tr style=\"text-align: right;\">\n",
       "      <th></th>\n",
       "      <th>USDTRY</th>\n",
       "      <th>USDTRY_DET</th>\n",
       "    </tr>\n",
       "    <tr>\n",
       "      <th>Date</th>\n",
       "      <th></th>\n",
       "      <th></th>\n",
       "    </tr>\n",
       "  </thead>\n",
       "  <tbody>\n",
       "    <tr>\n",
       "      <th>2022-06-01</th>\n",
       "      <td>16.387600</td>\n",
       "      <td>0.0000</td>\n",
       "    </tr>\n",
       "    <tr>\n",
       "      <th>2022-06-02</th>\n",
       "      <td>16.412701</td>\n",
       "      <td>0.0084</td>\n",
       "    </tr>\n",
       "    <tr>\n",
       "      <th>2022-06-03</th>\n",
       "      <td>16.438999</td>\n",
       "      <td>0.0116</td>\n",
       "    </tr>\n",
       "    <tr>\n",
       "      <th>2022-06-06</th>\n",
       "      <td>16.476500</td>\n",
       "      <td>0.0164</td>\n",
       "    </tr>\n",
       "    <tr>\n",
       "      <th>2022-06-07</th>\n",
       "      <td>16.558800</td>\n",
       "      <td>0.0329</td>\n",
       "    </tr>\n",
       "  </tbody>\n",
       "</table>\n",
       "</div>"
      ],
      "text/plain": [
       "               USDTRY  USDTRY_DET\n",
       "Date                             \n",
       "2022-06-01  16.387600      0.0000\n",
       "2022-06-02  16.412701      0.0084\n",
       "2022-06-03  16.438999      0.0116\n",
       "2022-06-06  16.476500      0.0164\n",
       "2022-06-07  16.558800      0.0329"
      ]
     },
     "execution_count": 26,
     "metadata": {},
     "output_type": "execute_result"
    }
   ],
   "source": [
    "det_usdtry_ema.head()"
   ]
  },
  {
   "cell_type": "markdown",
   "metadata": {},
   "source": [
    "`decompose()`; çoğul seriler için de kullanılabilir."
   ]
  },
  {
   "cell_type": "code",
   "execution_count": null,
   "metadata": {},
   "outputs": [],
   "source": [
    "rates = connector.get_series(\"usdtry, eurtry\",\n",
    "                              start_date=\"01.06.2022\",\n",
    "                              end_date=\"30.06.2022\",\n",
    "                              frequency=\"B\")"
   ]
  },
  {
   "cell_type": "code",
   "execution_count": 33,
   "metadata": {},
   "outputs": [],
   "source": [
    "# bu, hem usdtry hem de eurtry icin ayristirilmis serileri verir.\n",
    "det_rates = transformator.decompose(rates, degree=1, source='trend', method='subtract', precision=4)"
   ]
  },
  {
   "cell_type": "code",
   "execution_count": 34,
   "metadata": {},
   "outputs": [
    {
     "data": {
      "text/html": [
       "<div>\n",
       "<style scoped>\n",
       "    .dataframe tbody tr th:only-of-type {\n",
       "        vertical-align: middle;\n",
       "    }\n",
       "\n",
       "    .dataframe tbody tr th {\n",
       "        vertical-align: top;\n",
       "    }\n",
       "\n",
       "    .dataframe thead th {\n",
       "        text-align: right;\n",
       "    }\n",
       "</style>\n",
       "<table border=\"1\" class=\"dataframe\">\n",
       "  <thead>\n",
       "    <tr style=\"text-align: right;\">\n",
       "      <th></th>\n",
       "      <th>USDTRY</th>\n",
       "      <th>EURTRY</th>\n",
       "      <th>USDTRY_DET</th>\n",
       "      <th>EURTRY_DET</th>\n",
       "    </tr>\n",
       "    <tr>\n",
       "      <th>Date</th>\n",
       "      <th></th>\n",
       "      <th></th>\n",
       "      <th></th>\n",
       "      <th></th>\n",
       "    </tr>\n",
       "  </thead>\n",
       "  <tbody>\n",
       "    <tr>\n",
       "      <th>2022-06-01</th>\n",
       "      <td>16.387600</td>\n",
       "      <td>17.5702</td>\n",
       "      <td>-0.2946</td>\n",
       "      <td>-0.2886</td>\n",
       "    </tr>\n",
       "    <tr>\n",
       "      <th>2022-06-02</th>\n",
       "      <td>16.412701</td>\n",
       "      <td>17.5916</td>\n",
       "      <td>-0.2964</td>\n",
       "      <td>-0.2767</td>\n",
       "    </tr>\n",
       "    <tr>\n",
       "      <th>2022-06-03</th>\n",
       "      <td>16.438999</td>\n",
       "      <td>17.5700</td>\n",
       "      <td>-0.2970</td>\n",
       "      <td>-0.3079</td>\n",
       "    </tr>\n",
       "    <tr>\n",
       "      <th>2022-06-06</th>\n",
       "      <td>16.476500</td>\n",
       "      <td>17.7066</td>\n",
       "      <td>-0.2864</td>\n",
       "      <td>-0.1809</td>\n",
       "    </tr>\n",
       "    <tr>\n",
       "      <th>2022-06-07</th>\n",
       "      <td>16.558800</td>\n",
       "      <td>17.7785</td>\n",
       "      <td>-0.2310</td>\n",
       "      <td>-0.1185</td>\n",
       "    </tr>\n",
       "  </tbody>\n",
       "</table>\n",
       "</div>"
      ],
      "text/plain": [
       "               USDTRY   EURTRY  USDTRY_DET  EURTRY_DET\n",
       "Date                                                  \n",
       "2022-06-01  16.387600  17.5702     -0.2946     -0.2886\n",
       "2022-06-02  16.412701  17.5916     -0.2964     -0.2767\n",
       "2022-06-03  16.438999  17.5700     -0.2970     -0.3079\n",
       "2022-06-06  16.476500  17.7066     -0.2864     -0.1809\n",
       "2022-06-07  16.558800  17.7785     -0.2310     -0.1185"
      ]
     },
     "execution_count": 34,
     "metadata": {},
     "output_type": "execute_result"
    }
   ],
   "source": [
    "det_rates.head()"
   ]
  },
  {
   "cell_type": "markdown",
   "metadata": {},
   "source": [
    "#### 4.8. [__Basit Hareketli Ortalama: MA<sub>t</sub> = (y<sub>t</sub> + y<sub>t-1</sub> ... y<sub>t-n</sub>) / n__](https://github.com/syncoding/evdsts/blob/master/docs/manuals/manual_en.md#smooth-sma)"
   ]
  },
  {
   "cell_type": "markdown",
   "metadata": {},
   "source": [
    "`Transformator`'un `sma()` metodu ile serilerin basit hareketli ortalamalarını alabilirsiniz.\n",
    "Hareketli ortalamalar; aşırı varyansı törpülediği için beklenen değer etrafındaki yüksek frekanslı\n",
    "salınımları (gürültü olarak kabul edilebilir) göz ardı ederek seriler içindeki gerçek eğilimleri\n",
    "gözlemlemek için genelde idealdir. Basit hareketli ortalamalar tüm dönemlere eşit ağırlık verdiği için\n",
    "son dönemlerde gözlemlenen aşırı sapmalara karşı duyarsız ortalamalar olarak kabul edilebilir.\n",
    "\n",
    "Sürecin açık ifadesi aşağıdaki gibidir;\n",
    "\n",
    "MA<sub>t</sub>(n) = (y<sub>t</sub> + y<sub>t-1</sub> ... y<sub>t-n</sub>) / n"
   ]
  },
  {
   "cell_type": "code",
   "execution_count": null,
   "metadata": {},
   "outputs": [],
   "source": [
    "usdtry = connector.get_series(\"usdtry\",\n",
    "                              start_date=\"01.06.2022\",\n",
    "                              end_date=\"30.06.2022\",\n",
    "                              frequency=\"B\")"
   ]
  },
  {
   "cell_type": "code",
   "execution_count": 35,
   "metadata": {},
   "outputs": [],
   "source": [
    "# bu, 5 dönemlik basit hareketli ortalamayı verir\n",
    "usdtry_sma5 = transformator.sma(usdtry, window=5)"
   ]
  },
  {
   "cell_type": "code",
   "execution_count": 36,
   "metadata": {},
   "outputs": [
    {
     "data": {
      "text/html": [
       "<div>\n",
       "<style scoped>\n",
       "    .dataframe tbody tr th:only-of-type {\n",
       "        vertical-align: middle;\n",
       "    }\n",
       "\n",
       "    .dataframe tbody tr th {\n",
       "        vertical-align: top;\n",
       "    }\n",
       "\n",
       "    .dataframe thead th {\n",
       "        text-align: right;\n",
       "    }\n",
       "</style>\n",
       "<table border=\"1\" class=\"dataframe\">\n",
       "  <thead>\n",
       "    <tr style=\"text-align: right;\">\n",
       "      <th></th>\n",
       "      <th>USDTRY</th>\n",
       "      <th>USDTRY_SMA_5</th>\n",
       "    </tr>\n",
       "    <tr>\n",
       "      <th>Date</th>\n",
       "      <th></th>\n",
       "      <th></th>\n",
       "    </tr>\n",
       "  </thead>\n",
       "  <tbody>\n",
       "    <tr>\n",
       "      <th>2022-06-01</th>\n",
       "      <td>16.387600</td>\n",
       "      <td>16.387600</td>\n",
       "    </tr>\n",
       "    <tr>\n",
       "      <th>2022-06-02</th>\n",
       "      <td>16.412701</td>\n",
       "      <td>16.400200</td>\n",
       "    </tr>\n",
       "    <tr>\n",
       "      <th>2022-06-03</th>\n",
       "      <td>16.438999</td>\n",
       "      <td>16.413099</td>\n",
       "    </tr>\n",
       "    <tr>\n",
       "      <th>2022-06-06</th>\n",
       "      <td>16.476500</td>\n",
       "      <td>16.428900</td>\n",
       "    </tr>\n",
       "    <tr>\n",
       "      <th>2022-06-07</th>\n",
       "      <td>16.558800</td>\n",
       "      <td>16.454901</td>\n",
       "    </tr>\n",
       "  </tbody>\n",
       "</table>\n",
       "</div>"
      ],
      "text/plain": [
       "               USDTRY  USDTRY_SMA_5\n",
       "Date                               \n",
       "2022-06-01  16.387600     16.387600\n",
       "2022-06-02  16.412701     16.400200\n",
       "2022-06-03  16.438999     16.413099\n",
       "2022-06-06  16.476500     16.428900\n",
       "2022-06-07  16.558800     16.454901"
      ]
     },
     "execution_count": 36,
     "metadata": {},
     "output_type": "execute_result"
    }
   ],
   "source": [
    "usdtry_sma5.head()"
   ]
  },
  {
   "cell_type": "markdown",
   "metadata": {},
   "source": [
    "`sma()`; çoğul seriler için de kullanılabilir."
   ]
  },
  {
   "cell_type": "code",
   "execution_count": null,
   "metadata": {},
   "outputs": [],
   "source": [
    "rates = connector.get_series(\"usdtry, eurtry\",\n",
    "                              start_date=\"01.06.2022\",\n",
    "                              end_date=\"30.06.2022\",\n",
    "                              frequency=\"B\")"
   ]
  },
  {
   "cell_type": "code",
   "execution_count": 37,
   "metadata": {},
   "outputs": [],
   "source": [
    "# bu, hem usdtry hem de eurtry serilerinin 10 günlük basit hareketli ortalamalarını verir.\n",
    "rates_sma = transformator.sma(rates, window=10, precision=2)"
   ]
  },
  {
   "cell_type": "code",
   "execution_count": 38,
   "metadata": {},
   "outputs": [
    {
     "data": {
      "text/html": [
       "<div>\n",
       "<style scoped>\n",
       "    .dataframe tbody tr th:only-of-type {\n",
       "        vertical-align: middle;\n",
       "    }\n",
       "\n",
       "    .dataframe tbody tr th {\n",
       "        vertical-align: top;\n",
       "    }\n",
       "\n",
       "    .dataframe thead th {\n",
       "        text-align: right;\n",
       "    }\n",
       "</style>\n",
       "<table border=\"1\" class=\"dataframe\">\n",
       "  <thead>\n",
       "    <tr style=\"text-align: right;\">\n",
       "      <th></th>\n",
       "      <th>USDTRY</th>\n",
       "      <th>EURTRY</th>\n",
       "      <th>USDTRY_SMA_10</th>\n",
       "      <th>EURTRY_SMA_10</th>\n",
       "    </tr>\n",
       "    <tr>\n",
       "      <th>Date</th>\n",
       "      <th></th>\n",
       "      <th></th>\n",
       "      <th></th>\n",
       "      <th></th>\n",
       "    </tr>\n",
       "  </thead>\n",
       "  <tbody>\n",
       "    <tr>\n",
       "      <th>2022-06-01</th>\n",
       "      <td>16.387600</td>\n",
       "      <td>17.5702</td>\n",
       "      <td>16.389999</td>\n",
       "      <td>17.570000</td>\n",
       "    </tr>\n",
       "    <tr>\n",
       "      <th>2022-06-02</th>\n",
       "      <td>16.412701</td>\n",
       "      <td>17.5916</td>\n",
       "      <td>16.400000</td>\n",
       "      <td>17.580000</td>\n",
       "    </tr>\n",
       "    <tr>\n",
       "      <th>2022-06-03</th>\n",
       "      <td>16.438999</td>\n",
       "      <td>17.5700</td>\n",
       "      <td>16.410000</td>\n",
       "      <td>17.580000</td>\n",
       "    </tr>\n",
       "    <tr>\n",
       "      <th>2022-06-06</th>\n",
       "      <td>16.476500</td>\n",
       "      <td>17.7066</td>\n",
       "      <td>16.430000</td>\n",
       "      <td>17.610001</td>\n",
       "    </tr>\n",
       "    <tr>\n",
       "      <th>2022-06-07</th>\n",
       "      <td>16.558800</td>\n",
       "      <td>17.7785</td>\n",
       "      <td>16.450001</td>\n",
       "      <td>17.639999</td>\n",
       "    </tr>\n",
       "  </tbody>\n",
       "</table>\n",
       "</div>"
      ],
      "text/plain": [
       "               USDTRY   EURTRY  USDTRY_SMA_10  EURTRY_SMA_10\n",
       "Date                                                        \n",
       "2022-06-01  16.387600  17.5702      16.389999      17.570000\n",
       "2022-06-02  16.412701  17.5916      16.400000      17.580000\n",
       "2022-06-03  16.438999  17.5700      16.410000      17.580000\n",
       "2022-06-06  16.476500  17.7066      16.430000      17.610001\n",
       "2022-06-07  16.558800  17.7785      16.450001      17.639999"
      ]
     },
     "execution_count": 38,
     "metadata": {},
     "output_type": "execute_result"
    }
   ],
   "source": [
    "rates_sma.head()"
   ]
  },
  {
   "cell_type": "markdown",
   "metadata": {},
   "source": [
    "#### 4.9. [__Üssel Hareketli Ortalama: EMA<sub>t</sub> = αy<sub>t</sub> + (1-α)EMA<sub>t-1</sub>__](https://github.com/syncoding/evdsts/blob/master/docs/manuals/manual_en.md#smooth-ema)"
   ]
  },
  {
   "cell_type": "markdown",
   "metadata": {},
   "source": [
    "`Transformator`'un `ema()` metodu ile serilerin üssel hareketli ortalamalarını alabilirsiniz.\n",
    "Hareketli ortalamalar; aşırı varyansı törpülediği için beklenen değer etrafındaki yüksek frekanslı\n",
    "salınımları (gürültü olarak kabul edilebilir) göz ardı ederek seriler içindeki gerçek eğilimleri\n",
    "gözlemlemek için genelde idealdir. Üseel hareketli ortalamalar daha yakın dönemlere daha çok ağırlık\n",
    "verdiğinden; son dönemlerdeki aşırı sapmalara karşı hassas bir ortalama olduğu söylenebilir. Bu ise;\n",
    "yapısal değişimlerin (ya da kırılmaların) basit hareketli ortalamalara göre daha erken tespit\n",
    "edilebilmelerini sağlar.\n",
    "\n",
    "Sürecin açık ifadesi aşağıdaki gibidir:\n",
    "\n",
    "EMA<sub>0</sub> = y<sub>0</sub>  \n",
    "EMA<sub>t</sub>(n) = αy<sub>t</sub> + (1-α)EMA<sub>t-1</sub>, t: 1...t  \n",
    "α = 2 / (1 + n)"
   ]
  },
  {
   "cell_type": "code",
   "execution_count": 48,
   "metadata": {},
   "outputs": [],
   "source": [
    "usdtry = connector.get_series(\"usdtry\",\n",
    "                              start_date=\"01.06.2022\",\n",
    "                              end_date=\"30.06.2022\",\n",
    "                              frequency=\"B\")"
   ]
  },
  {
   "cell_type": "code",
   "execution_count": 49,
   "metadata": {},
   "outputs": [],
   "source": [
    "# bu, ema(5)'i verir\n",
    "usdtry_ema5 = transformator.ema(usdtry, window=5)"
   ]
  },
  {
   "cell_type": "code",
   "execution_count": 50,
   "metadata": {},
   "outputs": [
    {
     "data": {
      "text/html": [
       "<div>\n",
       "<style scoped>\n",
       "    .dataframe tbody tr th:only-of-type {\n",
       "        vertical-align: middle;\n",
       "    }\n",
       "\n",
       "    .dataframe tbody tr th {\n",
       "        vertical-align: top;\n",
       "    }\n",
       "\n",
       "    .dataframe thead th {\n",
       "        text-align: right;\n",
       "    }\n",
       "</style>\n",
       "<table border=\"1\" class=\"dataframe\">\n",
       "  <thead>\n",
       "    <tr style=\"text-align: right;\">\n",
       "      <th></th>\n",
       "      <th>USDTRY</th>\n",
       "      <th>USDTRY_EMA_5</th>\n",
       "    </tr>\n",
       "    <tr>\n",
       "      <th>Date</th>\n",
       "      <th></th>\n",
       "      <th></th>\n",
       "    </tr>\n",
       "  </thead>\n",
       "  <tbody>\n",
       "    <tr>\n",
       "      <th>2022-06-01</th>\n",
       "      <td>16.387600</td>\n",
       "      <td>16.387600</td>\n",
       "    </tr>\n",
       "    <tr>\n",
       "      <th>2022-06-02</th>\n",
       "      <td>16.412701</td>\n",
       "      <td>16.396000</td>\n",
       "    </tr>\n",
       "    <tr>\n",
       "      <th>2022-06-03</th>\n",
       "      <td>16.438999</td>\n",
       "      <td>16.410299</td>\n",
       "    </tr>\n",
       "    <tr>\n",
       "      <th>2022-06-06</th>\n",
       "      <td>16.476500</td>\n",
       "      <td>16.432400</td>\n",
       "    </tr>\n",
       "    <tr>\n",
       "      <th>2022-06-07</th>\n",
       "      <td>16.558800</td>\n",
       "      <td>16.474501</td>\n",
       "    </tr>\n",
       "  </tbody>\n",
       "</table>\n",
       "</div>"
      ],
      "text/plain": [
       "               USDTRY  USDTRY_EMA_5\n",
       "Date                               \n",
       "2022-06-01  16.387600     16.387600\n",
       "2022-06-02  16.412701     16.396000\n",
       "2022-06-03  16.438999     16.410299\n",
       "2022-06-06  16.476500     16.432400\n",
       "2022-06-07  16.558800     16.474501"
      ]
     },
     "execution_count": 50,
     "metadata": {},
     "output_type": "execute_result"
    }
   ],
   "source": [
    "usdtry_ema5.head()"
   ]
  },
  {
   "cell_type": "code",
   "execution_count": 41,
   "metadata": {},
   "outputs": [],
   "source": [
    "# alpha = 2 / (1 + n) olduğu için bu da size ema(5)'i verir\n",
    "usdtry_ema5 = transformator.ema(usdtry, alpha=0.333)"
   ]
  },
  {
   "cell_type": "code",
   "execution_count": 42,
   "metadata": {},
   "outputs": [
    {
     "data": {
      "text/html": [
       "<div>\n",
       "<style scoped>\n",
       "    .dataframe tbody tr th:only-of-type {\n",
       "        vertical-align: middle;\n",
       "    }\n",
       "\n",
       "    .dataframe tbody tr th {\n",
       "        vertical-align: top;\n",
       "    }\n",
       "\n",
       "    .dataframe thead th {\n",
       "        text-align: right;\n",
       "    }\n",
       "</style>\n",
       "<table border=\"1\" class=\"dataframe\">\n",
       "  <thead>\n",
       "    <tr style=\"text-align: right;\">\n",
       "      <th></th>\n",
       "      <th>USDTRY</th>\n",
       "      <th>USDTRY_EMA_A0_333</th>\n",
       "    </tr>\n",
       "    <tr>\n",
       "      <th>Date</th>\n",
       "      <th></th>\n",
       "      <th></th>\n",
       "    </tr>\n",
       "  </thead>\n",
       "  <tbody>\n",
       "    <tr>\n",
       "      <th>2022-06-01</th>\n",
       "      <td>16.387600</td>\n",
       "      <td>16.387600</td>\n",
       "    </tr>\n",
       "    <tr>\n",
       "      <th>2022-06-02</th>\n",
       "      <td>16.412701</td>\n",
       "      <td>16.396000</td>\n",
       "    </tr>\n",
       "    <tr>\n",
       "      <th>2022-06-03</th>\n",
       "      <td>16.438999</td>\n",
       "      <td>16.410299</td>\n",
       "    </tr>\n",
       "    <tr>\n",
       "      <th>2022-06-06</th>\n",
       "      <td>16.476500</td>\n",
       "      <td>16.432301</td>\n",
       "    </tr>\n",
       "    <tr>\n",
       "      <th>2022-06-07</th>\n",
       "      <td>16.558800</td>\n",
       "      <td>16.474501</td>\n",
       "    </tr>\n",
       "  </tbody>\n",
       "</table>\n",
       "</div>"
      ],
      "text/plain": [
       "               USDTRY  USDTRY_EMA_A0_333\n",
       "Date                                    \n",
       "2022-06-01  16.387600          16.387600\n",
       "2022-06-02  16.412701          16.396000\n",
       "2022-06-03  16.438999          16.410299\n",
       "2022-06-06  16.476500          16.432301\n",
       "2022-06-07  16.558800          16.474501"
      ]
     },
     "execution_count": 42,
     "metadata": {},
     "output_type": "execute_result"
    }
   ],
   "source": [
    "usdtry_ema5.head()"
   ]
  },
  {
   "cell_type": "markdown",
   "metadata": {},
   "source": [
    "`ema()`; çoğul seriler için de kullanılabilir."
   ]
  },
  {
   "cell_type": "code",
   "execution_count": 69,
   "metadata": {},
   "outputs": [],
   "source": [
    "rates = connector.get_series(\"usdtry, eurtry\",\n",
    "                              start_date=\"01.06.2022\",\n",
    "                              end_date=\"30.06.2022\",\n",
    "                              frequency=\"B\")"
   ]
  },
  {
   "cell_type": "code",
   "execution_count": 70,
   "metadata": {},
   "outputs": [],
   "source": [
    "# bu, hem usdtry hem de eurtry için 10 günlük üssel hareketli ortalamayı verir.\n",
    "rates_ema_10 = transformator.ema(rates, window=10, precision=3)"
   ]
  },
  {
   "cell_type": "code",
   "execution_count": 71,
   "metadata": {},
   "outputs": [
    {
     "data": {
      "text/html": [
       "<div>\n",
       "<style scoped>\n",
       "    .dataframe tbody tr th:only-of-type {\n",
       "        vertical-align: middle;\n",
       "    }\n",
       "\n",
       "    .dataframe tbody tr th {\n",
       "        vertical-align: top;\n",
       "    }\n",
       "\n",
       "    .dataframe thead th {\n",
       "        text-align: right;\n",
       "    }\n",
       "</style>\n",
       "<table border=\"1\" class=\"dataframe\">\n",
       "  <thead>\n",
       "    <tr style=\"text-align: right;\">\n",
       "      <th></th>\n",
       "      <th>USDTRY</th>\n",
       "      <th>EURTRY</th>\n",
       "      <th>USDTRY_EMA_10</th>\n",
       "      <th>EURTRY_EMA_10</th>\n",
       "    </tr>\n",
       "    <tr>\n",
       "      <th>Date</th>\n",
       "      <th></th>\n",
       "      <th></th>\n",
       "      <th></th>\n",
       "      <th></th>\n",
       "    </tr>\n",
       "  </thead>\n",
       "  <tbody>\n",
       "    <tr>\n",
       "      <th>2022-06-01</th>\n",
       "      <td>16.387600</td>\n",
       "      <td>17.5702</td>\n",
       "      <td>16.388000</td>\n",
       "      <td>17.570000</td>\n",
       "    </tr>\n",
       "    <tr>\n",
       "      <th>2022-06-02</th>\n",
       "      <td>16.412701</td>\n",
       "      <td>17.5916</td>\n",
       "      <td>16.392000</td>\n",
       "      <td>17.573999</td>\n",
       "    </tr>\n",
       "    <tr>\n",
       "      <th>2022-06-03</th>\n",
       "      <td>16.438999</td>\n",
       "      <td>17.5700</td>\n",
       "      <td>16.400999</td>\n",
       "      <td>17.573000</td>\n",
       "    </tr>\n",
       "    <tr>\n",
       "      <th>2022-06-06</th>\n",
       "      <td>16.476500</td>\n",
       "      <td>17.7066</td>\n",
       "      <td>16.414000</td>\n",
       "      <td>17.598000</td>\n",
       "    </tr>\n",
       "    <tr>\n",
       "      <th>2022-06-07</th>\n",
       "      <td>16.558800</td>\n",
       "      <td>17.7785</td>\n",
       "      <td>16.441000</td>\n",
       "      <td>17.629999</td>\n",
       "    </tr>\n",
       "  </tbody>\n",
       "</table>\n",
       "</div>"
      ],
      "text/plain": [
       "               USDTRY   EURTRY  USDTRY_EMA_10  EURTRY_EMA_10\n",
       "Date                                                        \n",
       "2022-06-01  16.387600  17.5702      16.388000      17.570000\n",
       "2022-06-02  16.412701  17.5916      16.392000      17.573999\n",
       "2022-06-03  16.438999  17.5700      16.400999      17.573000\n",
       "2022-06-06  16.476500  17.7066      16.414000      17.598000\n",
       "2022-06-07  16.558800  17.7785      16.441000      17.629999"
      ]
     },
     "execution_count": 71,
     "metadata": {},
     "output_type": "execute_result"
    }
   ],
   "source": [
    "rates_ema_10.head()"
   ]
  },
  {
   "cell_type": "markdown",
   "metadata": {},
   "source": [
    "#### 4.10. [__Kayan Varyanslar: ROLVAR<sub>t</sub>(n) = σ<sup>2</sup>(y<sub>t</sub>, y<sub>t-1</sub> ... y<sub>t-n</sub>)__](https://github.com/syncoding/evdsts/blob/master/docs/manuals/manual_en.md#detect-rollvar)"
   ]
  },
  {
   "cell_type": "markdown",
   "metadata": {},
   "source": [
    "Sabit bir zaman aralığındaki kayan varyanslar seriler içinde yapısal değişim ya da kırılmaların ön tespitinde yardımcı olabilir. Kayan varyansta gözlemlenen sıradışı değişimler seride yapısal bir değişim ya da kıralmanın habercisi\n",
    "olabilir. Kayan varyansları; `rolling_var()` metoduyla alabilirsiniz."
   ]
  },
  {
   "cell_type": "code",
   "execution_count": 51,
   "metadata": {},
   "outputs": [],
   "source": [
    "usdtry = connector.get_series(\"usdtry\",\n",
    "                              start_date=\"01.06.2022\",\n",
    "                              end_date=\"30.06.2022\",\n",
    "                              frequency=\"B\")"
   ]
  },
  {
   "cell_type": "code",
   "execution_count": 52,
   "metadata": {},
   "outputs": [],
   "source": [
    "# bu, 10 günlük kayan varyansları verir.\n",
    "usdtry_rolvar_10 = transformator.rolling_var(usdtry, window=10)"
   ]
  },
  {
   "cell_type": "code",
   "execution_count": 53,
   "metadata": {},
   "outputs": [
    {
     "data": {
      "text/html": [
       "<div>\n",
       "<style scoped>\n",
       "    .dataframe tbody tr th:only-of-type {\n",
       "        vertical-align: middle;\n",
       "    }\n",
       "\n",
       "    .dataframe tbody tr th {\n",
       "        vertical-align: top;\n",
       "    }\n",
       "\n",
       "    .dataframe thead th {\n",
       "        text-align: right;\n",
       "    }\n",
       "</style>\n",
       "<table border=\"1\" class=\"dataframe\">\n",
       "  <thead>\n",
       "    <tr style=\"text-align: right;\">\n",
       "      <th></th>\n",
       "      <th>USDTRY</th>\n",
       "      <th>USDTRY_ROLVAR_10</th>\n",
       "    </tr>\n",
       "    <tr>\n",
       "      <th>Date</th>\n",
       "      <th></th>\n",
       "      <th></th>\n",
       "    </tr>\n",
       "  </thead>\n",
       "  <tbody>\n",
       "    <tr>\n",
       "      <th>2022-06-01</th>\n",
       "      <td>16.387600</td>\n",
       "      <td>NaN</td>\n",
       "    </tr>\n",
       "    <tr>\n",
       "      <th>2022-06-02</th>\n",
       "      <td>16.412701</td>\n",
       "      <td>0.0003</td>\n",
       "    </tr>\n",
       "    <tr>\n",
       "      <th>2022-06-03</th>\n",
       "      <td>16.438999</td>\n",
       "      <td>0.0007</td>\n",
       "    </tr>\n",
       "    <tr>\n",
       "      <th>2022-06-06</th>\n",
       "      <td>16.476500</td>\n",
       "      <td>0.0014</td>\n",
       "    </tr>\n",
       "    <tr>\n",
       "      <th>2022-06-07</th>\n",
       "      <td>16.558800</td>\n",
       "      <td>0.0045</td>\n",
       "    </tr>\n",
       "  </tbody>\n",
       "</table>\n",
       "</div>"
      ],
      "text/plain": [
       "               USDTRY  USDTRY_ROLVAR_10\n",
       "Date                                   \n",
       "2022-06-01  16.387600               NaN\n",
       "2022-06-02  16.412701            0.0003\n",
       "2022-06-03  16.438999            0.0007\n",
       "2022-06-06  16.476500            0.0014\n",
       "2022-06-07  16.558800            0.0045"
      ]
     },
     "execution_count": 53,
     "metadata": {},
     "output_type": "execute_result"
    }
   ],
   "source": [
    "usdtry_rolvar_10.head()"
   ]
  },
  {
   "cell_type": "markdown",
   "metadata": {},
   "source": [
    "`rolling_var()`; çoğul seriler için de kullanılabilir."
   ]
  },
  {
   "cell_type": "code",
   "execution_count": 72,
   "metadata": {},
   "outputs": [],
   "source": [
    "rates = connector.get_series(\"usdtry, eurtry\",\n",
    "                              start_date=\"01.06.2022\",\n",
    "                              end_date=\"30.06.2022\",\n",
    "                              frequency=\"B\")"
   ]
  },
  {
   "cell_type": "code",
   "execution_count": 48,
   "metadata": {},
   "outputs": [],
   "source": [
    "# bu, hem usdtry hem de eurtry serileri icin 10 gunluk kayan varyanslari verir\n",
    "rates_rolvar = transformator.rolling_var(rates, window=10)"
   ]
  },
  {
   "cell_type": "code",
   "execution_count": 49,
   "metadata": {},
   "outputs": [
    {
     "data": {
      "text/html": [
       "<div>\n",
       "<style scoped>\n",
       "    .dataframe tbody tr th:only-of-type {\n",
       "        vertical-align: middle;\n",
       "    }\n",
       "\n",
       "    .dataframe tbody tr th {\n",
       "        vertical-align: top;\n",
       "    }\n",
       "\n",
       "    .dataframe thead th {\n",
       "        text-align: right;\n",
       "    }\n",
       "</style>\n",
       "<table border=\"1\" class=\"dataframe\">\n",
       "  <thead>\n",
       "    <tr style=\"text-align: right;\">\n",
       "      <th></th>\n",
       "      <th>USDTRY</th>\n",
       "      <th>EURTRY</th>\n",
       "      <th>USDTRY_ROLVAR_10</th>\n",
       "      <th>EURTRY_ROLVAR_10</th>\n",
       "    </tr>\n",
       "    <tr>\n",
       "      <th>Date</th>\n",
       "      <th></th>\n",
       "      <th></th>\n",
       "      <th></th>\n",
       "      <th></th>\n",
       "    </tr>\n",
       "  </thead>\n",
       "  <tbody>\n",
       "    <tr>\n",
       "      <th>2022-06-01</th>\n",
       "      <td>16.387600</td>\n",
       "      <td>17.5702</td>\n",
       "      <td>NaN</td>\n",
       "      <td>NaN</td>\n",
       "    </tr>\n",
       "    <tr>\n",
       "      <th>2022-06-02</th>\n",
       "      <td>16.412701</td>\n",
       "      <td>17.5916</td>\n",
       "      <td>0.0003</td>\n",
       "      <td>0.0002</td>\n",
       "    </tr>\n",
       "    <tr>\n",
       "      <th>2022-06-03</th>\n",
       "      <td>16.438999</td>\n",
       "      <td>17.5700</td>\n",
       "      <td>0.0007</td>\n",
       "      <td>0.0002</td>\n",
       "    </tr>\n",
       "    <tr>\n",
       "      <th>2022-06-06</th>\n",
       "      <td>16.476500</td>\n",
       "      <td>17.7066</td>\n",
       "      <td>0.0014</td>\n",
       "      <td>0.0043</td>\n",
       "    </tr>\n",
       "    <tr>\n",
       "      <th>2022-06-07</th>\n",
       "      <td>16.558800</td>\n",
       "      <td>17.7785</td>\n",
       "      <td>0.0045</td>\n",
       "      <td>0.0089</td>\n",
       "    </tr>\n",
       "  </tbody>\n",
       "</table>\n",
       "</div>"
      ],
      "text/plain": [
       "               USDTRY   EURTRY  USDTRY_ROLVAR_10  EURTRY_ROLVAR_10\n",
       "Date                                                              \n",
       "2022-06-01  16.387600  17.5702               NaN               NaN\n",
       "2022-06-02  16.412701  17.5916            0.0003            0.0002\n",
       "2022-06-03  16.438999  17.5700            0.0007            0.0002\n",
       "2022-06-06  16.476500  17.7066            0.0014            0.0043\n",
       "2022-06-07  16.558800  17.7785            0.0045            0.0089"
      ]
     },
     "execution_count": 49,
     "metadata": {},
     "output_type": "execute_result"
    }
   ],
   "source": [
    "rates_rolvar.head()"
   ]
  },
  {
   "cell_type": "markdown",
   "metadata": {},
   "source": [
    "#### 4.11. [__Kayan Korelasyonlar: ROLCORR<sub>t</sub>(n) = ρ(y<sub>t</sub>, y<sub>t-1</sub> ... y<sub>t-n</sub>)__](https://github.com/syncoding/evdsts/blob/master/docs/manuals/manual_en.md#detect-rollcorr)"
   ]
  },
  {
   "cell_type": "markdown",
   "metadata": {},
   "source": [
    "Sabit bir zaman aralığındaki kayan korelasyonlar; seriler arasındaki tutarsız ya da sahte ilişkilerin\n",
    "ön tespitinde yararlı olabilir. Kayan korelasyonlar özellikle uzun dönem doğrusal ilişkiden sapmanın\n",
    "gözlemlenmesinde yararlı bir araç olabilir. Kayan korelasyonlarda aşırı dalgalanmalar (özellikle işaret değişimleri)\n",
    "seriler arasındaki uzun dönem ilişkinin tutarlı olmadığını gösterir. Başka bir deyişle; seriler arasında\n",
    "gözlemlenen uzun dönem ilişkinin tutarsız ya da sahte olabileceğiyle ilgili bir şüphe doğurur. Kayan\n",
    "korelasyonları `rolling_corr()` metodu ile alabilirsiniz."
   ]
  },
  {
   "cell_type": "markdown",
   "metadata": {},
   "source": [
    "Burada daha detaylı bir örnek yapalım. Bir an için `usdtry`, `eurtry` ve `bist100` arasındaki ilişkiler\n",
    "hakkında bir ön fikir sahibi olmak istediğimizi düşünelim."
   ]
  },
  {
   "cell_type": "markdown",
   "metadata": {},
   "source": [
    "Bileşik endeks serisini EVDS'den indirebilmek için öncelikle BIST100 endeksinin EVDS veritabanında hangi isimle kayıtlı olduğunu bulmamız gerekiyor."
   ]
  },
  {
   "cell_type": "code",
   "execution_count": 16,
   "metadata": {},
   "outputs": [
    {
     "name": "stdout",
     "output_type": "stream",
     "text": [
      "5 most relevant results for 'bist 100' are shown below.\n",
      "\n",
      "                                                 Search Results                                                 \n",
      "----------------------------------------------------------------------------------------------------------------\n",
      "Series Code          Series Name                                                     Frequency        Start Date \n",
      "----------------------------------------------------------------------------------------------------------------\n",
      "TP.MK.F.BILESIK      (FİYAT) BİST 100 Endeks (XU100), Kapanış Fiyatlarına Göre(Ocak  İŞ GÜNÜ          01-02-1986 \n",
      "TP.MK.F.BILESIK.TUM  (FİYAT) BİST Tüm-100 Endeksi (XTUMY), Kapanış Fiyatlarına Göre  İŞ GÜNÜ          02-01-2009 \n",
      "TP.MK.G.BILESIK      (GETİRİ) BİST 100 Endeks (XU100_CFNNTLTL), Kapanış Fiyatlarına  İŞ GÜNÜ          02-01-1997 \n",
      "TP.MK.G.BILESIK.TUM  (GETİRİ) BİST Tüm-100 Endeksi (XTUMY_CFNNTLTL), Kapanış Fiyatla İŞ GÜNÜ          02-01-2009 \n",
      "TP.MK.F.HIZMET       (FİYAT) BİST Hizmet Endeksi (XUHIZ), Kapanış Fiyatlarına Göre ( İŞ GÜNÜ          02-01-1997 \n",
      "----------------------------------------------------------------------------------------------------------------\n"
     ]
    }
   ],
   "source": [
    "connector.where('bist 100');"
   ]
  },
  {
   "cell_type": "markdown",
   "metadata": {},
   "source": [
    "Yukarıdaki tablodan BIST100 endeksinin EVDS veritabanında `TP.MK.F.BILESIK` olarak etiketlendiğini\n",
    "görüyoruz. Kolaylık olması açısından `TP.MK.F.BILESIK` ismini `bist100` referans ismi olarak kaydedlim."
   ]
  },
  {
   "cell_type": "code",
   "execution_count": 17,
   "metadata": {},
   "outputs": [
    {
     "name": "stdout",
     "output_type": "stream",
     "text": [
      "\n",
      "Below references map have been created for further use. You can use reference series names instead of original ones when retrieving data from the EVDS API service. Reference names are permanent unless this reference mapping is deleted or changed.\n",
      "\n",
      "                 References Table                 \n",
      "--------------------------------------------------\n",
      "Reference Name Represents -> Original Series Names on EVDS\n",
      "--------------------------------------------------\n",
      "bist100         ---> TP.MK.F.BILESIK\n",
      "--------------------------------------------------\n",
      "\n",
      "\n"
     ]
    }
   ],
   "source": [
    "connector.save_name_references(\"TP.MK.F.BILESIK\", \"bist100\")"
   ]
  },
  {
   "cell_type": "markdown",
   "metadata": {},
   "source": [
    "Artık her üç seriyi de kendi isimleriyle indirebiliriz. Bu üç değişkenin son 2 yıllık değerlerini\n",
    "haftalık zaman serileri olarak indirelim."
   ]
  },
  {
   "cell_type": "code",
   "execution_count": 18,
   "metadata": {},
   "outputs": [],
   "source": [
    "# bu, connector'den donen veriler icin ondalik hane hassasiyetini 3 olarak ayarlar\n",
    "connector.precision = 3"
   ]
  },
  {
   "cell_type": "code",
   "execution_count": 19,
   "metadata": {},
   "outputs": [],
   "source": [
    "# son 2 yillik hafta frekansta seriler\n",
    "series = connector.get_series(\"usdtry, eurtry, bist100\", period=\"2y\", frequency='W')"
   ]
  },
  {
   "cell_type": "code",
   "execution_count": 20,
   "metadata": {},
   "outputs": [
    {
     "data": {
      "text/html": [
       "<div>\n",
       "<style scoped>\n",
       "    .dataframe tbody tr th:only-of-type {\n",
       "        vertical-align: middle;\n",
       "    }\n",
       "\n",
       "    .dataframe tbody tr th {\n",
       "        vertical-align: top;\n",
       "    }\n",
       "\n",
       "    .dataframe thead th {\n",
       "        text-align: right;\n",
       "    }\n",
       "</style>\n",
       "<table border=\"1\" class=\"dataframe\">\n",
       "  <thead>\n",
       "    <tr style=\"text-align: right;\">\n",
       "      <th></th>\n",
       "      <th>USDTRY</th>\n",
       "      <th>EURTRY</th>\n",
       "      <th>BIST100</th>\n",
       "    </tr>\n",
       "    <tr>\n",
       "      <th>Date</th>\n",
       "      <th></th>\n",
       "      <th></th>\n",
       "      <th></th>\n",
       "    </tr>\n",
       "  </thead>\n",
       "  <tbody>\n",
       "    <tr>\n",
       "      <th>2020-08-28</th>\n",
       "      <td>7.317</td>\n",
       "      <td>8.648</td>\n",
       "      <td>1100.550049</td>\n",
       "    </tr>\n",
       "    <tr>\n",
       "      <th>2020-09-04</th>\n",
       "      <td>7.346</td>\n",
       "      <td>8.738</td>\n",
       "      <td>1086.319946</td>\n",
       "    </tr>\n",
       "    <tr>\n",
       "      <th>2020-09-11</th>\n",
       "      <td>7.445</td>\n",
       "      <td>8.797</td>\n",
       "      <td>1102.699951</td>\n",
       "    </tr>\n",
       "    <tr>\n",
       "      <th>2020-09-18</th>\n",
       "      <td>7.472</td>\n",
       "      <td>8.855</td>\n",
       "      <td>1111.959961</td>\n",
       "    </tr>\n",
       "    <tr>\n",
       "      <th>2020-09-25</th>\n",
       "      <td>7.610</td>\n",
       "      <td>8.943</td>\n",
       "      <td>1124.170044</td>\n",
       "    </tr>\n",
       "  </tbody>\n",
       "</table>\n",
       "</div>"
      ],
      "text/plain": [
       "            USDTRY  EURTRY      BIST100\n",
       "Date                                   \n",
       "2020-08-28   7.317   8.648  1100.550049\n",
       "2020-09-04   7.346   8.738  1086.319946\n",
       "2020-09-11   7.445   8.797  1102.699951\n",
       "2020-09-18   7.472   8.855  1111.959961\n",
       "2020-09-25   7.610   8.943  1124.170044"
      ]
     },
     "execution_count": 20,
     "metadata": {},
     "output_type": "execute_result"
    }
   ],
   "source": [
    "series.head(5)"
   ]
  },
  {
   "cell_type": "markdown",
   "metadata": {},
   "source": [
    "Artık kayan korelasyonları inceleyebiliriz."
   ]
  },
  {
   "cell_type": "code",
   "execution_count": 21,
   "metadata": {},
   "outputs": [],
   "source": [
    "# 20 haftalık pencere için kayan korelasyonlar.\n",
    "roll_corrs = transformator.rolling_corr(series, window=20, precision=4, keep_originals=False)"
   ]
  },
  {
   "cell_type": "code",
   "execution_count": 22,
   "metadata": {},
   "outputs": [
    {
     "data": {
      "text/html": [
       "<div>\n",
       "<style scoped>\n",
       "    .dataframe tbody tr th:only-of-type {\n",
       "        vertical-align: middle;\n",
       "    }\n",
       "\n",
       "    .dataframe tbody tr th {\n",
       "        vertical-align: top;\n",
       "    }\n",
       "\n",
       "    .dataframe thead th {\n",
       "        text-align: right;\n",
       "    }\n",
       "</style>\n",
       "<table border=\"1\" class=\"dataframe\">\n",
       "  <thead>\n",
       "    <tr style=\"text-align: right;\">\n",
       "      <th></th>\n",
       "      <th>USDTRY_EURTRY_RLCR_20</th>\n",
       "      <th>USDTRY_BIST100_RLCR_20</th>\n",
       "      <th>EURTRY_BIST100_RLCR_20</th>\n",
       "    </tr>\n",
       "    <tr>\n",
       "      <th>Date</th>\n",
       "      <th></th>\n",
       "      <th></th>\n",
       "      <th></th>\n",
       "    </tr>\n",
       "  </thead>\n",
       "  <tbody>\n",
       "    <tr>\n",
       "      <th>2020-08-28</th>\n",
       "      <td>NaN</td>\n",
       "      <td>NaN</td>\n",
       "      <td>NaN</td>\n",
       "    </tr>\n",
       "    <tr>\n",
       "      <th>2020-09-04</th>\n",
       "      <td>1.0000</td>\n",
       "      <td>-1.0000</td>\n",
       "      <td>-1.0000</td>\n",
       "    </tr>\n",
       "    <tr>\n",
       "      <th>2020-09-11</th>\n",
       "      <td>0.9109</td>\n",
       "      <td>0.4140</td>\n",
       "      <td>0.0015</td>\n",
       "    </tr>\n",
       "    <tr>\n",
       "      <th>2020-09-18</th>\n",
       "      <td>0.9536</td>\n",
       "      <td>0.7049</td>\n",
       "      <td>0.5253</td>\n",
       "    </tr>\n",
       "    <tr>\n",
       "      <th>2020-09-25</th>\n",
       "      <td>0.9701</td>\n",
       "      <td>0.8851</td>\n",
       "      <td>0.7877</td>\n",
       "    </tr>\n",
       "    <tr>\n",
       "      <th>...</th>\n",
       "      <td>...</td>\n",
       "      <td>...</td>\n",
       "      <td>...</td>\n",
       "    </tr>\n",
       "    <tr>\n",
       "      <th>2022-07-29</th>\n",
       "      <td>0.9548</td>\n",
       "      <td>0.5750</td>\n",
       "      <td>0.5303</td>\n",
       "    </tr>\n",
       "    <tr>\n",
       "      <th>2022-08-05</th>\n",
       "      <td>0.9592</td>\n",
       "      <td>0.6200</td>\n",
       "      <td>0.5910</td>\n",
       "    </tr>\n",
       "    <tr>\n",
       "      <th>2022-08-12</th>\n",
       "      <td>0.9641</td>\n",
       "      <td>0.6361</td>\n",
       "      <td>0.6315</td>\n",
       "    </tr>\n",
       "    <tr>\n",
       "      <th>2022-08-19</th>\n",
       "      <td>0.9684</td>\n",
       "      <td>0.6109</td>\n",
       "      <td>0.6102</td>\n",
       "    </tr>\n",
       "    <tr>\n",
       "      <th>2022-08-26</th>\n",
       "      <td>0.9644</td>\n",
       "      <td>0.6196</td>\n",
       "      <td>0.5664</td>\n",
       "    </tr>\n",
       "  </tbody>\n",
       "</table>\n",
       "<p>105 rows × 3 columns</p>\n",
       "</div>"
      ],
      "text/plain": [
       "            USDTRY_EURTRY_RLCR_20  USDTRY_BIST100_RLCR_20  \\\n",
       "Date                                                        \n",
       "2020-08-28                    NaN                     NaN   \n",
       "2020-09-04                 1.0000                 -1.0000   \n",
       "2020-09-11                 0.9109                  0.4140   \n",
       "2020-09-18                 0.9536                  0.7049   \n",
       "2020-09-25                 0.9701                  0.8851   \n",
       "...                           ...                     ...   \n",
       "2022-07-29                 0.9548                  0.5750   \n",
       "2022-08-05                 0.9592                  0.6200   \n",
       "2022-08-12                 0.9641                  0.6361   \n",
       "2022-08-19                 0.9684                  0.6109   \n",
       "2022-08-26                 0.9644                  0.6196   \n",
       "\n",
       "            EURTRY_BIST100_RLCR_20  \n",
       "Date                                \n",
       "2020-08-28                     NaN  \n",
       "2020-09-04                 -1.0000  \n",
       "2020-09-11                  0.0015  \n",
       "2020-09-18                  0.5253  \n",
       "2020-09-25                  0.7877  \n",
       "...                            ...  \n",
       "2022-07-29                  0.5303  \n",
       "2022-08-05                  0.5910  \n",
       "2022-08-12                  0.6315  \n",
       "2022-08-19                  0.6102  \n",
       "2022-08-26                  0.5664  \n",
       "\n",
       "[105 rows x 3 columns]"
      ]
     },
     "execution_count": 22,
     "metadata": {},
     "output_type": "execute_result"
    }
   ],
   "source": [
    "roll_corrs"
   ]
  },
  {
   "cell_type": "code",
   "execution_count": 24,
   "metadata": {},
   "outputs": [
    {
     "data": {
      "image/png": "[encoded data removed]",
      "text/plain": [
       "<Figure size 432x288 with 1 Axes>"
      ]
     },
     "metadata": {
      "needs_background": "light"
     },
     "output_type": "display_data"
    }
   ],
   "source": [
    "# buradaki amacimiz detayli bir analiz yapmak olmadigindan, kayan korelasyonlari görsel olarak\n",
    "# degerlendirip bir ön fikir sahibi olmaya calisacagiz.\n",
    "# pandas'in bu metodunun 'matplotlib' paketine ihtiyac duydugunu unutmayin.\n",
    "roll_corrs.plot();"
   ]
  },
  {
   "cell_type": "markdown",
   "metadata": {},
   "source": [
    "Yukarıdaki grafikte gördüğümüze göre (USDTRY, BIST100) ve (EURTRY, BIST100) arasında stabil bir ilişki\n",
    "olmnadığı fikrini ortaya atabiliriz çünkü ilişkinin zaman içinde hem yönü hem de şiddeti aşırı derecede\n",
    "salınım yapıyor. Buna karşın; (USDTRY, EURTRY) arasında ise uzun dönemli pozitif yönlü tutarlı bir ilişki olduğu\n",
    "sonucuna varabiliriz."
   ]
  },
  {
   "cell_type": "markdown",
   "metadata": {},
   "source": [
    "#### 4.12. [__Z-Skoru: Z<sub>t</sub> = (y<sub>t</sub> - ȳ) / σ<sub>y</sub>__](https://github.com/syncoding/evdsts/blob/master/docs/manuals/manual_en.md#get-z-score)"
   ]
  },
  {
   "cell_type": "markdown",
   "metadata": {},
   "source": [
    "_Z-Skoru_ standart sapma birimleriyle ölçüldüğünde, herhangi bir değerin ortalamaya uzaklığının bir\n",
    "skalar ölçüsünü verir. Z-Skoru; normal dağılan seriler (y:~N(μ, σ)) için beklenen değerlerden sapmanın\n",
    "tespit edilmesinde kullanılır. Bununla birlikte, büyük örneklem varsayımı altında herhangi bir seride\n",
    "`+3` değerinden büyük ve `-3` değerinden küçük z-skoru varlığı, bu değerin bir dışa düşen olabileceğinin\n",
    "göstergesidir. Seriler için z-skor değerlerini `z-score()` metodu ile alabilirsiniz."
   ]
  },
  {
   "cell_type": "code",
   "execution_count": 54,
   "metadata": {},
   "outputs": [],
   "source": [
    "usdtry = connector.get_series(\"usdtry\",\n",
    "                              start_date=\"01.06.2022\",\n",
    "                              end_date=\"30.06.2022\",\n",
    "                              frequency=\"B\")"
   ]
  },
  {
   "cell_type": "code",
   "execution_count": 56,
   "metadata": {},
   "outputs": [],
   "source": [
    "usdtry = connector.get_series(\"usdtry\", period=\"3m\", frequency='B')\n",
    "\n",
    "# bu verilen her seri ve bu serilerin her bir degeri icin z-skoru'nu verir.\n",
    "usdtry_z = transformator.z_score(usdtry, precision=2)"
   ]
  },
  {
   "cell_type": "code",
   "execution_count": 57,
   "metadata": {},
   "outputs": [
    {
     "data": {
      "text/html": [
       "<div>\n",
       "<style scoped>\n",
       "    .dataframe tbody tr th:only-of-type {\n",
       "        vertical-align: middle;\n",
       "    }\n",
       "\n",
       "    .dataframe tbody tr th {\n",
       "        vertical-align: top;\n",
       "    }\n",
       "\n",
       "    .dataframe thead th {\n",
       "        text-align: right;\n",
       "    }\n",
       "</style>\n",
       "<table border=\"1\" class=\"dataframe\">\n",
       "  <thead>\n",
       "    <tr style=\"text-align: right;\">\n",
       "      <th></th>\n",
       "      <th>USDTRY</th>\n",
       "      <th>USDTRY_Z</th>\n",
       "    </tr>\n",
       "    <tr>\n",
       "      <th>Date</th>\n",
       "      <th></th>\n",
       "      <th></th>\n",
       "    </tr>\n",
       "  </thead>\n",
       "  <tbody>\n",
       "    <tr>\n",
       "      <th>2022-05-27</th>\n",
       "      <td>16.368099</td>\n",
       "      <td>-1.80</td>\n",
       "    </tr>\n",
       "    <tr>\n",
       "      <th>2022-05-30</th>\n",
       "      <td>16.347900</td>\n",
       "      <td>-1.84</td>\n",
       "    </tr>\n",
       "    <tr>\n",
       "      <th>2022-05-31</th>\n",
       "      <td>16.356199</td>\n",
       "      <td>-1.82</td>\n",
       "    </tr>\n",
       "    <tr>\n",
       "      <th>2022-06-01</th>\n",
       "      <td>16.387600</td>\n",
       "      <td>-1.77</td>\n",
       "    </tr>\n",
       "    <tr>\n",
       "      <th>2022-06-02</th>\n",
       "      <td>16.412701</td>\n",
       "      <td>-1.72</td>\n",
       "    </tr>\n",
       "  </tbody>\n",
       "</table>\n",
       "</div>"
      ],
      "text/plain": [
       "               USDTRY  USDTRY_Z\n",
       "Date                           \n",
       "2022-05-27  16.368099     -1.80\n",
       "2022-05-30  16.347900     -1.84\n",
       "2022-05-31  16.356199     -1.82\n",
       "2022-06-01  16.387600     -1.77\n",
       "2022-06-02  16.412701     -1.72"
      ]
     },
     "execution_count": 57,
     "metadata": {},
     "output_type": "execute_result"
    }
   ],
   "source": [
    "usdtry_z.head()"
   ]
  },
  {
   "cell_type": "markdown",
   "metadata": {},
   "source": [
    "`z-score()`; çoğul seriler için de kullanılabilir."
   ]
  },
  {
   "cell_type": "code",
   "execution_count": 73,
   "metadata": {},
   "outputs": [],
   "source": [
    "rates = connector.get_series(\"usdtry, eurtry\",\n",
    "                              start_date=\"01.06.2022\",\n",
    "                              end_date=\"30.06.2022\",\n",
    "                              frequency=\"B\")"
   ]
  },
  {
   "cell_type": "code",
   "execution_count": 29,
   "metadata": {},
   "outputs": [],
   "source": [
    "rates = connector.get_series(\"usdtry, eurtry\", period=\"3m\", frequency=\"B\")\n",
    "\n",
    "# bu, USDTRY ve EURTRY serilerinin z-skorlarini verir.\n",
    "rates_z = transformator.z_score(rates, precision=2)"
   ]
  },
  {
   "cell_type": "code",
   "execution_count": 30,
   "metadata": {},
   "outputs": [
    {
     "data": {
      "text/html": [
       "<div>\n",
       "<style scoped>\n",
       "    .dataframe tbody tr th:only-of-type {\n",
       "        vertical-align: middle;\n",
       "    }\n",
       "\n",
       "    .dataframe tbody tr th {\n",
       "        vertical-align: top;\n",
       "    }\n",
       "\n",
       "    .dataframe thead th {\n",
       "        text-align: right;\n",
       "    }\n",
       "</style>\n",
       "<table border=\"1\" class=\"dataframe\">\n",
       "  <thead>\n",
       "    <tr style=\"text-align: right;\">\n",
       "      <th></th>\n",
       "      <th>USDTRY</th>\n",
       "      <th>EURTRY</th>\n",
       "      <th>USDTRY_Z</th>\n",
       "      <th>EURTRY_Z</th>\n",
       "    </tr>\n",
       "    <tr>\n",
       "      <th>Date</th>\n",
       "      <th></th>\n",
       "      <th></th>\n",
       "      <th></th>\n",
       "      <th></th>\n",
       "    </tr>\n",
       "  </thead>\n",
       "  <tbody>\n",
       "    <tr>\n",
       "      <th>2022-05-26</th>\n",
       "      <td>16.267000</td>\n",
       "      <td>17.365999</td>\n",
       "      <td>-1.91</td>\n",
       "      <td>-1.84</td>\n",
       "    </tr>\n",
       "    <tr>\n",
       "      <th>2022-05-27</th>\n",
       "      <td>16.368000</td>\n",
       "      <td>17.510000</td>\n",
       "      <td>-1.73</td>\n",
       "      <td>-1.40</td>\n",
       "    </tr>\n",
       "    <tr>\n",
       "      <th>2022-05-30</th>\n",
       "      <td>16.348000</td>\n",
       "      <td>17.527000</td>\n",
       "      <td>-1.77</td>\n",
       "      <td>-1.35</td>\n",
       "    </tr>\n",
       "    <tr>\n",
       "      <th>2022-05-31</th>\n",
       "      <td>16.356001</td>\n",
       "      <td>17.601999</td>\n",
       "      <td>-1.75</td>\n",
       "      <td>-1.12</td>\n",
       "    </tr>\n",
       "    <tr>\n",
       "      <th>2022-06-01</th>\n",
       "      <td>16.388000</td>\n",
       "      <td>17.570000</td>\n",
       "      <td>-1.70</td>\n",
       "      <td>-1.22</td>\n",
       "    </tr>\n",
       "  </tbody>\n",
       "</table>\n",
       "</div>"
      ],
      "text/plain": [
       "               USDTRY     EURTRY  USDTRY_Z  EURTRY_Z\n",
       "Date                                                \n",
       "2022-05-26  16.267000  17.365999     -1.91     -1.84\n",
       "2022-05-27  16.368000  17.510000     -1.73     -1.40\n",
       "2022-05-30  16.348000  17.527000     -1.77     -1.35\n",
       "2022-05-31  16.356001  17.601999     -1.75     -1.12\n",
       "2022-06-01  16.388000  17.570000     -1.70     -1.22"
      ]
     },
     "execution_count": 30,
     "metadata": {},
     "output_type": "execute_result"
    }
   ],
   "source": [
    "rates_z.head()"
   ]
  },
  {
   "cell_type": "markdown",
   "metadata": {},
   "source": [
    "#### 4.13. [__Medyan Mutlak Sapma: medyan(|y<sub>t</sub> - medyan(y<sub>t</sub>)|)__](https://github.com/syncoding/evdsts/blob/master/docs/manuals/manual_en.md#get-mad)"
   ]
  },
  {
   "cell_type": "markdown",
   "metadata": {},
   "source": [
    "_Medyan Mutlak Sapma_ (__MAD__); mutlak değerler ile ölçüldüğünde değerlerin medyan değerden sapmalarının medyanıdır.\n",
    "Medyan mutlak sapma, normal dağılmayan seriler için standar sapma yerine kullanılabilecek bir değişkenlik\n",
    "ölçüsü olarak düşünülebilir. MAD; normal dağılmayan seriler için bile kararlı (robust) bir parametre istatistiğidir.\n",
    "Büyük örneklem varsayımı altında `+3`'den büyük ve `-3`'den küçük MAD değeri; incelenen seri normal dağılmasa dahi\n",
    "bu değerin bir dışa düşen olduğunu ifade eder. Medyan Mutlak Sapma'yı `mad()` metoduyla alabilirsiniz."
   ]
  },
  {
   "cell_type": "code",
   "execution_count": 58,
   "metadata": {},
   "outputs": [],
   "source": [
    "usdtry = connector.get_series(\"usdtry\",\n",
    "                              start_date=\"01.06.2022\",\n",
    "                              end_date=\"30.06.2022\",\n",
    "                              frequency=\"B\")"
   ]
  },
  {
   "cell_type": "code",
   "execution_count": 59,
   "metadata": {},
   "outputs": [],
   "source": [
    "# bu verilen her seri ve bu serilerin her bir degeri icin medyan mutlak sapmaları verir.\n",
    "usdtry_mad = transformator.mad(usdtry, precision=2)"
   ]
  },
  {
   "cell_type": "code",
   "execution_count": 60,
   "metadata": {},
   "outputs": [
    {
     "data": {
      "text/html": [
       "<div>\n",
       "<style scoped>\n",
       "    .dataframe tbody tr th:only-of-type {\n",
       "        vertical-align: middle;\n",
       "    }\n",
       "\n",
       "    .dataframe tbody tr th {\n",
       "        vertical-align: top;\n",
       "    }\n",
       "\n",
       "    .dataframe thead th {\n",
       "        text-align: right;\n",
       "    }\n",
       "</style>\n",
       "<table border=\"1\" class=\"dataframe\">\n",
       "  <thead>\n",
       "    <tr style=\"text-align: right;\">\n",
       "      <th></th>\n",
       "      <th>USDTRY</th>\n",
       "      <th>USDTRY_MAD</th>\n",
       "    </tr>\n",
       "    <tr>\n",
       "      <th>Date</th>\n",
       "      <th></th>\n",
       "      <th></th>\n",
       "    </tr>\n",
       "  </thead>\n",
       "  <tbody>\n",
       "    <tr>\n",
       "      <th>2022-06-01</th>\n",
       "      <td>16.387600</td>\n",
       "      <td>-2.65</td>\n",
       "    </tr>\n",
       "    <tr>\n",
       "      <th>2022-06-02</th>\n",
       "      <td>16.412701</td>\n",
       "      <td>-2.56</td>\n",
       "    </tr>\n",
       "    <tr>\n",
       "      <th>2022-06-03</th>\n",
       "      <td>16.438999</td>\n",
       "      <td>-2.47</td>\n",
       "    </tr>\n",
       "    <tr>\n",
       "      <th>2022-06-06</th>\n",
       "      <td>16.476500</td>\n",
       "      <td>-2.34</td>\n",
       "    </tr>\n",
       "    <tr>\n",
       "      <th>2022-06-07</th>\n",
       "      <td>16.558800</td>\n",
       "      <td>-2.05</td>\n",
       "    </tr>\n",
       "  </tbody>\n",
       "</table>\n",
       "</div>"
      ],
      "text/plain": [
       "               USDTRY  USDTRY_MAD\n",
       "Date                             \n",
       "2022-06-01  16.387600       -2.65\n",
       "2022-06-02  16.412701       -2.56\n",
       "2022-06-03  16.438999       -2.47\n",
       "2022-06-06  16.476500       -2.34\n",
       "2022-06-07  16.558800       -2.05"
      ]
     },
     "execution_count": 60,
     "metadata": {},
     "output_type": "execute_result"
    }
   ],
   "source": [
    "usdtry_mad.head()"
   ]
  },
  {
   "cell_type": "markdown",
   "metadata": {},
   "source": [
    "`mad()`; çoğul seriler için de kullanılabilir."
   ]
  },
  {
   "cell_type": "code",
   "execution_count": 74,
   "metadata": {},
   "outputs": [],
   "source": [
    "rates = connector.get_series(\"usdtry, eurtry\",\n",
    "                              start_date=\"01.06.2022\",\n",
    "                              end_date=\"30.06.2022\",\n",
    "                              frequency=\"B\")"
   ]
  },
  {
   "cell_type": "code",
   "execution_count": 33,
   "metadata": {},
   "outputs": [],
   "source": [
    "# bu, USDTRY ve EURTRY serileri icin medyandan mutlak sapmalari verir\n",
    "rates_mad = transformator.mad(rates, precision=2)"
   ]
  },
  {
   "cell_type": "code",
   "execution_count": 34,
   "metadata": {},
   "outputs": [
    {
     "data": {
      "text/html": [
       "<div>\n",
       "<style scoped>\n",
       "    .dataframe tbody tr th:only-of-type {\n",
       "        vertical-align: middle;\n",
       "    }\n",
       "\n",
       "    .dataframe tbody tr th {\n",
       "        vertical-align: top;\n",
       "    }\n",
       "\n",
       "    .dataframe thead th {\n",
       "        text-align: right;\n",
       "    }\n",
       "</style>\n",
       "<table border=\"1\" class=\"dataframe\">\n",
       "  <thead>\n",
       "    <tr style=\"text-align: right;\">\n",
       "      <th></th>\n",
       "      <th>USDTRY</th>\n",
       "      <th>EURTRY</th>\n",
       "      <th>USDTRY_MAD</th>\n",
       "      <th>EURTRY_MAD</th>\n",
       "    </tr>\n",
       "    <tr>\n",
       "      <th>Date</th>\n",
       "      <th></th>\n",
       "      <th></th>\n",
       "      <th></th>\n",
       "      <th></th>\n",
       "    </tr>\n",
       "  </thead>\n",
       "  <tbody>\n",
       "    <tr>\n",
       "      <th>2022-05-26</th>\n",
       "      <td>16.267000</td>\n",
       "      <td>17.365999</td>\n",
       "      <td>-1.25</td>\n",
       "      <td>-1.97</td>\n",
       "    </tr>\n",
       "    <tr>\n",
       "      <th>2022-05-27</th>\n",
       "      <td>16.368000</td>\n",
       "      <td>17.510000</td>\n",
       "      <td>-1.13</td>\n",
       "      <td>-1.56</td>\n",
       "    </tr>\n",
       "    <tr>\n",
       "      <th>2022-05-30</th>\n",
       "      <td>16.348000</td>\n",
       "      <td>17.527000</td>\n",
       "      <td>-1.15</td>\n",
       "      <td>-1.51</td>\n",
       "    </tr>\n",
       "    <tr>\n",
       "      <th>2022-05-31</th>\n",
       "      <td>16.356001</td>\n",
       "      <td>17.601999</td>\n",
       "      <td>-1.15</td>\n",
       "      <td>-1.30</td>\n",
       "    </tr>\n",
       "    <tr>\n",
       "      <th>2022-06-01</th>\n",
       "      <td>16.388000</td>\n",
       "      <td>17.570000</td>\n",
       "      <td>-1.11</td>\n",
       "      <td>-1.39</td>\n",
       "    </tr>\n",
       "  </tbody>\n",
       "</table>\n",
       "</div>"
      ],
      "text/plain": [
       "               USDTRY     EURTRY  USDTRY_MAD  EURTRY_MAD\n",
       "Date                                                    \n",
       "2022-05-26  16.267000  17.365999       -1.25       -1.97\n",
       "2022-05-27  16.368000  17.510000       -1.13       -1.56\n",
       "2022-05-30  16.348000  17.527000       -1.15       -1.51\n",
       "2022-05-31  16.356001  17.601999       -1.15       -1.30\n",
       "2022-06-01  16.388000  17.570000       -1.11       -1.39"
      ]
     },
     "execution_count": 34,
     "metadata": {},
     "output_type": "execute_result"
    }
   ],
   "source": [
    "rates_mad.head()"
   ]
  },
  {
   "cell_type": "markdown",
   "metadata": {},
   "source": [
    "#### 4.14. [__Normalize Seriler: y<sub>t, normal</sub> = F(y<sub>t</sub>)__](https://github.com/syncoding/evdsts/blob/master/docs/manuals/manual_en.md#get-normalized)"
   ]
  },
  {
   "cell_type": "markdown",
   "metadata": {},
   "source": [
    "Makine öğrenmesi gibi diğer uygulamalarda girdi olarak kullanmak için serileri nomralize edebilirsiniz.\n",
    "Normalize edilmiş serileri almak için `nomralize()` metodunu kullanabilirsiniz.\n",
    "\n",
    "Normalizasyon için `6` adet normalizasyon fonksiyonu belirlenmiştir ve bunlar;\n",
    "\n",
    "|Metot        | Tanım                                              | Aralık         |\n",
    "|:-------------|:------------------------------------------------------- |:--------------|\n",
    "|`simple`      |  x / (max(x) + 1)                                       | [0, +1)       |\n",
    "| `min - max`  | (x - min(x)) / (max(x) - min(x))                        | (0, 1]        |\n",
    "| `mean`       | (x - x̄) / (max(x) + 1)                                  | [-1, +1)      |\n",
    "| `median`     | (x - median(x)) / (max(x) + 1)                          | [-1, +1)      |\n",
    "| `mad`        | (x - median(x)) / (median(\\|(x - median(x)\\|)) * 1.4826 | (-inf, +inf)  |\n",
    "| `z`          | (x- x̄) / σ<sub>x</sub>                                  | (-inf, +inf)  |\n",
    "\n",
    "> 1.4826 ölçeklendirme faktörüdür ve `1 / QNormal(%75)`' eşittir."
   ]
  },
  {
   "cell_type": "code",
   "execution_count": 61,
   "metadata": {},
   "outputs": [],
   "source": [
    "usdtry = connector.get_series(\"usdtry\",\n",
    "                              start_date=\"01.06.2022\",\n",
    "                              end_date=\"30.06.2022\",\n",
    "                              frequency=\"B\")"
   ]
  },
  {
   "cell_type": "code",
   "execution_count": 62,
   "metadata": {},
   "outputs": [],
   "source": [
    "# bu, verilen normalizasyon fonksiyonuna göre (burada: z) USDTRY'nin normalize degerlerini verir.\n",
    "usdtry_normalized = transformator.normalize(usdtry, method=\"z\")"
   ]
  },
  {
   "cell_type": "code",
   "execution_count": 63,
   "metadata": {},
   "outputs": [
    {
     "data": {
      "text/html": [
       "<div>\n",
       "<style scoped>\n",
       "    .dataframe tbody tr th:only-of-type {\n",
       "        vertical-align: middle;\n",
       "    }\n",
       "\n",
       "    .dataframe tbody tr th {\n",
       "        vertical-align: top;\n",
       "    }\n",
       "\n",
       "    .dataframe thead th {\n",
       "        text-align: right;\n",
       "    }\n",
       "</style>\n",
       "<table border=\"1\" class=\"dataframe\">\n",
       "  <thead>\n",
       "    <tr style=\"text-align: right;\">\n",
       "      <th></th>\n",
       "      <th>USDTRY</th>\n",
       "      <th>USDTRY_NORM</th>\n",
       "    </tr>\n",
       "    <tr>\n",
       "      <th>Date</th>\n",
       "      <th></th>\n",
       "      <th></th>\n",
       "    </tr>\n",
       "  </thead>\n",
       "  <tbody>\n",
       "    <tr>\n",
       "      <th>2022-06-01</th>\n",
       "      <td>16.387600</td>\n",
       "      <td>-1.5942</td>\n",
       "    </tr>\n",
       "    <tr>\n",
       "      <th>2022-06-02</th>\n",
       "      <td>16.412701</td>\n",
       "      <td>-1.5248</td>\n",
       "    </tr>\n",
       "    <tr>\n",
       "      <th>2022-06-03</th>\n",
       "      <td>16.438999</td>\n",
       "      <td>-1.4522</td>\n",
       "    </tr>\n",
       "  </tbody>\n",
       "</table>\n",
       "</div>"
      ],
      "text/plain": [
       "               USDTRY  USDTRY_NORM\n",
       "Date                              \n",
       "2022-06-01  16.387600      -1.5942\n",
       "2022-06-02  16.412701      -1.5248\n",
       "2022-06-03  16.438999      -1.4522"
      ]
     },
     "execution_count": 63,
     "metadata": {},
     "output_type": "execute_result"
    }
   ],
   "source": [
    "usdtry_normalized.head(3)"
   ]
  },
  {
   "cell_type": "code",
   "execution_count": 64,
   "metadata": {},
   "outputs": [],
   "source": [
    "# bu, verilen normalizasyon fonksiyonuna göre (burada: simple) USDTRY'nin normalize degerlerini verir.\n",
    "usdtry_normalized = transformator.normalize(usdtry, method=\"simple\")"
   ]
  },
  {
   "cell_type": "code",
   "execution_count": 65,
   "metadata": {},
   "outputs": [
    {
     "data": {
      "text/html": [
       "<div>\n",
       "<style scoped>\n",
       "    .dataframe tbody tr th:only-of-type {\n",
       "        vertical-align: middle;\n",
       "    }\n",
       "\n",
       "    .dataframe tbody tr th {\n",
       "        vertical-align: top;\n",
       "    }\n",
       "\n",
       "    .dataframe thead th {\n",
       "        text-align: right;\n",
       "    }\n",
       "</style>\n",
       "<table border=\"1\" class=\"dataframe\">\n",
       "  <thead>\n",
       "    <tr style=\"text-align: right;\">\n",
       "      <th></th>\n",
       "      <th>USDTRY</th>\n",
       "      <th>USDTRY_NORM</th>\n",
       "    </tr>\n",
       "    <tr>\n",
       "      <th>Date</th>\n",
       "      <th></th>\n",
       "      <th></th>\n",
       "    </tr>\n",
       "  </thead>\n",
       "  <tbody>\n",
       "    <tr>\n",
       "      <th>2022-06-01</th>\n",
       "      <td>16.387600</td>\n",
       "      <td>0.8932</td>\n",
       "    </tr>\n",
       "    <tr>\n",
       "      <th>2022-06-02</th>\n",
       "      <td>16.412701</td>\n",
       "      <td>0.8945</td>\n",
       "    </tr>\n",
       "    <tr>\n",
       "      <th>2022-06-03</th>\n",
       "      <td>16.438999</td>\n",
       "      <td>0.8960</td>\n",
       "    </tr>\n",
       "  </tbody>\n",
       "</table>\n",
       "</div>"
      ],
      "text/plain": [
       "               USDTRY  USDTRY_NORM\n",
       "Date                              \n",
       "2022-06-01  16.387600       0.8932\n",
       "2022-06-02  16.412701       0.8945\n",
       "2022-06-03  16.438999       0.8960"
      ]
     },
     "execution_count": 65,
     "metadata": {},
     "output_type": "execute_result"
    }
   ],
   "source": [
    "usdtry_normalized.head(3)"
   ]
  },
  {
   "cell_type": "markdown",
   "metadata": {},
   "source": [
    "`normalize()`; çoğul seriler için de kullanılabilir."
   ]
  },
  {
   "cell_type": "code",
   "execution_count": 75,
   "metadata": {},
   "outputs": [],
   "source": [
    "rates = connector.get_series(\"usdtry, eurtry\",\n",
    "                              start_date=\"01.06.2022\",\n",
    "                              end_date=\"30.06.2022\",\n",
    "                              frequency=\"B\")"
   ]
  },
  {
   "cell_type": "code",
   "execution_count": 66,
   "metadata": {},
   "outputs": [],
   "source": [
    "# bu, hem USDTRY hem de EURTRY'nin normalize edilmis degerlerini verir.\n",
    "rates_normalized = transformator.normalize(rates, method='mad', keep_originals=False)"
   ]
  },
  {
   "cell_type": "code",
   "execution_count": 41,
   "metadata": {},
   "outputs": [
    {
     "data": {
      "text/html": [
       "<div>\n",
       "<style scoped>\n",
       "    .dataframe tbody tr th:only-of-type {\n",
       "        vertical-align: middle;\n",
       "    }\n",
       "\n",
       "    .dataframe tbody tr th {\n",
       "        vertical-align: top;\n",
       "    }\n",
       "\n",
       "    .dataframe thead th {\n",
       "        text-align: right;\n",
       "    }\n",
       "</style>\n",
       "<table border=\"1\" class=\"dataframe\">\n",
       "  <thead>\n",
       "    <tr style=\"text-align: right;\">\n",
       "      <th></th>\n",
       "      <th>USDTRY_NORM</th>\n",
       "      <th>EURTRY_NORM</th>\n",
       "    </tr>\n",
       "    <tr>\n",
       "      <th>Date</th>\n",
       "      <th></th>\n",
       "      <th></th>\n",
       "    </tr>\n",
       "  </thead>\n",
       "  <tbody>\n",
       "    <tr>\n",
       "      <th>2022-05-26</th>\n",
       "      <td>-1.247924</td>\n",
       "      <td>-1.970829</td>\n",
       "    </tr>\n",
       "    <tr>\n",
       "      <th>2022-05-27</th>\n",
       "      <td>-1.131274</td>\n",
       "      <td>-1.561008</td>\n",
       "    </tr>\n",
       "    <tr>\n",
       "      <th>2022-05-30</th>\n",
       "      <td>-1.154374</td>\n",
       "      <td>-1.512626</td>\n",
       "    </tr>\n",
       "    <tr>\n",
       "      <th>2022-05-31</th>\n",
       "      <td>-1.145132</td>\n",
       "      <td>-1.299183</td>\n",
       "    </tr>\n",
       "    <tr>\n",
       "      <th>2022-06-01</th>\n",
       "      <td>-1.108174</td>\n",
       "      <td>-1.390252</td>\n",
       "    </tr>\n",
       "  </tbody>\n",
       "</table>\n",
       "</div>"
      ],
      "text/plain": [
       "            USDTRY_NORM  EURTRY_NORM\n",
       "Date                                \n",
       "2022-05-26    -1.247924    -1.970829\n",
       "2022-05-27    -1.131274    -1.561008\n",
       "2022-05-30    -1.154374    -1.512626\n",
       "2022-05-31    -1.145132    -1.299183\n",
       "2022-06-01    -1.108174    -1.390252"
      ]
     },
     "execution_count": 41,
     "metadata": {},
     "output_type": "execute_result"
    }
   ],
   "source": [
    "rates_normalized.head()"
   ]
  },
  {
   "cell_type": "markdown",
   "metadata": {},
   "source": [
    "#### 4.15. [__Dummy Series: D<sub>n</sub>__](https://github.com/syncoding/evdsts/blob/master/docs/manuals/manual_en.md#get-dummies)"
   ]
  },
  {
   "cell_type": "markdown",
   "metadata": {},
   "source": [
    "Verilen eşik değerlerine uygun şartlara göre kukla seriler oluşturmak için `dummy()` metodunu kullanabilirsiniz. Kukla değişkenler yapısal değişim ya da kırılmaları ve bazı uygulamalarda dışa düşenleri modellemek için idealdir."
   ]
  },
  {
   "cell_type": "markdown",
   "metadata": {},
   "source": [
    "Kullanılabilecek şartlar;\n",
    "\n",
    "|şart  |açıklama|\n",
    "|:------:|--------|\n",
    "| `>`  | verilen eşik değerden büyük|\n",
    "| `>=` | verilen eşik değere eşit ya da büyük|\n",
    "| `<`  | verilen eşik değerden küçük|\n",
    "| `<=` | verilen eşik değere eşit ya da küçük|\n",
    "| `()` | alt eşik değerden büyük ve üst eşik değerden küçük (kapalı aralık)|\n",
    "| `[]` | alt eşik değere eşit ya da büyük ve üst eşik değere eşit ya da küçük (açık aralık)|"
   ]
  },
  {
   "cell_type": "code",
   "execution_count": 46,
   "metadata": {},
   "outputs": [],
   "source": [
    "usdtry = connector.get_series(\"usdtry\",\n",
    "                              start_date=\"01.01.2020\",\n",
    "                              end_date=\"01.01.2022\",\n",
    "                              frequency=\"Q\")"
   ]
  },
  {
   "cell_type": "code",
   "execution_count": 49,
   "metadata": {},
   "outputs": [],
   "source": [
    "# bu, USDTRY'nin 8'den büyük degerleri icin 1, geri kalan degerler icin 0 degeri alan bir kukla degiskenb verir.\n",
    "usdtry_gt8 = transformator.dummy(usdtry, \">\", 8)"
   ]
  },
  {
   "cell_type": "code",
   "execution_count": 50,
   "metadata": {},
   "outputs": [
    {
     "data": {
      "text/html": [
       "<div>\n",
       "<style scoped>\n",
       "    .dataframe tbody tr th:only-of-type {\n",
       "        vertical-align: middle;\n",
       "    }\n",
       "\n",
       "    .dataframe tbody tr th {\n",
       "        vertical-align: top;\n",
       "    }\n",
       "\n",
       "    .dataframe thead th {\n",
       "        text-align: right;\n",
       "    }\n",
       "</style>\n",
       "<table border=\"1\" class=\"dataframe\">\n",
       "  <thead>\n",
       "    <tr style=\"text-align: right;\">\n",
       "      <th></th>\n",
       "      <th>USDTRY</th>\n",
       "      <th>USDTRY_GTT_8</th>\n",
       "    </tr>\n",
       "    <tr>\n",
       "      <th>Date</th>\n",
       "      <th></th>\n",
       "      <th></th>\n",
       "    </tr>\n",
       "  </thead>\n",
       "  <tbody>\n",
       "    <tr>\n",
       "      <th>2020-03-31</th>\n",
       "      <td>6.094</td>\n",
       "      <td>0.0</td>\n",
       "    </tr>\n",
       "    <tr>\n",
       "      <th>2020-06-30</th>\n",
       "      <td>6.853</td>\n",
       "      <td>0.0</td>\n",
       "    </tr>\n",
       "    <tr>\n",
       "      <th>2020-09-30</th>\n",
       "      <td>7.208</td>\n",
       "      <td>0.0</td>\n",
       "    </tr>\n",
       "    <tr>\n",
       "      <th>2020-12-31</th>\n",
       "      <td>7.862</td>\n",
       "      <td>0.0</td>\n",
       "    </tr>\n",
       "    <tr>\n",
       "      <th>2021-03-31</th>\n",
       "      <td>7.377</td>\n",
       "      <td>0.0</td>\n",
       "    </tr>\n",
       "    <tr>\n",
       "      <th>2021-06-30</th>\n",
       "      <td>8.370</td>\n",
       "      <td>1.0</td>\n",
       "    </tr>\n",
       "    <tr>\n",
       "      <th>2021-09-30</th>\n",
       "      <td>8.528</td>\n",
       "      <td>1.0</td>\n",
       "    </tr>\n",
       "    <tr>\n",
       "      <th>2021-12-31</th>\n",
       "      <td>11.161</td>\n",
       "      <td>1.0</td>\n",
       "    </tr>\n",
       "  </tbody>\n",
       "</table>\n",
       "</div>"
      ],
      "text/plain": [
       "            USDTRY  USDTRY_GTT_8\n",
       "Date                            \n",
       "2020-03-31   6.094           0.0\n",
       "2020-06-30   6.853           0.0\n",
       "2020-09-30   7.208           0.0\n",
       "2020-12-31   7.862           0.0\n",
       "2021-03-31   7.377           0.0\n",
       "2021-06-30   8.370           1.0\n",
       "2021-09-30   8.528           1.0\n",
       "2021-12-31  11.161           1.0"
      ]
     },
     "execution_count": 50,
     "metadata": {},
     "output_type": "execute_result"
    }
   ],
   "source": [
    "usdtry_gt8"
   ]
  },
  {
   "cell_type": "code",
   "execution_count": 51,
   "metadata": {},
   "outputs": [],
   "source": [
    "# bu, USDTRY'nin 8'den büyük degerleri icin 1, geri kalan degerler icin -1 degeri alan bir kukla degiskenb verir.\n",
    "usdtry_gt8 = transformator.dummy(usdtry, \">\", 8, fill_true=1, fill_false=-1)"
   ]
  },
  {
   "cell_type": "code",
   "execution_count": 52,
   "metadata": {},
   "outputs": [
    {
     "data": {
      "text/html": [
       "<div>\n",
       "<style scoped>\n",
       "    .dataframe tbody tr th:only-of-type {\n",
       "        vertical-align: middle;\n",
       "    }\n",
       "\n",
       "    .dataframe tbody tr th {\n",
       "        vertical-align: top;\n",
       "    }\n",
       "\n",
       "    .dataframe thead th {\n",
       "        text-align: right;\n",
       "    }\n",
       "</style>\n",
       "<table border=\"1\" class=\"dataframe\">\n",
       "  <thead>\n",
       "    <tr style=\"text-align: right;\">\n",
       "      <th></th>\n",
       "      <th>USDTRY</th>\n",
       "      <th>USDTRY_GTT_8</th>\n",
       "    </tr>\n",
       "    <tr>\n",
       "      <th>Date</th>\n",
       "      <th></th>\n",
       "      <th></th>\n",
       "    </tr>\n",
       "  </thead>\n",
       "  <tbody>\n",
       "    <tr>\n",
       "      <th>2020-03-31</th>\n",
       "      <td>6.094</td>\n",
       "      <td>-1.0</td>\n",
       "    </tr>\n",
       "    <tr>\n",
       "      <th>2020-06-30</th>\n",
       "      <td>6.853</td>\n",
       "      <td>-1.0</td>\n",
       "    </tr>\n",
       "    <tr>\n",
       "      <th>2020-09-30</th>\n",
       "      <td>7.208</td>\n",
       "      <td>-1.0</td>\n",
       "    </tr>\n",
       "    <tr>\n",
       "      <th>2020-12-31</th>\n",
       "      <td>7.862</td>\n",
       "      <td>-1.0</td>\n",
       "    </tr>\n",
       "    <tr>\n",
       "      <th>2021-03-31</th>\n",
       "      <td>7.377</td>\n",
       "      <td>-1.0</td>\n",
       "    </tr>\n",
       "    <tr>\n",
       "      <th>2021-06-30</th>\n",
       "      <td>8.370</td>\n",
       "      <td>1.0</td>\n",
       "    </tr>\n",
       "    <tr>\n",
       "      <th>2021-09-30</th>\n",
       "      <td>8.528</td>\n",
       "      <td>1.0</td>\n",
       "    </tr>\n",
       "    <tr>\n",
       "      <th>2021-12-31</th>\n",
       "      <td>11.161</td>\n",
       "      <td>1.0</td>\n",
       "    </tr>\n",
       "  </tbody>\n",
       "</table>\n",
       "</div>"
      ],
      "text/plain": [
       "            USDTRY  USDTRY_GTT_8\n",
       "Date                            \n",
       "2020-03-31   6.094          -1.0\n",
       "2020-06-30   6.853          -1.0\n",
       "2020-09-30   7.208          -1.0\n",
       "2020-12-31   7.862          -1.0\n",
       "2021-03-31   7.377          -1.0\n",
       "2021-06-30   8.370           1.0\n",
       "2021-09-30   8.528           1.0\n",
       "2021-12-31  11.161           1.0"
      ]
     },
     "execution_count": 52,
     "metadata": {},
     "output_type": "execute_result"
    }
   ],
   "source": [
    "usdtry_gt8"
   ]
  },
  {
   "cell_type": "code",
   "execution_count": 53,
   "metadata": {},
   "outputs": [],
   "source": [
    "# bu, USDTRY'nin 8'e esit ya da kucuk degerleri icin 2, diger degerler icin 1 degeri alan bir kukla degisken verir\n",
    "usdtry_st8 = transformator.dummy(usdtry, \"<=\", 8, fill_true=2, fill_false=1)"
   ]
  },
  {
   "cell_type": "code",
   "execution_count": 54,
   "metadata": {},
   "outputs": [
    {
     "data": {
      "text/html": [
       "<div>\n",
       "<style scoped>\n",
       "    .dataframe tbody tr th:only-of-type {\n",
       "        vertical-align: middle;\n",
       "    }\n",
       "\n",
       "    .dataframe tbody tr th {\n",
       "        vertical-align: top;\n",
       "    }\n",
       "\n",
       "    .dataframe thead th {\n",
       "        text-align: right;\n",
       "    }\n",
       "</style>\n",
       "<table border=\"1\" class=\"dataframe\">\n",
       "  <thead>\n",
       "    <tr style=\"text-align: right;\">\n",
       "      <th></th>\n",
       "      <th>USDTRY</th>\n",
       "      <th>USDTRY_SOET_8</th>\n",
       "    </tr>\n",
       "    <tr>\n",
       "      <th>Date</th>\n",
       "      <th></th>\n",
       "      <th></th>\n",
       "    </tr>\n",
       "  </thead>\n",
       "  <tbody>\n",
       "    <tr>\n",
       "      <th>2020-03-31</th>\n",
       "      <td>6.094</td>\n",
       "      <td>2.0</td>\n",
       "    </tr>\n",
       "    <tr>\n",
       "      <th>2020-06-30</th>\n",
       "      <td>6.853</td>\n",
       "      <td>2.0</td>\n",
       "    </tr>\n",
       "    <tr>\n",
       "      <th>2020-09-30</th>\n",
       "      <td>7.208</td>\n",
       "      <td>2.0</td>\n",
       "    </tr>\n",
       "    <tr>\n",
       "      <th>2020-12-31</th>\n",
       "      <td>7.862</td>\n",
       "      <td>2.0</td>\n",
       "    </tr>\n",
       "    <tr>\n",
       "      <th>2021-03-31</th>\n",
       "      <td>7.377</td>\n",
       "      <td>2.0</td>\n",
       "    </tr>\n",
       "    <tr>\n",
       "      <th>2021-06-30</th>\n",
       "      <td>8.370</td>\n",
       "      <td>1.0</td>\n",
       "    </tr>\n",
       "    <tr>\n",
       "      <th>2021-09-30</th>\n",
       "      <td>8.528</td>\n",
       "      <td>1.0</td>\n",
       "    </tr>\n",
       "    <tr>\n",
       "      <th>2021-12-31</th>\n",
       "      <td>11.161</td>\n",
       "      <td>1.0</td>\n",
       "    </tr>\n",
       "  </tbody>\n",
       "</table>\n",
       "</div>"
      ],
      "text/plain": [
       "            USDTRY  USDTRY_SOET_8\n",
       "Date                             \n",
       "2020-03-31   6.094            2.0\n",
       "2020-06-30   6.853            2.0\n",
       "2020-09-30   7.208            2.0\n",
       "2020-12-31   7.862            2.0\n",
       "2021-03-31   7.377            2.0\n",
       "2021-06-30   8.370            1.0\n",
       "2021-09-30   8.528            1.0\n",
       "2021-12-31  11.161            1.0"
      ]
     },
     "execution_count": 54,
     "metadata": {},
     "output_type": "execute_result"
    }
   ],
   "source": [
    "usdtry_st8"
   ]
  },
  {
   "cell_type": "code",
   "execution_count": 58,
   "metadata": {},
   "outputs": [],
   "source": [
    "# bu, USDTRY'nin 7.21'den buyuk ve 8.37'den kucuk degerleri icin 1, geri kalan deger icin 0 degeri alan\n",
    "# bir kukla degisken verir (kapali aralik)\n",
    "usdtry_d1 = transformator.dummy(usdtry, \"()\", \"7.21, 8.37\")"
   ]
  },
  {
   "cell_type": "code",
   "execution_count": 59,
   "metadata": {},
   "outputs": [
    {
     "data": {
      "text/html": [
       "<div>\n",
       "<style scoped>\n",
       "    .dataframe tbody tr th:only-of-type {\n",
       "        vertical-align: middle;\n",
       "    }\n",
       "\n",
       "    .dataframe tbody tr th {\n",
       "        vertical-align: top;\n",
       "    }\n",
       "\n",
       "    .dataframe thead th {\n",
       "        text-align: right;\n",
       "    }\n",
       "</style>\n",
       "<table border=\"1\" class=\"dataframe\">\n",
       "  <thead>\n",
       "    <tr style=\"text-align: right;\">\n",
       "      <th></th>\n",
       "      <th>USDTRY</th>\n",
       "      <th>USDTRY_CBOUND</th>\n",
       "    </tr>\n",
       "    <tr>\n",
       "      <th>Date</th>\n",
       "      <th></th>\n",
       "      <th></th>\n",
       "    </tr>\n",
       "  </thead>\n",
       "  <tbody>\n",
       "    <tr>\n",
       "      <th>2020-03-31</th>\n",
       "      <td>6.094</td>\n",
       "      <td>0.0</td>\n",
       "    </tr>\n",
       "    <tr>\n",
       "      <th>2020-06-30</th>\n",
       "      <td>6.853</td>\n",
       "      <td>0.0</td>\n",
       "    </tr>\n",
       "    <tr>\n",
       "      <th>2020-09-30</th>\n",
       "      <td>7.208</td>\n",
       "      <td>0.0</td>\n",
       "    </tr>\n",
       "    <tr>\n",
       "      <th>2020-12-31</th>\n",
       "      <td>7.862</td>\n",
       "      <td>1.0</td>\n",
       "    </tr>\n",
       "    <tr>\n",
       "      <th>2021-03-31</th>\n",
       "      <td>7.377</td>\n",
       "      <td>1.0</td>\n",
       "    </tr>\n",
       "    <tr>\n",
       "      <th>2021-06-30</th>\n",
       "      <td>8.370</td>\n",
       "      <td>0.0</td>\n",
       "    </tr>\n",
       "    <tr>\n",
       "      <th>2021-09-30</th>\n",
       "      <td>8.528</td>\n",
       "      <td>0.0</td>\n",
       "    </tr>\n",
       "    <tr>\n",
       "      <th>2021-12-31</th>\n",
       "      <td>11.161</td>\n",
       "      <td>0.0</td>\n",
       "    </tr>\n",
       "  </tbody>\n",
       "</table>\n",
       "</div>"
      ],
      "text/plain": [
       "            USDTRY  USDTRY_CBOUND\n",
       "Date                             \n",
       "2020-03-31   6.094            0.0\n",
       "2020-06-30   6.853            0.0\n",
       "2020-09-30   7.208            0.0\n",
       "2020-12-31   7.862            1.0\n",
       "2021-03-31   7.377            1.0\n",
       "2021-06-30   8.370            0.0\n",
       "2021-09-30   8.528            0.0\n",
       "2021-12-31  11.161            0.0"
      ]
     },
     "execution_count": 59,
     "metadata": {},
     "output_type": "execute_result"
    }
   ],
   "source": [
    "usdtry_d1"
   ]
  },
  {
   "cell_type": "code",
   "execution_count": 60,
   "metadata": {},
   "outputs": [],
   "source": [
    "# bu, USDTRY'nin 7.21'e esit ya da buyuk ve 8.37'ye esit ya kucuk degerleri icin 1,\n",
    "# geri kalan deger icin 0 degeri alan bir kukla degisken verir (acik aralik)\n",
    "usdtry_d1 = transformator.dummy(usdtry, \"[]\", \"7.21, 8.37\", keep_originals=False)"
   ]
  },
  {
   "cell_type": "code",
   "execution_count": 61,
   "metadata": {},
   "outputs": [],
   "source": [
    "# sinirlar Tuple ya da List nesneleri icinde de verilebilir\n",
    "open_bounds = [7.21, 8.37]\n",
    "usdtry_d1 = transformator.dummy(usdtry, \"[]\", open_bounds)"
   ]
  },
  {
   "cell_type": "code",
   "execution_count": 62,
   "metadata": {},
   "outputs": [
    {
     "data": {
      "text/html": [
       "<div>\n",
       "<style scoped>\n",
       "    .dataframe tbody tr th:only-of-type {\n",
       "        vertical-align: middle;\n",
       "    }\n",
       "\n",
       "    .dataframe tbody tr th {\n",
       "        vertical-align: top;\n",
       "    }\n",
       "\n",
       "    .dataframe thead th {\n",
       "        text-align: right;\n",
       "    }\n",
       "</style>\n",
       "<table border=\"1\" class=\"dataframe\">\n",
       "  <thead>\n",
       "    <tr style=\"text-align: right;\">\n",
       "      <th></th>\n",
       "      <th>USDTRY</th>\n",
       "      <th>USDTRY_OBOUND</th>\n",
       "    </tr>\n",
       "    <tr>\n",
       "      <th>Date</th>\n",
       "      <th></th>\n",
       "      <th></th>\n",
       "    </tr>\n",
       "  </thead>\n",
       "  <tbody>\n",
       "    <tr>\n",
       "      <th>2020-03-31</th>\n",
       "      <td>6.094</td>\n",
       "      <td>0.0</td>\n",
       "    </tr>\n",
       "    <tr>\n",
       "      <th>2020-06-30</th>\n",
       "      <td>6.853</td>\n",
       "      <td>0.0</td>\n",
       "    </tr>\n",
       "    <tr>\n",
       "      <th>2020-09-30</th>\n",
       "      <td>7.208</td>\n",
       "      <td>0.0</td>\n",
       "    </tr>\n",
       "    <tr>\n",
       "      <th>2020-12-31</th>\n",
       "      <td>7.862</td>\n",
       "      <td>1.0</td>\n",
       "    </tr>\n",
       "    <tr>\n",
       "      <th>2021-03-31</th>\n",
       "      <td>7.377</td>\n",
       "      <td>1.0</td>\n",
       "    </tr>\n",
       "    <tr>\n",
       "      <th>2021-06-30</th>\n",
       "      <td>8.370</td>\n",
       "      <td>1.0</td>\n",
       "    </tr>\n",
       "    <tr>\n",
       "      <th>2021-09-30</th>\n",
       "      <td>8.528</td>\n",
       "      <td>0.0</td>\n",
       "    </tr>\n",
       "    <tr>\n",
       "      <th>2021-12-31</th>\n",
       "      <td>11.161</td>\n",
       "      <td>0.0</td>\n",
       "    </tr>\n",
       "  </tbody>\n",
       "</table>\n",
       "</div>"
      ],
      "text/plain": [
       "            USDTRY  USDTRY_OBOUND\n",
       "Date                             \n",
       "2020-03-31   6.094            0.0\n",
       "2020-06-30   6.853            0.0\n",
       "2020-09-30   7.208            0.0\n",
       "2020-12-31   7.862            1.0\n",
       "2021-03-31   7.377            1.0\n",
       "2021-06-30   8.370            1.0\n",
       "2021-09-30   8.528            0.0\n",
       "2021-12-31  11.161            0.0"
      ]
     },
     "execution_count": 62,
     "metadata": {},
     "output_type": "execute_result"
    }
   ],
   "source": [
    "usdtry_d1"
   ]
  },
  {
   "cell_type": "markdown",
   "metadata": {},
   "source": [
    "`dummy()`; çoğul seriler için de kullanılabilir."
   ]
  },
  {
   "cell_type": "code",
   "execution_count": 63,
   "metadata": {},
   "outputs": [],
   "source": [
    "rates = connector.get_series(\"usdtry, eurtry\",\n",
    "                              start_date=\"01.01.2020\",\n",
    "                              end_date=\"01.01.2022\",\n",
    "                              frequency=\"Q\")"
   ]
  },
  {
   "cell_type": "code",
   "execution_count": 68,
   "metadata": {},
   "outputs": [],
   "source": [
    "# bu, USDTRY ve EURTRY'nin 7.21'e esit ya da buyuk ve 8.37'ye esit ya kucuk degerleri icin 1,\n",
    "# geri kalan deger icin 0 degeri alan bir kukla degisken verir (acik aralik)\n",
    "rates_d1 = transformator.dummy(rates, \"[]\", \"7.21, 8.37\", keep_originals=False)"
   ]
  },
  {
   "cell_type": "code",
   "execution_count": 69,
   "metadata": {},
   "outputs": [
    {
     "data": {
      "text/html": [
       "<div>\n",
       "<style scoped>\n",
       "    .dataframe tbody tr th:only-of-type {\n",
       "        vertical-align: middle;\n",
       "    }\n",
       "\n",
       "    .dataframe tbody tr th {\n",
       "        vertical-align: top;\n",
       "    }\n",
       "\n",
       "    .dataframe thead th {\n",
       "        text-align: right;\n",
       "    }\n",
       "</style>\n",
       "<table border=\"1\" class=\"dataframe\">\n",
       "  <thead>\n",
       "    <tr style=\"text-align: right;\">\n",
       "      <th></th>\n",
       "      <th>USDTRY_OBOUND</th>\n",
       "      <th>EURTRY_OBOUND</th>\n",
       "    </tr>\n",
       "    <tr>\n",
       "      <th>Date</th>\n",
       "      <th></th>\n",
       "      <th></th>\n",
       "    </tr>\n",
       "  </thead>\n",
       "  <tbody>\n",
       "    <tr>\n",
       "      <th>2020-03-31</th>\n",
       "      <td>0.0</td>\n",
       "      <td>0.0</td>\n",
       "    </tr>\n",
       "    <tr>\n",
       "      <th>2020-06-30</th>\n",
       "      <td>0.0</td>\n",
       "      <td>1.0</td>\n",
       "    </tr>\n",
       "    <tr>\n",
       "      <th>2020-09-30</th>\n",
       "      <td>0.0</td>\n",
       "      <td>0.0</td>\n",
       "    </tr>\n",
       "    <tr>\n",
       "      <th>2020-12-31</th>\n",
       "      <td>1.0</td>\n",
       "      <td>0.0</td>\n",
       "    </tr>\n",
       "    <tr>\n",
       "      <th>2021-03-31</th>\n",
       "      <td>1.0</td>\n",
       "      <td>0.0</td>\n",
       "    </tr>\n",
       "    <tr>\n",
       "      <th>2021-06-30</th>\n",
       "      <td>1.0</td>\n",
       "      <td>0.0</td>\n",
       "    </tr>\n",
       "    <tr>\n",
       "      <th>2021-09-30</th>\n",
       "      <td>0.0</td>\n",
       "      <td>0.0</td>\n",
       "    </tr>\n",
       "    <tr>\n",
       "      <th>2021-12-31</th>\n",
       "      <td>0.0</td>\n",
       "      <td>0.0</td>\n",
       "    </tr>\n",
       "  </tbody>\n",
       "</table>\n",
       "</div>"
      ],
      "text/plain": [
       "            USDTRY_OBOUND  EURTRY_OBOUND\n",
       "Date                                    \n",
       "2020-03-31            0.0            0.0\n",
       "2020-06-30            0.0            1.0\n",
       "2020-09-30            0.0            0.0\n",
       "2020-12-31            1.0            0.0\n",
       "2021-03-31            1.0            0.0\n",
       "2021-06-30            1.0            0.0\n",
       "2021-09-30            0.0            0.0\n",
       "2021-12-31            0.0            0.0"
      ]
     },
     "execution_count": 69,
     "metadata": {},
     "output_type": "execute_result"
    }
   ],
   "source": [
    "rates_d1"
   ]
  },
  {
   "cell_type": "markdown",
   "metadata": {},
   "source": [
    "#### 4.16. [__Gecikmeli Seriler: y<sub>t-1</sub>, y<sub>t-2</sub> ... y<sub>t-n</sub>__](https://github.com/syncoding/evdsts/blob/master/docs/manuals/manual_en.md#get-laggeds)"
   ]
  },
  {
   "cell_type": "markdown",
   "metadata": {},
   "source": [
    "Gecikmeli seriler almak icin `laggeds()` metodunu kullanabilirsiniz. Gecikmeli seriler bazi ozel modeller\n",
    "icin gerekli olurken genel olarak da otokorelasyon probleminin giderilmesinde kullanilabilir."
   ]
  },
  {
   "cell_type": "code",
   "execution_count": 3,
   "metadata": {},
   "outputs": [],
   "source": [
    "usdtry = connector.get_series(\"usdtry\",\n",
    "                              start_date=\"01.01.2020\",\n",
    "                              end_date=\"01.01.2022\",\n",
    "                              frequency=\"Q\")"
   ]
  },
  {
   "cell_type": "code",
   "execution_count": 4,
   "metadata": {},
   "outputs": [],
   "source": [
    "rates = connector.get_series(\"usdtry, eurtry\",\n",
    "                              start_date=\"01.01.2020\",\n",
    "                              end_date=\"01.01.2022\",\n",
    "                              frequency=\"Q\")"
   ]
  },
  {
   "cell_type": "code",
   "execution_count": 7,
   "metadata": {},
   "outputs": [],
   "source": [
    "# bu, sadece usdtry(t-2)'yi verir\n",
    "usdtry_l2 = transformator.laggeds(usdtry, lags=2)"
   ]
  },
  {
   "cell_type": "code",
   "execution_count": 8,
   "metadata": {},
   "outputs": [
    {
     "data": {
      "text/html": [
       "<div>\n",
       "<style scoped>\n",
       "    .dataframe tbody tr th:only-of-type {\n",
       "        vertical-align: middle;\n",
       "    }\n",
       "\n",
       "    .dataframe tbody tr th {\n",
       "        vertical-align: top;\n",
       "    }\n",
       "\n",
       "    .dataframe thead th {\n",
       "        text-align: right;\n",
       "    }\n",
       "</style>\n",
       "<table border=\"1\" class=\"dataframe\">\n",
       "  <thead>\n",
       "    <tr style=\"text-align: right;\">\n",
       "      <th></th>\n",
       "      <th>USDTRY</th>\n",
       "      <th>USDTRY_LAG_2</th>\n",
       "    </tr>\n",
       "    <tr>\n",
       "      <th>Date</th>\n",
       "      <th></th>\n",
       "      <th></th>\n",
       "    </tr>\n",
       "  </thead>\n",
       "  <tbody>\n",
       "    <tr>\n",
       "      <th>2020-03-31</th>\n",
       "      <td>6.093850</td>\n",
       "      <td>NaN</td>\n",
       "    </tr>\n",
       "    <tr>\n",
       "      <th>2020-06-30</th>\n",
       "      <td>6.852923</td>\n",
       "      <td>NaN</td>\n",
       "    </tr>\n",
       "    <tr>\n",
       "      <th>2020-09-30</th>\n",
       "      <td>7.207746</td>\n",
       "      <td>6.093850</td>\n",
       "    </tr>\n",
       "    <tr>\n",
       "      <th>2020-12-31</th>\n",
       "      <td>7.861628</td>\n",
       "      <td>6.852923</td>\n",
       "    </tr>\n",
       "    <tr>\n",
       "      <th>2021-03-31</th>\n",
       "      <td>7.377400</td>\n",
       "      <td>7.207746</td>\n",
       "    </tr>\n",
       "    <tr>\n",
       "      <th>2021-06-30</th>\n",
       "      <td>8.369557</td>\n",
       "      <td>7.861628</td>\n",
       "    </tr>\n",
       "    <tr>\n",
       "      <th>2021-09-30</th>\n",
       "      <td>8.527857</td>\n",
       "      <td>7.377400</td>\n",
       "    </tr>\n",
       "    <tr>\n",
       "      <th>2021-12-31</th>\n",
       "      <td>11.161016</td>\n",
       "      <td>8.369557</td>\n",
       "    </tr>\n",
       "  </tbody>\n",
       "</table>\n",
       "</div>"
      ],
      "text/plain": [
       "               USDTRY  USDTRY_LAG_2\n",
       "Date                               \n",
       "2020-03-31   6.093850           NaN\n",
       "2020-06-30   6.852923           NaN\n",
       "2020-09-30   7.207746      6.093850\n",
       "2020-12-31   7.861628      6.852923\n",
       "2021-03-31   7.377400      7.207746\n",
       "2021-06-30   8.369557      7.861628\n",
       "2021-09-30   8.527857      7.377400\n",
       "2021-12-31  11.161016      8.369557"
      ]
     },
     "execution_count": 8,
     "metadata": {},
     "output_type": "execute_result"
    }
   ],
   "source": [
    "usdtry_l2"
   ]
  },
  {
   "cell_type": "code",
   "execution_count": 9,
   "metadata": {},
   "outputs": [],
   "source": [
    "# bu, usdtry(t-1), usdtry(t-3) ve usdtry(t-5)'i verir\n",
    "usdtry_135 = transformator.laggeds(usdtry, lags=\"1, 3, 5\")"
   ]
  },
  {
   "cell_type": "code",
   "execution_count": 10,
   "metadata": {},
   "outputs": [
    {
     "data": {
      "text/html": [
       "<div>\n",
       "<style scoped>\n",
       "    .dataframe tbody tr th:only-of-type {\n",
       "        vertical-align: middle;\n",
       "    }\n",
       "\n",
       "    .dataframe tbody tr th {\n",
       "        vertical-align: top;\n",
       "    }\n",
       "\n",
       "    .dataframe thead th {\n",
       "        text-align: right;\n",
       "    }\n",
       "</style>\n",
       "<table border=\"1\" class=\"dataframe\">\n",
       "  <thead>\n",
       "    <tr style=\"text-align: right;\">\n",
       "      <th></th>\n",
       "      <th>USDTRY</th>\n",
       "      <th>USDTRY_LAG_1</th>\n",
       "      <th>USDTRY_LAG_3</th>\n",
       "      <th>USDTRY_LAG_5</th>\n",
       "    </tr>\n",
       "    <tr>\n",
       "      <th>Date</th>\n",
       "      <th></th>\n",
       "      <th></th>\n",
       "      <th></th>\n",
       "      <th></th>\n",
       "    </tr>\n",
       "  </thead>\n",
       "  <tbody>\n",
       "    <tr>\n",
       "      <th>2020-03-31</th>\n",
       "      <td>6.093850</td>\n",
       "      <td>NaN</td>\n",
       "      <td>NaN</td>\n",
       "      <td>NaN</td>\n",
       "    </tr>\n",
       "    <tr>\n",
       "      <th>2020-06-30</th>\n",
       "      <td>6.852923</td>\n",
       "      <td>6.093850</td>\n",
       "      <td>NaN</td>\n",
       "      <td>NaN</td>\n",
       "    </tr>\n",
       "    <tr>\n",
       "      <th>2020-09-30</th>\n",
       "      <td>7.207746</td>\n",
       "      <td>6.852923</td>\n",
       "      <td>NaN</td>\n",
       "      <td>NaN</td>\n",
       "    </tr>\n",
       "    <tr>\n",
       "      <th>2020-12-31</th>\n",
       "      <td>7.861628</td>\n",
       "      <td>7.207746</td>\n",
       "      <td>6.093850</td>\n",
       "      <td>NaN</td>\n",
       "    </tr>\n",
       "    <tr>\n",
       "      <th>2021-03-31</th>\n",
       "      <td>7.377400</td>\n",
       "      <td>7.861628</td>\n",
       "      <td>6.852923</td>\n",
       "      <td>NaN</td>\n",
       "    </tr>\n",
       "    <tr>\n",
       "      <th>2021-06-30</th>\n",
       "      <td>8.369557</td>\n",
       "      <td>7.377400</td>\n",
       "      <td>7.207746</td>\n",
       "      <td>6.093850</td>\n",
       "    </tr>\n",
       "    <tr>\n",
       "      <th>2021-09-30</th>\n",
       "      <td>8.527857</td>\n",
       "      <td>8.369557</td>\n",
       "      <td>7.861628</td>\n",
       "      <td>6.852923</td>\n",
       "    </tr>\n",
       "    <tr>\n",
       "      <th>2021-12-31</th>\n",
       "      <td>11.161016</td>\n",
       "      <td>8.527857</td>\n",
       "      <td>7.377400</td>\n",
       "      <td>7.207746</td>\n",
       "    </tr>\n",
       "  </tbody>\n",
       "</table>\n",
       "</div>"
      ],
      "text/plain": [
       "               USDTRY  USDTRY_LAG_1  USDTRY_LAG_3  USDTRY_LAG_5\n",
       "Date                                                           \n",
       "2020-03-31   6.093850           NaN           NaN           NaN\n",
       "2020-06-30   6.852923      6.093850           NaN           NaN\n",
       "2020-09-30   7.207746      6.852923           NaN           NaN\n",
       "2020-12-31   7.861628      7.207746      6.093850           NaN\n",
       "2021-03-31   7.377400      7.861628      6.852923           NaN\n",
       "2021-06-30   8.369557      7.377400      7.207746      6.093850\n",
       "2021-09-30   8.527857      8.369557      7.861628      6.852923\n",
       "2021-12-31  11.161016      8.527857      7.377400      7.207746"
      ]
     },
     "execution_count": 10,
     "metadata": {},
     "output_type": "execute_result"
    }
   ],
   "source": [
    "usdtry_135"
   ]
  },
  {
   "cell_type": "code",
   "execution_count": 11,
   "metadata": {},
   "outputs": [],
   "source": [
    "lags = [1, 3, 5]\n",
    "\n",
    "# bu da usdtry(t-1), usdtry(t-3) ve usdtry(t-5)'i verir\n",
    "usdtry_135 = transformator.laggeds(usdtry, lags=lags)"
   ]
  },
  {
   "cell_type": "code",
   "execution_count": 12,
   "metadata": {},
   "outputs": [
    {
     "data": {
      "text/html": [
       "<div>\n",
       "<style scoped>\n",
       "    .dataframe tbody tr th:only-of-type {\n",
       "        vertical-align: middle;\n",
       "    }\n",
       "\n",
       "    .dataframe tbody tr th {\n",
       "        vertical-align: top;\n",
       "    }\n",
       "\n",
       "    .dataframe thead th {\n",
       "        text-align: right;\n",
       "    }\n",
       "</style>\n",
       "<table border=\"1\" class=\"dataframe\">\n",
       "  <thead>\n",
       "    <tr style=\"text-align: right;\">\n",
       "      <th></th>\n",
       "      <th>USDTRY</th>\n",
       "      <th>USDTRY_LAG_1</th>\n",
       "      <th>USDTRY_LAG_3</th>\n",
       "      <th>USDTRY_LAG_5</th>\n",
       "    </tr>\n",
       "    <tr>\n",
       "      <th>Date</th>\n",
       "      <th></th>\n",
       "      <th></th>\n",
       "      <th></th>\n",
       "      <th></th>\n",
       "    </tr>\n",
       "  </thead>\n",
       "  <tbody>\n",
       "    <tr>\n",
       "      <th>2020-03-31</th>\n",
       "      <td>6.093850</td>\n",
       "      <td>NaN</td>\n",
       "      <td>NaN</td>\n",
       "      <td>NaN</td>\n",
       "    </tr>\n",
       "    <tr>\n",
       "      <th>2020-06-30</th>\n",
       "      <td>6.852923</td>\n",
       "      <td>6.093850</td>\n",
       "      <td>NaN</td>\n",
       "      <td>NaN</td>\n",
       "    </tr>\n",
       "    <tr>\n",
       "      <th>2020-09-30</th>\n",
       "      <td>7.207746</td>\n",
       "      <td>6.852923</td>\n",
       "      <td>NaN</td>\n",
       "      <td>NaN</td>\n",
       "    </tr>\n",
       "    <tr>\n",
       "      <th>2020-12-31</th>\n",
       "      <td>7.861628</td>\n",
       "      <td>7.207746</td>\n",
       "      <td>6.093850</td>\n",
       "      <td>NaN</td>\n",
       "    </tr>\n",
       "    <tr>\n",
       "      <th>2021-03-31</th>\n",
       "      <td>7.377400</td>\n",
       "      <td>7.861628</td>\n",
       "      <td>6.852923</td>\n",
       "      <td>NaN</td>\n",
       "    </tr>\n",
       "    <tr>\n",
       "      <th>2021-06-30</th>\n",
       "      <td>8.369557</td>\n",
       "      <td>7.377400</td>\n",
       "      <td>7.207746</td>\n",
       "      <td>6.093850</td>\n",
       "    </tr>\n",
       "    <tr>\n",
       "      <th>2021-09-30</th>\n",
       "      <td>8.527857</td>\n",
       "      <td>8.369557</td>\n",
       "      <td>7.861628</td>\n",
       "      <td>6.852923</td>\n",
       "    </tr>\n",
       "    <tr>\n",
       "      <th>2021-12-31</th>\n",
       "      <td>11.161016</td>\n",
       "      <td>8.527857</td>\n",
       "      <td>7.377400</td>\n",
       "      <td>7.207746</td>\n",
       "    </tr>\n",
       "  </tbody>\n",
       "</table>\n",
       "</div>"
      ],
      "text/plain": [
       "               USDTRY  USDTRY_LAG_1  USDTRY_LAG_3  USDTRY_LAG_5\n",
       "Date                                                           \n",
       "2020-03-31   6.093850           NaN           NaN           NaN\n",
       "2020-06-30   6.852923      6.093850           NaN           NaN\n",
       "2020-09-30   7.207746      6.852923           NaN           NaN\n",
       "2020-12-31   7.861628      7.207746      6.093850           NaN\n",
       "2021-03-31   7.377400      7.861628      6.852923           NaN\n",
       "2021-06-30   8.369557      7.377400      7.207746      6.093850\n",
       "2021-09-30   8.527857      8.369557      7.861628      6.852923\n",
       "2021-12-31  11.161016      8.527857      7.377400      7.207746"
      ]
     },
     "execution_count": 12,
     "metadata": {},
     "output_type": "execute_result"
    }
   ],
   "source": [
    "usdtry_135"
   ]
  },
  {
   "cell_type": "code",
   "execution_count": 13,
   "metadata": {},
   "outputs": [],
   "source": [
    "# bu, usdtry(t-1), usdtry(t-2), usdtry(t-3)'u verir\n",
    "usdtry_3 = transformator.laggeds(usdtry, range_lags=3)"
   ]
  },
  {
   "cell_type": "code",
   "execution_count": 14,
   "metadata": {},
   "outputs": [
    {
     "data": {
      "text/html": [
       "<div>\n",
       "<style scoped>\n",
       "    .dataframe tbody tr th:only-of-type {\n",
       "        vertical-align: middle;\n",
       "    }\n",
       "\n",
       "    .dataframe tbody tr th {\n",
       "        vertical-align: top;\n",
       "    }\n",
       "\n",
       "    .dataframe thead th {\n",
       "        text-align: right;\n",
       "    }\n",
       "</style>\n",
       "<table border=\"1\" class=\"dataframe\">\n",
       "  <thead>\n",
       "    <tr style=\"text-align: right;\">\n",
       "      <th></th>\n",
       "      <th>USDTRY</th>\n",
       "      <th>USDTRY_LAG_1</th>\n",
       "      <th>USDTRY_LAG_2</th>\n",
       "      <th>USDTRY_LAG_3</th>\n",
       "    </tr>\n",
       "    <tr>\n",
       "      <th>Date</th>\n",
       "      <th></th>\n",
       "      <th></th>\n",
       "      <th></th>\n",
       "      <th></th>\n",
       "    </tr>\n",
       "  </thead>\n",
       "  <tbody>\n",
       "    <tr>\n",
       "      <th>2020-03-31</th>\n",
       "      <td>6.093850</td>\n",
       "      <td>NaN</td>\n",
       "      <td>NaN</td>\n",
       "      <td>NaN</td>\n",
       "    </tr>\n",
       "    <tr>\n",
       "      <th>2020-06-30</th>\n",
       "      <td>6.852923</td>\n",
       "      <td>6.093850</td>\n",
       "      <td>NaN</td>\n",
       "      <td>NaN</td>\n",
       "    </tr>\n",
       "    <tr>\n",
       "      <th>2020-09-30</th>\n",
       "      <td>7.207746</td>\n",
       "      <td>6.852923</td>\n",
       "      <td>6.093850</td>\n",
       "      <td>NaN</td>\n",
       "    </tr>\n",
       "    <tr>\n",
       "      <th>2020-12-31</th>\n",
       "      <td>7.861628</td>\n",
       "      <td>7.207746</td>\n",
       "      <td>6.852923</td>\n",
       "      <td>6.093850</td>\n",
       "    </tr>\n",
       "    <tr>\n",
       "      <th>2021-03-31</th>\n",
       "      <td>7.377400</td>\n",
       "      <td>7.861628</td>\n",
       "      <td>7.207746</td>\n",
       "      <td>6.852923</td>\n",
       "    </tr>\n",
       "    <tr>\n",
       "      <th>2021-06-30</th>\n",
       "      <td>8.369557</td>\n",
       "      <td>7.377400</td>\n",
       "      <td>7.861628</td>\n",
       "      <td>7.207746</td>\n",
       "    </tr>\n",
       "    <tr>\n",
       "      <th>2021-09-30</th>\n",
       "      <td>8.527857</td>\n",
       "      <td>8.369557</td>\n",
       "      <td>7.377400</td>\n",
       "      <td>7.861628</td>\n",
       "    </tr>\n",
       "    <tr>\n",
       "      <th>2021-12-31</th>\n",
       "      <td>11.161016</td>\n",
       "      <td>8.527857</td>\n",
       "      <td>8.369557</td>\n",
       "      <td>7.377400</td>\n",
       "    </tr>\n",
       "  </tbody>\n",
       "</table>\n",
       "</div>"
      ],
      "text/plain": [
       "               USDTRY  USDTRY_LAG_1  USDTRY_LAG_2  USDTRY_LAG_3\n",
       "Date                                                           \n",
       "2020-03-31   6.093850           NaN           NaN           NaN\n",
       "2020-06-30   6.852923      6.093850           NaN           NaN\n",
       "2020-09-30   7.207746      6.852923      6.093850           NaN\n",
       "2020-12-31   7.861628      7.207746      6.852923      6.093850\n",
       "2021-03-31   7.377400      7.861628      7.207746      6.852923\n",
       "2021-06-30   8.369557      7.377400      7.861628      7.207746\n",
       "2021-09-30   8.527857      8.369557      7.377400      7.861628\n",
       "2021-12-31  11.161016      8.527857      8.369557      7.377400"
      ]
     },
     "execution_count": 14,
     "metadata": {},
     "output_type": "execute_result"
    }
   ],
   "source": [
    "usdtry_3"
   ]
  },
  {
   "cell_type": "code",
   "execution_count": 15,
   "metadata": {},
   "outputs": [],
   "source": [
    "# bu, usdtry(t-1), usdtry(t-2), usdtry(t-4), usdtry(t-6)'yi verir\n",
    "usdtry_12612 = transformator.laggeds(usdtry, range_lags=2, lags=\"4, 6\")"
   ]
  },
  {
   "cell_type": "code",
   "execution_count": 16,
   "metadata": {},
   "outputs": [
    {
     "data": {
      "text/html": [
       "<div>\n",
       "<style scoped>\n",
       "    .dataframe tbody tr th:only-of-type {\n",
       "        vertical-align: middle;\n",
       "    }\n",
       "\n",
       "    .dataframe tbody tr th {\n",
       "        vertical-align: top;\n",
       "    }\n",
       "\n",
       "    .dataframe thead th {\n",
       "        text-align: right;\n",
       "    }\n",
       "</style>\n",
       "<table border=\"1\" class=\"dataframe\">\n",
       "  <thead>\n",
       "    <tr style=\"text-align: right;\">\n",
       "      <th></th>\n",
       "      <th>USDTRY</th>\n",
       "      <th>USDTRY_LAG_1</th>\n",
       "      <th>USDTRY_LAG_2</th>\n",
       "      <th>USDTRY_LAG_4</th>\n",
       "      <th>USDTRY_LAG_6</th>\n",
       "    </tr>\n",
       "    <tr>\n",
       "      <th>Date</th>\n",
       "      <th></th>\n",
       "      <th></th>\n",
       "      <th></th>\n",
       "      <th></th>\n",
       "      <th></th>\n",
       "    </tr>\n",
       "  </thead>\n",
       "  <tbody>\n",
       "    <tr>\n",
       "      <th>2020-03-31</th>\n",
       "      <td>6.093850</td>\n",
       "      <td>NaN</td>\n",
       "      <td>NaN</td>\n",
       "      <td>NaN</td>\n",
       "      <td>NaN</td>\n",
       "    </tr>\n",
       "    <tr>\n",
       "      <th>2020-06-30</th>\n",
       "      <td>6.852923</td>\n",
       "      <td>6.093850</td>\n",
       "      <td>NaN</td>\n",
       "      <td>NaN</td>\n",
       "      <td>NaN</td>\n",
       "    </tr>\n",
       "    <tr>\n",
       "      <th>2020-09-30</th>\n",
       "      <td>7.207746</td>\n",
       "      <td>6.852923</td>\n",
       "      <td>6.093850</td>\n",
       "      <td>NaN</td>\n",
       "      <td>NaN</td>\n",
       "    </tr>\n",
       "    <tr>\n",
       "      <th>2020-12-31</th>\n",
       "      <td>7.861628</td>\n",
       "      <td>7.207746</td>\n",
       "      <td>6.852923</td>\n",
       "      <td>NaN</td>\n",
       "      <td>NaN</td>\n",
       "    </tr>\n",
       "    <tr>\n",
       "      <th>2021-03-31</th>\n",
       "      <td>7.377400</td>\n",
       "      <td>7.861628</td>\n",
       "      <td>7.207746</td>\n",
       "      <td>6.093850</td>\n",
       "      <td>NaN</td>\n",
       "    </tr>\n",
       "    <tr>\n",
       "      <th>2021-06-30</th>\n",
       "      <td>8.369557</td>\n",
       "      <td>7.377400</td>\n",
       "      <td>7.861628</td>\n",
       "      <td>6.852923</td>\n",
       "      <td>NaN</td>\n",
       "    </tr>\n",
       "    <tr>\n",
       "      <th>2021-09-30</th>\n",
       "      <td>8.527857</td>\n",
       "      <td>8.369557</td>\n",
       "      <td>7.377400</td>\n",
       "      <td>7.207746</td>\n",
       "      <td>6.093850</td>\n",
       "    </tr>\n",
       "    <tr>\n",
       "      <th>2021-12-31</th>\n",
       "      <td>11.161016</td>\n",
       "      <td>8.527857</td>\n",
       "      <td>8.369557</td>\n",
       "      <td>7.861628</td>\n",
       "      <td>6.852923</td>\n",
       "    </tr>\n",
       "  </tbody>\n",
       "</table>\n",
       "</div>"
      ],
      "text/plain": [
       "               USDTRY  USDTRY_LAG_1  USDTRY_LAG_2  USDTRY_LAG_4  USDTRY_LAG_6\n",
       "Date                                                                         \n",
       "2020-03-31   6.093850           NaN           NaN           NaN           NaN\n",
       "2020-06-30   6.852923      6.093850           NaN           NaN           NaN\n",
       "2020-09-30   7.207746      6.852923      6.093850           NaN           NaN\n",
       "2020-12-31   7.861628      7.207746      6.852923           NaN           NaN\n",
       "2021-03-31   7.377400      7.861628      7.207746      6.093850           NaN\n",
       "2021-06-30   8.369557      7.377400      7.861628      6.852923           NaN\n",
       "2021-09-30   8.527857      8.369557      7.377400      7.207746      6.093850\n",
       "2021-12-31  11.161016      8.527857      8.369557      7.861628      6.852923"
      ]
     },
     "execution_count": 16,
     "metadata": {},
     "output_type": "execute_result"
    }
   ],
   "source": [
    "usdtry_12612"
   ]
  },
  {
   "cell_type": "markdown",
   "metadata": {},
   "source": [
    "`laggeds()`; çoğul seriler için de kullanılabilir."
   ]
  },
  {
   "cell_type": "code",
   "execution_count": 17,
   "metadata": {},
   "outputs": [],
   "source": [
    "# bu; usdtry(t-1), eurtry(t-1), usdtry(t-2), eurtry(t-2),\n",
    "# usdtry(t-4), eurtry(t-4), usdtry(t-6), eurtry(t-6)'yi verir\n",
    "rates_lag = transformator.laggeds(rates, range_lags=2, lags=\"4, 6\", precision=2, keep_originals=False)"
   ]
  },
  {
   "cell_type": "code",
   "execution_count": 18,
   "metadata": {},
   "outputs": [
    {
     "data": {
      "text/html": [
       "<div>\n",
       "<style scoped>\n",
       "    .dataframe tbody tr th:only-of-type {\n",
       "        vertical-align: middle;\n",
       "    }\n",
       "\n",
       "    .dataframe tbody tr th {\n",
       "        vertical-align: top;\n",
       "    }\n",
       "\n",
       "    .dataframe thead th {\n",
       "        text-align: right;\n",
       "    }\n",
       "</style>\n",
       "<table border=\"1\" class=\"dataframe\">\n",
       "  <thead>\n",
       "    <tr style=\"text-align: right;\">\n",
       "      <th></th>\n",
       "      <th>USDTRY_LAG_1</th>\n",
       "      <th>EURTRY_LAG_1</th>\n",
       "      <th>USDTRY_LAG_2</th>\n",
       "      <th>EURTRY_LAG_2</th>\n",
       "      <th>USDTRY_LAG_4</th>\n",
       "      <th>EURTRY_LAG_4</th>\n",
       "      <th>USDTRY_LAG_6</th>\n",
       "      <th>EURTRY_LAG_6</th>\n",
       "    </tr>\n",
       "    <tr>\n",
       "      <th>Date</th>\n",
       "      <th></th>\n",
       "      <th></th>\n",
       "      <th></th>\n",
       "      <th></th>\n",
       "      <th></th>\n",
       "      <th></th>\n",
       "      <th></th>\n",
       "      <th></th>\n",
       "    </tr>\n",
       "  </thead>\n",
       "  <tbody>\n",
       "    <tr>\n",
       "      <th>2020-03-31</th>\n",
       "      <td>NaN</td>\n",
       "      <td>NaN</td>\n",
       "      <td>NaN</td>\n",
       "      <td>NaN</td>\n",
       "      <td>NaN</td>\n",
       "      <td>NaN</td>\n",
       "      <td>NaN</td>\n",
       "      <td>NaN</td>\n",
       "    </tr>\n",
       "    <tr>\n",
       "      <th>2020-06-30</th>\n",
       "      <td>6.09</td>\n",
       "      <td>6.72</td>\n",
       "      <td>NaN</td>\n",
       "      <td>NaN</td>\n",
       "      <td>NaN</td>\n",
       "      <td>NaN</td>\n",
       "      <td>NaN</td>\n",
       "      <td>NaN</td>\n",
       "    </tr>\n",
       "    <tr>\n",
       "      <th>2020-09-30</th>\n",
       "      <td>6.85</td>\n",
       "      <td>7.55</td>\n",
       "      <td>6.09</td>\n",
       "      <td>6.72</td>\n",
       "      <td>NaN</td>\n",
       "      <td>NaN</td>\n",
       "      <td>NaN</td>\n",
       "      <td>NaN</td>\n",
       "    </tr>\n",
       "    <tr>\n",
       "      <th>2020-12-31</th>\n",
       "      <td>7.21</td>\n",
       "      <td>8.42</td>\n",
       "      <td>6.85</td>\n",
       "      <td>7.55</td>\n",
       "      <td>NaN</td>\n",
       "      <td>NaN</td>\n",
       "      <td>NaN</td>\n",
       "      <td>NaN</td>\n",
       "    </tr>\n",
       "    <tr>\n",
       "      <th>2021-03-31</th>\n",
       "      <td>7.86</td>\n",
       "      <td>9.37</td>\n",
       "      <td>7.21</td>\n",
       "      <td>8.42</td>\n",
       "      <td>6.09</td>\n",
       "      <td>6.72</td>\n",
       "      <td>NaN</td>\n",
       "      <td>NaN</td>\n",
       "    </tr>\n",
       "    <tr>\n",
       "      <th>2021-06-30</th>\n",
       "      <td>7.38</td>\n",
       "      <td>8.90</td>\n",
       "      <td>7.86</td>\n",
       "      <td>9.37</td>\n",
       "      <td>6.85</td>\n",
       "      <td>7.55</td>\n",
       "      <td>NaN</td>\n",
       "      <td>NaN</td>\n",
       "    </tr>\n",
       "    <tr>\n",
       "      <th>2021-09-30</th>\n",
       "      <td>8.37</td>\n",
       "      <td>10.08</td>\n",
       "      <td>7.38</td>\n",
       "      <td>8.90</td>\n",
       "      <td>7.21</td>\n",
       "      <td>8.42</td>\n",
       "      <td>6.09</td>\n",
       "      <td>6.72</td>\n",
       "    </tr>\n",
       "    <tr>\n",
       "      <th>2021-12-31</th>\n",
       "      <td>8.53</td>\n",
       "      <td>10.06</td>\n",
       "      <td>8.37</td>\n",
       "      <td>10.08</td>\n",
       "      <td>7.86</td>\n",
       "      <td>9.37</td>\n",
       "      <td>6.85</td>\n",
       "      <td>7.55</td>\n",
       "    </tr>\n",
       "  </tbody>\n",
       "</table>\n",
       "</div>"
      ],
      "text/plain": [
       "            USDTRY_LAG_1  EURTRY_LAG_1  USDTRY_LAG_2  EURTRY_LAG_2  \\\n",
       "Date                                                                 \n",
       "2020-03-31           NaN           NaN           NaN           NaN   \n",
       "2020-06-30          6.09          6.72           NaN           NaN   \n",
       "2020-09-30          6.85          7.55          6.09          6.72   \n",
       "2020-12-31          7.21          8.42          6.85          7.55   \n",
       "2021-03-31          7.86          9.37          7.21          8.42   \n",
       "2021-06-30          7.38          8.90          7.86          9.37   \n",
       "2021-09-30          8.37         10.08          7.38          8.90   \n",
       "2021-12-31          8.53         10.06          8.37         10.08   \n",
       "\n",
       "            USDTRY_LAG_4  EURTRY_LAG_4  USDTRY_LAG_6  EURTRY_LAG_6  \n",
       "Date                                                                \n",
       "2020-03-31           NaN           NaN           NaN           NaN  \n",
       "2020-06-30           NaN           NaN           NaN           NaN  \n",
       "2020-09-30           NaN           NaN           NaN           NaN  \n",
       "2020-12-31           NaN           NaN           NaN           NaN  \n",
       "2021-03-31          6.09          6.72           NaN           NaN  \n",
       "2021-06-30          6.85          7.55           NaN           NaN  \n",
       "2021-09-30          7.21          8.42          6.09          6.72  \n",
       "2021-12-31          7.86          9.37          6.85          7.55  "
      ]
     },
     "execution_count": 18,
     "metadata": {},
     "output_type": "execute_result"
    }
   ],
   "source": [
    "rates_lag"
   ]
  },
  {
   "cell_type": "markdown",
   "metadata": {},
   "source": [
    "#### 4.17. [__Korelasyon Katsayıları: ρ(y<sub>t</sub>, x<sub>t</sub>)__](https://github.com/syncoding/evdsts/blob/master/docs/manuals/manual_en.md#get-corr)"
   ]
  },
  {
   "cell_type": "markdown",
   "metadata": {},
   "source": [
    "Verilen seriler arasındaki korelasyon katsayılarını görmek için `corr()` metodunu kullanabilirisniz.\n",
    "Korelasyon katsayılarının gözlemlenmesi özellikle düşünülen modelin bağımsız değişkenleri arasında\n",
    "oluşabilecek çoklu doğrusal bağıntı probleminin varlığı ile ilgili ön bilgi verir. Genel olarak; model\n",
    "için düşünülen bağımsız değişkenler arasında gözlemlenen yüksek korelasyon (genel oalrak: `ρ > 0.6` ya da `ρ < -0.6`),\n",
    "modelde çoklu doğrusal bağıntı probleminin olabileceğini gösterir. `corr()` metodu ile\n",
    "`Pearson Doğrusal`, `Kendall Tau` ve `Spearman Sıra Korelasyon` katsayılarını alabilirsiniz."
   ]
  },
  {
   "cell_type": "markdown",
   "metadata": {},
   "source": [
    "> Kendall Tau korelasyon katsayılarnın hesaplanması için `scipy` paketi gereklidir."
   ]
  },
  {
   "cell_type": "code",
   "execution_count": 19,
   "metadata": {},
   "outputs": [],
   "source": [
    "# referans isimleri kullanrak serileri indirelim\n",
    "series = connector.get_series(\"usdtry, eurtry, bist100\",\n",
    "                              start_date=\"01.01.2021\",\n",
    "                              end_date=\"31.12.2021\",\n",
    "                              frequency=\"M\")"
   ]
  },
  {
   "cell_type": "code",
   "execution_count": 20,
   "metadata": {},
   "outputs": [],
   "source": [
    "# bu, usdtry, eurtry ve bist100 serileri arasindaki Pearson Dogrusal Korelasyon Katsayilari'ni verir\n",
    "corrs = transformator.corr(series, precision=4)"
   ]
  },
  {
   "cell_type": "code",
   "execution_count": 21,
   "metadata": {},
   "outputs": [
    {
     "data": {
      "text/html": [
       "<div>\n",
       "<style scoped>\n",
       "    .dataframe tbody tr th:only-of-type {\n",
       "        vertical-align: middle;\n",
       "    }\n",
       "\n",
       "    .dataframe tbody tr th {\n",
       "        vertical-align: top;\n",
       "    }\n",
       "\n",
       "    .dataframe thead th {\n",
       "        text-align: right;\n",
       "    }\n",
       "</style>\n",
       "<table border=\"1\" class=\"dataframe\">\n",
       "  <thead>\n",
       "    <tr style=\"text-align: right;\">\n",
       "      <th></th>\n",
       "      <th>USDTRY</th>\n",
       "      <th>EURTRY</th>\n",
       "      <th>BIST100</th>\n",
       "    </tr>\n",
       "  </thead>\n",
       "  <tbody>\n",
       "    <tr>\n",
       "      <th>USDTRY</th>\n",
       "      <td>1.0000</td>\n",
       "      <td>0.9978</td>\n",
       "      <td>0.8475</td>\n",
       "    </tr>\n",
       "    <tr>\n",
       "      <th>EURTRY</th>\n",
       "      <td>0.9978</td>\n",
       "      <td>1.0000</td>\n",
       "      <td>0.8287</td>\n",
       "    </tr>\n",
       "    <tr>\n",
       "      <th>BIST100</th>\n",
       "      <td>0.8475</td>\n",
       "      <td>0.8287</td>\n",
       "      <td>1.0000</td>\n",
       "    </tr>\n",
       "  </tbody>\n",
       "</table>\n",
       "</div>"
      ],
      "text/plain": [
       "         USDTRY  EURTRY  BIST100\n",
       "USDTRY   1.0000  0.9978   0.8475\n",
       "EURTRY   0.9978  1.0000   0.8287\n",
       "BIST100  0.8475  0.8287   1.0000"
      ]
     },
     "execution_count": 21,
     "metadata": {},
     "output_type": "execute_result"
    }
   ],
   "source": [
    "corrs"
   ]
  },
  {
   "cell_type": "code",
   "execution_count": 22,
   "metadata": {},
   "outputs": [],
   "source": [
    "# bu, usdtry, eurtry ve bist100 serileri arasindaki Spearman Sıra Korelasyon Katsayilari'ni verir\n",
    "corrs_sp = transformator.corr(series, method='spearman')"
   ]
  },
  {
   "cell_type": "code",
   "execution_count": 24,
   "metadata": {},
   "outputs": [
    {
     "data": {
      "text/html": [
       "<div>\n",
       "<style scoped>\n",
       "    .dataframe tbody tr th:only-of-type {\n",
       "        vertical-align: middle;\n",
       "    }\n",
       "\n",
       "    .dataframe tbody tr th {\n",
       "        vertical-align: top;\n",
       "    }\n",
       "\n",
       "    .dataframe thead th {\n",
       "        text-align: right;\n",
       "    }\n",
       "</style>\n",
       "<table border=\"1\" class=\"dataframe\">\n",
       "  <thead>\n",
       "    <tr style=\"text-align: right;\">\n",
       "      <th></th>\n",
       "      <th>USDTRY</th>\n",
       "      <th>EURTRY</th>\n",
       "      <th>BIST100</th>\n",
       "    </tr>\n",
       "  </thead>\n",
       "  <tbody>\n",
       "    <tr>\n",
       "      <th>USDTRY</th>\n",
       "      <td>1.000000</td>\n",
       "      <td>0.972028</td>\n",
       "      <td>0.370629</td>\n",
       "    </tr>\n",
       "    <tr>\n",
       "      <th>EURTRY</th>\n",
       "      <td>0.972028</td>\n",
       "      <td>1.000000</td>\n",
       "      <td>0.349650</td>\n",
       "    </tr>\n",
       "    <tr>\n",
       "      <th>BIST100</th>\n",
       "      <td>0.370629</td>\n",
       "      <td>0.349650</td>\n",
       "      <td>1.000000</td>\n",
       "    </tr>\n",
       "  </tbody>\n",
       "</table>\n",
       "</div>"
      ],
      "text/plain": [
       "           USDTRY    EURTRY   BIST100\n",
       "USDTRY   1.000000  0.972028  0.370629\n",
       "EURTRY   0.972028  1.000000  0.349650\n",
       "BIST100  0.370629  0.349650  1.000000"
      ]
     },
     "execution_count": 24,
     "metadata": {},
     "output_type": "execute_result"
    }
   ],
   "source": [
    "corrs_sp"
   ]
  },
  {
   "cell_type": "markdown",
   "metadata": {},
   "source": [
    "#### 4.18. [__Otokorelasyon Katsayıları: AUTOCORR<sub>t</sub> = ρ<sub>t, t-n</sub>__](https://github.com/syncoding/evdsts/blob/master/docs/manuals/manual_en.md#get-auto-corr)"
   ]
  },
  {
   "cell_type": "markdown",
   "metadata": {},
   "source": [
    "Orijinal seriler ve bunların gecikmeli serileri arasındaki corelasyonları (otokorelasyonları) almak için\n",
    "`autocorr()` metodunu kullanabilirsiniz. Otokorelasyon katsayıları size serilerin durağanlığı ile ilgili\n",
    "basit bir önbilgi sağlayabilir. Seri ve serinin gecikmeli değerleri arasında gözlemlenen yüksek korelasyon\n",
    "(genel oalrak: `ρ > 0.6` ya da `ρ < -0.6`), seri değerlerinin zaman içindeki geçmiş değerlerine aşırı\n",
    "bağlı olduğunu ve dolayısıyla ortalamasının zamanla değişebileceğini (stokastik trend varlığını) gösterebilir."
   ]
  },
  {
   "cell_type": "code",
   "execution_count": 35,
   "metadata": {},
   "outputs": [],
   "source": [
    "usdtry = connector.get_series(\"usdtry\",\n",
    "                              start_date=\"01.01.2020\",\n",
    "                              end_date=\"01.01.2022\",\n",
    "                              frequency=\"W\")"
   ]
  },
  {
   "cell_type": "code",
   "execution_count": 36,
   "metadata": {},
   "outputs": [],
   "source": [
    "rates = connector.get_series(\"usdtry, eurtry\",\n",
    "                              start_date=\"01.01.2020\",\n",
    "                              end_date=\"01.01.2022\",\n",
    "                              frequency=\"Q\")"
   ]
  },
  {
   "cell_type": "code",
   "execution_count": 37,
   "metadata": {},
   "outputs": [
    {
     "data": {
      "text/html": [
       "<div>\n",
       "<style scoped>\n",
       "    .dataframe tbody tr th:only-of-type {\n",
       "        vertical-align: middle;\n",
       "    }\n",
       "\n",
       "    .dataframe tbody tr th {\n",
       "        vertical-align: top;\n",
       "    }\n",
       "\n",
       "    .dataframe thead th {\n",
       "        text-align: right;\n",
       "    }\n",
       "</style>\n",
       "<table border=\"1\" class=\"dataframe\">\n",
       "  <thead>\n",
       "    <tr style=\"text-align: right;\">\n",
       "      <th></th>\n",
       "      <th>USDTRY</th>\n",
       "    </tr>\n",
       "    <tr>\n",
       "      <th>Date</th>\n",
       "      <th></th>\n",
       "    </tr>\n",
       "  </thead>\n",
       "  <tbody>\n",
       "    <tr>\n",
       "      <th>2020-01-03</th>\n",
       "      <td>5.94125</td>\n",
       "    </tr>\n",
       "    <tr>\n",
       "      <th>2020-01-10</th>\n",
       "      <td>5.94520</td>\n",
       "    </tr>\n",
       "    <tr>\n",
       "      <th>2020-01-17</th>\n",
       "      <td>5.87128</td>\n",
       "    </tr>\n",
       "  </tbody>\n",
       "</table>\n",
       "</div>"
      ],
      "text/plain": [
       "             USDTRY\n",
       "Date               \n",
       "2020-01-03  5.94125\n",
       "2020-01-10  5.94520\n",
       "2020-01-17  5.87128"
      ]
     },
     "execution_count": 37,
     "metadata": {},
     "output_type": "execute_result"
    }
   ],
   "source": [
    "usdtry.head(3)"
   ]
  },
  {
   "cell_type": "code",
   "execution_count": 38,
   "metadata": {},
   "outputs": [
    {
     "data": {
      "text/html": [
       "<div>\n",
       "<style scoped>\n",
       "    .dataframe tbody tr th:only-of-type {\n",
       "        vertical-align: middle;\n",
       "    }\n",
       "\n",
       "    .dataframe tbody tr th {\n",
       "        vertical-align: top;\n",
       "    }\n",
       "\n",
       "    .dataframe thead th {\n",
       "        text-align: right;\n",
       "    }\n",
       "</style>\n",
       "<table border=\"1\" class=\"dataframe\">\n",
       "  <thead>\n",
       "    <tr style=\"text-align: right;\">\n",
       "      <th></th>\n",
       "      <th>USDTRY</th>\n",
       "      <th>EURTRY</th>\n",
       "    </tr>\n",
       "    <tr>\n",
       "      <th>Date</th>\n",
       "      <th></th>\n",
       "      <th></th>\n",
       "    </tr>\n",
       "  </thead>\n",
       "  <tbody>\n",
       "    <tr>\n",
       "      <th>2020-03-31</th>\n",
       "      <td>6.093850</td>\n",
       "      <td>6.723150</td>\n",
       "    </tr>\n",
       "    <tr>\n",
       "      <th>2020-06-30</th>\n",
       "      <td>6.852923</td>\n",
       "      <td>7.547287</td>\n",
       "    </tr>\n",
       "    <tr>\n",
       "      <th>2020-09-30</th>\n",
       "      <td>7.207746</td>\n",
       "      <td>8.423696</td>\n",
       "    </tr>\n",
       "  </tbody>\n",
       "</table>\n",
       "</div>"
      ],
      "text/plain": [
       "              USDTRY    EURTRY\n",
       "Date                          \n",
       "2020-03-31  6.093850  6.723150\n",
       "2020-06-30  6.852923  7.547287\n",
       "2020-09-30  7.207746  8.423696"
      ]
     },
     "execution_count": 38,
     "metadata": {},
     "output_type": "execute_result"
    }
   ],
   "source": [
    "rates.head(3)"
   ]
  },
  {
   "cell_type": "code",
   "execution_count": 27,
   "metadata": {},
   "outputs": [],
   "source": [
    "# bu; usdtry ile usdtry(t-1), usdtry(t-2) ve usdtry(t-3) arasindaki korelasyonlari verir\n",
    "autocorrs = transformator.autocorr(usdtry, range_lags=3)"
   ]
  },
  {
   "cell_type": "code",
   "execution_count": 28,
   "metadata": {},
   "outputs": [
    {
     "data": {
      "text/html": [
       "<div>\n",
       "<style scoped>\n",
       "    .dataframe tbody tr th:only-of-type {\n",
       "        vertical-align: middle;\n",
       "    }\n",
       "\n",
       "    .dataframe tbody tr th {\n",
       "        vertical-align: top;\n",
       "    }\n",
       "\n",
       "    .dataframe thead th {\n",
       "        text-align: right;\n",
       "    }\n",
       "</style>\n",
       "<table border=\"1\" class=\"dataframe\">\n",
       "  <thead>\n",
       "    <tr style=\"text-align: right;\">\n",
       "      <th></th>\n",
       "      <th>USDTRY</th>\n",
       "      <th>USDTRY_LAG_1</th>\n",
       "      <th>USDTRY_LAG_2</th>\n",
       "      <th>USDTRY_LAG_3</th>\n",
       "    </tr>\n",
       "  </thead>\n",
       "  <tbody>\n",
       "    <tr>\n",
       "      <th>USDTRY</th>\n",
       "      <td>1.000000</td>\n",
       "      <td>0.978949</td>\n",
       "      <td>0.949550</td>\n",
       "      <td>0.923296</td>\n",
       "    </tr>\n",
       "    <tr>\n",
       "      <th>USDTRY_LAG_1</th>\n",
       "      <td>0.978949</td>\n",
       "      <td>1.000000</td>\n",
       "      <td>0.989265</td>\n",
       "      <td>0.968197</td>\n",
       "    </tr>\n",
       "    <tr>\n",
       "      <th>USDTRY_LAG_2</th>\n",
       "      <td>0.949550</td>\n",
       "      <td>0.989265</td>\n",
       "      <td>1.000000</td>\n",
       "      <td>0.989223</td>\n",
       "    </tr>\n",
       "    <tr>\n",
       "      <th>USDTRY_LAG_3</th>\n",
       "      <td>0.923296</td>\n",
       "      <td>0.968197</td>\n",
       "      <td>0.989223</td>\n",
       "      <td>1.000000</td>\n",
       "    </tr>\n",
       "  </tbody>\n",
       "</table>\n",
       "</div>"
      ],
      "text/plain": [
       "                USDTRY  USDTRY_LAG_1  USDTRY_LAG_2  USDTRY_LAG_3\n",
       "USDTRY        1.000000      0.978949      0.949550      0.923296\n",
       "USDTRY_LAG_1  0.978949      1.000000      0.989265      0.968197\n",
       "USDTRY_LAG_2  0.949550      0.989265      1.000000      0.989223\n",
       "USDTRY_LAG_3  0.923296      0.968197      0.989223      1.000000"
      ]
     },
     "execution_count": 28,
     "metadata": {},
     "output_type": "execute_result"
    }
   ],
   "source": [
    "autocorrs"
   ]
  },
  {
   "cell_type": "code",
   "execution_count": 29,
   "metadata": {},
   "outputs": [],
   "source": [
    "# bu; usdtry ile usdtry(t-1), usdtry(t-3) ve usdtry(t-5) arasindaki korelasyonlari verir\n",
    "autocorrs = transformator.autocorr(usdtry, lags=\"1, 3, 5\")"
   ]
  },
  {
   "cell_type": "code",
   "execution_count": 30,
   "metadata": {},
   "outputs": [
    {
     "data": {
      "text/html": [
       "<div>\n",
       "<style scoped>\n",
       "    .dataframe tbody tr th:only-of-type {\n",
       "        vertical-align: middle;\n",
       "    }\n",
       "\n",
       "    .dataframe tbody tr th {\n",
       "        vertical-align: top;\n",
       "    }\n",
       "\n",
       "    .dataframe thead th {\n",
       "        text-align: right;\n",
       "    }\n",
       "</style>\n",
       "<table border=\"1\" class=\"dataframe\">\n",
       "  <thead>\n",
       "    <tr style=\"text-align: right;\">\n",
       "      <th></th>\n",
       "      <th>USDTRY</th>\n",
       "      <th>USDTRY_LAG_1</th>\n",
       "      <th>USDTRY_LAG_3</th>\n",
       "      <th>USDTRY_LAG_5</th>\n",
       "    </tr>\n",
       "  </thead>\n",
       "  <tbody>\n",
       "    <tr>\n",
       "      <th>USDTRY</th>\n",
       "      <td>1.000000</td>\n",
       "      <td>0.978949</td>\n",
       "      <td>0.923296</td>\n",
       "      <td>0.863355</td>\n",
       "    </tr>\n",
       "    <tr>\n",
       "      <th>USDTRY_LAG_1</th>\n",
       "      <td>0.978949</td>\n",
       "      <td>1.000000</td>\n",
       "      <td>0.968197</td>\n",
       "      <td>0.901092</td>\n",
       "    </tr>\n",
       "    <tr>\n",
       "      <th>USDTRY_LAG_3</th>\n",
       "      <td>0.923296</td>\n",
       "      <td>0.968197</td>\n",
       "      <td>1.000000</td>\n",
       "      <td>0.954251</td>\n",
       "    </tr>\n",
       "    <tr>\n",
       "      <th>USDTRY_LAG_5</th>\n",
       "      <td>0.863355</td>\n",
       "      <td>0.901092</td>\n",
       "      <td>0.954251</td>\n",
       "      <td>1.000000</td>\n",
       "    </tr>\n",
       "  </tbody>\n",
       "</table>\n",
       "</div>"
      ],
      "text/plain": [
       "                USDTRY  USDTRY_LAG_1  USDTRY_LAG_3  USDTRY_LAG_5\n",
       "USDTRY        1.000000      0.978949      0.923296      0.863355\n",
       "USDTRY_LAG_1  0.978949      1.000000      0.968197      0.901092\n",
       "USDTRY_LAG_3  0.923296      0.968197      1.000000      0.954251\n",
       "USDTRY_LAG_5  0.863355      0.901092      0.954251      1.000000"
      ]
     },
     "execution_count": 30,
     "metadata": {},
     "output_type": "execute_result"
    }
   ],
   "source": [
    "autocorrs"
   ]
  },
  {
   "cell_type": "code",
   "execution_count": 31,
   "metadata": {},
   "outputs": [],
   "source": [
    "# bu; usdtry ile usdtry(t-1), usdtry(t-2), usdtry(t-3), usdtry(t-4) ve usdtry(t-12)\n",
    "# arasindaki korelasyonlari verir\n",
    "autocorrs = transformator.autocorr(usdtry, range_lags=4, lags=12)"
   ]
  },
  {
   "cell_type": "code",
   "execution_count": 32,
   "metadata": {},
   "outputs": [
    {
     "data": {
      "text/html": [
       "<div>\n",
       "<style scoped>\n",
       "    .dataframe tbody tr th:only-of-type {\n",
       "        vertical-align: middle;\n",
       "    }\n",
       "\n",
       "    .dataframe tbody tr th {\n",
       "        vertical-align: top;\n",
       "    }\n",
       "\n",
       "    .dataframe thead th {\n",
       "        text-align: right;\n",
       "    }\n",
       "</style>\n",
       "<table border=\"1\" class=\"dataframe\">\n",
       "  <thead>\n",
       "    <tr style=\"text-align: right;\">\n",
       "      <th></th>\n",
       "      <th>USDTRY</th>\n",
       "      <th>USDTRY_LAG_1</th>\n",
       "      <th>USDTRY_LAG_2</th>\n",
       "      <th>USDTRY_LAG_3</th>\n",
       "      <th>USDTRY_LAG_4</th>\n",
       "      <th>USDTRY_LAG_12</th>\n",
       "    </tr>\n",
       "  </thead>\n",
       "  <tbody>\n",
       "    <tr>\n",
       "      <th>USDTRY</th>\n",
       "      <td>1.000000</td>\n",
       "      <td>0.978949</td>\n",
       "      <td>0.949550</td>\n",
       "      <td>0.923296</td>\n",
       "      <td>0.892856</td>\n",
       "      <td>0.644941</td>\n",
       "    </tr>\n",
       "    <tr>\n",
       "      <th>USDTRY_LAG_1</th>\n",
       "      <td>0.978949</td>\n",
       "      <td>1.000000</td>\n",
       "      <td>0.989265</td>\n",
       "      <td>0.968197</td>\n",
       "      <td>0.938588</td>\n",
       "      <td>0.657745</td>\n",
       "    </tr>\n",
       "    <tr>\n",
       "      <th>USDTRY_LAG_2</th>\n",
       "      <td>0.949550</td>\n",
       "      <td>0.989265</td>\n",
       "      <td>1.000000</td>\n",
       "      <td>0.989223</td>\n",
       "      <td>0.963580</td>\n",
       "      <td>0.683205</td>\n",
       "    </tr>\n",
       "    <tr>\n",
       "      <th>USDTRY_LAG_3</th>\n",
       "      <td>0.923296</td>\n",
       "      <td>0.968197</td>\n",
       "      <td>0.989223</td>\n",
       "      <td>1.000000</td>\n",
       "      <td>0.986399</td>\n",
       "      <td>0.724432</td>\n",
       "    </tr>\n",
       "    <tr>\n",
       "      <th>USDTRY_LAG_4</th>\n",
       "      <td>0.892856</td>\n",
       "      <td>0.938588</td>\n",
       "      <td>0.963580</td>\n",
       "      <td>0.986399</td>\n",
       "      <td>1.000000</td>\n",
       "      <td>0.774338</td>\n",
       "    </tr>\n",
       "    <tr>\n",
       "      <th>USDTRY_LAG_12</th>\n",
       "      <td>0.644941</td>\n",
       "      <td>0.657745</td>\n",
       "      <td>0.683205</td>\n",
       "      <td>0.724432</td>\n",
       "      <td>0.774338</td>\n",
       "      <td>1.000000</td>\n",
       "    </tr>\n",
       "  </tbody>\n",
       "</table>\n",
       "</div>"
      ],
      "text/plain": [
       "                 USDTRY  USDTRY_LAG_1  USDTRY_LAG_2  USDTRY_LAG_3  \\\n",
       "USDTRY         1.000000      0.978949      0.949550      0.923296   \n",
       "USDTRY_LAG_1   0.978949      1.000000      0.989265      0.968197   \n",
       "USDTRY_LAG_2   0.949550      0.989265      1.000000      0.989223   \n",
       "USDTRY_LAG_3   0.923296      0.968197      0.989223      1.000000   \n",
       "USDTRY_LAG_4   0.892856      0.938588      0.963580      0.986399   \n",
       "USDTRY_LAG_12  0.644941      0.657745      0.683205      0.724432   \n",
       "\n",
       "               USDTRY_LAG_4  USDTRY_LAG_12  \n",
       "USDTRY             0.892856       0.644941  \n",
       "USDTRY_LAG_1       0.938588       0.657745  \n",
       "USDTRY_LAG_2       0.963580       0.683205  \n",
       "USDTRY_LAG_3       0.986399       0.724432  \n",
       "USDTRY_LAG_4       1.000000       0.774338  \n",
       "USDTRY_LAG_12      0.774338       1.000000  "
      ]
     },
     "execution_count": 32,
     "metadata": {},
     "output_type": "execute_result"
    }
   ],
   "source": [
    "autocorrs"
   ]
  },
  {
   "cell_type": "markdown",
   "metadata": {},
   "source": [
    "`autocorr()`; çoğul seriler için de kullanılabilir."
   ]
  },
  {
   "cell_type": "code",
   "execution_count": 14,
   "metadata": {},
   "outputs": [],
   "source": [
    "# verilen dataframe icindeki herhangi bir seriye ait atokorelasyonlari almak icin 'column' parametresini\n",
    "# kullanabilirsiniz. 'column', seri adi ya da seri sutun indeksi (0'dan baslayarak) olarak verilebilir\n",
    "\n",
    "# bu EURTRY sutununu secer ve secili gecikmeler icin otokorelasyonlari verir\n",
    "eurtry_autocorr = transformator.autocorr(rates, column='eurtry', range_lags=4, precision=4)"
   ]
  },
  {
   "cell_type": "code",
   "execution_count": 34,
   "metadata": {},
   "outputs": [
    {
     "data": {
      "text/html": [
       "<div>\n",
       "<style scoped>\n",
       "    .dataframe tbody tr th:only-of-type {\n",
       "        vertical-align: middle;\n",
       "    }\n",
       "\n",
       "    .dataframe tbody tr th {\n",
       "        vertical-align: top;\n",
       "    }\n",
       "\n",
       "    .dataframe thead th {\n",
       "        text-align: right;\n",
       "    }\n",
       "</style>\n",
       "<table border=\"1\" class=\"dataframe\">\n",
       "  <thead>\n",
       "    <tr style=\"text-align: right;\">\n",
       "      <th></th>\n",
       "      <th>EURTRY</th>\n",
       "      <th>EURTRY_LAG_1</th>\n",
       "      <th>EURTRY_LAG_2</th>\n",
       "      <th>EURTRY_LAG_3</th>\n",
       "      <th>EURTRY_LAG_4</th>\n",
       "    </tr>\n",
       "  </thead>\n",
       "  <tbody>\n",
       "    <tr>\n",
       "      <th>EURTRY</th>\n",
       "      <td>1.0000</td>\n",
       "      <td>0.7977</td>\n",
       "      <td>0.8495</td>\n",
       "      <td>0.5765</td>\n",
       "      <td>0.9214</td>\n",
       "    </tr>\n",
       "    <tr>\n",
       "      <th>EURTRY_LAG_1</th>\n",
       "      <td>0.7977</td>\n",
       "      <td>1.0000</td>\n",
       "      <td>0.8470</td>\n",
       "      <td>0.8450</td>\n",
       "      <td>0.7341</td>\n",
       "    </tr>\n",
       "    <tr>\n",
       "      <th>EURTRY_LAG_2</th>\n",
       "      <td>0.8495</td>\n",
       "      <td>0.8470</td>\n",
       "      <td>1.0000</td>\n",
       "      <td>0.7933</td>\n",
       "      <td>0.8242</td>\n",
       "    </tr>\n",
       "    <tr>\n",
       "      <th>EURTRY_LAG_3</th>\n",
       "      <td>0.5765</td>\n",
       "      <td>0.8450</td>\n",
       "      <td>0.7933</td>\n",
       "      <td>1.0000</td>\n",
       "      <td>0.8115</td>\n",
       "    </tr>\n",
       "    <tr>\n",
       "      <th>EURTRY_LAG_4</th>\n",
       "      <td>0.9214</td>\n",
       "      <td>0.7341</td>\n",
       "      <td>0.8242</td>\n",
       "      <td>0.8115</td>\n",
       "      <td>1.0000</td>\n",
       "    </tr>\n",
       "  </tbody>\n",
       "</table>\n",
       "</div>"
      ],
      "text/plain": [
       "              EURTRY  EURTRY_LAG_1  EURTRY_LAG_2  EURTRY_LAG_3  EURTRY_LAG_4\n",
       "EURTRY        1.0000        0.7977        0.8495        0.5765        0.9214\n",
       "EURTRY_LAG_1  0.7977        1.0000        0.8470        0.8450        0.7341\n",
       "EURTRY_LAG_2  0.8495        0.8470        1.0000        0.7933        0.8242\n",
       "EURTRY_LAG_3  0.5765        0.8450        0.7933        1.0000        0.8115\n",
       "EURTRY_LAG_4  0.9214        0.7341        0.8242        0.8115        1.0000"
      ]
     },
     "execution_count": 34,
     "metadata": {},
     "output_type": "execute_result"
    }
   ],
   "source": [
    "eurtry_autocorr"
   ]
  },
  {
   "cell_type": "code",
   "execution_count": 35,
   "metadata": {},
   "outputs": [],
   "source": [
    "# EURTRY'nin dataframe icindeki sutun indeks numarasi 1 oldugu icin bu da ayni isi yapar.\n",
    "eurtry_autocorr = transformator.autocorr(rates, column=1, range_lags=4, precision=4)"
   ]
  },
  {
   "cell_type": "code",
   "execution_count": 36,
   "metadata": {},
   "outputs": [
    {
     "data": {
      "text/html": [
       "<div>\n",
       "<style scoped>\n",
       "    .dataframe tbody tr th:only-of-type {\n",
       "        vertical-align: middle;\n",
       "    }\n",
       "\n",
       "    .dataframe tbody tr th {\n",
       "        vertical-align: top;\n",
       "    }\n",
       "\n",
       "    .dataframe thead th {\n",
       "        text-align: right;\n",
       "    }\n",
       "</style>\n",
       "<table border=\"1\" class=\"dataframe\">\n",
       "  <thead>\n",
       "    <tr style=\"text-align: right;\">\n",
       "      <th></th>\n",
       "      <th>EURTRY</th>\n",
       "      <th>EURTRY_LAG_1</th>\n",
       "      <th>EURTRY_LAG_2</th>\n",
       "      <th>EURTRY_LAG_3</th>\n",
       "      <th>EURTRY_LAG_4</th>\n",
       "    </tr>\n",
       "  </thead>\n",
       "  <tbody>\n",
       "    <tr>\n",
       "      <th>EURTRY</th>\n",
       "      <td>1.0000</td>\n",
       "      <td>0.7977</td>\n",
       "      <td>0.8495</td>\n",
       "      <td>0.5765</td>\n",
       "      <td>0.9214</td>\n",
       "    </tr>\n",
       "    <tr>\n",
       "      <th>EURTRY_LAG_1</th>\n",
       "      <td>0.7977</td>\n",
       "      <td>1.0000</td>\n",
       "      <td>0.8470</td>\n",
       "      <td>0.8450</td>\n",
       "      <td>0.7341</td>\n",
       "    </tr>\n",
       "    <tr>\n",
       "      <th>EURTRY_LAG_2</th>\n",
       "      <td>0.8495</td>\n",
       "      <td>0.8470</td>\n",
       "      <td>1.0000</td>\n",
       "      <td>0.7933</td>\n",
       "      <td>0.8242</td>\n",
       "    </tr>\n",
       "    <tr>\n",
       "      <th>EURTRY_LAG_3</th>\n",
       "      <td>0.5765</td>\n",
       "      <td>0.8450</td>\n",
       "      <td>0.7933</td>\n",
       "      <td>1.0000</td>\n",
       "      <td>0.8115</td>\n",
       "    </tr>\n",
       "    <tr>\n",
       "      <th>EURTRY_LAG_4</th>\n",
       "      <td>0.9214</td>\n",
       "      <td>0.7341</td>\n",
       "      <td>0.8242</td>\n",
       "      <td>0.8115</td>\n",
       "      <td>1.0000</td>\n",
       "    </tr>\n",
       "  </tbody>\n",
       "</table>\n",
       "</div>"
      ],
      "text/plain": [
       "              EURTRY  EURTRY_LAG_1  EURTRY_LAG_2  EURTRY_LAG_3  EURTRY_LAG_4\n",
       "EURTRY        1.0000        0.7977        0.8495        0.5765        0.9214\n",
       "EURTRY_LAG_1  0.7977        1.0000        0.8470        0.8450        0.7341\n",
       "EURTRY_LAG_2  0.8495        0.8470        1.0000        0.7933        0.8242\n",
       "EURTRY_LAG_3  0.5765        0.8450        0.7933        1.0000        0.8115\n",
       "EURTRY_LAG_4  0.9214        0.7341        0.8242        0.8115        1.0000"
      ]
     },
     "execution_count": 36,
     "metadata": {},
     "output_type": "execute_result"
    }
   ],
   "source": [
    "eurtry_autocorr"
   ]
  },
  {
   "cell_type": "markdown",
   "metadata": {},
   "source": [
    "#### 4.19. [__Serial Correlation Coefficients: SERIALCORR<sub>t</sub> = ρ<sub>t, x-n</sub>__](https://github.com/syncoding/evdsts/blob/master/docs/manuals/manual_en.md#get-serial-corr)"
   ]
  },
  {
   "cell_type": "markdown",
   "metadata": {},
   "source": [
    "`serial_corr()` metodu ile verilen bir `DataFrame` içinde bir seriyi sabitleyerek, bu seri ile kalan seriler\n",
    "ve bunlarin gecikmeleriyle olan korelasyonlari gosteren bir vektor alabilirsiniz. Bu, sabitlediginiz seri\n",
    "ile diğer seriler ve bunların gecikmeli değerleri arasındaki ilişkiler hakkında kolayca bir ön fikir\n",
    "sahibi olmanızı sağlar."
   ]
  },
  {
   "cell_type": "code",
   "execution_count": 5,
   "metadata": {},
   "outputs": [],
   "source": [
    "# referans isimleri kullanrak seriler indirelim\n",
    "series = connector.get_series(\"usdtry, eurtry, bist100\",\n",
    "                              start_date=\"01.01.2021\",\n",
    "                              end_date=\"31.12.2021\",\n",
    "                              frequency=\"B\")"
   ]
  },
  {
   "cell_type": "code",
   "execution_count": 10,
   "metadata": {},
   "outputs": [
    {
     "data": {
      "text/html": [
       "<div>\n",
       "<style scoped>\n",
       "    .dataframe tbody tr th:only-of-type {\n",
       "        vertical-align: middle;\n",
       "    }\n",
       "\n",
       "    .dataframe tbody tr th {\n",
       "        vertical-align: top;\n",
       "    }\n",
       "\n",
       "    .dataframe thead th {\n",
       "        text-align: right;\n",
       "    }\n",
       "</style>\n",
       "<table border=\"1\" class=\"dataframe\">\n",
       "  <thead>\n",
       "    <tr style=\"text-align: right;\">\n",
       "      <th></th>\n",
       "      <th>USDTRY</th>\n",
       "      <th>EURTRY</th>\n",
       "      <th>BIST100</th>\n",
       "    </tr>\n",
       "    <tr>\n",
       "      <th>Date</th>\n",
       "      <th></th>\n",
       "      <th></th>\n",
       "      <th></th>\n",
       "    </tr>\n",
       "  </thead>\n",
       "  <tbody>\n",
       "    <tr>\n",
       "      <th>2021-01-01</th>\n",
       "      <td>NaN</td>\n",
       "      <td>NaN</td>\n",
       "      <td>NaN</td>\n",
       "    </tr>\n",
       "    <tr>\n",
       "      <th>2021-01-04</th>\n",
       "      <td>7.4194</td>\n",
       "      <td>9.1164</td>\n",
       "      <td>1495.430054</td>\n",
       "    </tr>\n",
       "    <tr>\n",
       "      <th>2021-01-05</th>\n",
       "      <td>7.3602</td>\n",
       "      <td>9.0382</td>\n",
       "      <td>1489.560059</td>\n",
       "    </tr>\n",
       "  </tbody>\n",
       "</table>\n",
       "</div>"
      ],
      "text/plain": [
       "            USDTRY  EURTRY      BIST100\n",
       "Date                                   \n",
       "2021-01-01     NaN     NaN          NaN\n",
       "2021-01-04  7.4194  9.1164  1495.430054\n",
       "2021-01-05  7.3602  9.0382  1489.560059"
      ]
     },
     "execution_count": 10,
     "metadata": {},
     "output_type": "execute_result"
    }
   ],
   "source": [
    "series.head(3)"
   ]
  },
  {
   "cell_type": "code",
   "execution_count": 6,
   "metadata": {},
   "outputs": [],
   "source": [
    "# bu, BIST100 serisini sabitleyerek bu seri ile kalan seriler ve onlarin verilen gecikmeleri arasindaki\n",
    "# korelasyonlari verecektir.\n",
    "sc_vector = transformator.serial_corr(series, hold=\"bist100\", range_lags=4, lags=12)"
   ]
  },
  {
   "cell_type": "code",
   "execution_count": 7,
   "metadata": {},
   "outputs": [
    {
     "data": {
      "text/html": [
       "<div>\n",
       "<style scoped>\n",
       "    .dataframe tbody tr th:only-of-type {\n",
       "        vertical-align: middle;\n",
       "    }\n",
       "\n",
       "    .dataframe tbody tr th {\n",
       "        vertical-align: top;\n",
       "    }\n",
       "\n",
       "    .dataframe thead th {\n",
       "        text-align: right;\n",
       "    }\n",
       "</style>\n",
       "<table border=\"1\" class=\"dataframe\">\n",
       "  <thead>\n",
       "    <tr style=\"text-align: right;\">\n",
       "      <th></th>\n",
       "      <th>BIST100</th>\n",
       "    </tr>\n",
       "  </thead>\n",
       "  <tbody>\n",
       "    <tr>\n",
       "      <th>BIST100</th>\n",
       "      <td>1.000000</td>\n",
       "    </tr>\n",
       "    <tr>\n",
       "      <th>USDTRY</th>\n",
       "      <td>0.802526</td>\n",
       "    </tr>\n",
       "    <tr>\n",
       "      <th>EURTRY</th>\n",
       "      <td>0.795602</td>\n",
       "    </tr>\n",
       "    <tr>\n",
       "      <th>USDTRY_LAG_1</th>\n",
       "      <td>0.790575</td>\n",
       "    </tr>\n",
       "    <tr>\n",
       "      <th>EURTRY_LAG_1</th>\n",
       "      <td>0.781897</td>\n",
       "    </tr>\n",
       "    <tr>\n",
       "      <th>USDTRY_LAG_2</th>\n",
       "      <td>0.783268</td>\n",
       "    </tr>\n",
       "    <tr>\n",
       "      <th>EURTRY_LAG_2</th>\n",
       "      <td>0.773447</td>\n",
       "    </tr>\n",
       "    <tr>\n",
       "      <th>USDTRY_LAG_3</th>\n",
       "      <td>0.781320</td>\n",
       "    </tr>\n",
       "    <tr>\n",
       "      <th>EURTRY_LAG_3</th>\n",
       "      <td>0.770897</td>\n",
       "    </tr>\n",
       "    <tr>\n",
       "      <th>USDTRY_LAG_4</th>\n",
       "      <td>0.781647</td>\n",
       "    </tr>\n",
       "    <tr>\n",
       "      <th>EURTRY_LAG_4</th>\n",
       "      <td>0.771115</td>\n",
       "    </tr>\n",
       "    <tr>\n",
       "      <th>USDTRY_LAG_12</th>\n",
       "      <td>0.732983</td>\n",
       "    </tr>\n",
       "    <tr>\n",
       "      <th>EURTRY_LAG_12</th>\n",
       "      <td>0.712389</td>\n",
       "    </tr>\n",
       "  </tbody>\n",
       "</table>\n",
       "</div>"
      ],
      "text/plain": [
       "                BIST100\n",
       "BIST100        1.000000\n",
       "USDTRY         0.802526\n",
       "EURTRY         0.795602\n",
       "USDTRY_LAG_1   0.790575\n",
       "EURTRY_LAG_1   0.781897\n",
       "USDTRY_LAG_2   0.783268\n",
       "EURTRY_LAG_2   0.773447\n",
       "USDTRY_LAG_3   0.781320\n",
       "EURTRY_LAG_3   0.770897\n",
       "USDTRY_LAG_4   0.781647\n",
       "EURTRY_LAG_4   0.771115\n",
       "USDTRY_LAG_12  0.732983\n",
       "EURTRY_LAG_12  0.712389"
      ]
     },
     "execution_count": 7,
     "metadata": {},
     "output_type": "execute_result"
    }
   ],
   "source": [
    "sc_vector"
   ]
  },
  {
   "cell_type": "code",
   "execution_count": 15,
   "metadata": {},
   "outputs": [],
   "source": [
    "# usdtry'nin DataFrame icindeki sutun sirasi 0 oldugu icin bu; usdtry'yi sabit tutup,\n",
    "# frame icindeki diger seriler ile gecikmeler de dahil olarak korelasyonlari verir\n",
    "sc_vector = transformator.serial_corr(series, hold=0, range_lags=4, lags=12, precision=4)"
   ]
  },
  {
   "cell_type": "code",
   "execution_count": 16,
   "metadata": {},
   "outputs": [
    {
     "data": {
      "text/html": [
       "<div>\n",
       "<style scoped>\n",
       "    .dataframe tbody tr th:only-of-type {\n",
       "        vertical-align: middle;\n",
       "    }\n",
       "\n",
       "    .dataframe tbody tr th {\n",
       "        vertical-align: top;\n",
       "    }\n",
       "\n",
       "    .dataframe thead th {\n",
       "        text-align: right;\n",
       "    }\n",
       "</style>\n",
       "<table border=\"1\" class=\"dataframe\">\n",
       "  <thead>\n",
       "    <tr style=\"text-align: right;\">\n",
       "      <th></th>\n",
       "      <th>USDTRY</th>\n",
       "    </tr>\n",
       "  </thead>\n",
       "  <tbody>\n",
       "    <tr>\n",
       "      <th>USDTRY</th>\n",
       "      <td>1.0000</td>\n",
       "    </tr>\n",
       "    <tr>\n",
       "      <th>EURTRY</th>\n",
       "      <td>0.9975</td>\n",
       "    </tr>\n",
       "    <tr>\n",
       "      <th>BIST100</th>\n",
       "      <td>0.8025</td>\n",
       "    </tr>\n",
       "    <tr>\n",
       "      <th>EURTRY_LAG_1</th>\n",
       "      <td>0.9772</td>\n",
       "    </tr>\n",
       "    <tr>\n",
       "      <th>BIST100_LAG_1</th>\n",
       "      <td>0.8121</td>\n",
       "    </tr>\n",
       "    <tr>\n",
       "      <th>EURTRY_LAG_2</th>\n",
       "      <td>0.9550</td>\n",
       "    </tr>\n",
       "    <tr>\n",
       "      <th>BIST100_LAG_2</th>\n",
       "      <td>0.8133</td>\n",
       "    </tr>\n",
       "    <tr>\n",
       "      <th>EURTRY_LAG_3</th>\n",
       "      <td>0.9325</td>\n",
       "    </tr>\n",
       "    <tr>\n",
       "      <th>BIST100_LAG_3</th>\n",
       "      <td>0.8096</td>\n",
       "    </tr>\n",
       "    <tr>\n",
       "      <th>EURTRY_LAG_4</th>\n",
       "      <td>0.9172</td>\n",
       "    </tr>\n",
       "    <tr>\n",
       "      <th>BIST100_LAG_4</th>\n",
       "      <td>0.7906</td>\n",
       "    </tr>\n",
       "    <tr>\n",
       "      <th>EURTRY_LAG_12</th>\n",
       "      <td>0.8687</td>\n",
       "    </tr>\n",
       "    <tr>\n",
       "      <th>BIST100_LAG_12</th>\n",
       "      <td>0.6659</td>\n",
       "    </tr>\n",
       "  </tbody>\n",
       "</table>\n",
       "</div>"
      ],
      "text/plain": [
       "                USDTRY\n",
       "USDTRY          1.0000\n",
       "EURTRY          0.9975\n",
       "BIST100         0.8025\n",
       "EURTRY_LAG_1    0.9772\n",
       "BIST100_LAG_1   0.8121\n",
       "EURTRY_LAG_2    0.9550\n",
       "BIST100_LAG_2   0.8133\n",
       "EURTRY_LAG_3    0.9325\n",
       "BIST100_LAG_3   0.8096\n",
       "EURTRY_LAG_4    0.9172\n",
       "BIST100_LAG_4   0.7906\n",
       "EURTRY_LAG_12   0.8687\n",
       "BIST100_LAG_12  0.6659"
      ]
     },
     "execution_count": 16,
     "metadata": {},
     "output_type": "execute_result"
    }
   ],
   "source": [
    "sc_vector"
   ]
  },
  {
   "cell_type": "markdown",
   "metadata": {},
   "source": [
    "#### 4.20. [__Dışa Düşenler__](https://github.com/syncoding/evdsts/blob/master/docs/manuals/manual_en.md#get-outliers)"
   ]
  },
  {
   "cell_type": "markdown",
   "metadata": {},
   "source": [
    "Verilen seriler içindeki dışa düşen değerleri bir kukla değişken yardımıyla tespit etmek için `outliers()`\n",
    "metodunu kullanabilirsiniz."
   ]
  },
  {
   "cell_type": "markdown",
   "metadata": {},
   "source": [
    "Geri dönen kukla değişken serisi `0` ve `1`'lerden oluşak ve aşağıdakileri ifade edecektir:\n",
    "- `1`: Karşılık gelen tarihteki değer bir dışa düşendir.\n",
    "- `0`: Karşılık gelen tarihteki değer bir dışa düşen değildir."
   ]
  },
  {
   "cell_type": "code",
   "execution_count": 17,
   "metadata": {},
   "outputs": [],
   "source": [
    "usdtry = connector.get_series(\"usdtry\",\n",
    "                              start_date=\"01.01.2020\",\n",
    "                              end_date=\"01.01.2022\",\n",
    "                              frequency=\"W\")"
   ]
  },
  {
   "cell_type": "code",
   "execution_count": 18,
   "metadata": {},
   "outputs": [],
   "source": [
    "series = connector.get_series(\"usdtry, eurtry, bist100\",\n",
    "                              start_date=\"01.01.2020\",\n",
    "                              end_date=\"01.01.2022\",\n",
    "                              frequency=\"W\")"
   ]
  },
  {
   "cell_type": "code",
   "execution_count": 19,
   "metadata": {},
   "outputs": [],
   "source": [
    "# bu, medyan mutlak sapma kriterine göre ve -3, +3 değerleri sınır kabul edilerek (var ise) dışa düşenleri verir.\n",
    "usdtry_outliers_d = transformator.outliers(usdtry)"
   ]
  },
  {
   "cell_type": "code",
   "execution_count": 20,
   "metadata": {},
   "outputs": [
    {
     "data": {
      "text/html": [
       "<div>\n",
       "<style scoped>\n",
       "    .dataframe tbody tr th:only-of-type {\n",
       "        vertical-align: middle;\n",
       "    }\n",
       "\n",
       "    .dataframe tbody tr th {\n",
       "        vertical-align: top;\n",
       "    }\n",
       "\n",
       "    .dataframe thead th {\n",
       "        text-align: right;\n",
       "    }\n",
       "</style>\n",
       "<table border=\"1\" class=\"dataframe\">\n",
       "  <thead>\n",
       "    <tr style=\"text-align: right;\">\n",
       "      <th></th>\n",
       "      <th>USDTRY</th>\n",
       "      <th>USDTRY_OUT</th>\n",
       "    </tr>\n",
       "    <tr>\n",
       "      <th>Date</th>\n",
       "      <th></th>\n",
       "      <th></th>\n",
       "    </tr>\n",
       "  </thead>\n",
       "  <tbody>\n",
       "    <tr>\n",
       "      <th>2020-01-03</th>\n",
       "      <td>5.94125</td>\n",
       "      <td>0.0</td>\n",
       "    </tr>\n",
       "    <tr>\n",
       "      <th>2020-01-10</th>\n",
       "      <td>5.94520</td>\n",
       "      <td>0.0</td>\n",
       "    </tr>\n",
       "    <tr>\n",
       "      <th>2020-01-17</th>\n",
       "      <td>5.87128</td>\n",
       "      <td>0.0</td>\n",
       "    </tr>\n",
       "    <tr>\n",
       "      <th>2020-01-24</th>\n",
       "      <td>5.90358</td>\n",
       "      <td>0.0</td>\n",
       "    </tr>\n",
       "    <tr>\n",
       "      <th>2020-01-31</th>\n",
       "      <td>5.94228</td>\n",
       "      <td>0.0</td>\n",
       "    </tr>\n",
       "    <tr>\n",
       "      <th>...</th>\n",
       "      <td>...</td>\n",
       "      <td>...</td>\n",
       "    </tr>\n",
       "    <tr>\n",
       "      <th>2021-12-03</th>\n",
       "      <td>12.88396</td>\n",
       "      <td>1.0</td>\n",
       "    </tr>\n",
       "    <tr>\n",
       "      <th>2021-12-10</th>\n",
       "      <td>13.69762</td>\n",
       "      <td>1.0</td>\n",
       "    </tr>\n",
       "    <tr>\n",
       "      <th>2021-12-17</th>\n",
       "      <td>14.42048</td>\n",
       "      <td>1.0</td>\n",
       "    </tr>\n",
       "    <tr>\n",
       "      <th>2021-12-24</th>\n",
       "      <td>14.14716</td>\n",
       "      <td>1.0</td>\n",
       "    </tr>\n",
       "    <tr>\n",
       "      <th>2021-12-31</th>\n",
       "      <td>12.02948</td>\n",
       "      <td>1.0</td>\n",
       "    </tr>\n",
       "  </tbody>\n",
       "</table>\n",
       "<p>105 rows × 2 columns</p>\n",
       "</div>"
      ],
      "text/plain": [
       "              USDTRY  USDTRY_OUT\n",
       "Date                            \n",
       "2020-01-03   5.94125         0.0\n",
       "2020-01-10   5.94520         0.0\n",
       "2020-01-17   5.87128         0.0\n",
       "2020-01-24   5.90358         0.0\n",
       "2020-01-31   5.94228         0.0\n",
       "...              ...         ...\n",
       "2021-12-03  12.88396         1.0\n",
       "2021-12-10  13.69762         1.0\n",
       "2021-12-17  14.42048         1.0\n",
       "2021-12-24  14.14716         1.0\n",
       "2021-12-31  12.02948         1.0\n",
       "\n",
       "[105 rows x 2 columns]"
      ]
     },
     "execution_count": 20,
     "metadata": {},
     "output_type": "execute_result"
    }
   ],
   "source": [
    "usdtry_outliers_d"
   ]
  },
  {
   "cell_type": "code",
   "execution_count": 21,
   "metadata": {},
   "outputs": [],
   "source": [
    "# bu, medyan mutlak sapma kriterine göre ve -5, +5 değerleri sınır kabul edilerek (var ise) dışa düşenleri verir.\n",
    "usdtry_outliers_d = transformator.outliers(usdtry, critical_upper=5, critical_lower=-5)"
   ]
  },
  {
   "cell_type": "code",
   "execution_count": 22,
   "metadata": {},
   "outputs": [
    {
     "data": {
      "text/html": [
       "<div>\n",
       "<style scoped>\n",
       "    .dataframe tbody tr th:only-of-type {\n",
       "        vertical-align: middle;\n",
       "    }\n",
       "\n",
       "    .dataframe tbody tr th {\n",
       "        vertical-align: top;\n",
       "    }\n",
       "\n",
       "    .dataframe thead th {\n",
       "        text-align: right;\n",
       "    }\n",
       "</style>\n",
       "<table border=\"1\" class=\"dataframe\">\n",
       "  <thead>\n",
       "    <tr style=\"text-align: right;\">\n",
       "      <th></th>\n",
       "      <th>USDTRY</th>\n",
       "      <th>USDTRY_OUT</th>\n",
       "    </tr>\n",
       "    <tr>\n",
       "      <th>Date</th>\n",
       "      <th></th>\n",
       "      <th></th>\n",
       "    </tr>\n",
       "  </thead>\n",
       "  <tbody>\n",
       "    <tr>\n",
       "      <th>2020-01-03</th>\n",
       "      <td>5.94125</td>\n",
       "      <td>0.0</td>\n",
       "    </tr>\n",
       "    <tr>\n",
       "      <th>2020-01-10</th>\n",
       "      <td>5.94520</td>\n",
       "      <td>0.0</td>\n",
       "    </tr>\n",
       "    <tr>\n",
       "      <th>2020-01-17</th>\n",
       "      <td>5.87128</td>\n",
       "      <td>0.0</td>\n",
       "    </tr>\n",
       "    <tr>\n",
       "      <th>2020-01-24</th>\n",
       "      <td>5.90358</td>\n",
       "      <td>0.0</td>\n",
       "    </tr>\n",
       "    <tr>\n",
       "      <th>2020-01-31</th>\n",
       "      <td>5.94228</td>\n",
       "      <td>0.0</td>\n",
       "    </tr>\n",
       "    <tr>\n",
       "      <th>...</th>\n",
       "      <td>...</td>\n",
       "      <td>...</td>\n",
       "    </tr>\n",
       "    <tr>\n",
       "      <th>2021-12-03</th>\n",
       "      <td>12.88396</td>\n",
       "      <td>0.0</td>\n",
       "    </tr>\n",
       "    <tr>\n",
       "      <th>2021-12-10</th>\n",
       "      <td>13.69762</td>\n",
       "      <td>1.0</td>\n",
       "    </tr>\n",
       "    <tr>\n",
       "      <th>2021-12-17</th>\n",
       "      <td>14.42048</td>\n",
       "      <td>1.0</td>\n",
       "    </tr>\n",
       "    <tr>\n",
       "      <th>2021-12-24</th>\n",
       "      <td>14.14716</td>\n",
       "      <td>1.0</td>\n",
       "    </tr>\n",
       "    <tr>\n",
       "      <th>2021-12-31</th>\n",
       "      <td>12.02948</td>\n",
       "      <td>0.0</td>\n",
       "    </tr>\n",
       "  </tbody>\n",
       "</table>\n",
       "<p>105 rows × 2 columns</p>\n",
       "</div>"
      ],
      "text/plain": [
       "              USDTRY  USDTRY_OUT\n",
       "Date                            \n",
       "2020-01-03   5.94125         0.0\n",
       "2020-01-10   5.94520         0.0\n",
       "2020-01-17   5.87128         0.0\n",
       "2020-01-24   5.90358         0.0\n",
       "2020-01-31   5.94228         0.0\n",
       "...              ...         ...\n",
       "2021-12-03  12.88396         0.0\n",
       "2021-12-10  13.69762         1.0\n",
       "2021-12-17  14.42048         1.0\n",
       "2021-12-24  14.14716         1.0\n",
       "2021-12-31  12.02948         0.0\n",
       "\n",
       "[105 rows x 2 columns]"
      ]
     },
     "execution_count": 22,
     "metadata": {},
     "output_type": "execute_result"
    }
   ],
   "source": [
    "usdtry_outliers_d"
   ]
  },
  {
   "cell_type": "code",
   "execution_count": 23,
   "metadata": {},
   "outputs": [],
   "source": [
    "# bu, z-skoru kriterine göre ve -4, +4 değerleri sınır kabul edilerek (var ise) dışa düşenleri verir.\n",
    "usdtry_outliers_d = transformator.outliers(usdtry, method=\"z\", critical_lower=-4, critical_upper=4)"
   ]
  },
  {
   "cell_type": "code",
   "execution_count": 24,
   "metadata": {},
   "outputs": [
    {
     "data": {
      "text/html": [
       "<div>\n",
       "<style scoped>\n",
       "    .dataframe tbody tr th:only-of-type {\n",
       "        vertical-align: middle;\n",
       "    }\n",
       "\n",
       "    .dataframe tbody tr th {\n",
       "        vertical-align: top;\n",
       "    }\n",
       "\n",
       "    .dataframe thead th {\n",
       "        text-align: right;\n",
       "    }\n",
       "</style>\n",
       "<table border=\"1\" class=\"dataframe\">\n",
       "  <thead>\n",
       "    <tr style=\"text-align: right;\">\n",
       "      <th></th>\n",
       "      <th>USDTRY</th>\n",
       "      <th>USDTRY_OUT</th>\n",
       "    </tr>\n",
       "    <tr>\n",
       "      <th>Date</th>\n",
       "      <th></th>\n",
       "      <th></th>\n",
       "    </tr>\n",
       "  </thead>\n",
       "  <tbody>\n",
       "    <tr>\n",
       "      <th>2020-01-03</th>\n",
       "      <td>5.94125</td>\n",
       "      <td>0.0</td>\n",
       "    </tr>\n",
       "    <tr>\n",
       "      <th>2020-01-10</th>\n",
       "      <td>5.94520</td>\n",
       "      <td>0.0</td>\n",
       "    </tr>\n",
       "    <tr>\n",
       "      <th>2020-01-17</th>\n",
       "      <td>5.87128</td>\n",
       "      <td>0.0</td>\n",
       "    </tr>\n",
       "    <tr>\n",
       "      <th>2020-01-24</th>\n",
       "      <td>5.90358</td>\n",
       "      <td>0.0</td>\n",
       "    </tr>\n",
       "    <tr>\n",
       "      <th>2020-01-31</th>\n",
       "      <td>5.94228</td>\n",
       "      <td>0.0</td>\n",
       "    </tr>\n",
       "    <tr>\n",
       "      <th>...</th>\n",
       "      <td>...</td>\n",
       "      <td>...</td>\n",
       "    </tr>\n",
       "    <tr>\n",
       "      <th>2021-12-03</th>\n",
       "      <td>12.88396</td>\n",
       "      <td>0.0</td>\n",
       "    </tr>\n",
       "    <tr>\n",
       "      <th>2021-12-10</th>\n",
       "      <td>13.69762</td>\n",
       "      <td>0.0</td>\n",
       "    </tr>\n",
       "    <tr>\n",
       "      <th>2021-12-17</th>\n",
       "      <td>14.42048</td>\n",
       "      <td>1.0</td>\n",
       "    </tr>\n",
       "    <tr>\n",
       "      <th>2021-12-24</th>\n",
       "      <td>14.14716</td>\n",
       "      <td>0.0</td>\n",
       "    </tr>\n",
       "    <tr>\n",
       "      <th>2021-12-31</th>\n",
       "      <td>12.02948</td>\n",
       "      <td>0.0</td>\n",
       "    </tr>\n",
       "  </tbody>\n",
       "</table>\n",
       "<p>105 rows × 2 columns</p>\n",
       "</div>"
      ],
      "text/plain": [
       "              USDTRY  USDTRY_OUT\n",
       "Date                            \n",
       "2020-01-03   5.94125         0.0\n",
       "2020-01-10   5.94520         0.0\n",
       "2020-01-17   5.87128         0.0\n",
       "2020-01-24   5.90358         0.0\n",
       "2020-01-31   5.94228         0.0\n",
       "...              ...         ...\n",
       "2021-12-03  12.88396         0.0\n",
       "2021-12-10  13.69762         0.0\n",
       "2021-12-17  14.42048         1.0\n",
       "2021-12-24  14.14716         0.0\n",
       "2021-12-31  12.02948         0.0\n",
       "\n",
       "[105 rows x 2 columns]"
      ]
     },
     "execution_count": 24,
     "metadata": {},
     "output_type": "execute_result"
    }
   ],
   "source": [
    "usdtry_outliers_d"
   ]
  },
  {
   "cell_type": "markdown",
   "metadata": {},
   "source": [
    "`outliers()`; çoğul seriler için de kullanılabilir."
   ]
  },
  {
   "cell_type": "code",
   "execution_count": 25,
   "metadata": {},
   "outputs": [],
   "source": [
    "# bu, z-skoru kriterine göre DataFrame icinde verilen tum seriler (usdtry, eurtry ve bist100) icin\n",
    "# -2.56, +2.56 degerleri sinir kabul edilerek disa dusenleri verir.\n",
    "all_outliers = transformator.outliers(\n",
    "    series, method=\"z\", critical_lower=-2.56, critical_upper=2.56, keep_originals=False\n",
    ")"
   ]
  },
  {
   "cell_type": "code",
   "execution_count": 26,
   "metadata": {},
   "outputs": [
    {
     "data": {
      "text/html": [
       "<div>\n",
       "<style scoped>\n",
       "    .dataframe tbody tr th:only-of-type {\n",
       "        vertical-align: middle;\n",
       "    }\n",
       "\n",
       "    .dataframe tbody tr th {\n",
       "        vertical-align: top;\n",
       "    }\n",
       "\n",
       "    .dataframe thead th {\n",
       "        text-align: right;\n",
       "    }\n",
       "</style>\n",
       "<table border=\"1\" class=\"dataframe\">\n",
       "  <thead>\n",
       "    <tr style=\"text-align: right;\">\n",
       "      <th></th>\n",
       "      <th>USDTRY_OUT</th>\n",
       "      <th>EURTRY_OUT</th>\n",
       "      <th>BIST100_OUT</th>\n",
       "    </tr>\n",
       "    <tr>\n",
       "      <th>Date</th>\n",
       "      <th></th>\n",
       "      <th></th>\n",
       "      <th></th>\n",
       "    </tr>\n",
       "  </thead>\n",
       "  <tbody>\n",
       "    <tr>\n",
       "      <th>2020-01-03</th>\n",
       "      <td>0.0</td>\n",
       "      <td>0.0</td>\n",
       "      <td>0.0</td>\n",
       "    </tr>\n",
       "    <tr>\n",
       "      <th>2020-01-10</th>\n",
       "      <td>0.0</td>\n",
       "      <td>0.0</td>\n",
       "      <td>0.0</td>\n",
       "    </tr>\n",
       "    <tr>\n",
       "      <th>2020-01-17</th>\n",
       "      <td>0.0</td>\n",
       "      <td>0.0</td>\n",
       "      <td>0.0</td>\n",
       "    </tr>\n",
       "    <tr>\n",
       "      <th>2020-01-24</th>\n",
       "      <td>0.0</td>\n",
       "      <td>0.0</td>\n",
       "      <td>0.0</td>\n",
       "    </tr>\n",
       "    <tr>\n",
       "      <th>2020-01-31</th>\n",
       "      <td>0.0</td>\n",
       "      <td>0.0</td>\n",
       "      <td>0.0</td>\n",
       "    </tr>\n",
       "    <tr>\n",
       "      <th>...</th>\n",
       "      <td>...</td>\n",
       "      <td>...</td>\n",
       "      <td>...</td>\n",
       "    </tr>\n",
       "    <tr>\n",
       "      <th>2021-12-03</th>\n",
       "      <td>1.0</td>\n",
       "      <td>1.0</td>\n",
       "      <td>0.0</td>\n",
       "    </tr>\n",
       "    <tr>\n",
       "      <th>2021-12-10</th>\n",
       "      <td>1.0</td>\n",
       "      <td>1.0</td>\n",
       "      <td>1.0</td>\n",
       "    </tr>\n",
       "    <tr>\n",
       "      <th>2021-12-17</th>\n",
       "      <td>1.0</td>\n",
       "      <td>1.0</td>\n",
       "      <td>1.0</td>\n",
       "    </tr>\n",
       "    <tr>\n",
       "      <th>2021-12-24</th>\n",
       "      <td>1.0</td>\n",
       "      <td>1.0</td>\n",
       "      <td>0.0</td>\n",
       "    </tr>\n",
       "    <tr>\n",
       "      <th>2021-12-31</th>\n",
       "      <td>0.0</td>\n",
       "      <td>0.0</td>\n",
       "      <td>0.0</td>\n",
       "    </tr>\n",
       "  </tbody>\n",
       "</table>\n",
       "<p>105 rows × 3 columns</p>\n",
       "</div>"
      ],
      "text/plain": [
       "            USDTRY_OUT  EURTRY_OUT  BIST100_OUT\n",
       "Date                                           \n",
       "2020-01-03         0.0         0.0          0.0\n",
       "2020-01-10         0.0         0.0          0.0\n",
       "2020-01-17         0.0         0.0          0.0\n",
       "2020-01-24         0.0         0.0          0.0\n",
       "2020-01-31         0.0         0.0          0.0\n",
       "...                ...         ...          ...\n",
       "2021-12-03         1.0         1.0          0.0\n",
       "2021-12-10         1.0         1.0          1.0\n",
       "2021-12-17         1.0         1.0          1.0\n",
       "2021-12-24         1.0         1.0          0.0\n",
       "2021-12-31         0.0         0.0          0.0\n",
       "\n",
       "[105 rows x 3 columns]"
      ]
     },
     "execution_count": 26,
     "metadata": {},
     "output_type": "execute_result"
    }
   ],
   "source": [
    "all_outliers"
   ]
  },
  {
   "cell_type": "markdown",
   "metadata": {},
   "source": [
    "#### 4.21. [__Yumuşatılmış Seriler__](https://github.com/syncoding/evdsts/blob/master/docs/manuals/manual_en.md#get-smoothed)"
   ]
  },
  {
   "cell_type": "markdown",
   "metadata": {},
   "source": [
    "Serilerden, verilen şart ve metotlara göre yumuşatılmış seriler almak için `smooth()` metodunu kullanabilirsiniz.\n",
    "Serilerin gelecek değerlerinin tahmini amacıyla değil de değişkenler arasındaki genel ilişkinin ortaya çıkarılması\n",
    "için yapılan modellemelerde yumuşatılmış seriler kullanmak iyi bir yoldur. Yumuşatılmış seriler; seriler içindeki\n",
    "aşırı varyansı dışlayarak, dışa düşünlerin genel ilişkileri çarpıtmasına engel olur."
   ]
  },
  {
   "cell_type": "markdown",
   "metadata": {},
   "source": [
    "`smooth()` metodu aşağıdkai gibi seriler üretir:\n",
    "- Yumuşatılmış Değer: Tespit edilen dışa düşen(ler)in yerine.\n",
    "- Orijinal Gözlem: Dışa düşen olarak değerlendirilmeyen değerler.\n",
    "- Yumuşatılmış değerler; verilen yumuşatma metodu (ema ya da sma) ve sınırlara göre yapılır."
   ]
  },
  {
   "cell_type": "code",
   "execution_count": 5,
   "metadata": {},
   "outputs": [],
   "source": [
    "# serileri referans isimleri kullanarak indirelim\n",
    "usdtry = connector.get_series(\"usdtry\",\n",
    "                              start_date=\"01.01.2014\",\n",
    "                              end_date=\"31.12.2021\",\n",
    "                              frequency=\"M\")"
   ]
  },
  {
   "cell_type": "code",
   "execution_count": 6,
   "metadata": {},
   "outputs": [],
   "source": [
    "# serileri referans isimleri kullanarak indirelim\n",
    "rates = connector.get_series(\"usdtry, eurtry\",\n",
    "                              start_date=\"01.01.2014\",\n",
    "                              end_date=\"31.12.2021\",\n",
    "                              frequency=\"M\")"
   ]
  },
  {
   "cell_type": "code",
   "execution_count": 7,
   "metadata": {},
   "outputs": [],
   "source": [
    "# bu, usdtry serisi icinde (eger varsa) medyan mutlak sapma kriterine gore (-3, +3) disinda kalan degerleri\n",
    "# (disa dusenleri) 3 donemlik basit hareketli ortalama kullanarak yumusatir ve yeni bir seri olarak verir.\n",
    "smoothed_mad = transformator.smooth(usdtry, smooth_method='sma', smooth_window=3)"
   ]
  },
  {
   "cell_type": "code",
   "execution_count": 9,
   "metadata": {},
   "outputs": [
    {
     "data": {
      "text/html": [
       "<div>\n",
       "<style scoped>\n",
       "    .dataframe tbody tr th:only-of-type {\n",
       "        vertical-align: middle;\n",
       "    }\n",
       "\n",
       "    .dataframe tbody tr th {\n",
       "        vertical-align: top;\n",
       "    }\n",
       "\n",
       "    .dataframe thead th {\n",
       "        text-align: right;\n",
       "    }\n",
       "</style>\n",
       "<table border=\"1\" class=\"dataframe\">\n",
       "  <thead>\n",
       "    <tr style=\"text-align: right;\">\n",
       "      <th></th>\n",
       "      <th>USDTRY</th>\n",
       "      <th>USDTRY_SMOOTH</th>\n",
       "    </tr>\n",
       "    <tr>\n",
       "      <th>Date</th>\n",
       "      <th></th>\n",
       "      <th></th>\n",
       "    </tr>\n",
       "  </thead>\n",
       "  <tbody>\n",
       "    <tr>\n",
       "      <th>2021-03-31</th>\n",
       "      <td>7.628235</td>\n",
       "      <td>7.628235</td>\n",
       "    </tr>\n",
       "    <tr>\n",
       "      <th>2021-04-30</th>\n",
       "      <td>8.155024</td>\n",
       "      <td>8.155024</td>\n",
       "    </tr>\n",
       "    <tr>\n",
       "      <th>2021-05-31</th>\n",
       "      <td>8.342250</td>\n",
       "      <td>8.342250</td>\n",
       "    </tr>\n",
       "    <tr>\n",
       "      <th>2021-06-30</th>\n",
       "      <td>8.596682</td>\n",
       "      <td>8.596682</td>\n",
       "    </tr>\n",
       "    <tr>\n",
       "      <th>2021-07-31</th>\n",
       "      <td>8.612941</td>\n",
       "      <td>8.612941</td>\n",
       "    </tr>\n",
       "    <tr>\n",
       "      <th>2021-08-31</th>\n",
       "      <td>8.475715</td>\n",
       "      <td>8.475715</td>\n",
       "    </tr>\n",
       "    <tr>\n",
       "      <th>2021-09-30</th>\n",
       "      <td>8.511882</td>\n",
       "      <td>8.511882</td>\n",
       "    </tr>\n",
       "    <tr>\n",
       "      <th>2021-10-31</th>\n",
       "      <td>9.139945</td>\n",
       "      <td>9.139945</td>\n",
       "    </tr>\n",
       "    <tr>\n",
       "      <th>2021-11-30</th>\n",
       "      <td>10.523264</td>\n",
       "      <td>10.523264</td>\n",
       "    </tr>\n",
       "    <tr>\n",
       "      <th>2021-12-31</th>\n",
       "      <td>13.528496</td>\n",
       "      <td>11.063902</td>\n",
       "    </tr>\n",
       "  </tbody>\n",
       "</table>\n",
       "</div>"
      ],
      "text/plain": [
       "               USDTRY  USDTRY_SMOOTH\n",
       "Date                                \n",
       "2021-03-31   7.628235       7.628235\n",
       "2021-04-30   8.155024       8.155024\n",
       "2021-05-31   8.342250       8.342250\n",
       "2021-06-30   8.596682       8.596682\n",
       "2021-07-31   8.612941       8.612941\n",
       "2021-08-31   8.475715       8.475715\n",
       "2021-09-30   8.511882       8.511882\n",
       "2021-10-31   9.139945       9.139945\n",
       "2021-11-30  10.523264      10.523264\n",
       "2021-12-31  13.528496      11.063902"
      ]
     },
     "execution_count": 9,
     "metadata": {},
     "output_type": "execute_result"
    }
   ],
   "source": [
    "smoothed_mad.tail(10)"
   ]
  },
  {
   "cell_type": "code",
   "execution_count": 10,
   "metadata": {},
   "outputs": [
    {
     "data": {
      "image/png": "[encoded data removed]",
      "text/plain": [
       "<Figure size 432x288 with 1 Axes>"
      ]
     },
     "metadata": {
      "needs_background": "light"
     },
     "output_type": "display_data"
    }
   ],
   "source": [
    "# asagidaki grafigi gorebilmek icin 'matplotlib' paketine ihtiyaciniz oldugunu unutmayin\n",
    "smoothed_mad.plot();"
   ]
  },
  {
   "cell_type": "code",
   "execution_count": 11,
   "metadata": {},
   "outputs": [],
   "source": [
    "# bu, usdtry serisi icinde (eger varsa) medyan mutlak sapma kriterine gore (-3, +3) disinda kalan degerleri\n",
    "# (disa dusenleri) 2 donemlik üssel hareketli ortalama kullanarak yumusatir ve yeni bir seri olarak verir.\n",
    "smoothed_mad = transformator.smooth(usdtry, smooth_method='ema', smooth_window=2)"
   ]
  },
  {
   "cell_type": "code",
   "execution_count": 12,
   "metadata": {},
   "outputs": [
    {
     "data": {
      "text/html": [
       "<div>\n",
       "<style scoped>\n",
       "    .dataframe tbody tr th:only-of-type {\n",
       "        vertical-align: middle;\n",
       "    }\n",
       "\n",
       "    .dataframe tbody tr th {\n",
       "        vertical-align: top;\n",
       "    }\n",
       "\n",
       "    .dataframe thead th {\n",
       "        text-align: right;\n",
       "    }\n",
       "</style>\n",
       "<table border=\"1\" class=\"dataframe\">\n",
       "  <thead>\n",
       "    <tr style=\"text-align: right;\">\n",
       "      <th></th>\n",
       "      <th>USDTRY</th>\n",
       "      <th>USDTRY_SMOOTH</th>\n",
       "    </tr>\n",
       "    <tr>\n",
       "      <th>Date</th>\n",
       "      <th></th>\n",
       "      <th></th>\n",
       "    </tr>\n",
       "  </thead>\n",
       "  <tbody>\n",
       "    <tr>\n",
       "      <th>2021-03-31</th>\n",
       "      <td>7.628235</td>\n",
       "      <td>7.628235</td>\n",
       "    </tr>\n",
       "    <tr>\n",
       "      <th>2021-04-30</th>\n",
       "      <td>8.155024</td>\n",
       "      <td>8.155024</td>\n",
       "    </tr>\n",
       "    <tr>\n",
       "      <th>2021-05-31</th>\n",
       "      <td>8.342250</td>\n",
       "      <td>8.342250</td>\n",
       "    </tr>\n",
       "    <tr>\n",
       "      <th>2021-06-30</th>\n",
       "      <td>8.596682</td>\n",
       "      <td>8.596682</td>\n",
       "    </tr>\n",
       "    <tr>\n",
       "      <th>2021-07-31</th>\n",
       "      <td>8.612941</td>\n",
       "      <td>8.612941</td>\n",
       "    </tr>\n",
       "    <tr>\n",
       "      <th>2021-08-31</th>\n",
       "      <td>8.475715</td>\n",
       "      <td>8.475715</td>\n",
       "    </tr>\n",
       "    <tr>\n",
       "      <th>2021-09-30</th>\n",
       "      <td>8.511882</td>\n",
       "      <td>8.511882</td>\n",
       "    </tr>\n",
       "    <tr>\n",
       "      <th>2021-10-31</th>\n",
       "      <td>9.139945</td>\n",
       "      <td>9.139945</td>\n",
       "    </tr>\n",
       "    <tr>\n",
       "      <th>2021-11-30</th>\n",
       "      <td>10.523264</td>\n",
       "      <td>10.523264</td>\n",
       "    </tr>\n",
       "    <tr>\n",
       "      <th>2021-12-31</th>\n",
       "      <td>13.528496</td>\n",
       "      <td>12.349706</td>\n",
       "    </tr>\n",
       "  </tbody>\n",
       "</table>\n",
       "</div>"
      ],
      "text/plain": [
       "               USDTRY  USDTRY_SMOOTH\n",
       "Date                                \n",
       "2021-03-31   7.628235       7.628235\n",
       "2021-04-30   8.155024       8.155024\n",
       "2021-05-31   8.342250       8.342250\n",
       "2021-06-30   8.596682       8.596682\n",
       "2021-07-31   8.612941       8.612941\n",
       "2021-08-31   8.475715       8.475715\n",
       "2021-09-30   8.511882       8.511882\n",
       "2021-10-31   9.139945       9.139945\n",
       "2021-11-30  10.523264      10.523264\n",
       "2021-12-31  13.528496      12.349706"
      ]
     },
     "execution_count": 12,
     "metadata": {},
     "output_type": "execute_result"
    }
   ],
   "source": [
    "smoothed_mad.tail(10)"
   ]
  },
  {
   "cell_type": "code",
   "execution_count": 13,
   "metadata": {},
   "outputs": [
    {
     "data": {
      "image/png": "[encoded data removed]",
      "text/plain": [
       "<Figure size 432x288 with 1 Axes>"
      ]
     },
     "metadata": {
      "needs_background": "light"
     },
     "output_type": "display_data"
    }
   ],
   "source": [
    "# asagidaki grafigi gorebilmek icin 'matplotlib' paketine ihtiyaciniz oldugunu unutmayin\n",
    "smoothed_mad.plot();"
   ]
  },
  {
   "cell_type": "markdown",
   "metadata": {},
   "source": [
    "`smooth()`; çoğul seriler için de kullanılabilir."
   ]
  },
  {
   "cell_type": "code",
   "execution_count": 14,
   "metadata": {},
   "outputs": [],
   "source": [
    "# bu, kur serilerini z-skoru degerleri ve (-2.56, +2.56) sınırlarına göre değerlendirerek dışa düşenleri\n",
    "# tespit eder ve (eğer varsa) bu değerler yerine serilerin 3 dönemlik üssel hareketli ortalamalarını\n",
    "# bu değerler yerine kullanarak yumuşatılmış kur serileri üretir.\n",
    "smoothed_rates = transformator.smooth(\n",
    "    series=rates,\n",
    "    method='z',\n",
    "    critical_lower=-2.56,\n",
    "    critical_upper=2.56,\n",
    "    smooth_method='ema',\n",
    "    smooth_window=3,\n",
    "    keep_originals=False,\n",
    "    precision=2\n",
    ")"
   ]
  },
  {
   "cell_type": "code",
   "execution_count": 15,
   "metadata": {},
   "outputs": [
    {
     "data": {
      "text/html": [
       "<div>\n",
       "<style scoped>\n",
       "    .dataframe tbody tr th:only-of-type {\n",
       "        vertical-align: middle;\n",
       "    }\n",
       "\n",
       "    .dataframe tbody tr th {\n",
       "        vertical-align: top;\n",
       "    }\n",
       "\n",
       "    .dataframe thead th {\n",
       "        text-align: right;\n",
       "    }\n",
       "</style>\n",
       "<table border=\"1\" class=\"dataframe\">\n",
       "  <thead>\n",
       "    <tr style=\"text-align: right;\">\n",
       "      <th></th>\n",
       "      <th>USDTRY_SMOOTH</th>\n",
       "      <th>EURTRY_SMOOTH</th>\n",
       "    </tr>\n",
       "    <tr>\n",
       "      <th>Date</th>\n",
       "      <th></th>\n",
       "      <th></th>\n",
       "    </tr>\n",
       "  </thead>\n",
       "  <tbody>\n",
       "    <tr>\n",
       "      <th>2021-03-31</th>\n",
       "      <td>7.63</td>\n",
       "      <td>9.09</td>\n",
       "    </tr>\n",
       "    <tr>\n",
       "      <th>2021-04-30</th>\n",
       "      <td>8.16</td>\n",
       "      <td>9.73</td>\n",
       "    </tr>\n",
       "    <tr>\n",
       "      <th>2021-05-31</th>\n",
       "      <td>8.34</td>\n",
       "      <td>10.13</td>\n",
       "    </tr>\n",
       "    <tr>\n",
       "      <th>2021-06-30</th>\n",
       "      <td>8.60</td>\n",
       "      <td>10.37</td>\n",
       "    </tr>\n",
       "    <tr>\n",
       "      <th>2021-07-31</th>\n",
       "      <td>8.61</td>\n",
       "      <td>10.19</td>\n",
       "    </tr>\n",
       "    <tr>\n",
       "      <th>2021-08-31</th>\n",
       "      <td>8.48</td>\n",
       "      <td>9.98</td>\n",
       "    </tr>\n",
       "    <tr>\n",
       "      <th>2021-09-30</th>\n",
       "      <td>8.51</td>\n",
       "      <td>10.03</td>\n",
       "    </tr>\n",
       "    <tr>\n",
       "      <th>2021-10-31</th>\n",
       "      <td>9.14</td>\n",
       "      <td>10.60</td>\n",
       "    </tr>\n",
       "    <tr>\n",
       "      <th>2021-11-30</th>\n",
       "      <td>10.52</td>\n",
       "      <td>12.01</td>\n",
       "    </tr>\n",
       "    <tr>\n",
       "      <th>2021-12-31</th>\n",
       "      <td>11.60</td>\n",
       "      <td>13.23</td>\n",
       "    </tr>\n",
       "  </tbody>\n",
       "</table>\n",
       "</div>"
      ],
      "text/plain": [
       "            USDTRY_SMOOTH  EURTRY_SMOOTH\n",
       "Date                                    \n",
       "2021-03-31           7.63           9.09\n",
       "2021-04-30           8.16           9.73\n",
       "2021-05-31           8.34          10.13\n",
       "2021-06-30           8.60          10.37\n",
       "2021-07-31           8.61          10.19\n",
       "2021-08-31           8.48           9.98\n",
       "2021-09-30           8.51          10.03\n",
       "2021-10-31           9.14          10.60\n",
       "2021-11-30          10.52          12.01\n",
       "2021-12-31          11.60          13.23"
      ]
     },
     "execution_count": 15,
     "metadata": {},
     "output_type": "execute_result"
    }
   ],
   "source": [
    "smoothed_rates.tail(10)"
   ]
  },
  {
   "cell_type": "code",
   "execution_count": 16,
   "metadata": {},
   "outputs": [
    {
     "data": {
      "image/png": "[encoded data removed]",
      "text/plain": [
       "<Figure size 432x288 with 1 Axes>"
      ]
     },
     "metadata": {
      "needs_background": "light"
     },
     "output_type": "display_data"
    }
   ],
   "source": [
    "# asagidaki grafigi gorebilmek icin 'matplotlib' paketine ihtiyaciniz oldugunu unutmayin\n",
    "smoothed_rates.plot();"
   ]
  },
  {
   "cell_type": "markdown",
   "metadata": {},
   "source": [
    "### 5. [__Connector ve Transformator Metotlarını Birleştirme__](https://github.com/syncoding/evdsts/blob/master/docs/manuals/manual_en.md#joining-methods)"
   ]
  },
  {
   "cell_type": "markdown",
   "metadata": {},
   "source": [
    "Eğer isterseniz `Connector` ve `Transformator` metotlarını birleştirerek zincir metotlar oluşturabilirsiniz."
   ]
  },
  {
   "cell_type": "code",
   "execution_count": 17,
   "metadata": {},
   "outputs": [],
   "source": [
    "connector = Connector()          # API anahtarınızı diske kaydetmis oldugunuzu varsayiyioruz.\n",
    "transformator = Transformator()"
   ]
  },
  {
   "cell_type": "markdown",
   "metadata": {},
   "source": [
    "Asagidaki ornekler asagidaki referans isimleri diske kaydetmis oldugunuzu varsayiyor:\n",
    "- usdtry -> 'TP.DK.USD.A.YTL'\n",
    "- eurtry -> 'TP.DK.EUR.A.YTL'"
   ]
  },
  {
   "cell_type": "code",
   "execution_count": 18,
   "metadata": {},
   "outputs": [],
   "source": [
    "# bu, yumusatilmis usdtry ve eurtry serilerini verir\n",
    "smoothed_rates = (\n",
    "    transformator\n",
    "    .smooth(\n",
    "            connector\n",
    "            .get_series(\"usdtry, eurtry\", start_date=\"01.01.2014\", end_date=\"31.12.2021\", frequency=\"M\")\n",
    "    )\n",
    ")"
   ]
  },
  {
   "cell_type": "code",
   "execution_count": 19,
   "metadata": {},
   "outputs": [
    {
     "data": {
      "text/html": [
       "<div>\n",
       "<style scoped>\n",
       "    .dataframe tbody tr th:only-of-type {\n",
       "        vertical-align: middle;\n",
       "    }\n",
       "\n",
       "    .dataframe tbody tr th {\n",
       "        vertical-align: top;\n",
       "    }\n",
       "\n",
       "    .dataframe thead th {\n",
       "        text-align: right;\n",
       "    }\n",
       "</style>\n",
       "<table border=\"1\" class=\"dataframe\">\n",
       "  <thead>\n",
       "    <tr style=\"text-align: right;\">\n",
       "      <th></th>\n",
       "      <th>USDTRY</th>\n",
       "      <th>EURTRY</th>\n",
       "      <th>USDTRY_SMOOTH</th>\n",
       "      <th>EURTRY_SMOOTH</th>\n",
       "    </tr>\n",
       "    <tr>\n",
       "      <th>Date</th>\n",
       "      <th></th>\n",
       "      <th></th>\n",
       "      <th></th>\n",
       "      <th></th>\n",
       "    </tr>\n",
       "  </thead>\n",
       "  <tbody>\n",
       "    <tr>\n",
       "      <th>2021-03-31</th>\n",
       "      <td>7.628235</td>\n",
       "      <td>9.091334</td>\n",
       "      <td>7.628235</td>\n",
       "      <td>9.091334</td>\n",
       "    </tr>\n",
       "    <tr>\n",
       "      <th>2021-04-30</th>\n",
       "      <td>8.155024</td>\n",
       "      <td>9.733895</td>\n",
       "      <td>8.155024</td>\n",
       "      <td>9.733895</td>\n",
       "    </tr>\n",
       "    <tr>\n",
       "      <th>2021-05-31</th>\n",
       "      <td>8.342250</td>\n",
       "      <td>10.130661</td>\n",
       "      <td>8.342250</td>\n",
       "      <td>10.130661</td>\n",
       "    </tr>\n",
       "    <tr>\n",
       "      <th>2021-06-30</th>\n",
       "      <td>8.596682</td>\n",
       "      <td>10.371214</td>\n",
       "      <td>8.596682</td>\n",
       "      <td>10.371214</td>\n",
       "    </tr>\n",
       "    <tr>\n",
       "      <th>2021-07-31</th>\n",
       "      <td>8.612941</td>\n",
       "      <td>10.192188</td>\n",
       "      <td>8.612941</td>\n",
       "      <td>10.192188</td>\n",
       "    </tr>\n",
       "    <tr>\n",
       "      <th>2021-08-31</th>\n",
       "      <td>8.475715</td>\n",
       "      <td>9.978305</td>\n",
       "      <td>8.475715</td>\n",
       "      <td>9.978305</td>\n",
       "    </tr>\n",
       "    <tr>\n",
       "      <th>2021-09-30</th>\n",
       "      <td>8.511882</td>\n",
       "      <td>10.028577</td>\n",
       "      <td>8.511882</td>\n",
       "      <td>10.028577</td>\n",
       "    </tr>\n",
       "    <tr>\n",
       "      <th>2021-10-31</th>\n",
       "      <td>9.139945</td>\n",
       "      <td>10.601325</td>\n",
       "      <td>9.139945</td>\n",
       "      <td>10.601325</td>\n",
       "    </tr>\n",
       "    <tr>\n",
       "      <th>2021-11-30</th>\n",
       "      <td>10.523264</td>\n",
       "      <td>12.011395</td>\n",
       "      <td>10.523264</td>\n",
       "      <td>11.478622</td>\n",
       "    </tr>\n",
       "    <tr>\n",
       "      <th>2021-12-31</th>\n",
       "      <td>13.528496</td>\n",
       "      <td>15.289578</td>\n",
       "      <td>12.349706</td>\n",
       "      <td>14.019260</td>\n",
       "    </tr>\n",
       "  </tbody>\n",
       "</table>\n",
       "</div>"
      ],
      "text/plain": [
       "               USDTRY     EURTRY  USDTRY_SMOOTH  EURTRY_SMOOTH\n",
       "Date                                                          \n",
       "2021-03-31   7.628235   9.091334       7.628235       9.091334\n",
       "2021-04-30   8.155024   9.733895       8.155024       9.733895\n",
       "2021-05-31   8.342250  10.130661       8.342250      10.130661\n",
       "2021-06-30   8.596682  10.371214       8.596682      10.371214\n",
       "2021-07-31   8.612941  10.192188       8.612941      10.192188\n",
       "2021-08-31   8.475715   9.978305       8.475715       9.978305\n",
       "2021-09-30   8.511882  10.028577       8.511882      10.028577\n",
       "2021-10-31   9.139945  10.601325       9.139945      10.601325\n",
       "2021-11-30  10.523264  12.011395      10.523264      11.478622\n",
       "2021-12-31  13.528496  15.289578      12.349706      14.019260"
      ]
     },
     "execution_count": 19,
     "metadata": {},
     "output_type": "execute_result"
    }
   ],
   "source": [
    "smoothed_rates.tail(10)"
   ]
  },
  {
   "cell_type": "code",
   "execution_count": 20,
   "metadata": {},
   "outputs": [],
   "source": [
    "# bu da yumusatilmis usdtry ve eurtry serilerini verir\n",
    "smoothed_rates = transformator.smooth(\n",
    "    connector.get_series(\"usdtry, eurtry\", start_date=\"01.01.2014\", end_date=\"31.12.2021\", frequency=\"M\")\n",
    ")"
   ]
  },
  {
   "cell_type": "code",
   "execution_count": 21,
   "metadata": {},
   "outputs": [
    {
     "data": {
      "text/html": [
       "<div>\n",
       "<style scoped>\n",
       "    .dataframe tbody tr th:only-of-type {\n",
       "        vertical-align: middle;\n",
       "    }\n",
       "\n",
       "    .dataframe tbody tr th {\n",
       "        vertical-align: top;\n",
       "    }\n",
       "\n",
       "    .dataframe thead th {\n",
       "        text-align: right;\n",
       "    }\n",
       "</style>\n",
       "<table border=\"1\" class=\"dataframe\">\n",
       "  <thead>\n",
       "    <tr style=\"text-align: right;\">\n",
       "      <th></th>\n",
       "      <th>USDTRY</th>\n",
       "      <th>EURTRY</th>\n",
       "      <th>USDTRY_SMOOTH</th>\n",
       "      <th>EURTRY_SMOOTH</th>\n",
       "    </tr>\n",
       "    <tr>\n",
       "      <th>Date</th>\n",
       "      <th></th>\n",
       "      <th></th>\n",
       "      <th></th>\n",
       "      <th></th>\n",
       "    </tr>\n",
       "  </thead>\n",
       "  <tbody>\n",
       "    <tr>\n",
       "      <th>2021-03-31</th>\n",
       "      <td>7.628235</td>\n",
       "      <td>9.091334</td>\n",
       "      <td>7.628235</td>\n",
       "      <td>9.091334</td>\n",
       "    </tr>\n",
       "    <tr>\n",
       "      <th>2021-04-30</th>\n",
       "      <td>8.155024</td>\n",
       "      <td>9.733895</td>\n",
       "      <td>8.155024</td>\n",
       "      <td>9.733895</td>\n",
       "    </tr>\n",
       "    <tr>\n",
       "      <th>2021-05-31</th>\n",
       "      <td>8.342250</td>\n",
       "      <td>10.130661</td>\n",
       "      <td>8.342250</td>\n",
       "      <td>10.130661</td>\n",
       "    </tr>\n",
       "    <tr>\n",
       "      <th>2021-06-30</th>\n",
       "      <td>8.596682</td>\n",
       "      <td>10.371214</td>\n",
       "      <td>8.596682</td>\n",
       "      <td>10.371214</td>\n",
       "    </tr>\n",
       "    <tr>\n",
       "      <th>2021-07-31</th>\n",
       "      <td>8.612941</td>\n",
       "      <td>10.192188</td>\n",
       "      <td>8.612941</td>\n",
       "      <td>10.192188</td>\n",
       "    </tr>\n",
       "    <tr>\n",
       "      <th>2021-08-31</th>\n",
       "      <td>8.475715</td>\n",
       "      <td>9.978305</td>\n",
       "      <td>8.475715</td>\n",
       "      <td>9.978305</td>\n",
       "    </tr>\n",
       "    <tr>\n",
       "      <th>2021-09-30</th>\n",
       "      <td>8.511882</td>\n",
       "      <td>10.028577</td>\n",
       "      <td>8.511882</td>\n",
       "      <td>10.028577</td>\n",
       "    </tr>\n",
       "    <tr>\n",
       "      <th>2021-10-31</th>\n",
       "      <td>9.139945</td>\n",
       "      <td>10.601325</td>\n",
       "      <td>9.139945</td>\n",
       "      <td>10.601325</td>\n",
       "    </tr>\n",
       "    <tr>\n",
       "      <th>2021-11-30</th>\n",
       "      <td>10.523264</td>\n",
       "      <td>12.011395</td>\n",
       "      <td>10.523264</td>\n",
       "      <td>11.478622</td>\n",
       "    </tr>\n",
       "    <tr>\n",
       "      <th>2021-12-31</th>\n",
       "      <td>13.528496</td>\n",
       "      <td>15.289578</td>\n",
       "      <td>12.349706</td>\n",
       "      <td>14.019260</td>\n",
       "    </tr>\n",
       "  </tbody>\n",
       "</table>\n",
       "</div>"
      ],
      "text/plain": [
       "               USDTRY     EURTRY  USDTRY_SMOOTH  EURTRY_SMOOTH\n",
       "Date                                                          \n",
       "2021-03-31   7.628235   9.091334       7.628235       9.091334\n",
       "2021-04-30   8.155024   9.733895       8.155024       9.733895\n",
       "2021-05-31   8.342250  10.130661       8.342250      10.130661\n",
       "2021-06-30   8.596682  10.371214       8.596682      10.371214\n",
       "2021-07-31   8.612941  10.192188       8.612941      10.192188\n",
       "2021-08-31   8.475715   9.978305       8.475715       9.978305\n",
       "2021-09-30   8.511882  10.028577       8.511882      10.028577\n",
       "2021-10-31   9.139945  10.601325       9.139945      10.601325\n",
       "2021-11-30  10.523264  12.011395      10.523264      11.478622\n",
       "2021-12-31  13.528496  15.289578      12.349706      14.019260"
      ]
     },
     "execution_count": 21,
     "metadata": {},
     "output_type": "execute_result"
    }
   ],
   "source": [
    "smoothed_rates.tail(10)"
   ]
  },
  {
   "cell_type": "code",
   "execution_count": 23,
   "metadata": {},
   "outputs": [],
   "source": [
    "# bu, z-skoru ve (-1.96, +1.96) sınır degerlerine göre yumusatilmis usdtry ve eurtry serilerini verir,\n",
    "# burada 'keep_originals' parametresi 'False' olarak ayarlandigi icin geri donen seriler icinde\n",
    "# orijinal serilerin olmayacagina dikkat edin.\n",
    "smoothed_rates = (\n",
    "    transformator\n",
    "    .smooth(\n",
    "        series=connector.get_series(\"usdtry, eurtry\", start_date=\"01.01.2014\", end_date=\"31.12.2021\", frequency=\"M\"),\n",
    "        method=\"z\", critical_lower=-1.96, critical_upper=1.96, keep_originals=False\n",
    "    )\n",
    ")"
   ]
  },
  {
   "cell_type": "code",
   "execution_count": 24,
   "metadata": {},
   "outputs": [
    {
     "data": {
      "text/html": [
       "<div>\n",
       "<style scoped>\n",
       "    .dataframe tbody tr th:only-of-type {\n",
       "        vertical-align: middle;\n",
       "    }\n",
       "\n",
       "    .dataframe tbody tr th {\n",
       "        vertical-align: top;\n",
       "    }\n",
       "\n",
       "    .dataframe thead th {\n",
       "        text-align: right;\n",
       "    }\n",
       "</style>\n",
       "<table border=\"1\" class=\"dataframe\">\n",
       "  <thead>\n",
       "    <tr style=\"text-align: right;\">\n",
       "      <th></th>\n",
       "      <th>USDTRY_SMOOTH</th>\n",
       "      <th>EURTRY_SMOOTH</th>\n",
       "    </tr>\n",
       "    <tr>\n",
       "      <th>Date</th>\n",
       "      <th></th>\n",
       "      <th></th>\n",
       "    </tr>\n",
       "  </thead>\n",
       "  <tbody>\n",
       "    <tr>\n",
       "      <th>2021-03-31</th>\n",
       "      <td>7.628235</td>\n",
       "      <td>9.091334</td>\n",
       "    </tr>\n",
       "    <tr>\n",
       "      <th>2021-04-30</th>\n",
       "      <td>8.155024</td>\n",
       "      <td>9.733895</td>\n",
       "    </tr>\n",
       "    <tr>\n",
       "      <th>2021-05-31</th>\n",
       "      <td>8.342250</td>\n",
       "      <td>10.130661</td>\n",
       "    </tr>\n",
       "    <tr>\n",
       "      <th>2021-06-30</th>\n",
       "      <td>8.596682</td>\n",
       "      <td>10.371214</td>\n",
       "    </tr>\n",
       "    <tr>\n",
       "      <th>2021-07-31</th>\n",
       "      <td>8.612941</td>\n",
       "      <td>10.192188</td>\n",
       "    </tr>\n",
       "    <tr>\n",
       "      <th>2021-08-31</th>\n",
       "      <td>8.475715</td>\n",
       "      <td>9.978305</td>\n",
       "    </tr>\n",
       "    <tr>\n",
       "      <th>2021-09-30</th>\n",
       "      <td>8.511882</td>\n",
       "      <td>10.028577</td>\n",
       "    </tr>\n",
       "    <tr>\n",
       "      <th>2021-10-31</th>\n",
       "      <td>9.139945</td>\n",
       "      <td>10.601325</td>\n",
       "    </tr>\n",
       "    <tr>\n",
       "      <th>2021-11-30</th>\n",
       "      <td>9.992125</td>\n",
       "      <td>11.478622</td>\n",
       "    </tr>\n",
       "    <tr>\n",
       "      <th>2021-12-31</th>\n",
       "      <td>12.349706</td>\n",
       "      <td>14.019260</td>\n",
       "    </tr>\n",
       "  </tbody>\n",
       "</table>\n",
       "</div>"
      ],
      "text/plain": [
       "            USDTRY_SMOOTH  EURTRY_SMOOTH\n",
       "Date                                    \n",
       "2021-03-31       7.628235       9.091334\n",
       "2021-04-30       8.155024       9.733895\n",
       "2021-05-31       8.342250      10.130661\n",
       "2021-06-30       8.596682      10.371214\n",
       "2021-07-31       8.612941      10.192188\n",
       "2021-08-31       8.475715       9.978305\n",
       "2021-09-30       8.511882      10.028577\n",
       "2021-10-31       9.139945      10.601325\n",
       "2021-11-30       9.992125      11.478622\n",
       "2021-12-31      12.349706      14.019260"
      ]
     },
     "execution_count": 24,
     "metadata": {},
     "output_type": "execute_result"
    }
   ],
   "source": [
    "smoothed_rates.tail(10)"
   ]
  },
  {
   "cell_type": "code",
   "execution_count": 30,
   "metadata": {},
   "outputs": [],
   "source": [
    "# bu, sma(usdtry, window=3), sma(eurtry, window=3) ve 2 adet kukla degisken serisi verir. Bunlar:\n",
    "\n",
    "# USDTRY_SMA_3_GTT_9:\n",
    "# 1, eger 12 < sma(usdtry, 3) < 10\n",
    "# 0, aksi halde\n",
    "\n",
    "# EURTRY_SMA_3_GTT_9:\n",
    "# 1, eger 12 < sma(eurtry, 3) < 10\n",
    "# 0, aksi halde\n",
    "\n",
    "rates_sma_3_dummy = (\n",
    "    transformator\n",
    "     .dummy(\n",
    "        transformator\n",
    "         .sma(\n",
    "            connector\n",
    "                .get_series(\"usdtry, eurtry\", start_date=\"01.01.2014\", end_date=\"31.12.2021\", frequency=\"M\")\n",
    "         , window=3, keep_originals=False)\n",
    "     , condition=\"()\", threshold=(10, 12)\n",
    "     )\n",
    ")"
   ]
  },
  {
   "cell_type": "code",
   "execution_count": 31,
   "metadata": {},
   "outputs": [
    {
     "data": {
      "text/html": [
       "<div>\n",
       "<style scoped>\n",
       "    .dataframe tbody tr th:only-of-type {\n",
       "        vertical-align: middle;\n",
       "    }\n",
       "\n",
       "    .dataframe tbody tr th {\n",
       "        vertical-align: top;\n",
       "    }\n",
       "\n",
       "    .dataframe thead th {\n",
       "        text-align: right;\n",
       "    }\n",
       "</style>\n",
       "<table border=\"1\" class=\"dataframe\">\n",
       "  <thead>\n",
       "    <tr style=\"text-align: right;\">\n",
       "      <th></th>\n",
       "      <th>USDTRY_SMA_3</th>\n",
       "      <th>EURTRY_SMA_3</th>\n",
       "      <th>USDTRY_SMA_3_CBOUND</th>\n",
       "      <th>EURTRY_SMA_3_CBOUND</th>\n",
       "    </tr>\n",
       "    <tr>\n",
       "      <th>Date</th>\n",
       "      <th></th>\n",
       "      <th></th>\n",
       "      <th></th>\n",
       "      <th></th>\n",
       "    </tr>\n",
       "  </thead>\n",
       "  <tbody>\n",
       "    <tr>\n",
       "      <th>2014-01-31</th>\n",
       "      <td>2.216836</td>\n",
       "      <td>3.021532</td>\n",
       "      <td>0.0</td>\n",
       "      <td>0.0</td>\n",
       "    </tr>\n",
       "    <tr>\n",
       "      <th>2014-02-28</th>\n",
       "      <td>2.214798</td>\n",
       "      <td>3.020473</td>\n",
       "      <td>0.0</td>\n",
       "      <td>0.0</td>\n",
       "    </tr>\n",
       "    <tr>\n",
       "      <th>2014-03-31</th>\n",
       "      <td>2.215797</td>\n",
       "      <td>3.035573</td>\n",
       "      <td>0.0</td>\n",
       "      <td>0.0</td>\n",
       "    </tr>\n",
       "    <tr>\n",
       "      <th>2014-04-30</th>\n",
       "      <td>2.186009</td>\n",
       "      <td>3.007810</td>\n",
       "      <td>0.0</td>\n",
       "      <td>0.0</td>\n",
       "    </tr>\n",
       "    <tr>\n",
       "      <th>2014-05-31</th>\n",
       "      <td>2.145357</td>\n",
       "      <td>2.959498</td>\n",
       "      <td>0.0</td>\n",
       "      <td>0.0</td>\n",
       "    </tr>\n",
       "    <tr>\n",
       "      <th>...</th>\n",
       "      <td>...</td>\n",
       "      <td>...</td>\n",
       "      <td>...</td>\n",
       "      <td>...</td>\n",
       "    </tr>\n",
       "    <tr>\n",
       "      <th>2021-08-31</th>\n",
       "      <td>8.561779</td>\n",
       "      <td>10.180569</td>\n",
       "      <td>0.0</td>\n",
       "      <td>1.0</td>\n",
       "    </tr>\n",
       "    <tr>\n",
       "      <th>2021-09-30</th>\n",
       "      <td>8.533512</td>\n",
       "      <td>10.066357</td>\n",
       "      <td>0.0</td>\n",
       "      <td>1.0</td>\n",
       "    </tr>\n",
       "    <tr>\n",
       "      <th>2021-10-31</th>\n",
       "      <td>8.709181</td>\n",
       "      <td>10.202736</td>\n",
       "      <td>0.0</td>\n",
       "      <td>1.0</td>\n",
       "    </tr>\n",
       "    <tr>\n",
       "      <th>2021-11-30</th>\n",
       "      <td>9.391697</td>\n",
       "      <td>10.880432</td>\n",
       "      <td>0.0</td>\n",
       "      <td>1.0</td>\n",
       "    </tr>\n",
       "    <tr>\n",
       "      <th>2021-12-31</th>\n",
       "      <td>11.063902</td>\n",
       "      <td>12.634100</td>\n",
       "      <td>1.0</td>\n",
       "      <td>0.0</td>\n",
       "    </tr>\n",
       "  </tbody>\n",
       "</table>\n",
       "<p>96 rows × 4 columns</p>\n",
       "</div>"
      ],
      "text/plain": [
       "            USDTRY_SMA_3  EURTRY_SMA_3  USDTRY_SMA_3_CBOUND  \\\n",
       "Date                                                          \n",
       "2014-01-31      2.216836      3.021532                  0.0   \n",
       "2014-02-28      2.214798      3.020473                  0.0   \n",
       "2014-03-31      2.215797      3.035573                  0.0   \n",
       "2014-04-30      2.186009      3.007810                  0.0   \n",
       "2014-05-31      2.145357      2.959498                  0.0   \n",
       "...                  ...           ...                  ...   \n",
       "2021-08-31      8.561779     10.180569                  0.0   \n",
       "2021-09-30      8.533512     10.066357                  0.0   \n",
       "2021-10-31      8.709181     10.202736                  0.0   \n",
       "2021-11-30      9.391697     10.880432                  0.0   \n",
       "2021-12-31     11.063902     12.634100                  1.0   \n",
       "\n",
       "            EURTRY_SMA_3_CBOUND  \n",
       "Date                             \n",
       "2014-01-31                  0.0  \n",
       "2014-02-28                  0.0  \n",
       "2014-03-31                  0.0  \n",
       "2014-04-30                  0.0  \n",
       "2014-05-31                  0.0  \n",
       "...                         ...  \n",
       "2021-08-31                  1.0  \n",
       "2021-09-30                  1.0  \n",
       "2021-10-31                  1.0  \n",
       "2021-11-30                  1.0  \n",
       "2021-12-31                  0.0  \n",
       "\n",
       "[96 rows x 4 columns]"
      ]
     },
     "execution_count": 31,
     "metadata": {},
     "output_type": "execute_result"
    }
   ],
   "source": [
    "rates_sma_3_dummy"
   ]
  }
 ],
 "metadata": {
  "kernelspec": {
   "display_name": "Python 3.10.5 ('Qm')",
   "language": "python",
   "name": "python3"
  },
  "language_info": {
   "codemirror_mode": {
    "name": "ipython",
    "version": 3
   },
   "file_extension": ".py",
   "mimetype": "text/x-python",
   "name": "python",
   "nbconvert_exporter": "python",
   "pygments_lexer": "ipython3",
   "version": "3.10.5"
  },
  "orig_nbformat": 4,
  "vscode": {
   "interpreter": {
    "hash": "9b5d5f52f0eb00b3f80a828085e42f4cfad4a8de887a9a64d94e5ff6fbac43fb"
   }
  }
 },
 "nbformat": 4,
 "nbformat_minor": 2
}
